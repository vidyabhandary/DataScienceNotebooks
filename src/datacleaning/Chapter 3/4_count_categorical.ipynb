{
 "cells": [
  {
   "cell_type": "markdown",
   "id": "hollywood-gossip",
   "metadata": {
    "toc": true
   },
   "source": [
    "<h1>Table of Contents<span class=\"tocSkip\"></span></h1>\n",
    "<div class=\"toc\"><ul class=\"toc-item\"><li><span><a href=\"#Load-the-pandas-library-and-the-nls97-file\" data-toc-modified-id=\"Load-the-pandas-library-and-the-nls97-file-1\"><span class=\"toc-item-num\">1&nbsp;&nbsp;</span>Load the pandas library and the nls97 file</a></span></li><li><span><a href=\"#Show-the-names-for-columns-with-the-category-data-type-and-check-for-the-number-of-missing-values\" data-toc-modified-id=\"Show-the-names-for-columns-with-the-category-data-type-and-check-for-the-number-of-missing-values-2\"><span class=\"toc-item-num\">2&nbsp;&nbsp;</span>Show the names for columns with the category data type and check for the number of missing values</a></span></li><li><span><a href=\"#Show-the-frequencies-for-marital-status\" data-toc-modified-id=\"Show-the-frequencies-for-marital-status-3\"><span class=\"toc-item-num\">3&nbsp;&nbsp;</span>Show the frequencies for marital status</a></span></li><li><span><a href=\"#Turn-off-sorting-by-frequency\" data-toc-modified-id=\"Turn-off-sorting-by-frequency-4\"><span class=\"toc-item-num\">4&nbsp;&nbsp;</span>Turn off sorting by frequency</a></span></li><li><span><a href=\"#Show-percentages-instead-of-counts\" data-toc-modified-id=\"Show-percentages-instead-of-counts-5\"><span class=\"toc-item-num\">5&nbsp;&nbsp;</span>Show percentages instead of counts</a></span></li><li><span><a href=\"#Show-the-percentages-for-all-government-responsibility-columns\" data-toc-modified-id=\"Show-the-percentages-for-all-government-responsibility-columns-6\"><span class=\"toc-item-num\">6&nbsp;&nbsp;</span>Show the percentages for all government responsibility columns</a></span></li><li><span><a href=\"#Find-the-percentages-for-all-government-responsibility-columns-of-people-who-are-married\" data-toc-modified-id=\"Find-the-percentages-for-all-government-responsibility-columns-of-people-who-are-married-7\"><span class=\"toc-item-num\">7&nbsp;&nbsp;</span>Find the percentages for all government responsibility columns of people who are married</a></span></li><li><span><a href=\"#Find-the-frequencies-and-percentages-for-all-category-columns-in-the-DataFrame\" data-toc-modified-id=\"Find-the-frequencies-and-percentages-for-all-category-columns-in-the-DataFrame-8\"><span class=\"toc-item-num\">8&nbsp;&nbsp;</span>Find the frequencies and percentages for all category columns in the DataFrame</a></span></li></ul></div>"
   ]
  },
  {
   "cell_type": "markdown",
   "id": "wound-electric",
   "metadata": {},
   "source": [
    "# Load the pandas library and the nls97 file"
   ]
  },
  {
   "cell_type": "code",
   "execution_count": 1,
   "id": "monetary-friendship",
   "metadata": {},
   "outputs": [],
   "source": [
    "import pandas as pd"
   ]
  },
  {
   "cell_type": "code",
   "execution_count": 2,
   "id": "grateful-algebra",
   "metadata": {},
   "outputs": [],
   "source": [
    "import watermark\n",
    "%load_ext watermark"
   ]
  },
  {
   "cell_type": "code",
   "execution_count": 3,
   "id": "fatty-importance",
   "metadata": {},
   "outputs": [
    {
     "name": "stdout",
     "output_type": "stream",
     "text": [
      "Python implementation: CPython\n",
      "Python version       : 3.7.9\n",
      "IPython version      : 7.20.0\n",
      "\n",
      "watermark: 2.1.0\n",
      "pandas   : 1.2.1\n",
      "json     : 2.0.9\n",
      "\n"
     ]
    }
   ],
   "source": [
    "%watermark -n -v -iv"
   ]
  },
  {
   "cell_type": "code",
   "execution_count": 4,
   "id": "fallen-property",
   "metadata": {},
   "outputs": [],
   "source": [
    "# pd.set_option('display.width', 75)\n",
    "# pd.set_option('display.max_columns', 5)\n",
    "# pd.set_option('display.max_rows', 20)\n",
    "# pd.options.display.float_format = '{:,.2f}'.format"
   ]
  },
  {
   "cell_type": "code",
   "execution_count": 5,
   "id": "fifth-myanmar",
   "metadata": {},
   "outputs": [],
   "source": [
    "nls97 = pd.read_csv('data/nls97.csv')\n",
    "nls97.set_index('personid', inplace=True)"
   ]
  },
  {
   "cell_type": "code",
   "execution_count": 6,
   "id": "expressed-chess",
   "metadata": {},
   "outputs": [],
   "source": [
    "nls97.loc[:, nls97.dtypes == 'object'] = nls97.select_dtypes(\n",
    "    ['object']).apply(lambda x: x.astype('category'))"
   ]
  },
  {
   "cell_type": "markdown",
   "id": "resistant-church",
   "metadata": {},
   "source": [
    "# Show the names for columns with the category data type and check for the number of missing values"
   ]
  },
  {
   "cell_type": "code",
   "execution_count": 7,
   "id": "elementary-thomas",
   "metadata": {},
   "outputs": [],
   "source": [
    "catcols = nls97.select_dtypes(include=['category']).columns"
   ]
  },
  {
   "cell_type": "code",
   "execution_count": 8,
   "id": "bridal-hollywood",
   "metadata": {},
   "outputs": [
    {
     "data": {
      "text/plain": [
       "gender                      0\n",
       "maritalstatus            2312\n",
       "weeklyhrscomputer        2274\n",
       "weeklyhrstv              2273\n",
       "highestdegree              31\n",
       "govprovidejobs           7151\n",
       "govpricecontrols         7125\n",
       "govhealthcare            7110\n",
       "govelderliving           7112\n",
       "govindhelp               7169\n",
       "govunemp                 7173\n",
       "govincomediff            7209\n",
       "govcollegefinance        7109\n",
       "govdecenthousing         7137\n",
       "govprotectenvironment    7124\n",
       "colenrfeb97              7734\n",
       "colenroct97               483\n",
       "colenrfeb98               483\n",
       "colenroct98                96\n",
       "colenrfeb99               119\n",
       "colenroct99               133\n",
       "colenrfeb00               164\n",
       "colenroct00               179\n",
       "colenrfeb01               198\n",
       "colenroct01               226\n",
       "colenrfeb02               252\n",
       "colenroct02               286\n",
       "colenrfeb03               326\n",
       "colenroct03               362\n",
       "colenrfeb04               406\n",
       "colenroct04               438\n",
       "colenrfeb05               476\n",
       "colenroct05               513\n",
       "colenrfeb06               558\n",
       "colenroct06               577\n",
       "colenrfeb07               632\n",
       "colenroct07               653\n",
       "colenrfeb08               695\n",
       "colenroct08               704\n",
       "colenrfeb09               748\n",
       "colenroct09               791\n",
       "colenrfeb10               868\n",
       "colenroct10               893\n",
       "colenrfeb11               947\n",
       "colenroct11              1012\n",
       "colenrfeb12              1190\n",
       "colenroct12              1230\n",
       "colenrfeb13              1230\n",
       "colenroct13              1230\n",
       "colenrfeb14              1360\n",
       "colenroct14              1515\n",
       "colenrfeb15              1515\n",
       "colenroct15              1515\n",
       "colenrfeb16              1948\n",
       "colenroct16              2251\n",
       "colenrfeb17              2251\n",
       "colenroct17              2250\n",
       "dtype: int64"
      ]
     },
     "execution_count": 8,
     "metadata": {},
     "output_type": "execute_result"
    }
   ],
   "source": [
    "nls97[catcols].isnull().sum()"
   ]
  },
  {
   "cell_type": "code",
   "execution_count": 12,
   "id": "earned-rebel",
   "metadata": {},
   "outputs": [
    {
     "data": {
      "text/plain": [
       "gender                      0\n",
       "highestdegree              31\n",
       "colenroct98                96\n",
       "colenrfeb99               119\n",
       "colenroct99               133\n",
       "colenrfeb00               164\n",
       "colenroct00               179\n",
       "colenrfeb01               198\n",
       "colenroct01               226\n",
       "colenrfeb02               252\n",
       "colenroct02               286\n",
       "colenrfeb03               326\n",
       "colenroct03               362\n",
       "colenrfeb04               406\n",
       "colenroct04               438\n",
       "colenrfeb05               476\n",
       "colenroct97               483\n",
       "colenrfeb98               483\n",
       "colenroct05               513\n",
       "colenrfeb06               558\n",
       "colenroct06               577\n",
       "colenrfeb07               632\n",
       "colenroct07               653\n",
       "colenrfeb08               695\n",
       "colenroct08               704\n",
       "colenrfeb09               748\n",
       "colenroct09               791\n",
       "colenrfeb10               868\n",
       "colenroct10               893\n",
       "colenrfeb11               947\n",
       "colenroct11              1012\n",
       "colenrfeb12              1190\n",
       "colenroct12              1230\n",
       "colenrfeb13              1230\n",
       "colenroct13              1230\n",
       "colenrfeb14              1360\n",
       "colenroct14              1515\n",
       "colenrfeb15              1515\n",
       "colenroct15              1515\n",
       "colenrfeb16              1948\n",
       "colenroct17              2250\n",
       "colenrfeb17              2251\n",
       "colenroct16              2251\n",
       "weeklyhrstv              2273\n",
       "weeklyhrscomputer        2274\n",
       "maritalstatus            2312\n",
       "govcollegefinance        7109\n",
       "govhealthcare            7110\n",
       "govelderliving           7112\n",
       "govprotectenvironment    7124\n",
       "govpricecontrols         7125\n",
       "govdecenthousing         7137\n",
       "govprovidejobs           7151\n",
       "govindhelp               7169\n",
       "govunemp                 7173\n",
       "govincomediff            7209\n",
       "colenrfeb97              7734\n",
       "dtype: int64"
      ]
     },
     "execution_count": 12,
     "metadata": {},
     "output_type": "execute_result"
    }
   ],
   "source": [
    "nls97[catcols].isnull().sum().sort_values(ascending=True)"
   ]
  },
  {
   "cell_type": "markdown",
   "id": "concerned-rebate",
   "metadata": {},
   "source": [
    "# Show the frequencies for marital status"
   ]
  },
  {
   "cell_type": "code",
   "execution_count": 13,
   "id": "medieval-powell",
   "metadata": {},
   "outputs": [
    {
     "data": {
      "text/plain": [
       "Married          3066\n",
       "Never-married    2766\n",
       "Divorced          663\n",
       "Separated         154\n",
       "Widowed            23\n",
       "Name: maritalstatus, dtype: int64"
      ]
     },
     "execution_count": 13,
     "metadata": {},
     "output_type": "execute_result"
    }
   ],
   "source": [
    "nls97['maritalstatus'].value_counts()"
   ]
  },
  {
   "cell_type": "markdown",
   "id": "julian-fancy",
   "metadata": {},
   "source": [
    "# Turn off sorting by frequency"
   ]
  },
  {
   "cell_type": "code",
   "execution_count": 14,
   "id": "continuing-health",
   "metadata": {},
   "outputs": [
    {
     "data": {
      "text/plain": [
       "Divorced          663\n",
       "Married          3066\n",
       "Never-married    2766\n",
       "Separated         154\n",
       "Widowed            23\n",
       "Name: maritalstatus, dtype: int64"
      ]
     },
     "execution_count": 14,
     "metadata": {},
     "output_type": "execute_result"
    }
   ],
   "source": [
    "nls97['maritalstatus'].value_counts(sort=False)"
   ]
  },
  {
   "cell_type": "markdown",
   "id": "billion-reputation",
   "metadata": {},
   "source": [
    "# Show percentages instead of counts"
   ]
  },
  {
   "cell_type": "code",
   "execution_count": 15,
   "id": "killing-scoop",
   "metadata": {},
   "outputs": [
    {
     "data": {
      "text/plain": [
       "Divorced         0.099371\n",
       "Married          0.459532\n",
       "Never-married    0.414568\n",
       "Separated        0.023082\n",
       "Widowed          0.003447\n",
       "Name: maritalstatus, dtype: float64"
      ]
     },
     "execution_count": 15,
     "metadata": {},
     "output_type": "execute_result"
    }
   ],
   "source": [
    "nls97['maritalstatus'].value_counts(sort=False, normalize=True)"
   ]
  },
  {
   "cell_type": "markdown",
   "id": "spiritual-norman",
   "metadata": {},
   "source": [
    "# Show the percentages for all government responsibility columns"
   ]
  },
  {
   "cell_type": "code",
   "execution_count": 16,
   "id": "rapid-tenant",
   "metadata": {},
   "outputs": [
    {
     "data": {
      "text/html": [
       "<div>\n",
       "<style scoped>\n",
       "    .dataframe tbody tr th:only-of-type {\n",
       "        vertical-align: middle;\n",
       "    }\n",
       "\n",
       "    .dataframe tbody tr th {\n",
       "        vertical-align: top;\n",
       "    }\n",
       "\n",
       "    .dataframe thead th {\n",
       "        text-align: right;\n",
       "    }\n",
       "</style>\n",
       "<table border=\"1\" class=\"dataframe\">\n",
       "  <thead>\n",
       "    <tr style=\"text-align: right;\">\n",
       "      <th></th>\n",
       "      <th>govprovidejobs</th>\n",
       "      <th>govpricecontrols</th>\n",
       "      <th>govhealthcare</th>\n",
       "      <th>govelderliving</th>\n",
       "      <th>govindhelp</th>\n",
       "      <th>govunemp</th>\n",
       "      <th>govincomediff</th>\n",
       "      <th>govcollegefinance</th>\n",
       "      <th>govdecenthousing</th>\n",
       "      <th>govprotectenvironment</th>\n",
       "    </tr>\n",
       "  </thead>\n",
       "  <tbody>\n",
       "    <tr>\n",
       "      <th>1. Definitely</th>\n",
       "      <td>0.247681</td>\n",
       "      <td>0.541689</td>\n",
       "      <td>0.665422</td>\n",
       "      <td>0.700321</td>\n",
       "      <td>0.428650</td>\n",
       "      <td>0.218112</td>\n",
       "      <td>0.324507</td>\n",
       "      <td>0.734400</td>\n",
       "      <td>0.442339</td>\n",
       "      <td>0.668817</td>\n",
       "    </tr>\n",
       "    <tr>\n",
       "      <th>2. Probably</th>\n",
       "      <td>0.336607</td>\n",
       "      <td>0.334051</td>\n",
       "      <td>0.271078</td>\n",
       "      <td>0.247863</td>\n",
       "      <td>0.411019</td>\n",
       "      <td>0.403092</td>\n",
       "      <td>0.284507</td>\n",
       "      <td>0.230400</td>\n",
       "      <td>0.433676</td>\n",
       "      <td>0.286559</td>\n",
       "    </tr>\n",
       "    <tr>\n",
       "      <th>3. Probably not</th>\n",
       "      <td>0.252046</td>\n",
       "      <td>0.086606</td>\n",
       "      <td>0.045358</td>\n",
       "      <td>0.037927</td>\n",
       "      <td>0.119008</td>\n",
       "      <td>0.262838</td>\n",
       "      <td>0.228732</td>\n",
       "      <td>0.026667</td>\n",
       "      <td>0.100162</td>\n",
       "      <td>0.029570</td>\n",
       "    </tr>\n",
       "    <tr>\n",
       "      <th>4. Definitely not</th>\n",
       "      <td>0.163666</td>\n",
       "      <td>0.037655</td>\n",
       "      <td>0.018143</td>\n",
       "      <td>0.013889</td>\n",
       "      <td>0.041322</td>\n",
       "      <td>0.115958</td>\n",
       "      <td>0.162254</td>\n",
       "      <td>0.008533</td>\n",
       "      <td>0.023822</td>\n",
       "      <td>0.015054</td>\n",
       "    </tr>\n",
       "  </tbody>\n",
       "</table>\n",
       "</div>"
      ],
      "text/plain": [
       "                   govprovidejobs  govpricecontrols  govhealthcare  \\\n",
       "1. Definitely            0.247681          0.541689       0.665422   \n",
       "2. Probably              0.336607          0.334051       0.271078   \n",
       "3. Probably not          0.252046          0.086606       0.045358   \n",
       "4. Definitely not        0.163666          0.037655       0.018143   \n",
       "\n",
       "                   govelderliving  govindhelp  govunemp  govincomediff  \\\n",
       "1. Definitely            0.700321    0.428650  0.218112       0.324507   \n",
       "2. Probably              0.247863    0.411019  0.403092       0.284507   \n",
       "3. Probably not          0.037927    0.119008  0.262838       0.228732   \n",
       "4. Definitely not        0.013889    0.041322  0.115958       0.162254   \n",
       "\n",
       "                   govcollegefinance  govdecenthousing  govprotectenvironment  \n",
       "1. Definitely               0.734400          0.442339               0.668817  \n",
       "2. Probably                 0.230400          0.433676               0.286559  \n",
       "3. Probably not             0.026667          0.100162               0.029570  \n",
       "4. Definitely not           0.008533          0.023822               0.015054  "
      ]
     },
     "execution_count": 16,
     "metadata": {},
     "output_type": "execute_result"
    }
   ],
   "source": [
    "nls97.filter(like='gov').apply(pd.value_counts, normalize=True)"
   ]
  },
  {
   "cell_type": "markdown",
   "id": "designing-river",
   "metadata": {},
   "source": [
    "# Find the percentages for all government responsibility columns of people who are married"
   ]
  },
  {
   "cell_type": "code",
   "execution_count": 17,
   "id": "mediterranean-output",
   "metadata": {},
   "outputs": [
    {
     "data": {
      "text/html": [
       "<div>\n",
       "<style scoped>\n",
       "    .dataframe tbody tr th:only-of-type {\n",
       "        vertical-align: middle;\n",
       "    }\n",
       "\n",
       "    .dataframe tbody tr th {\n",
       "        vertical-align: top;\n",
       "    }\n",
       "\n",
       "    .dataframe thead th {\n",
       "        text-align: right;\n",
       "    }\n",
       "</style>\n",
       "<table border=\"1\" class=\"dataframe\">\n",
       "  <thead>\n",
       "    <tr style=\"text-align: right;\">\n",
       "      <th></th>\n",
       "      <th>govprovidejobs</th>\n",
       "      <th>govpricecontrols</th>\n",
       "      <th>govhealthcare</th>\n",
       "      <th>govelderliving</th>\n",
       "      <th>govindhelp</th>\n",
       "      <th>govunemp</th>\n",
       "      <th>govincomediff</th>\n",
       "      <th>govcollegefinance</th>\n",
       "      <th>govdecenthousing</th>\n",
       "      <th>govprotectenvironment</th>\n",
       "    </tr>\n",
       "  </thead>\n",
       "  <tbody>\n",
       "    <tr>\n",
       "      <th>1. Definitely</th>\n",
       "      <td>0.173315</td>\n",
       "      <td>0.459864</td>\n",
       "      <td>0.564450</td>\n",
       "      <td>0.632293</td>\n",
       "      <td>0.372549</td>\n",
       "      <td>0.147265</td>\n",
       "      <td>0.258890</td>\n",
       "      <td>0.695418</td>\n",
       "      <td>0.356354</td>\n",
       "      <td>0.644505</td>\n",
       "    </tr>\n",
       "    <tr>\n",
       "      <th>2. Probably</th>\n",
       "      <td>0.328748</td>\n",
       "      <td>0.380952</td>\n",
       "      <td>0.359566</td>\n",
       "      <td>0.310719</td>\n",
       "      <td>0.445378</td>\n",
       "      <td>0.395512</td>\n",
       "      <td>0.273115</td>\n",
       "      <td>0.261456</td>\n",
       "      <td>0.493094</td>\n",
       "      <td>0.313433</td>\n",
       "    </tr>\n",
       "    <tr>\n",
       "      <th>3. Probably not</th>\n",
       "      <td>0.314993</td>\n",
       "      <td>0.112925</td>\n",
       "      <td>0.051560</td>\n",
       "      <td>0.037992</td>\n",
       "      <td>0.142857</td>\n",
       "      <td>0.328191</td>\n",
       "      <td>0.284495</td>\n",
       "      <td>0.033693</td>\n",
       "      <td>0.120166</td>\n",
       "      <td>0.028494</td>\n",
       "    </tr>\n",
       "    <tr>\n",
       "      <th>4. Definitely not</th>\n",
       "      <td>0.182944</td>\n",
       "      <td>0.046259</td>\n",
       "      <td>0.024423</td>\n",
       "      <td>0.018996</td>\n",
       "      <td>0.039216</td>\n",
       "      <td>0.129032</td>\n",
       "      <td>0.183499</td>\n",
       "      <td>0.009434</td>\n",
       "      <td>0.030387</td>\n",
       "      <td>0.013569</td>\n",
       "    </tr>\n",
       "  </tbody>\n",
       "</table>\n",
       "</div>"
      ],
      "text/plain": [
       "                   govprovidejobs  govpricecontrols  govhealthcare  \\\n",
       "1. Definitely            0.173315          0.459864       0.564450   \n",
       "2. Probably              0.328748          0.380952       0.359566   \n",
       "3. Probably not          0.314993          0.112925       0.051560   \n",
       "4. Definitely not        0.182944          0.046259       0.024423   \n",
       "\n",
       "                   govelderliving  govindhelp  govunemp  govincomediff  \\\n",
       "1. Definitely            0.632293    0.372549  0.147265       0.258890   \n",
       "2. Probably              0.310719    0.445378  0.395512       0.273115   \n",
       "3. Probably not          0.037992    0.142857  0.328191       0.284495   \n",
       "4. Definitely not        0.018996    0.039216  0.129032       0.183499   \n",
       "\n",
       "                   govcollegefinance  govdecenthousing  govprotectenvironment  \n",
       "1. Definitely               0.695418          0.356354               0.644505  \n",
       "2. Probably                 0.261456          0.493094               0.313433  \n",
       "3. Probably not             0.033693          0.120166               0.028494  \n",
       "4. Definitely not           0.009434          0.030387               0.013569  "
      ]
     },
     "execution_count": 17,
     "metadata": {},
     "output_type": "execute_result"
    }
   ],
   "source": [
    "nls97[nls97['maritalstatus'] == 'Married'].filter(like='gov').apply(\n",
    "    pd.value_counts, normalize=True)"
   ]
  },
  {
   "cell_type": "markdown",
   "id": "general-price",
   "metadata": {},
   "source": [
    "# Find the frequencies and percentages for all category columns in the DataFrame"
   ]
  },
  {
   "cell_type": "code",
   "execution_count": 19,
   "id": "pleased-lyric",
   "metadata": {},
   "outputs": [],
   "source": [
    "freqout = open('views/frequencies.txt', 'w')\n",
    "\n",
    "for col in nls97.select_dtypes(include=['category']):\n",
    "    print(col,\n",
    "          '----------------------',\n",
    "          'frequencies',\n",
    "          nls97[col].value_counts(sort=False),\n",
    "          'percentages',\n",
    "          nls97[col].value_counts(normalize=True, sort=False),\n",
    "          sep='\\n\\n',\n",
    "          end='\\n\\n\\n',\n",
    "          file=freqout)"
   ]
  },
  {
   "cell_type": "code",
   "execution_count": 20,
   "id": "gross-winter",
   "metadata": {},
   "outputs": [],
   "source": [
    "freqout.close()"
   ]
  },
  {
   "cell_type": "code",
   "execution_count": null,
   "id": "removed-intensity",
   "metadata": {},
   "outputs": [],
   "source": []
  }
 ],
 "metadata": {
  "kernelspec": {
   "display_name": "Python 3",
   "language": "python",
   "name": "python3"
  },
  "language_info": {
   "codemirror_mode": {
    "name": "ipython",
    "version": 3
   },
   "file_extension": ".py",
   "mimetype": "text/x-python",
   "name": "python",
   "nbconvert_exporter": "python",
   "pygments_lexer": "ipython3",
   "version": "3.7.9"
  },
  "toc": {
   "base_numbering": 1,
   "nav_menu": {},
   "number_sections": true,
   "sideBar": true,
   "skip_h1_title": false,
   "title_cell": "Table of Contents",
   "title_sidebar": "Contents",
   "toc_cell": true,
   "toc_position": {
    "height": "calc(100% - 180px)",
    "left": "10px",
    "top": "150px",
    "width": "279.273px"
   },
   "toc_section_display": true,
   "toc_window_display": false
  }
 },
 "nbformat": 4,
 "nbformat_minor": 5
}
