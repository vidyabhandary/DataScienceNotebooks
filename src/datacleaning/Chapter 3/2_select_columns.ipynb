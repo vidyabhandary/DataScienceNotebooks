{
 "cells": [
  {
   "cell_type": "markdown",
   "id": "classical-observer",
   "metadata": {
    "toc": true
   },
   "source": [
    "<h1>Table of Contents<span class=\"tocSkip\"></span></h1>\n",
    "<div class=\"toc\"><ul class=\"toc-item\"><li><span><a href=\"#Import-the-pandas-library-and-load-the-NLS-data-into-pandas\" data-toc-modified-id=\"Import-the-pandas-library-and-load-the-NLS-data-into-pandas-1\"><span class=\"toc-item-num\">1&nbsp;&nbsp;</span>Import the pandas library and load the NLS data into pandas</a></span></li><li><span><a href=\"#Select-a-column-using-the-pandas-[]-bracket-operator,-and-the-loc-and-iloc-accessors.\" data-toc-modified-id=\"Select-a-column-using-the-pandas-[]-bracket-operator,-and-the-loc-and-iloc-accessors.-2\"><span class=\"toc-item-num\">2&nbsp;&nbsp;</span>Select a column using the pandas [] bracket operator, and the <code>loc</code> and <code>iloc</code> accessors.</a></span></li><li><span><a href=\"#Select-multiple-columns-from-a-pandas-DataFrame\" data-toc-modified-id=\"Select-multiple-columns-from-a-pandas-DataFrame-3\"><span class=\"toc-item-num\">3&nbsp;&nbsp;</span>Select multiple columns from a pandas DataFrame</a></span></li><li><span><a href=\"#Select-multiple-columns-based-on-a-list-of-columns\" data-toc-modified-id=\"Select-multiple-columns-based-on-a-list-of-columns-4\"><span class=\"toc-item-num\">4&nbsp;&nbsp;</span>Select multiple columns based on a list of columns</a></span></li><li><span><a href=\"#Select-one-or-more-columns-by-filtering-on-column-name\" data-toc-modified-id=\"Select-one-or-more-columns-by-filtering-on-column-name-5\"><span class=\"toc-item-num\">5&nbsp;&nbsp;</span>Select one or more columns by filtering on column name</a></span></li><li><span><a href=\"#Select-all-columns-with-the-category-data-type\" data-toc-modified-id=\"Select-all-columns-with-the-category-data-type-6\"><span class=\"toc-item-num\">6&nbsp;&nbsp;</span>Select all columns with the category data type</a></span></li><li><span><a href=\"#Select-all-columns-with-numeric-data-types\" data-toc-modified-id=\"Select-all-columns-with-numeric-data-types-7\"><span class=\"toc-item-num\">7&nbsp;&nbsp;</span>Select all columns with numeric data types</a></span></li><li><span><a href=\"#Organize-columns-using-lists-of-column-names\" data-toc-modified-id=\"Organize-columns-using-lists-of-column-names-8\"><span class=\"toc-item-num\">8&nbsp;&nbsp;</span>Organize columns using lists of column names</a></span></li><li><span><a href=\"#Create-the-new,-reorganized-DataFrame\" data-toc-modified-id=\"Create-the-new,-reorganized-DataFrame-9\"><span class=\"toc-item-num\">9&nbsp;&nbsp;</span>Create the new, reorganized DataFrame</a></span></li><li><span><a href=\"#There's-more…\" data-toc-modified-id=\"There's-more…-10\"><span class=\"toc-item-num\">10&nbsp;&nbsp;</span>There's more…</a></span></li></ul></div>"
   ]
  },
  {
   "cell_type": "markdown",
   "id": "documentary-boards",
   "metadata": {},
   "source": [
    "# Import the pandas library and load the NLS data into pandas"
   ]
  },
  {
   "cell_type": "code",
   "execution_count": 1,
   "id": "competitive-juice",
   "metadata": {},
   "outputs": [],
   "source": [
    "import pandas as pd\n",
    "import numpy as np"
   ]
  },
  {
   "cell_type": "code",
   "execution_count": 2,
   "id": "hungry-arthritis",
   "metadata": {},
   "outputs": [],
   "source": [
    "# pd.set_option('display.width', 100)\n",
    "# pd.set_option('display.max_columns', 20)\n",
    "# pd.set_option('display.max_rows', 15)\n",
    "# pd.options.display.float_format = '{:,.0f}'.format"
   ]
  },
  {
   "cell_type": "code",
   "execution_count": 3,
   "id": "relevant-suicide",
   "metadata": {},
   "outputs": [],
   "source": [
    "import watermark\n",
    "%load_ext watermark"
   ]
  },
  {
   "cell_type": "code",
   "execution_count": 4,
   "id": "governing-kazakhstan",
   "metadata": {},
   "outputs": [
    {
     "name": "stdout",
     "output_type": "stream",
     "text": [
      "Python implementation: CPython\n",
      "Python version       : 3.7.9\n",
      "IPython version      : 7.20.0\n",
      "\n",
      "watermark: 2.1.0\n",
      "pandas   : 1.2.1\n",
      "json     : 2.0.9\n",
      "numpy    : 1.19.2\n",
      "\n"
     ]
    }
   ],
   "source": [
    "%watermark -n -v -iv"
   ]
  },
  {
   "cell_type": "code",
   "execution_count": 5,
   "id": "accessory-sharing",
   "metadata": {},
   "outputs": [],
   "source": [
    "nls97 = pd.read_csv('data/nls97.csv')"
   ]
  },
  {
   "cell_type": "code",
   "execution_count": 6,
   "id": "driving-label",
   "metadata": {},
   "outputs": [],
   "source": [
    "nls97.set_index('personid', inplace=True)"
   ]
  },
  {
   "cell_type": "code",
   "execution_count": 7,
   "id": "quantitative-arthur",
   "metadata": {},
   "outputs": [],
   "source": [
    "nls97.loc[:, nls97.dtypes == 'object'] = nls97.select_dtypes(\n",
    "    ['object']).apply(lambda x: x.astype('category'))"
   ]
  },
  {
   "cell_type": "code",
   "execution_count": 8,
   "id": "surprised-offense",
   "metadata": {},
   "outputs": [
    {
     "name": "stdout",
     "output_type": "stream",
     "text": [
      "<class 'pandas.core.frame.DataFrame'>\n",
      "Int64Index: 8984 entries, 100061 to 999963\n",
      "Data columns (total 88 columns):\n",
      " #   Column                 Non-Null Count  Dtype   \n",
      "---  ------                 --------------  -----   \n",
      " 0   gender                 8984 non-null   category\n",
      " 1   birthmonth             8984 non-null   int64   \n",
      " 2   birthyear              8984 non-null   int64   \n",
      " 3   highestgradecompleted  6663 non-null   float64 \n",
      " 4   maritalstatus          6672 non-null   category\n",
      " 5   childathome            4791 non-null   float64 \n",
      " 6   childnotathome         4791 non-null   float64 \n",
      " 7   wageincome             5091 non-null   float64 \n",
      " 8   weeklyhrscomputer      6710 non-null   category\n",
      " 9   weeklyhrstv            6711 non-null   category\n",
      " 10  nightlyhrssleep        6706 non-null   float64 \n",
      " 11  satverbal              1406 non-null   float64 \n",
      " 12  satmath                1407 non-null   float64 \n",
      " 13  gpaoverall             6004 non-null   float64 \n",
      " 14  gpaenglish             5798 non-null   float64 \n",
      " 15  gpamath                5766 non-null   float64 \n",
      " 16  gpascience             5684 non-null   float64 \n",
      " 17  highestdegree          8953 non-null   category\n",
      " 18  govprovidejobs         1833 non-null   category\n",
      " 19  govpricecontrols       1859 non-null   category\n",
      " 20  govhealthcare          1874 non-null   category\n",
      " 21  govelderliving         1872 non-null   category\n",
      " 22  govindhelp             1815 non-null   category\n",
      " 23  govunemp               1811 non-null   category\n",
      " 24  govincomediff          1775 non-null   category\n",
      " 25  govcollegefinance      1875 non-null   category\n",
      " 26  govdecenthousing       1847 non-null   category\n",
      " 27  govprotectenvironment  1860 non-null   category\n",
      " 28  weeksworked00          8603 non-null   float64 \n",
      " 29  weeksworked01          8564 non-null   float64 \n",
      " 30  weeksworked02          8556 non-null   float64 \n",
      " 31  weeksworked03          8490 non-null   float64 \n",
      " 32  weeksworked04          8458 non-null   float64 \n",
      " 33  weeksworked05          8403 non-null   float64 \n",
      " 34  weeksworked06          8340 non-null   float64 \n",
      " 35  weeksworked07          8272 non-null   float64 \n",
      " 36  weeksworked08          8186 non-null   float64 \n",
      " 37  weeksworked09          8146 non-null   float64 \n",
      " 38  weeksworked10          8054 non-null   float64 \n",
      " 39  weeksworked11          7968 non-null   float64 \n",
      " 40  weeksworked12          7747 non-null   float64 \n",
      " 41  weeksworked13          7680 non-null   float64 \n",
      " 42  weeksworked14          7612 non-null   float64 \n",
      " 43  weeksworked15          7389 non-null   float64 \n",
      " 44  weeksworked16          7068 non-null   float64 \n",
      " 45  weeksworked17          6670 non-null   float64 \n",
      " 46  colenrfeb97            1250 non-null   category\n",
      " 47  colenroct97            8501 non-null   category\n",
      " 48  colenrfeb98            8501 non-null   category\n",
      " 49  colenroct98            8888 non-null   category\n",
      " 50  colenrfeb99            8865 non-null   category\n",
      " 51  colenroct99            8851 non-null   category\n",
      " 52  colenrfeb00            8820 non-null   category\n",
      " 53  colenroct00            8805 non-null   category\n",
      " 54  colenrfeb01            8786 non-null   category\n",
      " 55  colenroct01            8758 non-null   category\n",
      " 56  colenrfeb02            8732 non-null   category\n",
      " 57  colenroct02            8698 non-null   category\n",
      " 58  colenrfeb03            8658 non-null   category\n",
      " 59  colenroct03            8622 non-null   category\n",
      " 60  colenrfeb04            8578 non-null   category\n",
      " 61  colenroct04            8546 non-null   category\n",
      " 62  colenrfeb05            8508 non-null   category\n",
      " 63  colenroct05            8471 non-null   category\n",
      " 64  colenrfeb06            8426 non-null   category\n",
      " 65  colenroct06            8407 non-null   category\n",
      " 66  colenrfeb07            8352 non-null   category\n",
      " 67  colenroct07            8331 non-null   category\n",
      " 68  colenrfeb08            8289 non-null   category\n",
      " 69  colenroct08            8280 non-null   category\n",
      " 70  colenrfeb09            8236 non-null   category\n",
      " 71  colenroct09            8193 non-null   category\n",
      " 72  colenrfeb10            8116 non-null   category\n",
      " 73  colenroct10            8091 non-null   category\n",
      " 74  colenrfeb11            8037 non-null   category\n",
      " 75  colenroct11            7972 non-null   category\n",
      " 76  colenrfeb12            7794 non-null   category\n",
      " 77  colenroct12            7754 non-null   category\n",
      " 78  colenrfeb13            7754 non-null   category\n",
      " 79  colenroct13            7754 non-null   category\n",
      " 80  colenrfeb14            7624 non-null   category\n",
      " 81  colenroct14            7469 non-null   category\n",
      " 82  colenrfeb15            7469 non-null   category\n",
      " 83  colenroct15            7469 non-null   category\n",
      " 84  colenrfeb16            7036 non-null   category\n",
      " 85  colenroct16            6733 non-null   category\n",
      " 86  colenrfeb17            6733 non-null   category\n",
      " 87  colenroct17            6734 non-null   category\n",
      "dtypes: category(57), float64(29), int64(2)\n",
      "memory usage: 2.7 MB\n"
     ]
    }
   ],
   "source": [
    "nls97.info()"
   ]
  },
  {
   "cell_type": "markdown",
   "id": "starting-nigeria",
   "metadata": {},
   "source": [
    "# Select a column using the pandas [] bracket operator, and the `loc` and `iloc` accessors."
   ]
  },
  {
   "cell_type": "code",
   "execution_count": 18,
   "id": "twenty-laser",
   "metadata": {},
   "outputs": [],
   "source": [
    "analysisdemo = nls97['gender']"
   ]
  },
  {
   "cell_type": "code",
   "execution_count": 19,
   "id": "quarterly-brook",
   "metadata": {},
   "outputs": [
    {
     "data": {
      "text/plain": [
       "pandas.core.series.Series"
      ]
     },
     "execution_count": 19,
     "metadata": {},
     "output_type": "execute_result"
    }
   ],
   "source": [
    "type(analysisdemo)"
   ]
  },
  {
   "cell_type": "code",
   "execution_count": 20,
   "id": "passive-protein",
   "metadata": {},
   "outputs": [
    {
     "data": {
      "text/plain": [
       "personid\n",
       "999698    Female\n",
       "999963    Female\n",
       "Name: gender, dtype: category\n",
       "Categories (2, object): ['Female', 'Male']"
      ]
     },
     "execution_count": 20,
     "metadata": {},
     "output_type": "execute_result"
    }
   ],
   "source": [
    "analysisdemo.tail(2)"
   ]
  },
  {
   "cell_type": "code",
   "execution_count": 21,
   "id": "progressive-vitamin",
   "metadata": {},
   "outputs": [],
   "source": [
    "analysisdemo = nls97[['gender']]"
   ]
  },
  {
   "cell_type": "code",
   "execution_count": 22,
   "id": "organic-beach",
   "metadata": {},
   "outputs": [
    {
     "data": {
      "text/plain": [
       "pandas.core.frame.DataFrame"
      ]
     },
     "execution_count": 22,
     "metadata": {},
     "output_type": "execute_result"
    }
   ],
   "source": [
    "type(analysisdemo)"
   ]
  },
  {
   "cell_type": "code",
   "execution_count": 23,
   "id": "conventional-exclusion",
   "metadata": {},
   "outputs": [
    {
     "data": {
      "text/html": [
       "<div>\n",
       "<style scoped>\n",
       "    .dataframe tbody tr th:only-of-type {\n",
       "        vertical-align: middle;\n",
       "    }\n",
       "\n",
       "    .dataframe tbody tr th {\n",
       "        vertical-align: top;\n",
       "    }\n",
       "\n",
       "    .dataframe thead th {\n",
       "        text-align: right;\n",
       "    }\n",
       "</style>\n",
       "<table border=\"1\" class=\"dataframe\">\n",
       "  <thead>\n",
       "    <tr style=\"text-align: right;\">\n",
       "      <th></th>\n",
       "      <th>gender</th>\n",
       "    </tr>\n",
       "    <tr>\n",
       "      <th>personid</th>\n",
       "      <th></th>\n",
       "    </tr>\n",
       "  </thead>\n",
       "  <tbody>\n",
       "    <tr>\n",
       "      <th>173637</th>\n",
       "      <td>Male</td>\n",
       "    </tr>\n",
       "    <tr>\n",
       "      <th>868922</th>\n",
       "      <td>Female</td>\n",
       "    </tr>\n",
       "  </tbody>\n",
       "</table>\n",
       "</div>"
      ],
      "text/plain": [
       "          gender\n",
       "personid        \n",
       "173637      Male\n",
       "868922    Female"
      ]
     },
     "execution_count": 23,
     "metadata": {},
     "output_type": "execute_result"
    }
   ],
   "source": [
    "analysisdemo.sample(2)"
   ]
  },
  {
   "cell_type": "code",
   "execution_count": 24,
   "id": "fitted-behavior",
   "metadata": {},
   "outputs": [],
   "source": [
    "analysisdemo = nls97.loc[:, ['gender']]"
   ]
  },
  {
   "cell_type": "code",
   "execution_count": 25,
   "id": "colored-iceland",
   "metadata": {},
   "outputs": [
    {
     "data": {
      "text/plain": [
       "pandas.core.frame.DataFrame"
      ]
     },
     "execution_count": 25,
     "metadata": {},
     "output_type": "execute_result"
    }
   ],
   "source": [
    "type(analysisdemo)"
   ]
  },
  {
   "cell_type": "code",
   "execution_count": 26,
   "id": "technological-amateur",
   "metadata": {},
   "outputs": [
    {
     "data": {
      "text/html": [
       "<div>\n",
       "<style scoped>\n",
       "    .dataframe tbody tr th:only-of-type {\n",
       "        vertical-align: middle;\n",
       "    }\n",
       "\n",
       "    .dataframe tbody tr th {\n",
       "        vertical-align: top;\n",
       "    }\n",
       "\n",
       "    .dataframe thead th {\n",
       "        text-align: right;\n",
       "    }\n",
       "</style>\n",
       "<table border=\"1\" class=\"dataframe\">\n",
       "  <thead>\n",
       "    <tr style=\"text-align: right;\">\n",
       "      <th></th>\n",
       "      <th>gender</th>\n",
       "    </tr>\n",
       "    <tr>\n",
       "      <th>personid</th>\n",
       "      <th></th>\n",
       "    </tr>\n",
       "  </thead>\n",
       "  <tbody>\n",
       "    <tr>\n",
       "      <th>797651</th>\n",
       "      <td>Male</td>\n",
       "    </tr>\n",
       "    <tr>\n",
       "      <th>520655</th>\n",
       "      <td>Male</td>\n",
       "    </tr>\n",
       "  </tbody>\n",
       "</table>\n",
       "</div>"
      ],
      "text/plain": [
       "         gender\n",
       "personid       \n",
       "797651     Male\n",
       "520655     Male"
      ]
     },
     "execution_count": 26,
     "metadata": {},
     "output_type": "execute_result"
    }
   ],
   "source": [
    "analysisdemo.sample(2)"
   ]
  },
  {
   "cell_type": "code",
   "execution_count": 27,
   "id": "military-engineering",
   "metadata": {},
   "outputs": [],
   "source": [
    "# 0th column is gender\n",
    "analysisdemo = nls97.iloc[:, [0]]"
   ]
  },
  {
   "cell_type": "code",
   "execution_count": 28,
   "id": "buried-entrance",
   "metadata": {},
   "outputs": [
    {
     "data": {
      "text/plain": [
       "pandas.core.frame.DataFrame"
      ]
     },
     "execution_count": 28,
     "metadata": {},
     "output_type": "execute_result"
    }
   ],
   "source": [
    "type(analysisdemo)"
   ]
  },
  {
   "cell_type": "code",
   "execution_count": 29,
   "id": "victorian-shade",
   "metadata": {},
   "outputs": [
    {
     "data": {
      "text/html": [
       "<div>\n",
       "<style scoped>\n",
       "    .dataframe tbody tr th:only-of-type {\n",
       "        vertical-align: middle;\n",
       "    }\n",
       "\n",
       "    .dataframe tbody tr th {\n",
       "        vertical-align: top;\n",
       "    }\n",
       "\n",
       "    .dataframe thead th {\n",
       "        text-align: right;\n",
       "    }\n",
       "</style>\n",
       "<table border=\"1\" class=\"dataframe\">\n",
       "  <thead>\n",
       "    <tr style=\"text-align: right;\">\n",
       "      <th></th>\n",
       "      <th>gender</th>\n",
       "    </tr>\n",
       "    <tr>\n",
       "      <th>personid</th>\n",
       "      <th></th>\n",
       "    </tr>\n",
       "  </thead>\n",
       "  <tbody>\n",
       "    <tr>\n",
       "      <th>644266</th>\n",
       "      <td>Male</td>\n",
       "    </tr>\n",
       "    <tr>\n",
       "      <th>865040</th>\n",
       "      <td>Male</td>\n",
       "    </tr>\n",
       "  </tbody>\n",
       "</table>\n",
       "</div>"
      ],
      "text/plain": [
       "         gender\n",
       "personid       \n",
       "644266     Male\n",
       "865040     Male"
      ]
     },
     "execution_count": 29,
     "metadata": {},
     "output_type": "execute_result"
    }
   ],
   "source": [
    "analysisdemo.sample(2)"
   ]
  },
  {
   "cell_type": "markdown",
   "id": "mechanical-invite",
   "metadata": {},
   "source": [
    "# Select multiple columns from a pandas DataFrame"
   ]
  },
  {
   "cell_type": "code",
   "execution_count": 30,
   "id": "structured-magnitude",
   "metadata": {},
   "outputs": [],
   "source": [
    "analysisdemo = nls97[['gender', 'maritalstatus', 'highestgradecompleted']]"
   ]
  },
  {
   "cell_type": "code",
   "execution_count": 31,
   "id": "lonely-geography",
   "metadata": {},
   "outputs": [
    {
     "data": {
      "text/plain": [
       "(8984, 3)"
      ]
     },
     "execution_count": 31,
     "metadata": {},
     "output_type": "execute_result"
    }
   ],
   "source": [
    "analysisdemo.shape"
   ]
  },
  {
   "cell_type": "code",
   "execution_count": 32,
   "id": "heard-pepper",
   "metadata": {},
   "outputs": [
    {
     "data": {
      "text/html": [
       "<div>\n",
       "<style scoped>\n",
       "    .dataframe tbody tr th:only-of-type {\n",
       "        vertical-align: middle;\n",
       "    }\n",
       "\n",
       "    .dataframe tbody tr th {\n",
       "        vertical-align: top;\n",
       "    }\n",
       "\n",
       "    .dataframe thead th {\n",
       "        text-align: right;\n",
       "    }\n",
       "</style>\n",
       "<table border=\"1\" class=\"dataframe\">\n",
       "  <thead>\n",
       "    <tr style=\"text-align: right;\">\n",
       "      <th></th>\n",
       "      <th>gender</th>\n",
       "      <th>maritalstatus</th>\n",
       "      <th>highestgradecompleted</th>\n",
       "    </tr>\n",
       "    <tr>\n",
       "      <th>personid</th>\n",
       "      <th></th>\n",
       "      <th></th>\n",
       "      <th></th>\n",
       "    </tr>\n",
       "  </thead>\n",
       "  <tbody>\n",
       "    <tr>\n",
       "      <th>100061</th>\n",
       "      <td>Female</td>\n",
       "      <td>Married</td>\n",
       "      <td>13.0</td>\n",
       "    </tr>\n",
       "    <tr>\n",
       "      <th>100139</th>\n",
       "      <td>Male</td>\n",
       "      <td>Married</td>\n",
       "      <td>12.0</td>\n",
       "    </tr>\n",
       "    <tr>\n",
       "      <th>100284</th>\n",
       "      <td>Male</td>\n",
       "      <td>Never-married</td>\n",
       "      <td>7.0</td>\n",
       "    </tr>\n",
       "  </tbody>\n",
       "</table>\n",
       "</div>"
      ],
      "text/plain": [
       "          gender  maritalstatus  highestgradecompleted\n",
       "personid                                              \n",
       "100061    Female        Married                   13.0\n",
       "100139      Male        Married                   12.0\n",
       "100284      Male  Never-married                    7.0"
      ]
     },
     "execution_count": 32,
     "metadata": {},
     "output_type": "execute_result"
    }
   ],
   "source": [
    "analysisdemo.head(3)"
   ]
  },
  {
   "cell_type": "code",
   "execution_count": 33,
   "id": "medieval-fireplace",
   "metadata": {},
   "outputs": [],
   "source": [
    "analysisdemo = nls97.loc[:,\n",
    "                         ['gender', 'maritalstatus', 'highestgradecompleted']]"
   ]
  },
  {
   "cell_type": "code",
   "execution_count": 34,
   "id": "former-formula",
   "metadata": {},
   "outputs": [
    {
     "data": {
      "text/plain": [
       "(8984, 3)"
      ]
     },
     "execution_count": 34,
     "metadata": {},
     "output_type": "execute_result"
    }
   ],
   "source": [
    "analysisdemo.shape"
   ]
  },
  {
   "cell_type": "code",
   "execution_count": 35,
   "id": "shaped-blank",
   "metadata": {},
   "outputs": [
    {
     "data": {
      "text/html": [
       "<div>\n",
       "<style scoped>\n",
       "    .dataframe tbody tr th:only-of-type {\n",
       "        vertical-align: middle;\n",
       "    }\n",
       "\n",
       "    .dataframe tbody tr th {\n",
       "        vertical-align: top;\n",
       "    }\n",
       "\n",
       "    .dataframe thead th {\n",
       "        text-align: right;\n",
       "    }\n",
       "</style>\n",
       "<table border=\"1\" class=\"dataframe\">\n",
       "  <thead>\n",
       "    <tr style=\"text-align: right;\">\n",
       "      <th></th>\n",
       "      <th>gender</th>\n",
       "      <th>maritalstatus</th>\n",
       "      <th>highestgradecompleted</th>\n",
       "    </tr>\n",
       "    <tr>\n",
       "      <th>personid</th>\n",
       "      <th></th>\n",
       "      <th></th>\n",
       "      <th></th>\n",
       "    </tr>\n",
       "  </thead>\n",
       "  <tbody>\n",
       "    <tr>\n",
       "      <th>100061</th>\n",
       "      <td>Female</td>\n",
       "      <td>Married</td>\n",
       "      <td>13.0</td>\n",
       "    </tr>\n",
       "    <tr>\n",
       "      <th>100139</th>\n",
       "      <td>Male</td>\n",
       "      <td>Married</td>\n",
       "      <td>12.0</td>\n",
       "    </tr>\n",
       "    <tr>\n",
       "      <th>100284</th>\n",
       "      <td>Male</td>\n",
       "      <td>Never-married</td>\n",
       "      <td>7.0</td>\n",
       "    </tr>\n",
       "  </tbody>\n",
       "</table>\n",
       "</div>"
      ],
      "text/plain": [
       "          gender  maritalstatus  highestgradecompleted\n",
       "personid                                              \n",
       "100061    Female        Married                   13.0\n",
       "100139      Male        Married                   12.0\n",
       "100284      Male  Never-married                    7.0"
      ]
     },
     "execution_count": 35,
     "metadata": {},
     "output_type": "execute_result"
    }
   ],
   "source": [
    "analysisdemo.head(3)"
   ]
  },
  {
   "cell_type": "markdown",
   "id": "independent-unknown",
   "metadata": {},
   "source": [
    "# Select multiple columns based on a list of columns"
   ]
  },
  {
   "cell_type": "code",
   "execution_count": 36,
   "id": "legitimate-premium",
   "metadata": {},
   "outputs": [],
   "source": [
    "keyvars = [\n",
    "    'gender', 'maritalstatus', 'highestgradecompleted', 'wageincome',\n",
    "    'gpaoverall', 'weeksworked17', 'colenroct17'\n",
    "]"
   ]
  },
  {
   "cell_type": "code",
   "execution_count": 37,
   "id": "standard-kennedy",
   "metadata": {},
   "outputs": [],
   "source": [
    "analysiskeys = nls97[keyvars]"
   ]
  },
  {
   "cell_type": "code",
   "execution_count": 38,
   "id": "aerial-reporter",
   "metadata": {},
   "outputs": [
    {
     "name": "stdout",
     "output_type": "stream",
     "text": [
      "<class 'pandas.core.frame.DataFrame'>\n",
      "Int64Index: 8984 entries, 100061 to 999963\n",
      "Data columns (total 7 columns):\n",
      " #   Column                 Non-Null Count  Dtype   \n",
      "---  ------                 --------------  -----   \n",
      " 0   gender                 8984 non-null   category\n",
      " 1   maritalstatus          6672 non-null   category\n",
      " 2   highestgradecompleted  6663 non-null   float64 \n",
      " 3   wageincome             5091 non-null   float64 \n",
      " 4   gpaoverall             6004 non-null   float64 \n",
      " 5   weeksworked17          6670 non-null   float64 \n",
      " 6   colenroct17            6734 non-null   category\n",
      "dtypes: category(3), float64(4)\n",
      "memory usage: 377.8 KB\n"
     ]
    }
   ],
   "source": [
    "analysiskeys.info()"
   ]
  },
  {
   "cell_type": "markdown",
   "id": "mental-wells",
   "metadata": {},
   "source": [
    "# Select one or more columns by filtering on column name"
   ]
  },
  {
   "cell_type": "code",
   "execution_count": 39,
   "id": "written-showcase",
   "metadata": {},
   "outputs": [],
   "source": [
    "analysiswork = nls97.filter(like='weeksworked')"
   ]
  },
  {
   "cell_type": "code",
   "execution_count": 40,
   "id": "ultimate-sheet",
   "metadata": {},
   "outputs": [
    {
     "name": "stdout",
     "output_type": "stream",
     "text": [
      "<class 'pandas.core.frame.DataFrame'>\n",
      "Int64Index: 8984 entries, 100061 to 999963\n",
      "Data columns (total 18 columns):\n",
      " #   Column         Non-Null Count  Dtype  \n",
      "---  ------         --------------  -----  \n",
      " 0   weeksworked00  8603 non-null   float64\n",
      " 1   weeksworked01  8564 non-null   float64\n",
      " 2   weeksworked02  8556 non-null   float64\n",
      " 3   weeksworked03  8490 non-null   float64\n",
      " 4   weeksworked04  8458 non-null   float64\n",
      " 5   weeksworked05  8403 non-null   float64\n",
      " 6   weeksworked06  8340 non-null   float64\n",
      " 7   weeksworked07  8272 non-null   float64\n",
      " 8   weeksworked08  8186 non-null   float64\n",
      " 9   weeksworked09  8146 non-null   float64\n",
      " 10  weeksworked10  8054 non-null   float64\n",
      " 11  weeksworked11  7968 non-null   float64\n",
      " 12  weeksworked12  7747 non-null   float64\n",
      " 13  weeksworked13  7680 non-null   float64\n",
      " 14  weeksworked14  7612 non-null   float64\n",
      " 15  weeksworked15  7389 non-null   float64\n",
      " 16  weeksworked16  7068 non-null   float64\n",
      " 17  weeksworked17  6670 non-null   float64\n",
      "dtypes: float64(18)\n",
      "memory usage: 1.3 MB\n"
     ]
    }
   ],
   "source": [
    "analysiswork.info()"
   ]
  },
  {
   "cell_type": "markdown",
   "id": "assumed-guest",
   "metadata": {},
   "source": [
    "# Select all columns with the category data type"
   ]
  },
  {
   "cell_type": "code",
   "execution_count": 41,
   "id": "happy-upgrade",
   "metadata": {},
   "outputs": [],
   "source": [
    "analysiscats = nls97.select_dtypes(include=['category'])"
   ]
  },
  {
   "cell_type": "code",
   "execution_count": 42,
   "id": "metallic-cheese",
   "metadata": {},
   "outputs": [
    {
     "name": "stdout",
     "output_type": "stream",
     "text": [
      "<class 'pandas.core.frame.DataFrame'>\n",
      "Int64Index: 8984 entries, 100061 to 999963\n",
      "Data columns (total 57 columns):\n",
      " #   Column                 Non-Null Count  Dtype   \n",
      "---  ------                 --------------  -----   \n",
      " 0   gender                 8984 non-null   category\n",
      " 1   maritalstatus          6672 non-null   category\n",
      " 2   weeklyhrscomputer      6710 non-null   category\n",
      " 3   weeklyhrstv            6711 non-null   category\n",
      " 4   highestdegree          8953 non-null   category\n",
      " 5   govprovidejobs         1833 non-null   category\n",
      " 6   govpricecontrols       1859 non-null   category\n",
      " 7   govhealthcare          1874 non-null   category\n",
      " 8   govelderliving         1872 non-null   category\n",
      " 9   govindhelp             1815 non-null   category\n",
      " 10  govunemp               1811 non-null   category\n",
      " 11  govincomediff          1775 non-null   category\n",
      " 12  govcollegefinance      1875 non-null   category\n",
      " 13  govdecenthousing       1847 non-null   category\n",
      " 14  govprotectenvironment  1860 non-null   category\n",
      " 15  colenrfeb97            1250 non-null   category\n",
      " 16  colenroct97            8501 non-null   category\n",
      " 17  colenrfeb98            8501 non-null   category\n",
      " 18  colenroct98            8888 non-null   category\n",
      " 19  colenrfeb99            8865 non-null   category\n",
      " 20  colenroct99            8851 non-null   category\n",
      " 21  colenrfeb00            8820 non-null   category\n",
      " 22  colenroct00            8805 non-null   category\n",
      " 23  colenrfeb01            8786 non-null   category\n",
      " 24  colenroct01            8758 non-null   category\n",
      " 25  colenrfeb02            8732 non-null   category\n",
      " 26  colenroct02            8698 non-null   category\n",
      " 27  colenrfeb03            8658 non-null   category\n",
      " 28  colenroct03            8622 non-null   category\n",
      " 29  colenrfeb04            8578 non-null   category\n",
      " 30  colenroct04            8546 non-null   category\n",
      " 31  colenrfeb05            8508 non-null   category\n",
      " 32  colenroct05            8471 non-null   category\n",
      " 33  colenrfeb06            8426 non-null   category\n",
      " 34  colenroct06            8407 non-null   category\n",
      " 35  colenrfeb07            8352 non-null   category\n",
      " 36  colenroct07            8331 non-null   category\n",
      " 37  colenrfeb08            8289 non-null   category\n",
      " 38  colenroct08            8280 non-null   category\n",
      " 39  colenrfeb09            8236 non-null   category\n",
      " 40  colenroct09            8193 non-null   category\n",
      " 41  colenrfeb10            8116 non-null   category\n",
      " 42  colenroct10            8091 non-null   category\n",
      " 43  colenrfeb11            8037 non-null   category\n",
      " 44  colenroct11            7972 non-null   category\n",
      " 45  colenrfeb12            7794 non-null   category\n",
      " 46  colenroct12            7754 non-null   category\n",
      " 47  colenrfeb13            7754 non-null   category\n",
      " 48  colenroct13            7754 non-null   category\n",
      " 49  colenrfeb14            7624 non-null   category\n",
      " 50  colenroct14            7469 non-null   category\n",
      " 51  colenrfeb15            7469 non-null   category\n",
      " 52  colenroct15            7469 non-null   category\n",
      " 53  colenrfeb16            7036 non-null   category\n",
      " 54  colenroct16            6733 non-null   category\n",
      " 55  colenrfeb17            6733 non-null   category\n",
      " 56  colenroct17            6734 non-null   category\n",
      "dtypes: category(57)\n",
      "memory usage: 580.8 KB\n"
     ]
    }
   ],
   "source": [
    "analysiscats.info()"
   ]
  },
  {
   "cell_type": "markdown",
   "id": "assisted-oliver",
   "metadata": {},
   "source": [
    "# Select all columns with numeric data types"
   ]
  },
  {
   "cell_type": "code",
   "execution_count": 43,
   "id": "authentic-stream",
   "metadata": {},
   "outputs": [],
   "source": [
    "analysisnums = nls97.select_dtypes(include=['number'])"
   ]
  },
  {
   "cell_type": "code",
   "execution_count": 44,
   "id": "constitutional-remainder",
   "metadata": {},
   "outputs": [
    {
     "name": "stdout",
     "output_type": "stream",
     "text": [
      "<class 'pandas.core.frame.DataFrame'>\n",
      "Int64Index: 8984 entries, 100061 to 999963\n",
      "Data columns (total 31 columns):\n",
      " #   Column                 Non-Null Count  Dtype  \n",
      "---  ------                 --------------  -----  \n",
      " 0   birthmonth             8984 non-null   int64  \n",
      " 1   birthyear              8984 non-null   int64  \n",
      " 2   highestgradecompleted  6663 non-null   float64\n",
      " 3   childathome            4791 non-null   float64\n",
      " 4   childnotathome         4791 non-null   float64\n",
      " 5   wageincome             5091 non-null   float64\n",
      " 6   nightlyhrssleep        6706 non-null   float64\n",
      " 7   satverbal              1406 non-null   float64\n",
      " 8   satmath                1407 non-null   float64\n",
      " 9   gpaoverall             6004 non-null   float64\n",
      " 10  gpaenglish             5798 non-null   float64\n",
      " 11  gpamath                5766 non-null   float64\n",
      " 12  gpascience             5684 non-null   float64\n",
      " 13  weeksworked00          8603 non-null   float64\n",
      " 14  weeksworked01          8564 non-null   float64\n",
      " 15  weeksworked02          8556 non-null   float64\n",
      " 16  weeksworked03          8490 non-null   float64\n",
      " 17  weeksworked04          8458 non-null   float64\n",
      " 18  weeksworked05          8403 non-null   float64\n",
      " 19  weeksworked06          8340 non-null   float64\n",
      " 20  weeksworked07          8272 non-null   float64\n",
      " 21  weeksworked08          8186 non-null   float64\n",
      " 22  weeksworked09          8146 non-null   float64\n",
      " 23  weeksworked10          8054 non-null   float64\n",
      " 24  weeksworked11          7968 non-null   float64\n",
      " 25  weeksworked12          7747 non-null   float64\n",
      " 26  weeksworked13          7680 non-null   float64\n",
      " 27  weeksworked14          7612 non-null   float64\n",
      " 28  weeksworked15          7389 non-null   float64\n",
      " 29  weeksworked16          7068 non-null   float64\n",
      " 30  weeksworked17          6670 non-null   float64\n",
      "dtypes: float64(29), int64(2)\n",
      "memory usage: 2.2 MB\n"
     ]
    }
   ],
   "source": [
    "analysisnums.info()"
   ]
  },
  {
   "cell_type": "markdown",
   "id": "fiscal-sentence",
   "metadata": {},
   "source": [
    "# Organize columns using lists of column names"
   ]
  },
  {
   "cell_type": "code",
   "execution_count": 45,
   "id": "graphic-cooling",
   "metadata": {},
   "outputs": [],
   "source": [
    "demo = ['gender', 'birthmonth', 'birthyear']"
   ]
  },
  {
   "cell_type": "code",
   "execution_count": 46,
   "id": "expressed-deposit",
   "metadata": {},
   "outputs": [],
   "source": [
    "highschoolrecord = [\n",
    "    'satverbal', 'satmath', 'gpaoverall', 'gpaenglish', 'gpamath', 'gpascience'\n",
    "]"
   ]
  },
  {
   "cell_type": "code",
   "execution_count": 47,
   "id": "permanent-dietary",
   "metadata": {},
   "outputs": [],
   "source": [
    "govresp = [\n",
    "    'govprovidejobs', 'govpricecontrols', 'govhealthcare', 'govelderliving',\n",
    "    'govindhelp', 'govunemp', 'govincomediff', 'govcollegefinance',\n",
    "    'govdecenthousing', 'govprotectenvironment'\n",
    "]\n",
    "\n",
    "demoadult = [\n",
    "    'highestgradecompleted', 'maritalstatus', 'childathome', 'childnotathome',\n",
    "    'wageincome', 'weeklyhrscomputer', 'weeklyhrstv', 'nightlyhrssleep',\n",
    "    'highestdegree'\n",
    "]"
   ]
  },
  {
   "cell_type": "code",
   "execution_count": 48,
   "id": "printable-citizenship",
   "metadata": {},
   "outputs": [],
   "source": [
    "weeksworked = [\n",
    "    'weeksworked00', 'weeksworked01', 'weeksworked02', 'weeksworked03',\n",
    "    'weeksworked04', 'weeksworked05', 'weeksworked06', 'weeksworked07',\n",
    "    'weeksworked08', 'weeksworked09', 'weeksworked10', 'weeksworked11',\n",
    "    'weeksworked12', 'weeksworked13', 'weeksworked14', 'weeksworked15',\n",
    "    'weeksworked16', 'weeksworked17'\n",
    "]"
   ]
  },
  {
   "cell_type": "code",
   "execution_count": 49,
   "id": "normal-third",
   "metadata": {},
   "outputs": [],
   "source": [
    "colenr = [\n",
    "    'colenrfeb97', 'colenroct97', 'colenrfeb98', 'colenroct98', 'colenrfeb99',\n",
    "    'colenroct99', 'colenrfeb00', 'colenroct00', 'colenrfeb01', 'colenroct01',\n",
    "    'colenrfeb02', 'colenroct02', 'colenrfeb03', 'colenroct03', 'colenrfeb04',\n",
    "    'colenroct04', 'colenrfeb05', 'colenroct05', 'colenrfeb06', 'colenroct06',\n",
    "    'colenrfeb07', 'colenroct07', 'colenrfeb08', 'colenroct08', 'colenrfeb09',\n",
    "    'colenroct09', 'colenrfeb10', 'colenroct10', 'colenrfeb11', 'colenroct11',\n",
    "    'colenrfeb12', 'colenroct12', 'colenrfeb13', 'colenroct13', 'colenrfeb14',\n",
    "    'colenroct14', 'colenrfeb15', 'colenroct15', 'colenrfeb16', 'colenroct16',\n",
    "    'colenrfeb17', 'colenroct17'\n",
    "]"
   ]
  },
  {
   "cell_type": "markdown",
   "id": "assigned-chrome",
   "metadata": {},
   "source": [
    "# Create the new, reorganized DataFrame"
   ]
  },
  {
   "cell_type": "code",
   "execution_count": 50,
   "id": "annoying-accommodation",
   "metadata": {},
   "outputs": [],
   "source": [
    "nls97 = nls97[demoadult + demo + highschoolrecord + govresp + weeksworked +\n",
    "              colenr]"
   ]
  },
  {
   "cell_type": "code",
   "execution_count": 51,
   "id": "upset-asbestos",
   "metadata": {},
   "outputs": [
    {
     "data": {
      "text/plain": [
       "highestgradecompleted     float64\n",
       "maritalstatus            category\n",
       "childathome               float64\n",
       "childnotathome            float64\n",
       "wageincome                float64\n",
       "                           ...   \n",
       "colenroct15              category\n",
       "colenrfeb16              category\n",
       "colenroct16              category\n",
       "colenrfeb17              category\n",
       "colenroct17              category\n",
       "Length: 88, dtype: object"
      ]
     },
     "execution_count": 51,
     "metadata": {},
     "output_type": "execute_result"
    }
   ],
   "source": [
    "nls97.dtypes"
   ]
  },
  {
   "cell_type": "markdown",
   "id": "following-lithuania",
   "metadata": {},
   "source": [
    "# There's more…"
   ]
  },
  {
   "cell_type": "code",
   "execution_count": 52,
   "id": "unlike-lexington",
   "metadata": {},
   "outputs": [
    {
     "name": "stdout",
     "output_type": "stream",
     "text": [
      "<class 'pandas.core.frame.DataFrame'>\n",
      "Int64Index: 8984 entries, 100061 to 999963\n",
      "Data columns (total 31 columns):\n",
      " #   Column                 Non-Null Count  Dtype  \n",
      "---  ------                 --------------  -----  \n",
      " 0   highestgradecompleted  6663 non-null   float64\n",
      " 1   childathome            4791 non-null   float64\n",
      " 2   childnotathome         4791 non-null   float64\n",
      " 3   wageincome             5091 non-null   float64\n",
      " 4   nightlyhrssleep        6706 non-null   float64\n",
      " 5   birthmonth             8984 non-null   int64  \n",
      " 6   birthyear              8984 non-null   int64  \n",
      " 7   satverbal              1406 non-null   float64\n",
      " 8   satmath                1407 non-null   float64\n",
      " 9   gpaoverall             6004 non-null   float64\n",
      " 10  gpaenglish             5798 non-null   float64\n",
      " 11  gpamath                5766 non-null   float64\n",
      " 12  gpascience             5684 non-null   float64\n",
      " 13  weeksworked00          8603 non-null   float64\n",
      " 14  weeksworked01          8564 non-null   float64\n",
      " 15  weeksworked02          8556 non-null   float64\n",
      " 16  weeksworked03          8490 non-null   float64\n",
      " 17  weeksworked04          8458 non-null   float64\n",
      " 18  weeksworked05          8403 non-null   float64\n",
      " 19  weeksworked06          8340 non-null   float64\n",
      " 20  weeksworked07          8272 non-null   float64\n",
      " 21  weeksworked08          8186 non-null   float64\n",
      " 22  weeksworked09          8146 non-null   float64\n",
      " 23  weeksworked10          8054 non-null   float64\n",
      " 24  weeksworked11          7968 non-null   float64\n",
      " 25  weeksworked12          7747 non-null   float64\n",
      " 26  weeksworked13          7680 non-null   float64\n",
      " 27  weeksworked14          7612 non-null   float64\n",
      " 28  weeksworked15          7389 non-null   float64\n",
      " 29  weeksworked16          7068 non-null   float64\n",
      " 30  weeksworked17          6670 non-null   float64\n",
      "dtypes: float64(29), int64(2)\n",
      "memory usage: 2.2 MB\n"
     ]
    }
   ],
   "source": [
    "nls97.select_dtypes(exclude=['category']).info()"
   ]
  },
  {
   "cell_type": "code",
   "execution_count": 53,
   "id": "inclusive-rugby",
   "metadata": {},
   "outputs": [
    {
     "data": {
      "text/html": [
       "<div>\n",
       "<style scoped>\n",
       "    .dataframe tbody tr th:only-of-type {\n",
       "        vertical-align: middle;\n",
       "    }\n",
       "\n",
       "    .dataframe tbody tr th {\n",
       "        vertical-align: top;\n",
       "    }\n",
       "\n",
       "    .dataframe thead th {\n",
       "        text-align: right;\n",
       "    }\n",
       "</style>\n",
       "<table border=\"1\" class=\"dataframe\">\n",
       "  <thead>\n",
       "    <tr style=\"text-align: right;\">\n",
       "      <th></th>\n",
       "      <th>wageincome</th>\n",
       "      <th>govincomediff</th>\n",
       "    </tr>\n",
       "    <tr>\n",
       "      <th>personid</th>\n",
       "      <th></th>\n",
       "      <th></th>\n",
       "    </tr>\n",
       "  </thead>\n",
       "  <tbody>\n",
       "    <tr>\n",
       "      <th>100061</th>\n",
       "      <td>12500.0</td>\n",
       "      <td>NaN</td>\n",
       "    </tr>\n",
       "    <tr>\n",
       "      <th>100139</th>\n",
       "      <td>120000.0</td>\n",
       "      <td>NaN</td>\n",
       "    </tr>\n",
       "    <tr>\n",
       "      <th>100284</th>\n",
       "      <td>58000.0</td>\n",
       "      <td>NaN</td>\n",
       "    </tr>\n",
       "    <tr>\n",
       "      <th>100292</th>\n",
       "      <td>NaN</td>\n",
       "      <td>NaN</td>\n",
       "    </tr>\n",
       "    <tr>\n",
       "      <th>100583</th>\n",
       "      <td>30000.0</td>\n",
       "      <td>NaN</td>\n",
       "    </tr>\n",
       "    <tr>\n",
       "      <th>...</th>\n",
       "      <td>...</td>\n",
       "      <td>...</td>\n",
       "    </tr>\n",
       "    <tr>\n",
       "      <th>999291</th>\n",
       "      <td>35000.0</td>\n",
       "      <td>NaN</td>\n",
       "    </tr>\n",
       "    <tr>\n",
       "      <th>999406</th>\n",
       "      <td>116000.0</td>\n",
       "      <td>NaN</td>\n",
       "    </tr>\n",
       "    <tr>\n",
       "      <th>999543</th>\n",
       "      <td>NaN</td>\n",
       "      <td>NaN</td>\n",
       "    </tr>\n",
       "    <tr>\n",
       "      <th>999698</th>\n",
       "      <td>NaN</td>\n",
       "      <td>NaN</td>\n",
       "    </tr>\n",
       "    <tr>\n",
       "      <th>999963</th>\n",
       "      <td>50000.0</td>\n",
       "      <td>NaN</td>\n",
       "    </tr>\n",
       "  </tbody>\n",
       "</table>\n",
       "<p>8984 rows × 2 columns</p>\n",
       "</div>"
      ],
      "text/plain": [
       "          wageincome govincomediff\n",
       "personid                          \n",
       "100061       12500.0           NaN\n",
       "100139      120000.0           NaN\n",
       "100284       58000.0           NaN\n",
       "100292           NaN           NaN\n",
       "100583       30000.0           NaN\n",
       "...              ...           ...\n",
       "999291       35000.0           NaN\n",
       "999406      116000.0           NaN\n",
       "999543           NaN           NaN\n",
       "999698           NaN           NaN\n",
       "999963       50000.0           NaN\n",
       "\n",
       "[8984 rows x 2 columns]"
      ]
     },
     "execution_count": 53,
     "metadata": {},
     "output_type": "execute_result"
    }
   ],
   "source": [
    "nls97.filter(regex='income')"
   ]
  },
  {
   "cell_type": "code",
   "execution_count": null,
   "id": "impressive-beach",
   "metadata": {},
   "outputs": [],
   "source": []
  }
 ],
 "metadata": {
  "kernelspec": {
   "display_name": "Python 3",
   "language": "python",
   "name": "python3"
  },
  "language_info": {
   "codemirror_mode": {
    "name": "ipython",
    "version": 3
   },
   "file_extension": ".py",
   "mimetype": "text/x-python",
   "name": "python",
   "nbconvert_exporter": "python",
   "pygments_lexer": "ipython3",
   "version": "3.7.9"
  },
  "toc": {
   "base_numbering": 1,
   "nav_menu": {},
   "number_sections": true,
   "sideBar": true,
   "skip_h1_title": false,
   "title_cell": "Table of Contents",
   "title_sidebar": "Contents",
   "toc_cell": true,
   "toc_position": {},
   "toc_section_display": true,
   "toc_window_display": false
  }
 },
 "nbformat": 4,
 "nbformat_minor": 5
}
