{
 "cells": [
  {
   "cell_type": "markdown",
   "id": "incorrect-alcohol",
   "metadata": {
    "toc": true
   },
   "source": [
    "<h1>Table of Contents<span class=\"tocSkip\"></span></h1>\n",
    "<div class=\"toc\"><ul class=\"toc-item\"><li><span><a href=\"#Import-pandas,-numpy,-and-matplotlib,-and-load-the-COVID-case-totals-data\" data-toc-modified-id=\"Import-pandas,-numpy,-and-matplotlib,-and-load-the-COVID-case-totals-data-1\"><span class=\"toc-item-num\">1&nbsp;&nbsp;</span>Import pandas, numpy, and matplotlib, and load the COVID case totals data</a></span></li><li><span><a href=\"#Let's-remind-ourselves-of-the-structure-of-the-data\" data-toc-modified-id=\"Let's-remind-ourselves-of-the-structure-of-the-data-2\"><span class=\"toc-item-num\">2&nbsp;&nbsp;</span>Let's remind ourselves of the structure of the data</a></span></li><li><span><a href=\"#Get-the-descriptive-statistics-on-the-COVID-totals-and-demographic-columns\" data-toc-modified-id=\"Get-the-descriptive-statistics-on-the-COVID-totals-and-demographic-columns-3\"><span class=\"toc-item-num\">3&nbsp;&nbsp;</span>Get the descriptive statistics on the COVID totals and demographic columns</a></span></li><li><span><a href=\"#Take-a-closer-look-at-the-distribution-of-values-for-the-cases-and-deaths-columns\" data-toc-modified-id=\"Take-a-closer-look-at-the-distribution-of-values-for-the-cases-and-deaths-columns-4\"><span class=\"toc-item-num\">4&nbsp;&nbsp;</span>Take a closer look at the distribution of values for the cases and deaths columns</a></span></li><li><span><a href=\"#View-the-distribution-of-total-cases\" data-toc-modified-id=\"View-the-distribution-of-total-cases-5\"><span class=\"toc-item-num\">5&nbsp;&nbsp;</span>View the distribution of total cases</a></span></li></ul></div>"
   ]
  },
  {
   "cell_type": "markdown",
   "id": "dedicated-billy",
   "metadata": {},
   "source": [
    "# Import pandas, numpy, and matplotlib, and load the COVID case totals data"
   ]
  },
  {
   "cell_type": "code",
   "execution_count": 1,
   "id": "academic-myanmar",
   "metadata": {},
   "outputs": [],
   "source": [
    "import pandas as pd\n",
    "import numpy as np\n",
    "import matplotlib.pyplot as plt"
   ]
  },
  {
   "cell_type": "code",
   "execution_count": 2,
   "id": "infectious-capture",
   "metadata": {},
   "outputs": [],
   "source": [
    "import watermark\n",
    "%load_ext watermark"
   ]
  },
  {
   "cell_type": "code",
   "execution_count": 3,
   "id": "packed-mixture",
   "metadata": {},
   "outputs": [
    {
     "name": "stdout",
     "output_type": "stream",
     "text": [
      "Python implementation: CPython\n",
      "Python version       : 3.7.9\n",
      "IPython version      : 7.20.0\n",
      "\n",
      "json      : 2.0.9\n",
      "numpy     : 1.19.2\n",
      "matplotlib: 3.3.2\n",
      "watermark : 2.1.0\n",
      "pandas    : 1.2.1\n",
      "\n"
     ]
    }
   ],
   "source": [
    "%watermark -n -v -iv"
   ]
  },
  {
   "cell_type": "code",
   "execution_count": 4,
   "id": "basic-upgrade",
   "metadata": {},
   "outputs": [],
   "source": [
    "pd.set_option('display.width', 75)\n",
    "pd.set_option('display.max_columns', 7)\n",
    "pd.set_option('display.max_rows', 20)\n",
    "pd.options.display.float_format = '{:,.2f}'.format"
   ]
  },
  {
   "cell_type": "code",
   "execution_count": 5,
   "id": "abstract-luxembourg",
   "metadata": {},
   "outputs": [],
   "source": [
    "covidtotals = pd.read_csv('data/covidtotals.csv', parse_dates=['lastdate'])"
   ]
  },
  {
   "cell_type": "code",
   "execution_count": 6,
   "id": "adverse-murray",
   "metadata": {},
   "outputs": [],
   "source": [
    "covidtotals.set_index('iso_code', inplace=True)"
   ]
  },
  {
   "cell_type": "markdown",
   "id": "tired-practitioner",
   "metadata": {},
   "source": [
    "# Let's remind ourselves of the structure of the data"
   ]
  },
  {
   "cell_type": "code",
   "execution_count": 7,
   "id": "eligible-religious",
   "metadata": {},
   "outputs": [
    {
     "data": {
      "text/plain": [
       "(210, 11)"
      ]
     },
     "execution_count": 7,
     "metadata": {},
     "output_type": "execute_result"
    }
   ],
   "source": [
    "covidtotals.shape"
   ]
  },
  {
   "cell_type": "code",
   "execution_count": 8,
   "id": "refined-phone",
   "metadata": {},
   "outputs": [
    {
     "data": {
      "text/html": [
       "<div>\n",
       "<style scoped>\n",
       "    .dataframe tbody tr th:only-of-type {\n",
       "        vertical-align: middle;\n",
       "    }\n",
       "\n",
       "    .dataframe tbody tr th {\n",
       "        vertical-align: top;\n",
       "    }\n",
       "\n",
       "    .dataframe thead th {\n",
       "        text-align: right;\n",
       "    }\n",
       "</style>\n",
       "<table border=\"1\" class=\"dataframe\">\n",
       "  <thead>\n",
       "    <tr style=\"text-align: right;\">\n",
       "      <th>iso_code</th>\n",
       "      <th>COG</th>\n",
       "      <th>THA</th>\n",
       "    </tr>\n",
       "  </thead>\n",
       "  <tbody>\n",
       "    <tr>\n",
       "      <th>lastdate</th>\n",
       "      <td>2020-06-01 00:00:00</td>\n",
       "      <td>2020-06-01 00:00:00</td>\n",
       "    </tr>\n",
       "    <tr>\n",
       "      <th>location</th>\n",
       "      <td>Congo</td>\n",
       "      <td>Thailand</td>\n",
       "    </tr>\n",
       "    <tr>\n",
       "      <th>total_cases</th>\n",
       "      <td>611</td>\n",
       "      <td>3081</td>\n",
       "    </tr>\n",
       "    <tr>\n",
       "      <th>total_deaths</th>\n",
       "      <td>20</td>\n",
       "      <td>57</td>\n",
       "    </tr>\n",
       "    <tr>\n",
       "      <th>total_cases_pm</th>\n",
       "      <td>110.73</td>\n",
       "      <td>44.14</td>\n",
       "    </tr>\n",
       "    <tr>\n",
       "      <th>total_deaths_pm</th>\n",
       "      <td>3.62</td>\n",
       "      <td>0.82</td>\n",
       "    </tr>\n",
       "    <tr>\n",
       "      <th>population</th>\n",
       "      <td>5,518,092.0</td>\n",
       "      <td>69,799,978.0</td>\n",
       "    </tr>\n",
       "    <tr>\n",
       "      <th>pop_density</th>\n",
       "      <td>15.4</td>\n",
       "      <td>135.13</td>\n",
       "    </tr>\n",
       "    <tr>\n",
       "      <th>median_age</th>\n",
       "      <td>19.0</td>\n",
       "      <td>40.1</td>\n",
       "    </tr>\n",
       "    <tr>\n",
       "      <th>gdp_per_capita</th>\n",
       "      <td>4,881.41</td>\n",
       "      <td>16,277.67</td>\n",
       "    </tr>\n",
       "    <tr>\n",
       "      <th>hosp_beds</th>\n",
       "      <td>NaN</td>\n",
       "      <td>2.1</td>\n",
       "    </tr>\n",
       "  </tbody>\n",
       "</table>\n",
       "</div>"
      ],
      "text/plain": [
       "iso_code                         COG                  THA\n",
       "lastdate         2020-06-01 00:00:00  2020-06-01 00:00:00\n",
       "location                       Congo             Thailand\n",
       "total_cases                      611                 3081\n",
       "total_deaths                      20                   57\n",
       "total_cases_pm                110.73                44.14\n",
       "total_deaths_pm                 3.62                 0.82\n",
       "population               5,518,092.0         69,799,978.0\n",
       "pop_density                     15.4               135.13\n",
       "median_age                      19.0                 40.1\n",
       "gdp_per_capita              4,881.41            16,277.67\n",
       "hosp_beds                        NaN                  2.1"
      ]
     },
     "execution_count": 8,
     "metadata": {},
     "output_type": "execute_result"
    }
   ],
   "source": [
    "covidtotals.sample(2, random_state=1).T"
   ]
  },
  {
   "cell_type": "markdown",
   "id": "developing-rental",
   "metadata": {},
   "source": [
    "# Get the descriptive statistics on the COVID totals and demographic columns"
   ]
  },
  {
   "cell_type": "code",
   "execution_count": 9,
   "id": "unusual-stick",
   "metadata": {},
   "outputs": [
    {
     "data": {
      "text/html": [
       "<div>\n",
       "<style scoped>\n",
       "    .dataframe tbody tr th:only-of-type {\n",
       "        vertical-align: middle;\n",
       "    }\n",
       "\n",
       "    .dataframe tbody tr th {\n",
       "        vertical-align: top;\n",
       "    }\n",
       "\n",
       "    .dataframe thead th {\n",
       "        text-align: right;\n",
       "    }\n",
       "</style>\n",
       "<table border=\"1\" class=\"dataframe\">\n",
       "  <thead>\n",
       "    <tr style=\"text-align: right;\">\n",
       "      <th></th>\n",
       "      <th>total_cases</th>\n",
       "      <th>total_deaths</th>\n",
       "      <th>total_cases_pm</th>\n",
       "      <th>...</th>\n",
       "      <th>median_age</th>\n",
       "      <th>gdp_per_capita</th>\n",
       "      <th>hosp_beds</th>\n",
       "    </tr>\n",
       "  </thead>\n",
       "  <tbody>\n",
       "    <tr>\n",
       "      <th>count</th>\n",
       "      <td>210.00</td>\n",
       "      <td>210.00</td>\n",
       "      <td>209.00</td>\n",
       "      <td>...</td>\n",
       "      <td>186.00</td>\n",
       "      <td>182.00</td>\n",
       "      <td>164.00</td>\n",
       "    </tr>\n",
       "    <tr>\n",
       "      <th>mean</th>\n",
       "      <td>29,216.14</td>\n",
       "      <td>1,770.71</td>\n",
       "      <td>1,361.84</td>\n",
       "      <td>...</td>\n",
       "      <td>30.63</td>\n",
       "      <td>19,539.15</td>\n",
       "      <td>3.01</td>\n",
       "    </tr>\n",
       "    <tr>\n",
       "      <th>std</th>\n",
       "      <td>136,397.80</td>\n",
       "      <td>8,705.57</td>\n",
       "      <td>2,629.89</td>\n",
       "      <td>...</td>\n",
       "      <td>9.13</td>\n",
       "      <td>19,862.35</td>\n",
       "      <td>2.46</td>\n",
       "    </tr>\n",
       "    <tr>\n",
       "      <th>min</th>\n",
       "      <td>0.00</td>\n",
       "      <td>0.00</td>\n",
       "      <td>0.89</td>\n",
       "      <td>...</td>\n",
       "      <td>15.10</td>\n",
       "      <td>661.24</td>\n",
       "      <td>0.10</td>\n",
       "    </tr>\n",
       "    <tr>\n",
       "      <th>25%</th>\n",
       "      <td>175.75</td>\n",
       "      <td>4.00</td>\n",
       "      <td>96.78</td>\n",
       "      <td>...</td>\n",
       "      <td>22.25</td>\n",
       "      <td>4,485.33</td>\n",
       "      <td>1.30</td>\n",
       "    </tr>\n",
       "    <tr>\n",
       "      <th>50%</th>\n",
       "      <td>1,242.50</td>\n",
       "      <td>25.50</td>\n",
       "      <td>282.00</td>\n",
       "      <td>...</td>\n",
       "      <td>30.25</td>\n",
       "      <td>13,183.08</td>\n",
       "      <td>2.36</td>\n",
       "    </tr>\n",
       "    <tr>\n",
       "      <th>75%</th>\n",
       "      <td>10,117.00</td>\n",
       "      <td>241.25</td>\n",
       "      <td>1,803.32</td>\n",
       "      <td>...</td>\n",
       "      <td>39.00</td>\n",
       "      <td>28,556.53</td>\n",
       "      <td>3.90</td>\n",
       "    </tr>\n",
       "    <tr>\n",
       "      <th>max</th>\n",
       "      <td>1,790,191.00</td>\n",
       "      <td>104,383.00</td>\n",
       "      <td>19,771.35</td>\n",
       "      <td>...</td>\n",
       "      <td>48.20</td>\n",
       "      <td>116,935.60</td>\n",
       "      <td>13.80</td>\n",
       "    </tr>\n",
       "  </tbody>\n",
       "</table>\n",
       "<p>8 rows × 9 columns</p>\n",
       "</div>"
      ],
      "text/plain": [
       "       total_cases  total_deaths  total_cases_pm  ...  median_age  \\\n",
       "count       210.00        210.00          209.00  ...      186.00   \n",
       "mean     29,216.14      1,770.71        1,361.84  ...       30.63   \n",
       "std     136,397.80      8,705.57        2,629.89  ...        9.13   \n",
       "min           0.00          0.00            0.89  ...       15.10   \n",
       "25%         175.75          4.00           96.78  ...       22.25   \n",
       "50%       1,242.50         25.50          282.00  ...       30.25   \n",
       "75%      10,117.00        241.25        1,803.32  ...       39.00   \n",
       "max   1,790,191.00    104,383.00       19,771.35  ...       48.20   \n",
       "\n",
       "       gdp_per_capita  hosp_beds  \n",
       "count          182.00     164.00  \n",
       "mean        19,539.15       3.01  \n",
       "std         19,862.35       2.46  \n",
       "min            661.24       0.10  \n",
       "25%          4,485.33       1.30  \n",
       "50%         13,183.08       2.36  \n",
       "75%         28,556.53       3.90  \n",
       "max        116,935.60      13.80  \n",
       "\n",
       "[8 rows x 9 columns]"
      ]
     },
     "execution_count": 9,
     "metadata": {},
     "output_type": "execute_result"
    }
   ],
   "source": [
    "covidtotals.describe()"
   ]
  },
  {
   "cell_type": "markdown",
   "id": "critical-institute",
   "metadata": {},
   "source": [
    "# Take a closer look at the distribution of values for the cases and deaths columns"
   ]
  },
  {
   "cell_type": "code",
   "execution_count": 10,
   "id": "functioning-letters",
   "metadata": {},
   "outputs": [],
   "source": [
    "totvars = [\n",
    "    'location', 'total_cases', 'total_deaths', 'total_cases_pm',\n",
    "    'total_deaths_pm'\n",
    "]"
   ]
  },
  {
   "cell_type": "code",
   "execution_count": 11,
   "id": "polar-affiliation",
   "metadata": {},
   "outputs": [
    {
     "data": {
      "text/html": [
       "<div>\n",
       "<style scoped>\n",
       "    .dataframe tbody tr th:only-of-type {\n",
       "        vertical-align: middle;\n",
       "    }\n",
       "\n",
       "    .dataframe tbody tr th {\n",
       "        vertical-align: top;\n",
       "    }\n",
       "\n",
       "    .dataframe thead th {\n",
       "        text-align: right;\n",
       "    }\n",
       "</style>\n",
       "<table border=\"1\" class=\"dataframe\">\n",
       "  <thead>\n",
       "    <tr style=\"text-align: right;\">\n",
       "      <th></th>\n",
       "      <th>total_cases</th>\n",
       "      <th>total_deaths</th>\n",
       "      <th>total_cases_pm</th>\n",
       "      <th>total_deaths_pm</th>\n",
       "    </tr>\n",
       "  </thead>\n",
       "  <tbody>\n",
       "    <tr>\n",
       "      <th>0.00</th>\n",
       "      <td>0.00</td>\n",
       "      <td>0.00</td>\n",
       "      <td>0.89</td>\n",
       "      <td>0.00</td>\n",
       "    </tr>\n",
       "    <tr>\n",
       "      <th>0.10</th>\n",
       "      <td>22.90</td>\n",
       "      <td>0.00</td>\n",
       "      <td>18.49</td>\n",
       "      <td>0.00</td>\n",
       "    </tr>\n",
       "    <tr>\n",
       "      <th>0.20</th>\n",
       "      <td>105.20</td>\n",
       "      <td>2.00</td>\n",
       "      <td>56.74</td>\n",
       "      <td>0.40</td>\n",
       "    </tr>\n",
       "    <tr>\n",
       "      <th>0.30</th>\n",
       "      <td>302.00</td>\n",
       "      <td>6.70</td>\n",
       "      <td>118.23</td>\n",
       "      <td>1.73</td>\n",
       "    </tr>\n",
       "    <tr>\n",
       "      <th>0.40</th>\n",
       "      <td>762.00</td>\n",
       "      <td>12.00</td>\n",
       "      <td>214.92</td>\n",
       "      <td>3.97</td>\n",
       "    </tr>\n",
       "    <tr>\n",
       "      <th>0.50</th>\n",
       "      <td>1,242.50</td>\n",
       "      <td>25.50</td>\n",
       "      <td>282.00</td>\n",
       "      <td>6.21</td>\n",
       "    </tr>\n",
       "    <tr>\n",
       "      <th>0.60</th>\n",
       "      <td>2,514.60</td>\n",
       "      <td>54.60</td>\n",
       "      <td>546.05</td>\n",
       "      <td>12.56</td>\n",
       "    </tr>\n",
       "    <tr>\n",
       "      <th>0.70</th>\n",
       "      <td>6,959.80</td>\n",
       "      <td>137.20</td>\n",
       "      <td>1,074.03</td>\n",
       "      <td>26.06</td>\n",
       "    </tr>\n",
       "    <tr>\n",
       "      <th>0.80</th>\n",
       "      <td>16,847.20</td>\n",
       "      <td>323.20</td>\n",
       "      <td>2,208.74</td>\n",
       "      <td>50.29</td>\n",
       "    </tr>\n",
       "    <tr>\n",
       "      <th>0.90</th>\n",
       "      <td>46,513.10</td>\n",
       "      <td>1,616.90</td>\n",
       "      <td>3,772.00</td>\n",
       "      <td>139.53</td>\n",
       "    </tr>\n",
       "    <tr>\n",
       "      <th>1.00</th>\n",
       "      <td>1,790,191.00</td>\n",
       "      <td>104,383.00</td>\n",
       "      <td>19,771.35</td>\n",
       "      <td>1,237.55</td>\n",
       "    </tr>\n",
       "  </tbody>\n",
       "</table>\n",
       "</div>"
      ],
      "text/plain": [
       "      total_cases  total_deaths  total_cases_pm  total_deaths_pm\n",
       "0.00         0.00          0.00            0.89             0.00\n",
       "0.10        22.90          0.00           18.49             0.00\n",
       "0.20       105.20          2.00           56.74             0.40\n",
       "0.30       302.00          6.70          118.23             1.73\n",
       "0.40       762.00         12.00          214.92             3.97\n",
       "0.50     1,242.50         25.50          282.00             6.21\n",
       "0.60     2,514.60         54.60          546.05            12.56\n",
       "0.70     6,959.80        137.20        1,074.03            26.06\n",
       "0.80    16,847.20        323.20        2,208.74            50.29\n",
       "0.90    46,513.10      1,616.90        3,772.00           139.53\n",
       "1.00 1,790,191.00    104,383.00       19,771.35         1,237.55"
      ]
     },
     "execution_count": 11,
     "metadata": {},
     "output_type": "execute_result"
    }
   ],
   "source": [
    "covidtotals[totvars].quantile(np.arange(0.0, 1.1, 0.1))"
   ]
  },
  {
   "cell_type": "markdown",
   "id": "thermal-novel",
   "metadata": {},
   "source": [
    "# View the distribution of total cases"
   ]
  },
  {
   "cell_type": "code",
   "execution_count": 12,
   "id": "eleven-insulin",
   "metadata": {},
   "outputs": [
    {
     "data": {
      "image/png": "[encoded data removed]",
      "text/plain": [
       "<Figure size 432x288 with 1 Axes>"
      ]
     },
     "metadata": {
      "needs_background": "light"
     },
     "output_type": "display_data"
    }
   ],
   "source": [
    "plt.hist(covidtotals['total_cases'] / 1000, bins=12)\n",
    "plt.title('Total Covid Cases')\n",
    "plt.xlabel('Cases')\n",
    "plt.ylabel('Number of Countries')\n",
    "plt.show()"
   ]
  },
  {
   "cell_type": "code",
   "execution_count": null,
   "id": "rotary-emission",
   "metadata": {},
   "outputs": [],
   "source": []
  }
 ],
 "metadata": {
  "kernelspec": {
   "display_name": "Python 3",
   "language": "python",
   "name": "python3"
  },
  "language_info": {
   "codemirror_mode": {
    "name": "ipython",
    "version": 3
   },
   "file_extension": ".py",
   "mimetype": "text/x-python",
   "name": "python",
   "nbconvert_exporter": "python",
   "pygments_lexer": "ipython3",
   "version": "3.7.9"
  },
  "toc": {
   "base_numbering": 1,
   "nav_menu": {},
   "number_sections": true,
   "sideBar": true,
   "skip_h1_title": false,
   "title_cell": "Table of Contents",
   "title_sidebar": "Contents",
   "toc_cell": true,
   "toc_position": {},
   "toc_section_display": true,
   "toc_window_display": false
  }
 },
 "nbformat": 4,
 "nbformat_minor": 5
}
