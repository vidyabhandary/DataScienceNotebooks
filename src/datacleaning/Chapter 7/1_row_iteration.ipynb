{
 "cells": [
  {
   "cell_type": "markdown",
   "id": "agreed-fairy",
   "metadata": {
    "toc": true
   },
   "source": [
    "<h1>Table of Contents<span class=\"tocSkip\"></span></h1>\n",
    "<div class=\"toc\"><ul class=\"toc-item\"><li><span><a href=\"#Import-pandas-and-numpy,-and-load-the-COVID-19-and-land-temperature-data\" data-toc-modified-id=\"Import-pandas-and-numpy,-and-load-the-COVID-19-and-land-temperature-data-1\"><span class=\"toc-item-num\">1&nbsp;&nbsp;</span>Import pandas and numpy, and load the COVID-19 and land temperature data</a></span></li><li><span><a href=\"#Sort-data-by-location-and-date\" data-toc-modified-id=\"Sort-data-by-location-and-date-2\"><span class=\"toc-item-num\">2&nbsp;&nbsp;</span>Sort data by location and date</a></span></li><li><span><a href=\"#Iterate-over-rows-with-itertuples\" data-toc-modified-id=\"Iterate-over-rows-with-itertuples-3\"><span class=\"toc-item-num\">3&nbsp;&nbsp;</span>Iterate over rows with itertuples</a></span></li><li><span><a href=\"#Create-a-DataFrame-from-the-list-of-summary-values,-rowlist\" data-toc-modified-id=\"Create-a-DataFrame-from-the-list-of-summary-values,-rowlist-4\"><span class=\"toc-item-num\">4&nbsp;&nbsp;</span>Create a DataFrame from the list of summary values, rowlist</a></span></li><li><span><a href=\"#Sort-the-land-temperature-data\" data-toc-modified-id=\"Sort-the-land-temperature-data-5\"><span class=\"toc-item-num\">5&nbsp;&nbsp;</span>Sort the land temperature data</a></span></li><li><span><a href=\"#Exclude-rows-where-there-is-a-large-change-from-one-period-to-the-next\" data-toc-modified-id=\"Exclude-rows-where-there-is-a-large-change-from-one-period-to-the-next-6\"><span class=\"toc-item-num\">6&nbsp;&nbsp;</span>Exclude rows where there is a large change from one period to the next</a></span></li><li><span><a href=\"#Create-a-DataFrame-from-the-summary-values\" data-toc-modified-id=\"Create-a-DataFrame-from-the-summary-values-7\"><span class=\"toc-item-num\">7&nbsp;&nbsp;</span>Create a DataFrame from the summary values</a></span></li></ul></div>"
   ]
  },
  {
   "cell_type": "markdown",
   "id": "located-monaco",
   "metadata": {},
   "source": [
    "# Import pandas and numpy, and load the COVID-19 and land temperature data"
   ]
  },
  {
   "cell_type": "code",
   "execution_count": 41,
   "id": "industrial-amplifier",
   "metadata": {},
   "outputs": [],
   "source": [
    "import pandas as pd\n",
    "import numpy as np"
   ]
  },
  {
   "cell_type": "code",
   "execution_count": 42,
   "id": "funded-enzyme",
   "metadata": {},
   "outputs": [],
   "source": [
    "# pd.set_option('display.width', 200)\n",
    "# pd.set_option('display.max_columns', 35)\n",
    "# pd.set_option('display.max_rows', 200)\n",
    "pd.options.display.float_format = '{:,.2f}'.format"
   ]
  },
  {
   "cell_type": "code",
   "execution_count": 43,
   "id": "answering-roulette",
   "metadata": {},
   "outputs": [
    {
     "name": "stdout",
     "output_type": "stream",
     "text": [
      "The watermark extension is already loaded. To reload it, use:\n",
      "  %reload_ext watermark\n",
      "watermark: 2.1.0\n",
      "pandas   : 1.2.1\n",
      "json     : 2.0.9\n",
      "numpy    : 1.19.2\n",
      "\n"
     ]
    }
   ],
   "source": [
    "import watermark\n",
    "%load_ext watermark\n",
    "\n",
    "%watermark -n -i -iv"
   ]
  },
  {
   "cell_type": "code",
   "execution_count": 44,
   "id": "satisfied-raising",
   "metadata": {},
   "outputs": [],
   "source": [
    "coviddaily = pd.read_csv('data/coviddaily720.csv', parse_dates=['casedate'])\n",
    "ltbrazil = pd.read_csv('data/ltbrazil.csv')"
   ]
  },
  {
   "cell_type": "markdown",
   "id": "obvious-morris",
   "metadata": {},
   "source": [
    "# Sort data by location and date"
   ]
  },
  {
   "cell_type": "code",
   "execution_count": 45,
   "id": "grateful-madness",
   "metadata": {},
   "outputs": [],
   "source": [
    "coviddaily = coviddaily.sort_values(['location', 'casedate'])"
   ]
  },
  {
   "cell_type": "markdown",
   "id": "sexual-miracle",
   "metadata": {},
   "source": [
    "# Iterate over rows with itertuples"
   ]
  },
  {
   "cell_type": "code",
   "execution_count": 46,
   "id": "timely-burke",
   "metadata": {},
   "outputs": [
    {
     "data": {
      "text/html": [
       "<div>\n",
       "<style scoped>\n",
       "    .dataframe tbody tr th:only-of-type {\n",
       "        vertical-align: middle;\n",
       "    }\n",
       "\n",
       "    .dataframe tbody tr th {\n",
       "        vertical-align: top;\n",
       "    }\n",
       "\n",
       "    .dataframe thead th {\n",
       "        text-align: right;\n",
       "    }\n",
       "</style>\n",
       "<table border=\"1\" class=\"dataframe\">\n",
       "  <thead>\n",
       "    <tr style=\"text-align: right;\">\n",
       "      <th></th>\n",
       "      <th>iso_code</th>\n",
       "      <th>casedate</th>\n",
       "      <th>location</th>\n",
       "      <th>continent</th>\n",
       "      <th>new_cases</th>\n",
       "      <th>new_deaths</th>\n",
       "      <th>population</th>\n",
       "      <th>pop_density</th>\n",
       "      <th>median_age</th>\n",
       "      <th>gdp_per_capita</th>\n",
       "      <th>hosp_beds</th>\n",
       "      <th>region</th>\n",
       "    </tr>\n",
       "  </thead>\n",
       "  <tbody>\n",
       "    <tr>\n",
       "      <th>29211</th>\n",
       "      <td>ZWE</td>\n",
       "      <td>2020-07-11</td>\n",
       "      <td>Zimbabwe</td>\n",
       "      <td>Africa</td>\n",
       "      <td>16.00</td>\n",
       "      <td>1.00</td>\n",
       "      <td>14,862,927.00</td>\n",
       "      <td>42.73</td>\n",
       "      <td>19.60</td>\n",
       "      <td>1,899.78</td>\n",
       "      <td>1.70</td>\n",
       "      <td>Southern Africa</td>\n",
       "    </tr>\n",
       "    <tr>\n",
       "      <th>29212</th>\n",
       "      <td>ZWE</td>\n",
       "      <td>2020-07-12</td>\n",
       "      <td>Zimbabwe</td>\n",
       "      <td>Africa</td>\n",
       "      <td>40.00</td>\n",
       "      <td>5.00</td>\n",
       "      <td>14,862,927.00</td>\n",
       "      <td>42.73</td>\n",
       "      <td>19.60</td>\n",
       "      <td>1,899.78</td>\n",
       "      <td>1.70</td>\n",
       "      <td>Southern Africa</td>\n",
       "    </tr>\n",
       "  </tbody>\n",
       "</table>\n",
       "</div>"
      ],
      "text/plain": [
       "      iso_code   casedate  location continent  new_cases  new_deaths  \\\n",
       "29211      ZWE 2020-07-11  Zimbabwe    Africa      16.00        1.00   \n",
       "29212      ZWE 2020-07-12  Zimbabwe    Africa      40.00        5.00   \n",
       "\n",
       "         population  pop_density  median_age  gdp_per_capita  hosp_beds  \\\n",
       "29211 14,862,927.00        42.73       19.60        1,899.78       1.70   \n",
       "29212 14,862,927.00        42.73       19.60        1,899.78       1.70   \n",
       "\n",
       "                region  \n",
       "29211  Southern Africa  \n",
       "29212  Southern Africa  "
      ]
     },
     "execution_count": 46,
     "metadata": {},
     "output_type": "execute_result"
    }
   ],
   "source": [
    "coviddaily.tail(2)"
   ]
  },
  {
   "cell_type": "code",
   "execution_count": 47,
   "id": "british-disorder",
   "metadata": {},
   "outputs": [],
   "source": [
    "prevloc = 'ZZZ'\n",
    "rowlist = []\n",
    "\n",
    "for row in coviddaily.itertuples():\n",
    "    if (prevloc != row.location):\n",
    "        if prevloc != 'ZZZ':\n",
    "            rowlist.append({'location': prevloc, 'case_count': case_count})\n",
    "        case_count = 0\n",
    "        prevloc = row.location\n",
    "    case_count += row.new_cases"
   ]
  },
  {
   "cell_type": "code",
   "execution_count": 48,
   "id": "provincial-strand",
   "metadata": {},
   "outputs": [],
   "source": [
    "rowlist.append({'location': prevloc, 'case_count': case_count})"
   ]
  },
  {
   "cell_type": "code",
   "execution_count": 49,
   "id": "heard-failure",
   "metadata": {},
   "outputs": [
    {
     "data": {
      "text/plain": [
       "209"
      ]
     },
     "execution_count": 49,
     "metadata": {},
     "output_type": "execute_result"
    }
   ],
   "source": [
    "len(rowlist)"
   ]
  },
  {
   "cell_type": "code",
   "execution_count": 50,
   "id": "residential-asbestos",
   "metadata": {},
   "outputs": [
    {
     "data": {
      "text/plain": [
       "[{'location': 'Afghanistan', 'case_count': 34451.0},\n",
       " {'location': 'Albania', 'case_count': 3371.0},\n",
       " {'location': 'Algeria', 'case_count': 18712.0},\n",
       " {'location': 'Andorra', 'case_count': 855.0}]"
      ]
     },
     "execution_count": 50,
     "metadata": {},
     "output_type": "execute_result"
    }
   ],
   "source": [
    "rowlist[0:4]"
   ]
  },
  {
   "cell_type": "markdown",
   "id": "determined-nicholas",
   "metadata": {},
   "source": [
    "# Create a DataFrame from the list of summary values, rowlist"
   ]
  },
  {
   "cell_type": "code",
   "execution_count": 51,
   "id": "hispanic-secondary",
   "metadata": {},
   "outputs": [
    {
     "data": {
      "text/html": [
       "<div>\n",
       "<style scoped>\n",
       "    .dataframe tbody tr th:only-of-type {\n",
       "        vertical-align: middle;\n",
       "    }\n",
       "\n",
       "    .dataframe tbody tr th {\n",
       "        vertical-align: top;\n",
       "    }\n",
       "\n",
       "    .dataframe thead th {\n",
       "        text-align: right;\n",
       "    }\n",
       "</style>\n",
       "<table border=\"1\" class=\"dataframe\">\n",
       "  <thead>\n",
       "    <tr style=\"text-align: right;\">\n",
       "      <th></th>\n",
       "      <th>location</th>\n",
       "      <th>case_count</th>\n",
       "    </tr>\n",
       "  </thead>\n",
       "  <tbody>\n",
       "    <tr>\n",
       "      <th>0</th>\n",
       "      <td>Afghanistan</td>\n",
       "      <td>34,451.00</td>\n",
       "    </tr>\n",
       "    <tr>\n",
       "      <th>1</th>\n",
       "      <td>Albania</td>\n",
       "      <td>3,371.00</td>\n",
       "    </tr>\n",
       "    <tr>\n",
       "      <th>2</th>\n",
       "      <td>Algeria</td>\n",
       "      <td>18,712.00</td>\n",
       "    </tr>\n",
       "    <tr>\n",
       "      <th>3</th>\n",
       "      <td>Andorra</td>\n",
       "      <td>855.00</td>\n",
       "    </tr>\n",
       "    <tr>\n",
       "      <th>4</th>\n",
       "      <td>Angola</td>\n",
       "      <td>483.00</td>\n",
       "    </tr>\n",
       "  </tbody>\n",
       "</table>\n",
       "</div>"
      ],
      "text/plain": [
       "      location  case_count\n",
       "0  Afghanistan   34,451.00\n",
       "1      Albania    3,371.00\n",
       "2      Algeria   18,712.00\n",
       "3      Andorra      855.00\n",
       "4       Angola      483.00"
      ]
     },
     "execution_count": 51,
     "metadata": {},
     "output_type": "execute_result"
    }
   ],
   "source": [
    "covidtotals = pd.DataFrame(rowlist)\n",
    "covidtotals.head()"
   ]
  },
  {
   "cell_type": "markdown",
   "id": "egyptian-reconstruction",
   "metadata": {},
   "source": [
    "# Sort the land temperature data"
   ]
  },
  {
   "cell_type": "code",
   "execution_count": 52,
   "id": "vietnamese-consultancy",
   "metadata": {},
   "outputs": [],
   "source": [
    "ltbrazil = ltbrazil.sort_values(['station', 'month'])\n",
    "ltbrazil = ltbrazil.dropna(subset=['temperature'])"
   ]
  },
  {
   "cell_type": "code",
   "execution_count": 53,
   "id": "together-afternoon",
   "metadata": {},
   "outputs": [
    {
     "data": {
      "text/html": [
       "<div>\n",
       "<style scoped>\n",
       "    .dataframe tbody tr th:only-of-type {\n",
       "        vertical-align: middle;\n",
       "    }\n",
       "\n",
       "    .dataframe tbody tr th {\n",
       "        vertical-align: top;\n",
       "    }\n",
       "\n",
       "    .dataframe thead th {\n",
       "        text-align: right;\n",
       "    }\n",
       "</style>\n",
       "<table border=\"1\" class=\"dataframe\">\n",
       "  <thead>\n",
       "    <tr style=\"text-align: right;\">\n",
       "      <th></th>\n",
       "      <th>locationid</th>\n",
       "      <th>year</th>\n",
       "      <th>month</th>\n",
       "      <th>temperature</th>\n",
       "      <th>latitude</th>\n",
       "      <th>longitude</th>\n",
       "      <th>elevation</th>\n",
       "      <th>station</th>\n",
       "      <th>countryid</th>\n",
       "      <th>country</th>\n",
       "      <th>latabs</th>\n",
       "    </tr>\n",
       "  </thead>\n",
       "  <tbody>\n",
       "    <tr>\n",
       "      <th>938</th>\n",
       "      <td>BR00B6-0360</td>\n",
       "      <td>2019</td>\n",
       "      <td>11</td>\n",
       "      <td>25.15</td>\n",
       "      <td>-20.42</td>\n",
       "      <td>-49.98</td>\n",
       "      <td>503.00</td>\n",
       "      <td>VOTUPORANGA</td>\n",
       "      <td>BR</td>\n",
       "      <td>Brazil</td>\n",
       "      <td>20.42</td>\n",
       "    </tr>\n",
       "    <tr>\n",
       "      <th>1030</th>\n",
       "      <td>BR00B6-0360</td>\n",
       "      <td>2019</td>\n",
       "      <td>12</td>\n",
       "      <td>24.85</td>\n",
       "      <td>-20.42</td>\n",
       "      <td>-49.98</td>\n",
       "      <td>503.00</td>\n",
       "      <td>VOTUPORANGA</td>\n",
       "      <td>BR</td>\n",
       "      <td>Brazil</td>\n",
       "      <td>20.42</td>\n",
       "    </tr>\n",
       "  </tbody>\n",
       "</table>\n",
       "</div>"
      ],
      "text/plain": [
       "       locationid  year  month  temperature  latitude  longitude  elevation  \\\n",
       "938   BR00B6-0360  2019     11        25.15    -20.42     -49.98     503.00   \n",
       "1030  BR00B6-0360  2019     12        24.85    -20.42     -49.98     503.00   \n",
       "\n",
       "          station countryid country  latabs  \n",
       "938   VOTUPORANGA        BR  Brazil   20.42  \n",
       "1030  VOTUPORANGA        BR  Brazil   20.42  "
      ]
     },
     "execution_count": 53,
     "metadata": {},
     "output_type": "execute_result"
    }
   ],
   "source": [
    "ltbrazil.tail(2)"
   ]
  },
  {
   "cell_type": "markdown",
   "id": "checked-lounge",
   "metadata": {},
   "source": [
    "# Exclude rows where there is a large change from one period to the next"
   ]
  },
  {
   "cell_type": "code",
   "execution_count": 54,
   "id": "adverse-constraint",
   "metadata": {},
   "outputs": [],
   "source": [
    "prevstation = 'ZZZ'\n",
    "prevtemp = 0\n",
    "templist = []\n",
    "# station_count = 0\n",
    "# temp_count = 0"
   ]
  },
  {
   "cell_type": "code",
   "execution_count": 55,
   "id": "broken-namibia",
   "metadata": {},
   "outputs": [],
   "source": [
    "for row in ltbrazil.itertuples():\n",
    "    if prevstation != row.station:\n",
    "        if prevstation != 'ZZZ':\n",
    "            templist.append({\n",
    "                'station': prevstation,\n",
    "                'avgtemp': temp_count / station_count,\n",
    "                'station_count': station_count\n",
    "            })\n",
    "        temp_count = 0\n",
    "        station_count = 0\n",
    "        prevstation = row.station\n",
    "    # choose only rows that are within 3 degrees of the previous temperature\n",
    "    if ((0 <= abs(row.temperature - prevtemp) <= 3) or (station_count == 0)):\n",
    "        temp_count += row.temperature\n",
    "        station_count += 1\n",
    "    prevtemp = row.temperature"
   ]
  },
  {
   "cell_type": "code",
   "execution_count": 56,
   "id": "driving-average",
   "metadata": {},
   "outputs": [
    {
     "data": {
      "text/plain": [
       "[{'station': 'ALTAMIRA', 'avgtemp': 28.310000000000002, 'station_count': 5},\n",
       " {'station': 'ALTA_FLORESTA_AERO',\n",
       "  'avgtemp': 29.433636363636367,\n",
       "  'station_count': 11},\n",
       " {'station': 'ARAXA', 'avgtemp': 21.612499999999997, 'station_count': 4},\n",
       " {'station': 'BACABAL', 'avgtemp': 29.75, 'station_count': 4},\n",
       " {'station': 'BAGE', 'avgtemp': 20.366666666666664, 'station_count': 9}]"
      ]
     },
     "execution_count": 56,
     "metadata": {},
     "output_type": "execute_result"
    }
   ],
   "source": [
    "templist.append({\n",
    "    'station': prevstation,\n",
    "    'avgtemp': temp_count / station_count,\n",
    "    'station_count': station_count\n",
    "})\n",
    "templist[0:5]"
   ]
  },
  {
   "cell_type": "markdown",
   "id": "driving-accordance",
   "metadata": {},
   "source": [
    "# Create a DataFrame from the summary values"
   ]
  },
  {
   "cell_type": "code",
   "execution_count": 57,
   "id": "several-check",
   "metadata": {},
   "outputs": [],
   "source": [
    "ltbrazilavgs = pd.DataFrame(templist)"
   ]
  },
  {
   "cell_type": "code",
   "execution_count": 58,
   "id": "juvenile-valentine",
   "metadata": {},
   "outputs": [
    {
     "data": {
      "text/html": [
       "<div>\n",
       "<style scoped>\n",
       "    .dataframe tbody tr th:only-of-type {\n",
       "        vertical-align: middle;\n",
       "    }\n",
       "\n",
       "    .dataframe tbody tr th {\n",
       "        vertical-align: top;\n",
       "    }\n",
       "\n",
       "    .dataframe thead th {\n",
       "        text-align: right;\n",
       "    }\n",
       "</style>\n",
       "<table border=\"1\" class=\"dataframe\">\n",
       "  <thead>\n",
       "    <tr style=\"text-align: right;\">\n",
       "      <th></th>\n",
       "      <th>station</th>\n",
       "      <th>avgtemp</th>\n",
       "      <th>station_count</th>\n",
       "    </tr>\n",
       "  </thead>\n",
       "  <tbody>\n",
       "    <tr>\n",
       "      <th>0</th>\n",
       "      <td>ALTAMIRA</td>\n",
       "      <td>28.31</td>\n",
       "      <td>5</td>\n",
       "    </tr>\n",
       "    <tr>\n",
       "      <th>1</th>\n",
       "      <td>ALTA_FLORESTA_AERO</td>\n",
       "      <td>29.43</td>\n",
       "      <td>11</td>\n",
       "    </tr>\n",
       "  </tbody>\n",
       "</table>\n",
       "</div>"
      ],
      "text/plain": [
       "              station  avgtemp  station_count\n",
       "0            ALTAMIRA    28.31              5\n",
       "1  ALTA_FLORESTA_AERO    29.43             11"
      ]
     },
     "execution_count": 58,
     "metadata": {},
     "output_type": "execute_result"
    }
   ],
   "source": [
    "ltbrazilavgs.head(2)"
   ]
  },
  {
   "cell_type": "code",
   "execution_count": null,
   "id": "existing-jason",
   "metadata": {},
   "outputs": [],
   "source": []
  }
 ],
 "metadata": {
  "kernelspec": {
   "display_name": "Python 3",
   "language": "python",
   "name": "python3"
  },
  "language_info": {
   "codemirror_mode": {
    "name": "ipython",
    "version": 3
   },
   "file_extension": ".py",
   "mimetype": "text/x-python",
   "name": "python",
   "nbconvert_exporter": "python",
   "pygments_lexer": "ipython3",
   "version": "3.7.9"
  },
  "toc": {
   "base_numbering": 1,
   "nav_menu": {},
   "number_sections": true,
   "sideBar": true,
   "skip_h1_title": false,
   "title_cell": "Table of Contents",
   "title_sidebar": "Contents",
   "toc_cell": true,
   "toc_position": {},
   "toc_section_display": true,
   "toc_window_display": false
  }
 },
 "nbformat": 4,
 "nbformat_minor": 5
}
