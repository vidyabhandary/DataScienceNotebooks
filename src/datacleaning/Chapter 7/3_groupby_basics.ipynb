{
 "cells": [
  {
   "cell_type": "markdown",
   "id": "excess-accommodation",
   "metadata": {
    "toc": true
   },
   "source": [
    "<h1>Table of Contents<span class=\"tocSkip\"></span></h1>\n",
    "<div class=\"toc\"><ul class=\"toc-item\"><li><span><a href=\"#Import-pandas-and-numpy,-and-load-the-Covid-case-daily-data\" data-toc-modified-id=\"Import-pandas-and-numpy,-and-load-the-Covid-case-daily-data-1\"><span class=\"toc-item-num\">1&nbsp;&nbsp;</span>Import pandas and numpy, and load the Covid case daily data</a></span></li><li><span><a href=\"#Create-a-pandas-groupby-DataFrame\" data-toc-modified-id=\"Create-a-pandas-groupby-DataFrame-2\"><span class=\"toc-item-num\">2&nbsp;&nbsp;</span>Create a pandas groupby DataFrame</a></span></li><li><span><a href=\"#Create-DataFrames-for-the-first-and-last-rows-of-each-country\" data-toc-modified-id=\"Create-DataFrames-for-the-first-and-last-rows-of-each-country-3\"><span class=\"toc-item-num\">3&nbsp;&nbsp;</span>Create DataFrames for the first and last rows of each country</a></span></li><li><span><a href=\"#Get-all-the-rows-for-a-country\" data-toc-modified-id=\"Get-all-the-rows-for-a-country-4\"><span class=\"toc-item-num\">4&nbsp;&nbsp;</span>Get all the rows for a country</a></span></li><li><span><a href=\"#Loop-through-the-groups\" data-toc-modified-id=\"Loop-through-the-groups-5\"><span class=\"toc-item-num\">5&nbsp;&nbsp;</span>Loop through the groups</a></span></li><li><span><a href=\"#Show-the-number-of-rows-for-each-country\" data-toc-modified-id=\"Show-the-number-of-rows-for-each-country-6\"><span class=\"toc-item-num\">6&nbsp;&nbsp;</span>Show the number of rows for each country</a></span></li><li><span><a href=\"#Show-the-summary-statistics-by-country\" data-toc-modified-id=\"Show-the-summary-statistics-by-country-7\"><span class=\"toc-item-num\">7&nbsp;&nbsp;</span>Show the summary statistics by country</a></span></li></ul></div>"
   ]
  },
  {
   "cell_type": "markdown",
   "id": "owned-productivity",
   "metadata": {},
   "source": [
    "# Import pandas and numpy, and load the Covid case daily data"
   ]
  },
  {
   "cell_type": "code",
   "execution_count": 1,
   "id": "gothic-cinema",
   "metadata": {},
   "outputs": [],
   "source": [
    "import pandas as pd\n",
    "import numpy as np"
   ]
  },
  {
   "cell_type": "code",
   "execution_count": 2,
   "id": "reasonable-plant",
   "metadata": {},
   "outputs": [],
   "source": [
    "# pd.set_option('display.width', 200)\n",
    "# pd.set_option('display.max_columns', 35)\n",
    "# pd.set_option('display.max_rows', 50)\n",
    "# pd.options.display.float_format = '{:,.0f}'.format"
   ]
  },
  {
   "cell_type": "code",
   "execution_count": 3,
   "id": "designing-sleep",
   "metadata": {},
   "outputs": [
    {
     "name": "stdout",
     "output_type": "stream",
     "text": [
      "json     : 2.0.9\n",
      "watermark: 2.1.0\n",
      "pandas   : 1.2.1\n",
      "numpy    : 1.19.2\n",
      "\n"
     ]
    }
   ],
   "source": [
    "import watermark\n",
    "%load_ext watermark\n",
    "\n",
    "%watermark -n -i -iv"
   ]
  },
  {
   "cell_type": "code",
   "execution_count": 4,
   "id": "harmful-square",
   "metadata": {},
   "outputs": [],
   "source": [
    "coviddaily = pd.read_csv('data/coviddaily720.csv', parse_dates=['casedate'])"
   ]
  },
  {
   "cell_type": "markdown",
   "id": "requested-patrick",
   "metadata": {},
   "source": [
    "# Create a pandas groupby DataFrame"
   ]
  },
  {
   "cell_type": "code",
   "execution_count": 5,
   "id": "collect-drilling",
   "metadata": {},
   "outputs": [
    {
     "data": {
      "text/plain": [
       "pandas.core.groupby.generic.DataFrameGroupBy"
      ]
     },
     "execution_count": 5,
     "metadata": {},
     "output_type": "execute_result"
    }
   ],
   "source": [
    "countrytots = coviddaily.groupby(['location'])\n",
    "type(countrytots)"
   ]
  },
  {
   "cell_type": "markdown",
   "id": "future-planner",
   "metadata": {},
   "source": [
    "# Create DataFrames for the first and last rows of each country"
   ]
  },
  {
   "cell_type": "code",
   "execution_count": 6,
   "id": "coastal-concern",
   "metadata": {},
   "outputs": [
    {
     "data": {
      "text/html": [
       "<div>\n",
       "<style scoped>\n",
       "    .dataframe tbody tr th:only-of-type {\n",
       "        vertical-align: middle;\n",
       "    }\n",
       "\n",
       "    .dataframe tbody tr th {\n",
       "        vertical-align: top;\n",
       "    }\n",
       "\n",
       "    .dataframe thead th {\n",
       "        text-align: right;\n",
       "    }\n",
       "</style>\n",
       "<table border=\"1\" class=\"dataframe\">\n",
       "  <thead>\n",
       "    <tr style=\"text-align: right;\">\n",
       "      <th></th>\n",
       "      <th>iso_code</th>\n",
       "      <th>casedate</th>\n",
       "      <th>continent</th>\n",
       "      <th>new_cases</th>\n",
       "      <th>new_deaths</th>\n",
       "    </tr>\n",
       "    <tr>\n",
       "      <th>location</th>\n",
       "      <th></th>\n",
       "      <th></th>\n",
       "      <th></th>\n",
       "      <th></th>\n",
       "      <th></th>\n",
       "    </tr>\n",
       "  </thead>\n",
       "  <tbody>\n",
       "    <tr>\n",
       "      <th>Afghanistan</th>\n",
       "      <td>AFG</td>\n",
       "      <td>2019-12-31</td>\n",
       "      <td>Asia</td>\n",
       "      <td>0.0</td>\n",
       "      <td>0.0</td>\n",
       "    </tr>\n",
       "    <tr>\n",
       "      <th>Albania</th>\n",
       "      <td>ALB</td>\n",
       "      <td>2020-03-09</td>\n",
       "      <td>Europe</td>\n",
       "      <td>2.0</td>\n",
       "      <td>0.0</td>\n",
       "    </tr>\n",
       "    <tr>\n",
       "      <th>Algeria</th>\n",
       "      <td>DZA</td>\n",
       "      <td>2019-12-31</td>\n",
       "      <td>Africa</td>\n",
       "      <td>0.0</td>\n",
       "      <td>0.0</td>\n",
       "    </tr>\n",
       "    <tr>\n",
       "      <th>Andorra</th>\n",
       "      <td>AND</td>\n",
       "      <td>2020-03-03</td>\n",
       "      <td>Europe</td>\n",
       "      <td>1.0</td>\n",
       "      <td>0.0</td>\n",
       "    </tr>\n",
       "    <tr>\n",
       "      <th>Angola</th>\n",
       "      <td>AGO</td>\n",
       "      <td>2020-03-22</td>\n",
       "      <td>Africa</td>\n",
       "      <td>2.0</td>\n",
       "      <td>0.0</td>\n",
       "    </tr>\n",
       "  </tbody>\n",
       "</table>\n",
       "</div>"
      ],
      "text/plain": [
       "            iso_code   casedate continent  new_cases  new_deaths\n",
       "location                                                        \n",
       "Afghanistan      AFG 2019-12-31      Asia        0.0         0.0\n",
       "Albania          ALB 2020-03-09    Europe        2.0         0.0\n",
       "Algeria          DZA 2019-12-31    Africa        0.0         0.0\n",
       "Andorra          AND 2020-03-03    Europe        1.0         0.0\n",
       "Angola           AGO 2020-03-22    Africa        2.0         0.0"
      ]
     },
     "execution_count": 6,
     "metadata": {},
     "output_type": "execute_result"
    }
   ],
   "source": [
    "countrytots.first().iloc[0:5, 0:5]"
   ]
  },
  {
   "cell_type": "code",
   "execution_count": 7,
   "id": "electoral-remainder",
   "metadata": {},
   "outputs": [
    {
     "data": {
      "text/html": [
       "<div>\n",
       "<style scoped>\n",
       "    .dataframe tbody tr th:only-of-type {\n",
       "        vertical-align: middle;\n",
       "    }\n",
       "\n",
       "    .dataframe tbody tr th {\n",
       "        vertical-align: top;\n",
       "    }\n",
       "\n",
       "    .dataframe thead th {\n",
       "        text-align: right;\n",
       "    }\n",
       "</style>\n",
       "<table border=\"1\" class=\"dataframe\">\n",
       "  <thead>\n",
       "    <tr style=\"text-align: right;\">\n",
       "      <th></th>\n",
       "      <th>iso_code</th>\n",
       "      <th>casedate</th>\n",
       "      <th>continent</th>\n",
       "      <th>new_cases</th>\n",
       "      <th>new_deaths</th>\n",
       "    </tr>\n",
       "    <tr>\n",
       "      <th>location</th>\n",
       "      <th></th>\n",
       "      <th></th>\n",
       "      <th></th>\n",
       "      <th></th>\n",
       "      <th></th>\n",
       "    </tr>\n",
       "  </thead>\n",
       "  <tbody>\n",
       "    <tr>\n",
       "      <th>Afghanistan</th>\n",
       "      <td>AFG</td>\n",
       "      <td>2020-07-12</td>\n",
       "      <td>Asia</td>\n",
       "      <td>85.0</td>\n",
       "      <td>16.0</td>\n",
       "    </tr>\n",
       "    <tr>\n",
       "      <th>Albania</th>\n",
       "      <td>ALB</td>\n",
       "      <td>2020-07-12</td>\n",
       "      <td>Europe</td>\n",
       "      <td>93.0</td>\n",
       "      <td>4.0</td>\n",
       "    </tr>\n",
       "    <tr>\n",
       "      <th>Algeria</th>\n",
       "      <td>DZA</td>\n",
       "      <td>2020-07-12</td>\n",
       "      <td>Africa</td>\n",
       "      <td>904.0</td>\n",
       "      <td>16.0</td>\n",
       "    </tr>\n",
       "    <tr>\n",
       "      <th>Andorra</th>\n",
       "      <td>AND</td>\n",
       "      <td>2020-07-12</td>\n",
       "      <td>Europe</td>\n",
       "      <td>0.0</td>\n",
       "      <td>0.0</td>\n",
       "    </tr>\n",
       "    <tr>\n",
       "      <th>Angola</th>\n",
       "      <td>AGO</td>\n",
       "      <td>2020-07-12</td>\n",
       "      <td>Africa</td>\n",
       "      <td>25.0</td>\n",
       "      <td>2.0</td>\n",
       "    </tr>\n",
       "  </tbody>\n",
       "</table>\n",
       "</div>"
      ],
      "text/plain": [
       "            iso_code   casedate continent  new_cases  new_deaths\n",
       "location                                                        \n",
       "Afghanistan      AFG 2020-07-12      Asia       85.0        16.0\n",
       "Albania          ALB 2020-07-12    Europe       93.0         4.0\n",
       "Algeria          DZA 2020-07-12    Africa      904.0        16.0\n",
       "Andorra          AND 2020-07-12    Europe        0.0         0.0\n",
       "Angola           AGO 2020-07-12    Africa       25.0         2.0"
      ]
     },
     "execution_count": 7,
     "metadata": {},
     "output_type": "execute_result"
    }
   ],
   "source": [
    "countrytots.last().iloc[0:5, 0:5]"
   ]
  },
  {
   "cell_type": "markdown",
   "id": "basic-collectible",
   "metadata": {},
   "source": [
    "# Get all the rows for a country"
   ]
  },
  {
   "cell_type": "code",
   "execution_count": 8,
   "id": "amateur-humor",
   "metadata": {},
   "outputs": [
    {
     "data": {
      "text/html": [
       "<div>\n",
       "<style scoped>\n",
       "    .dataframe tbody tr th:only-of-type {\n",
       "        vertical-align: middle;\n",
       "    }\n",
       "\n",
       "    .dataframe tbody tr th {\n",
       "        vertical-align: top;\n",
       "    }\n",
       "\n",
       "    .dataframe thead th {\n",
       "        text-align: right;\n",
       "    }\n",
       "</style>\n",
       "<table border=\"1\" class=\"dataframe\">\n",
       "  <thead>\n",
       "    <tr style=\"text-align: right;\">\n",
       "      <th></th>\n",
       "      <th>iso_code</th>\n",
       "      <th>casedate</th>\n",
       "      <th>location</th>\n",
       "      <th>continent</th>\n",
       "      <th>new_cases</th>\n",
       "    </tr>\n",
       "  </thead>\n",
       "  <tbody>\n",
       "    <tr>\n",
       "      <th>29099</th>\n",
       "      <td>ZWE</td>\n",
       "      <td>2020-03-21</td>\n",
       "      <td>Zimbabwe</td>\n",
       "      <td>Africa</td>\n",
       "      <td>1.0</td>\n",
       "    </tr>\n",
       "    <tr>\n",
       "      <th>29100</th>\n",
       "      <td>ZWE</td>\n",
       "      <td>2020-03-22</td>\n",
       "      <td>Zimbabwe</td>\n",
       "      <td>Africa</td>\n",
       "      <td>1.0</td>\n",
       "    </tr>\n",
       "    <tr>\n",
       "      <th>29101</th>\n",
       "      <td>ZWE</td>\n",
       "      <td>2020-03-23</td>\n",
       "      <td>Zimbabwe</td>\n",
       "      <td>Africa</td>\n",
       "      <td>0.0</td>\n",
       "    </tr>\n",
       "    <tr>\n",
       "      <th>29102</th>\n",
       "      <td>ZWE</td>\n",
       "      <td>2020-03-24</td>\n",
       "      <td>Zimbabwe</td>\n",
       "      <td>Africa</td>\n",
       "      <td>0.0</td>\n",
       "    </tr>\n",
       "    <tr>\n",
       "      <th>29103</th>\n",
       "      <td>ZWE</td>\n",
       "      <td>2020-03-25</td>\n",
       "      <td>Zimbabwe</td>\n",
       "      <td>Africa</td>\n",
       "      <td>0.0</td>\n",
       "    </tr>\n",
       "  </tbody>\n",
       "</table>\n",
       "</div>"
      ],
      "text/plain": [
       "      iso_code   casedate  location continent  new_cases\n",
       "29099      ZWE 2020-03-21  Zimbabwe    Africa        1.0\n",
       "29100      ZWE 2020-03-22  Zimbabwe    Africa        1.0\n",
       "29101      ZWE 2020-03-23  Zimbabwe    Africa        0.0\n",
       "29102      ZWE 2020-03-24  Zimbabwe    Africa        0.0\n",
       "29103      ZWE 2020-03-25  Zimbabwe    Africa        0.0"
      ]
     },
     "execution_count": 8,
     "metadata": {},
     "output_type": "execute_result"
    }
   ],
   "source": [
    "countrytots.get_group('Zimbabwe').iloc[0:5, 0:5]"
   ]
  },
  {
   "cell_type": "code",
   "execution_count": 9,
   "id": "fourth-spanish",
   "metadata": {},
   "outputs": [
    {
     "data": {
      "text/html": [
       "<div>\n",
       "<style scoped>\n",
       "    .dataframe tbody tr th:only-of-type {\n",
       "        vertical-align: middle;\n",
       "    }\n",
       "\n",
       "    .dataframe tbody tr th {\n",
       "        vertical-align: top;\n",
       "    }\n",
       "\n",
       "    .dataframe thead th {\n",
       "        text-align: right;\n",
       "    }\n",
       "</style>\n",
       "<table border=\"1\" class=\"dataframe\">\n",
       "  <thead>\n",
       "    <tr style=\"text-align: right;\">\n",
       "      <th></th>\n",
       "      <th>iso_code</th>\n",
       "      <th>casedate</th>\n",
       "      <th>location</th>\n",
       "      <th>continent</th>\n",
       "      <th>new_cases</th>\n",
       "      <th>new_deaths</th>\n",
       "      <th>population</th>\n",
       "      <th>pop_density</th>\n",
       "      <th>median_age</th>\n",
       "      <th>gdp_per_capita</th>\n",
       "      <th>hosp_beds</th>\n",
       "      <th>region</th>\n",
       "    </tr>\n",
       "  </thead>\n",
       "  <tbody>\n",
       "    <tr>\n",
       "      <th>29099</th>\n",
       "      <td>ZWE</td>\n",
       "      <td>2020-03-21</td>\n",
       "      <td>Zimbabwe</td>\n",
       "      <td>Africa</td>\n",
       "      <td>1.0</td>\n",
       "      <td>0.0</td>\n",
       "      <td>14862927.0</td>\n",
       "      <td>42.729</td>\n",
       "      <td>19.6</td>\n",
       "      <td>1899.775</td>\n",
       "      <td>1.7</td>\n",
       "      <td>Southern Africa</td>\n",
       "    </tr>\n",
       "    <tr>\n",
       "      <th>29100</th>\n",
       "      <td>ZWE</td>\n",
       "      <td>2020-03-22</td>\n",
       "      <td>Zimbabwe</td>\n",
       "      <td>Africa</td>\n",
       "      <td>1.0</td>\n",
       "      <td>0.0</td>\n",
       "      <td>14862927.0</td>\n",
       "      <td>42.729</td>\n",
       "      <td>19.6</td>\n",
       "      <td>1899.775</td>\n",
       "      <td>1.7</td>\n",
       "      <td>Southern Africa</td>\n",
       "    </tr>\n",
       "    <tr>\n",
       "      <th>29101</th>\n",
       "      <td>ZWE</td>\n",
       "      <td>2020-03-23</td>\n",
       "      <td>Zimbabwe</td>\n",
       "      <td>Africa</td>\n",
       "      <td>0.0</td>\n",
       "      <td>0.0</td>\n",
       "      <td>14862927.0</td>\n",
       "      <td>42.729</td>\n",
       "      <td>19.6</td>\n",
       "      <td>1899.775</td>\n",
       "      <td>1.7</td>\n",
       "      <td>Southern Africa</td>\n",
       "    </tr>\n",
       "    <tr>\n",
       "      <th>29102</th>\n",
       "      <td>ZWE</td>\n",
       "      <td>2020-03-24</td>\n",
       "      <td>Zimbabwe</td>\n",
       "      <td>Africa</td>\n",
       "      <td>0.0</td>\n",
       "      <td>1.0</td>\n",
       "      <td>14862927.0</td>\n",
       "      <td>42.729</td>\n",
       "      <td>19.6</td>\n",
       "      <td>1899.775</td>\n",
       "      <td>1.7</td>\n",
       "      <td>Southern Africa</td>\n",
       "    </tr>\n",
       "    <tr>\n",
       "      <th>29103</th>\n",
       "      <td>ZWE</td>\n",
       "      <td>2020-03-25</td>\n",
       "      <td>Zimbabwe</td>\n",
       "      <td>Africa</td>\n",
       "      <td>0.0</td>\n",
       "      <td>0.0</td>\n",
       "      <td>14862927.0</td>\n",
       "      <td>42.729</td>\n",
       "      <td>19.6</td>\n",
       "      <td>1899.775</td>\n",
       "      <td>1.7</td>\n",
       "      <td>Southern Africa</td>\n",
       "    </tr>\n",
       "  </tbody>\n",
       "</table>\n",
       "</div>"
      ],
      "text/plain": [
       "      iso_code   casedate  location continent  new_cases  new_deaths  \\\n",
       "29099      ZWE 2020-03-21  Zimbabwe    Africa        1.0         0.0   \n",
       "29100      ZWE 2020-03-22  Zimbabwe    Africa        1.0         0.0   \n",
       "29101      ZWE 2020-03-23  Zimbabwe    Africa        0.0         0.0   \n",
       "29102      ZWE 2020-03-24  Zimbabwe    Africa        0.0         1.0   \n",
       "29103      ZWE 2020-03-25  Zimbabwe    Africa        0.0         0.0   \n",
       "\n",
       "       population  pop_density  median_age  gdp_per_capita  hosp_beds  \\\n",
       "29099  14862927.0       42.729        19.6        1899.775        1.7   \n",
       "29100  14862927.0       42.729        19.6        1899.775        1.7   \n",
       "29101  14862927.0       42.729        19.6        1899.775        1.7   \n",
       "29102  14862927.0       42.729        19.6        1899.775        1.7   \n",
       "29103  14862927.0       42.729        19.6        1899.775        1.7   \n",
       "\n",
       "                region  \n",
       "29099  Southern Africa  \n",
       "29100  Southern Africa  \n",
       "29101  Southern Africa  \n",
       "29102  Southern Africa  \n",
       "29103  Southern Africa  "
      ]
     },
     "execution_count": 9,
     "metadata": {},
     "output_type": "execute_result"
    }
   ],
   "source": [
    "countrytots.get_group('Zimbabwe').iloc[0:5]"
   ]
  },
  {
   "cell_type": "markdown",
   "id": "frequent-regulation",
   "metadata": {},
   "source": [
    "# Loop through the groups"
   ]
  },
  {
   "cell_type": "code",
   "execution_count": 10,
   "id": "facial-prince",
   "metadata": {},
   "outputs": [
    {
     "name": "stdout",
     "output_type": "stream",
     "text": [
      "      iso_code   casedate location continent  new_cases\n",
      "14707      KWT 2019-12-31   Kuwait      Asia        0.0\n",
      "14708      KWT 2020-01-01   Kuwait      Asia        0.0\n",
      "14709      KWT 2020-01-02   Kuwait      Asia        0.0\n",
      "14710      KWT 2020-01-03   Kuwait      Asia        0.0\n",
      "14711      KWT 2020-01-04   Kuwait      Asia        0.0\n",
      "      iso_code   casedate location continent  new_cases\n",
      "17057      MLT 2020-03-07    Malta    Europe        1.0\n",
      "17058      MLT 2020-03-08    Malta    Europe        2.0\n",
      "17059      MLT 2020-03-09    Malta    Europe        0.0\n",
      "17060      MLT 2020-03-10    Malta    Europe        2.0\n",
      "17061      MLT 2020-03-11    Malta    Europe        1.0\n"
     ]
    }
   ],
   "source": [
    "for name, group in countrytots:\n",
    "    if (name in ['Malta', 'Kuwait']):\n",
    "        print(group.iloc[0:5, 0:5])"
   ]
  },
  {
   "cell_type": "markdown",
   "id": "bound-brain",
   "metadata": {},
   "source": [
    "# Show the number of rows for each country"
   ]
  },
  {
   "cell_type": "code",
   "execution_count": 11,
   "id": "remarkable-treasurer",
   "metadata": {},
   "outputs": [
    {
     "data": {
      "text/plain": [
       "location\n",
       "Afghanistan       185\n",
       "Albania           126\n",
       "Algeria           190\n",
       "Andorra           121\n",
       "Angola            113\n",
       "                 ... \n",
       "Vietnam           191\n",
       "Western Sahara     78\n",
       "Yemen              94\n",
       "Zambia            116\n",
       "Zimbabwe          114\n",
       "Length: 209, dtype: int64"
      ]
     },
     "execution_count": 11,
     "metadata": {},
     "output_type": "execute_result"
    }
   ],
   "source": [
    "countrytots.size()"
   ]
  },
  {
   "cell_type": "markdown",
   "id": "original-invalid",
   "metadata": {},
   "source": [
    "# Show the summary statistics by country"
   ]
  },
  {
   "cell_type": "code",
   "execution_count": 12,
   "id": "sought-moldova",
   "metadata": {},
   "outputs": [
    {
     "data": {
      "text/html": [
       "<div>\n",
       "<style scoped>\n",
       "    .dataframe tbody tr th:only-of-type {\n",
       "        vertical-align: middle;\n",
       "    }\n",
       "\n",
       "    .dataframe tbody tr th {\n",
       "        vertical-align: top;\n",
       "    }\n",
       "\n",
       "    .dataframe thead th {\n",
       "        text-align: right;\n",
       "    }\n",
       "</style>\n",
       "<table border=\"1\" class=\"dataframe\">\n",
       "  <thead>\n",
       "    <tr style=\"text-align: right;\">\n",
       "      <th></th>\n",
       "      <th>count</th>\n",
       "      <th>mean</th>\n",
       "      <th>std</th>\n",
       "      <th>min</th>\n",
       "      <th>25%</th>\n",
       "      <th>50%</th>\n",
       "      <th>75%</th>\n",
       "      <th>max</th>\n",
       "    </tr>\n",
       "    <tr>\n",
       "      <th>location</th>\n",
       "      <th></th>\n",
       "      <th></th>\n",
       "      <th></th>\n",
       "      <th></th>\n",
       "      <th></th>\n",
       "      <th></th>\n",
       "      <th></th>\n",
       "      <th></th>\n",
       "    </tr>\n",
       "  </thead>\n",
       "  <tbody>\n",
       "    <tr>\n",
       "      <th>Afghanistan</th>\n",
       "      <td>185.0</td>\n",
       "      <td>186.221622</td>\n",
       "      <td>257.305202</td>\n",
       "      <td>0.0</td>\n",
       "      <td>0.0</td>\n",
       "      <td>37.0</td>\n",
       "      <td>302.00</td>\n",
       "      <td>1063.0</td>\n",
       "    </tr>\n",
       "    <tr>\n",
       "      <th>Albania</th>\n",
       "      <td>126.0</td>\n",
       "      <td>26.753968</td>\n",
       "      <td>24.651389</td>\n",
       "      <td>0.0</td>\n",
       "      <td>9.0</td>\n",
       "      <td>17.0</td>\n",
       "      <td>35.50</td>\n",
       "      <td>93.0</td>\n",
       "    </tr>\n",
       "    <tr>\n",
       "      <th>Algeria</th>\n",
       "      <td>190.0</td>\n",
       "      <td>98.484211</td>\n",
       "      <td>123.980103</td>\n",
       "      <td>0.0</td>\n",
       "      <td>0.0</td>\n",
       "      <td>88.0</td>\n",
       "      <td>149.75</td>\n",
       "      <td>904.0</td>\n",
       "    </tr>\n",
       "    <tr>\n",
       "      <th>Andorra</th>\n",
       "      <td>121.0</td>\n",
       "      <td>7.066116</td>\n",
       "      <td>12.716614</td>\n",
       "      <td>0.0</td>\n",
       "      <td>0.0</td>\n",
       "      <td>1.0</td>\n",
       "      <td>9.00</td>\n",
       "      <td>79.0</td>\n",
       "    </tr>\n",
       "    <tr>\n",
       "      <th>Angola</th>\n",
       "      <td>113.0</td>\n",
       "      <td>4.274336</td>\n",
       "      <td>8.509709</td>\n",
       "      <td>0.0</td>\n",
       "      <td>0.0</td>\n",
       "      <td>1.0</td>\n",
       "      <td>5.00</td>\n",
       "      <td>62.0</td>\n",
       "    </tr>\n",
       "  </tbody>\n",
       "</table>\n",
       "</div>"
      ],
      "text/plain": [
       "             count        mean         std  min  25%   50%     75%     max\n",
       "location                                                                  \n",
       "Afghanistan  185.0  186.221622  257.305202  0.0  0.0  37.0  302.00  1063.0\n",
       "Albania      126.0   26.753968   24.651389  0.0  9.0  17.0   35.50    93.0\n",
       "Algeria      190.0   98.484211  123.980103  0.0  0.0  88.0  149.75   904.0\n",
       "Andorra      121.0    7.066116   12.716614  0.0  0.0   1.0    9.00    79.0\n",
       "Angola       113.0    4.274336    8.509709  0.0  0.0   1.0    5.00    62.0"
      ]
     },
     "execution_count": 12,
     "metadata": {},
     "output_type": "execute_result"
    }
   ],
   "source": [
    "countrytots.new_cases.describe().head()"
   ]
  },
  {
   "cell_type": "code",
   "execution_count": 13,
   "id": "recreational-christmas",
   "metadata": {},
   "outputs": [
    {
     "data": {
      "text/plain": [
       "location\n",
       "Afghanistan    34451.0\n",
       "Albania         3371.0\n",
       "Algeria        18712.0\n",
       "Andorra          855.0\n",
       "Angola           483.0\n",
       "Name: new_cases, dtype: float64"
      ]
     },
     "execution_count": 13,
     "metadata": {},
     "output_type": "execute_result"
    }
   ],
   "source": [
    "countrytots.new_cases.sum().head()"
   ]
  },
  {
   "cell_type": "code",
   "execution_count": null,
   "id": "subjective-basic",
   "metadata": {},
   "outputs": [],
   "source": []
  }
 ],
 "metadata": {
  "kernelspec": {
   "display_name": "Python 3",
   "language": "python",
   "name": "python3"
  },
  "language_info": {
   "codemirror_mode": {
    "name": "ipython",
    "version": 3
   },
   "file_extension": ".py",
   "mimetype": "text/x-python",
   "name": "python",
   "nbconvert_exporter": "python",
   "pygments_lexer": "ipython3",
   "version": "3.7.9"
  },
  "toc": {
   "base_numbering": 1,
   "nav_menu": {},
   "number_sections": true,
   "sideBar": true,
   "skip_h1_title": false,
   "title_cell": "Table of Contents",
   "title_sidebar": "Contents",
   "toc_cell": true,
   "toc_position": {},
   "toc_section_display": true,
   "toc_window_display": false
  }
 },
 "nbformat": 4,
 "nbformat_minor": 5
}
