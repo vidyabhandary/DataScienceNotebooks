{
 "cells": [
  {
   "cell_type": "markdown",
   "id": "alpine-hardwood",
   "metadata": {
    "toc": true
   },
   "source": [
    "<h1>Table of Contents<span class=\"tocSkip\"></span></h1>\n",
    "<div class=\"toc\"><ul class=\"toc-item\"><li><span><a href=\"#Import-pandas-and-numpy,-and-load-the-Covid-and-land-temperature-data\" data-toc-modified-id=\"Import-pandas-and-numpy,-and-load-the-Covid-and-land-temperature-data-1\"><span class=\"toc-item-num\">1&nbsp;&nbsp;</span>Import pandas and numpy, and load the Covid and land temperature data</a></span></li><li><span><a href=\"#Create-a-list-of-locations\" data-toc-modified-id=\"Create-a-list-of-locations-2\"><span class=\"toc-item-num\">2&nbsp;&nbsp;</span>Create a list of locations</a></span></li><li><span><a href=\"#Use-a-NumPy-array-to-calculate-sums-by-location\" data-toc-modified-id=\"Use-a-NumPy-array-to-calculate-sums-by-location-3\"><span class=\"toc-item-num\">3&nbsp;&nbsp;</span>Use a NumPy array to calculate sums by location</a></span></li><li><span><a href=\"#Sort-the-land-temperature-data-and-drop-rows-with-missing-values-for-temperature\" data-toc-modified-id=\"Sort-the-land-temperature-data-and-drop-rows-with-missing-values-for-temperature-4\"><span class=\"toc-item-num\">4&nbsp;&nbsp;</span>Sort the land temperature data and drop rows with missing values for temperature</a></span></li><li><span><a href=\"#Use-a-NumPy-array-to-calculate-average-temperature-for-the-year\" data-toc-modified-id=\"Use-a-NumPy-array-to-calculate-average-temperature-for-the-year-5\"><span class=\"toc-item-num\">5&nbsp;&nbsp;</span>Use a NumPy array to calculate average temperature for the year</a></span></li><li><span><a href=\"#Create-a-DataFrame-of-the-land-temperature-averages\" data-toc-modified-id=\"Create-a-DataFrame-of-the-land-temperature-averages-6\"><span class=\"toc-item-num\">6&nbsp;&nbsp;</span>Create a DataFrame of the land temperature averages</a></span></li></ul></div>"
   ]
  },
  {
   "cell_type": "markdown",
   "id": "biological-split",
   "metadata": {},
   "source": [
    "# Import pandas and numpy, and load the Covid and land temperature data"
   ]
  },
  {
   "cell_type": "code",
   "execution_count": 1,
   "id": "light-webcam",
   "metadata": {},
   "outputs": [],
   "source": [
    "import pandas as pd\n",
    "import numpy as np"
   ]
  },
  {
   "cell_type": "code",
   "execution_count": 2,
   "id": "atlantic-wheel",
   "metadata": {},
   "outputs": [],
   "source": [
    "# pd.set_option('display.width', 200)\n",
    "# pd.set_option('display.max_columns', 35)\n",
    "# pd.set_option('display.max_rows', 200)\n",
    "pd.options.display.float_format = '{:,.2f}'.format"
   ]
  },
  {
   "cell_type": "code",
   "execution_count": 3,
   "id": "liked-sector",
   "metadata": {},
   "outputs": [
    {
     "name": "stdout",
     "output_type": "stream",
     "text": [
      "watermark: 2.1.0\n",
      "pandas   : 1.2.1\n",
      "numpy    : 1.19.2\n",
      "json     : 2.0.9\n",
      "\n"
     ]
    }
   ],
   "source": [
    "import watermark\n",
    "%load_ext watermark\n",
    "\n",
    "%watermark -n -i -iv"
   ]
  },
  {
   "cell_type": "code",
   "execution_count": 4,
   "id": "unexpected-beaver",
   "metadata": {},
   "outputs": [],
   "source": [
    "coviddaily = pd.read_csv('data/coviddaily720.csv', parse_dates=['casedate'])\n",
    "ltbrazil = pd.read_csv('data/ltbrazil.csv')"
   ]
  },
  {
   "cell_type": "markdown",
   "id": "collectible-twelve",
   "metadata": {},
   "source": [
    "# Create a list of locations"
   ]
  },
  {
   "cell_type": "code",
   "execution_count": 5,
   "id": "stainless-insulin",
   "metadata": {},
   "outputs": [],
   "source": [
    "loclist = coviddaily['location'].unique().tolist()"
   ]
  },
  {
   "cell_type": "code",
   "execution_count": 8,
   "id": "mighty-premises",
   "metadata": {},
   "outputs": [
    {
     "data": {
      "text/plain": [
       "list"
      ]
     },
     "execution_count": 8,
     "metadata": {},
     "output_type": "execute_result"
    }
   ],
   "source": [
    "type(loclist)"
   ]
  },
  {
   "cell_type": "code",
   "execution_count": 9,
   "id": "fabulous-system",
   "metadata": {},
   "outputs": [
    {
     "data": {
      "text/plain": [
       "['Afghanistan', 'Albania', 'Algeria', 'Andorra', 'Angola']"
      ]
     },
     "execution_count": 9,
     "metadata": {},
     "output_type": "execute_result"
    }
   ],
   "source": [
    "loclist[0:5]"
   ]
  },
  {
   "cell_type": "markdown",
   "id": "advance-cover",
   "metadata": {},
   "source": [
    "# Use a NumPy array to calculate sums by location"
   ]
  },
  {
   "cell_type": "code",
   "execution_count": 6,
   "id": "supposed-prophet",
   "metadata": {},
   "outputs": [],
   "source": [
    "rowlist = []\n",
    "casevalues = coviddaily[['location', 'new_cases']].to_numpy()\n",
    "\n",
    "for locitem in loclist:\n",
    "    cases = [\n",
    "        casevalues[j][1] for j in range(len(casevalues))\n",
    "        if casevalues[j][0] == locitem\n",
    "    ]\n",
    "    rowlist.append(sum(cases))"
   ]
  },
  {
   "cell_type": "code",
   "execution_count": 10,
   "id": "secret-credits",
   "metadata": {},
   "outputs": [
    {
     "data": {
      "text/plain": [
       "numpy.ndarray"
      ]
     },
     "execution_count": 10,
     "metadata": {},
     "output_type": "execute_result"
    }
   ],
   "source": [
    "type(casevalues)"
   ]
  },
  {
   "cell_type": "code",
   "execution_count": 11,
   "id": "public-hartford",
   "metadata": {},
   "outputs": [
    {
     "data": {
      "text/plain": [
       "array([['Afghanistan', 0.0],\n",
       "       ['Afghanistan', 0.0],\n",
       "       ['Afghanistan', 0.0],\n",
       "       ['Afghanistan', 0.0],\n",
       "       ['Afghanistan', 0.0]], dtype=object)"
      ]
     },
     "execution_count": 11,
     "metadata": {},
     "output_type": "execute_result"
    }
   ],
   "source": [
    "casevalues[0:5]"
   ]
  },
  {
   "cell_type": "code",
   "execution_count": 12,
   "id": "welcome-pressing",
   "metadata": {},
   "outputs": [
    {
     "data": {
      "text/plain": [
       "209"
      ]
     },
     "execution_count": 12,
     "metadata": {},
     "output_type": "execute_result"
    }
   ],
   "source": [
    "len(rowlist)"
   ]
  },
  {
   "cell_type": "code",
   "execution_count": 13,
   "id": "bottom-designation",
   "metadata": {},
   "outputs": [
    {
     "data": {
      "text/plain": [
       "209"
      ]
     },
     "execution_count": 13,
     "metadata": {},
     "output_type": "execute_result"
    }
   ],
   "source": [
    "len(loclist)"
   ]
  },
  {
   "cell_type": "code",
   "execution_count": 14,
   "id": "associate-office",
   "metadata": {},
   "outputs": [
    {
     "data": {
      "text/plain": [
       "[34451.0, 3371.0, 18712.0, 855.0, 483.0]"
      ]
     },
     "execution_count": 14,
     "metadata": {},
     "output_type": "execute_result"
    }
   ],
   "source": [
    "rowlist[0:5]"
   ]
  },
  {
   "cell_type": "code",
   "execution_count": 15,
   "id": "female-creation",
   "metadata": {},
   "outputs": [],
   "source": [
    "casetotals = pd.DataFrame(zip(loclist, rowlist),\n",
    "                          columns=(['location', 'casetotals']))"
   ]
  },
  {
   "cell_type": "code",
   "execution_count": 16,
   "id": "annoying-chancellor",
   "metadata": {},
   "outputs": [
    {
     "data": {
      "text/html": [
       "<div>\n",
       "<style scoped>\n",
       "    .dataframe tbody tr th:only-of-type {\n",
       "        vertical-align: middle;\n",
       "    }\n",
       "\n",
       "    .dataframe tbody tr th {\n",
       "        vertical-align: top;\n",
       "    }\n",
       "\n",
       "    .dataframe thead th {\n",
       "        text-align: right;\n",
       "    }\n",
       "</style>\n",
       "<table border=\"1\" class=\"dataframe\">\n",
       "  <thead>\n",
       "    <tr style=\"text-align: right;\">\n",
       "      <th></th>\n",
       "      <th>location</th>\n",
       "      <th>casetotals</th>\n",
       "    </tr>\n",
       "  </thead>\n",
       "  <tbody>\n",
       "    <tr>\n",
       "      <th>0</th>\n",
       "      <td>Afghanistan</td>\n",
       "      <td>34,451.00</td>\n",
       "    </tr>\n",
       "    <tr>\n",
       "      <th>1</th>\n",
       "      <td>Albania</td>\n",
       "      <td>3,371.00</td>\n",
       "    </tr>\n",
       "    <tr>\n",
       "      <th>2</th>\n",
       "      <td>Algeria</td>\n",
       "      <td>18,712.00</td>\n",
       "    </tr>\n",
       "    <tr>\n",
       "      <th>3</th>\n",
       "      <td>Andorra</td>\n",
       "      <td>855.00</td>\n",
       "    </tr>\n",
       "    <tr>\n",
       "      <th>4</th>\n",
       "      <td>Angola</td>\n",
       "      <td>483.00</td>\n",
       "    </tr>\n",
       "  </tbody>\n",
       "</table>\n",
       "</div>"
      ],
      "text/plain": [
       "      location  casetotals\n",
       "0  Afghanistan   34,451.00\n",
       "1      Albania    3,371.00\n",
       "2      Algeria   18,712.00\n",
       "3      Andorra      855.00\n",
       "4       Angola      483.00"
      ]
     },
     "execution_count": 16,
     "metadata": {},
     "output_type": "execute_result"
    }
   ],
   "source": [
    "casetotals.head()"
   ]
  },
  {
   "cell_type": "markdown",
   "id": "victorian-stamp",
   "metadata": {},
   "source": [
    "# Sort the land temperature data and drop rows with missing values for temperature"
   ]
  },
  {
   "cell_type": "code",
   "execution_count": 17,
   "id": "absent-right",
   "metadata": {},
   "outputs": [],
   "source": [
    "ltbrazil = ltbrazil.sort_values(['station', 'month'])"
   ]
  },
  {
   "cell_type": "code",
   "execution_count": 18,
   "id": "olive-interstate",
   "metadata": {},
   "outputs": [],
   "source": [
    "ltbrazil = ltbrazil.dropna(subset=['temperature'])"
   ]
  },
  {
   "cell_type": "markdown",
   "id": "cooked-glass",
   "metadata": {},
   "source": [
    "# Use a NumPy array to calculate average temperature for the year"
   ]
  },
  {
   "cell_type": "code",
   "execution_count": 19,
   "id": "golden-jaguar",
   "metadata": {},
   "outputs": [],
   "source": [
    "prevstation = 'ZZZ'\n",
    "prevtemp = 0\n",
    "rowlist = []\n",
    "\n",
    "tempvalues = ltbrazil[['station', 'temperature']].to_numpy()\n",
    "\n",
    "for j in range(len(tempvalues)):\n",
    "    station = tempvalues[j][0]\n",
    "    temperature = tempvalues[j][1]\n",
    "    if prevstation != station:\n",
    "        if prevstation != 'ZZZ':\n",
    "            rowlist.append({\n",
    "                'station': prevstation,\n",
    "                'avgtemp': temp_count / station_count,\n",
    "                'station_count': station_count\n",
    "            })\n",
    "        temp_count = 0\n",
    "        station_count = 0\n",
    "        prevstation = station\n",
    "    if ((0 <= abs(temperature - prevtemp) <= 3) or (station_count == 0)):\n",
    "        temp_count += temperature\n",
    "        station_count += 1\n",
    "    prevtemp = temperature"
   ]
  },
  {
   "cell_type": "code",
   "execution_count": 20,
   "id": "discrete-strip",
   "metadata": {},
   "outputs": [],
   "source": [
    "rowlist.append({\n",
    "    'station': prevstation,\n",
    "    'avgtemp': temp_count / station_count,\n",
    "    'station_count': station_count\n",
    "})"
   ]
  },
  {
   "cell_type": "code",
   "execution_count": 21,
   "id": "nutritional-blowing",
   "metadata": {},
   "outputs": [
    {
     "data": {
      "text/plain": [
       "[{'station': 'ALTAMIRA', 'avgtemp': 28.310000000000002, 'station_count': 5},\n",
       " {'station': 'ALTA_FLORESTA_AERO',\n",
       "  'avgtemp': 29.433636363636367,\n",
       "  'station_count': 11},\n",
       " {'station': 'ARAXA', 'avgtemp': 21.612499999999997, 'station_count': 4},\n",
       " {'station': 'BACABAL', 'avgtemp': 29.75, 'station_count': 4},\n",
       " {'station': 'BAGE', 'avgtemp': 20.366666666666664, 'station_count': 9}]"
      ]
     },
     "execution_count": 21,
     "metadata": {},
     "output_type": "execute_result"
    }
   ],
   "source": [
    "rowlist[0:5]"
   ]
  },
  {
   "cell_type": "markdown",
   "id": "above-summary",
   "metadata": {},
   "source": [
    "# Create a DataFrame of the land temperature averages"
   ]
  },
  {
   "cell_type": "code",
   "execution_count": 22,
   "id": "dominican-center",
   "metadata": {},
   "outputs": [],
   "source": [
    "ltbrazilavgs = pd.DataFrame(rowlist)"
   ]
  },
  {
   "cell_type": "code",
   "execution_count": 23,
   "id": "standard-brave",
   "metadata": {},
   "outputs": [
    {
     "data": {
      "text/html": [
       "<div>\n",
       "<style scoped>\n",
       "    .dataframe tbody tr th:only-of-type {\n",
       "        vertical-align: middle;\n",
       "    }\n",
       "\n",
       "    .dataframe tbody tr th {\n",
       "        vertical-align: top;\n",
       "    }\n",
       "\n",
       "    .dataframe thead th {\n",
       "        text-align: right;\n",
       "    }\n",
       "</style>\n",
       "<table border=\"1\" class=\"dataframe\">\n",
       "  <thead>\n",
       "    <tr style=\"text-align: right;\">\n",
       "      <th></th>\n",
       "      <th>station</th>\n",
       "      <th>avgtemp</th>\n",
       "      <th>station_count</th>\n",
       "    </tr>\n",
       "  </thead>\n",
       "  <tbody>\n",
       "    <tr>\n",
       "      <th>0</th>\n",
       "      <td>ALTAMIRA</td>\n",
       "      <td>28.31</td>\n",
       "      <td>5</td>\n",
       "    </tr>\n",
       "    <tr>\n",
       "      <th>1</th>\n",
       "      <td>ALTA_FLORESTA_AERO</td>\n",
       "      <td>29.43</td>\n",
       "      <td>11</td>\n",
       "    </tr>\n",
       "    <tr>\n",
       "      <th>2</th>\n",
       "      <td>ARAXA</td>\n",
       "      <td>21.61</td>\n",
       "      <td>4</td>\n",
       "    </tr>\n",
       "    <tr>\n",
       "      <th>3</th>\n",
       "      <td>BACABAL</td>\n",
       "      <td>29.75</td>\n",
       "      <td>4</td>\n",
       "    </tr>\n",
       "    <tr>\n",
       "      <th>4</th>\n",
       "      <td>BAGE</td>\n",
       "      <td>20.37</td>\n",
       "      <td>9</td>\n",
       "    </tr>\n",
       "  </tbody>\n",
       "</table>\n",
       "</div>"
      ],
      "text/plain": [
       "              station  avgtemp  station_count\n",
       "0            ALTAMIRA    28.31              5\n",
       "1  ALTA_FLORESTA_AERO    29.43             11\n",
       "2               ARAXA    21.61              4\n",
       "3             BACABAL    29.75              4\n",
       "4                BAGE    20.37              9"
      ]
     },
     "execution_count": 23,
     "metadata": {},
     "output_type": "execute_result"
    }
   ],
   "source": [
    "ltbrazilavgs.head()"
   ]
  },
  {
   "cell_type": "code",
   "execution_count": null,
   "id": "constant-enhancement",
   "metadata": {},
   "outputs": [],
   "source": []
  }
 ],
 "metadata": {
  "kernelspec": {
   "display_name": "Python 3",
   "language": "python",
   "name": "python3"
  },
  "language_info": {
   "codemirror_mode": {
    "name": "ipython",
    "version": 3
   },
   "file_extension": ".py",
   "mimetype": "text/x-python",
   "name": "python",
   "nbconvert_exporter": "python",
   "pygments_lexer": "ipython3",
   "version": "3.7.9"
  },
  "toc": {
   "base_numbering": 1,
   "nav_menu": {},
   "number_sections": true,
   "sideBar": true,
   "skip_h1_title": false,
   "title_cell": "Table of Contents",
   "title_sidebar": "Contents",
   "toc_cell": true,
   "toc_position": {},
   "toc_section_display": true,
   "toc_window_display": false
  }
 },
 "nbformat": 4,
 "nbformat_minor": 5
}
