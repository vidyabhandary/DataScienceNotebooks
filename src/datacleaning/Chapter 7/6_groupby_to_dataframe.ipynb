{
 "cells": [
  {
   "cell_type": "markdown",
   "id": "purple-catering",
   "metadata": {
    "toc": true
   },
   "source": [
    "<h1>Table of Contents<span class=\"tocSkip\"></span></h1>\n",
    "<div class=\"toc\"><ul class=\"toc-item\"><li><span><a href=\"#Import-pandas-and-load-the-Covid-and-land-temperature-data\" data-toc-modified-id=\"Import-pandas-and-load-the-Covid-and-land-temperature-data-1\"><span class=\"toc-item-num\">1&nbsp;&nbsp;</span>Import pandas and load the Covid and land temperature data</a></span></li><li><span><a href=\"#Convert-Covid-data-from-one-country-per-day-to-summaries-across-all-countries-by-day\" data-toc-modified-id=\"Convert-Covid-data-from-one-country-per-day-to-summaries-across-all-countries-by-day-2\"><span class=\"toc-item-num\">2&nbsp;&nbsp;</span>Convert Covid data from one country per day to summaries across all countries by day</a></span></li><li><span><a href=\"#Create-a-DataFrame-with-average-temperatures-for-each-station-in-Brazil\" data-toc-modified-id=\"Create-a-DataFrame-with-average-temperatures-for-each-station-in-Brazil-3\"><span class=\"toc-item-num\">3&nbsp;&nbsp;</span>Create a DataFrame with average temperatures for each station in Brazil</a></span></li></ul></div>"
   ]
  },
  {
   "cell_type": "markdown",
   "id": "capital-serial",
   "metadata": {},
   "source": [
    "# Import pandas and load the Covid and land temperature data"
   ]
  },
  {
   "cell_type": "code",
   "execution_count": 1,
   "id": "governmental-toddler",
   "metadata": {},
   "outputs": [],
   "source": [
    "import pandas as pd"
   ]
  },
  {
   "cell_type": "code",
   "execution_count": 2,
   "id": "obvious-product",
   "metadata": {},
   "outputs": [],
   "source": [
    "# pd.set_option('display.width', 200)\n",
    "# pd.set_option('display.max_columns', 35)\n",
    "# pd.set_option('display.max_rows', 50)\n",
    "# pd.options.display.float_format = '{:,.0f}'.format"
   ]
  },
  {
   "cell_type": "code",
   "execution_count": 3,
   "id": "black-asian",
   "metadata": {},
   "outputs": [
    {
     "name": "stdout",
     "output_type": "stream",
     "text": [
      "watermark: 2.1.0\n",
      "pandas   : 1.2.1\n",
      "json     : 2.0.9\n",
      "\n"
     ]
    }
   ],
   "source": [
    "import watermark\n",
    "%load_ext watermark\n",
    "\n",
    "%watermark -n -i -iv"
   ]
  },
  {
   "cell_type": "code",
   "execution_count": 4,
   "id": "level-standard",
   "metadata": {},
   "outputs": [],
   "source": [
    "coviddaily = pd.read_csv('data/coviddaily720.csv', parse_dates=['casedate'])\n",
    "ltbrazil = pd.read_csv('data/ltbrazil.csv')"
   ]
  },
  {
   "cell_type": "markdown",
   "id": "cutting-divide",
   "metadata": {},
   "source": [
    "# Convert Covid data from one country per day to summaries across all countries by day"
   ]
  },
  {
   "cell_type": "code",
   "execution_count": 5,
   "id": "worst-cardiff",
   "metadata": {},
   "outputs": [],
   "source": [
    "coviddailytotals = coviddaily.loc[coviddaily['casedate'].between(\n",
    "    '2020-02-01',\n",
    "    '2020-07-12')].groupby(['casedate'],\n",
    "                           as_index=False)[['new_cases', 'new_deaths']].sum()"
   ]
  },
  {
   "cell_type": "code",
   "execution_count": 6,
   "id": "established-decision",
   "metadata": {},
   "outputs": [
    {
     "data": {
      "text/html": [
       "<div>\n",
       "<style scoped>\n",
       "    .dataframe tbody tr th:only-of-type {\n",
       "        vertical-align: middle;\n",
       "    }\n",
       "\n",
       "    .dataframe tbody tr th {\n",
       "        vertical-align: top;\n",
       "    }\n",
       "\n",
       "    .dataframe thead th {\n",
       "        text-align: right;\n",
       "    }\n",
       "</style>\n",
       "<table border=\"1\" class=\"dataframe\">\n",
       "  <thead>\n",
       "    <tr style=\"text-align: right;\">\n",
       "      <th></th>\n",
       "      <th>casedate</th>\n",
       "      <th>new_cases</th>\n",
       "      <th>new_deaths</th>\n",
       "    </tr>\n",
       "  </thead>\n",
       "  <tbody>\n",
       "    <tr>\n",
       "      <th>0</th>\n",
       "      <td>2020-02-01</td>\n",
       "      <td>2120.0</td>\n",
       "      <td>46.0</td>\n",
       "    </tr>\n",
       "    <tr>\n",
       "      <th>1</th>\n",
       "      <td>2020-02-02</td>\n",
       "      <td>2608.0</td>\n",
       "      <td>46.0</td>\n",
       "    </tr>\n",
       "    <tr>\n",
       "      <th>2</th>\n",
       "      <td>2020-02-03</td>\n",
       "      <td>2818.0</td>\n",
       "      <td>57.0</td>\n",
       "    </tr>\n",
       "    <tr>\n",
       "      <th>3</th>\n",
       "      <td>2020-02-04</td>\n",
       "      <td>3243.0</td>\n",
       "      <td>65.0</td>\n",
       "    </tr>\n",
       "    <tr>\n",
       "      <th>4</th>\n",
       "      <td>2020-02-05</td>\n",
       "      <td>3897.0</td>\n",
       "      <td>66.0</td>\n",
       "    </tr>\n",
       "    <tr>\n",
       "      <th>5</th>\n",
       "      <td>2020-02-06</td>\n",
       "      <td>3741.0</td>\n",
       "      <td>72.0</td>\n",
       "    </tr>\n",
       "    <tr>\n",
       "      <th>6</th>\n",
       "      <td>2020-02-07</td>\n",
       "      <td>3177.0</td>\n",
       "      <td>73.0</td>\n",
       "    </tr>\n",
       "    <tr>\n",
       "      <th>7</th>\n",
       "      <td>2020-02-08</td>\n",
       "      <td>3439.0</td>\n",
       "      <td>86.0</td>\n",
       "    </tr>\n",
       "    <tr>\n",
       "      <th>8</th>\n",
       "      <td>2020-02-09</td>\n",
       "      <td>2619.0</td>\n",
       "      <td>89.0</td>\n",
       "    </tr>\n",
       "    <tr>\n",
       "      <th>9</th>\n",
       "      <td>2020-02-10</td>\n",
       "      <td>2982.0</td>\n",
       "      <td>97.0</td>\n",
       "    </tr>\n",
       "  </tbody>\n",
       "</table>\n",
       "</div>"
      ],
      "text/plain": [
       "    casedate  new_cases  new_deaths\n",
       "0 2020-02-01     2120.0        46.0\n",
       "1 2020-02-02     2608.0        46.0\n",
       "2 2020-02-03     2818.0        57.0\n",
       "3 2020-02-04     3243.0        65.0\n",
       "4 2020-02-05     3897.0        66.0\n",
       "5 2020-02-06     3741.0        72.0\n",
       "6 2020-02-07     3177.0        73.0\n",
       "7 2020-02-08     3439.0        86.0\n",
       "8 2020-02-09     2619.0        89.0\n",
       "9 2020-02-10     2982.0        97.0"
      ]
     },
     "execution_count": 6,
     "metadata": {},
     "output_type": "execute_result"
    }
   ],
   "source": [
    "coviddailytotals.head(10)"
   ]
  },
  {
   "cell_type": "markdown",
   "id": "critical-monster",
   "metadata": {},
   "source": [
    "# Create a DataFrame with average temperatures for each station in Brazil"
   ]
  },
  {
   "cell_type": "code",
   "execution_count": 7,
   "id": "monetary-waters",
   "metadata": {},
   "outputs": [],
   "source": [
    "ltbrazil = ltbrazil.dropna(subset=['temperature'])"
   ]
  },
  {
   "cell_type": "code",
   "execution_count": 8,
   "id": "impaired-background",
   "metadata": {},
   "outputs": [
    {
     "data": {
      "text/html": [
       "<div>\n",
       "<style scoped>\n",
       "    .dataframe tbody tr th:only-of-type {\n",
       "        vertical-align: middle;\n",
       "    }\n",
       "\n",
       "    .dataframe tbody tr th {\n",
       "        vertical-align: top;\n",
       "    }\n",
       "\n",
       "    .dataframe thead th {\n",
       "        text-align: right;\n",
       "    }\n",
       "</style>\n",
       "<table border=\"1\" class=\"dataframe\">\n",
       "  <thead>\n",
       "    <tr style=\"text-align: right;\">\n",
       "      <th></th>\n",
       "      <th>locationid</th>\n",
       "      <th>year</th>\n",
       "      <th>month</th>\n",
       "      <th>temperature</th>\n",
       "      <th>latitude</th>\n",
       "      <th>longitude</th>\n",
       "      <th>elevation</th>\n",
       "      <th>station</th>\n",
       "      <th>countryid</th>\n",
       "      <th>country</th>\n",
       "      <th>latabs</th>\n",
       "    </tr>\n",
       "  </thead>\n",
       "  <tbody>\n",
       "    <tr>\n",
       "      <th>1</th>\n",
       "      <td>BR000082704</td>\n",
       "      <td>2019</td>\n",
       "      <td>1</td>\n",
       "      <td>25.98</td>\n",
       "      <td>-7.633</td>\n",
       "      <td>-72.667</td>\n",
       "      <td>194.0</td>\n",
       "      <td>CRUZEIRO_DO_SUL</td>\n",
       "      <td>BR</td>\n",
       "      <td>Brazil</td>\n",
       "      <td>7.633</td>\n",
       "    </tr>\n",
       "    <tr>\n",
       "      <th>2</th>\n",
       "      <td>BR000083361</td>\n",
       "      <td>2019</td>\n",
       "      <td>1</td>\n",
       "      <td>28.65</td>\n",
       "      <td>-15.550</td>\n",
       "      <td>-56.117</td>\n",
       "      <td>151.0</td>\n",
       "      <td>CUIABA</td>\n",
       "      <td>BR</td>\n",
       "      <td>Brazil</td>\n",
       "      <td>15.550</td>\n",
       "    </tr>\n",
       "  </tbody>\n",
       "</table>\n",
       "</div>"
      ],
      "text/plain": [
       "    locationid  year  month  temperature  latitude  longitude  elevation  \\\n",
       "1  BR000082704  2019      1        25.98    -7.633    -72.667      194.0   \n",
       "2  BR000083361  2019      1        28.65   -15.550    -56.117      151.0   \n",
       "\n",
       "           station countryid country  latabs  \n",
       "1  CRUZEIRO_DO_SUL        BR  Brazil   7.633  \n",
       "2           CUIABA        BR  Brazil  15.550  "
      ]
     },
     "execution_count": 8,
     "metadata": {},
     "output_type": "execute_result"
    }
   ],
   "source": [
    "ltbrazil.head(2)"
   ]
  },
  {
   "cell_type": "code",
   "execution_count": 9,
   "id": "damaged-trader",
   "metadata": {},
   "outputs": [
    {
     "data": {
      "text/html": [
       "<div>\n",
       "<style scoped>\n",
       "    .dataframe tbody tr th:only-of-type {\n",
       "        vertical-align: middle;\n",
       "    }\n",
       "\n",
       "    .dataframe tbody tr th {\n",
       "        vertical-align: top;\n",
       "    }\n",
       "\n",
       "    .dataframe thead th {\n",
       "        text-align: right;\n",
       "    }\n",
       "</style>\n",
       "<table border=\"1\" class=\"dataframe\">\n",
       "  <thead>\n",
       "    <tr style=\"text-align: right;\">\n",
       "      <th></th>\n",
       "      <th>locationid</th>\n",
       "      <th>year</th>\n",
       "      <th>month</th>\n",
       "      <th>temperature</th>\n",
       "      <th>latitude</th>\n",
       "      <th>longitude</th>\n",
       "      <th>elevation</th>\n",
       "      <th>station</th>\n",
       "      <th>countryid</th>\n",
       "      <th>country</th>\n",
       "      <th>latabs</th>\n",
       "    </tr>\n",
       "  </thead>\n",
       "  <tbody>\n",
       "  </tbody>\n",
       "</table>\n",
       "</div>"
      ],
      "text/plain": [
       "Empty DataFrame\n",
       "Columns: [locationid, year, month, temperature, latitude, longitude, elevation, station, countryid, country, latabs]\n",
       "Index: []"
      ]
     },
     "execution_count": 9,
     "metadata": {},
     "output_type": "execute_result"
    }
   ],
   "source": [
    "ltbrazil.loc[103508:104551]"
   ]
  },
  {
   "cell_type": "code",
   "execution_count": 10,
   "id": "starting-mercury",
   "metadata": {},
   "outputs": [
    {
     "data": {
      "text/plain": [
       "(969, 11)"
      ]
     },
     "execution_count": 10,
     "metadata": {},
     "output_type": "execute_result"
    }
   ],
   "source": [
    "ltbrazil.shape"
   ]
  },
  {
   "cell_type": "code",
   "execution_count": 11,
   "id": "viral-campus",
   "metadata": {},
   "outputs": [
    {
     "data": {
      "text/html": [
       "<div>\n",
       "<style scoped>\n",
       "    .dataframe tbody tr th:only-of-type {\n",
       "        vertical-align: middle;\n",
       "    }\n",
       "\n",
       "    .dataframe tbody tr th {\n",
       "        vertical-align: top;\n",
       "    }\n",
       "\n",
       "    .dataframe thead th {\n",
       "        text-align: right;\n",
       "    }\n",
       "</style>\n",
       "<table border=\"1\" class=\"dataframe\">\n",
       "  <thead>\n",
       "    <tr style=\"text-align: right;\">\n",
       "      <th></th>\n",
       "      <th>station</th>\n",
       "      <th>year</th>\n",
       "      <th>month</th>\n",
       "      <th>temperature</th>\n",
       "      <th>elevation</th>\n",
       "      <th>latabs</th>\n",
       "    </tr>\n",
       "  </thead>\n",
       "  <tbody>\n",
       "  </tbody>\n",
       "</table>\n",
       "</div>"
      ],
      "text/plain": [
       "Empty DataFrame\n",
       "Columns: [station, year, month, temperature, elevation, latabs]\n",
       "Index: []"
      ]
     },
     "execution_count": 11,
     "metadata": {},
     "output_type": "execute_result"
    }
   ],
   "source": [
    "ltbrazil.loc[\n",
    "    103508:104551,\n",
    "    ['station', 'year', 'month', 'temperature', 'elevation', 'latabs']]"
   ]
  },
  {
   "cell_type": "code",
   "execution_count": 12,
   "id": "owned-conservative",
   "metadata": {},
   "outputs": [],
   "source": [
    "ltbrazilavgs = ltbrazil.groupby(['station'], as_index=False).agg({\n",
    "    'latabs':\n",
    "    'first',\n",
    "    'elevation':\n",
    "    'first',\n",
    "    'temperature':\n",
    "    'mean'\n",
    "})"
   ]
  },
  {
   "cell_type": "code",
   "execution_count": 13,
   "id": "important-ribbon",
   "metadata": {},
   "outputs": [
    {
     "data": {
      "text/html": [
       "<div>\n",
       "<style scoped>\n",
       "    .dataframe tbody tr th:only-of-type {\n",
       "        vertical-align: middle;\n",
       "    }\n",
       "\n",
       "    .dataframe tbody tr th {\n",
       "        vertical-align: top;\n",
       "    }\n",
       "\n",
       "    .dataframe thead th {\n",
       "        text-align: right;\n",
       "    }\n",
       "</style>\n",
       "<table border=\"1\" class=\"dataframe\">\n",
       "  <thead>\n",
       "    <tr style=\"text-align: right;\">\n",
       "      <th></th>\n",
       "      <th>station</th>\n",
       "      <th>latabs</th>\n",
       "      <th>elevation</th>\n",
       "      <th>temperature</th>\n",
       "    </tr>\n",
       "  </thead>\n",
       "  <tbody>\n",
       "    <tr>\n",
       "      <th>0</th>\n",
       "      <td>ALTAMIRA</td>\n",
       "      <td>3.200</td>\n",
       "      <td>112.0</td>\n",
       "      <td>28.310000</td>\n",
       "    </tr>\n",
       "    <tr>\n",
       "      <th>1</th>\n",
       "      <td>ALTA_FLORESTA_AERO</td>\n",
       "      <td>9.867</td>\n",
       "      <td>289.0</td>\n",
       "      <td>29.374167</td>\n",
       "    </tr>\n",
       "    <tr>\n",
       "      <th>2</th>\n",
       "      <td>ARAXA</td>\n",
       "      <td>19.567</td>\n",
       "      <td>1004.0</td>\n",
       "      <td>21.612500</td>\n",
       "    </tr>\n",
       "    <tr>\n",
       "      <th>3</th>\n",
       "      <td>BACABAL</td>\n",
       "      <td>4.210</td>\n",
       "      <td>25.1</td>\n",
       "      <td>29.750000</td>\n",
       "    </tr>\n",
       "    <tr>\n",
       "      <th>4</th>\n",
       "      <td>BAGE</td>\n",
       "      <td>31.333</td>\n",
       "      <td>242.0</td>\n",
       "      <td>19.295833</td>\n",
       "    </tr>\n",
       "    <tr>\n",
       "      <th>5</th>\n",
       "      <td>BARBALHA</td>\n",
       "      <td>7.317</td>\n",
       "      <td>409.0</td>\n",
       "      <td>27.200000</td>\n",
       "    </tr>\n",
       "    <tr>\n",
       "      <th>6</th>\n",
       "      <td>BARCELOS</td>\n",
       "      <td>0.981</td>\n",
       "      <td>34.1</td>\n",
       "      <td>28.270833</td>\n",
       "    </tr>\n",
       "    <tr>\n",
       "      <th>7</th>\n",
       "      <td>BARRA_DO_CORDA</td>\n",
       "      <td>5.500</td>\n",
       "      <td>153.0</td>\n",
       "      <td>28.766667</td>\n",
       "    </tr>\n",
       "    <tr>\n",
       "      <th>8</th>\n",
       "      <td>BARREIRAS</td>\n",
       "      <td>12.150</td>\n",
       "      <td>439.0</td>\n",
       "      <td>26.795833</td>\n",
       "    </tr>\n",
       "    <tr>\n",
       "      <th>9</th>\n",
       "      <td>BARTOLOMEU_LISANDRO</td>\n",
       "      <td>21.698</td>\n",
       "      <td>17.4</td>\n",
       "      <td>25.843333</td>\n",
       "    </tr>\n",
       "  </tbody>\n",
       "</table>\n",
       "</div>"
      ],
      "text/plain": [
       "               station  latabs  elevation  temperature\n",
       "0             ALTAMIRA   3.200      112.0    28.310000\n",
       "1   ALTA_FLORESTA_AERO   9.867      289.0    29.374167\n",
       "2                ARAXA  19.567     1004.0    21.612500\n",
       "3              BACABAL   4.210       25.1    29.750000\n",
       "4                 BAGE  31.333      242.0    19.295833\n",
       "5             BARBALHA   7.317      409.0    27.200000\n",
       "6             BARCELOS   0.981       34.1    28.270833\n",
       "7       BARRA_DO_CORDA   5.500      153.0    28.766667\n",
       "8            BARREIRAS  12.150      439.0    26.795833\n",
       "9  BARTOLOMEU_LISANDRO  21.698       17.4    25.843333"
      ]
     },
     "execution_count": 13,
     "metadata": {},
     "output_type": "execute_result"
    }
   ],
   "source": [
    "ltbrazilavgs.head(10)"
   ]
  },
  {
   "cell_type": "code",
   "execution_count": null,
   "id": "exciting-watershed",
   "metadata": {},
   "outputs": [],
   "source": []
  }
 ],
 "metadata": {
  "kernelspec": {
   "display_name": "Python 3",
   "language": "python",
   "name": "python3"
  },
  "language_info": {
   "codemirror_mode": {
    "name": "ipython",
    "version": 3
   },
   "file_extension": ".py",
   "mimetype": "text/x-python",
   "name": "python",
   "nbconvert_exporter": "python",
   "pygments_lexer": "ipython3",
   "version": "3.7.9"
  },
  "toc": {
   "base_numbering": 1,
   "nav_menu": {},
   "number_sections": true,
   "sideBar": true,
   "skip_h1_title": false,
   "title_cell": "Table of Contents",
   "title_sidebar": "Contents",
   "toc_cell": true,
   "toc_position": {},
   "toc_section_display": true,
   "toc_window_display": false
  }
 },
 "nbformat": 4,
 "nbformat_minor": 5
}
