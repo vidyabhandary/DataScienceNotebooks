{
 "cells": [
  {
   "cell_type": "markdown",
   "id": "preliminary-exhibition",
   "metadata": {
    "toc": true
   },
   "source": [
    "<h1>Table of Contents<span class=\"tocSkip\"></span></h1>\n",
    "<div class=\"toc\"><ul class=\"toc-item\"><li><span><a href=\"#Import-pandas-and-load-the-NLS-data\" data-toc-modified-id=\"Import-pandas-and-load-the-NLS-data-1\"><span class=\"toc-item-num\">1&nbsp;&nbsp;</span>Import pandas and load the NLS data</a></span></li><li><span><a href=\"#View-some-of-the-weeks-worked-and-college-enrollment-data\" data-toc-modified-id=\"View-some-of-the-weeks-worked-and-college-enrollment-data-2\"><span class=\"toc-item-num\">2&nbsp;&nbsp;</span>View some of the weeks worked and college enrollment data</a></span></li><li><span><a href=\"#Run-the-wide_to_long-function\" data-toc-modified-id=\"Run-the-wide_to_long-function-3\"><span class=\"toc-item-num\">3&nbsp;&nbsp;</span>Run the wide_to_long function</a></span></li></ul></div>"
   ]
  },
  {
   "cell_type": "markdown",
   "id": "genetic-integrity",
   "metadata": {},
   "source": [
    "# Import pandas and load the NLS data"
   ]
  },
  {
   "cell_type": "code",
   "execution_count": 1,
   "id": "separated-cooperative",
   "metadata": {},
   "outputs": [],
   "source": [
    "import pandas as pd"
   ]
  },
  {
   "cell_type": "code",
   "execution_count": 2,
   "id": "focused-immune",
   "metadata": {},
   "outputs": [],
   "source": [
    "# pd.set_option('display.width', 200)\n",
    "# pd.set_option('display.max_columns', 30)\n",
    "# pd.set_option('display.max_rows', 200)\n",
    "# pd.options.display.float_format = '{:,.0f}'.format"
   ]
  },
  {
   "cell_type": "code",
   "execution_count": 3,
   "id": "motivated-theater",
   "metadata": {},
   "outputs": [
    {
     "name": "stdout",
     "output_type": "stream",
     "text": [
      "pandas   : 1.2.1\n",
      "watermark: 2.1.0\n",
      "json     : 2.0.9\n",
      "\n"
     ]
    }
   ],
   "source": [
    "import watermark\n",
    "%load_ext watermark\n",
    "\n",
    "%watermark -n -i -iv"
   ]
  },
  {
   "cell_type": "code",
   "execution_count": 4,
   "id": "published-mechanics",
   "metadata": {},
   "outputs": [],
   "source": [
    "nls97 = pd.read_csv('data/nls97f.csv')"
   ]
  },
  {
   "cell_type": "code",
   "execution_count": 5,
   "id": "vulnerable-passion",
   "metadata": {},
   "outputs": [],
   "source": [
    "nls97.set_index('personid', inplace=True)"
   ]
  },
  {
   "cell_type": "markdown",
   "id": "modified-sword",
   "metadata": {},
   "source": [
    "# View some of the weeks worked and college enrollment data"
   ]
  },
  {
   "cell_type": "code",
   "execution_count": 6,
   "id": "western-george",
   "metadata": {},
   "outputs": [],
   "source": [
    "weeksworkedcols = [\n",
    "    'weeksworked00', 'weeksworked01', 'weeksworked02', 'weeksworked03',\n",
    "    'weeksworked04'\n",
    "]"
   ]
  },
  {
   "cell_type": "code",
   "execution_count": 7,
   "id": "engaging-avenue",
   "metadata": {},
   "outputs": [],
   "source": [
    "colenrcols = [\n",
    "    'colenroct00', 'colenroct01', 'colenroct02', 'colenroct03', 'colenroct04'\n",
    "]"
   ]
  },
  {
   "cell_type": "code",
   "execution_count": 8,
   "id": "herbal-marking",
   "metadata": {},
   "outputs": [
    {
     "data": {
      "text/html": [
       "<div>\n",
       "<style scoped>\n",
       "    .dataframe tbody tr th:only-of-type {\n",
       "        vertical-align: middle;\n",
       "    }\n",
       "\n",
       "    .dataframe tbody tr th {\n",
       "        vertical-align: top;\n",
       "    }\n",
       "\n",
       "    .dataframe thead th {\n",
       "        text-align: right;\n",
       "    }\n",
       "</style>\n",
       "<table border=\"1\" class=\"dataframe\">\n",
       "  <thead>\n",
       "    <tr style=\"text-align: right;\">\n",
       "      <th>personid</th>\n",
       "      <th>135335</th>\n",
       "      <th>999406</th>\n",
       "    </tr>\n",
       "  </thead>\n",
       "  <tbody>\n",
       "    <tr>\n",
       "      <th>originalid</th>\n",
       "      <td>1</td>\n",
       "      <td>2</td>\n",
       "    </tr>\n",
       "    <tr>\n",
       "      <th>weeksworked00</th>\n",
       "      <td>53.0</td>\n",
       "      <td>51.0</td>\n",
       "    </tr>\n",
       "    <tr>\n",
       "      <th>weeksworked01</th>\n",
       "      <td>52.0</td>\n",
       "      <td>52.0</td>\n",
       "    </tr>\n",
       "    <tr>\n",
       "      <th>weeksworked02</th>\n",
       "      <td>NaN</td>\n",
       "      <td>44.0</td>\n",
       "    </tr>\n",
       "    <tr>\n",
       "      <th>weeksworked03</th>\n",
       "      <td>42.0</td>\n",
       "      <td>45.0</td>\n",
       "    </tr>\n",
       "    <tr>\n",
       "      <th>weeksworked04</th>\n",
       "      <td>52.0</td>\n",
       "      <td>52.0</td>\n",
       "    </tr>\n",
       "    <tr>\n",
       "      <th>colenroct00</th>\n",
       "      <td>3. 4-year college</td>\n",
       "      <td>3. 4-year college</td>\n",
       "    </tr>\n",
       "    <tr>\n",
       "      <th>colenroct01</th>\n",
       "      <td>3. 4-year college</td>\n",
       "      <td>2. 2-year college</td>\n",
       "    </tr>\n",
       "    <tr>\n",
       "      <th>colenroct02</th>\n",
       "      <td>3. 4-year college</td>\n",
       "      <td>3. 4-year college</td>\n",
       "    </tr>\n",
       "    <tr>\n",
       "      <th>colenroct03</th>\n",
       "      <td>1. Not enrolled</td>\n",
       "      <td>3. 4-year college</td>\n",
       "    </tr>\n",
       "    <tr>\n",
       "      <th>colenroct04</th>\n",
       "      <td>1. Not enrolled</td>\n",
       "      <td>3. 4-year college</td>\n",
       "    </tr>\n",
       "  </tbody>\n",
       "</table>\n",
       "</div>"
      ],
      "text/plain": [
       "personid                  135335              999406\n",
       "originalid                     1                   2\n",
       "weeksworked00               53.0                51.0\n",
       "weeksworked01               52.0                52.0\n",
       "weeksworked02                NaN                44.0\n",
       "weeksworked03               42.0                45.0\n",
       "weeksworked04               52.0                52.0\n",
       "colenroct00    3. 4-year college   3. 4-year college\n",
       "colenroct01    3. 4-year college  2. 2-year college \n",
       "colenroct02    3. 4-year college   3. 4-year college\n",
       "colenroct03      1. Not enrolled   3. 4-year college\n",
       "colenroct04      1. Not enrolled   3. 4-year college"
      ]
     },
     "execution_count": 8,
     "metadata": {},
     "output_type": "execute_result"
    }
   ],
   "source": [
    "nls97.loc[nls97['originalid'].isin([1, 2]),\n",
    "          ['originalid'] + weeksworkedcols + colenrcols].T"
   ]
  },
  {
   "cell_type": "markdown",
   "id": "aggregate-theater",
   "metadata": {},
   "source": [
    "# Run the wide_to_long function"
   ]
  },
  {
   "cell_type": "code",
   "execution_count": 9,
   "id": "worse-queue",
   "metadata": {},
   "outputs": [],
   "source": [
    "workschool = pd.wide_to_long(nls97[['originalid'] + weeksworkedcols +\n",
    "                                   colenrcols],\n",
    "                             stubnames=['weeksworked', 'colenroct'],\n",
    "                             i=['originalid'],\n",
    "                             j='year').reset_index()"
   ]
  },
  {
   "cell_type": "code",
   "execution_count": 10,
   "id": "australian-population",
   "metadata": {},
   "outputs": [
    {
     "data": {
      "text/html": [
       "<div>\n",
       "<style scoped>\n",
       "    .dataframe tbody tr th:only-of-type {\n",
       "        vertical-align: middle;\n",
       "    }\n",
       "\n",
       "    .dataframe tbody tr th {\n",
       "        vertical-align: top;\n",
       "    }\n",
       "\n",
       "    .dataframe thead th {\n",
       "        text-align: right;\n",
       "    }\n",
       "</style>\n",
       "<table border=\"1\" class=\"dataframe\">\n",
       "  <thead>\n",
       "    <tr style=\"text-align: right;\">\n",
       "      <th></th>\n",
       "      <th>originalid</th>\n",
       "      <th>year</th>\n",
       "      <th>weeksworked</th>\n",
       "      <th>colenroct</th>\n",
       "    </tr>\n",
       "  </thead>\n",
       "  <tbody>\n",
       "    <tr>\n",
       "      <th>0</th>\n",
       "      <td>8245</td>\n",
       "      <td>0</td>\n",
       "      <td>46.0</td>\n",
       "      <td>1. Not enrolled</td>\n",
       "    </tr>\n",
       "    <tr>\n",
       "      <th>1</th>\n",
       "      <td>3962</td>\n",
       "      <td>0</td>\n",
       "      <td>5.0</td>\n",
       "      <td>1. Not enrolled</td>\n",
       "    </tr>\n",
       "  </tbody>\n",
       "</table>\n",
       "</div>"
      ],
      "text/plain": [
       "   originalid  year  weeksworked        colenroct\n",
       "0        8245     0         46.0  1. Not enrolled\n",
       "1        3962     0          5.0  1. Not enrolled"
      ]
     },
     "execution_count": 10,
     "metadata": {},
     "output_type": "execute_result"
    }
   ],
   "source": [
    "workschool.head(2)"
   ]
  },
  {
   "cell_type": "code",
   "execution_count": 11,
   "id": "fitting-sherman",
   "metadata": {},
   "outputs": [],
   "source": [
    "workschool['year'] = workschool['year'] + 2000"
   ]
  },
  {
   "cell_type": "code",
   "execution_count": 12,
   "id": "downtown-month",
   "metadata": {},
   "outputs": [],
   "source": [
    "workschool = workschool.sort_values(['originalid', 'year'])"
   ]
  },
  {
   "cell_type": "code",
   "execution_count": 13,
   "id": "binding-blogger",
   "metadata": {},
   "outputs": [],
   "source": [
    "workschool.set_index(['originalid'], inplace=True)"
   ]
  },
  {
   "cell_type": "code",
   "execution_count": 14,
   "id": "russian-profession",
   "metadata": {},
   "outputs": [
    {
     "data": {
      "text/html": [
       "<div>\n",
       "<style scoped>\n",
       "    .dataframe tbody tr th:only-of-type {\n",
       "        vertical-align: middle;\n",
       "    }\n",
       "\n",
       "    .dataframe tbody tr th {\n",
       "        vertical-align: top;\n",
       "    }\n",
       "\n",
       "    .dataframe thead th {\n",
       "        text-align: right;\n",
       "    }\n",
       "</style>\n",
       "<table border=\"1\" class=\"dataframe\">\n",
       "  <thead>\n",
       "    <tr style=\"text-align: right;\">\n",
       "      <th></th>\n",
       "      <th>year</th>\n",
       "      <th>weeksworked</th>\n",
       "      <th>colenroct</th>\n",
       "    </tr>\n",
       "    <tr>\n",
       "      <th>originalid</th>\n",
       "      <th></th>\n",
       "      <th></th>\n",
       "      <th></th>\n",
       "    </tr>\n",
       "  </thead>\n",
       "  <tbody>\n",
       "    <tr>\n",
       "      <th>1</th>\n",
       "      <td>2000</td>\n",
       "      <td>53.0</td>\n",
       "      <td>3. 4-year college</td>\n",
       "    </tr>\n",
       "    <tr>\n",
       "      <th>1</th>\n",
       "      <td>2001</td>\n",
       "      <td>52.0</td>\n",
       "      <td>3. 4-year college</td>\n",
       "    </tr>\n",
       "    <tr>\n",
       "      <th>1</th>\n",
       "      <td>2002</td>\n",
       "      <td>NaN</td>\n",
       "      <td>3. 4-year college</td>\n",
       "    </tr>\n",
       "    <tr>\n",
       "      <th>1</th>\n",
       "      <td>2003</td>\n",
       "      <td>42.0</td>\n",
       "      <td>1. Not enrolled</td>\n",
       "    </tr>\n",
       "    <tr>\n",
       "      <th>1</th>\n",
       "      <td>2004</td>\n",
       "      <td>52.0</td>\n",
       "      <td>1. Not enrolled</td>\n",
       "    </tr>\n",
       "    <tr>\n",
       "      <th>2</th>\n",
       "      <td>2000</td>\n",
       "      <td>51.0</td>\n",
       "      <td>3. 4-year college</td>\n",
       "    </tr>\n",
       "    <tr>\n",
       "      <th>2</th>\n",
       "      <td>2001</td>\n",
       "      <td>52.0</td>\n",
       "      <td>2. 2-year college</td>\n",
       "    </tr>\n",
       "    <tr>\n",
       "      <th>2</th>\n",
       "      <td>2002</td>\n",
       "      <td>44.0</td>\n",
       "      <td>3. 4-year college</td>\n",
       "    </tr>\n",
       "    <tr>\n",
       "      <th>2</th>\n",
       "      <td>2003</td>\n",
       "      <td>45.0</td>\n",
       "      <td>3. 4-year college</td>\n",
       "    </tr>\n",
       "    <tr>\n",
       "      <th>2</th>\n",
       "      <td>2004</td>\n",
       "      <td>52.0</td>\n",
       "      <td>3. 4-year college</td>\n",
       "    </tr>\n",
       "  </tbody>\n",
       "</table>\n",
       "</div>"
      ],
      "text/plain": [
       "            year  weeksworked           colenroct\n",
       "originalid                                       \n",
       "1           2000         53.0   3. 4-year college\n",
       "1           2001         52.0   3. 4-year college\n",
       "1           2002          NaN   3. 4-year college\n",
       "1           2003         42.0     1. Not enrolled\n",
       "1           2004         52.0     1. Not enrolled\n",
       "2           2000         51.0   3. 4-year college\n",
       "2           2001         52.0  2. 2-year college \n",
       "2           2002         44.0   3. 4-year college\n",
       "2           2003         45.0   3. 4-year college\n",
       "2           2004         52.0   3. 4-year college"
      ]
     },
     "execution_count": 14,
     "metadata": {},
     "output_type": "execute_result"
    }
   ],
   "source": [
    "# wide_to_long accomplishes in one step what it took us several steps to accomplish in\n",
    "# the previous recipe using melt\n",
    "\n",
    "workschool.head(10)"
   ]
  },
  {
   "cell_type": "code",
   "execution_count": 21,
   "id": "fossil-tours",
   "metadata": {},
   "outputs": [],
   "source": [
    "weeksworkedcols = [\n",
    "    'weeksworked00', 'weeksworked01', 'weeksworked02', 'weeksworked04',\n",
    "    'weeksworked05'\n",
    "]"
   ]
  },
  {
   "cell_type": "code",
   "execution_count": 22,
   "id": "assisted-cement",
   "metadata": {},
   "outputs": [],
   "source": [
    "workschool = pd.wide_to_long(nls97[['originalid'] + weeksworkedcols +\n",
    "                                   colenrcols],\n",
    "                             stubnames=['weeksworked', 'colenroct'],\n",
    "                             i=['originalid'],\n",
    "                             j='year').reset_index()"
   ]
  },
  {
   "cell_type": "code",
   "execution_count": 23,
   "id": "registered-polyester",
   "metadata": {},
   "outputs": [],
   "source": [
    "workschool['year'] = workschool['year'] + 2000"
   ]
  },
  {
   "cell_type": "code",
   "execution_count": 24,
   "id": "velvet-blair",
   "metadata": {},
   "outputs": [],
   "source": [
    "workschool = workschool.sort_values(['originalid', 'year'])"
   ]
  },
  {
   "cell_type": "code",
   "execution_count": 25,
   "id": "guided-presentation",
   "metadata": {},
   "outputs": [],
   "source": [
    "workschool.set_index(['originalid'], inplace=True)"
   ]
  },
  {
   "cell_type": "code",
   "execution_count": 26,
   "id": "secret-flooring",
   "metadata": {},
   "outputs": [
    {
     "data": {
      "text/html": [
       "<div>\n",
       "<style scoped>\n",
       "    .dataframe tbody tr th:only-of-type {\n",
       "        vertical-align: middle;\n",
       "    }\n",
       "\n",
       "    .dataframe tbody tr th {\n",
       "        vertical-align: top;\n",
       "    }\n",
       "\n",
       "    .dataframe thead th {\n",
       "        text-align: right;\n",
       "    }\n",
       "</style>\n",
       "<table border=\"1\" class=\"dataframe\">\n",
       "  <thead>\n",
       "    <tr style=\"text-align: right;\">\n",
       "      <th></th>\n",
       "      <th>year</th>\n",
       "      <th>weeksworked</th>\n",
       "      <th>colenroct</th>\n",
       "    </tr>\n",
       "    <tr>\n",
       "      <th>originalid</th>\n",
       "      <th></th>\n",
       "      <th></th>\n",
       "      <th></th>\n",
       "    </tr>\n",
       "  </thead>\n",
       "  <tbody>\n",
       "    <tr>\n",
       "      <th>1</th>\n",
       "      <td>2000</td>\n",
       "      <td>53.0</td>\n",
       "      <td>3. 4-year college</td>\n",
       "    </tr>\n",
       "    <tr>\n",
       "      <th>1</th>\n",
       "      <td>2001</td>\n",
       "      <td>52.0</td>\n",
       "      <td>3. 4-year college</td>\n",
       "    </tr>\n",
       "    <tr>\n",
       "      <th>1</th>\n",
       "      <td>2002</td>\n",
       "      <td>NaN</td>\n",
       "      <td>3. 4-year college</td>\n",
       "    </tr>\n",
       "    <tr>\n",
       "      <th>1</th>\n",
       "      <td>2003</td>\n",
       "      <td>NaN</td>\n",
       "      <td>1. Not enrolled</td>\n",
       "    </tr>\n",
       "    <tr>\n",
       "      <th>1</th>\n",
       "      <td>2004</td>\n",
       "      <td>52.0</td>\n",
       "      <td>1. Not enrolled</td>\n",
       "    </tr>\n",
       "    <tr>\n",
       "      <th>1</th>\n",
       "      <td>2005</td>\n",
       "      <td>53.0</td>\n",
       "      <td>NaN</td>\n",
       "    </tr>\n",
       "    <tr>\n",
       "      <th>2</th>\n",
       "      <td>2000</td>\n",
       "      <td>51.0</td>\n",
       "      <td>3. 4-year college</td>\n",
       "    </tr>\n",
       "    <tr>\n",
       "      <th>2</th>\n",
       "      <td>2001</td>\n",
       "      <td>52.0</td>\n",
       "      <td>2. 2-year college</td>\n",
       "    </tr>\n",
       "    <tr>\n",
       "      <th>2</th>\n",
       "      <td>2002</td>\n",
       "      <td>44.0</td>\n",
       "      <td>3. 4-year college</td>\n",
       "    </tr>\n",
       "    <tr>\n",
       "      <th>2</th>\n",
       "      <td>2003</td>\n",
       "      <td>NaN</td>\n",
       "      <td>3. 4-year college</td>\n",
       "    </tr>\n",
       "    <tr>\n",
       "      <th>2</th>\n",
       "      <td>2004</td>\n",
       "      <td>52.0</td>\n",
       "      <td>3. 4-year college</td>\n",
       "    </tr>\n",
       "    <tr>\n",
       "      <th>2</th>\n",
       "      <td>2005</td>\n",
       "      <td>53.0</td>\n",
       "      <td>NaN</td>\n",
       "    </tr>\n",
       "  </tbody>\n",
       "</table>\n",
       "</div>"
      ],
      "text/plain": [
       "            year  weeksworked           colenroct\n",
       "originalid                                       \n",
       "1           2000         53.0   3. 4-year college\n",
       "1           2001         52.0   3. 4-year college\n",
       "1           2002          NaN   3. 4-year college\n",
       "1           2003          NaN     1. Not enrolled\n",
       "1           2004         52.0     1. Not enrolled\n",
       "1           2005         53.0                 NaN\n",
       "2           2000         51.0   3. 4-year college\n",
       "2           2001         52.0  2. 2-year college \n",
       "2           2002         44.0   3. 4-year college\n",
       "2           2003          NaN   3. 4-year college\n",
       "2           2004         52.0   3. 4-year college\n",
       "2           2005         53.0                 NaN"
      ]
     },
     "execution_count": 26,
     "metadata": {},
     "output_type": "execute_result"
    }
   ],
   "source": [
    "workschool.head(12)"
   ]
  },
  {
   "cell_type": "code",
   "execution_count": null,
   "id": "indie-priority",
   "metadata": {},
   "outputs": [],
   "source": []
  }
 ],
 "metadata": {
  "kernelspec": {
   "display_name": "Python 3",
   "language": "python",
   "name": "python3"
  },
  "language_info": {
   "codemirror_mode": {
    "name": "ipython",
    "version": 3
   },
   "file_extension": ".py",
   "mimetype": "text/x-python",
   "name": "python",
   "nbconvert_exporter": "python",
   "pygments_lexer": "ipython3",
   "version": "3.7.9"
  },
  "toc": {
   "base_numbering": 1,
   "nav_menu": {},
   "number_sections": true,
   "sideBar": true,
   "skip_h1_title": false,
   "title_cell": "Table of Contents",
   "title_sidebar": "Contents",
   "toc_cell": true,
   "toc_position": {
    "height": "calc(100% - 180px)",
    "left": "10px",
    "top": "150px",
    "width": "279.273px"
   },
   "toc_section_display": true,
   "toc_window_display": false
  }
 },
 "nbformat": 4,
 "nbformat_minor": 5
}
