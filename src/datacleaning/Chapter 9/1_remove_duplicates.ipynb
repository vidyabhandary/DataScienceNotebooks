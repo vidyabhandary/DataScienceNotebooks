{
 "cells": [
  {
   "cell_type": "markdown",
   "id": "black-professor",
   "metadata": {
    "toc": true
   },
   "source": [
    "<h1>Table of Contents<span class=\"tocSkip\"></span></h1>\n",
    "<div class=\"toc\"><ul class=\"toc-item\"><li><span><a href=\"#Import-pandas-and-the-COVID-daily-cases-data\" data-toc-modified-id=\"Import-pandas-and-the-COVID-daily-cases-data-1\"><span class=\"toc-item-num\">1&nbsp;&nbsp;</span>Import pandas and the COVID daily cases data</a></span></li><li><span><a href=\"#Create-lists-for-the-daily-cases-and-deaths-columns,-the-case-total-columns,-and-the-demographic-columns\" data-toc-modified-id=\"Create-lists-for-the-daily-cases-and-deaths-columns,-the-case-total-columns,-and-the-demographic-columns-2\"><span class=\"toc-item-num\">2&nbsp;&nbsp;</span>Create lists for the daily cases and deaths columns, the case total columns, and the demographic columns</a></span></li><li><span><a href=\"#Create-a-DataFrame-with-just-the-daily-data\" data-toc-modified-id=\"Create-a-DataFrame-with-just-the-daily-data-3\"><span class=\"toc-item-num\">3&nbsp;&nbsp;</span>Create a DataFrame with just the daily data</a></span></li><li><span><a href=\"#Select-one-row-per-country\" data-toc-modified-id=\"Select-one-row-per-country-4\"><span class=\"toc-item-num\">4&nbsp;&nbsp;</span>Select one row per country</a></span></li><li><span><a href=\"#Sum-the-values-for-each-group\" data-toc-modified-id=\"Sum-the-values-for-each-group-5\"><span class=\"toc-item-num\">5&nbsp;&nbsp;</span>Sum the values for each group</a></span></li></ul></div>"
   ]
  },
  {
   "cell_type": "markdown",
   "id": "received-tourist",
   "metadata": {},
   "source": [
    "# Import pandas and the COVID daily cases data"
   ]
  },
  {
   "cell_type": "code",
   "execution_count": 1,
   "id": "nearby-hacker",
   "metadata": {},
   "outputs": [],
   "source": [
    "import pandas as pd"
   ]
  },
  {
   "cell_type": "code",
   "execution_count": 2,
   "id": "trained-rider",
   "metadata": {},
   "outputs": [],
   "source": [
    "# pd.set_option('display.width', 200)\n",
    "# pd.set_option('display.max_columns', 7)\n",
    "# pd.set_option('display.max_rows', 200)\n",
    "pd.options.display.float_format = '{:,.2f}'.format"
   ]
  },
  {
   "cell_type": "code",
   "execution_count": 3,
   "id": "broadband-intention",
   "metadata": {},
   "outputs": [
    {
     "name": "stdout",
     "output_type": "stream",
     "text": [
      "json     : 2.0.9\n",
      "watermark: 2.1.0\n",
      "pandas   : 1.2.1\n",
      "\n"
     ]
    }
   ],
   "source": [
    "import watermark\n",
    "%load_ext watermark\n",
    "\n",
    "%watermark -n -i -iv"
   ]
  },
  {
   "cell_type": "code",
   "execution_count": 4,
   "id": "accurate-complement",
   "metadata": {},
   "outputs": [],
   "source": [
    "covidcases = pd.read_csv('data/covidcases720.csv')"
   ]
  },
  {
   "cell_type": "markdown",
   "id": "consolidated-active",
   "metadata": {},
   "source": [
    "# Create lists for the daily cases and deaths columns, the case total columns, and the demographic columns"
   ]
  },
  {
   "cell_type": "code",
   "execution_count": 5,
   "id": "physical-nomination",
   "metadata": {},
   "outputs": [],
   "source": [
    "dailyvars = ['casedate', 'new_cases', 'new_deaths']\n",
    "totvars = ['location', 'total_cases', 'total_deaths']\n",
    "demovars = [\n",
    "    'population', 'population_density', 'median_age', 'gdp_per_capita',\n",
    "    'hospital_beds_per_thousand', 'region'\n",
    "]"
   ]
  },
  {
   "cell_type": "code",
   "execution_count": 6,
   "id": "guilty-fighter",
   "metadata": {},
   "outputs": [
    {
     "data": {
      "text/html": [
       "<div>\n",
       "<style scoped>\n",
       "    .dataframe tbody tr th:only-of-type {\n",
       "        vertical-align: middle;\n",
       "    }\n",
       "\n",
       "    .dataframe tbody tr th {\n",
       "        vertical-align: top;\n",
       "    }\n",
       "\n",
       "    .dataframe thead th {\n",
       "        text-align: right;\n",
       "    }\n",
       "</style>\n",
       "<table border=\"1\" class=\"dataframe\">\n",
       "  <thead>\n",
       "    <tr style=\"text-align: right;\">\n",
       "      <th></th>\n",
       "      <th>0</th>\n",
       "      <th>1</th>\n",
       "      <th>2</th>\n",
       "    </tr>\n",
       "  </thead>\n",
       "  <tbody>\n",
       "    <tr>\n",
       "      <th>casedate</th>\n",
       "      <td>2019-12-31</td>\n",
       "      <td>2020-01-01</td>\n",
       "      <td>2020-01-02</td>\n",
       "    </tr>\n",
       "    <tr>\n",
       "      <th>new_cases</th>\n",
       "      <td>0.0</td>\n",
       "      <td>0.0</td>\n",
       "      <td>0.0</td>\n",
       "    </tr>\n",
       "    <tr>\n",
       "      <th>new_deaths</th>\n",
       "      <td>0.0</td>\n",
       "      <td>0.0</td>\n",
       "      <td>0.0</td>\n",
       "    </tr>\n",
       "    <tr>\n",
       "      <th>location</th>\n",
       "      <td>Afghanistan</td>\n",
       "      <td>Afghanistan</td>\n",
       "      <td>Afghanistan</td>\n",
       "    </tr>\n",
       "    <tr>\n",
       "      <th>total_cases</th>\n",
       "      <td>0.0</td>\n",
       "      <td>0.0</td>\n",
       "      <td>0.0</td>\n",
       "    </tr>\n",
       "    <tr>\n",
       "      <th>total_deaths</th>\n",
       "      <td>0.0</td>\n",
       "      <td>0.0</td>\n",
       "      <td>0.0</td>\n",
       "    </tr>\n",
       "    <tr>\n",
       "      <th>population</th>\n",
       "      <td>38,928,341.0</td>\n",
       "      <td>38,928,341.0</td>\n",
       "      <td>38,928,341.0</td>\n",
       "    </tr>\n",
       "    <tr>\n",
       "      <th>population_density</th>\n",
       "      <td>54.42</td>\n",
       "      <td>54.42</td>\n",
       "      <td>54.42</td>\n",
       "    </tr>\n",
       "    <tr>\n",
       "      <th>median_age</th>\n",
       "      <td>18.6</td>\n",
       "      <td>18.6</td>\n",
       "      <td>18.6</td>\n",
       "    </tr>\n",
       "    <tr>\n",
       "      <th>gdp_per_capita</th>\n",
       "      <td>1,803.99</td>\n",
       "      <td>1,803.99</td>\n",
       "      <td>1,803.99</td>\n",
       "    </tr>\n",
       "    <tr>\n",
       "      <th>hospital_beds_per_thousand</th>\n",
       "      <td>0.5</td>\n",
       "      <td>0.5</td>\n",
       "      <td>0.5</td>\n",
       "    </tr>\n",
       "    <tr>\n",
       "      <th>region</th>\n",
       "      <td>South Asia</td>\n",
       "      <td>South Asia</td>\n",
       "      <td>South Asia</td>\n",
       "    </tr>\n",
       "  </tbody>\n",
       "</table>\n",
       "</div>"
      ],
      "text/plain": [
       "                                      0            1            2\n",
       "casedate                     2019-12-31   2020-01-01   2020-01-02\n",
       "new_cases                           0.0          0.0          0.0\n",
       "new_deaths                          0.0          0.0          0.0\n",
       "location                    Afghanistan  Afghanistan  Afghanistan\n",
       "total_cases                         0.0          0.0          0.0\n",
       "total_deaths                        0.0          0.0          0.0\n",
       "population                 38,928,341.0 38,928,341.0 38,928,341.0\n",
       "population_density                54.42        54.42        54.42\n",
       "median_age                         18.6         18.6         18.6\n",
       "gdp_per_capita                 1,803.99     1,803.99     1,803.99\n",
       "hospital_beds_per_thousand          0.5          0.5          0.5\n",
       "region                       South Asia   South Asia   South Asia"
      ]
     },
     "execution_count": 6,
     "metadata": {},
     "output_type": "execute_result"
    }
   ],
   "source": [
    "covidcases[dailyvars + totvars + demovars].head(3).T"
   ]
  },
  {
   "cell_type": "markdown",
   "id": "electric-beaver",
   "metadata": {},
   "source": [
    "# Create a DataFrame with just the daily data"
   ]
  },
  {
   "cell_type": "code",
   "execution_count": 7,
   "id": "hundred-idaho",
   "metadata": {},
   "outputs": [],
   "source": [
    "coviddaily = covidcases[['location'] + dailyvars]"
   ]
  },
  {
   "cell_type": "code",
   "execution_count": 8,
   "id": "average-membership",
   "metadata": {},
   "outputs": [
    {
     "data": {
      "text/plain": [
       "(29529, 4)"
      ]
     },
     "execution_count": 8,
     "metadata": {},
     "output_type": "execute_result"
    }
   ],
   "source": [
    "coviddaily.shape"
   ]
  },
  {
   "cell_type": "code",
   "execution_count": 9,
   "id": "literary-scholarship",
   "metadata": {},
   "outputs": [
    {
     "data": {
      "text/html": [
       "<div>\n",
       "<style scoped>\n",
       "    .dataframe tbody tr th:only-of-type {\n",
       "        vertical-align: middle;\n",
       "    }\n",
       "\n",
       "    .dataframe tbody tr th {\n",
       "        vertical-align: top;\n",
       "    }\n",
       "\n",
       "    .dataframe thead th {\n",
       "        text-align: right;\n",
       "    }\n",
       "</style>\n",
       "<table border=\"1\" class=\"dataframe\">\n",
       "  <thead>\n",
       "    <tr style=\"text-align: right;\">\n",
       "      <th></th>\n",
       "      <th>location</th>\n",
       "      <th>casedate</th>\n",
       "      <th>new_cases</th>\n",
       "      <th>new_deaths</th>\n",
       "    </tr>\n",
       "  </thead>\n",
       "  <tbody>\n",
       "    <tr>\n",
       "      <th>0</th>\n",
       "      <td>Afghanistan</td>\n",
       "      <td>2019-12-31</td>\n",
       "      <td>0.00</td>\n",
       "      <td>0.00</td>\n",
       "    </tr>\n",
       "    <tr>\n",
       "      <th>1</th>\n",
       "      <td>Afghanistan</td>\n",
       "      <td>2020-01-01</td>\n",
       "      <td>0.00</td>\n",
       "      <td>0.00</td>\n",
       "    </tr>\n",
       "    <tr>\n",
       "      <th>2</th>\n",
       "      <td>Afghanistan</td>\n",
       "      <td>2020-01-02</td>\n",
       "      <td>0.00</td>\n",
       "      <td>0.00</td>\n",
       "    </tr>\n",
       "    <tr>\n",
       "      <th>3</th>\n",
       "      <td>Afghanistan</td>\n",
       "      <td>2020-01-03</td>\n",
       "      <td>0.00</td>\n",
       "      <td>0.00</td>\n",
       "    </tr>\n",
       "    <tr>\n",
       "      <th>4</th>\n",
       "      <td>Afghanistan</td>\n",
       "      <td>2020-01-04</td>\n",
       "      <td>0.00</td>\n",
       "      <td>0.00</td>\n",
       "    </tr>\n",
       "  </tbody>\n",
       "</table>\n",
       "</div>"
      ],
      "text/plain": [
       "      location    casedate  new_cases  new_deaths\n",
       "0  Afghanistan  2019-12-31       0.00        0.00\n",
       "1  Afghanistan  2020-01-01       0.00        0.00\n",
       "2  Afghanistan  2020-01-02       0.00        0.00\n",
       "3  Afghanistan  2020-01-03       0.00        0.00\n",
       "4  Afghanistan  2020-01-04       0.00        0.00"
      ]
     },
     "execution_count": 9,
     "metadata": {},
     "output_type": "execute_result"
    }
   ],
   "source": [
    "coviddaily.head()"
   ]
  },
  {
   "cell_type": "markdown",
   "id": "mobile-virgin",
   "metadata": {},
   "source": [
    "# Select one row per country"
   ]
  },
  {
   "cell_type": "code",
   "execution_count": 10,
   "id": "south-baghdad",
   "metadata": {},
   "outputs": [
    {
     "data": {
      "text/plain": [
       "209"
      ]
     },
     "execution_count": 10,
     "metadata": {},
     "output_type": "execute_result"
    }
   ],
   "source": [
    "covidcases['location'].nunique()"
   ]
  },
  {
   "cell_type": "code",
   "execution_count": 11,
   "id": "received-tanzania",
   "metadata": {},
   "outputs": [],
   "source": [
    "coviddemo = covidcases[['casedate'] + totvars + demovars].sort_values([\n",
    "    'location', 'casedate'\n",
    "]).drop_duplicates(['location'],\n",
    "                   keep='last').rename(columns={'casedate': 'lastdate'})"
   ]
  },
  {
   "cell_type": "code",
   "execution_count": 12,
   "id": "spatial-earthquake",
   "metadata": {},
   "outputs": [
    {
     "data": {
      "text/plain": [
       "(209, 10)"
      ]
     },
     "execution_count": 12,
     "metadata": {},
     "output_type": "execute_result"
    }
   ],
   "source": [
    "coviddemo.shape"
   ]
  },
  {
   "cell_type": "code",
   "execution_count": 13,
   "id": "neither-rocket",
   "metadata": {},
   "outputs": [
    {
     "data": {
      "text/html": [
       "<div>\n",
       "<style scoped>\n",
       "    .dataframe tbody tr th:only-of-type {\n",
       "        vertical-align: middle;\n",
       "    }\n",
       "\n",
       "    .dataframe tbody tr th {\n",
       "        vertical-align: top;\n",
       "    }\n",
       "\n",
       "    .dataframe thead th {\n",
       "        text-align: right;\n",
       "    }\n",
       "</style>\n",
       "<table border=\"1\" class=\"dataframe\">\n",
       "  <thead>\n",
       "    <tr style=\"text-align: right;\">\n",
       "      <th></th>\n",
       "      <th>184</th>\n",
       "      <th>310</th>\n",
       "      <th>500</th>\n",
       "    </tr>\n",
       "  </thead>\n",
       "  <tbody>\n",
       "    <tr>\n",
       "      <th>lastdate</th>\n",
       "      <td>2020-07-12</td>\n",
       "      <td>2020-07-12</td>\n",
       "      <td>2020-07-12</td>\n",
       "    </tr>\n",
       "    <tr>\n",
       "      <th>location</th>\n",
       "      <td>Afghanistan</td>\n",
       "      <td>Albania</td>\n",
       "      <td>Algeria</td>\n",
       "    </tr>\n",
       "    <tr>\n",
       "      <th>total_cases</th>\n",
       "      <td>34,451.0</td>\n",
       "      <td>3,371.0</td>\n",
       "      <td>18,712.0</td>\n",
       "    </tr>\n",
       "    <tr>\n",
       "      <th>total_deaths</th>\n",
       "      <td>1,010.0</td>\n",
       "      <td>89.0</td>\n",
       "      <td>1,004.0</td>\n",
       "    </tr>\n",
       "    <tr>\n",
       "      <th>population</th>\n",
       "      <td>38,928,341.0</td>\n",
       "      <td>2,877,800.0</td>\n",
       "      <td>43,851,043.0</td>\n",
       "    </tr>\n",
       "    <tr>\n",
       "      <th>population_density</th>\n",
       "      <td>54.42</td>\n",
       "      <td>104.87</td>\n",
       "      <td>17.35</td>\n",
       "    </tr>\n",
       "    <tr>\n",
       "      <th>median_age</th>\n",
       "      <td>18.6</td>\n",
       "      <td>38.0</td>\n",
       "      <td>29.1</td>\n",
       "    </tr>\n",
       "    <tr>\n",
       "      <th>gdp_per_capita</th>\n",
       "      <td>1,803.99</td>\n",
       "      <td>11,803.43</td>\n",
       "      <td>13,913.84</td>\n",
       "    </tr>\n",
       "    <tr>\n",
       "      <th>hospital_beds_per_thousand</th>\n",
       "      <td>0.5</td>\n",
       "      <td>2.89</td>\n",
       "      <td>1.9</td>\n",
       "    </tr>\n",
       "    <tr>\n",
       "      <th>region</th>\n",
       "      <td>South Asia</td>\n",
       "      <td>Eastern Europe</td>\n",
       "      <td>North Africa</td>\n",
       "    </tr>\n",
       "  </tbody>\n",
       "</table>\n",
       "</div>"
      ],
      "text/plain": [
       "                                    184             310           500\n",
       "lastdate                     2020-07-12      2020-07-12    2020-07-12\n",
       "location                    Afghanistan         Albania       Algeria\n",
       "total_cases                    34,451.0         3,371.0      18,712.0\n",
       "total_deaths                    1,010.0            89.0       1,004.0\n",
       "population                 38,928,341.0     2,877,800.0  43,851,043.0\n",
       "population_density                54.42          104.87         17.35\n",
       "median_age                         18.6            38.0          29.1\n",
       "gdp_per_capita                 1,803.99       11,803.43     13,913.84\n",
       "hospital_beds_per_thousand          0.5            2.89           1.9\n",
       "region                       South Asia  Eastern Europe  North Africa"
      ]
     },
     "execution_count": 13,
     "metadata": {},
     "output_type": "execute_result"
    }
   ],
   "source": [
    "coviddemo.head(3).T"
   ]
  },
  {
   "cell_type": "markdown",
   "id": "increasing-parker",
   "metadata": {},
   "source": [
    "# Sum the values for each group"
   ]
  },
  {
   "cell_type": "code",
   "execution_count": 15,
   "id": "minute-charm",
   "metadata": {},
   "outputs": [],
   "source": [
    "covidtotals = covidcases.groupby(['location'], as_index=False).agg({\n",
    "    'new_cases':\n",
    "    'sum',\n",
    "    'new_deaths':\n",
    "    'sum',\n",
    "    'median_age':\n",
    "    'last',\n",
    "    'gdp_per_capita':\n",
    "    'last',\n",
    "    'region':\n",
    "    'last',\n",
    "    'casedate':\n",
    "    'last',\n",
    "    'population':\n",
    "    'last'\n",
    "}).rename(\n",
    "    columns={\n",
    "        'new_cases': 'total_cases',\n",
    "        'new_deaths': 'total_deaths',\n",
    "        'casedate': 'lastdate'\n",
    "    })"
   ]
  },
  {
   "cell_type": "code",
   "execution_count": 16,
   "id": "premium-oklahoma",
   "metadata": {},
   "outputs": [
    {
     "data": {
      "text/html": [
       "<div>\n",
       "<style scoped>\n",
       "    .dataframe tbody tr th:only-of-type {\n",
       "        vertical-align: middle;\n",
       "    }\n",
       "\n",
       "    .dataframe tbody tr th {\n",
       "        vertical-align: top;\n",
       "    }\n",
       "\n",
       "    .dataframe thead th {\n",
       "        text-align: right;\n",
       "    }\n",
       "</style>\n",
       "<table border=\"1\" class=\"dataframe\">\n",
       "  <thead>\n",
       "    <tr style=\"text-align: right;\">\n",
       "      <th></th>\n",
       "      <th>0</th>\n",
       "      <th>1</th>\n",
       "      <th>2</th>\n",
       "    </tr>\n",
       "  </thead>\n",
       "  <tbody>\n",
       "    <tr>\n",
       "      <th>location</th>\n",
       "      <td>Afghanistan</td>\n",
       "      <td>Albania</td>\n",
       "      <td>Algeria</td>\n",
       "    </tr>\n",
       "    <tr>\n",
       "      <th>total_cases</th>\n",
       "      <td>34,451.0</td>\n",
       "      <td>3,371.0</td>\n",
       "      <td>18,712.0</td>\n",
       "    </tr>\n",
       "    <tr>\n",
       "      <th>total_deaths</th>\n",
       "      <td>1,010.0</td>\n",
       "      <td>89.0</td>\n",
       "      <td>1,004.0</td>\n",
       "    </tr>\n",
       "    <tr>\n",
       "      <th>median_age</th>\n",
       "      <td>18.6</td>\n",
       "      <td>38.0</td>\n",
       "      <td>29.1</td>\n",
       "    </tr>\n",
       "    <tr>\n",
       "      <th>gdp_per_capita</th>\n",
       "      <td>1,803.99</td>\n",
       "      <td>11,803.43</td>\n",
       "      <td>13,913.84</td>\n",
       "    </tr>\n",
       "    <tr>\n",
       "      <th>region</th>\n",
       "      <td>South Asia</td>\n",
       "      <td>Eastern Europe</td>\n",
       "      <td>North Africa</td>\n",
       "    </tr>\n",
       "    <tr>\n",
       "      <th>lastdate</th>\n",
       "      <td>2020-07-12</td>\n",
       "      <td>2020-07-12</td>\n",
       "      <td>2020-07-12</td>\n",
       "    </tr>\n",
       "    <tr>\n",
       "      <th>population</th>\n",
       "      <td>38,928,341.0</td>\n",
       "      <td>2,877,800.0</td>\n",
       "      <td>43,851,043.0</td>\n",
       "    </tr>\n",
       "  </tbody>\n",
       "</table>\n",
       "</div>"
      ],
      "text/plain": [
       "                          0               1             2\n",
       "location        Afghanistan         Albania       Algeria\n",
       "total_cases        34,451.0         3,371.0      18,712.0\n",
       "total_deaths        1,010.0            89.0       1,004.0\n",
       "median_age             18.6            38.0          29.1\n",
       "gdp_per_capita     1,803.99       11,803.43     13,913.84\n",
       "region           South Asia  Eastern Europe  North Africa\n",
       "lastdate         2020-07-12      2020-07-12    2020-07-12\n",
       "population     38,928,341.0     2,877,800.0  43,851,043.0"
      ]
     },
     "execution_count": 16,
     "metadata": {},
     "output_type": "execute_result"
    }
   ],
   "source": [
    "covidtotals.head(3).T"
   ]
  },
  {
   "cell_type": "code",
   "execution_count": null,
   "id": "latin-methodology",
   "metadata": {},
   "outputs": [],
   "source": []
  }
 ],
 "metadata": {
  "kernelspec": {
   "display_name": "Python 3",
   "language": "python",
   "name": "python3"
  },
  "language_info": {
   "codemirror_mode": {
    "name": "ipython",
    "version": 3
   },
   "file_extension": ".py",
   "mimetype": "text/x-python",
   "name": "python",
   "nbconvert_exporter": "python",
   "pygments_lexer": "ipython3",
   "version": "3.7.9"
  },
  "toc": {
   "base_numbering": 1,
   "nav_menu": {},
   "number_sections": true,
   "sideBar": true,
   "skip_h1_title": false,
   "title_cell": "Table of Contents",
   "title_sidebar": "Contents",
   "toc_cell": true,
   "toc_position": {},
   "toc_section_display": true,
   "toc_window_display": false
  }
 },
 "nbformat": 4,
 "nbformat_minor": 5
}
