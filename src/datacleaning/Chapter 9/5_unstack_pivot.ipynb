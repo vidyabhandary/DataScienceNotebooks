{
 "cells": [
  {
   "cell_type": "markdown",
   "id": "naughty-weather",
   "metadata": {
    "toc": true
   },
   "source": [
    "<h1>Table of Contents<span class=\"tocSkip\"></span></h1>\n",
    "<div class=\"toc\"><ul class=\"toc-item\"><li><span><a href=\"#Import-pandas-and-load-the-stacked-and-melted-NLS-data\" data-toc-modified-id=\"Import-pandas-and-load-the-stacked-and-melted-NLS-data-1\"><span class=\"toc-item-num\">1&nbsp;&nbsp;</span>Import pandas and load the stacked and melted NLS data</a></span></li><li><span><a href=\"#Stack-the-data-again\" data-toc-modified-id=\"Stack-the-data-again-2\"><span class=\"toc-item-num\">2&nbsp;&nbsp;</span>Stack the data again</a></span></li><li><span><a href=\"#Melt-the-data-again\" data-toc-modified-id=\"Melt-the-data-again-3\"><span class=\"toc-item-num\">3&nbsp;&nbsp;</span>Melt the data again</a></span></li><li><span><a href=\"#Use-unstack-to-convert-the-stacked-data-from-long-to-wide\" data-toc-modified-id=\"Use-unstack-to-convert-the-stacked-data-from-long-to-wide-4\"><span class=\"toc-item-num\">4&nbsp;&nbsp;</span>Use unstack to convert the stacked data from long to wide</a></span></li><li><span><a href=\"#Use-pivot-to-convert-the-melted-data-from-long-to-wide\" data-toc-modified-id=\"Use-pivot-to-convert-the-melted-data-from-long-to-wide-5\"><span class=\"toc-item-num\">5&nbsp;&nbsp;</span>Use pivot to convert the melted data from long to wide</a></span></li></ul></div>"
   ]
  },
  {
   "cell_type": "markdown",
   "id": "domestic-aaron",
   "metadata": {},
   "source": [
    "# Import pandas and load the stacked and melted NLS data"
   ]
  },
  {
   "cell_type": "code",
   "execution_count": 14,
   "id": "hungry-denmark",
   "metadata": {},
   "outputs": [],
   "source": [
    "import pandas as pd"
   ]
  },
  {
   "cell_type": "code",
   "execution_count": 15,
   "id": "religious-divorce",
   "metadata": {},
   "outputs": [],
   "source": [
    "# pd.set_option('display.width', 200)\n",
    "# pd.set_option('display.max_columns', 30)\n",
    "# pd.set_option('display.max_rows', 200)\n",
    "# pd.options.display.float_format = '{:,.0f}'.format"
   ]
  },
  {
   "cell_type": "code",
   "execution_count": 16,
   "id": "linear-attraction",
   "metadata": {},
   "outputs": [
    {
     "name": "stdout",
     "output_type": "stream",
     "text": [
      "The watermark extension is already loaded. To reload it, use:\n",
      "  %reload_ext watermark\n",
      "watermark: 2.1.0\n",
      "pandas   : 1.2.1\n",
      "json     : 2.0.9\n",
      "\n"
     ]
    }
   ],
   "source": [
    "import watermark\n",
    "%load_ext watermark\n",
    "\n",
    "%watermark -n -i -iv"
   ]
  },
  {
   "cell_type": "code",
   "execution_count": 17,
   "id": "norwegian-vampire",
   "metadata": {},
   "outputs": [],
   "source": [
    "nls97 = pd.read_csv('data/nls97f.csv')\n",
    "nls97.set_index(['originalid'], inplace=True)"
   ]
  },
  {
   "cell_type": "markdown",
   "id": "pacific-estate",
   "metadata": {},
   "source": [
    "# Stack the data again"
   ]
  },
  {
   "cell_type": "code",
   "execution_count": 18,
   "id": "alternate-impact",
   "metadata": {},
   "outputs": [],
   "source": [
    "weeksworkedcols = [\n",
    "    'weeksworked00', 'weeksworked01', 'weeksworked02', 'weeksworked03',\n",
    "    'weeksworked04'\n",
    "]"
   ]
  },
  {
   "cell_type": "code",
   "execution_count": 19,
   "id": "banned-musician",
   "metadata": {},
   "outputs": [],
   "source": [
    "weeksworkedstacked = nls97[weeksworkedcols].stack(dropna=False)"
   ]
  },
  {
   "cell_type": "code",
   "execution_count": 20,
   "id": "broke-galaxy",
   "metadata": {},
   "outputs": [
    {
     "data": {
      "text/plain": [
       "originalid               \n",
       "1           weeksworked00    53.0\n",
       "            weeksworked01    52.0\n",
       "            weeksworked02     NaN\n",
       "            weeksworked03    42.0\n",
       "            weeksworked04    52.0\n",
       "2           weeksworked00    51.0\n",
       "            weeksworked01    52.0\n",
       "            weeksworked02    44.0\n",
       "            weeksworked03    45.0\n",
       "            weeksworked04    52.0\n",
       "dtype: float64"
      ]
     },
     "execution_count": 20,
     "metadata": {},
     "output_type": "execute_result"
    }
   ],
   "source": [
    "weeksworkedstacked.loc[[1, 2]]"
   ]
  },
  {
   "cell_type": "markdown",
   "id": "boring-exchange",
   "metadata": {},
   "source": [
    "# Melt the data again"
   ]
  },
  {
   "cell_type": "code",
   "execution_count": 21,
   "id": "turned-truck",
   "metadata": {},
   "outputs": [],
   "source": [
    "weeksworkedmelted = nls97.reset_index().loc[:, ['originalid'] +\n",
    "                                            weeksworkedcols].melt(\n",
    "                                                id_vars=['originalid'],\n",
    "                                                value_vars=weeksworkedcols,\n",
    "                                                var_name='year',\n",
    "                                                value_name='weeksworked')"
   ]
  },
  {
   "cell_type": "code",
   "execution_count": 22,
   "id": "familiar-associate",
   "metadata": {},
   "outputs": [
    {
     "data": {
      "text/html": [
       "<div>\n",
       "<style scoped>\n",
       "    .dataframe tbody tr th:only-of-type {\n",
       "        vertical-align: middle;\n",
       "    }\n",
       "\n",
       "    .dataframe tbody tr th {\n",
       "        vertical-align: top;\n",
       "    }\n",
       "\n",
       "    .dataframe thead th {\n",
       "        text-align: right;\n",
       "    }\n",
       "</style>\n",
       "<table border=\"1\" class=\"dataframe\">\n",
       "  <thead>\n",
       "    <tr style=\"text-align: right;\">\n",
       "      <th></th>\n",
       "      <th>originalid</th>\n",
       "      <th>year</th>\n",
       "      <th>weeksworked</th>\n",
       "    </tr>\n",
       "  </thead>\n",
       "  <tbody>\n",
       "    <tr>\n",
       "      <th>377</th>\n",
       "      <td>1</td>\n",
       "      <td>weeksworked00</td>\n",
       "      <td>53.0</td>\n",
       "    </tr>\n",
       "    <tr>\n",
       "      <th>9361</th>\n",
       "      <td>1</td>\n",
       "      <td>weeksworked01</td>\n",
       "      <td>52.0</td>\n",
       "    </tr>\n",
       "    <tr>\n",
       "      <th>18345</th>\n",
       "      <td>1</td>\n",
       "      <td>weeksworked02</td>\n",
       "      <td>NaN</td>\n",
       "    </tr>\n",
       "    <tr>\n",
       "      <th>27329</th>\n",
       "      <td>1</td>\n",
       "      <td>weeksworked03</td>\n",
       "      <td>42.0</td>\n",
       "    </tr>\n",
       "    <tr>\n",
       "      <th>36313</th>\n",
       "      <td>1</td>\n",
       "      <td>weeksworked04</td>\n",
       "      <td>52.0</td>\n",
       "    </tr>\n",
       "    <tr>\n",
       "      <th>8980</th>\n",
       "      <td>2</td>\n",
       "      <td>weeksworked00</td>\n",
       "      <td>51.0</td>\n",
       "    </tr>\n",
       "    <tr>\n",
       "      <th>17964</th>\n",
       "      <td>2</td>\n",
       "      <td>weeksworked01</td>\n",
       "      <td>52.0</td>\n",
       "    </tr>\n",
       "    <tr>\n",
       "      <th>26948</th>\n",
       "      <td>2</td>\n",
       "      <td>weeksworked02</td>\n",
       "      <td>44.0</td>\n",
       "    </tr>\n",
       "    <tr>\n",
       "      <th>35932</th>\n",
       "      <td>2</td>\n",
       "      <td>weeksworked03</td>\n",
       "      <td>45.0</td>\n",
       "    </tr>\n",
       "    <tr>\n",
       "      <th>44916</th>\n",
       "      <td>2</td>\n",
       "      <td>weeksworked04</td>\n",
       "      <td>52.0</td>\n",
       "    </tr>\n",
       "  </tbody>\n",
       "</table>\n",
       "</div>"
      ],
      "text/plain": [
       "       originalid           year  weeksworked\n",
       "377             1  weeksworked00         53.0\n",
       "9361            1  weeksworked01         52.0\n",
       "18345           1  weeksworked02          NaN\n",
       "27329           1  weeksworked03         42.0\n",
       "36313           1  weeksworked04         52.0\n",
       "8980            2  weeksworked00         51.0\n",
       "17964           2  weeksworked01         52.0\n",
       "26948           2  weeksworked02         44.0\n",
       "35932           2  weeksworked03         45.0\n",
       "44916           2  weeksworked04         52.0"
      ]
     },
     "execution_count": 22,
     "metadata": {},
     "output_type": "execute_result"
    }
   ],
   "source": [
    "weeksworkedmelted.loc[weeksworkedmelted['originalid'].isin(\n",
    "    [1, 2])].sort_values(['originalid', 'year'])"
   ]
  },
  {
   "cell_type": "markdown",
   "id": "reasonable-gates",
   "metadata": {},
   "source": [
    "# Use unstack to convert the stacked data from long to wide"
   ]
  },
  {
   "cell_type": "code",
   "execution_count": 23,
   "id": "honey-august",
   "metadata": {},
   "outputs": [],
   "source": [
    "weeksworked = weeksworkedstacked.unstack()"
   ]
  },
  {
   "cell_type": "code",
   "execution_count": 24,
   "id": "surrounded-beijing",
   "metadata": {},
   "outputs": [
    {
     "data": {
      "text/html": [
       "<div>\n",
       "<style scoped>\n",
       "    .dataframe tbody tr th:only-of-type {\n",
       "        vertical-align: middle;\n",
       "    }\n",
       "\n",
       "    .dataframe tbody tr th {\n",
       "        vertical-align: top;\n",
       "    }\n",
       "\n",
       "    .dataframe thead th {\n",
       "        text-align: right;\n",
       "    }\n",
       "</style>\n",
       "<table border=\"1\" class=\"dataframe\">\n",
       "  <thead>\n",
       "    <tr style=\"text-align: right;\">\n",
       "      <th></th>\n",
       "      <th>weeksworked00</th>\n",
       "      <th>weeksworked01</th>\n",
       "      <th>weeksworked02</th>\n",
       "      <th>weeksworked03</th>\n",
       "      <th>weeksworked04</th>\n",
       "    </tr>\n",
       "    <tr>\n",
       "      <th>originalid</th>\n",
       "      <th></th>\n",
       "      <th></th>\n",
       "      <th></th>\n",
       "      <th></th>\n",
       "      <th></th>\n",
       "    </tr>\n",
       "  </thead>\n",
       "  <tbody>\n",
       "    <tr>\n",
       "      <th>1</th>\n",
       "      <td>53.0</td>\n",
       "      <td>52.0</td>\n",
       "      <td>NaN</td>\n",
       "      <td>42.0</td>\n",
       "      <td>52.0</td>\n",
       "    </tr>\n",
       "    <tr>\n",
       "      <th>2</th>\n",
       "      <td>51.0</td>\n",
       "      <td>52.0</td>\n",
       "      <td>44.0</td>\n",
       "      <td>45.0</td>\n",
       "      <td>52.0</td>\n",
       "    </tr>\n",
       "  </tbody>\n",
       "</table>\n",
       "</div>"
      ],
      "text/plain": [
       "            weeksworked00  weeksworked01  weeksworked02  weeksworked03  \\\n",
       "originalid                                                               \n",
       "1                    53.0           52.0            NaN           42.0   \n",
       "2                    51.0           52.0           44.0           45.0   \n",
       "\n",
       "            weeksworked04  \n",
       "originalid                 \n",
       "1                    52.0  \n",
       "2                    52.0  "
      ]
     },
     "execution_count": 24,
     "metadata": {},
     "output_type": "execute_result"
    }
   ],
   "source": [
    "weeksworked.loc[[1, 2]]"
   ]
  },
  {
   "cell_type": "markdown",
   "id": "sitting-signature",
   "metadata": {},
   "source": [
    "# Use pivot to convert the melted data from long to wide"
   ]
  },
  {
   "cell_type": "markdown",
   "id": "driven-hello",
   "metadata": {},
   "source": [
    "The pivot function needs for us to indicate the index column (originalid), the\n",
    "column whose values will be appended to the column names (year), and the name of\n",
    "the columns with the values to be unmelted (weeksworked). Pivot will return multilevel\n",
    "column names. We fix that by pulling from the second level with `[col[1] for col in weeksworked.columns[1:]]`."
   ]
  },
  {
   "cell_type": "code",
   "execution_count": 25,
   "id": "defensive-halifax",
   "metadata": {},
   "outputs": [],
   "source": [
    "weeksworked = weeksworkedmelted.pivot(index='originalid',\n",
    "                                      columns='year',\n",
    "                                      values=['weeksworked']).reset_index()"
   ]
  },
  {
   "cell_type": "code",
   "execution_count": 26,
   "id": "polyphonic-blackberry",
   "metadata": {},
   "outputs": [
    {
     "data": {
      "text/html": [
       "<div>\n",
       "<style scoped>\n",
       "    .dataframe tbody tr th:only-of-type {\n",
       "        vertical-align: middle;\n",
       "    }\n",
       "\n",
       "    .dataframe tbody tr th {\n",
       "        vertical-align: top;\n",
       "    }\n",
       "\n",
       "    .dataframe thead tr th {\n",
       "        text-align: left;\n",
       "    }\n",
       "</style>\n",
       "<table border=\"1\" class=\"dataframe\">\n",
       "  <thead>\n",
       "    <tr>\n",
       "      <th></th>\n",
       "      <th>originalid</th>\n",
       "      <th colspan=\"5\" halign=\"left\">weeksworked</th>\n",
       "    </tr>\n",
       "    <tr>\n",
       "      <th>year</th>\n",
       "      <th></th>\n",
       "      <th>weeksworked00</th>\n",
       "      <th>weeksworked01</th>\n",
       "      <th>weeksworked02</th>\n",
       "      <th>weeksworked03</th>\n",
       "      <th>weeksworked04</th>\n",
       "    </tr>\n",
       "  </thead>\n",
       "  <tbody>\n",
       "    <tr>\n",
       "      <th>0</th>\n",
       "      <td>1</td>\n",
       "      <td>53.0</td>\n",
       "      <td>52.0</td>\n",
       "      <td>NaN</td>\n",
       "      <td>42.0</td>\n",
       "      <td>52.0</td>\n",
       "    </tr>\n",
       "    <tr>\n",
       "      <th>1</th>\n",
       "      <td>2</td>\n",
       "      <td>51.0</td>\n",
       "      <td>52.0</td>\n",
       "      <td>44.0</td>\n",
       "      <td>45.0</td>\n",
       "      <td>52.0</td>\n",
       "    </tr>\n",
       "  </tbody>\n",
       "</table>\n",
       "</div>"
      ],
      "text/plain": [
       "     originalid   weeksworked                                            \\\n",
       "year            weeksworked00 weeksworked01 weeksworked02 weeksworked03   \n",
       "0             1          53.0          52.0           NaN          42.0   \n",
       "1             2          51.0          52.0          44.0          45.0   \n",
       "\n",
       "                    \n",
       "year weeksworked04  \n",
       "0             52.0  \n",
       "1             52.0  "
      ]
     },
     "execution_count": 26,
     "metadata": {},
     "output_type": "execute_result"
    }
   ],
   "source": [
    "weeksworked.head(2)"
   ]
  },
  {
   "cell_type": "code",
   "execution_count": 27,
   "id": "about-hampshire",
   "metadata": {},
   "outputs": [],
   "source": [
    "weeksworked.columns = ['originalid'\n",
    "                       ] + [col[1] for col in weeksworked.columns[1:]]"
   ]
  },
  {
   "cell_type": "code",
   "execution_count": 28,
   "id": "offshore-advocacy",
   "metadata": {},
   "outputs": [
    {
     "data": {
      "text/html": [
       "<div>\n",
       "<style scoped>\n",
       "    .dataframe tbody tr th:only-of-type {\n",
       "        vertical-align: middle;\n",
       "    }\n",
       "\n",
       "    .dataframe tbody tr th {\n",
       "        vertical-align: top;\n",
       "    }\n",
       "\n",
       "    .dataframe thead th {\n",
       "        text-align: right;\n",
       "    }\n",
       "</style>\n",
       "<table border=\"1\" class=\"dataframe\">\n",
       "  <thead>\n",
       "    <tr style=\"text-align: right;\">\n",
       "      <th></th>\n",
       "      <th>0</th>\n",
       "      <th>1</th>\n",
       "    </tr>\n",
       "  </thead>\n",
       "  <tbody>\n",
       "    <tr>\n",
       "      <th>originalid</th>\n",
       "      <td>1.0</td>\n",
       "      <td>2.0</td>\n",
       "    </tr>\n",
       "    <tr>\n",
       "      <th>weeksworked00</th>\n",
       "      <td>53.0</td>\n",
       "      <td>51.0</td>\n",
       "    </tr>\n",
       "    <tr>\n",
       "      <th>weeksworked01</th>\n",
       "      <td>52.0</td>\n",
       "      <td>52.0</td>\n",
       "    </tr>\n",
       "    <tr>\n",
       "      <th>weeksworked02</th>\n",
       "      <td>NaN</td>\n",
       "      <td>44.0</td>\n",
       "    </tr>\n",
       "    <tr>\n",
       "      <th>weeksworked03</th>\n",
       "      <td>42.0</td>\n",
       "      <td>45.0</td>\n",
       "    </tr>\n",
       "    <tr>\n",
       "      <th>weeksworked04</th>\n",
       "      <td>52.0</td>\n",
       "      <td>52.0</td>\n",
       "    </tr>\n",
       "  </tbody>\n",
       "</table>\n",
       "</div>"
      ],
      "text/plain": [
       "                  0     1\n",
       "originalid      1.0   2.0\n",
       "weeksworked00  53.0  51.0\n",
       "weeksworked01  52.0  52.0\n",
       "weeksworked02   NaN  44.0\n",
       "weeksworked03  42.0  45.0\n",
       "weeksworked04  52.0  52.0"
      ]
     },
     "execution_count": 28,
     "metadata": {},
     "output_type": "execute_result"
    }
   ],
   "source": [
    "weeksworked.loc[weeksworked.originalid.isin([1, 2])].T"
   ]
  },
  {
   "cell_type": "code",
   "execution_count": null,
   "id": "focal-constraint",
   "metadata": {},
   "outputs": [],
   "source": []
  }
 ],
 "metadata": {
  "kernelspec": {
   "display_name": "Python 3",
   "language": "python",
   "name": "python3"
  },
  "language_info": {
   "codemirror_mode": {
    "name": "ipython",
    "version": 3
   },
   "file_extension": ".py",
   "mimetype": "text/x-python",
   "name": "python",
   "nbconvert_exporter": "python",
   "pygments_lexer": "ipython3",
   "version": "3.7.9"
  },
  "toc": {
   "base_numbering": 1,
   "nav_menu": {},
   "number_sections": true,
   "sideBar": true,
   "skip_h1_title": false,
   "title_cell": "Table of Contents",
   "title_sidebar": "Contents",
   "toc_cell": true,
   "toc_position": {},
   "toc_section_display": true,
   "toc_window_display": false
  }
 },
 "nbformat": 4,
 "nbformat_minor": 5
}
