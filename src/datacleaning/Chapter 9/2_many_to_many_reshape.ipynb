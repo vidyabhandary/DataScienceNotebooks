{
 "cells": [
  {
   "cell_type": "markdown",
   "id": "pharmaceutical-benchmark",
   "metadata": {
    "toc": true
   },
   "source": [
    "<h1>Table of Contents<span class=\"tocSkip\"></span></h1>\n",
    "<div class=\"toc\"><ul class=\"toc-item\"><li><span><a href=\"#Import-pandas-and-the-museum's-collections-data\" data-toc-modified-id=\"Import-pandas-and-the-museum's-collections-data-1\"><span class=\"toc-item-num\">1&nbsp;&nbsp;</span>Import pandas and the museum's collections data</a></span></li><li><span><a href=\"#Show-the-museum's-collections-data\" data-toc-modified-id=\"Show-the-museum's-collections-data-2\"><span class=\"toc-item-num\">2&nbsp;&nbsp;</span>Show the museum's collections data</a></span></li><li><span><a href=\"#Show-a-collection-item-with-duplicated-citations-and-creators\" data-toc-modified-id=\"Show-a-collection-item-with-duplicated-citations-and-creators-3\"><span class=\"toc-item-num\">3&nbsp;&nbsp;</span>Show a collection item with duplicated citations and creators</a></span></li><li><span><a href=\"#Create-a-collections-DataFrame\" data-toc-modified-id=\"Create-a-collections-DataFrame-4\"><span class=\"toc-item-num\">4&nbsp;&nbsp;</span>Create a collections DataFrame</a></span></li><li><span><a href=\"#Create-a-citations-DataFrame\" data-toc-modified-id=\"Create-a-citations-DataFrame-5\"><span class=\"toc-item-num\">5&nbsp;&nbsp;</span>Create a citations DataFrame</a></span></li><li><span><a href=\"#Create-a-creators-DataFrame\" data-toc-modified-id=\"Create-a-creators-DataFrame-6\"><span class=\"toc-item-num\">6&nbsp;&nbsp;</span>Create a creators DataFrame</a></span></li><li><span><a href=\"#Count-the-number-of-collection-items-with-a-creator-born-after-1950\" data-toc-modified-id=\"Count-the-number-of-collection-items-with-a-creator-born-after-1950-7\"><span class=\"toc-item-num\">7&nbsp;&nbsp;</span>Count the number of collection items with a creator born after 1950</a></span></li></ul></div>"
   ]
  },
  {
   "cell_type": "markdown",
   "id": "helpful-entity",
   "metadata": {},
   "source": [
    "# Import pandas and the museum's collections data"
   ]
  },
  {
   "cell_type": "code",
   "execution_count": 1,
   "id": "novel-missile",
   "metadata": {},
   "outputs": [],
   "source": [
    "import pandas as pd"
   ]
  },
  {
   "cell_type": "code",
   "execution_count": 2,
   "id": "increasing-constant",
   "metadata": {},
   "outputs": [],
   "source": [
    "# pd.options.display.float_format = '{:,.0f}'.format"
   ]
  },
  {
   "cell_type": "code",
   "execution_count": 3,
   "id": "convenient-question",
   "metadata": {},
   "outputs": [
    {
     "name": "stdout",
     "output_type": "stream",
     "text": [
      "watermark: 2.1.0\n",
      "json     : 2.0.9\n",
      "pandas   : 1.2.1\n",
      "\n"
     ]
    }
   ],
   "source": [
    "import watermark\n",
    "%load_ext watermark\n",
    "\n",
    "%watermark -n -i -iv"
   ]
  },
  {
   "cell_type": "code",
   "execution_count": 4,
   "id": "turned-netscape",
   "metadata": {},
   "outputs": [],
   "source": [
    "cma = pd.read_csv('data/cmacollections.csv')"
   ]
  },
  {
   "cell_type": "markdown",
   "id": "superb-tribune",
   "metadata": {},
   "source": [
    "# Show the museum's collections data"
   ]
  },
  {
   "cell_type": "code",
   "execution_count": 5,
   "id": "growing-sperm",
   "metadata": {},
   "outputs": [
    {
     "data": {
      "text/plain": [
       "(12326, 9)"
      ]
     },
     "execution_count": 5,
     "metadata": {},
     "output_type": "execute_result"
    }
   ],
   "source": [
    "cma.shape"
   ]
  },
  {
   "cell_type": "code",
   "execution_count": 6,
   "id": "cathedral-guest",
   "metadata": {},
   "outputs": [
    {
     "data": {
      "text/html": [
       "<div>\n",
       "<style scoped>\n",
       "    .dataframe tbody tr th:only-of-type {\n",
       "        vertical-align: middle;\n",
       "    }\n",
       "\n",
       "    .dataframe tbody tr th {\n",
       "        vertical-align: top;\n",
       "    }\n",
       "\n",
       "    .dataframe thead th {\n",
       "        text-align: right;\n",
       "    }\n",
       "</style>\n",
       "<table border=\"1\" class=\"dataframe\">\n",
       "  <thead>\n",
       "    <tr style=\"text-align: right;\">\n",
       "      <th></th>\n",
       "      <th>0</th>\n",
       "      <th>1</th>\n",
       "    </tr>\n",
       "  </thead>\n",
       "  <tbody>\n",
       "    <tr>\n",
       "      <th>id</th>\n",
       "      <td>92937</td>\n",
       "      <td>92937</td>\n",
       "    </tr>\n",
       "    <tr>\n",
       "      <th>citation</th>\n",
       "      <td>Milliken, William</td>\n",
       "      <td>Glasier, Jessie C.</td>\n",
       "    </tr>\n",
       "    <tr>\n",
       "      <th>creator</th>\n",
       "      <td>George Bellows (Am</td>\n",
       "      <td>George Bellows (Am</td>\n",
       "    </tr>\n",
       "    <tr>\n",
       "      <th>title</th>\n",
       "      <td>Stag at Sharkey's</td>\n",
       "      <td>Stag at Sharkey's</td>\n",
       "    </tr>\n",
       "    <tr>\n",
       "      <th>birth_year</th>\n",
       "      <td>1882</td>\n",
       "      <td>1882</td>\n",
       "    </tr>\n",
       "    <tr>\n",
       "      <th>death_year</th>\n",
       "      <td>1925</td>\n",
       "      <td>1925</td>\n",
       "    </tr>\n",
       "    <tr>\n",
       "      <th>collection</th>\n",
       "      <td>American - Painting</td>\n",
       "      <td>American - Painting</td>\n",
       "    </tr>\n",
       "    <tr>\n",
       "      <th>type</th>\n",
       "      <td>Painting</td>\n",
       "      <td>Painting</td>\n",
       "    </tr>\n",
       "    <tr>\n",
       "      <th>creation_date</th>\n",
       "      <td>1909</td>\n",
       "      <td>1909</td>\n",
       "    </tr>\n",
       "  </tbody>\n",
       "</table>\n",
       "</div>"
      ],
      "text/plain": [
       "                                 0                    1\n",
       "id                           92937                92937\n",
       "citation        Milliken, William    Glasier, Jessie C.\n",
       "creator         George Bellows (Am   George Bellows (Am\n",
       "title            Stag at Sharkey's    Stag at Sharkey's\n",
       "birth_year                    1882                 1882\n",
       "death_year                    1925                 1925\n",
       "collection     American - Painting  American - Painting\n",
       "type                      Painting             Painting\n",
       "creation_date                 1909                 1909"
      ]
     },
     "execution_count": 6,
     "metadata": {},
     "output_type": "execute_result"
    }
   ],
   "source": [
    "cma.head(2).T"
   ]
  },
  {
   "cell_type": "code",
   "execution_count": 7,
   "id": "neither-breakdown",
   "metadata": {},
   "outputs": [
    {
     "data": {
      "text/plain": [
       "972"
      ]
     },
     "execution_count": 7,
     "metadata": {},
     "output_type": "execute_result"
    }
   ],
   "source": [
    "cma['id'].nunique()"
   ]
  },
  {
   "cell_type": "code",
   "execution_count": 8,
   "id": "selective-toyota",
   "metadata": {},
   "outputs": [
    {
     "data": {
      "text/plain": [
       "9758"
      ]
     },
     "execution_count": 8,
     "metadata": {},
     "output_type": "execute_result"
    }
   ],
   "source": [
    "cma.drop_duplicates(['id', 'citation']).id.count()"
   ]
  },
  {
   "cell_type": "code",
   "execution_count": 9,
   "id": "illegal-young",
   "metadata": {},
   "outputs": [
    {
     "data": {
      "text/plain": [
       "1055"
      ]
     },
     "execution_count": 9,
     "metadata": {},
     "output_type": "execute_result"
    }
   ],
   "source": [
    "cma.drop_duplicates(['id', 'creator']).id.count()"
   ]
  },
  {
   "cell_type": "markdown",
   "id": "dynamic-account",
   "metadata": {},
   "source": [
    "# Show a collection item with duplicated citations and creators"
   ]
  },
  {
   "cell_type": "code",
   "execution_count": 10,
   "id": "killing-cookbook",
   "metadata": {},
   "outputs": [],
   "source": [
    "cma.set_index(['id'], inplace=True)"
   ]
  },
  {
   "cell_type": "code",
   "execution_count": 11,
   "id": "corporate-consent",
   "metadata": {},
   "outputs": [
    {
     "data": {
      "text/html": [
       "<div>\n",
       "<style scoped>\n",
       "    .dataframe tbody tr th:only-of-type {\n",
       "        vertical-align: middle;\n",
       "    }\n",
       "\n",
       "    .dataframe tbody tr th {\n",
       "        vertical-align: top;\n",
       "    }\n",
       "\n",
       "    .dataframe thead th {\n",
       "        text-align: right;\n",
       "    }\n",
       "</style>\n",
       "<table border=\"1\" class=\"dataframe\">\n",
       "  <thead>\n",
       "    <tr style=\"text-align: right;\">\n",
       "      <th></th>\n",
       "      <th>title</th>\n",
       "      <th>citation</th>\n",
       "      <th>creator</th>\n",
       "      <th>birth_year</th>\n",
       "    </tr>\n",
       "    <tr>\n",
       "      <th>id</th>\n",
       "      <th></th>\n",
       "      <th></th>\n",
       "      <th></th>\n",
       "      <th></th>\n",
       "    </tr>\n",
       "  </thead>\n",
       "  <tbody>\n",
       "    <tr>\n",
       "      <th>124733</th>\n",
       "      <td>Dead Blue Roller</td>\n",
       "      <td>Weigel, J. A. G. &lt;</td>\n",
       "      <td>Albrecht Dürer (Ge</td>\n",
       "      <td>1471</td>\n",
       "    </tr>\n",
       "    <tr>\n",
       "      <th>124733</th>\n",
       "      <td>Dead Blue Roller</td>\n",
       "      <td>Weigel, J. A. G. &lt;</td>\n",
       "      <td>Hans Hoffmann (Ger</td>\n",
       "      <td>1545/50</td>\n",
       "    </tr>\n",
       "    <tr>\n",
       "      <th>124733</th>\n",
       "      <td>Dead Blue Roller</td>\n",
       "      <td>Winkler, Friedrich</td>\n",
       "      <td>Albrecht Dürer (Ge</td>\n",
       "      <td>1471</td>\n",
       "    </tr>\n",
       "    <tr>\n",
       "      <th>124733</th>\n",
       "      <td>Dead Blue Roller</td>\n",
       "      <td>Winkler, Friedrich</td>\n",
       "      <td>Hans Hoffmann (Ger</td>\n",
       "      <td>1545/50</td>\n",
       "    </tr>\n",
       "    <tr>\n",
       "      <th>124733</th>\n",
       "      <td>Dead Blue Roller</td>\n",
       "      <td>Francis, Henry S.</td>\n",
       "      <td>Albrecht Dürer (Ge</td>\n",
       "      <td>1471</td>\n",
       "    </tr>\n",
       "    <tr>\n",
       "      <th>124733</th>\n",
       "      <td>Dead Blue Roller</td>\n",
       "      <td>Francis, Henry S.</td>\n",
       "      <td>Hans Hoffmann (Ger</td>\n",
       "      <td>1545/50</td>\n",
       "    </tr>\n",
       "    <tr>\n",
       "      <th>124733</th>\n",
       "      <td>Dead Blue Roller</td>\n",
       "      <td>Kurz, Otto. &lt;em&gt;Fa</td>\n",
       "      <td>Albrecht Dürer (Ge</td>\n",
       "      <td>1471</td>\n",
       "    </tr>\n",
       "    <tr>\n",
       "      <th>124733</th>\n",
       "      <td>Dead Blue Roller</td>\n",
       "      <td>Kurz, Otto. &lt;em&gt;Fa</td>\n",
       "      <td>Hans Hoffmann (Ger</td>\n",
       "      <td>1545/50</td>\n",
       "    </tr>\n",
       "    <tr>\n",
       "      <th>124733</th>\n",
       "      <td>Dead Blue Roller</td>\n",
       "      <td>Minneapolis Instit</td>\n",
       "      <td>Albrecht Dürer (Ge</td>\n",
       "      <td>1471</td>\n",
       "    </tr>\n",
       "    <tr>\n",
       "      <th>124733</th>\n",
       "      <td>Dead Blue Roller</td>\n",
       "      <td>Minneapolis Instit</td>\n",
       "      <td>Hans Hoffmann (Ger</td>\n",
       "      <td>1545/50</td>\n",
       "    </tr>\n",
       "    <tr>\n",
       "      <th>124733</th>\n",
       "      <td>Dead Blue Roller</td>\n",
       "      <td>Pilz, Kurt. \"Hans</td>\n",
       "      <td>Albrecht Dürer (Ge</td>\n",
       "      <td>1471</td>\n",
       "    </tr>\n",
       "    <tr>\n",
       "      <th>124733</th>\n",
       "      <td>Dead Blue Roller</td>\n",
       "      <td>Pilz, Kurt. \"Hans</td>\n",
       "      <td>Hans Hoffmann (Ger</td>\n",
       "      <td>1545/50</td>\n",
       "    </tr>\n",
       "    <tr>\n",
       "      <th>124733</th>\n",
       "      <td>Dead Blue Roller</td>\n",
       "      <td>Koschatzky, Walter</td>\n",
       "      <td>Albrecht Dürer (Ge</td>\n",
       "      <td>1471</td>\n",
       "    </tr>\n",
       "    <tr>\n",
       "      <th>124733</th>\n",
       "      <td>Dead Blue Roller</td>\n",
       "      <td>Koschatzky, Walter</td>\n",
       "      <td>Hans Hoffmann (Ger</td>\n",
       "      <td>1545/50</td>\n",
       "    </tr>\n",
       "  </tbody>\n",
       "</table>\n",
       "</div>"
      ],
      "text/plain": [
       "                   title            citation             creator birth_year\n",
       "id                                                                         \n",
       "124733  Dead Blue Roller  Weigel, J. A. G. <  Albrecht Dürer (Ge       1471\n",
       "124733  Dead Blue Roller  Weigel, J. A. G. <  Hans Hoffmann (Ger    1545/50\n",
       "124733  Dead Blue Roller  Winkler, Friedrich  Albrecht Dürer (Ge       1471\n",
       "124733  Dead Blue Roller  Winkler, Friedrich  Hans Hoffmann (Ger    1545/50\n",
       "124733  Dead Blue Roller  Francis, Henry S.   Albrecht Dürer (Ge       1471\n",
       "124733  Dead Blue Roller  Francis, Henry S.   Hans Hoffmann (Ger    1545/50\n",
       "124733  Dead Blue Roller  Kurz, Otto. <em>Fa  Albrecht Dürer (Ge       1471\n",
       "124733  Dead Blue Roller  Kurz, Otto. <em>Fa  Hans Hoffmann (Ger    1545/50\n",
       "124733  Dead Blue Roller  Minneapolis Instit  Albrecht Dürer (Ge       1471\n",
       "124733  Dead Blue Roller  Minneapolis Instit  Hans Hoffmann (Ger    1545/50\n",
       "124733  Dead Blue Roller  Pilz, Kurt. \"Hans   Albrecht Dürer (Ge       1471\n",
       "124733  Dead Blue Roller  Pilz, Kurt. \"Hans   Hans Hoffmann (Ger    1545/50\n",
       "124733  Dead Blue Roller  Koschatzky, Walter  Albrecht Dürer (Ge       1471\n",
       "124733  Dead Blue Roller  Koschatzky, Walter  Hans Hoffmann (Ger    1545/50"
      ]
     },
     "execution_count": 11,
     "metadata": {},
     "output_type": "execute_result"
    }
   ],
   "source": [
    "cma.loc[124733, ['title', 'citation', 'creator', 'birth_year']].head(14)"
   ]
  },
  {
   "cell_type": "markdown",
   "id": "undefined-jamaica",
   "metadata": {},
   "source": [
    "# Create a collections DataFrame"
   ]
  },
  {
   "cell_type": "code",
   "execution_count": 12,
   "id": "ranking-history",
   "metadata": {},
   "outputs": [],
   "source": [
    "collectionvars = ['title', 'collection', 'type']\n",
    "cmacollections = cma[collectionvars].reset_index().drop_duplicates(\n",
    "    ['id']).set_index(['id'])"
   ]
  },
  {
   "cell_type": "code",
   "execution_count": 13,
   "id": "rapid-thickness",
   "metadata": {},
   "outputs": [
    {
     "data": {
      "text/plain": [
       "(972, 3)"
      ]
     },
     "execution_count": 13,
     "metadata": {},
     "output_type": "execute_result"
    }
   ],
   "source": [
    "cmacollections.shape"
   ]
  },
  {
   "cell_type": "code",
   "execution_count": 14,
   "id": "initial-malta",
   "metadata": {},
   "outputs": [
    {
     "data": {
      "text/html": [
       "<div>\n",
       "<style scoped>\n",
       "    .dataframe tbody tr th:only-of-type {\n",
       "        vertical-align: middle;\n",
       "    }\n",
       "\n",
       "    .dataframe tbody tr th {\n",
       "        vertical-align: top;\n",
       "    }\n",
       "\n",
       "    .dataframe thead th {\n",
       "        text-align: right;\n",
       "    }\n",
       "</style>\n",
       "<table border=\"1\" class=\"dataframe\">\n",
       "  <thead>\n",
       "    <tr style=\"text-align: right;\">\n",
       "      <th></th>\n",
       "      <th>title</th>\n",
       "      <th>collection</th>\n",
       "      <th>type</th>\n",
       "    </tr>\n",
       "    <tr>\n",
       "      <th>id</th>\n",
       "      <th></th>\n",
       "      <th></th>\n",
       "      <th></th>\n",
       "    </tr>\n",
       "  </thead>\n",
       "  <tbody>\n",
       "    <tr>\n",
       "      <th>92937</th>\n",
       "      <td>Stag at Sharkey's</td>\n",
       "      <td>American - Painting</td>\n",
       "      <td>Painting</td>\n",
       "    </tr>\n",
       "    <tr>\n",
       "      <th>94979</th>\n",
       "      <td>Nathaniel Hurd</td>\n",
       "      <td>American - Painting</td>\n",
       "      <td>Painting</td>\n",
       "    </tr>\n",
       "    <tr>\n",
       "      <th>137259</th>\n",
       "      <td>Mme L... (Laure Borreau)</td>\n",
       "      <td>Mod Euro - Painting</td>\n",
       "      <td>Painting</td>\n",
       "    </tr>\n",
       "    <tr>\n",
       "      <th>141639</th>\n",
       "      <td>Twilight in the Wilderness</td>\n",
       "      <td>American - Painting</td>\n",
       "      <td>Painting</td>\n",
       "    </tr>\n",
       "    <tr>\n",
       "      <th>93014</th>\n",
       "      <td>View of Schroon Mountain, Esse</td>\n",
       "      <td>American - Painting</td>\n",
       "      <td>Painting</td>\n",
       "    </tr>\n",
       "  </tbody>\n",
       "</table>\n",
       "</div>"
      ],
      "text/plain": [
       "                                 title            collection      type\n",
       "id                                                                    \n",
       "92937                Stag at Sharkey's   American - Painting  Painting\n",
       "94979                   Nathaniel Hurd   American - Painting  Painting\n",
       "137259        Mme L... (Laure Borreau)  Mod Euro - Painting   Painting\n",
       "141639      Twilight in the Wilderness   American - Painting  Painting\n",
       "93014   View of Schroon Mountain, Esse   American - Painting  Painting"
      ]
     },
     "execution_count": 14,
     "metadata": {},
     "output_type": "execute_result"
    }
   ],
   "source": [
    "cmacollections.head()"
   ]
  },
  {
   "cell_type": "code",
   "execution_count": 15,
   "id": "legendary-outdoors",
   "metadata": {},
   "outputs": [
    {
     "data": {
      "text/plain": [
       "title         Dead Blue Roller\n",
       "collection         DR - German\n",
       "type                   Drawing\n",
       "Name: 124733, dtype: object"
      ]
     },
     "execution_count": 15,
     "metadata": {},
     "output_type": "execute_result"
    }
   ],
   "source": [
    "cmacollections.loc[124733]"
   ]
  },
  {
   "cell_type": "markdown",
   "id": "danish-theater",
   "metadata": {},
   "source": [
    "# Create a citations DataFrame"
   ]
  },
  {
   "cell_type": "code",
   "execution_count": 16,
   "id": "royal-consumption",
   "metadata": {},
   "outputs": [],
   "source": [
    "cmacitations = cma[['citation'\n",
    "                    ]].reset_index().drop_duplicates(['id', 'citation'\n",
    "                                                      ]).set_index(['id'])"
   ]
  },
  {
   "cell_type": "code",
   "execution_count": 17,
   "id": "illegal-modification",
   "metadata": {},
   "outputs": [
    {
     "data": {
      "text/html": [
       "<div>\n",
       "<style scoped>\n",
       "    .dataframe tbody tr th:only-of-type {\n",
       "        vertical-align: middle;\n",
       "    }\n",
       "\n",
       "    .dataframe tbody tr th {\n",
       "        vertical-align: top;\n",
       "    }\n",
       "\n",
       "    .dataframe thead th {\n",
       "        text-align: right;\n",
       "    }\n",
       "</style>\n",
       "<table border=\"1\" class=\"dataframe\">\n",
       "  <thead>\n",
       "    <tr style=\"text-align: right;\">\n",
       "      <th></th>\n",
       "      <th>citation</th>\n",
       "    </tr>\n",
       "    <tr>\n",
       "      <th>id</th>\n",
       "      <th></th>\n",
       "    </tr>\n",
       "  </thead>\n",
       "  <tbody>\n",
       "    <tr>\n",
       "      <th>124733</th>\n",
       "      <td>Weigel, J. A. G. &lt;</td>\n",
       "    </tr>\n",
       "    <tr>\n",
       "      <th>124733</th>\n",
       "      <td>Winkler, Friedrich</td>\n",
       "    </tr>\n",
       "    <tr>\n",
       "      <th>124733</th>\n",
       "      <td>Francis, Henry S.</td>\n",
       "    </tr>\n",
       "    <tr>\n",
       "      <th>124733</th>\n",
       "      <td>Kurz, Otto. &lt;em&gt;Fa</td>\n",
       "    </tr>\n",
       "    <tr>\n",
       "      <th>124733</th>\n",
       "      <td>Minneapolis Instit</td>\n",
       "    </tr>\n",
       "    <tr>\n",
       "      <th>124733</th>\n",
       "      <td>Pilz, Kurt. \"Hans</td>\n",
       "    </tr>\n",
       "    <tr>\n",
       "      <th>124733</th>\n",
       "      <td>Koschatzky, Walter</td>\n",
       "    </tr>\n",
       "    <tr>\n",
       "      <th>124733</th>\n",
       "      <td>Johnson, Mark M&lt;em</td>\n",
       "    </tr>\n",
       "    <tr>\n",
       "      <th>124733</th>\n",
       "      <td>Kaufmann, Thomas D</td>\n",
       "    </tr>\n",
       "    <tr>\n",
       "      <th>124733</th>\n",
       "      <td>Koreny, Fritz. &lt;em</td>\n",
       "    </tr>\n",
       "    <tr>\n",
       "      <th>124733</th>\n",
       "      <td>Achilles-Syndram,</td>\n",
       "    </tr>\n",
       "    <tr>\n",
       "      <th>124733</th>\n",
       "      <td>Schoch, Rainer, Ka</td>\n",
       "    </tr>\n",
       "    <tr>\n",
       "      <th>124733</th>\n",
       "      <td>DeGrazia, Diane an</td>\n",
       "    </tr>\n",
       "    <tr>\n",
       "      <th>124733</th>\n",
       "      <td>Dunbar, Burton L.,</td>\n",
       "    </tr>\n",
       "  </tbody>\n",
       "</table>\n",
       "</div>"
      ],
      "text/plain": [
       "                  citation\n",
       "id                        \n",
       "124733  Weigel, J. A. G. <\n",
       "124733  Winkler, Friedrich\n",
       "124733  Francis, Henry S. \n",
       "124733  Kurz, Otto. <em>Fa\n",
       "124733  Minneapolis Instit\n",
       "124733  Pilz, Kurt. \"Hans \n",
       "124733  Koschatzky, Walter\n",
       "124733  Johnson, Mark M<em\n",
       "124733  Kaufmann, Thomas D\n",
       "124733  Koreny, Fritz. <em\n",
       "124733  Achilles-Syndram, \n",
       "124733  Schoch, Rainer, Ka\n",
       "124733  DeGrazia, Diane an\n",
       "124733  Dunbar, Burton L.,"
      ]
     },
     "execution_count": 17,
     "metadata": {},
     "output_type": "execute_result"
    }
   ],
   "source": [
    "cmacitations.loc[124733]"
   ]
  },
  {
   "cell_type": "markdown",
   "id": "individual-update",
   "metadata": {},
   "source": [
    "# Create a creators DataFrame"
   ]
  },
  {
   "cell_type": "code",
   "execution_count": 18,
   "id": "burning-simulation",
   "metadata": {},
   "outputs": [],
   "source": [
    "creatorsvars = ['creator', 'birth_year', 'death_year']"
   ]
  },
  {
   "cell_type": "code",
   "execution_count": 19,
   "id": "forty-shoot",
   "metadata": {},
   "outputs": [],
   "source": [
    "cmacreators = cma[creatorsvars].reset_index().drop_duplicates(\n",
    "    ['id', 'creator']).set_index('id')"
   ]
  },
  {
   "cell_type": "code",
   "execution_count": 20,
   "id": "agreed-harvard",
   "metadata": {},
   "outputs": [
    {
     "data": {
      "text/html": [
       "<div>\n",
       "<style scoped>\n",
       "    .dataframe tbody tr th:only-of-type {\n",
       "        vertical-align: middle;\n",
       "    }\n",
       "\n",
       "    .dataframe tbody tr th {\n",
       "        vertical-align: top;\n",
       "    }\n",
       "\n",
       "    .dataframe thead th {\n",
       "        text-align: right;\n",
       "    }\n",
       "</style>\n",
       "<table border=\"1\" class=\"dataframe\">\n",
       "  <thead>\n",
       "    <tr style=\"text-align: right;\">\n",
       "      <th></th>\n",
       "      <th>creator</th>\n",
       "      <th>birth_year</th>\n",
       "      <th>death_year</th>\n",
       "    </tr>\n",
       "    <tr>\n",
       "      <th>id</th>\n",
       "      <th></th>\n",
       "      <th></th>\n",
       "      <th></th>\n",
       "    </tr>\n",
       "  </thead>\n",
       "  <tbody>\n",
       "    <tr>\n",
       "      <th>124733</th>\n",
       "      <td>Albrecht Dürer (Ge</td>\n",
       "      <td>1471</td>\n",
       "      <td>1528</td>\n",
       "    </tr>\n",
       "    <tr>\n",
       "      <th>124733</th>\n",
       "      <td>Hans Hoffmann (Ger</td>\n",
       "      <td>1545/50</td>\n",
       "      <td>1591/92</td>\n",
       "    </tr>\n",
       "  </tbody>\n",
       "</table>\n",
       "</div>"
      ],
      "text/plain": [
       "                   creator birth_year death_year\n",
       "id                                              \n",
       "124733  Albrecht Dürer (Ge       1471       1528\n",
       "124733  Hans Hoffmann (Ger    1545/50    1591/92"
      ]
     },
     "execution_count": 20,
     "metadata": {},
     "output_type": "execute_result"
    }
   ],
   "source": [
    "cmacreators.loc[124733]"
   ]
  },
  {
   "cell_type": "markdown",
   "id": "endless-threshold",
   "metadata": {},
   "source": [
    "# Count the number of collection items with a creator born after 1950"
   ]
  },
  {
   "cell_type": "code",
   "execution_count": 21,
   "id": "awful-description",
   "metadata": {},
   "outputs": [],
   "source": [
    "cmacreators['birth_year'] = cmacreators['birth_year'].str.findall(\n",
    "    '\\d+').str[0].astype(float)"
   ]
  },
  {
   "cell_type": "code",
   "execution_count": 23,
   "id": "intellectual-compound",
   "metadata": {},
   "outputs": [],
   "source": [
    "youngartists = cmacreators.loc[cmacreators['birth_year'] > 1950,\n",
    "                               ['creator']].assign(creatorbornafter1950 = 'Y')"
   ]
  },
  {
   "cell_type": "code",
   "execution_count": 24,
   "id": "postal-barbados",
   "metadata": {},
   "outputs": [
    {
     "data": {
      "text/plain": [
       "True"
      ]
     },
     "execution_count": 24,
     "metadata": {},
     "output_type": "execute_result"
    }
   ],
   "source": [
    "youngartists.shape[0] == youngartists.index.nunique()"
   ]
  },
  {
   "cell_type": "code",
   "execution_count": 25,
   "id": "interior-partnership",
   "metadata": {},
   "outputs": [
    {
     "data": {
      "text/plain": [
       "8"
      ]
     },
     "execution_count": 25,
     "metadata": {},
     "output_type": "execute_result"
    }
   ],
   "source": [
    "youngartists.index.nunique()"
   ]
  },
  {
   "cell_type": "code",
   "execution_count": 26,
   "id": "stock-optics",
   "metadata": {},
   "outputs": [
    {
     "data": {
      "text/html": [
       "<div>\n",
       "<style scoped>\n",
       "    .dataframe tbody tr th:only-of-type {\n",
       "        vertical-align: middle;\n",
       "    }\n",
       "\n",
       "    .dataframe tbody tr th {\n",
       "        vertical-align: top;\n",
       "    }\n",
       "\n",
       "    .dataframe thead th {\n",
       "        text-align: right;\n",
       "    }\n",
       "</style>\n",
       "<table border=\"1\" class=\"dataframe\">\n",
       "  <thead>\n",
       "    <tr style=\"text-align: right;\">\n",
       "      <th></th>\n",
       "      <th>creator</th>\n",
       "      <th>creatorbornafter1950</th>\n",
       "    </tr>\n",
       "    <tr>\n",
       "      <th>id</th>\n",
       "      <th></th>\n",
       "      <th></th>\n",
       "    </tr>\n",
       "  </thead>\n",
       "  <tbody>\n",
       "    <tr>\n",
       "      <th>371392</th>\n",
       "      <td>Belkis Ayón (Cuban</td>\n",
       "      <td>Y</td>\n",
       "    </tr>\n",
       "    <tr>\n",
       "      <th>162624</th>\n",
       "      <td>Robert Gober (Amer</td>\n",
       "      <td>Y</td>\n",
       "    </tr>\n",
       "    <tr>\n",
       "      <th>172588</th>\n",
       "      <td>Rachel Harrison (A</td>\n",
       "      <td>Y</td>\n",
       "    </tr>\n",
       "    <tr>\n",
       "      <th>169335</th>\n",
       "      <td>Pae White (America</td>\n",
       "      <td>Y</td>\n",
       "    </tr>\n",
       "    <tr>\n",
       "      <th>169862</th>\n",
       "      <td>Fred Wilson (Ameri</td>\n",
       "      <td>Y</td>\n",
       "    </tr>\n",
       "    <tr>\n",
       "      <th>312739</th>\n",
       "      <td>Liu Jing (Chinese,</td>\n",
       "      <td>Y</td>\n",
       "    </tr>\n",
       "    <tr>\n",
       "      <th>293323</th>\n",
       "      <td>Zeng Xiaojun (Chin</td>\n",
       "      <td>Y</td>\n",
       "    </tr>\n",
       "    <tr>\n",
       "      <th>172539</th>\n",
       "      <td>Fidencio Fifield-P</td>\n",
       "      <td>Y</td>\n",
       "    </tr>\n",
       "  </tbody>\n",
       "</table>\n",
       "</div>"
      ],
      "text/plain": [
       "                   creator creatorbornafter1950\n",
       "id                                             \n",
       "371392  Belkis Ayón (Cuban                    Y\n",
       "162624  Robert Gober (Amer                    Y\n",
       "172588  Rachel Harrison (A                    Y\n",
       "169335  Pae White (America                    Y\n",
       "169862  Fred Wilson (Ameri                    Y\n",
       "312739  Liu Jing (Chinese,                    Y\n",
       "293323  Zeng Xiaojun (Chin                    Y\n",
       "172539  Fidencio Fifield-P                    Y"
      ]
     },
     "execution_count": 26,
     "metadata": {},
     "output_type": "execute_result"
    }
   ],
   "source": [
    "youngartists"
   ]
  },
  {
   "cell_type": "code",
   "execution_count": 27,
   "id": "armed-dependence",
   "metadata": {},
   "outputs": [],
   "source": [
    "cmacollections = pd.merge(cmacollections,\n",
    "                          youngartists,\n",
    "                          left_on=['id'],\n",
    "                          right_on=['id'],\n",
    "                          how='left')"
   ]
  },
  {
   "cell_type": "code",
   "execution_count": 28,
   "id": "united-companion",
   "metadata": {},
   "outputs": [],
   "source": [
    "cmacollections['creatorbornafter1950'].fillna('N', inplace=True)"
   ]
  },
  {
   "cell_type": "code",
   "execution_count": 29,
   "id": "blond-certification",
   "metadata": {},
   "outputs": [
    {
     "data": {
      "text/plain": [
       "(972, 5)"
      ]
     },
     "execution_count": 29,
     "metadata": {},
     "output_type": "execute_result"
    }
   ],
   "source": [
    "cmacollections.shape"
   ]
  },
  {
   "cell_type": "code",
   "execution_count": 30,
   "id": "mature-portable",
   "metadata": {},
   "outputs": [
    {
     "data": {
      "text/plain": [
       "N    964\n",
       "Y      8\n",
       "Name: creatorbornafter1950, dtype: int64"
      ]
     },
     "execution_count": 30,
     "metadata": {},
     "output_type": "execute_result"
    }
   ],
   "source": [
    "cmacollections['creatorbornafter1950'].value_counts()"
   ]
  },
  {
   "cell_type": "code",
   "execution_count": null,
   "id": "ultimate-albuquerque",
   "metadata": {},
   "outputs": [],
   "source": []
  }
 ],
 "metadata": {
  "kernelspec": {
   "display_name": "Python 3",
   "language": "python",
   "name": "python3"
  },
  "language_info": {
   "codemirror_mode": {
    "name": "ipython",
    "version": 3
   },
   "file_extension": ".py",
   "mimetype": "text/x-python",
   "name": "python",
   "nbconvert_exporter": "python",
   "pygments_lexer": "ipython3",
   "version": "3.7.9"
  },
  "toc": {
   "base_numbering": 1,
   "nav_menu": {},
   "number_sections": true,
   "sideBar": true,
   "skip_h1_title": false,
   "title_cell": "Table of Contents",
   "title_sidebar": "Contents",
   "toc_cell": true,
   "toc_position": {
    "height": "calc(100% - 180px)",
    "left": "10px",
    "top": "150px",
    "width": "279.273px"
   },
   "toc_section_display": true,
   "toc_window_display": false
  }
 },
 "nbformat": 4,
 "nbformat_minor": 5
}
