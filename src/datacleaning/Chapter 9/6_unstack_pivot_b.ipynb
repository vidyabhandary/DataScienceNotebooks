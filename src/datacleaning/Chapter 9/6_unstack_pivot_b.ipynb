{
 "cells": [
  {
   "cell_type": "markdown",
   "id": "falling-brake",
   "metadata": {
    "toc": true
   },
   "source": [
    "<h1>Table of Contents<span class=\"tocSkip\"></span></h1>\n",
    "<div class=\"toc\"><ul class=\"toc-item\"><li><span><a href=\"#Import-pandas-and-load-the-stacked-and-melted-nls-data\" data-toc-modified-id=\"Import-pandas-and-load-the-stacked-and-melted-nls-data-1\"><span class=\"toc-item-num\">1&nbsp;&nbsp;</span>Import pandas and load the stacked and melted nls data</a></span></li><li><span><a href=\"#View-the-stacked-weeks-worked-data\" data-toc-modified-id=\"View-the-stacked-weeks-worked-data-2\"><span class=\"toc-item-num\">2&nbsp;&nbsp;</span>View the stacked weeks worked data</a></span></li><li><span><a href=\"#Use-stack-to-convert-from-long-to-wide\" data-toc-modified-id=\"Use-stack-to-convert-from-long-to-wide-3\"><span class=\"toc-item-num\">3&nbsp;&nbsp;</span>Use stack to convert from long to wide</a></span></li><li><span><a href=\"#Use-pivot-to-convert-from-long-to-wide\" data-toc-modified-id=\"Use-pivot-to-convert-from-long-to-wide-4\"><span class=\"toc-item-num\">4&nbsp;&nbsp;</span>Use pivot to convert from long to wide</a></span></li></ul></div>"
   ]
  },
  {
   "cell_type": "markdown",
   "id": "civil-aviation",
   "metadata": {},
   "source": [
    "# Import pandas and load the stacked and melted nls data"
   ]
  },
  {
   "cell_type": "code",
   "execution_count": 1,
   "id": "potential-cattle",
   "metadata": {},
   "outputs": [],
   "source": [
    "import pandas as pd"
   ]
  },
  {
   "cell_type": "code",
   "execution_count": 2,
   "id": "frequent-sugar",
   "metadata": {},
   "outputs": [],
   "source": [
    "pd.set_option('display.width', 200)\n",
    "pd.set_option('display.max_columns', 30)\n",
    "pd.set_option('display.max_rows', 200)\n",
    "pd.options.display.float_format = '{:,.0f}'.format"
   ]
  },
  {
   "cell_type": "code",
   "execution_count": 3,
   "id": "personalized-reply",
   "metadata": {},
   "outputs": [
    {
     "name": "stdout",
     "output_type": "stream",
     "text": [
      "watermark: 2.1.0\n",
      "json     : 2.0.9\n",
      "pandas   : 1.2.1\n",
      "\n"
     ]
    }
   ],
   "source": [
    "import watermark\n",
    "%load_ext watermark\n",
    "\n",
    "%watermark -n -i -iv"
   ]
  },
  {
   "cell_type": "code",
   "execution_count": 4,
   "id": "provincial-absolute",
   "metadata": {},
   "outputs": [],
   "source": [
    "weeksworkedstacked = pd.read_pickle('data/nlsweeksworkedstacked.pkl')\n",
    "workschoolmelted = pd.read_pickle('data/nlsworkschoolmelted.pkl')"
   ]
  },
  {
   "cell_type": "markdown",
   "id": "retained-layer",
   "metadata": {},
   "source": [
    "# View the stacked weeks worked data"
   ]
  },
  {
   "cell_type": "code",
   "execution_count": 5,
   "id": "excellent-table",
   "metadata": {},
   "outputs": [
    {
     "data": {
      "text/plain": [
       "originalid               \n",
       "8245        weeksworked00   46\n",
       "            weeksworked01   52\n",
       "            weeksworked02   52\n",
       "            weeksworked04   52\n",
       "            weeksworked05   53\n",
       "3962        weeksworked00    5\n",
       "            weeksworked01   49\n",
       "            weeksworked02   52\n",
       "            weeksworked04   52\n",
       "            weeksworked05   53\n",
       "dtype: float64"
      ]
     },
     "execution_count": 5,
     "metadata": {},
     "output_type": "execute_result"
    }
   ],
   "source": [
    "weeksworkedstacked.head(10)"
   ]
  },
  {
   "cell_type": "code",
   "execution_count": 6,
   "id": "economic-factory",
   "metadata": {},
   "outputs": [
    {
     "data": {
      "text/plain": [
       "MultiIndex([(8245, 'weeksworked00'),\n",
       "            (8245, 'weeksworked01'),\n",
       "            (8245, 'weeksworked02'),\n",
       "            (8245, 'weeksworked04'),\n",
       "            (8245, 'weeksworked05'),\n",
       "            (3962, 'weeksworked00'),\n",
       "            (3962, 'weeksworked01'),\n",
       "            (3962, 'weeksworked02'),\n",
       "            (3962, 'weeksworked04'),\n",
       "            (3962, 'weeksworked05'),\n",
       "            ...\n",
       "            (7815, 'weeksworked00'),\n",
       "            (7815, 'weeksworked01'),\n",
       "            (7815, 'weeksworked02'),\n",
       "            (7815, 'weeksworked04'),\n",
       "            (7815, 'weeksworked05'),\n",
       "            ( 166, 'weeksworked00'),\n",
       "            ( 166, 'weeksworked01'),\n",
       "            ( 166, 'weeksworked02'),\n",
       "            ( 166, 'weeksworked04'),\n",
       "            ( 166, 'weeksworked05')],\n",
       "           names=['originalid', None], length=44920)"
      ]
     },
     "execution_count": 6,
     "metadata": {},
     "output_type": "execute_result"
    }
   ],
   "source": [
    "weeksworkedstacked.index"
   ]
  },
  {
   "cell_type": "markdown",
   "id": "boolean-california",
   "metadata": {},
   "source": [
    "# Use stack to convert from long to wide"
   ]
  },
  {
   "cell_type": "code",
   "execution_count": 7,
   "id": "laden-composite",
   "metadata": {},
   "outputs": [
    {
     "data": {
      "text/html": [
       "<div>\n",
       "<style scoped>\n",
       "    .dataframe tbody tr th:only-of-type {\n",
       "        vertical-align: middle;\n",
       "    }\n",
       "\n",
       "    .dataframe tbody tr th {\n",
       "        vertical-align: top;\n",
       "    }\n",
       "\n",
       "    .dataframe thead th {\n",
       "        text-align: right;\n",
       "    }\n",
       "</style>\n",
       "<table border=\"1\" class=\"dataframe\">\n",
       "  <thead>\n",
       "    <tr style=\"text-align: right;\">\n",
       "      <th></th>\n",
       "      <th>weeksworked00</th>\n",
       "      <th>weeksworked01</th>\n",
       "      <th>weeksworked02</th>\n",
       "      <th>weeksworked04</th>\n",
       "      <th>weeksworked05</th>\n",
       "    </tr>\n",
       "    <tr>\n",
       "      <th>originalid</th>\n",
       "      <th></th>\n",
       "      <th></th>\n",
       "      <th></th>\n",
       "      <th></th>\n",
       "      <th></th>\n",
       "    </tr>\n",
       "  </thead>\n",
       "  <tbody>\n",
       "    <tr>\n",
       "      <th>8245</th>\n",
       "      <td>46</td>\n",
       "      <td>52</td>\n",
       "      <td>52</td>\n",
       "      <td>52</td>\n",
       "      <td>53</td>\n",
       "    </tr>\n",
       "    <tr>\n",
       "      <th>3962</th>\n",
       "      <td>5</td>\n",
       "      <td>49</td>\n",
       "      <td>52</td>\n",
       "      <td>52</td>\n",
       "      <td>53</td>\n",
       "    </tr>\n",
       "    <tr>\n",
       "      <th>3571</th>\n",
       "      <td>5</td>\n",
       "      <td>8</td>\n",
       "      <td>52</td>\n",
       "      <td>40</td>\n",
       "      <td>41</td>\n",
       "    </tr>\n",
       "    <tr>\n",
       "      <th>2979</th>\n",
       "      <td>29</td>\n",
       "      <td>34</td>\n",
       "      <td>52</td>\n",
       "      <td>52</td>\n",
       "      <td>53</td>\n",
       "    </tr>\n",
       "    <tr>\n",
       "      <th>8511</th>\n",
       "      <td>53</td>\n",
       "      <td>52</td>\n",
       "      <td>52</td>\n",
       "      <td>48</td>\n",
       "      <td>53</td>\n",
       "    </tr>\n",
       "    <tr>\n",
       "      <th>5191</th>\n",
       "      <td>51</td>\n",
       "      <td>44</td>\n",
       "      <td>52</td>\n",
       "      <td>48</td>\n",
       "      <td>53</td>\n",
       "    </tr>\n",
       "    <tr>\n",
       "      <th>7593</th>\n",
       "      <td>49</td>\n",
       "      <td>43</td>\n",
       "      <td>51</td>\n",
       "      <td>39</td>\n",
       "      <td>53</td>\n",
       "    </tr>\n",
       "    <tr>\n",
       "      <th>5512</th>\n",
       "      <td>49</td>\n",
       "      <td>52</td>\n",
       "      <td>52</td>\n",
       "      <td>35</td>\n",
       "      <td>44</td>\n",
       "    </tr>\n",
       "    <tr>\n",
       "      <th>6668</th>\n",
       "      <td>53</td>\n",
       "      <td>49</td>\n",
       "      <td>49</td>\n",
       "      <td>52</td>\n",
       "      <td>53</td>\n",
       "    </tr>\n",
       "    <tr>\n",
       "      <th>4809</th>\n",
       "      <td>0</td>\n",
       "      <td>0</td>\n",
       "      <td>0</td>\n",
       "      <td>0</td>\n",
       "      <td>0</td>\n",
       "    </tr>\n",
       "  </tbody>\n",
       "</table>\n",
       "</div>"
      ],
      "text/plain": [
       "            weeksworked00  weeksworked01  weeksworked02  weeksworked04  weeksworked05\n",
       "originalid                                                                           \n",
       "8245                   46             52             52             52             53\n",
       "3962                    5             49             52             52             53\n",
       "3571                    5              8             52             40             41\n",
       "2979                   29             34             52             52             53\n",
       "8511                   53             52             52             48             53\n",
       "5191                   51             44             52             48             53\n",
       "7593                   49             43             51             39             53\n",
       "5512                   49             52             52             35             44\n",
       "6668                   53             49             49             52             53\n",
       "4809                    0              0              0              0              0"
      ]
     },
     "execution_count": 7,
     "metadata": {},
     "output_type": "execute_result"
    }
   ],
   "source": [
    "weeksworked = weeksworkedstacked.unstack()\n",
    "weeksworked.head(10)"
   ]
  },
  {
   "cell_type": "markdown",
   "id": "motivated-ranch",
   "metadata": {},
   "source": [
    "# Use pivot to convert from long to wide"
   ]
  },
  {
   "cell_type": "code",
   "execution_count": 8,
   "id": "molecular-pitch",
   "metadata": {},
   "outputs": [
    {
     "data": {
      "text/html": [
       "<div>\n",
       "<style scoped>\n",
       "    .dataframe tbody tr th:only-of-type {\n",
       "        vertical-align: middle;\n",
       "    }\n",
       "\n",
       "    .dataframe tbody tr th {\n",
       "        vertical-align: top;\n",
       "    }\n",
       "\n",
       "    .dataframe thead th {\n",
       "        text-align: right;\n",
       "    }\n",
       "</style>\n",
       "<table border=\"1\" class=\"dataframe\">\n",
       "  <thead>\n",
       "    <tr style=\"text-align: right;\">\n",
       "      <th></th>\n",
       "      <th>originalid</th>\n",
       "      <th>year</th>\n",
       "      <th>weeksworked</th>\n",
       "      <th>colenroct</th>\n",
       "    </tr>\n",
       "  </thead>\n",
       "  <tbody>\n",
       "    <tr>\n",
       "      <th>377</th>\n",
       "      <td>1</td>\n",
       "      <td>2000</td>\n",
       "      <td>53</td>\n",
       "      <td>3. 4-year college</td>\n",
       "    </tr>\n",
       "    <tr>\n",
       "      <th>9361</th>\n",
       "      <td>1</td>\n",
       "      <td>2001</td>\n",
       "      <td>52</td>\n",
       "      <td>3. 4-year college</td>\n",
       "    </tr>\n",
       "    <tr>\n",
       "      <th>18345</th>\n",
       "      <td>1</td>\n",
       "      <td>2002</td>\n",
       "      <td>NaN</td>\n",
       "      <td>3. 4-year college</td>\n",
       "    </tr>\n",
       "    <tr>\n",
       "      <th>27329</th>\n",
       "      <td>1</td>\n",
       "      <td>2003</td>\n",
       "      <td>42</td>\n",
       "      <td>1. Not enrolled</td>\n",
       "    </tr>\n",
       "    <tr>\n",
       "      <th>36313</th>\n",
       "      <td>1</td>\n",
       "      <td>2004</td>\n",
       "      <td>52</td>\n",
       "      <td>1. Not enrolled</td>\n",
       "    </tr>\n",
       "    <tr>\n",
       "      <th>8980</th>\n",
       "      <td>2</td>\n",
       "      <td>2000</td>\n",
       "      <td>51</td>\n",
       "      <td>3. 4-year college</td>\n",
       "    </tr>\n",
       "    <tr>\n",
       "      <th>17964</th>\n",
       "      <td>2</td>\n",
       "      <td>2001</td>\n",
       "      <td>52</td>\n",
       "      <td>2. 2-year college</td>\n",
       "    </tr>\n",
       "    <tr>\n",
       "      <th>26948</th>\n",
       "      <td>2</td>\n",
       "      <td>2002</td>\n",
       "      <td>44</td>\n",
       "      <td>3. 4-year college</td>\n",
       "    </tr>\n",
       "    <tr>\n",
       "      <th>35932</th>\n",
       "      <td>2</td>\n",
       "      <td>2003</td>\n",
       "      <td>45</td>\n",
       "      <td>3. 4-year college</td>\n",
       "    </tr>\n",
       "    <tr>\n",
       "      <th>44916</th>\n",
       "      <td>2</td>\n",
       "      <td>2004</td>\n",
       "      <td>52</td>\n",
       "      <td>3. 4-year college</td>\n",
       "    </tr>\n",
       "  </tbody>\n",
       "</table>\n",
       "</div>"
      ],
      "text/plain": [
       "       originalid  year  weeksworked           colenroct\n",
       "377             1  2000           53   3. 4-year college\n",
       "9361            1  2001           52   3. 4-year college\n",
       "18345           1  2002          NaN   3. 4-year college\n",
       "27329           1  2003           42     1. Not enrolled\n",
       "36313           1  2004           52     1. Not enrolled\n",
       "8980            2  2000           51   3. 4-year college\n",
       "17964           2  2001           52  2. 2-year college \n",
       "26948           2  2002           44   3. 4-year college\n",
       "35932           2  2003           45   3. 4-year college\n",
       "44916           2  2004           52   3. 4-year college"
      ]
     },
     "execution_count": 8,
     "metadata": {},
     "output_type": "execute_result"
    }
   ],
   "source": [
    "workschoolmelted.loc[workschoolmelted['originalid'].isin([1,2])].sort_values(['originalid','year'])"
   ]
  },
  {
   "cell_type": "code",
   "execution_count": 9,
   "id": "graduate-trinidad",
   "metadata": {},
   "outputs": [],
   "source": [
    "workschool = workschoolmelted.pivot(index='originalid', columns='year', values=['weeksworked','colenroct']).reset_index()"
   ]
  },
  {
   "cell_type": "code",
   "execution_count": 10,
   "id": "generic-breath",
   "metadata": {},
   "outputs": [],
   "source": [
    "workschool.columns = workschool.columns.map('{0[0]}{0[1]}'.format)"
   ]
  },
  {
   "cell_type": "code",
   "execution_count": 11,
   "id": "effective-pepper",
   "metadata": {},
   "outputs": [
    {
     "data": {
      "text/html": [
       "<div>\n",
       "<style scoped>\n",
       "    .dataframe tbody tr th:only-of-type {\n",
       "        vertical-align: middle;\n",
       "    }\n",
       "\n",
       "    .dataframe tbody tr th {\n",
       "        vertical-align: top;\n",
       "    }\n",
       "\n",
       "    .dataframe thead th {\n",
       "        text-align: right;\n",
       "    }\n",
       "</style>\n",
       "<table border=\"1\" class=\"dataframe\">\n",
       "  <thead>\n",
       "    <tr style=\"text-align: right;\">\n",
       "      <th></th>\n",
       "      <th>0</th>\n",
       "      <th>1</th>\n",
       "    </tr>\n",
       "  </thead>\n",
       "  <tbody>\n",
       "    <tr>\n",
       "      <th>originalid</th>\n",
       "      <td>1</td>\n",
       "      <td>2</td>\n",
       "    </tr>\n",
       "    <tr>\n",
       "      <th>weeksworked2000</th>\n",
       "      <td>53</td>\n",
       "      <td>51</td>\n",
       "    </tr>\n",
       "    <tr>\n",
       "      <th>weeksworked2001</th>\n",
       "      <td>52</td>\n",
       "      <td>52</td>\n",
       "    </tr>\n",
       "    <tr>\n",
       "      <th>weeksworked2002</th>\n",
       "      <td>NaN</td>\n",
       "      <td>44</td>\n",
       "    </tr>\n",
       "    <tr>\n",
       "      <th>weeksworked2003</th>\n",
       "      <td>42</td>\n",
       "      <td>45</td>\n",
       "    </tr>\n",
       "    <tr>\n",
       "      <th>weeksworked2004</th>\n",
       "      <td>52</td>\n",
       "      <td>52</td>\n",
       "    </tr>\n",
       "    <tr>\n",
       "      <th>colenroct2000</th>\n",
       "      <td>3. 4-year college</td>\n",
       "      <td>3. 4-year college</td>\n",
       "    </tr>\n",
       "    <tr>\n",
       "      <th>colenroct2001</th>\n",
       "      <td>3. 4-year college</td>\n",
       "      <td>2. 2-year college</td>\n",
       "    </tr>\n",
       "    <tr>\n",
       "      <th>colenroct2002</th>\n",
       "      <td>3. 4-year college</td>\n",
       "      <td>3. 4-year college</td>\n",
       "    </tr>\n",
       "    <tr>\n",
       "      <th>colenroct2003</th>\n",
       "      <td>1. Not enrolled</td>\n",
       "      <td>3. 4-year college</td>\n",
       "    </tr>\n",
       "    <tr>\n",
       "      <th>colenroct2004</th>\n",
       "      <td>1. Not enrolled</td>\n",
       "      <td>3. 4-year college</td>\n",
       "    </tr>\n",
       "  </tbody>\n",
       "</table>\n",
       "</div>"
      ],
      "text/plain": [
       "                                 0                   1\n",
       "originalid                       1                   2\n",
       "weeksworked2000                 53                  51\n",
       "weeksworked2001                 52                  52\n",
       "weeksworked2002                NaN                  44\n",
       "weeksworked2003                 42                  45\n",
       "weeksworked2004                 52                  52\n",
       "colenroct2000    3. 4-year college   3. 4-year college\n",
       "colenroct2001    3. 4-year college  2. 2-year college \n",
       "colenroct2002    3. 4-year college   3. 4-year college\n",
       "colenroct2003      1. Not enrolled   3. 4-year college\n",
       "colenroct2004      1. Not enrolled   3. 4-year college"
      ]
     },
     "execution_count": 11,
     "metadata": {},
     "output_type": "execute_result"
    }
   ],
   "source": [
    "workschool.loc[workschool.originalid.isin([1,2])].T"
   ]
  },
  {
   "cell_type": "code",
   "execution_count": null,
   "id": "single-officer",
   "metadata": {},
   "outputs": [],
   "source": []
  }
 ],
 "metadata": {
  "kernelspec": {
   "display_name": "Python 3",
   "language": "python",
   "name": "python3"
  },
  "language_info": {
   "codemirror_mode": {
    "name": "ipython",
    "version": 3
   },
   "file_extension": ".py",
   "mimetype": "text/x-python",
   "name": "python",
   "nbconvert_exporter": "python",
   "pygments_lexer": "ipython3",
   "version": "3.7.9"
  },
  "toc": {
   "base_numbering": 1,
   "nav_menu": {},
   "number_sections": true,
   "sideBar": true,
   "skip_h1_title": false,
   "title_cell": "Table of Contents",
   "title_sidebar": "Contents",
   "toc_cell": true,
   "toc_position": {},
   "toc_section_display": true,
   "toc_window_display": false
  }
 },
 "nbformat": 4,
 "nbformat_minor": 5
}
