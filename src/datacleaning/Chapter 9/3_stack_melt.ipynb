{
 "cells": [
  {
   "cell_type": "markdown",
   "id": "brutal-generation",
   "metadata": {
    "toc": true
   },
   "source": [
    "<h1>Table of Contents<span class=\"tocSkip\"></span></h1>\n",
    "<div class=\"toc\"><ul class=\"toc-item\"><li><span><a href=\"#Import-pandas-and-the-NLS-data\" data-toc-modified-id=\"Import-pandas-and-the-NLS-data-1\"><span class=\"toc-item-num\">1&nbsp;&nbsp;</span>Import pandas and the NLS data</a></span></li><li><span><a href=\"#View-some-of-the-values-for-the-number-of-weeks-worked\" data-toc-modified-id=\"View-some-of-the-values-for-the-number-of-weeks-worked-2\"><span class=\"toc-item-num\">2&nbsp;&nbsp;</span>View some of the values for the number of weeks worked</a></span></li><li><span><a href=\"#Use-stack-to-transform-the-data-from-wide-to-long\" data-toc-modified-id=\"Use-stack-to-transform-the-data-from-wide-to-long-3\"><span class=\"toc-item-num\">3&nbsp;&nbsp;</span>Use stack to transform the data from wide to long</a></span></li><li><span><a href=\"#Fix-the-year-values\" data-toc-modified-id=\"Fix-the-year-values-4\"><span class=\"toc-item-num\">4&nbsp;&nbsp;</span>Fix the year values</a></span></li><li><span><a href=\"#Alternatively,-use-melt-to-transform-the-data-from-wide-to-long\" data-toc-modified-id=\"Alternatively,-use-melt-to-transform-the-data-from-wide-to-long-5\"><span class=\"toc-item-num\">5&nbsp;&nbsp;</span>Alternatively, use melt to transform the data from wide to long</a></span></li><li><span><a href=\"#Reshape-the-college-enrollment-columns-with-melt.\" data-toc-modified-id=\"Reshape-the-college-enrollment-columns-with-melt.-6\"><span class=\"toc-item-num\">6&nbsp;&nbsp;</span>Reshape the college enrollment columns with melt.</a></span></li><li><span><a href=\"#Merge-the-weeks-worked-and-college-enrollment-data\" data-toc-modified-id=\"Merge-the-weeks-worked-and-college-enrollment-data-7\"><span class=\"toc-item-num\">7&nbsp;&nbsp;</span>Merge the weeks worked and college enrollment data</a></span></li></ul></div>"
   ]
  },
  {
   "cell_type": "markdown",
   "id": "golden-symphony",
   "metadata": {},
   "source": [
    "# Import pandas and the NLS data"
   ]
  },
  {
   "cell_type": "code",
   "execution_count": 1,
   "id": "environmental-graduation",
   "metadata": {},
   "outputs": [],
   "source": [
    "import pandas as pd"
   ]
  },
  {
   "cell_type": "code",
   "execution_count": 2,
   "id": "planned-teaching",
   "metadata": {},
   "outputs": [],
   "source": [
    "# pd.set_option('display.width', 200)\n",
    "# pd.set_option('display.max_columns', 30)\n",
    "# pd.set_option('display.max_rows', 200)\n",
    "# pd.options.display.float_format = '{:,.0f}'.format"
   ]
  },
  {
   "cell_type": "code",
   "execution_count": 3,
   "id": "integrated-boutique",
   "metadata": {},
   "outputs": [
    {
     "name": "stdout",
     "output_type": "stream",
     "text": [
      "watermark: 2.1.0\n",
      "json     : 2.0.9\n",
      "pandas   : 1.2.1\n",
      "\n"
     ]
    }
   ],
   "source": [
    "import watermark\n",
    "%load_ext watermark\n",
    "\n",
    "%watermark -n -i -iv"
   ]
  },
  {
   "cell_type": "code",
   "execution_count": 4,
   "id": "funded-nancy",
   "metadata": {},
   "outputs": [],
   "source": [
    "nls97 = pd.read_csv('data/nls97f.csv')"
   ]
  },
  {
   "cell_type": "markdown",
   "id": "electric-ranch",
   "metadata": {},
   "source": [
    "# View some of the values for the number of weeks worked"
   ]
  },
  {
   "cell_type": "code",
   "execution_count": 5,
   "id": "municipal-violence",
   "metadata": {},
   "outputs": [],
   "source": [
    "nls97.set_index(['originalid'], inplace=True)"
   ]
  },
  {
   "cell_type": "code",
   "execution_count": 6,
   "id": "artistic-cameroon",
   "metadata": {},
   "outputs": [],
   "source": [
    "weeksworkedcols = [\n",
    "    'weeksworked00', 'weeksworked01', 'weeksworked02', 'weeksworked03',\n",
    "    'weeksworked04'\n",
    "]"
   ]
  },
  {
   "cell_type": "code",
   "execution_count": 7,
   "id": "optical-blanket",
   "metadata": {},
   "outputs": [
    {
     "data": {
      "text/html": [
       "<div>\n",
       "<style scoped>\n",
       "    .dataframe tbody tr th:only-of-type {\n",
       "        vertical-align: middle;\n",
       "    }\n",
       "\n",
       "    .dataframe tbody tr th {\n",
       "        vertical-align: top;\n",
       "    }\n",
       "\n",
       "    .dataframe thead th {\n",
       "        text-align: right;\n",
       "    }\n",
       "</style>\n",
       "<table border=\"1\" class=\"dataframe\">\n",
       "  <thead>\n",
       "    <tr style=\"text-align: right;\">\n",
       "      <th>originalid</th>\n",
       "      <th>8245</th>\n",
       "      <th>3962</th>\n",
       "    </tr>\n",
       "  </thead>\n",
       "  <tbody>\n",
       "    <tr>\n",
       "      <th>weeksworked00</th>\n",
       "      <td>46.0</td>\n",
       "      <td>5.0</td>\n",
       "    </tr>\n",
       "    <tr>\n",
       "      <th>weeksworked01</th>\n",
       "      <td>52.0</td>\n",
       "      <td>49.0</td>\n",
       "    </tr>\n",
       "    <tr>\n",
       "      <th>weeksworked02</th>\n",
       "      <td>52.0</td>\n",
       "      <td>52.0</td>\n",
       "    </tr>\n",
       "    <tr>\n",
       "      <th>weeksworked03</th>\n",
       "      <td>48.0</td>\n",
       "      <td>52.0</td>\n",
       "    </tr>\n",
       "    <tr>\n",
       "      <th>weeksworked04</th>\n",
       "      <td>52.0</td>\n",
       "      <td>52.0</td>\n",
       "    </tr>\n",
       "  </tbody>\n",
       "</table>\n",
       "</div>"
      ],
      "text/plain": [
       "originalid     8245  3962\n",
       "weeksworked00  46.0   5.0\n",
       "weeksworked01  52.0  49.0\n",
       "weeksworked02  52.0  52.0\n",
       "weeksworked03  48.0  52.0\n",
       "weeksworked04  52.0  52.0"
      ]
     },
     "execution_count": 7,
     "metadata": {},
     "output_type": "execute_result"
    }
   ],
   "source": [
    "nls97[weeksworkedcols].head(2).T"
   ]
  },
  {
   "cell_type": "code",
   "execution_count": 8,
   "id": "focal-publicity",
   "metadata": {},
   "outputs": [
    {
     "data": {
      "text/plain": [
       "(8984, 89)"
      ]
     },
     "execution_count": 8,
     "metadata": {},
     "output_type": "execute_result"
    }
   ],
   "source": [
    "nls97.shape"
   ]
  },
  {
   "cell_type": "markdown",
   "id": "pursuant-wichita",
   "metadata": {},
   "source": [
    "# Use stack to transform the data from wide to long"
   ]
  },
  {
   "cell_type": "code",
   "execution_count": 10,
   "id": "frozen-powell",
   "metadata": {},
   "outputs": [],
   "source": [
    "weeksworked = nls97[weeksworkedcols].stack(dropna=False).reset_index().rename(\n",
    "    columns={\n",
    "        'level_1': 'year',\n",
    "        0: 'weeksworked'\n",
    "    })"
   ]
  },
  {
   "cell_type": "code",
   "execution_count": 11,
   "id": "annual-statistics",
   "metadata": {},
   "outputs": [
    {
     "data": {
      "text/html": [
       "<div>\n",
       "<style scoped>\n",
       "    .dataframe tbody tr th:only-of-type {\n",
       "        vertical-align: middle;\n",
       "    }\n",
       "\n",
       "    .dataframe tbody tr th {\n",
       "        vertical-align: top;\n",
       "    }\n",
       "\n",
       "    .dataframe thead th {\n",
       "        text-align: right;\n",
       "    }\n",
       "</style>\n",
       "<table border=\"1\" class=\"dataframe\">\n",
       "  <thead>\n",
       "    <tr style=\"text-align: right;\">\n",
       "      <th></th>\n",
       "      <th>originalid</th>\n",
       "      <th>year</th>\n",
       "      <th>weeksworked</th>\n",
       "    </tr>\n",
       "  </thead>\n",
       "  <tbody>\n",
       "    <tr>\n",
       "      <th>0</th>\n",
       "      <td>8245</td>\n",
       "      <td>weeksworked00</td>\n",
       "      <td>46.0</td>\n",
       "    </tr>\n",
       "    <tr>\n",
       "      <th>1</th>\n",
       "      <td>8245</td>\n",
       "      <td>weeksworked01</td>\n",
       "      <td>52.0</td>\n",
       "    </tr>\n",
       "    <tr>\n",
       "      <th>2</th>\n",
       "      <td>8245</td>\n",
       "      <td>weeksworked02</td>\n",
       "      <td>52.0</td>\n",
       "    </tr>\n",
       "    <tr>\n",
       "      <th>3</th>\n",
       "      <td>8245</td>\n",
       "      <td>weeksworked03</td>\n",
       "      <td>48.0</td>\n",
       "    </tr>\n",
       "    <tr>\n",
       "      <th>4</th>\n",
       "      <td>8245</td>\n",
       "      <td>weeksworked04</td>\n",
       "      <td>52.0</td>\n",
       "    </tr>\n",
       "    <tr>\n",
       "      <th>5</th>\n",
       "      <td>3962</td>\n",
       "      <td>weeksworked00</td>\n",
       "      <td>5.0</td>\n",
       "    </tr>\n",
       "    <tr>\n",
       "      <th>6</th>\n",
       "      <td>3962</td>\n",
       "      <td>weeksworked01</td>\n",
       "      <td>49.0</td>\n",
       "    </tr>\n",
       "    <tr>\n",
       "      <th>7</th>\n",
       "      <td>3962</td>\n",
       "      <td>weeksworked02</td>\n",
       "      <td>52.0</td>\n",
       "    </tr>\n",
       "    <tr>\n",
       "      <th>8</th>\n",
       "      <td>3962</td>\n",
       "      <td>weeksworked03</td>\n",
       "      <td>52.0</td>\n",
       "    </tr>\n",
       "    <tr>\n",
       "      <th>9</th>\n",
       "      <td>3962</td>\n",
       "      <td>weeksworked04</td>\n",
       "      <td>52.0</td>\n",
       "    </tr>\n",
       "  </tbody>\n",
       "</table>\n",
       "</div>"
      ],
      "text/plain": [
       "   originalid           year  weeksworked\n",
       "0        8245  weeksworked00         46.0\n",
       "1        8245  weeksworked01         52.0\n",
       "2        8245  weeksworked02         52.0\n",
       "3        8245  weeksworked03         48.0\n",
       "4        8245  weeksworked04         52.0\n",
       "5        3962  weeksworked00          5.0\n",
       "6        3962  weeksworked01         49.0\n",
       "7        3962  weeksworked02         52.0\n",
       "8        3962  weeksworked03         52.0\n",
       "9        3962  weeksworked04         52.0"
      ]
     },
     "execution_count": 11,
     "metadata": {},
     "output_type": "execute_result"
    }
   ],
   "source": [
    "weeksworked.head(10)"
   ]
  },
  {
   "cell_type": "markdown",
   "id": "authorized-examination",
   "metadata": {},
   "source": [
    "# Fix the year values"
   ]
  },
  {
   "cell_type": "code",
   "execution_count": 12,
   "id": "negative-crowd",
   "metadata": {},
   "outputs": [],
   "source": [
    "weeksworked['year'] = weeksworked['year'].str[-2:].astype(int) + 2000"
   ]
  },
  {
   "cell_type": "code",
   "execution_count": 13,
   "id": "sublime-parish",
   "metadata": {},
   "outputs": [
    {
     "data": {
      "text/html": [
       "<div>\n",
       "<style scoped>\n",
       "    .dataframe tbody tr th:only-of-type {\n",
       "        vertical-align: middle;\n",
       "    }\n",
       "\n",
       "    .dataframe tbody tr th {\n",
       "        vertical-align: top;\n",
       "    }\n",
       "\n",
       "    .dataframe thead th {\n",
       "        text-align: right;\n",
       "    }\n",
       "</style>\n",
       "<table border=\"1\" class=\"dataframe\">\n",
       "  <thead>\n",
       "    <tr style=\"text-align: right;\">\n",
       "      <th></th>\n",
       "      <th>originalid</th>\n",
       "      <th>year</th>\n",
       "      <th>weeksworked</th>\n",
       "    </tr>\n",
       "  </thead>\n",
       "  <tbody>\n",
       "    <tr>\n",
       "      <th>0</th>\n",
       "      <td>8245</td>\n",
       "      <td>2000</td>\n",
       "      <td>46.0</td>\n",
       "    </tr>\n",
       "    <tr>\n",
       "      <th>1</th>\n",
       "      <td>8245</td>\n",
       "      <td>2001</td>\n",
       "      <td>52.0</td>\n",
       "    </tr>\n",
       "    <tr>\n",
       "      <th>2</th>\n",
       "      <td>8245</td>\n",
       "      <td>2002</td>\n",
       "      <td>52.0</td>\n",
       "    </tr>\n",
       "    <tr>\n",
       "      <th>3</th>\n",
       "      <td>8245</td>\n",
       "      <td>2003</td>\n",
       "      <td>48.0</td>\n",
       "    </tr>\n",
       "    <tr>\n",
       "      <th>4</th>\n",
       "      <td>8245</td>\n",
       "      <td>2004</td>\n",
       "      <td>52.0</td>\n",
       "    </tr>\n",
       "    <tr>\n",
       "      <th>5</th>\n",
       "      <td>3962</td>\n",
       "      <td>2000</td>\n",
       "      <td>5.0</td>\n",
       "    </tr>\n",
       "    <tr>\n",
       "      <th>6</th>\n",
       "      <td>3962</td>\n",
       "      <td>2001</td>\n",
       "      <td>49.0</td>\n",
       "    </tr>\n",
       "    <tr>\n",
       "      <th>7</th>\n",
       "      <td>3962</td>\n",
       "      <td>2002</td>\n",
       "      <td>52.0</td>\n",
       "    </tr>\n",
       "    <tr>\n",
       "      <th>8</th>\n",
       "      <td>3962</td>\n",
       "      <td>2003</td>\n",
       "      <td>52.0</td>\n",
       "    </tr>\n",
       "    <tr>\n",
       "      <th>9</th>\n",
       "      <td>3962</td>\n",
       "      <td>2004</td>\n",
       "      <td>52.0</td>\n",
       "    </tr>\n",
       "  </tbody>\n",
       "</table>\n",
       "</div>"
      ],
      "text/plain": [
       "   originalid  year  weeksworked\n",
       "0        8245  2000         46.0\n",
       "1        8245  2001         52.0\n",
       "2        8245  2002         52.0\n",
       "3        8245  2003         48.0\n",
       "4        8245  2004         52.0\n",
       "5        3962  2000          5.0\n",
       "6        3962  2001         49.0\n",
       "7        3962  2002         52.0\n",
       "8        3962  2003         52.0\n",
       "9        3962  2004         52.0"
      ]
     },
     "execution_count": 13,
     "metadata": {},
     "output_type": "execute_result"
    }
   ],
   "source": [
    "weeksworked.head(10)"
   ]
  },
  {
   "cell_type": "code",
   "execution_count": 14,
   "id": "rocky-diabetes",
   "metadata": {},
   "outputs": [
    {
     "data": {
      "text/plain": [
       "(44920, 3)"
      ]
     },
     "execution_count": 14,
     "metadata": {},
     "output_type": "execute_result"
    }
   ],
   "source": [
    "weeksworked.shape"
   ]
  },
  {
   "cell_type": "markdown",
   "id": "moderate-union",
   "metadata": {},
   "source": [
    "# Alternatively, use melt to transform the data from wide to long"
   ]
  },
  {
   "cell_type": "code",
   "execution_count": 15,
   "id": "short-pottery",
   "metadata": {},
   "outputs": [],
   "source": [
    "weeksworked = nls97.reset_index().loc[:,\n",
    "                                      ['originalid'] + weeksworkedcols].melt(\n",
    "                                          id_vars=['originalid'],\n",
    "                                          value_vars=weeksworkedcols,\n",
    "                                          var_name='year',\n",
    "                                          value_name='weeksworked')"
   ]
  },
  {
   "cell_type": "code",
   "execution_count": 16,
   "id": "orange-poverty",
   "metadata": {},
   "outputs": [],
   "source": [
    "weeksworked['year'] = weeksworked.year.str[-2:].astype(int) + 2000"
   ]
  },
  {
   "cell_type": "code",
   "execution_count": 17,
   "id": "three-whole",
   "metadata": {},
   "outputs": [],
   "source": [
    "weeksworked.set_index(['originalid'], inplace=True)"
   ]
  },
  {
   "cell_type": "code",
   "execution_count": 18,
   "id": "olive-survey",
   "metadata": {},
   "outputs": [
    {
     "data": {
      "text/html": [
       "<div>\n",
       "<style scoped>\n",
       "    .dataframe tbody tr th:only-of-type {\n",
       "        vertical-align: middle;\n",
       "    }\n",
       "\n",
       "    .dataframe tbody tr th {\n",
       "        vertical-align: top;\n",
       "    }\n",
       "\n",
       "    .dataframe thead th {\n",
       "        text-align: right;\n",
       "    }\n",
       "</style>\n",
       "<table border=\"1\" class=\"dataframe\">\n",
       "  <thead>\n",
       "    <tr style=\"text-align: right;\">\n",
       "      <th></th>\n",
       "      <th>year</th>\n",
       "      <th>weeksworked</th>\n",
       "    </tr>\n",
       "    <tr>\n",
       "      <th>originalid</th>\n",
       "      <th></th>\n",
       "      <th></th>\n",
       "    </tr>\n",
       "  </thead>\n",
       "  <tbody>\n",
       "    <tr>\n",
       "      <th>8245</th>\n",
       "      <td>2000</td>\n",
       "      <td>46.0</td>\n",
       "    </tr>\n",
       "    <tr>\n",
       "      <th>8245</th>\n",
       "      <td>2001</td>\n",
       "      <td>52.0</td>\n",
       "    </tr>\n",
       "    <tr>\n",
       "      <th>8245</th>\n",
       "      <td>2002</td>\n",
       "      <td>52.0</td>\n",
       "    </tr>\n",
       "    <tr>\n",
       "      <th>8245</th>\n",
       "      <td>2003</td>\n",
       "      <td>48.0</td>\n",
       "    </tr>\n",
       "    <tr>\n",
       "      <th>8245</th>\n",
       "      <td>2004</td>\n",
       "      <td>52.0</td>\n",
       "    </tr>\n",
       "    <tr>\n",
       "      <th>3962</th>\n",
       "      <td>2000</td>\n",
       "      <td>5.0</td>\n",
       "    </tr>\n",
       "    <tr>\n",
       "      <th>3962</th>\n",
       "      <td>2001</td>\n",
       "      <td>49.0</td>\n",
       "    </tr>\n",
       "    <tr>\n",
       "      <th>3962</th>\n",
       "      <td>2002</td>\n",
       "      <td>52.0</td>\n",
       "    </tr>\n",
       "    <tr>\n",
       "      <th>3962</th>\n",
       "      <td>2003</td>\n",
       "      <td>52.0</td>\n",
       "    </tr>\n",
       "    <tr>\n",
       "      <th>3962</th>\n",
       "      <td>2004</td>\n",
       "      <td>52.0</td>\n",
       "    </tr>\n",
       "  </tbody>\n",
       "</table>\n",
       "</div>"
      ],
      "text/plain": [
       "            year  weeksworked\n",
       "originalid                   \n",
       "8245        2000         46.0\n",
       "8245        2001         52.0\n",
       "8245        2002         52.0\n",
       "8245        2003         48.0\n",
       "8245        2004         52.0\n",
       "3962        2000          5.0\n",
       "3962        2001         49.0\n",
       "3962        2002         52.0\n",
       "3962        2003         52.0\n",
       "3962        2004         52.0"
      ]
     },
     "execution_count": 18,
     "metadata": {},
     "output_type": "execute_result"
    }
   ],
   "source": [
    "weeksworked.loc[[8245, 3962]]"
   ]
  },
  {
   "cell_type": "markdown",
   "id": "smart-purchase",
   "metadata": {},
   "source": [
    "# Reshape the college enrollment columns with melt."
   ]
  },
  {
   "cell_type": "code",
   "execution_count": 19,
   "id": "retained-demonstration",
   "metadata": {},
   "outputs": [],
   "source": [
    "colenrcols = [\n",
    "    'colenroct00', 'colenroct01', 'colenroct02', 'colenroct03', 'colenroct04'\n",
    "]"
   ]
  },
  {
   "cell_type": "code",
   "execution_count": 22,
   "id": "ceramic-lying",
   "metadata": {},
   "outputs": [],
   "source": [
    "colenr = nls97.reset_index().loc[:, ['originalid'] + colenrcols].melt(\n",
    "    id_vars=['originalid'],\n",
    "    value_vars=colenrcols,\n",
    "    var_name='year',\n",
    "    value_name='colenr')"
   ]
  },
  {
   "cell_type": "code",
   "execution_count": 23,
   "id": "wicked-sector",
   "metadata": {},
   "outputs": [],
   "source": [
    "colenr['year'] = colenr.year.str[-2:].astype(int) + 2000"
   ]
  },
  {
   "cell_type": "code",
   "execution_count": 24,
   "id": "caroline-president",
   "metadata": {},
   "outputs": [],
   "source": [
    "colenr.set_index(['originalid'], inplace=True)"
   ]
  },
  {
   "cell_type": "code",
   "execution_count": 25,
   "id": "described-ceiling",
   "metadata": {},
   "outputs": [
    {
     "data": {
      "text/html": [
       "<div>\n",
       "<style scoped>\n",
       "    .dataframe tbody tr th:only-of-type {\n",
       "        vertical-align: middle;\n",
       "    }\n",
       "\n",
       "    .dataframe tbody tr th {\n",
       "        vertical-align: top;\n",
       "    }\n",
       "\n",
       "    .dataframe thead th {\n",
       "        text-align: right;\n",
       "    }\n",
       "</style>\n",
       "<table border=\"1\" class=\"dataframe\">\n",
       "  <thead>\n",
       "    <tr style=\"text-align: right;\">\n",
       "      <th></th>\n",
       "      <th>year</th>\n",
       "      <th>colenr</th>\n",
       "    </tr>\n",
       "    <tr>\n",
       "      <th>originalid</th>\n",
       "      <th></th>\n",
       "      <th></th>\n",
       "    </tr>\n",
       "  </thead>\n",
       "  <tbody>\n",
       "    <tr>\n",
       "      <th>8245</th>\n",
       "      <td>2000</td>\n",
       "      <td>1. Not enrolled</td>\n",
       "    </tr>\n",
       "    <tr>\n",
       "      <th>8245</th>\n",
       "      <td>2001</td>\n",
       "      <td>1. Not enrolled</td>\n",
       "    </tr>\n",
       "    <tr>\n",
       "      <th>8245</th>\n",
       "      <td>2002</td>\n",
       "      <td>1. Not enrolled</td>\n",
       "    </tr>\n",
       "    <tr>\n",
       "      <th>8245</th>\n",
       "      <td>2003</td>\n",
       "      <td>1. Not enrolled</td>\n",
       "    </tr>\n",
       "    <tr>\n",
       "      <th>8245</th>\n",
       "      <td>2004</td>\n",
       "      <td>1. Not enrolled</td>\n",
       "    </tr>\n",
       "    <tr>\n",
       "      <th>3962</th>\n",
       "      <td>2000</td>\n",
       "      <td>1. Not enrolled</td>\n",
       "    </tr>\n",
       "    <tr>\n",
       "      <th>3962</th>\n",
       "      <td>2001</td>\n",
       "      <td>1. Not enrolled</td>\n",
       "    </tr>\n",
       "    <tr>\n",
       "      <th>3962</th>\n",
       "      <td>2002</td>\n",
       "      <td>1. Not enrolled</td>\n",
       "    </tr>\n",
       "    <tr>\n",
       "      <th>3962</th>\n",
       "      <td>2003</td>\n",
       "      <td>1. Not enrolled</td>\n",
       "    </tr>\n",
       "    <tr>\n",
       "      <th>3962</th>\n",
       "      <td>2004</td>\n",
       "      <td>1. Not enrolled</td>\n",
       "    </tr>\n",
       "  </tbody>\n",
       "</table>\n",
       "</div>"
      ],
      "text/plain": [
       "            year           colenr\n",
       "originalid                       \n",
       "8245        2000  1. Not enrolled\n",
       "8245        2001  1. Not enrolled\n",
       "8245        2002  1. Not enrolled\n",
       "8245        2003  1. Not enrolled\n",
       "8245        2004  1. Not enrolled\n",
       "3962        2000  1. Not enrolled\n",
       "3962        2001  1. Not enrolled\n",
       "3962        2002  1. Not enrolled\n",
       "3962        2003  1. Not enrolled\n",
       "3962        2004  1. Not enrolled"
      ]
     },
     "execution_count": 25,
     "metadata": {},
     "output_type": "execute_result"
    }
   ],
   "source": [
    "colenr.loc[[8245, 3962]]"
   ]
  },
  {
   "cell_type": "markdown",
   "id": "senior-judgment",
   "metadata": {},
   "source": [
    "# Merge the weeks worked and college enrollment data"
   ]
  },
  {
   "cell_type": "code",
   "execution_count": 26,
   "id": "eight-vampire",
   "metadata": {},
   "outputs": [],
   "source": [
    "workschool = pd.merge(weeksworked,\n",
    "                      colenr,\n",
    "                      on=['originalid', 'year'],\n",
    "                      how='inner')"
   ]
  },
  {
   "cell_type": "code",
   "execution_count": 27,
   "id": "temporal-bulgaria",
   "metadata": {},
   "outputs": [
    {
     "data": {
      "text/plain": [
       "(44920, 3)"
      ]
     },
     "execution_count": 27,
     "metadata": {},
     "output_type": "execute_result"
    }
   ],
   "source": [
    "workschool.shape"
   ]
  },
  {
   "cell_type": "code",
   "execution_count": 28,
   "id": "married-momentum",
   "metadata": {},
   "outputs": [
    {
     "data": {
      "text/html": [
       "<div>\n",
       "<style scoped>\n",
       "    .dataframe tbody tr th:only-of-type {\n",
       "        vertical-align: middle;\n",
       "    }\n",
       "\n",
       "    .dataframe tbody tr th {\n",
       "        vertical-align: top;\n",
       "    }\n",
       "\n",
       "    .dataframe thead th {\n",
       "        text-align: right;\n",
       "    }\n",
       "</style>\n",
       "<table border=\"1\" class=\"dataframe\">\n",
       "  <thead>\n",
       "    <tr style=\"text-align: right;\">\n",
       "      <th></th>\n",
       "      <th>year</th>\n",
       "      <th>weeksworked</th>\n",
       "      <th>colenr</th>\n",
       "    </tr>\n",
       "    <tr>\n",
       "      <th>originalid</th>\n",
       "      <th></th>\n",
       "      <th></th>\n",
       "      <th></th>\n",
       "    </tr>\n",
       "  </thead>\n",
       "  <tbody>\n",
       "    <tr>\n",
       "      <th>8245</th>\n",
       "      <td>2000</td>\n",
       "      <td>46.0</td>\n",
       "      <td>1. Not enrolled</td>\n",
       "    </tr>\n",
       "    <tr>\n",
       "      <th>8245</th>\n",
       "      <td>2001</td>\n",
       "      <td>52.0</td>\n",
       "      <td>1. Not enrolled</td>\n",
       "    </tr>\n",
       "    <tr>\n",
       "      <th>8245</th>\n",
       "      <td>2002</td>\n",
       "      <td>52.0</td>\n",
       "      <td>1. Not enrolled</td>\n",
       "    </tr>\n",
       "    <tr>\n",
       "      <th>8245</th>\n",
       "      <td>2003</td>\n",
       "      <td>48.0</td>\n",
       "      <td>1. Not enrolled</td>\n",
       "    </tr>\n",
       "    <tr>\n",
       "      <th>8245</th>\n",
       "      <td>2004</td>\n",
       "      <td>52.0</td>\n",
       "      <td>1. Not enrolled</td>\n",
       "    </tr>\n",
       "    <tr>\n",
       "      <th>3962</th>\n",
       "      <td>2000</td>\n",
       "      <td>5.0</td>\n",
       "      <td>1. Not enrolled</td>\n",
       "    </tr>\n",
       "    <tr>\n",
       "      <th>3962</th>\n",
       "      <td>2001</td>\n",
       "      <td>49.0</td>\n",
       "      <td>1. Not enrolled</td>\n",
       "    </tr>\n",
       "    <tr>\n",
       "      <th>3962</th>\n",
       "      <td>2002</td>\n",
       "      <td>52.0</td>\n",
       "      <td>1. Not enrolled</td>\n",
       "    </tr>\n",
       "    <tr>\n",
       "      <th>3962</th>\n",
       "      <td>2003</td>\n",
       "      <td>52.0</td>\n",
       "      <td>1. Not enrolled</td>\n",
       "    </tr>\n",
       "    <tr>\n",
       "      <th>3962</th>\n",
       "      <td>2004</td>\n",
       "      <td>52.0</td>\n",
       "      <td>1. Not enrolled</td>\n",
       "    </tr>\n",
       "  </tbody>\n",
       "</table>\n",
       "</div>"
      ],
      "text/plain": [
       "            year  weeksworked           colenr\n",
       "originalid                                    \n",
       "8245        2000         46.0  1. Not enrolled\n",
       "8245        2001         52.0  1. Not enrolled\n",
       "8245        2002         52.0  1. Not enrolled\n",
       "8245        2003         48.0  1. Not enrolled\n",
       "8245        2004         52.0  1. Not enrolled\n",
       "3962        2000          5.0  1. Not enrolled\n",
       "3962        2001         49.0  1. Not enrolled\n",
       "3962        2002         52.0  1. Not enrolled\n",
       "3962        2003         52.0  1. Not enrolled\n",
       "3962        2004         52.0  1. Not enrolled"
      ]
     },
     "execution_count": 28,
     "metadata": {},
     "output_type": "execute_result"
    }
   ],
   "source": [
    "workschool.loc[[8245, 3962]]"
   ]
  },
  {
   "cell_type": "code",
   "execution_count": null,
   "id": "directed-oliver",
   "metadata": {},
   "outputs": [],
   "source": []
  }
 ],
 "metadata": {
  "kernelspec": {
   "display_name": "Python 3",
   "language": "python",
   "name": "python3"
  },
  "language_info": {
   "codemirror_mode": {
    "name": "ipython",
    "version": 3
   },
   "file_extension": ".py",
   "mimetype": "text/x-python",
   "name": "python",
   "nbconvert_exporter": "python",
   "pygments_lexer": "ipython3",
   "version": "3.7.9"
  },
  "toc": {
   "base_numbering": 1,
   "nav_menu": {},
   "number_sections": true,
   "sideBar": true,
   "skip_h1_title": false,
   "title_cell": "Table of Contents",
   "title_sidebar": "Contents",
   "toc_cell": true,
   "toc_position": {},
   "toc_section_display": true,
   "toc_window_display": false
  }
 },
 "nbformat": 4,
 "nbformat_minor": 5
}
