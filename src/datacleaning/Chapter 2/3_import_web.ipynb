{
 "cells": [
  {
   "cell_type": "markdown",
   "id": "environmental-costs",
   "metadata": {
    "toc": true
   },
   "source": [
    "<h1>Table of Contents<span class=\"tocSkip\"></span></h1>\n",
    "<div class=\"toc\"><ul class=\"toc-item\"><li><span><a href=\"#Import-the-pprint,-requests,-and-BeautifulSoup-libraries\" data-toc-modified-id=\"Import-the-pprint,-requests,-and-BeautifulSoup-libraries-1\"><span class=\"toc-item-num\">1&nbsp;&nbsp;</span>Import the pprint, requests, and BeautifulSoup libraries</a></span></li><li><span><a href=\"#Parse-the-web-page-and-get-the-header-row-of-the-table\" data-toc-modified-id=\"Parse-the-web-page-and-get-the-header-row-of-the-table-2\"><span class=\"toc-item-num\">2&nbsp;&nbsp;</span>Parse the web page and get the header row of the table</a></span></li><li><span><a href=\"#Get-the-data-from-the-table-cells\" data-toc-modified-id=\"Get-the-data-from-the-table-cells-3\"><span class=\"toc-item-num\">3&nbsp;&nbsp;</span>Get the data from the table cells</a></span></li><li><span><a href=\"#Load-the-data-into-pandas\" data-toc-modified-id=\"Load-the-data-into-pandas-4\"><span class=\"toc-item-num\">4&nbsp;&nbsp;</span>Load the data into pandas</a></span></li><li><span><a href=\"#Fix-the-column-names-and-convert-the-data-to-numeric-values\" data-toc-modified-id=\"Fix-the-column-names-and-convert-the-data-to-numeric-values-5\"><span class=\"toc-item-num\">5&nbsp;&nbsp;</span>Fix the column names and convert the data to numeric values</a></span></li></ul></div>"
   ]
  },
  {
   "cell_type": "markdown",
   "id": "macro-cancellation",
   "metadata": {},
   "source": [
    "# Import the pprint, requests, and BeautifulSoup libraries"
   ]
  },
  {
   "cell_type": "code",
   "execution_count": 1,
   "id": "royal-behalf",
   "metadata": {},
   "outputs": [],
   "source": [
    "# import pandas, numpy, json, pprint, and requests\n",
    "import pandas as pd\n",
    "import numpy as np\n",
    "import json\n",
    "import pprint\n",
    "import requests\n",
    "from bs4 import BeautifulSoup"
   ]
  },
  {
   "cell_type": "code",
   "execution_count": 2,
   "id": "hidden-directive",
   "metadata": {},
   "outputs": [],
   "source": [
    "# pd.set_option('display.width', 80)\n",
    "# pd.set_option('display.max_columns',6)"
   ]
  },
  {
   "cell_type": "markdown",
   "id": "entire-murder",
   "metadata": {},
   "source": [
    "# Parse the web page and get the header row of the table"
   ]
  },
  {
   "cell_type": "code",
   "execution_count": 3,
   "id": "chubby-grass",
   "metadata": {},
   "outputs": [],
   "source": [
    "webpage = requests.get(\n",
    "    'http://www.alrb.org/datacleaning/covidcaseoutliers.html')"
   ]
  },
  {
   "cell_type": "code",
   "execution_count": 4,
   "id": "communist-terrain",
   "metadata": {},
   "outputs": [],
   "source": [
    "soup = BeautifulSoup(webpage.text, 'html.parser')"
   ]
  },
  {
   "cell_type": "code",
   "execution_count": 5,
   "id": "settled-association",
   "metadata": {},
   "outputs": [],
   "source": [
    "theadrows = soup.find('table', {'id': 'tblDeaths'}).thead.find_all('th')"
   ]
  },
  {
   "cell_type": "code",
   "execution_count": 6,
   "id": "conservative-shooting",
   "metadata": {},
   "outputs": [
    {
     "data": {
      "text/plain": [
       "bs4.element.ResultSet"
      ]
     },
     "execution_count": 6,
     "metadata": {},
     "output_type": "execute_result"
    }
   ],
   "source": [
    "type(theadrows)"
   ]
  },
  {
   "cell_type": "code",
   "execution_count": 8,
   "id": "chicken-trance",
   "metadata": {},
   "outputs": [],
   "source": [
    "labelcols = [j.get_text() for j in theadrows]"
   ]
  },
  {
   "cell_type": "code",
   "execution_count": 9,
   "id": "enhanced-poland",
   "metadata": {},
   "outputs": [
    {
     "data": {
      "text/plain": [
       "'Country'"
      ]
     },
     "execution_count": 9,
     "metadata": {},
     "output_type": "execute_result"
    }
   ],
   "source": [
    "labelcols[0]"
   ]
  },
  {
   "cell_type": "code",
   "execution_count": 10,
   "id": "timely-reading",
   "metadata": {},
   "outputs": [],
   "source": [
    "labelcols[0] = 'rowheadings'"
   ]
  },
  {
   "cell_type": "code",
   "execution_count": 11,
   "id": "automated-display",
   "metadata": {},
   "outputs": [
    {
     "data": {
      "text/plain": [
       "['rowheadings',\n",
       " 'Cases',\n",
       " 'Deaths',\n",
       " 'Cases per Million',\n",
       " 'Deaths per Million',\n",
       " 'population',\n",
       " 'population_density',\n",
       " 'median_age',\n",
       " 'gdp_per_capita',\n",
       " 'hospital_beds_per_100k']"
      ]
     },
     "execution_count": 11,
     "metadata": {},
     "output_type": "execute_result"
    }
   ],
   "source": [
    "labelcols"
   ]
  },
  {
   "cell_type": "markdown",
   "id": "reported-miniature",
   "metadata": {},
   "source": [
    "# Get the data from the table cells"
   ]
  },
  {
   "cell_type": "code",
   "execution_count": 12,
   "id": "chronic-supervision",
   "metadata": {},
   "outputs": [],
   "source": [
    "rows = soup.find('table', {'id': 'tblDeaths'}).tbody.find_all('tr')"
   ]
  },
  {
   "cell_type": "code",
   "execution_count": 13,
   "id": "mediterranean-holder",
   "metadata": {},
   "outputs": [],
   "source": [
    "datarows = []"
   ]
  },
  {
   "cell_type": "code",
   "execution_count": 14,
   "id": "complete-bleeding",
   "metadata": {},
   "outputs": [],
   "source": [
    "labelrows = []"
   ]
  },
  {
   "cell_type": "code",
   "execution_count": 15,
   "id": "capital-automation",
   "metadata": {},
   "outputs": [],
   "source": [
    "for row in rows:\n",
    "    rowlabels = row.find('th').get_text()\n",
    "    cells = row.find_all('td', {'class': 'data'})\n",
    "    if (len(rowlabels) > 3):\n",
    "        labelrows.append(rowlabels)\n",
    "    if (len(cells) > 0):\n",
    "        cellvalues = [j.get_text() for j in cells]\n",
    "        datarows.append(cellvalues)"
   ]
  },
  {
   "cell_type": "code",
   "execution_count": 16,
   "id": "enabling-sample",
   "metadata": {},
   "outputs": [
    {
     "name": "stdout",
     "output_type": "stream",
     "text": [
      "[['9,394', '653', '214', '15', '43,851,043', '17', '29', '13,914', '1.9'],\n",
      " ['16,642', '668', '1848', '74', '9,006,400', '107', '44', '45,437', '7.4']]\n"
     ]
    }
   ],
   "source": [
    "pprint.pprint(datarows[0:2])"
   ]
  },
  {
   "cell_type": "code",
   "execution_count": 17,
   "id": "empirical-austin",
   "metadata": {},
   "outputs": [
    {
     "name": "stdout",
     "output_type": "stream",
     "text": [
      "['Algeria', 'Austria']\n"
     ]
    }
   ],
   "source": [
    "pprint.pprint(labelrows[0:2])"
   ]
  },
  {
   "cell_type": "code",
   "execution_count": 18,
   "id": "beneficial-particle",
   "metadata": {},
   "outputs": [],
   "source": [
    "for i in range(len(datarows)):\n",
    "    datarows[i].insert(0, labelrows[i])"
   ]
  },
  {
   "cell_type": "markdown",
   "id": "photographic-crisis",
   "metadata": {},
   "source": [
    "# Load the data into pandas"
   ]
  },
  {
   "cell_type": "code",
   "execution_count": 19,
   "id": "fresh-broadway",
   "metadata": {},
   "outputs": [],
   "source": [
    "totaldeaths = pd.DataFrame(datarows, columns=labelcols)"
   ]
  },
  {
   "cell_type": "code",
   "execution_count": 20,
   "id": "featured-occupation",
   "metadata": {},
   "outputs": [
    {
     "data": {
      "text/html": [
       "<div>\n",
       "<style scoped>\n",
       "    .dataframe tbody tr th:only-of-type {\n",
       "        vertical-align: middle;\n",
       "    }\n",
       "\n",
       "    .dataframe tbody tr th {\n",
       "        vertical-align: top;\n",
       "    }\n",
       "\n",
       "    .dataframe thead th {\n",
       "        text-align: right;\n",
       "    }\n",
       "</style>\n",
       "<table border=\"1\" class=\"dataframe\">\n",
       "  <thead>\n",
       "    <tr style=\"text-align: right;\">\n",
       "      <th></th>\n",
       "      <th>rowheadings</th>\n",
       "      <th>Cases</th>\n",
       "      <th>Deaths</th>\n",
       "      <th>Cases per Million</th>\n",
       "      <th>Deaths per Million</th>\n",
       "      <th>population</th>\n",
       "      <th>population_density</th>\n",
       "      <th>median_age</th>\n",
       "      <th>gdp_per_capita</th>\n",
       "      <th>hospital_beds_per_100k</th>\n",
       "    </tr>\n",
       "  </thead>\n",
       "  <tbody>\n",
       "    <tr>\n",
       "      <th>0</th>\n",
       "      <td>Algeria</td>\n",
       "      <td>9,394</td>\n",
       "      <td>653</td>\n",
       "      <td>214</td>\n",
       "      <td>15</td>\n",
       "      <td>43,851,043</td>\n",
       "      <td>17</td>\n",
       "      <td>29</td>\n",
       "      <td>13,914</td>\n",
       "      <td>1.9</td>\n",
       "    </tr>\n",
       "    <tr>\n",
       "      <th>1</th>\n",
       "      <td>Austria</td>\n",
       "      <td>16,642</td>\n",
       "      <td>668</td>\n",
       "      <td>1848</td>\n",
       "      <td>74</td>\n",
       "      <td>9,006,400</td>\n",
       "      <td>107</td>\n",
       "      <td>44</td>\n",
       "      <td>45,437</td>\n",
       "      <td>7.4</td>\n",
       "    </tr>\n",
       "    <tr>\n",
       "      <th>2</th>\n",
       "      <td>Bangladesh</td>\n",
       "      <td>47,153</td>\n",
       "      <td>650</td>\n",
       "      <td>286</td>\n",
       "      <td>4</td>\n",
       "      <td>164,689,383</td>\n",
       "      <td>1265</td>\n",
       "      <td>28</td>\n",
       "      <td>3,524</td>\n",
       "      <td>0.8</td>\n",
       "    </tr>\n",
       "    <tr>\n",
       "      <th>3</th>\n",
       "      <td>Belgium</td>\n",
       "      <td>58,381</td>\n",
       "      <td>9467</td>\n",
       "      <td>5037</td>\n",
       "      <td>817</td>\n",
       "      <td>11,589,616</td>\n",
       "      <td>376</td>\n",
       "      <td>42</td>\n",
       "      <td>42,659</td>\n",
       "      <td>5.6</td>\n",
       "    </tr>\n",
       "    <tr>\n",
       "      <th>4</th>\n",
       "      <td>Brazil</td>\n",
       "      <td>514,849</td>\n",
       "      <td>29314</td>\n",
       "      <td>2422</td>\n",
       "      <td>138</td>\n",
       "      <td>212,559,409</td>\n",
       "      <td>25</td>\n",
       "      <td>34</td>\n",
       "      <td>14,103</td>\n",
       "      <td>2.2</td>\n",
       "    </tr>\n",
       "  </tbody>\n",
       "</table>\n",
       "</div>"
      ],
      "text/plain": [
       "  rowheadings    Cases Deaths Cases per Million Deaths per Million  \\\n",
       "0     Algeria    9,394    653               214                 15   \n",
       "1     Austria   16,642    668              1848                 74   \n",
       "2  Bangladesh   47,153    650               286                  4   \n",
       "3     Belgium   58,381   9467              5037                817   \n",
       "4      Brazil  514,849  29314              2422                138   \n",
       "\n",
       "    population population_density median_age gdp_per_capita  \\\n",
       "0   43,851,043                 17         29         13,914   \n",
       "1    9,006,400                107         44         45,437   \n",
       "2  164,689,383               1265         28          3,524   \n",
       "3   11,589,616                376         42         42,659   \n",
       "4  212,559,409                 25         34         14,103   \n",
       "\n",
       "  hospital_beds_per_100k  \n",
       "0                    1.9  \n",
       "1                    7.4  \n",
       "2                    0.8  \n",
       "3                    5.6  \n",
       "4                    2.2  "
      ]
     },
     "execution_count": 20,
     "metadata": {},
     "output_type": "execute_result"
    }
   ],
   "source": [
    "totaldeaths.head()"
   ]
  },
  {
   "cell_type": "code",
   "execution_count": 21,
   "id": "joined-advertising",
   "metadata": {},
   "outputs": [
    {
     "data": {
      "text/plain": [
       "rowheadings               object\n",
       "Cases                     object\n",
       "Deaths                    object\n",
       "Cases per Million         object\n",
       "Deaths per Million        object\n",
       "population                object\n",
       "population_density        object\n",
       "median_age                object\n",
       "gdp_per_capita            object\n",
       "hospital_beds_per_100k    object\n",
       "dtype: object"
      ]
     },
     "execution_count": 21,
     "metadata": {},
     "output_type": "execute_result"
    }
   ],
   "source": [
    "totaldeaths.dtypes"
   ]
  },
  {
   "cell_type": "markdown",
   "id": "animal-vietnam",
   "metadata": {},
   "source": [
    "# Fix the column names and convert the data to numeric values"
   ]
  },
  {
   "cell_type": "code",
   "execution_count": 22,
   "id": "fifth-carroll",
   "metadata": {},
   "outputs": [],
   "source": [
    "totaldeaths.columns = totaldeaths.columns.str.replace(' ', '_').str.lower()"
   ]
  },
  {
   "cell_type": "code",
   "execution_count": 23,
   "id": "indian-development",
   "metadata": {},
   "outputs": [
    {
     "name": "stderr",
     "output_type": "stream",
     "text": [
      "D:\\ProgramData\\Anaconda3\\envs\\dsn\\lib\\site-packages\\ipykernel_launcher.py:2: FutureWarning: The default value of regex will change from True to False in a future version.\n",
      "  \n"
     ]
    }
   ],
   "source": [
    "# col[1:-1] - Column - 'cases' to 'gdp_per_capita'\n",
    "for col in totaldeaths.columns[1:-1]:\n",
    "    totaldeaths[col] = totaldeaths[col].str.replace('[^0-9]',\n",
    "                                                    '').astype('int64')"
   ]
  },
  {
   "cell_type": "code",
   "execution_count": 24,
   "id": "satellite-organ",
   "metadata": {},
   "outputs": [],
   "source": [
    "totaldeaths['hospital_beds_per_100k'] = totaldeaths[\n",
    "    'hospital_beds_per_100k'].astype('float')"
   ]
  },
  {
   "cell_type": "code",
   "execution_count": 25,
   "id": "duplicate-sunset",
   "metadata": {},
   "outputs": [
    {
     "data": {
      "text/html": [
       "<div>\n",
       "<style scoped>\n",
       "    .dataframe tbody tr th:only-of-type {\n",
       "        vertical-align: middle;\n",
       "    }\n",
       "\n",
       "    .dataframe tbody tr th {\n",
       "        vertical-align: top;\n",
       "    }\n",
       "\n",
       "    .dataframe thead th {\n",
       "        text-align: right;\n",
       "    }\n",
       "</style>\n",
       "<table border=\"1\" class=\"dataframe\">\n",
       "  <thead>\n",
       "    <tr style=\"text-align: right;\">\n",
       "      <th></th>\n",
       "      <th>rowheadings</th>\n",
       "      <th>cases</th>\n",
       "      <th>deaths</th>\n",
       "      <th>cases_per_million</th>\n",
       "      <th>deaths_per_million</th>\n",
       "      <th>population</th>\n",
       "      <th>population_density</th>\n",
       "      <th>median_age</th>\n",
       "      <th>gdp_per_capita</th>\n",
       "      <th>hospital_beds_per_100k</th>\n",
       "    </tr>\n",
       "  </thead>\n",
       "  <tbody>\n",
       "    <tr>\n",
       "      <th>0</th>\n",
       "      <td>Algeria</td>\n",
       "      <td>9394</td>\n",
       "      <td>653</td>\n",
       "      <td>214</td>\n",
       "      <td>15</td>\n",
       "      <td>43851043</td>\n",
       "      <td>17</td>\n",
       "      <td>29</td>\n",
       "      <td>13914</td>\n",
       "      <td>1.9</td>\n",
       "    </tr>\n",
       "    <tr>\n",
       "      <th>1</th>\n",
       "      <td>Austria</td>\n",
       "      <td>16642</td>\n",
       "      <td>668</td>\n",
       "      <td>1848</td>\n",
       "      <td>74</td>\n",
       "      <td>9006400</td>\n",
       "      <td>107</td>\n",
       "      <td>44</td>\n",
       "      <td>45437</td>\n",
       "      <td>7.4</td>\n",
       "    </tr>\n",
       "    <tr>\n",
       "      <th>2</th>\n",
       "      <td>Bangladesh</td>\n",
       "      <td>47153</td>\n",
       "      <td>650</td>\n",
       "      <td>286</td>\n",
       "      <td>4</td>\n",
       "      <td>164689383</td>\n",
       "      <td>1265</td>\n",
       "      <td>28</td>\n",
       "      <td>3524</td>\n",
       "      <td>0.8</td>\n",
       "    </tr>\n",
       "    <tr>\n",
       "      <th>3</th>\n",
       "      <td>Belgium</td>\n",
       "      <td>58381</td>\n",
       "      <td>9467</td>\n",
       "      <td>5037</td>\n",
       "      <td>817</td>\n",
       "      <td>11589616</td>\n",
       "      <td>376</td>\n",
       "      <td>42</td>\n",
       "      <td>42659</td>\n",
       "      <td>5.6</td>\n",
       "    </tr>\n",
       "    <tr>\n",
       "      <th>4</th>\n",
       "      <td>Brazil</td>\n",
       "      <td>514849</td>\n",
       "      <td>29314</td>\n",
       "      <td>2422</td>\n",
       "      <td>138</td>\n",
       "      <td>212559409</td>\n",
       "      <td>25</td>\n",
       "      <td>34</td>\n",
       "      <td>14103</td>\n",
       "      <td>2.2</td>\n",
       "    </tr>\n",
       "  </tbody>\n",
       "</table>\n",
       "</div>"
      ],
      "text/plain": [
       "  rowheadings   cases  deaths  cases_per_million  deaths_per_million  \\\n",
       "0     Algeria    9394     653                214                  15   \n",
       "1     Austria   16642     668               1848                  74   \n",
       "2  Bangladesh   47153     650                286                   4   \n",
       "3     Belgium   58381    9467               5037                 817   \n",
       "4      Brazil  514849   29314               2422                 138   \n",
       "\n",
       "   population  population_density  median_age  gdp_per_capita  \\\n",
       "0    43851043                  17          29           13914   \n",
       "1     9006400                 107          44           45437   \n",
       "2   164689383                1265          28            3524   \n",
       "3    11589616                 376          42           42659   \n",
       "4   212559409                  25          34           14103   \n",
       "\n",
       "   hospital_beds_per_100k  \n",
       "0                     1.9  \n",
       "1                     7.4  \n",
       "2                     0.8  \n",
       "3                     5.6  \n",
       "4                     2.2  "
      ]
     },
     "execution_count": 25,
     "metadata": {},
     "output_type": "execute_result"
    }
   ],
   "source": [
    "totaldeaths.head()"
   ]
  },
  {
   "cell_type": "code",
   "execution_count": 26,
   "id": "academic-handling",
   "metadata": {},
   "outputs": [
    {
     "data": {
      "text/plain": [
       "rowheadings                object\n",
       "cases                       int64\n",
       "deaths                      int64\n",
       "cases_per_million           int64\n",
       "deaths_per_million          int64\n",
       "population                  int64\n",
       "population_density          int64\n",
       "median_age                  int64\n",
       "gdp_per_capita              int64\n",
       "hospital_beds_per_100k    float64\n",
       "dtype: object"
      ]
     },
     "execution_count": 26,
     "metadata": {},
     "output_type": "execute_result"
    }
   ],
   "source": [
    "totaldeaths.dtypes"
   ]
  },
  {
   "cell_type": "code",
   "execution_count": null,
   "id": "genuine-locking",
   "metadata": {},
   "outputs": [],
   "source": []
  }
 ],
 "metadata": {
  "kernelspec": {
   "display_name": "Python 3",
   "language": "python",
   "name": "python3"
  },
  "language_info": {
   "codemirror_mode": {
    "name": "ipython",
    "version": 3
   },
   "file_extension": ".py",
   "mimetype": "text/x-python",
   "name": "python",
   "nbconvert_exporter": "python",
   "pygments_lexer": "ipython3",
   "version": "3.7.9"
  },
  "toc": {
   "base_numbering": 1,
   "nav_menu": {},
   "number_sections": true,
   "sideBar": true,
   "skip_h1_title": false,
   "title_cell": "Table of Contents",
   "title_sidebar": "Contents",
   "toc_cell": true,
   "toc_position": {},
   "toc_section_display": true,
   "toc_window_display": false
  }
 },
 "nbformat": 4,
 "nbformat_minor": 5
}
