{
 "cells": [
  {
   "cell_type": "markdown",
   "id": "effective-happening",
   "metadata": {
    "toc": true
   },
   "source": [
    "<h1>Table of Contents<span class=\"tocSkip\"></span></h1>\n",
    "<div class=\"toc\"><ul class=\"toc-item\"><li><span><a href=\"#Import-the-json-and-pprint-libraries\" data-toc-modified-id=\"Import-the-json-and-pprint-libraries-1\"><span class=\"toc-item-num\">1&nbsp;&nbsp;</span>Import the json and pprint libraries</a></span></li><li><span><a href=\"#Load-the-JSON-data-and-look-for-potential-issues\" data-toc-modified-id=\"Load-the-JSON-data-and-look-for-potential-issues-2\"><span class=\"toc-item-num\">2&nbsp;&nbsp;</span>Load the JSON data and look for potential issues</a></span></li><li><span><a href=\"#Check-for-differences-in-the-structure-of-the-dictionaries\" data-toc-modified-id=\"Check-for-differences-in-the-structure-of-the-dictionaries-3\"><span class=\"toc-item-num\">3&nbsp;&nbsp;</span>Check for differences in the structure of the dictionaries</a></span></li><li><span><a href=\"#Generate-counts-from-the-JSON-data\" data-toc-modified-id=\"Generate-counts-from-the-JSON-data-4\"><span class=\"toc-item-num\">4&nbsp;&nbsp;</span>Generate counts from the JSON data</a></span></li><li><span><a href=\"#Get-the-source-data-and-confirm-that-it-has-the-anticipated-length\" data-toc-modified-id=\"Get-the-source-data-and-confirm-that-it-has-the-anticipated-length-5\"><span class=\"toc-item-num\">5&nbsp;&nbsp;</span>Get the source data and confirm that it has the anticipated length</a></span></li><li><span><a href=\"#Fix-any-errors-in-the-values-in-the-dictionary\" data-toc-modified-id=\"Fix-any-errors-in-the-values-in-the-dictionary-6\"><span class=\"toc-item-num\">6&nbsp;&nbsp;</span>Fix any errors in the values in the dictionary</a></span></li><li><span><a href=\"#Create-a-pandas-DataFrame\" data-toc-modified-id=\"Create-a-pandas-DataFrame-7\"><span class=\"toc-item-num\">7&nbsp;&nbsp;</span>Create a pandas DataFrame</a></span></li><li><span><a href=\"#Confirm-that-we-are-getting-the-expected-values-for-source\" data-toc-modified-id=\"Confirm-that-we-are-getting-the-expected-values-for-source-8\"><span class=\"toc-item-num\">8&nbsp;&nbsp;</span>Confirm that we are getting the expected values for source</a></span></li></ul></div>"
   ]
  },
  {
   "cell_type": "markdown",
   "id": "finished-importance",
   "metadata": {},
   "source": [
    "# Import the json and pprint libraries"
   ]
  },
  {
   "cell_type": "code",
   "execution_count": 1,
   "id": "amateur-parker",
   "metadata": {},
   "outputs": [],
   "source": [
    "import pandas as pd\n",
    "import numpy as np\n",
    "import json\n",
    "import pprint\n",
    "from collections import Counter"
   ]
  },
  {
   "cell_type": "code",
   "execution_count": 4,
   "id": "worse-bruce",
   "metadata": {},
   "outputs": [
    {
     "name": "stdout",
     "output_type": "stream",
     "text": [
      "The watermark extension is already loaded. To reload it, use:\n",
      "  %reload_ext watermark\n",
      "Python implementation: CPython\n",
      "Python version       : 3.7.9\n",
      "IPython version      : 7.20.0\n",
      "\n",
      "numpy    : 1.19.2\n",
      "json     : 2.0.9\n",
      "pandas   : 1.2.1\n",
      "watermark: 2.1.0\n",
      "\n"
     ]
    }
   ],
   "source": [
    "import watermark\n",
    "\n",
    "%load_ext watermark\n",
    "%watermark -n -v -iv"
   ]
  },
  {
   "cell_type": "markdown",
   "id": "bound-dancing",
   "metadata": {},
   "source": [
    "# Load the JSON data and look for potential issues"
   ]
  },
  {
   "cell_type": "code",
   "execution_count": 5,
   "id": "demographic-national",
   "metadata": {},
   "outputs": [],
   "source": [
    "with open('data/allcandidatenewssample.json') as f:\n",
    "    candidatenews = json.load(f)"
   ]
  },
  {
   "cell_type": "code",
   "execution_count": 6,
   "id": "handmade-architecture",
   "metadata": {},
   "outputs": [
    {
     "data": {
      "text/plain": [
       "60000"
      ]
     },
     "execution_count": 6,
     "metadata": {},
     "output_type": "execute_result"
    }
   ],
   "source": [
    "len(candidatenews)"
   ]
  },
  {
   "cell_type": "code",
   "execution_count": 7,
   "id": "better-marble",
   "metadata": {},
   "outputs": [
    {
     "name": "stdout",
     "output_type": "stream",
     "text": [
      "[{'date': '2019-12-25 10:00:00',\n",
      "  'domain': 'www.nbcnews.com',\n",
      "  'panel_position': 1,\n",
      "  'query': 'Michael Bloomberg',\n",
      "  'source': 'NBC News',\n",
      "  'story_position': 6,\n",
      "  'time': '18 hours ago',\n",
      "  'title': 'Bloomberg cuts ties with company using prison inmates to make '\n",
      "           'campaign calls',\n",
      "  'url': 'https://www.nbcnews.com/politics/2020-election/bloomberg-cuts-ties-company-using-prison-inmates-make-campaign-calls-n1106971'},\n",
      " {'date': '2019-11-09 08:00:00',\n",
      "  'domain': 'www.townandcountrymag.com',\n",
      "  'panel_position': 1,\n",
      "  'query': 'Amy Klobuchar',\n",
      "  'source': 'Town & Country Magazine',\n",
      "  'story_position': 3,\n",
      "  'time': '18 hours ago',\n",
      "  'title': \"Democratic Candidates React to Michael Bloomberg's Potential Run\",\n",
      "  'url': 'https://www.townandcountrymag.com/society/politics/a29739854/michael-bloomberg-democratic-candidates-campaign-reactions/'}]\n"
     ]
    }
   ],
   "source": [
    "pprint.pprint(candidatenews[0:2])"
   ]
  },
  {
   "cell_type": "code",
   "execution_count": 8,
   "id": "unnecessary-production",
   "metadata": {},
   "outputs": [
    {
     "name": "stdout",
     "output_type": "stream",
     "text": [
      "'NBC News'\n"
     ]
    }
   ],
   "source": [
    "pprint.pprint(candidatenews[0]['source'])"
   ]
  },
  {
   "cell_type": "markdown",
   "id": "freelance-warrant",
   "metadata": {},
   "source": [
    "# Check for differences in the structure of the dictionaries"
   ]
  },
  {
   "cell_type": "code",
   "execution_count": 9,
   "id": "accepted-excitement",
   "metadata": {},
   "outputs": [
    {
     "data": {
      "text/plain": [
       "Counter({9: 57202, 2: 2382, 10: 416})"
      ]
     },
     "execution_count": 9,
     "metadata": {},
     "output_type": "execute_result"
    }
   ],
   "source": [
    "Counter([len(item) for item in candidatenews])"
   ]
  },
  {
   "cell_type": "code",
   "execution_count": 10,
   "id": "incorporate-absence",
   "metadata": {},
   "outputs": [
    {
     "name": "stdout",
     "output_type": "stream",
     "text": [
      "{'date': '2019-09-11 18:00:00', 'reason': 'Not collected'}\n"
     ]
    }
   ],
   "source": [
    "pprint.pprint(next(item for item in candidatenews if len(item) < 9))"
   ]
  },
  {
   "cell_type": "code",
   "execution_count": 11,
   "id": "federal-printing",
   "metadata": {},
   "outputs": [
    {
     "name": "stdout",
     "output_type": "stream",
     "text": [
      "<generator object <genexpr> at 0x0000024D4AC52948>\n"
     ]
    }
   ],
   "source": [
    "# checking the usage of next\n",
    "pprint.pprint((item for item in candidatenews if len(item) < 9))"
   ]
  },
  {
   "cell_type": "code",
   "execution_count": 13,
   "id": "small-yacht",
   "metadata": {},
   "outputs": [
    {
     "name": "stdout",
     "output_type": "stream",
     "text": [
      "{'category': 'Satire',\n",
      " 'date': '2019-08-21 04:00:00',\n",
      " 'domain': 'politics.theonion.com',\n",
      " 'panel_position': 1,\n",
      " 'query': 'John Hickenlooper',\n",
      " 'source': 'Politics | The Onion',\n",
      " 'story_position': 8,\n",
      " 'time': '4 days ago',\n",
      " 'title': '‘And Then There Were 23,’ Says Wayne Messam Crossing Out '\n",
      "          'Hickenlooper Photo \\n'\n",
      "          'In Elaborate Grid Of Rivals',\n",
      " 'url': 'https://politics.theonion.com/and-then-there-were-23-says-wayne-messam-crossing-ou-1837311060'}\n"
     ]
    }
   ],
   "source": [
    "pprint.pprint(next(item for item in candidatenews if len(item) > 9))"
   ]
  },
  {
   "cell_type": "code",
   "execution_count": 14,
   "id": "modern-mandate",
   "metadata": {},
   "outputs": [
    {
     "name": "stdout",
     "output_type": "stream",
     "text": [
      "[{'date': '2019-09-11 18:00:00', 'reason': 'Not collected'},\n",
      " {'date': '2019-07-24 00:00:00', 'reason': 'No Top stories'},\n",
      " {'date': '2019-08-19 20:00:00', 'reason': 'Not collected'},\n",
      " {'date': '2019-09-13 16:00:00', 'reason': 'Not collected'},\n",
      " {'date': '2019-10-16 20:00:00', 'reason': 'No Top stories'},\n",
      " {'date': '2019-10-17 18:00:00', 'reason': 'Not collected'},\n",
      " {'date': '2019-08-02 14:00:00', 'reason': 'Not collected'},\n",
      " {'date': '2019-05-27 12:00:00', 'reason': 'Not collected'},\n",
      " {'date': '2019-12-03 12:00:00', 'reason': 'No Top stories'},\n",
      " {'date': '2019-01-03 00:00:00', 'reason': 'No Top stories'}]\n"
     ]
    }
   ],
   "source": [
    "pprint.pprint([item for item in candidatenews if len(item) == 2][0:10])"
   ]
  },
  {
   "cell_type": "code",
   "execution_count": 15,
   "id": "above-preservation",
   "metadata": {},
   "outputs": [],
   "source": [
    "candidatenews = [item for item in candidatenews if len(item) > 2]"
   ]
  },
  {
   "cell_type": "code",
   "execution_count": 16,
   "id": "wound-scroll",
   "metadata": {},
   "outputs": [
    {
     "data": {
      "text/plain": [
       "57618"
      ]
     },
     "execution_count": 16,
     "metadata": {},
     "output_type": "execute_result"
    }
   ],
   "source": [
    "len(candidatenews)"
   ]
  },
  {
   "cell_type": "markdown",
   "id": "minus-majority",
   "metadata": {},
   "source": [
    "# Generate counts from the JSON data"
   ]
  },
  {
   "cell_type": "code",
   "execution_count": 17,
   "id": "missing-innocent",
   "metadata": {},
   "outputs": [],
   "source": [
    "politico = [item for item in candidatenews if item['source'] == \"Politico\"]"
   ]
  },
  {
   "cell_type": "code",
   "execution_count": 18,
   "id": "phantom-engineer",
   "metadata": {},
   "outputs": [
    {
     "data": {
      "text/plain": [
       "2732"
      ]
     },
     "execution_count": 18,
     "metadata": {},
     "output_type": "execute_result"
    }
   ],
   "source": [
    "len(politico)"
   ]
  },
  {
   "cell_type": "code",
   "execution_count": 19,
   "id": "foreign-perspective",
   "metadata": {},
   "outputs": [
    {
     "name": "stdout",
     "output_type": "stream",
     "text": [
      "[{'date': '2019-05-18 18:00:00',\n",
      "  'domain': 'www.politico.com',\n",
      "  'panel_position': 1,\n",
      "  'query': 'Marianne Williamson',\n",
      "  'source': 'Politico',\n",
      "  'story_position': 7,\n",
      "  'time': '1 week ago',\n",
      "  'title': 'Marianne Williamson reaches donor threshold for Dem debates',\n",
      "  'url': 'https://www.politico.com/story/2019/05/09/marianne-williamson-2020-election-1315133'},\n",
      " {'date': '2018-12-27 06:00:00',\n",
      "  'domain': 'www.politico.com',\n",
      "  'panel_position': 1,\n",
      "  'query': 'Julian Castro',\n",
      "  'source': 'Politico',\n",
      "  'story_position': 1,\n",
      "  'time': '1 hour ago',\n",
      "  'title': \"O'Rourke and Castro on collision course in Texas\",\n",
      "  'url': 'https://www.politico.com/story/2018/12/27/orourke-julian-castro-collision-texas-election-1073720'}]\n"
     ]
    }
   ],
   "source": [
    "pprint.pprint(politico[0:2])"
   ]
  },
  {
   "cell_type": "markdown",
   "id": "dedicated-reunion",
   "metadata": {},
   "source": [
    "# Get the source data and confirm that it has the anticipated length"
   ]
  },
  {
   "cell_type": "code",
   "execution_count": 20,
   "id": "generic-creator",
   "metadata": {},
   "outputs": [],
   "source": [
    "sources = [item.get('source') for item in candidatenews]"
   ]
  },
  {
   "cell_type": "code",
   "execution_count": 21,
   "id": "peaceful-nevada",
   "metadata": {},
   "outputs": [
    {
     "data": {
      "text/plain": [
       "list"
      ]
     },
     "execution_count": 21,
     "metadata": {},
     "output_type": "execute_result"
    }
   ],
   "source": [
    "type(sources)"
   ]
  },
  {
   "cell_type": "code",
   "execution_count": 22,
   "id": "quantitative-channel",
   "metadata": {},
   "outputs": [
    {
     "data": {
      "text/plain": [
       "57618"
      ]
     },
     "execution_count": 22,
     "metadata": {},
     "output_type": "execute_result"
    }
   ],
   "source": [
    "len(sources)"
   ]
  },
  {
   "cell_type": "code",
   "execution_count": 23,
   "id": "undefined-singles",
   "metadata": {},
   "outputs": [
    {
     "data": {
      "text/plain": [
       "['NBC News', 'Town & Country Magazine', 'TheHill', 'CNBC.com', 'Fox News']"
      ]
     },
     "execution_count": 23,
     "metadata": {},
     "output_type": "execute_result"
    }
   ],
   "source": [
    "sources[0:5]"
   ]
  },
  {
   "cell_type": "code",
   "execution_count": 24,
   "id": "municipal-kennedy",
   "metadata": {},
   "outputs": [
    {
     "name": "stdout",
     "output_type": "stream",
     "text": [
      "[('Fox News', 3530),\n",
      " ('CNN.com', 2750),\n",
      " ('Politico', 2732),\n",
      " ('TheHill', 2383),\n",
      " ('The New York Times', 1804),\n",
      " ('Washington Post', 1770),\n",
      " ('Washington Examiner', 1655),\n",
      " ('The Hill', 1342),\n",
      " ('New York Post', 1275),\n",
      " ('Vox', 941)]\n"
     ]
    }
   ],
   "source": [
    "pprint.pprint(Counter(sources).most_common(10))"
   ]
  },
  {
   "cell_type": "markdown",
   "id": "polyphonic-westminster",
   "metadata": {},
   "source": [
    "# Fix any errors in the values in the dictionary"
   ]
  },
  {
   "cell_type": "code",
   "execution_count": 26,
   "id": "behavioral-objective",
   "metadata": {},
   "outputs": [],
   "source": [
    "for newsdict in candidatenews:\n",
    "    newsdict.update((k, 'The Hill') for k, v in newsdict.items()\n",
    "                    if k == 'source' and v == 'TheHill')"
   ]
  },
  {
   "cell_type": "code",
   "execution_count": 27,
   "id": "interim-blame",
   "metadata": {},
   "outputs": [],
   "source": [
    "# Usage of  item.get('source') instead of item['source']. \n",
    "# This is handy when there might be missing keys in a dictionary. get returns None when the key\n",
    "# is missing, but we can use an optional second argument to specify a value to return.\n",
    "\n",
    "sources = [item.get('source') for item in candidatenews]"
   ]
  },
  {
   "cell_type": "code",
   "execution_count": 28,
   "id": "floating-trainer",
   "metadata": {},
   "outputs": [
    {
     "name": "stdout",
     "output_type": "stream",
     "text": [
      "[('The Hill', 3725),\n",
      " ('Fox News', 3530),\n",
      " ('CNN.com', 2750),\n",
      " ('Politico', 2732),\n",
      " ('The New York Times', 1804),\n",
      " ('Washington Post', 1770),\n",
      " ('Washington Examiner', 1655),\n",
      " ('New York Post', 1275),\n",
      " ('Vox', 941),\n",
      " ('Breitbart', 799)]\n"
     ]
    }
   ],
   "source": [
    "pprint.pprint(Counter(sources).most_common(10))"
   ]
  },
  {
   "cell_type": "markdown",
   "id": "missing-landscape",
   "metadata": {},
   "source": [
    "# Create a pandas DataFrame"
   ]
  },
  {
   "cell_type": "code",
   "execution_count": 29,
   "id": "outer-coffee",
   "metadata": {},
   "outputs": [],
   "source": [
    "candidatenewsdf = pd.DataFrame(candidatenews)"
   ]
  },
  {
   "cell_type": "code",
   "execution_count": 30,
   "id": "scenic-belly",
   "metadata": {},
   "outputs": [
    {
     "data": {
      "text/plain": [
       "title             object\n",
       "url               object\n",
       "source            object\n",
       "time              object\n",
       "date              object\n",
       "query             object\n",
       "story_position     int64\n",
       "panel_position    object\n",
       "domain            object\n",
       "category          object\n",
       "dtype: object"
      ]
     },
     "execution_count": 30,
     "metadata": {},
     "output_type": "execute_result"
    }
   ],
   "source": [
    "candidatenewsdf.dtypes"
   ]
  },
  {
   "cell_type": "markdown",
   "id": "hybrid-static",
   "metadata": {},
   "source": [
    "# Confirm that we are getting the expected values for source"
   ]
  },
  {
   "cell_type": "code",
   "execution_count": 31,
   "id": "uniform-hampshire",
   "metadata": {},
   "outputs": [],
   "source": [
    "candidatenewsdf.rename(columns={'date': 'storydate'}, inplace=True)"
   ]
  },
  {
   "cell_type": "code",
   "execution_count": 33,
   "id": "plain-extra",
   "metadata": {},
   "outputs": [],
   "source": [
    "candidatenewsdf['storydate'] = candidatenewsdf['storydate'].astype(\n",
    "    'datetime64[ns]')"
   ]
  },
  {
   "cell_type": "code",
   "execution_count": 34,
   "id": "single-remains",
   "metadata": {},
   "outputs": [
    {
     "data": {
      "text/plain": [
       "(57618, 10)"
      ]
     },
     "execution_count": 34,
     "metadata": {},
     "output_type": "execute_result"
    }
   ],
   "source": [
    "candidatenewsdf.shape"
   ]
  },
  {
   "cell_type": "code",
   "execution_count": 35,
   "id": "tribal-tiffany",
   "metadata": {},
   "outputs": [
    {
     "data": {
      "text/plain": [
       "The Hill               3725\n",
       "Fox News               3530\n",
       "CNN.com                2750\n",
       "Politico               2732\n",
       "The New York Times     1804\n",
       "Washington Post        1770\n",
       "Washington Examiner    1655\n",
       "New York Post          1275\n",
       "Vox                     941\n",
       "Breitbart               799\n",
       "Name: source, dtype: int64"
      ]
     },
     "execution_count": 35,
     "metadata": {},
     "output_type": "execute_result"
    }
   ],
   "source": [
    "candidatenewsdf['source'].value_counts(sort=True).head(10)"
   ]
  },
  {
   "cell_type": "code",
   "execution_count": null,
   "id": "limiting-applicant",
   "metadata": {},
   "outputs": [],
   "source": []
  }
 ],
 "metadata": {
  "kernelspec": {
   "display_name": "Python 3",
   "language": "python",
   "name": "python3"
  },
  "language_info": {
   "codemirror_mode": {
    "name": "ipython",
    "version": 3
   },
   "file_extension": ".py",
   "mimetype": "text/x-python",
   "name": "python",
   "nbconvert_exporter": "python",
   "pygments_lexer": "ipython3",
   "version": "3.7.9"
  },
  "toc": {
   "base_numbering": 1,
   "nav_menu": {},
   "number_sections": true,
   "sideBar": true,
   "skip_h1_title": false,
   "title_cell": "Table of Contents",
   "title_sidebar": "Contents",
   "toc_cell": true,
   "toc_position": {},
   "toc_section_display": true,
   "toc_window_display": false
  }
 },
 "nbformat": 4,
 "nbformat_minor": 5
}
