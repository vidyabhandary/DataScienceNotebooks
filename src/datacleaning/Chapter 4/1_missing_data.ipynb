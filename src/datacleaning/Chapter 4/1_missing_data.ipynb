{
 "cells": [
  {
   "cell_type": "markdown",
   "id": "average-bruce",
   "metadata": {
    "toc": true
   },
   "source": [
    "<h1>Table of Contents<span class=\"tocSkip\"></span></h1>\n",
    "<div class=\"toc\"><ul class=\"toc-item\"><li><span><a href=\"#Load-the-pandas,-numpy,-and-matplotlib-libraries,-along-with-the-Covid-case-data-file\" data-toc-modified-id=\"Load-the-pandas,-numpy,-and-matplotlib-libraries,-along-with-the-Covid-case-data-file-1\"><span class=\"toc-item-num\">1&nbsp;&nbsp;</span>Load the pandas, numpy, and matplotlib libraries, along with the Covid case data file</a></span></li><li><span><a href=\"#Check-the-demographic-columns-for-missing-data\" data-toc-modified-id=\"Check-the-demographic-columns-for-missing-data-2\"><span class=\"toc-item-num\">2&nbsp;&nbsp;</span>Check the demographic columns for missing data</a></span></li><li><span><a href=\"#List-the-countries-with-three-or-more-missing-values-for-the-demographic-data\" data-toc-modified-id=\"List-the-countries-with-three-or-more-missing-values-for-the-demographic-data-3\"><span class=\"toc-item-num\">3&nbsp;&nbsp;</span>List the countries with three or more missing values for the demographic data</a></span></li><li><span><a href=\"#Check-the-Covid-case-data-for-missing-values\" data-toc-modified-id=\"Check-the-Covid-case-data-for-missing-values-4\"><span class=\"toc-item-num\">4&nbsp;&nbsp;</span>Check the Covid case data for missing values</a></span></li><li><span><a href=\"#Use-the-fillna-method-to-fix-the-missing-cases-data-for-the-one-country-affected-(Hong-Kong).\" data-toc-modified-id=\"Use-the-fillna-method-to-fix-the-missing-cases-data-for-the-one-country-affected-(Hong-Kong).-5\"><span class=\"toc-item-num\">5&nbsp;&nbsp;</span>Use the fillna method to fix the missing cases data for the one country affected (Hong Kong).</a></span></li></ul></div>"
   ]
  },
  {
   "cell_type": "markdown",
   "id": "perceived-willow",
   "metadata": {},
   "source": [
    "# Load the pandas, numpy, and matplotlib libraries, along with the Covid case data file"
   ]
  },
  {
   "cell_type": "code",
   "execution_count": 1,
   "id": "agreed-treat",
   "metadata": {},
   "outputs": [],
   "source": [
    "import pandas as pd\n",
    "import numpy as np\n",
    "import matplotlib.pyplot as plt"
   ]
  },
  {
   "cell_type": "code",
   "execution_count": 2,
   "id": "north-bottom",
   "metadata": {},
   "outputs": [],
   "source": [
    "import watermark\n",
    "%load_ext watermark"
   ]
  },
  {
   "cell_type": "code",
   "execution_count": 3,
   "id": "civic-doctor",
   "metadata": {},
   "outputs": [
    {
     "name": "stdout",
     "output_type": "stream",
     "text": [
      "Python implementation: CPython\n",
      "Python version       : 3.7.9\n",
      "IPython version      : 7.20.0\n",
      "\n",
      "pandas    : 1.2.1\n",
      "json      : 2.0.9\n",
      "matplotlib: 3.3.2\n",
      "watermark : 2.1.0\n",
      "numpy     : 1.19.2\n",
      "\n"
     ]
    }
   ],
   "source": [
    "%watermark -n -v -iv"
   ]
  },
  {
   "cell_type": "code",
   "execution_count": 5,
   "id": "professional-transcription",
   "metadata": {},
   "outputs": [],
   "source": [
    "pd.set_option('display.width', 80)\n",
    "pd.set_option('display.max_columns', 7)\n",
    "pd.set_option('display.max_rows', 20)\n",
    "pd.options.display.float_format = '{:,.0f}'.format"
   ]
  },
  {
   "cell_type": "code",
   "execution_count": 6,
   "id": "combined-grove",
   "metadata": {},
   "outputs": [],
   "source": [
    "covidtotals = pd.read_csv('data/covidtotalswithmissings.csv')\n",
    "covidtotals.set_index('iso_code', inplace=True)"
   ]
  },
  {
   "cell_type": "code",
   "execution_count": 13,
   "id": "valued-recognition",
   "metadata": {},
   "outputs": [
    {
     "data": {
      "text/html": [
       "<div>\n",
       "<style scoped>\n",
       "    .dataframe tbody tr th:only-of-type {\n",
       "        vertical-align: middle;\n",
       "    }\n",
       "\n",
       "    .dataframe tbody tr th {\n",
       "        vertical-align: top;\n",
       "    }\n",
       "\n",
       "    .dataframe thead th {\n",
       "        text-align: right;\n",
       "    }\n",
       "</style>\n",
       "<table border=\"1\" class=\"dataframe\">\n",
       "  <thead>\n",
       "    <tr style=\"text-align: right;\">\n",
       "      <th>iso_code</th>\n",
       "      <th>AFG</th>\n",
       "      <th>ALB</th>\n",
       "    </tr>\n",
       "  </thead>\n",
       "  <tbody>\n",
       "    <tr>\n",
       "      <th>lastdate</th>\n",
       "      <td>2020-06-01</td>\n",
       "      <td>2020-06-01</td>\n",
       "    </tr>\n",
       "    <tr>\n",
       "      <th>location</th>\n",
       "      <td>Afghanistan</td>\n",
       "      <td>Albania</td>\n",
       "    </tr>\n",
       "    <tr>\n",
       "      <th>total_cases</th>\n",
       "      <td>15205</td>\n",
       "      <td>1137</td>\n",
       "    </tr>\n",
       "    <tr>\n",
       "      <th>total_deaths</th>\n",
       "      <td>257</td>\n",
       "      <td>33</td>\n",
       "    </tr>\n",
       "    <tr>\n",
       "      <th>total_cases_pm</th>\n",
       "      <td>391</td>\n",
       "      <td>395</td>\n",
       "    </tr>\n",
       "    <tr>\n",
       "      <th>total_deaths_pm</th>\n",
       "      <td>7</td>\n",
       "      <td>11</td>\n",
       "    </tr>\n",
       "    <tr>\n",
       "      <th>population</th>\n",
       "      <td>38,928,341</td>\n",
       "      <td>2,877,8</td>\n",
       "    </tr>\n",
       "    <tr>\n",
       "      <th>pop_density</th>\n",
       "      <td>54</td>\n",
       "      <td>105</td>\n",
       "    </tr>\n",
       "    <tr>\n",
       "      <th>median_age</th>\n",
       "      <td>19</td>\n",
       "      <td>38</td>\n",
       "    </tr>\n",
       "    <tr>\n",
       "      <th>gdp_per_capita</th>\n",
       "      <td>1,804</td>\n",
       "      <td>11,803</td>\n",
       "    </tr>\n",
       "    <tr>\n",
       "      <th>hosp_beds</th>\n",
       "      <td></td>\n",
       "      <td>3</td>\n",
       "    </tr>\n",
       "  </tbody>\n",
       "</table>\n",
       "</div>"
      ],
      "text/plain": [
       "iso_code                 AFG         ALB\n",
       "lastdate          2020-06-01  2020-06-01\n",
       "location         Afghanistan     Albania\n",
       "total_cases            15205        1137\n",
       "total_deaths             257          33\n",
       "total_cases_pm           391         395\n",
       "total_deaths_pm            7          11\n",
       "population        38,928,341     2,877,8\n",
       "pop_density               54         105\n",
       "median_age                19          38\n",
       "gdp_per_capita         1,804      11,803\n",
       "hosp_beds                              3"
      ]
     },
     "execution_count": 13,
     "metadata": {},
     "output_type": "execute_result"
    }
   ],
   "source": [
    "covidtotals.head(2).T"
   ]
  },
  {
   "cell_type": "code",
   "execution_count": 7,
   "id": "unlike-tournament",
   "metadata": {},
   "outputs": [],
   "source": [
    "totvars = [\n",
    "    'location', 'total_cases', 'total_deaths', 'total_cases_pm',\n",
    "    'total_deaths_pm'\n",
    "]"
   ]
  },
  {
   "cell_type": "code",
   "execution_count": 8,
   "id": "upset-atlantic",
   "metadata": {},
   "outputs": [],
   "source": [
    "demovars = [\n",
    "    'population', 'pop_density', 'median_age', 'gdp_per_capita', 'hosp_beds'\n",
    "]"
   ]
  },
  {
   "cell_type": "markdown",
   "id": "cheap-leave",
   "metadata": {},
   "source": [
    "# Check the demographic columns for missing data"
   ]
  },
  {
   "cell_type": "code",
   "execution_count": 9,
   "id": "legitimate-springer",
   "metadata": {},
   "outputs": [
    {
     "data": {
      "text/plain": [
       "population         0\n",
       "pop_density       12\n",
       "median_age        24\n",
       "gdp_per_capita    28\n",
       "hosp_beds         46\n",
       "dtype: int64"
      ]
     },
     "execution_count": 9,
     "metadata": {},
     "output_type": "execute_result"
    }
   ],
   "source": [
    "covidtotals[demovars].isnull().sum(axis=0)"
   ]
  },
  {
   "cell_type": "code",
   "execution_count": 10,
   "id": "realistic-clark",
   "metadata": {},
   "outputs": [],
   "source": [
    "demovarsmisscnt = covidtotals[demovars].isnull().sum(axis=1)"
   ]
  },
  {
   "cell_type": "code",
   "execution_count": 11,
   "id": "moved-facility",
   "metadata": {},
   "outputs": [
    {
     "data": {
      "text/plain": [
       "0    156\n",
       "1     24\n",
       "2     12\n",
       "3     10\n",
       "4      8\n",
       "dtype: int64"
      ]
     },
     "execution_count": 11,
     "metadata": {},
     "output_type": "execute_result"
    }
   ],
   "source": [
    "demovarsmisscnt.value_counts()"
   ]
  },
  {
   "cell_type": "markdown",
   "id": "mental-symposium",
   "metadata": {},
   "source": [
    "# List the countries with three or more missing values for the demographic data"
   ]
  },
  {
   "cell_type": "code",
   "execution_count": 17,
   "id": "random-dispute",
   "metadata": {},
   "outputs": [
    {
     "data": {
      "text/html": [
       "<div>\n",
       "<style scoped>\n",
       "    .dataframe tbody tr th:only-of-type {\n",
       "        vertical-align: middle;\n",
       "    }\n",
       "\n",
       "    .dataframe tbody tr th {\n",
       "        vertical-align: top;\n",
       "    }\n",
       "\n",
       "    .dataframe thead th {\n",
       "        text-align: right;\n",
       "    }\n",
       "</style>\n",
       "<table border=\"1\" class=\"dataframe\">\n",
       "  <thead>\n",
       "    <tr style=\"text-align: right;\">\n",
       "      <th>iso_code</th>\n",
       "      <th>AND</th>\n",
       "      <th>AIA</th>\n",
       "    </tr>\n",
       "  </thead>\n",
       "  <tbody>\n",
       "    <tr>\n",
       "      <th>location</th>\n",
       "      <td>Andorra</td>\n",
       "      <td>Anguilla</td>\n",
       "    </tr>\n",
       "    <tr>\n",
       "      <th>population</th>\n",
       "      <td>77,265</td>\n",
       "      <td>15,002</td>\n",
       "    </tr>\n",
       "    <tr>\n",
       "      <th>pop_density</th>\n",
       "      <td>164</td>\n",
       "      <td>NaN</td>\n",
       "    </tr>\n",
       "    <tr>\n",
       "      <th>median_age</th>\n",
       "      <td>NaN</td>\n",
       "      <td>NaN</td>\n",
       "    </tr>\n",
       "    <tr>\n",
       "      <th>gdp_per_capita</th>\n",
       "      <td>NaN</td>\n",
       "      <td>NaN</td>\n",
       "    </tr>\n",
       "    <tr>\n",
       "      <th>hosp_beds</th>\n",
       "      <td>NaN</td>\n",
       "      <td>NaN</td>\n",
       "    </tr>\n",
       "  </tbody>\n",
       "</table>\n",
       "</div>"
      ],
      "text/plain": [
       "iso_code            AND       AIA\n",
       "location        Andorra  Anguilla\n",
       "population       77,265    15,002\n",
       "pop_density         164       NaN\n",
       "median_age          NaN       NaN\n",
       "gdp_per_capita      NaN       NaN\n",
       "hosp_beds           NaN       NaN"
      ]
     },
     "execution_count": 17,
     "metadata": {},
     "output_type": "execute_result"
    }
   ],
   "source": [
    "covidtotals.loc[demovarsmisscnt >= 3, ['location'] + demovars].head(2).T"
   ]
  },
  {
   "cell_type": "code",
   "execution_count": 18,
   "id": "weird-unknown",
   "metadata": {},
   "outputs": [
    {
     "data": {
      "text/plain": [
       "pandas.core.frame.DataFrame"
      ]
     },
     "execution_count": 18,
     "metadata": {},
     "output_type": "execute_result"
    }
   ],
   "source": [
    "type(covidtotals)"
   ]
  },
  {
   "cell_type": "markdown",
   "id": "naughty-service",
   "metadata": {},
   "source": [
    "# Check the Covid case data for missing values"
   ]
  },
  {
   "cell_type": "code",
   "execution_count": 23,
   "id": "falling-perry",
   "metadata": {},
   "outputs": [
    {
     "data": {
      "text/plain": [
       "location           0\n",
       "total_cases        0\n",
       "total_deaths       0\n",
       "total_cases_pm     1\n",
       "total_deaths_pm    1\n",
       "dtype: int64"
      ]
     },
     "execution_count": 23,
     "metadata": {},
     "output_type": "execute_result"
    }
   ],
   "source": [
    "covidtotals[totvars].isnull().sum(axis=0)"
   ]
  },
  {
   "cell_type": "code",
   "execution_count": 24,
   "id": "theoretical-filling",
   "metadata": {},
   "outputs": [],
   "source": [
    "totvarsmisscnt = covidtotals[totvars].isnull().sum(axis=1)"
   ]
  },
  {
   "cell_type": "code",
   "execution_count": 25,
   "id": "color-precipitation",
   "metadata": {},
   "outputs": [
    {
     "data": {
      "text/plain": [
       "0    209\n",
       "2      1\n",
       "dtype: int64"
      ]
     },
     "execution_count": 25,
     "metadata": {},
     "output_type": "execute_result"
    }
   ],
   "source": [
    "totvarsmisscnt.value_counts()"
   ]
  },
  {
   "cell_type": "code",
   "execution_count": 26,
   "id": "sexual-sodium",
   "metadata": {},
   "outputs": [
    {
     "data": {
      "text/html": [
       "<div>\n",
       "<style scoped>\n",
       "    .dataframe tbody tr th:only-of-type {\n",
       "        vertical-align: middle;\n",
       "    }\n",
       "\n",
       "    .dataframe tbody tr th {\n",
       "        vertical-align: top;\n",
       "    }\n",
       "\n",
       "    .dataframe thead th {\n",
       "        text-align: right;\n",
       "    }\n",
       "</style>\n",
       "<table border=\"1\" class=\"dataframe\">\n",
       "  <thead>\n",
       "    <tr style=\"text-align: right;\">\n",
       "      <th>iso_code</th>\n",
       "      <th>HKG</th>\n",
       "    </tr>\n",
       "  </thead>\n",
       "  <tbody>\n",
       "    <tr>\n",
       "      <th>lastdate</th>\n",
       "      <td>2020-05-26</td>\n",
       "    </tr>\n",
       "    <tr>\n",
       "      <th>location</th>\n",
       "      <td>Hong Kong</td>\n",
       "    </tr>\n",
       "    <tr>\n",
       "      <th>total_cases</th>\n",
       "      <td>0</td>\n",
       "    </tr>\n",
       "    <tr>\n",
       "      <th>total_deaths</th>\n",
       "      <td>0</td>\n",
       "    </tr>\n",
       "    <tr>\n",
       "      <th>total_cases_pm</th>\n",
       "      <td>NaN</td>\n",
       "    </tr>\n",
       "    <tr>\n",
       "      <th>total_deaths_pm</th>\n",
       "      <td>NaN</td>\n",
       "    </tr>\n",
       "    <tr>\n",
       "      <th>population</th>\n",
       "      <td>7,496,988</td>\n",
       "    </tr>\n",
       "    <tr>\n",
       "      <th>pop_density</th>\n",
       "      <td>7,04</td>\n",
       "    </tr>\n",
       "    <tr>\n",
       "      <th>median_age</th>\n",
       "      <td>45</td>\n",
       "    </tr>\n",
       "    <tr>\n",
       "      <th>gdp_per_capita</th>\n",
       "      <td>56,055</td>\n",
       "    </tr>\n",
       "    <tr>\n",
       "      <th>hosp_beds</th>\n",
       "      <td>NaN</td>\n",
       "    </tr>\n",
       "  </tbody>\n",
       "</table>\n",
       "</div>"
      ],
      "text/plain": [
       "iso_code                HKG\n",
       "lastdate         2020-05-26\n",
       "location          Hong Kong\n",
       "total_cases               0\n",
       "total_deaths              0\n",
       "total_cases_pm          NaN\n",
       "total_deaths_pm         NaN\n",
       "population        7,496,988\n",
       "pop_density            7,04\n",
       "median_age               45\n",
       "gdp_per_capita       56,055\n",
       "hosp_beds               NaN"
      ]
     },
     "execution_count": 26,
     "metadata": {},
     "output_type": "execute_result"
    }
   ],
   "source": [
    "covidtotals.loc[totvarsmisscnt > 0].T"
   ]
  },
  {
   "cell_type": "markdown",
   "id": "therapeutic-bible",
   "metadata": {},
   "source": [
    "# Use the fillna method to fix the missing cases data for the one country affected (Hong Kong)."
   ]
  },
  {
   "cell_type": "code",
   "execution_count": 27,
   "id": "acknowledged-speaking",
   "metadata": {},
   "outputs": [],
   "source": [
    "covidtotals['total_cases_pm'].fillna(covidtotals['total_cases'] /\n",
    "                                     (covidtotals['population'] / 1000000),\n",
    "                                     inplace=True)"
   ]
  },
  {
   "cell_type": "code",
   "execution_count": 30,
   "id": "every-hotel",
   "metadata": {},
   "outputs": [],
   "source": [
    "covidtotals['total_deaths_pm'].fillna(covidtotals['total_deaths'] /\n",
    "                                      (covidtotals['population'] / 1000000),\n",
    "                                      inplace=True)"
   ]
  },
  {
   "cell_type": "code",
   "execution_count": 31,
   "id": "piano-thursday",
   "metadata": {},
   "outputs": [
    {
     "data": {
      "text/plain": [
       "location           0\n",
       "total_cases        0\n",
       "total_deaths       0\n",
       "total_cases_pm     0\n",
       "total_deaths_pm    0\n",
       "dtype: int64"
      ]
     },
     "execution_count": 31,
     "metadata": {},
     "output_type": "execute_result"
    }
   ],
   "source": [
    "covidtotals[totvars].isnull().sum(axis=0)"
   ]
  },
  {
   "cell_type": "code",
   "execution_count": null,
   "id": "seeing-operator",
   "metadata": {},
   "outputs": [],
   "source": []
  }
 ],
 "metadata": {
  "kernelspec": {
   "display_name": "Python 3",
   "language": "python",
   "name": "python3"
  },
  "language_info": {
   "codemirror_mode": {
    "name": "ipython",
    "version": 3
   },
   "file_extension": ".py",
   "mimetype": "text/x-python",
   "name": "python",
   "nbconvert_exporter": "python",
   "pygments_lexer": "ipython3",
   "version": "3.7.9"
  },
  "toc": {
   "base_numbering": 1,
   "nav_menu": {},
   "number_sections": true,
   "sideBar": true,
   "skip_h1_title": false,
   "title_cell": "Table of Contents",
   "title_sidebar": "Contents",
   "toc_cell": true,
   "toc_position": {},
   "toc_section_display": true,
   "toc_window_display": false
  }
 },
 "nbformat": 4,
 "nbformat_minor": 5
}
