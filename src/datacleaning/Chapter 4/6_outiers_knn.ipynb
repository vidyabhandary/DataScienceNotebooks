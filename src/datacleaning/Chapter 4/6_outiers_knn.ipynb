{
 "cells": [
  {
   "cell_type": "markdown",
   "id": "muslim-bargain",
   "metadata": {
    "toc": true
   },
   "source": [
    "<h1>Table of Contents<span class=\"tocSkip\"></span></h1>\n",
    "<div class=\"toc\"><ul class=\"toc-item\"><li><span><a href=\"#Load-pandas,-pyod,-and-scikit-learn,-along-with-the-Covid-case-data\" data-toc-modified-id=\"Load-pandas,-pyod,-and-scikit-learn,-along-with-the-Covid-case-data-1\"><span class=\"toc-item-num\">1&nbsp;&nbsp;</span>Load pandas, pyod, and scikit-learn, along with the Covid case data</a></span></li><li><span><a href=\"#Create-a-standardized-data-frame-of-the-analysis-columns\" data-toc-modified-id=\"Create-a-standardized-data-frame-of-the-analysis-columns-2\"><span class=\"toc-item-num\">2&nbsp;&nbsp;</span>Create a standardized data frame of the analysis columns</a></span></li><li><span><a href=\"#Run-the-KNN-model-and-generate-anomaly-scores\" data-toc-modified-id=\"Run-the-KNN-model-and-generate-anomaly-scores-3\"><span class=\"toc-item-num\">3&nbsp;&nbsp;</span>Run the KNN model and generate anomaly scores</a></span></li><li><span><a href=\"#Show-the-predictions-from-the-model\" data-toc-modified-id=\"Show-the-predictions-from-the-model-4\"><span class=\"toc-item-num\">4&nbsp;&nbsp;</span>Show the predictions from the model</a></span></li><li><span><a href=\"#Show-the-COVID-data-for-the-outliers\" data-toc-modified-id=\"Show-the-COVID-data-for-the-outliers-5\"><span class=\"toc-item-num\">5&nbsp;&nbsp;</span>Show the COVID data for the outliers</a></span></li></ul></div>"
   ]
  },
  {
   "cell_type": "markdown",
   "id": "recorded-factory",
   "metadata": {},
   "source": [
    "# Load pandas, pyod, and scikit-learn, along with the Covid case data"
   ]
  },
  {
   "cell_type": "code",
   "execution_count": 1,
   "id": "homeless-korea",
   "metadata": {},
   "outputs": [],
   "source": [
    "import pandas as pd\n",
    "from pyod.models.knn import KNN\n",
    "from sklearn.preprocessing import StandardScaler"
   ]
  },
  {
   "cell_type": "code",
   "execution_count": 2,
   "id": "instrumental-confidence",
   "metadata": {},
   "outputs": [],
   "source": [
    "# pd.set_option('display.width', 80)\n",
    "# pd.set_option('display.max_columns', 7)\n",
    "# pd.set_option('display.max_rows', 20)\n",
    "# pd.options.display.float_format = '{:,.2f}'.format"
   ]
  },
  {
   "cell_type": "code",
   "execution_count": 3,
   "id": "floating-toronto",
   "metadata": {},
   "outputs": [
    {
     "name": "stdout",
     "output_type": "stream",
     "text": [
      "Python implementation: CPython\n",
      "Python version       : 3.7.9\n",
      "IPython version      : 7.20.0\n",
      "\n",
      "pandas   : 1.2.1\n",
      "watermark: 2.1.0\n",
      "json     : 2.0.9\n",
      "\n"
     ]
    }
   ],
   "source": [
    "import watermark\n",
    "%load_ext watermark\n",
    "\n",
    "%watermark -n -v -iv"
   ]
  },
  {
   "cell_type": "code",
   "execution_count": 4,
   "id": "italian-belief",
   "metadata": {},
   "outputs": [],
   "source": [
    "covidtotals = pd.read_csv('data/covidtotals.csv')\n",
    "covidtotals.set_index('iso_code', inplace=True)"
   ]
  },
  {
   "cell_type": "markdown",
   "id": "square-produce",
   "metadata": {},
   "source": [
    "# Create a standardized data frame of the analysis columns"
   ]
  },
  {
   "cell_type": "code",
   "execution_count": 5,
   "id": "bored-error",
   "metadata": {},
   "outputs": [],
   "source": [
    "standardizer = StandardScaler()"
   ]
  },
  {
   "cell_type": "code",
   "execution_count": 6,
   "id": "psychological-package",
   "metadata": {},
   "outputs": [],
   "source": [
    "analysisvars = [\n",
    "    'location', 'total_cases_pm', 'total_deaths_pm', 'pop_density',\n",
    "    'median_age', 'gdp_per_capita'\n",
    "]"
   ]
  },
  {
   "cell_type": "code",
   "execution_count": 7,
   "id": "finite-emission",
   "metadata": {},
   "outputs": [],
   "source": [
    "covidanalysis = covidtotals.loc[:, analysisvars].dropna()"
   ]
  },
  {
   "cell_type": "code",
   "execution_count": 9,
   "id": "negative-license",
   "metadata": {},
   "outputs": [
    {
     "data": {
      "text/html": [
       "<div>\n",
       "<style scoped>\n",
       "    .dataframe tbody tr th:only-of-type {\n",
       "        vertical-align: middle;\n",
       "    }\n",
       "\n",
       "    .dataframe tbody tr th {\n",
       "        vertical-align: top;\n",
       "    }\n",
       "\n",
       "    .dataframe thead th {\n",
       "        text-align: right;\n",
       "    }\n",
       "</style>\n",
       "<table border=\"1\" class=\"dataframe\">\n",
       "  <thead>\n",
       "    <tr style=\"text-align: right;\">\n",
       "      <th></th>\n",
       "      <th>location</th>\n",
       "      <th>total_cases_pm</th>\n",
       "      <th>total_deaths_pm</th>\n",
       "      <th>pop_density</th>\n",
       "      <th>median_age</th>\n",
       "      <th>gdp_per_capita</th>\n",
       "    </tr>\n",
       "    <tr>\n",
       "      <th>iso_code</th>\n",
       "      <th></th>\n",
       "      <th></th>\n",
       "      <th></th>\n",
       "      <th></th>\n",
       "      <th></th>\n",
       "      <th></th>\n",
       "    </tr>\n",
       "  </thead>\n",
       "  <tbody>\n",
       "    <tr>\n",
       "      <th>ZMB</th>\n",
       "      <td>Zambia</td>\n",
       "      <td>57.496</td>\n",
       "      <td>0.381</td>\n",
       "      <td>22.995</td>\n",
       "      <td>17.7</td>\n",
       "      <td>3689.251</td>\n",
       "    </tr>\n",
       "    <tr>\n",
       "      <th>ZWE</th>\n",
       "      <td>Zimbabwe</td>\n",
       "      <td>11.976</td>\n",
       "      <td>0.269</td>\n",
       "      <td>42.729</td>\n",
       "      <td>19.6</td>\n",
       "      <td>1899.775</td>\n",
       "    </tr>\n",
       "  </tbody>\n",
       "</table>\n",
       "</div>"
      ],
      "text/plain": [
       "          location  total_cases_pm  total_deaths_pm  pop_density  median_age  \\\n",
       "iso_code                                                                       \n",
       "ZMB         Zambia          57.496            0.381       22.995        17.7   \n",
       "ZWE       Zimbabwe          11.976            0.269       42.729        19.6   \n",
       "\n",
       "          gdp_per_capita  \n",
       "iso_code                  \n",
       "ZMB             3689.251  \n",
       "ZWE             1899.775  "
      ]
     },
     "execution_count": 9,
     "metadata": {},
     "output_type": "execute_result"
    }
   ],
   "source": [
    "covidanalysis.tail(2)"
   ]
  },
  {
   "cell_type": "code",
   "execution_count": 10,
   "id": "coordinate-english",
   "metadata": {},
   "outputs": [],
   "source": [
    "covidanalysisstand = standardizer.fit_transform(covidanalysis.iloc[:, 1:])"
   ]
  },
  {
   "cell_type": "markdown",
   "id": "united-improvement",
   "metadata": {},
   "source": [
    "# Run the KNN model and generate anomaly scores"
   ]
  },
  {
   "cell_type": "code",
   "execution_count": 12,
   "id": "fewer-topic",
   "metadata": {},
   "outputs": [],
   "source": [
    "clf_name = 'KNN'\n",
    "clf = KNN(contamination=0.1)"
   ]
  },
  {
   "cell_type": "code",
   "execution_count": 13,
   "id": "virgin-devices",
   "metadata": {},
   "outputs": [
    {
     "data": {
      "text/plain": [
       "KNN(algorithm='auto', contamination=0.1, leaf_size=30, method='largest',\n",
       "  metric='minkowski', metric_params=None, n_jobs=1, n_neighbors=5, p=2,\n",
       "  radius=1.0)"
      ]
     },
     "execution_count": 13,
     "metadata": {},
     "output_type": "execute_result"
    }
   ],
   "source": [
    "clf.fit(covidanalysisstand)"
   ]
  },
  {
   "cell_type": "code",
   "execution_count": 15,
   "id": "emotional-pitch",
   "metadata": {},
   "outputs": [
    {
     "data": {
      "text/plain": [
       "array([0, 0, 0])"
      ]
     },
     "execution_count": 15,
     "metadata": {},
     "output_type": "execute_result"
    }
   ],
   "source": [
    "y_pred = clf.labels_\n",
    "y_pred[:3]"
   ]
  },
  {
   "cell_type": "code",
   "execution_count": 16,
   "id": "minus-litigation",
   "metadata": {},
   "outputs": [
    {
     "data": {
      "text/plain": [
       "array([0.15961874, 0.43272345, 0.25485372])"
      ]
     },
     "execution_count": 16,
     "metadata": {},
     "output_type": "execute_result"
    }
   ],
   "source": [
    "y_scores = clf.decision_scores_\n",
    "y_scores[:3]"
   ]
  },
  {
   "cell_type": "markdown",
   "id": "supposed-necessity",
   "metadata": {},
   "source": [
    "# Show the predictions from the model"
   ]
  },
  {
   "cell_type": "code",
   "execution_count": 17,
   "id": "random-scott",
   "metadata": {},
   "outputs": [],
   "source": [
    "pred = pd.DataFrame(zip(y_pred, y_scores),\n",
    "                    columns=['outlier', 'scores'],\n",
    "                    index=covidanalysis.index)"
   ]
  },
  {
   "cell_type": "code",
   "execution_count": 18,
   "id": "transsexual-medicare",
   "metadata": {},
   "outputs": [
    {
     "data": {
      "text/html": [
       "<div>\n",
       "<style scoped>\n",
       "    .dataframe tbody tr th:only-of-type {\n",
       "        vertical-align: middle;\n",
       "    }\n",
       "\n",
       "    .dataframe tbody tr th {\n",
       "        vertical-align: top;\n",
       "    }\n",
       "\n",
       "    .dataframe thead th {\n",
       "        text-align: right;\n",
       "    }\n",
       "</style>\n",
       "<table border=\"1\" class=\"dataframe\">\n",
       "  <thead>\n",
       "    <tr style=\"text-align: right;\">\n",
       "      <th></th>\n",
       "      <th>outlier</th>\n",
       "      <th>scores</th>\n",
       "    </tr>\n",
       "    <tr>\n",
       "      <th>iso_code</th>\n",
       "      <th></th>\n",
       "      <th></th>\n",
       "    </tr>\n",
       "  </thead>\n",
       "  <tbody>\n",
       "    <tr>\n",
       "      <th>LBY</th>\n",
       "      <td>0</td>\n",
       "      <td>0.367532</td>\n",
       "    </tr>\n",
       "    <tr>\n",
       "      <th>NLD</th>\n",
       "      <td>1</td>\n",
       "      <td>1.564052</td>\n",
       "    </tr>\n",
       "    <tr>\n",
       "      <th>BTN</th>\n",
       "      <td>0</td>\n",
       "      <td>0.185273</td>\n",
       "    </tr>\n",
       "    <tr>\n",
       "      <th>HTI</th>\n",
       "      <td>0</td>\n",
       "      <td>0.433058</td>\n",
       "    </tr>\n",
       "    <tr>\n",
       "      <th>EST</th>\n",
       "      <td>0</td>\n",
       "      <td>0.464279</td>\n",
       "    </tr>\n",
       "    <tr>\n",
       "      <th>LCA</th>\n",
       "      <td>0</td>\n",
       "      <td>0.431069</td>\n",
       "    </tr>\n",
       "    <tr>\n",
       "      <th>PER</th>\n",
       "      <td>0</td>\n",
       "      <td>1.411336</td>\n",
       "    </tr>\n",
       "    <tr>\n",
       "      <th>BRB</th>\n",
       "      <td>0</td>\n",
       "      <td>0.769047</td>\n",
       "    </tr>\n",
       "    <tr>\n",
       "      <th>MDA</th>\n",
       "      <td>0</td>\n",
       "      <td>0.912486</td>\n",
       "    </tr>\n",
       "    <tr>\n",
       "      <th>NAM</th>\n",
       "      <td>0</td>\n",
       "      <td>0.310553</td>\n",
       "    </tr>\n",
       "  </tbody>\n",
       "</table>\n",
       "</div>"
      ],
      "text/plain": [
       "          outlier    scores\n",
       "iso_code                   \n",
       "LBY             0  0.367532\n",
       "NLD             1  1.564052\n",
       "BTN             0  0.185273\n",
       "HTI             0  0.433058\n",
       "EST             0  0.464279\n",
       "LCA             0  0.431069\n",
       "PER             0  1.411336\n",
       "BRB             0  0.769047\n",
       "MDA             0  0.912486\n",
       "NAM             0  0.310553"
      ]
     },
     "execution_count": 18,
     "metadata": {},
     "output_type": "execute_result"
    }
   ],
   "source": [
    "pred.sample(10, random_state=1)"
   ]
  },
  {
   "cell_type": "code",
   "execution_count": 19,
   "id": "peripheral-discipline",
   "metadata": {},
   "outputs": [
    {
     "data": {
      "text/plain": [
       "0    157\n",
       "1     18\n",
       "Name: outlier, dtype: int64"
      ]
     },
     "execution_count": 19,
     "metadata": {},
     "output_type": "execute_result"
    }
   ],
   "source": [
    "pred['outlier'].value_counts()"
   ]
  },
  {
   "cell_type": "code",
   "execution_count": 20,
   "id": "nominated-russell",
   "metadata": {},
   "outputs": [
    {
     "data": {
      "text/html": [
       "<div>\n",
       "<style scoped>\n",
       "    .dataframe tbody tr th:only-of-type {\n",
       "        vertical-align: middle;\n",
       "    }\n",
       "\n",
       "    .dataframe tbody tr th {\n",
       "        vertical-align: top;\n",
       "    }\n",
       "\n",
       "    .dataframe thead tr th {\n",
       "        text-align: left;\n",
       "    }\n",
       "\n",
       "    .dataframe thead tr:last-of-type th {\n",
       "        text-align: right;\n",
       "    }\n",
       "</style>\n",
       "<table border=\"1\" class=\"dataframe\">\n",
       "  <thead>\n",
       "    <tr>\n",
       "      <th></th>\n",
       "      <th colspan=\"3\" halign=\"left\">scores</th>\n",
       "    </tr>\n",
       "    <tr>\n",
       "      <th></th>\n",
       "      <th>min</th>\n",
       "      <th>median</th>\n",
       "      <th>max</th>\n",
       "    </tr>\n",
       "    <tr>\n",
       "      <th>outlier</th>\n",
       "      <th></th>\n",
       "      <th></th>\n",
       "      <th></th>\n",
       "    </tr>\n",
       "  </thead>\n",
       "  <tbody>\n",
       "    <tr>\n",
       "      <th>0</th>\n",
       "      <td>0.081259</td>\n",
       "      <td>0.364803</td>\n",
       "      <td>1.519804</td>\n",
       "    </tr>\n",
       "    <tr>\n",
       "      <th>1</th>\n",
       "      <td>1.553681</td>\n",
       "      <td>2.096079</td>\n",
       "      <td>9.483549</td>\n",
       "    </tr>\n",
       "  </tbody>\n",
       "</table>\n",
       "</div>"
      ],
      "text/plain": [
       "           scores                    \n",
       "              min    median       max\n",
       "outlier                              \n",
       "0        0.081259  0.364803  1.519804\n",
       "1        1.553681  2.096079  9.483549"
      ]
     },
     "execution_count": 20,
     "metadata": {},
     "output_type": "execute_result"
    }
   ],
   "source": [
    "pred.groupby(['outlier'])[['scores']].agg(['min', 'median', 'max'])"
   ]
  },
  {
   "cell_type": "markdown",
   "id": "valued-investigation",
   "metadata": {},
   "source": [
    "# Show the COVID data for the outliers"
   ]
  },
  {
   "cell_type": "code",
   "execution_count": 21,
   "id": "therapeutic-ukraine",
   "metadata": {},
   "outputs": [
    {
     "data": {
      "text/html": [
       "<div>\n",
       "<style scoped>\n",
       "    .dataframe tbody tr th:only-of-type {\n",
       "        vertical-align: middle;\n",
       "    }\n",
       "\n",
       "    .dataframe tbody tr th {\n",
       "        vertical-align: top;\n",
       "    }\n",
       "\n",
       "    .dataframe thead th {\n",
       "        text-align: right;\n",
       "    }\n",
       "</style>\n",
       "<table border=\"1\" class=\"dataframe\">\n",
       "  <thead>\n",
       "    <tr style=\"text-align: right;\">\n",
       "      <th></th>\n",
       "      <th>location</th>\n",
       "      <th>total_cases_pm</th>\n",
       "      <th>total_deaths_pm</th>\n",
       "      <th>scores</th>\n",
       "    </tr>\n",
       "    <tr>\n",
       "      <th>iso_code</th>\n",
       "      <th></th>\n",
       "      <th></th>\n",
       "      <th></th>\n",
       "      <th></th>\n",
       "    </tr>\n",
       "  </thead>\n",
       "  <tbody>\n",
       "    <tr>\n",
       "      <th>SGP</th>\n",
       "      <td>Singapore</td>\n",
       "      <td>5962.727</td>\n",
       "      <td>3.931</td>\n",
       "      <td>9.483549</td>\n",
       "    </tr>\n",
       "    <tr>\n",
       "      <th>QAT</th>\n",
       "      <td>Qatar</td>\n",
       "      <td>19753.146</td>\n",
       "      <td>13.190</td>\n",
       "      <td>8.001605</td>\n",
       "    </tr>\n",
       "    <tr>\n",
       "      <th>HKG</th>\n",
       "      <td>Hong Kong</td>\n",
       "      <td>0.000</td>\n",
       "      <td>0.000</td>\n",
       "      <td>7.771722</td>\n",
       "    </tr>\n",
       "    <tr>\n",
       "      <th>BEL</th>\n",
       "      <td>Belgium</td>\n",
       "      <td>5037.354</td>\n",
       "      <td>816.852</td>\n",
       "      <td>3.544827</td>\n",
       "    </tr>\n",
       "    <tr>\n",
       "      <th>BHR</th>\n",
       "      <td>Bahrain</td>\n",
       "      <td>6698.468</td>\n",
       "      <td>11.166</td>\n",
       "      <td>2.842906</td>\n",
       "    </tr>\n",
       "    <tr>\n",
       "      <th>LUX</th>\n",
       "      <td>Luxembourg</td>\n",
       "      <td>6418.776</td>\n",
       "      <td>175.726</td>\n",
       "      <td>2.442886</td>\n",
       "    </tr>\n",
       "    <tr>\n",
       "      <th>ESP</th>\n",
       "      <td>Spain</td>\n",
       "      <td>5120.952</td>\n",
       "      <td>580.197</td>\n",
       "      <td>2.176441</td>\n",
       "    </tr>\n",
       "    <tr>\n",
       "      <th>KWT</th>\n",
       "      <td>Kuwait</td>\n",
       "      <td>6332.420</td>\n",
       "      <td>49.642</td>\n",
       "      <td>2.127519</td>\n",
       "    </tr>\n",
       "    <tr>\n",
       "      <th>GBR</th>\n",
       "      <td>United Kingdom</td>\n",
       "      <td>4047.403</td>\n",
       "      <td>566.965</td>\n",
       "      <td>2.103458</td>\n",
       "    </tr>\n",
       "    <tr>\n",
       "      <th>ITA</th>\n",
       "      <td>Italy</td>\n",
       "      <td>3853.985</td>\n",
       "      <td>552.663</td>\n",
       "      <td>2.088700</td>\n",
       "    </tr>\n",
       "    <tr>\n",
       "      <th>IRL</th>\n",
       "      <td>Ireland</td>\n",
       "      <td>5060.962</td>\n",
       "      <td>334.562</td>\n",
       "      <td>2.068788</td>\n",
       "    </tr>\n",
       "    <tr>\n",
       "      <th>BRN</th>\n",
       "      <td>Brunei</td>\n",
       "      <td>322.298</td>\n",
       "      <td>4.572</td>\n",
       "      <td>1.920840</td>\n",
       "    </tr>\n",
       "    <tr>\n",
       "      <th>USA</th>\n",
       "      <td>United States</td>\n",
       "      <td>5408.389</td>\n",
       "      <td>315.354</td>\n",
       "      <td>1.890141</td>\n",
       "    </tr>\n",
       "    <tr>\n",
       "      <th>FRA</th>\n",
       "      <td>France</td>\n",
       "      <td>2324.879</td>\n",
       "      <td>441.251</td>\n",
       "      <td>1.857499</td>\n",
       "    </tr>\n",
       "    <tr>\n",
       "      <th>MDV</th>\n",
       "      <td>Maldives</td>\n",
       "      <td>3280.041</td>\n",
       "      <td>9.250</td>\n",
       "      <td>1.817656</td>\n",
       "    </tr>\n",
       "    <tr>\n",
       "      <th>ISL</th>\n",
       "      <td>Iceland</td>\n",
       "      <td>5292.308</td>\n",
       "      <td>29.304</td>\n",
       "      <td>1.577333</td>\n",
       "    </tr>\n",
       "    <tr>\n",
       "      <th>NLD</th>\n",
       "      <td>Netherlands</td>\n",
       "      <td>2710.379</td>\n",
       "      <td>347.595</td>\n",
       "      <td>1.564052</td>\n",
       "    </tr>\n",
       "    <tr>\n",
       "      <th>ARE</th>\n",
       "      <td>United Arab Emirates</td>\n",
       "      <td>3493.994</td>\n",
       "      <td>26.693</td>\n",
       "      <td>1.553681</td>\n",
       "    </tr>\n",
       "  </tbody>\n",
       "</table>\n",
       "</div>"
      ],
      "text/plain": [
       "                      location  total_cases_pm  total_deaths_pm    scores\n",
       "iso_code                                                                 \n",
       "SGP                  Singapore        5962.727            3.931  9.483549\n",
       "QAT                      Qatar       19753.146           13.190  8.001605\n",
       "HKG                  Hong Kong           0.000            0.000  7.771722\n",
       "BEL                    Belgium        5037.354          816.852  3.544827\n",
       "BHR                    Bahrain        6698.468           11.166  2.842906\n",
       "LUX                 Luxembourg        6418.776          175.726  2.442886\n",
       "ESP                      Spain        5120.952          580.197  2.176441\n",
       "KWT                     Kuwait        6332.420           49.642  2.127519\n",
       "GBR             United Kingdom        4047.403          566.965  2.103458\n",
       "ITA                      Italy        3853.985          552.663  2.088700\n",
       "IRL                    Ireland        5060.962          334.562  2.068788\n",
       "BRN                     Brunei         322.298            4.572  1.920840\n",
       "USA              United States        5408.389          315.354  1.890141\n",
       "FRA                     France        2324.879          441.251  1.857499\n",
       "MDV                   Maldives        3280.041            9.250  1.817656\n",
       "ISL                    Iceland        5292.308           29.304  1.577333\n",
       "NLD                Netherlands        2710.379          347.595  1.564052\n",
       "ARE       United Arab Emirates        3493.994           26.693  1.553681"
      ]
     },
     "execution_count": 21,
     "metadata": {},
     "output_type": "execute_result"
    }
   ],
   "source": [
    "covidanalysis.join(pred).loc[\n",
    "    pred['outlier'] == 1,\n",
    "    ['location', 'total_cases_pm', 'total_deaths_pm', 'scores']].sort_values(\n",
    "        ['scores'], ascending=False)"
   ]
  },
  {
   "cell_type": "code",
   "execution_count": null,
   "id": "fabulous-throw",
   "metadata": {},
   "outputs": [],
   "source": []
  }
 ],
 "metadata": {
  "kernelspec": {
   "display_name": "Python 3",
   "language": "python",
   "name": "python3"
  },
  "language_info": {
   "codemirror_mode": {
    "name": "ipython",
    "version": 3
   },
   "file_extension": ".py",
   "mimetype": "text/x-python",
   "name": "python",
   "nbconvert_exporter": "python",
   "pygments_lexer": "ipython3",
   "version": "3.7.9"
  },
  "toc": {
   "base_numbering": 1,
   "nav_menu": {},
   "number_sections": true,
   "sideBar": true,
   "skip_h1_title": false,
   "title_cell": "Table of Contents",
   "title_sidebar": "Contents",
   "toc_cell": true,
   "toc_position": {},
   "toc_section_display": true,
   "toc_window_display": false
  }
 },
 "nbformat": 4,
 "nbformat_minor": 5
}
