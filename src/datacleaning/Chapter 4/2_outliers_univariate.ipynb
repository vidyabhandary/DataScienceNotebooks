{
 "cells": [
  {
   "cell_type": "markdown",
   "id": "chinese-quest",
   "metadata": {
    "toc": true
   },
   "source": [
    "<h1>Table of Contents<span class=\"tocSkip\"></span></h1>\n",
    "<div class=\"toc\"><ul class=\"toc-item\"><li><span><a href=\"#Load-the-pandas,-numpy,-matplotlib,-statsmodels,-and-scipy-libraries,-and-the-Covid-case-data-file\" data-toc-modified-id=\"Load-the-pandas,-numpy,-matplotlib,-statsmodels,-and-scipy-libraries,-and-the-Covid-case-data-file-1\"><span class=\"toc-item-num\">1&nbsp;&nbsp;</span>Load the pandas, numpy, matplotlib, statsmodels, and scipy libraries, and the Covid case data file</a></span></li><li><span><a href=\"#Get-descriptive-statistics-for-the-Covid-case-data\" data-toc-modified-id=\"Get-descriptive-statistics-for-the-Covid-case-data-2\"><span class=\"toc-item-num\">2&nbsp;&nbsp;</span>Get descriptive statistics for the Covid case data</a></span></li><li><span><a href=\"#Show-more-detailed-percentile-data\" data-toc-modified-id=\"Show-more-detailed-percentile-data-3\"><span class=\"toc-item-num\">3&nbsp;&nbsp;</span>Show more detailed percentile data</a></span></li><li><span><a href=\"#Test-the-Covid-data-for-normality\" data-toc-modified-id=\"Test-the-Covid-data-for-normality-4\"><span class=\"toc-item-num\">4&nbsp;&nbsp;</span>Test the Covid data for normality</a></span></li><li><span><a href=\"#Show-normal-quantile-quantile-plots-(qqplots)-of-total-cases-and-total-cases-per-million\" data-toc-modified-id=\"Show-normal-quantile-quantile-plots-(qqplots)-of-total-cases-and-total-cases-per-million-5\"><span class=\"toc-item-num\">5&nbsp;&nbsp;</span>Show normal quantile-quantile plots (qqplots) of total cases and total cases per million</a></span></li><li><span><a href=\"#Show-the-outlier-range-for-total-cases\" data-toc-modified-id=\"Show-the-outlier-range-for-total-cases-6\"><span class=\"toc-item-num\">6&nbsp;&nbsp;</span>Show the outlier range for total cases</a></span></li><li><span><a href=\"#Generate-a-data-frame-of-outliers-and-write-it-to-Excel\" data-toc-modified-id=\"Generate-a-data-frame-of-outliers-and-write-it-to-Excel-7\"><span class=\"toc-item-num\">7&nbsp;&nbsp;</span>Generate a data frame of outliers and write it to Excel</a></span></li><li><span><a href=\"#Look-a-little-more-closely-at-outliers-for-cases-per-million\" data-toc-modified-id=\"Look-a-little-more-closely-at-outliers-for-cases-per-million-8\"><span class=\"toc-item-num\">8&nbsp;&nbsp;</span>Look a little more closely at outliers for cases per million</a></span></li><li><span><a href=\"#Show-a-histogram-of-total-cases\" data-toc-modified-id=\"Show-a-histogram-of-total-cases-9\"><span class=\"toc-item-num\">9&nbsp;&nbsp;</span>Show a histogram of total cases</a></span></li><li><span><a href=\"#Perform-a-log-transformation-of-the-Covid-data.-Show-a-histogram-of-the-log-transformation-of-total-cases\" data-toc-modified-id=\"Perform-a-log-transformation-of-the-Covid-data.-Show-a-histogram-of-the-log-transformation-of-total-cases-10\"><span class=\"toc-item-num\">10&nbsp;&nbsp;</span>Perform a log transformation of the Covid data. Show a histogram of the log transformation of total cases</a></span></li></ul></div>"
   ]
  },
  {
   "cell_type": "markdown",
   "id": "acting-planet",
   "metadata": {},
   "source": [
    "# Load the pandas, numpy, matplotlib, statsmodels, and scipy libraries, and the Covid case data file"
   ]
  },
  {
   "cell_type": "code",
   "execution_count": 10,
   "id": "extensive-buyer",
   "metadata": {},
   "outputs": [],
   "source": [
    "import pandas as pd\n",
    "import numpy as np\n",
    "import matplotlib.pyplot as plt"
   ]
  },
  {
   "cell_type": "code",
   "execution_count": 11,
   "id": "concerned-quarter",
   "metadata": {},
   "outputs": [],
   "source": [
    "import statsmodels.api as sm\n",
    "import scipy.stats as scistat"
   ]
  },
  {
   "cell_type": "code",
   "execution_count": 25,
   "id": "nervous-illness",
   "metadata": {},
   "outputs": [],
   "source": [
    "# pd.set_option('display.width', 85)\n",
    "# pd.set_option('display.max_columns', 6)\n",
    "# pd.set_option('display.max_rows', 20)\n",
    "pd.options.display.float_format = '{:,.2f}'.format"
   ]
  },
  {
   "cell_type": "code",
   "execution_count": 12,
   "id": "overall-recycling",
   "metadata": {},
   "outputs": [
    {
     "name": "stdout",
     "output_type": "stream",
     "text": [
      "The watermark extension is already loaded. To reload it, use:\n",
      "  %reload_ext watermark\n"
     ]
    }
   ],
   "source": [
    "import watermark\n",
    "%load_ext watermark"
   ]
  },
  {
   "cell_type": "code",
   "execution_count": 13,
   "id": "supreme-lesbian",
   "metadata": {},
   "outputs": [
    {
     "name": "stdout",
     "output_type": "stream",
     "text": [
      "Python implementation: CPython\n",
      "Python version       : 3.7.9\n",
      "IPython version      : 7.20.0\n",
      "\n",
      "pandas     : 1.2.1\n",
      "matplotlib : 3.3.2\n",
      "json       : 2.0.9\n",
      "statsmodels: 0.12.1\n",
      "watermark  : 2.1.0\n",
      "scipy      : 1.6.0\n",
      "numpy      : 1.19.2\n",
      "\n"
     ]
    }
   ],
   "source": [
    "%watermark -n -v -iv"
   ]
  },
  {
   "cell_type": "code",
   "execution_count": 14,
   "id": "adjacent-armstrong",
   "metadata": {},
   "outputs": [],
   "source": [
    "covidtotals = pd.read_csv('data/covidtotals.csv')"
   ]
  },
  {
   "cell_type": "code",
   "execution_count": 15,
   "id": "front-chancellor",
   "metadata": {},
   "outputs": [],
   "source": [
    "covidtotals.set_index('iso_code', inplace=True)"
   ]
  },
  {
   "cell_type": "code",
   "execution_count": 16,
   "id": "sitting-ribbon",
   "metadata": {},
   "outputs": [],
   "source": [
    "totvars = ['location', 'total_cases', 'total_deaths', 'total_cases_pm', 'total_deaths_pm']"
   ]
  },
  {
   "cell_type": "code",
   "execution_count": 17,
   "id": "coordinate-capitol",
   "metadata": {},
   "outputs": [],
   "source": [
    "demovars = ['population','pop_density','median_age','gdp_per_capita', 'hosp_beds']"
   ]
  },
  {
   "cell_type": "markdown",
   "id": "elementary-cursor",
   "metadata": {},
   "source": [
    "# Get descriptive statistics for the Covid case data"
   ]
  },
  {
   "cell_type": "code",
   "execution_count": 23,
   "id": "coral-hello",
   "metadata": {},
   "outputs": [
    {
     "name": "stdout",
     "output_type": "stream",
     "text": [
      "<class 'pandas.core.frame.DataFrame'>\n",
      "Index: 210 entries, AFG to ZWE\n",
      "Data columns (total 5 columns):\n",
      " #   Column           Non-Null Count  Dtype  \n",
      "---  ------           --------------  -----  \n",
      " 0   location         210 non-null    object \n",
      " 1   total_cases      210 non-null    int64  \n",
      " 2   total_deaths     210 non-null    int64  \n",
      " 3   total_cases_pm   210 non-null    float64\n",
      " 4   total_deaths_pm  210 non-null    float64\n",
      "dtypes: float64(2), int64(2), object(1)\n",
      "memory usage: 9.8+ KB\n"
     ]
    }
   ],
   "source": [
    "covidtotalsonly.info()"
   ]
  },
  {
   "cell_type": "code",
   "execution_count": 18,
   "id": "prostate-mission",
   "metadata": {},
   "outputs": [],
   "source": [
    "covidtotalsonly = covidtotals.loc[:, totvars]"
   ]
  },
  {
   "cell_type": "code",
   "execution_count": 26,
   "id": "breeding-dictionary",
   "metadata": {},
   "outputs": [
    {
     "data": {
      "text/html": [
       "<div>\n",
       "<style scoped>\n",
       "    .dataframe tbody tr th:only-of-type {\n",
       "        vertical-align: middle;\n",
       "    }\n",
       "\n",
       "    .dataframe tbody tr th {\n",
       "        vertical-align: top;\n",
       "    }\n",
       "\n",
       "    .dataframe thead th {\n",
       "        text-align: right;\n",
       "    }\n",
       "</style>\n",
       "<table border=\"1\" class=\"dataframe\">\n",
       "  <thead>\n",
       "    <tr style=\"text-align: right;\">\n",
       "      <th></th>\n",
       "      <th>total_cases</th>\n",
       "      <th>total_deaths</th>\n",
       "      <th>total_cases_pm</th>\n",
       "      <th>total_deaths_pm</th>\n",
       "    </tr>\n",
       "  </thead>\n",
       "  <tbody>\n",
       "    <tr>\n",
       "      <th>count</th>\n",
       "      <td>210.00</td>\n",
       "      <td>210.00</td>\n",
       "      <td>210.00</td>\n",
       "      <td>210.00</td>\n",
       "    </tr>\n",
       "    <tr>\n",
       "      <th>mean</th>\n",
       "      <td>29,216.14</td>\n",
       "      <td>1,770.71</td>\n",
       "      <td>1,355.36</td>\n",
       "      <td>55.66</td>\n",
       "    </tr>\n",
       "    <tr>\n",
       "      <th>std</th>\n",
       "      <td>136,397.80</td>\n",
       "      <td>8,705.57</td>\n",
       "      <td>2,625.28</td>\n",
       "      <td>144.79</td>\n",
       "    </tr>\n",
       "    <tr>\n",
       "      <th>min</th>\n",
       "      <td>0.00</td>\n",
       "      <td>0.00</td>\n",
       "      <td>0.00</td>\n",
       "      <td>0.00</td>\n",
       "    </tr>\n",
       "    <tr>\n",
       "      <th>25%</th>\n",
       "      <td>175.75</td>\n",
       "      <td>4.00</td>\n",
       "      <td>92.54</td>\n",
       "      <td>0.88</td>\n",
       "    </tr>\n",
       "    <tr>\n",
       "      <th>50%</th>\n",
       "      <td>1,242.50</td>\n",
       "      <td>25.50</td>\n",
       "      <td>280.93</td>\n",
       "      <td>6.15</td>\n",
       "    </tr>\n",
       "    <tr>\n",
       "      <th>75%</th>\n",
       "      <td>10,117.00</td>\n",
       "      <td>241.25</td>\n",
       "      <td>1,801.39</td>\n",
       "      <td>31.78</td>\n",
       "    </tr>\n",
       "    <tr>\n",
       "      <th>max</th>\n",
       "      <td>1,790,191.00</td>\n",
       "      <td>104,383.00</td>\n",
       "      <td>19,771.35</td>\n",
       "      <td>1,237.55</td>\n",
       "    </tr>\n",
       "  </tbody>\n",
       "</table>\n",
       "</div>"
      ],
      "text/plain": [
       "       total_cases  total_deaths  total_cases_pm  total_deaths_pm\n",
       "count       210.00        210.00          210.00           210.00\n",
       "mean     29,216.14      1,770.71        1,355.36            55.66\n",
       "std     136,397.80      8,705.57        2,625.28           144.79\n",
       "min           0.00          0.00            0.00             0.00\n",
       "25%         175.75          4.00           92.54             0.88\n",
       "50%       1,242.50         25.50          280.93             6.15\n",
       "75%      10,117.00        241.25        1,801.39            31.78\n",
       "max   1,790,191.00    104,383.00       19,771.35         1,237.55"
      ]
     },
     "execution_count": 26,
     "metadata": {},
     "output_type": "execute_result"
    }
   ],
   "source": [
    "covidtotalsonly.describe()"
   ]
  },
  {
   "cell_type": "markdown",
   "id": "solved-conducting",
   "metadata": {},
   "source": [
    "# Show more detailed percentile data"
   ]
  },
  {
   "cell_type": "code",
   "execution_count": 27,
   "id": "substantial-orbit",
   "metadata": {},
   "outputs": [
    {
     "data": {
      "text/html": [
       "<div>\n",
       "<style scoped>\n",
       "    .dataframe tbody tr th:only-of-type {\n",
       "        vertical-align: middle;\n",
       "    }\n",
       "\n",
       "    .dataframe tbody tr th {\n",
       "        vertical-align: top;\n",
       "    }\n",
       "\n",
       "    .dataframe thead th {\n",
       "        text-align: right;\n",
       "    }\n",
       "</style>\n",
       "<table border=\"1\" class=\"dataframe\">\n",
       "  <thead>\n",
       "    <tr style=\"text-align: right;\">\n",
       "      <th></th>\n",
       "      <th>total_cases</th>\n",
       "      <th>total_deaths</th>\n",
       "      <th>total_cases_pm</th>\n",
       "      <th>total_deaths_pm</th>\n",
       "    </tr>\n",
       "  </thead>\n",
       "  <tbody>\n",
       "    <tr>\n",
       "      <th>0.00</th>\n",
       "      <td>0.00</td>\n",
       "      <td>0.00</td>\n",
       "      <td>0.00</td>\n",
       "      <td>0.00</td>\n",
       "    </tr>\n",
       "    <tr>\n",
       "      <th>0.10</th>\n",
       "      <td>22.90</td>\n",
       "      <td>0.00</td>\n",
       "      <td>18.00</td>\n",
       "      <td>0.00</td>\n",
       "    </tr>\n",
       "    <tr>\n",
       "      <th>0.20</th>\n",
       "      <td>105.20</td>\n",
       "      <td>2.00</td>\n",
       "      <td>56.29</td>\n",
       "      <td>0.38</td>\n",
       "    </tr>\n",
       "    <tr>\n",
       "      <th>0.30</th>\n",
       "      <td>302.00</td>\n",
       "      <td>6.70</td>\n",
       "      <td>115.43</td>\n",
       "      <td>1.72</td>\n",
       "    </tr>\n",
       "    <tr>\n",
       "      <th>0.40</th>\n",
       "      <td>762.00</td>\n",
       "      <td>12.00</td>\n",
       "      <td>213.97</td>\n",
       "      <td>3.96</td>\n",
       "    </tr>\n",
       "    <tr>\n",
       "      <th>0.50</th>\n",
       "      <td>1,242.50</td>\n",
       "      <td>25.50</td>\n",
       "      <td>280.93</td>\n",
       "      <td>6.15</td>\n",
       "    </tr>\n",
       "    <tr>\n",
       "      <th>0.60</th>\n",
       "      <td>2,514.60</td>\n",
       "      <td>54.60</td>\n",
       "      <td>543.96</td>\n",
       "      <td>12.25</td>\n",
       "    </tr>\n",
       "    <tr>\n",
       "      <th>0.70</th>\n",
       "      <td>6,959.80</td>\n",
       "      <td>137.20</td>\n",
       "      <td>1,071.24</td>\n",
       "      <td>25.95</td>\n",
       "    </tr>\n",
       "    <tr>\n",
       "      <th>0.80</th>\n",
       "      <td>16,847.20</td>\n",
       "      <td>323.20</td>\n",
       "      <td>2,206.30</td>\n",
       "      <td>49.97</td>\n",
       "    </tr>\n",
       "    <tr>\n",
       "      <th>0.90</th>\n",
       "      <td>46,513.10</td>\n",
       "      <td>1,616.90</td>\n",
       "      <td>3,765.14</td>\n",
       "      <td>138.90</td>\n",
       "    </tr>\n",
       "    <tr>\n",
       "      <th>1.00</th>\n",
       "      <td>1,790,191.00</td>\n",
       "      <td>104,383.00</td>\n",
       "      <td>19,771.35</td>\n",
       "      <td>1,237.55</td>\n",
       "    </tr>\n",
       "  </tbody>\n",
       "</table>\n",
       "</div>"
      ],
      "text/plain": [
       "      total_cases  total_deaths  total_cases_pm  total_deaths_pm\n",
       "0.00         0.00          0.00            0.00             0.00\n",
       "0.10        22.90          0.00           18.00             0.00\n",
       "0.20       105.20          2.00           56.29             0.38\n",
       "0.30       302.00          6.70          115.43             1.72\n",
       "0.40       762.00         12.00          213.97             3.96\n",
       "0.50     1,242.50         25.50          280.93             6.15\n",
       "0.60     2,514.60         54.60          543.96            12.25\n",
       "0.70     6,959.80        137.20        1,071.24            25.95\n",
       "0.80    16,847.20        323.20        2,206.30            49.97\n",
       "0.90    46,513.10      1,616.90        3,765.14           138.90\n",
       "1.00 1,790,191.00    104,383.00       19,771.35         1,237.55"
      ]
     },
     "execution_count": 27,
     "metadata": {},
     "output_type": "execute_result"
    }
   ],
   "source": [
    "covidtotalsonly.quantile(np.arange(0.0, 1.1, 0.1))"
   ]
  },
  {
   "cell_type": "code",
   "execution_count": 28,
   "id": "applied-hello",
   "metadata": {},
   "outputs": [
    {
     "data": {
      "text/plain": [
       "total_cases       10.80\n",
       "total_deaths       8.93\n",
       "total_cases_pm     4.40\n",
       "total_deaths_pm    4.67\n",
       "dtype: float64"
      ]
     },
     "execution_count": 28,
     "metadata": {},
     "output_type": "execute_result"
    }
   ],
   "source": [
    "covidtotalsonly.skew()"
   ]
  },
  {
   "cell_type": "code",
   "execution_count": 29,
   "id": "supposed-water",
   "metadata": {},
   "outputs": [
    {
     "data": {
      "text/plain": [
       "total_cases       134.98\n",
       "total_deaths       95.74\n",
       "total_cases_pm     25.24\n",
       "total_deaths_pm    27.24\n",
       "dtype: float64"
      ]
     },
     "execution_count": 29,
     "metadata": {},
     "output_type": "execute_result"
    }
   ],
   "source": [
    "covidtotalsonly.kurtosis()"
   ]
  },
  {
   "cell_type": "markdown",
   "id": "dirty-sword",
   "metadata": {},
   "source": [
    "# Test the Covid data for normality"
   ]
  },
  {
   "cell_type": "code",
   "execution_count": 32,
   "id": "played-burke",
   "metadata": {},
   "outputs": [],
   "source": [
    "def testnorm(var, df):\n",
    "    stat, p = scistat.shapiro(df[var])\n",
    "    return p"
   ]
  },
  {
   "cell_type": "code",
   "execution_count": 33,
   "id": "dress-contrast",
   "metadata": {},
   "outputs": [
    {
     "data": {
      "text/plain": [
       "3.753789128593843e-29"
      ]
     },
     "execution_count": 33,
     "metadata": {},
     "output_type": "execute_result"
    }
   ],
   "source": [
    "testnorm('total_cases', covidtotalsonly)"
   ]
  },
  {
   "cell_type": "code",
   "execution_count": 34,
   "id": "according-bulletin",
   "metadata": {},
   "outputs": [
    {
     "data": {
      "text/plain": [
       "4.3427896631016077e-29"
      ]
     },
     "execution_count": 34,
     "metadata": {},
     "output_type": "execute_result"
    }
   ],
   "source": [
    "testnorm('total_deaths', covidtotalsonly)"
   ]
  },
  {
   "cell_type": "code",
   "execution_count": 35,
   "id": "latin-helmet",
   "metadata": {},
   "outputs": [
    {
     "data": {
      "text/plain": [
       "1.3972683006509067e-23"
      ]
     },
     "execution_count": 35,
     "metadata": {},
     "output_type": "execute_result"
    }
   ],
   "source": [
    "testnorm('total_cases_pm', covidtotalsonly)"
   ]
  },
  {
   "cell_type": "code",
   "execution_count": 36,
   "id": "expensive-background",
   "metadata": {},
   "outputs": [
    {
     "data": {
      "text/plain": [
       "1.361060423265974e-25"
      ]
     },
     "execution_count": 36,
     "metadata": {},
     "output_type": "execute_result"
    }
   ],
   "source": [
    "testnorm('total_deaths_pm', covidtotalsonly)"
   ]
  },
  {
   "cell_type": "markdown",
   "id": "legitimate-custody",
   "metadata": {},
   "source": [
    "# Show normal quantile-quantile plots (qqplots) of total cases and total cases per million"
   ]
  },
  {
   "cell_type": "code",
   "execution_count": 38,
   "id": "supreme-associate",
   "metadata": {},
   "outputs": [
    {
     "data": {
      "image/png": "[encoded data removed]",
      "text/plain": [
       "<Figure size 432x288 with 1 Axes>"
      ]
     },
     "metadata": {
      "needs_background": "light"
     },
     "output_type": "display_data"
    },
    {
     "data": {
      "image/png": "[encoded data removed]",
      "text/plain": [
       "<Figure size 432x288 with 1 Axes>"
      ]
     },
     "metadata": {
      "needs_background": "light"
     },
     "output_type": "display_data"
    }
   ],
   "source": [
    "sm.qqplot(covidtotalsonly[['total_cases']].sort_values(['total_cases']), line='s')\n",
    "plt.title('QQ Plot of Total Cases')\n",
    "sm.qqplot(covidtotalsonly[['total_cases_pm']].sort_values(['total_cases_pm']), line='s')\n",
    "plt.title('QQ Plot of Total Cases per Million')\n",
    "plt.show()"
   ]
  },
  {
   "cell_type": "markdown",
   "id": "extended-pursuit",
   "metadata": {},
   "source": [
    "# Show the outlier range for total cases"
   ]
  },
  {
   "cell_type": "code",
   "execution_count": 39,
   "id": "korean-active",
   "metadata": {},
   "outputs": [],
   "source": [
    "thirdq, firstq = covidtotalsonly['total_cases'].quantile(0.75), covidtotals['total_cases'].quantile(0.25)"
   ]
  },
  {
   "cell_type": "code",
   "execution_count": 40,
   "id": "graduate-share",
   "metadata": {},
   "outputs": [
    {
     "data": {
      "text/plain": [
       "14911.875"
      ]
     },
     "execution_count": 40,
     "metadata": {},
     "output_type": "execute_result"
    }
   ],
   "source": [
    "interquartilerange = 1.5*(thirdq-firstq)\n",
    "interquartilerange"
   ]
  },
  {
   "cell_type": "code",
   "execution_count": 42,
   "id": "olive-collar",
   "metadata": {},
   "outputs": [
    {
     "data": {
      "text/plain": [
       "(25028.875, -14736.125)"
      ]
     },
     "execution_count": 42,
     "metadata": {},
     "output_type": "execute_result"
    }
   ],
   "source": [
    "outlierhigh, outlierlow = interquartilerange + thirdq, firstq - interquartilerange\n",
    "outlierhigh, outlierlow"
   ]
  },
  {
   "cell_type": "code",
   "execution_count": 44,
   "id": "later-october",
   "metadata": {},
   "outputs": [
    {
     "name": "stdout",
     "output_type": "stream",
     "text": [
      "-14736.125 <--> 25028.875\n"
     ]
    }
   ],
   "source": [
    "print(outlierlow, outlierhigh, sep=' <--> ')"
   ]
  },
  {
   "cell_type": "markdown",
   "id": "baking-hollow",
   "metadata": {},
   "source": [
    "# Generate a data frame of outliers and write it to Excel"
   ]
  },
  {
   "cell_type": "code",
   "execution_count": 63,
   "id": "deluxe-serve",
   "metadata": {},
   "outputs": [],
   "source": [
    "def getoutliers():\n",
    "    dfout = pd.DataFrame(columns=covidtotals.columns, data=None)\n",
    "    for col in covidtotalsonly.columns[1:]:\n",
    "        thirdq, firstq = covidtotalsonly[col].quantile(0.75), covidtotalsonly[col].quantile(0.25)\n",
    "        interquartilerange = 1.5 * (thirdq - firstq)\n",
    "        outlierhigh, outlierlow = interquartilerange + thirdq, firstq - interquartilerange\n",
    "        df = covidtotals.loc[(covidtotals[col] > outlierhigh) |\n",
    "                             (covidtotals[col] < outlierlow)]\n",
    "        df = df.assign(varname=col,\n",
    "                       threshlow=outlierlow,\n",
    "                       threshhigh=outlierhigh)\n",
    "        dfout = pd.concat([dfout, df])\n",
    "    return dfout"
   ]
  },
  {
   "cell_type": "code",
   "execution_count": 64,
   "id": "verbal-monster",
   "metadata": {},
   "outputs": [],
   "source": [
    "outliers = getoutliers()"
   ]
  },
  {
   "cell_type": "code",
   "execution_count": 66,
   "id": "wanted-payroll",
   "metadata": {},
   "outputs": [
    {
     "data": {
      "text/html": [
       "<div>\n",
       "<style scoped>\n",
       "    .dataframe tbody tr th:only-of-type {\n",
       "        vertical-align: middle;\n",
       "    }\n",
       "\n",
       "    .dataframe tbody tr th {\n",
       "        vertical-align: top;\n",
       "    }\n",
       "\n",
       "    .dataframe thead th {\n",
       "        text-align: right;\n",
       "    }\n",
       "</style>\n",
       "<table border=\"1\" class=\"dataframe\">\n",
       "  <thead>\n",
       "    <tr style=\"text-align: right;\">\n",
       "      <th></th>\n",
       "      <th>lastdate</th>\n",
       "      <th>location</th>\n",
       "      <th>total_cases</th>\n",
       "      <th>total_deaths</th>\n",
       "      <th>total_cases_pm</th>\n",
       "      <th>total_deaths_pm</th>\n",
       "      <th>population</th>\n",
       "      <th>pop_density</th>\n",
       "      <th>median_age</th>\n",
       "      <th>gdp_per_capita</th>\n",
       "      <th>hosp_beds</th>\n",
       "      <th>varname</th>\n",
       "      <th>threshlow</th>\n",
       "      <th>threshhigh</th>\n",
       "    </tr>\n",
       "  </thead>\n",
       "  <tbody>\n",
       "    <tr>\n",
       "      <th>BGD</th>\n",
       "      <td>2020-06-01</td>\n",
       "      <td>Bangladesh</td>\n",
       "      <td>47153</td>\n",
       "      <td>650</td>\n",
       "      <td>286.31</td>\n",
       "      <td>3.95</td>\n",
       "      <td>164,689,383.00</td>\n",
       "      <td>1,265.04</td>\n",
       "      <td>27.50</td>\n",
       "      <td>3,523.98</td>\n",
       "      <td>0.80</td>\n",
       "      <td>total_cases</td>\n",
       "      <td>-14,736.12</td>\n",
       "      <td>25,028.88</td>\n",
       "    </tr>\n",
       "    <tr>\n",
       "      <th>BLR</th>\n",
       "      <td>2020-06-01</td>\n",
       "      <td>Belarus</td>\n",
       "      <td>42556</td>\n",
       "      <td>235</td>\n",
       "      <td>4,503.60</td>\n",
       "      <td>24.87</td>\n",
       "      <td>9,449,321.00</td>\n",
       "      <td>46.86</td>\n",
       "      <td>40.30</td>\n",
       "      <td>17,167.97</td>\n",
       "      <td>11.00</td>\n",
       "      <td>total_cases</td>\n",
       "      <td>-14,736.12</td>\n",
       "      <td>25,028.88</td>\n",
       "    </tr>\n",
       "  </tbody>\n",
       "</table>\n",
       "</div>"
      ],
      "text/plain": [
       "       lastdate    location total_cases total_deaths  total_cases_pm  \\\n",
       "BGD  2020-06-01  Bangladesh       47153          650          286.31   \n",
       "BLR  2020-06-01     Belarus       42556          235        4,503.60   \n",
       "\n",
       "     total_deaths_pm     population  pop_density  median_age  gdp_per_capita  \\\n",
       "BGD             3.95 164,689,383.00     1,265.04       27.50        3,523.98   \n",
       "BLR            24.87   9,449,321.00        46.86       40.30       17,167.97   \n",
       "\n",
       "     hosp_beds      varname  threshlow  threshhigh  \n",
       "BGD       0.80  total_cases -14,736.12   25,028.88  \n",
       "BLR      11.00  total_cases -14,736.12   25,028.88  "
      ]
     },
     "execution_count": 66,
     "metadata": {},
     "output_type": "execute_result"
    }
   ],
   "source": [
    "outliers.head(2)"
   ]
  },
  {
   "cell_type": "code",
   "execution_count": 65,
   "id": "meaningful-advice",
   "metadata": {},
   "outputs": [
    {
     "data": {
      "text/plain": [
       "total_deaths       36\n",
       "total_cases        33\n",
       "total_deaths_pm    28\n",
       "total_cases_pm     17\n",
       "Name: varname, dtype: int64"
      ]
     },
     "execution_count": 65,
     "metadata": {},
     "output_type": "execute_result"
    }
   ],
   "source": [
    "outliers.varname.value_counts()"
   ]
  },
  {
   "cell_type": "code",
   "execution_count": 68,
   "id": "prescription-essex",
   "metadata": {},
   "outputs": [],
   "source": [
    "outliers.to_excel('views/outlierscases.xlsx')"
   ]
  },
  {
   "cell_type": "markdown",
   "id": "attempted-blind",
   "metadata": {},
   "source": [
    "# Look a little more closely at outliers for cases per million"
   ]
  },
  {
   "cell_type": "code",
   "execution_count": 70,
   "id": "reflected-constitution",
   "metadata": {},
   "outputs": [
    {
     "data": {
      "text/html": [
       "<div>\n",
       "<style scoped>\n",
       "    .dataframe tbody tr th:only-of-type {\n",
       "        vertical-align: middle;\n",
       "    }\n",
       "\n",
       "    .dataframe tbody tr th {\n",
       "        vertical-align: top;\n",
       "    }\n",
       "\n",
       "    .dataframe thead th {\n",
       "        text-align: right;\n",
       "    }\n",
       "</style>\n",
       "<table border=\"1\" class=\"dataframe\">\n",
       "  <thead>\n",
       "    <tr style=\"text-align: right;\">\n",
       "      <th></th>\n",
       "      <th>location</th>\n",
       "      <th>total_cases_pm</th>\n",
       "      <th>pop_density</th>\n",
       "      <th>gdp_per_capita</th>\n",
       "    </tr>\n",
       "  </thead>\n",
       "  <tbody>\n",
       "    <tr>\n",
       "      <th>SMR</th>\n",
       "      <td>San Marino</td>\n",
       "      <td>19,771.35</td>\n",
       "      <td>556.67</td>\n",
       "      <td>56,861.47</td>\n",
       "    </tr>\n",
       "    <tr>\n",
       "      <th>QAT</th>\n",
       "      <td>Qatar</td>\n",
       "      <td>19,753.15</td>\n",
       "      <td>227.32</td>\n",
       "      <td>116,935.60</td>\n",
       "    </tr>\n",
       "    <tr>\n",
       "      <th>VAT</th>\n",
       "      <td>Vatican</td>\n",
       "      <td>14,833.13</td>\n",
       "      <td>NaN</td>\n",
       "      <td>NaN</td>\n",
       "    </tr>\n",
       "    <tr>\n",
       "      <th>AND</th>\n",
       "      <td>Andorra</td>\n",
       "      <td>9,888.05</td>\n",
       "      <td>163.75</td>\n",
       "      <td>NaN</td>\n",
       "    </tr>\n",
       "    <tr>\n",
       "      <th>BHR</th>\n",
       "      <td>Bahrain</td>\n",
       "      <td>6,698.47</td>\n",
       "      <td>1,935.91</td>\n",
       "      <td>43,290.71</td>\n",
       "    </tr>\n",
       "    <tr>\n",
       "      <th>LUX</th>\n",
       "      <td>Luxembourg</td>\n",
       "      <td>6,418.78</td>\n",
       "      <td>231.45</td>\n",
       "      <td>94,277.96</td>\n",
       "    </tr>\n",
       "    <tr>\n",
       "      <th>KWT</th>\n",
       "      <td>Kuwait</td>\n",
       "      <td>6,332.42</td>\n",
       "      <td>232.13</td>\n",
       "      <td>65,530.54</td>\n",
       "    </tr>\n",
       "    <tr>\n",
       "      <th>SGP</th>\n",
       "      <td>Singapore</td>\n",
       "      <td>5,962.73</td>\n",
       "      <td>7,915.73</td>\n",
       "      <td>85,535.38</td>\n",
       "    </tr>\n",
       "    <tr>\n",
       "      <th>USA</th>\n",
       "      <td>United States</td>\n",
       "      <td>5,408.39</td>\n",
       "      <td>35.61</td>\n",
       "      <td>54,225.45</td>\n",
       "    </tr>\n",
       "    <tr>\n",
       "      <th>ISL</th>\n",
       "      <td>Iceland</td>\n",
       "      <td>5,292.31</td>\n",
       "      <td>3.40</td>\n",
       "      <td>46,482.96</td>\n",
       "    </tr>\n",
       "    <tr>\n",
       "      <th>CHL</th>\n",
       "      <td>Chile</td>\n",
       "      <td>5,214.84</td>\n",
       "      <td>24.28</td>\n",
       "      <td>22,767.04</td>\n",
       "    </tr>\n",
       "    <tr>\n",
       "      <th>ESP</th>\n",
       "      <td>Spain</td>\n",
       "      <td>5,120.95</td>\n",
       "      <td>93.11</td>\n",
       "      <td>34,272.36</td>\n",
       "    </tr>\n",
       "    <tr>\n",
       "      <th>IRL</th>\n",
       "      <td>Ireland</td>\n",
       "      <td>5,060.96</td>\n",
       "      <td>69.87</td>\n",
       "      <td>67,335.29</td>\n",
       "    </tr>\n",
       "    <tr>\n",
       "      <th>BEL</th>\n",
       "      <td>Belgium</td>\n",
       "      <td>5,037.35</td>\n",
       "      <td>375.56</td>\n",
       "      <td>42,658.58</td>\n",
       "    </tr>\n",
       "    <tr>\n",
       "      <th>GIB</th>\n",
       "      <td>Gibraltar</td>\n",
       "      <td>5,016.18</td>\n",
       "      <td>3,457.10</td>\n",
       "      <td>NaN</td>\n",
       "    </tr>\n",
       "    <tr>\n",
       "      <th>PER</th>\n",
       "      <td>Peru</td>\n",
       "      <td>4,988.38</td>\n",
       "      <td>25.13</td>\n",
       "      <td>12,236.71</td>\n",
       "    </tr>\n",
       "    <tr>\n",
       "      <th>BLR</th>\n",
       "      <td>Belarus</td>\n",
       "      <td>4,503.60</td>\n",
       "      <td>46.86</td>\n",
       "      <td>17,167.97</td>\n",
       "    </tr>\n",
       "  </tbody>\n",
       "</table>\n",
       "</div>"
      ],
      "text/plain": [
       "          location  total_cases_pm  pop_density  gdp_per_capita\n",
       "SMR     San Marino       19,771.35       556.67       56,861.47\n",
       "QAT          Qatar       19,753.15       227.32      116,935.60\n",
       "VAT        Vatican       14,833.13          NaN             NaN\n",
       "AND        Andorra        9,888.05       163.75             NaN\n",
       "BHR        Bahrain        6,698.47     1,935.91       43,290.71\n",
       "LUX     Luxembourg        6,418.78       231.45       94,277.96\n",
       "KWT         Kuwait        6,332.42       232.13       65,530.54\n",
       "SGP      Singapore        5,962.73     7,915.73       85,535.38\n",
       "USA  United States        5,408.39        35.61       54,225.45\n",
       "ISL        Iceland        5,292.31         3.40       46,482.96\n",
       "CHL          Chile        5,214.84        24.28       22,767.04\n",
       "ESP          Spain        5,120.95        93.11       34,272.36\n",
       "IRL        Ireland        5,060.96        69.87       67,335.29\n",
       "BEL        Belgium        5,037.35       375.56       42,658.58\n",
       "GIB      Gibraltar        5,016.18     3,457.10             NaN\n",
       "PER           Peru        4,988.38        25.13       12,236.71\n",
       "BLR        Belarus        4,503.60        46.86       17,167.97"
      ]
     },
     "execution_count": 70,
     "metadata": {},
     "output_type": "execute_result"
    }
   ],
   "source": [
    "outliers.loc[outliers['varname'] == 'total_cases_pm',\n",
    "             ['location', 'total_cases_pm', 'pop_density', 'gdp_per_capita'\n",
    "              ]].sort_values(['total_cases_pm'], ascending=False)"
   ]
  },
  {
   "cell_type": "code",
   "execution_count": 71,
   "id": "greater-clark",
   "metadata": {},
   "outputs": [
    {
     "data": {
      "text/html": [
       "<div>\n",
       "<style scoped>\n",
       "    .dataframe tbody tr th:only-of-type {\n",
       "        vertical-align: middle;\n",
       "    }\n",
       "\n",
       "    .dataframe tbody tr th {\n",
       "        vertical-align: top;\n",
       "    }\n",
       "\n",
       "    .dataframe thead th {\n",
       "        text-align: right;\n",
       "    }\n",
       "</style>\n",
       "<table border=\"1\" class=\"dataframe\">\n",
       "  <thead>\n",
       "    <tr style=\"text-align: right;\">\n",
       "      <th></th>\n",
       "      <th>pop_density</th>\n",
       "      <th>gdp_per_capita</th>\n",
       "    </tr>\n",
       "  </thead>\n",
       "  <tbody>\n",
       "    <tr>\n",
       "      <th>0.25</th>\n",
       "      <td>37.42</td>\n",
       "      <td>4,485.33</td>\n",
       "    </tr>\n",
       "    <tr>\n",
       "      <th>0.50</th>\n",
       "      <td>87.25</td>\n",
       "      <td>13,183.08</td>\n",
       "    </tr>\n",
       "    <tr>\n",
       "      <th>0.75</th>\n",
       "      <td>214.12</td>\n",
       "      <td>28,556.53</td>\n",
       "    </tr>\n",
       "  </tbody>\n",
       "</table>\n",
       "</div>"
      ],
      "text/plain": [
       "      pop_density  gdp_per_capita\n",
       "0.25        37.42        4,485.33\n",
       "0.50        87.25       13,183.08\n",
       "0.75       214.12       28,556.53"
      ]
     },
     "execution_count": 71,
     "metadata": {},
     "output_type": "execute_result"
    }
   ],
   "source": [
    "covidtotals[['pop_density', 'gdp_per_capita']].quantile([0.25, 0.5, 0.75])"
   ]
  },
  {
   "cell_type": "markdown",
   "id": "pursuant-punishment",
   "metadata": {},
   "source": [
    "# Show a histogram of total cases"
   ]
  },
  {
   "cell_type": "code",
   "execution_count": 72,
   "id": "floppy-bangkok",
   "metadata": {},
   "outputs": [
    {
     "data": {
      "image/png": "[encoded data removed]",
      "text/plain": [
       "<Figure size 432x288 with 1 Axes>"
      ]
     },
     "metadata": {
      "needs_background": "light"
     },
     "output_type": "display_data"
    }
   ],
   "source": [
    "plt.hist(covidtotalsonly['total_cases']/1000, bins=7)\n",
    "plt.title('Total Covid Cases (thousands)')\n",
    "plt.xlabel('Cases')\n",
    "plt.ylabel('Number of Countries')\n",
    "plt.show()"
   ]
  },
  {
   "cell_type": "code",
   "execution_count": 73,
   "id": "realistic-serum",
   "metadata": {},
   "outputs": [
    {
     "data": {
      "image/png": "[encoded data removed]",
      "text/plain": [
       "<Figure size 432x288 with 1 Axes>"
      ]
     },
     "metadata": {
      "needs_background": "light"
     },
     "output_type": "display_data"
    }
   ],
   "source": [
    "plt.hist(covidtotalsonly['total_cases']/1000, bins=30)\n",
    "plt.title('Total Covid Cases (thousands)')\n",
    "plt.xlabel('Cases')\n",
    "plt.ylabel('Number of Countries')\n",
    "plt.show()"
   ]
  },
  {
   "cell_type": "markdown",
   "id": "committed-louisville",
   "metadata": {},
   "source": [
    "# Perform a log transformation of the Covid data. Show a histogram of the log transformation of total cases"
   ]
  },
  {
   "cell_type": "code",
   "execution_count": 74,
   "id": "comparative-february",
   "metadata": {},
   "outputs": [],
   "source": [
    "covidlogs = covidtotalsonly.copy()"
   ]
  },
  {
   "cell_type": "code",
   "execution_count": 75,
   "id": "commercial-abuse",
   "metadata": {},
   "outputs": [
    {
     "data": {
      "image/png": "[encoded data removed]",
      "text/plain": [
       "<Figure size 432x288 with 1 Axes>"
      ]
     },
     "metadata": {
      "needs_background": "light"
     },
     "output_type": "display_data"
    }
   ],
   "source": [
    "for col in covidtotalsonly.columns[1:]:\n",
    "    covidlogs[col] = np.log1p(covidlogs[col])\n",
    "    \n",
    "plt.hist(covidlogs['total_cases'], bins=30)\n",
    "plt.title('Total Covid Cases (log)')\n",
    "plt.xlabel('Cases')\n",
    "plt.ylabel('Number of Countries')\n",
    "plt.show()"
   ]
  },
  {
   "cell_type": "code",
   "execution_count": null,
   "id": "annoying-forth",
   "metadata": {},
   "outputs": [],
   "source": []
  }
 ],
 "metadata": {
  "kernelspec": {
   "display_name": "Python 3",
   "language": "python",
   "name": "python3"
  },
  "language_info": {
   "codemirror_mode": {
    "name": "ipython",
    "version": 3
   },
   "file_extension": ".py",
   "mimetype": "text/x-python",
   "name": "python",
   "nbconvert_exporter": "python",
   "pygments_lexer": "ipython3",
   "version": "3.7.9"
  },
  "toc": {
   "base_numbering": 1,
   "nav_menu": {},
   "number_sections": true,
   "sideBar": true,
   "skip_h1_title": false,
   "title_cell": "Table of Contents",
   "title_sidebar": "Contents",
   "toc_cell": true,
   "toc_position": {
    "height": "calc(100% - 180px)",
    "left": "10px",
    "top": "150px",
    "width": "279.273px"
   },
   "toc_section_display": true,
   "toc_window_display": false
  }
 },
 "nbformat": 4,
 "nbformat_minor": 5
}
