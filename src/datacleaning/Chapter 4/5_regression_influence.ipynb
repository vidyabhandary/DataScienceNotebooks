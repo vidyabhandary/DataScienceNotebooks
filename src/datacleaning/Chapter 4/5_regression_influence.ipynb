{
 "cells": [
  {
   "cell_type": "markdown",
   "id": "sorted-geneva",
   "metadata": {
    "toc": true
   },
   "source": [
    "<h1>Table of Contents<span class=\"tocSkip\"></span></h1>\n",
    "<div class=\"toc\"><ul class=\"toc-item\"><li><span><a href=\"#Import-pandas,-matplotlib,-and-statsmodels,-and-load-the-COVID-case-data\" data-toc-modified-id=\"Import-pandas,-matplotlib,-and-statsmodels,-and-load-the-COVID-case-data-1\"><span class=\"toc-item-num\">1&nbsp;&nbsp;</span>Import pandas, matplotlib, and statsmodels, and load the COVID case data</a></span></li><li><span><a href=\"#Create-an-analysis-file-and-generate-descriptive-statistics\" data-toc-modified-id=\"Create-an-analysis-file-and-generate-descriptive-statistics-2\"><span class=\"toc-item-num\">2&nbsp;&nbsp;</span>Create an analysis file and generate descriptive statistics</a></span></li><li><span><a href=\"#Fit-a-linear-regression-model\" data-toc-modified-id=\"Fit-a-linear-regression-model-3\"><span class=\"toc-item-num\">3&nbsp;&nbsp;</span>Fit a linear regression model</a></span></li><li><span><a href=\"#Identify-those-countries-with-an-outsized-influence-on-the-model\" data-toc-modified-id=\"Identify-those-countries-with-an-outsized-influence-on-the-model-4\"><span class=\"toc-item-num\">4&nbsp;&nbsp;</span>Identify those countries with an outsized influence on the model</a></span></li><li><span><a href=\"#Do-an-influence-plot\" data-toc-modified-id=\"Do-an-influence-plot-5\"><span class=\"toc-item-num\">5&nbsp;&nbsp;</span>Do an influence plot</a></span></li><li><span><a href=\"#Run-the-model-without-the-two-outliers\" data-toc-modified-id=\"Run-the-model-without-the-two-outliers-6\"><span class=\"toc-item-num\">6&nbsp;&nbsp;</span>Run the model without the two outliers</a></span></li></ul></div>"
   ]
  },
  {
   "cell_type": "markdown",
   "id": "finnish-matthew",
   "metadata": {},
   "source": [
    "# Import pandas, matplotlib, and statsmodels, and load the COVID case data"
   ]
  },
  {
   "cell_type": "code",
   "execution_count": 1,
   "id": "deluxe-spray",
   "metadata": {},
   "outputs": [],
   "source": [
    "import pandas as pd\n",
    "import matplotlib.pyplot as plt\n",
    "import statsmodels.api as sm"
   ]
  },
  {
   "cell_type": "code",
   "execution_count": 8,
   "id": "religious-handbook",
   "metadata": {},
   "outputs": [],
   "source": [
    "# pd.set_option('display.width', 85)\n",
    "# pd.options.display.float_format = '{:,.0f}'.format"
   ]
  },
  {
   "cell_type": "code",
   "execution_count": 2,
   "id": "warming-little",
   "metadata": {},
   "outputs": [],
   "source": [
    "import watermark\n",
    "%load_ext watermark"
   ]
  },
  {
   "cell_type": "code",
   "execution_count": 3,
   "id": "related-arrow",
   "metadata": {},
   "outputs": [
    {
     "name": "stdout",
     "output_type": "stream",
     "text": [
      "Python implementation: CPython\n",
      "Python version       : 3.7.9\n",
      "IPython version      : 7.20.0\n",
      "\n",
      "pandas     : 1.2.1\n",
      "statsmodels: 0.12.1\n",
      "json       : 2.0.9\n",
      "watermark  : 2.1.0\n",
      "matplotlib : 3.3.2\n",
      "\n"
     ]
    }
   ],
   "source": [
    "%watermark -n -v -iv"
   ]
  },
  {
   "cell_type": "code",
   "execution_count": 4,
   "id": "extraordinary-cycling",
   "metadata": {},
   "outputs": [],
   "source": [
    "covidtotals = pd.read_csv('data/covidtotals.csv')\n",
    "covidtotals.set_index('iso_code', inplace=True)"
   ]
  },
  {
   "cell_type": "markdown",
   "id": "southern-modification",
   "metadata": {},
   "source": [
    "# Create an analysis file and generate descriptive statistics"
   ]
  },
  {
   "cell_type": "code",
   "execution_count": 5,
   "id": "corrected-services",
   "metadata": {},
   "outputs": [],
   "source": [
    "xvars = ['pop_density', 'median_age', 'gdp_per_capita']"
   ]
  },
  {
   "cell_type": "code",
   "execution_count": 6,
   "id": "stock-oxide",
   "metadata": {},
   "outputs": [],
   "source": [
    "covidanalysis = covidtotals.loc[:, ['total_cases_pm'] + xvars].dropna()"
   ]
  },
  {
   "cell_type": "code",
   "execution_count": 7,
   "id": "circular-murray",
   "metadata": {},
   "outputs": [
    {
     "data": {
      "text/html": [
       "<div>\n",
       "<style scoped>\n",
       "    .dataframe tbody tr th:only-of-type {\n",
       "        vertical-align: middle;\n",
       "    }\n",
       "\n",
       "    .dataframe tbody tr th {\n",
       "        vertical-align: top;\n",
       "    }\n",
       "\n",
       "    .dataframe thead th {\n",
       "        text-align: right;\n",
       "    }\n",
       "</style>\n",
       "<table border=\"1\" class=\"dataframe\">\n",
       "  <thead>\n",
       "    <tr style=\"text-align: right;\">\n",
       "      <th></th>\n",
       "      <th>total_cases_pm</th>\n",
       "      <th>pop_density</th>\n",
       "      <th>median_age</th>\n",
       "      <th>gdp_per_capita</th>\n",
       "    </tr>\n",
       "  </thead>\n",
       "  <tbody>\n",
       "    <tr>\n",
       "      <th>count</th>\n",
       "      <td>175.000000</td>\n",
       "      <td>175.000000</td>\n",
       "      <td>175.000000</td>\n",
       "      <td>175.000000</td>\n",
       "    </tr>\n",
       "    <tr>\n",
       "      <th>mean</th>\n",
       "      <td>1134.015709</td>\n",
       "      <td>247.151863</td>\n",
       "      <td>30.537143</td>\n",
       "      <td>19008.385423</td>\n",
       "    </tr>\n",
       "    <tr>\n",
       "      <th>std</th>\n",
       "      <td>2101.363772</td>\n",
       "      <td>822.398967</td>\n",
       "      <td>9.117751</td>\n",
       "      <td>19673.386571</td>\n",
       "    </tr>\n",
       "    <tr>\n",
       "      <th>min</th>\n",
       "      <td>0.000000</td>\n",
       "      <td>1.980000</td>\n",
       "      <td>15.100000</td>\n",
       "      <td>661.240000</td>\n",
       "    </tr>\n",
       "    <tr>\n",
       "      <th>25%</th>\n",
       "      <td>67.448000</td>\n",
       "      <td>36.066000</td>\n",
       "      <td>22.300000</td>\n",
       "      <td>4458.202500</td>\n",
       "    </tr>\n",
       "    <tr>\n",
       "      <th>50%</th>\n",
       "      <td>263.413000</td>\n",
       "      <td>82.328000</td>\n",
       "      <td>29.700000</td>\n",
       "      <td>12951.839000</td>\n",
       "    </tr>\n",
       "    <tr>\n",
       "      <th>75%</th>\n",
       "      <td>1357.506000</td>\n",
       "      <td>207.960000</td>\n",
       "      <td>38.700000</td>\n",
       "      <td>27467.146000</td>\n",
       "    </tr>\n",
       "    <tr>\n",
       "      <th>max</th>\n",
       "      <td>19753.146000</td>\n",
       "      <td>7915.731000</td>\n",
       "      <td>48.200000</td>\n",
       "      <td>116935.600000</td>\n",
       "    </tr>\n",
       "  </tbody>\n",
       "</table>\n",
       "</div>"
      ],
      "text/plain": [
       "       total_cases_pm  pop_density  median_age  gdp_per_capita\n",
       "count      175.000000   175.000000  175.000000      175.000000\n",
       "mean      1134.015709   247.151863   30.537143    19008.385423\n",
       "std       2101.363772   822.398967    9.117751    19673.386571\n",
       "min          0.000000     1.980000   15.100000      661.240000\n",
       "25%         67.448000    36.066000   22.300000     4458.202500\n",
       "50%        263.413000    82.328000   29.700000    12951.839000\n",
       "75%       1357.506000   207.960000   38.700000    27467.146000\n",
       "max      19753.146000  7915.731000   48.200000   116935.600000"
      ]
     },
     "execution_count": 7,
     "metadata": {},
     "output_type": "execute_result"
    }
   ],
   "source": [
    "covidanalysis.describe()"
   ]
  },
  {
   "cell_type": "markdown",
   "id": "closed-biodiversity",
   "metadata": {},
   "source": [
    "# Fit a linear regression model"
   ]
  },
  {
   "cell_type": "code",
   "execution_count": 9,
   "id": "formal-porter",
   "metadata": {},
   "outputs": [],
   "source": [
    "def getlm(df):\n",
    "    Y = df['total_cases_pm']\n",
    "    X = df[['pop_density', 'median_age', 'gdp_per_capita']]\n",
    "    X = sm.add_constant(X)\n",
    "    return sm.OLS(Y, X).fit()"
   ]
  },
  {
   "cell_type": "code",
   "execution_count": 10,
   "id": "preliminary-gather",
   "metadata": {},
   "outputs": [],
   "source": [
    "lm = getlm(covidanalysis)"
   ]
  },
  {
   "cell_type": "code",
   "execution_count": 11,
   "id": "unlikely-arkansas",
   "metadata": {},
   "outputs": [
    {
     "data": {
      "text/html": [
       "<table class=\"simpletable\">\n",
       "<caption>OLS Regression Results</caption>\n",
       "<tr>\n",
       "  <th>Dep. Variable:</th>     <td>total_cases_pm</td>  <th>  R-squared:         </th> <td>   0.520</td>\n",
       "</tr>\n",
       "<tr>\n",
       "  <th>Model:</th>                   <td>OLS</td>       <th>  Adj. R-squared:    </th> <td>   0.512</td>\n",
       "</tr>\n",
       "<tr>\n",
       "  <th>Method:</th>             <td>Least Squares</td>  <th>  F-statistic:       </th> <td>   61.81</td>\n",
       "</tr>\n",
       "<tr>\n",
       "  <th>Date:</th>             <td>Fri, 12 Feb 2021</td> <th>  Prob (F-statistic):</th> <td>4.06e-27</td>\n",
       "</tr>\n",
       "<tr>\n",
       "  <th>Time:</th>                 <td>10:19:09</td>     <th>  Log-Likelihood:    </th> <td> -1522.4</td>\n",
       "</tr>\n",
       "<tr>\n",
       "  <th>No. Observations:</th>      <td>   175</td>      <th>  AIC:               </th> <td>   3053.</td>\n",
       "</tr>\n",
       "<tr>\n",
       "  <th>Df Residuals:</th>          <td>   171</td>      <th>  BIC:               </th> <td>   3065.</td>\n",
       "</tr>\n",
       "<tr>\n",
       "  <th>Df Model:</th>              <td>     3</td>      <th>                     </th>     <td> </td>   \n",
       "</tr>\n",
       "<tr>\n",
       "  <th>Covariance Type:</th>      <td>nonrobust</td>    <th>                     </th>     <td> </td>   \n",
       "</tr>\n",
       "</table>\n",
       "<table class=\"simpletable\">\n",
       "<tr>\n",
       "         <td></td>           <th>coef</th>     <th>std err</th>      <th>t</th>      <th>P>|t|</th>  <th>[0.025</th>    <th>0.975]</th>  \n",
       "</tr>\n",
       "<tr>\n",
       "  <th>const</th>          <td>  944.4731</td> <td>  426.712</td> <td>    2.213</td> <td> 0.028</td> <td>  102.172</td> <td> 1786.774</td>\n",
       "</tr>\n",
       "<tr>\n",
       "  <th>pop_density</th>    <td>   -0.2057</td> <td>    0.142</td> <td>   -1.447</td> <td> 0.150</td> <td>   -0.486</td> <td>    0.075</td>\n",
       "</tr>\n",
       "<tr>\n",
       "  <th>median_age</th>     <td>  -49.4398</td> <td>   16.013</td> <td>   -3.088</td> <td> 0.002</td> <td>  -81.048</td> <td>  -17.832</td>\n",
       "</tr>\n",
       "<tr>\n",
       "  <th>gdp_per_capita</th> <td>    0.0921</td> <td>    0.008</td> <td>   12.015</td> <td> 0.000</td> <td>    0.077</td> <td>    0.107</td>\n",
       "</tr>\n",
       "</table>\n",
       "<table class=\"simpletable\">\n",
       "<tr>\n",
       "  <th>Omnibus:</th>       <td>105.361</td> <th>  Durbin-Watson:     </th> <td>   2.194</td> \n",
       "</tr>\n",
       "<tr>\n",
       "  <th>Prob(Omnibus):</th> <td> 0.000</td>  <th>  Jarque-Bera (JB):  </th> <td>1182.641</td> \n",
       "</tr>\n",
       "<tr>\n",
       "  <th>Skew:</th>          <td> 1.967</td>  <th>  Prob(JB):          </th> <td>1.56e-257</td>\n",
       "</tr>\n",
       "<tr>\n",
       "  <th>Kurtosis:</th>      <td>15.113</td>  <th>  Cond. No.          </th> <td>1.05e+05</td> \n",
       "</tr>\n",
       "</table><br/><br/>Notes:<br/>[1] Standard Errors assume that the covariance matrix of the errors is correctly specified.<br/>[2] The condition number is large, 1.05e+05. This might indicate that there are<br/>strong multicollinearity or other numerical problems."
      ],
      "text/plain": [
       "<class 'statsmodels.iolib.summary.Summary'>\n",
       "\"\"\"\n",
       "                            OLS Regression Results                            \n",
       "==============================================================================\n",
       "Dep. Variable:         total_cases_pm   R-squared:                       0.520\n",
       "Model:                            OLS   Adj. R-squared:                  0.512\n",
       "Method:                 Least Squares   F-statistic:                     61.81\n",
       "Date:                Fri, 12 Feb 2021   Prob (F-statistic):           4.06e-27\n",
       "Time:                        10:19:09   Log-Likelihood:                -1522.4\n",
       "No. Observations:                 175   AIC:                             3053.\n",
       "Df Residuals:                     171   BIC:                             3065.\n",
       "Df Model:                           3                                         \n",
       "Covariance Type:            nonrobust                                         \n",
       "==================================================================================\n",
       "                     coef    std err          t      P>|t|      [0.025      0.975]\n",
       "----------------------------------------------------------------------------------\n",
       "const            944.4731    426.712      2.213      0.028     102.172    1786.774\n",
       "pop_density       -0.2057      0.142     -1.447      0.150      -0.486       0.075\n",
       "median_age       -49.4398     16.013     -3.088      0.002     -81.048     -17.832\n",
       "gdp_per_capita     0.0921      0.008     12.015      0.000       0.077       0.107\n",
       "==============================================================================\n",
       "Omnibus:                      105.361   Durbin-Watson:                   2.194\n",
       "Prob(Omnibus):                  0.000   Jarque-Bera (JB):             1182.641\n",
       "Skew:                           1.967   Prob(JB):                    1.56e-257\n",
       "Kurtosis:                      15.113   Cond. No.                     1.05e+05\n",
       "==============================================================================\n",
       "\n",
       "Notes:\n",
       "[1] Standard Errors assume that the covariance matrix of the errors is correctly specified.\n",
       "[2] The condition number is large, 1.05e+05. This might indicate that there are\n",
       "strong multicollinearity or other numerical problems.\n",
       "\"\"\""
      ]
     },
     "execution_count": 11,
     "metadata": {},
     "output_type": "execute_result"
    }
   ],
   "source": [
    "lm.summary()"
   ]
  },
  {
   "cell_type": "markdown",
   "id": "indoor-gravity",
   "metadata": {},
   "source": [
    "# Identify those countries with an outsized influence on the model"
   ]
  },
  {
   "cell_type": "code",
   "execution_count": 12,
   "id": "phantom-internship",
   "metadata": {},
   "outputs": [
    {
     "data": {
      "text/html": [
       "<div>\n",
       "<style scoped>\n",
       "    .dataframe tbody tr th:only-of-type {\n",
       "        vertical-align: middle;\n",
       "    }\n",
       "\n",
       "    .dataframe tbody tr th {\n",
       "        vertical-align: top;\n",
       "    }\n",
       "\n",
       "    .dataframe thead th {\n",
       "        text-align: right;\n",
       "    }\n",
       "</style>\n",
       "<table border=\"1\" class=\"dataframe\">\n",
       "  <thead>\n",
       "    <tr style=\"text-align: right;\">\n",
       "      <th></th>\n",
       "      <th>cooks_d</th>\n",
       "    </tr>\n",
       "    <tr>\n",
       "      <th>iso_code</th>\n",
       "      <th></th>\n",
       "    </tr>\n",
       "  </thead>\n",
       "  <tbody>\n",
       "    <tr>\n",
       "      <th>HKG</th>\n",
       "      <td>0.780662</td>\n",
       "    </tr>\n",
       "    <tr>\n",
       "      <th>QAT</th>\n",
       "      <td>5.080180</td>\n",
       "    </tr>\n",
       "  </tbody>\n",
       "</table>\n",
       "</div>"
      ],
      "text/plain": [
       "           cooks_d\n",
       "iso_code          \n",
       "HKG       0.780662\n",
       "QAT       5.080180"
      ]
     },
     "execution_count": 12,
     "metadata": {},
     "output_type": "execute_result"
    }
   ],
   "source": [
    "# Cook's distance values of greater than 0.5 should be scrutinized closely\n",
    "influence = lm.get_influence().summary_frame()\n",
    "influence.loc[influence['cooks_d'] > 0.5, ['cooks_d']]"
   ]
  },
  {
   "cell_type": "code",
   "execution_count": 13,
   "id": "celtic-front",
   "metadata": {},
   "outputs": [
    {
     "data": {
      "text/html": [
       "<div>\n",
       "<style scoped>\n",
       "    .dataframe tbody tr th:only-of-type {\n",
       "        vertical-align: middle;\n",
       "    }\n",
       "\n",
       "    .dataframe tbody tr th {\n",
       "        vertical-align: top;\n",
       "    }\n",
       "\n",
       "    .dataframe thead th {\n",
       "        text-align: right;\n",
       "    }\n",
       "</style>\n",
       "<table border=\"1\" class=\"dataframe\">\n",
       "  <thead>\n",
       "    <tr style=\"text-align: right;\">\n",
       "      <th></th>\n",
       "      <th>total_cases_pm</th>\n",
       "      <th>pop_density</th>\n",
       "      <th>median_age</th>\n",
       "      <th>gdp_per_capita</th>\n",
       "    </tr>\n",
       "    <tr>\n",
       "      <th>iso_code</th>\n",
       "      <th></th>\n",
       "      <th></th>\n",
       "      <th></th>\n",
       "      <th></th>\n",
       "    </tr>\n",
       "  </thead>\n",
       "  <tbody>\n",
       "    <tr>\n",
       "      <th>HKG</th>\n",
       "      <td>0.000</td>\n",
       "      <td>7039.714</td>\n",
       "      <td>44.8</td>\n",
       "      <td>56054.92</td>\n",
       "    </tr>\n",
       "    <tr>\n",
       "      <th>QAT</th>\n",
       "      <td>19753.146</td>\n",
       "      <td>227.322</td>\n",
       "      <td>31.9</td>\n",
       "      <td>116935.60</td>\n",
       "    </tr>\n",
       "  </tbody>\n",
       "</table>\n",
       "</div>"
      ],
      "text/plain": [
       "          total_cases_pm  pop_density  median_age  gdp_per_capita\n",
       "iso_code                                                         \n",
       "HKG                0.000     7039.714        44.8        56054.92\n",
       "QAT            19753.146      227.322        31.9       116935.60"
      ]
     },
     "execution_count": 13,
     "metadata": {},
     "output_type": "execute_result"
    }
   ],
   "source": [
    "covidanalysis.loc[influence['cooks_d'] > 0.5]"
   ]
  },
  {
   "cell_type": "markdown",
   "id": "virgin-decimal",
   "metadata": {},
   "source": [
    "# Do an influence plot"
   ]
  },
  {
   "cell_type": "code",
   "execution_count": 19,
   "id": "charged-adapter",
   "metadata": {},
   "outputs": [
    {
     "data": {
      "image/png": "[encoded data removed]",
      "text/plain": [
       "<Figure size 1080x648 with 1 Axes>"
      ]
     },
     "metadata": {
      "needs_background": "light"
     },
     "output_type": "display_data"
    }
   ],
   "source": [
    "# Countries with higher Cook's Distance values have larger circles\n",
    "\n",
    "fig, ax = plt.subplots(figsize=(15, 9))\n",
    "sm.graphics.influence_plot(lm, ax=ax, criterion='cooks')\n",
    "# plt.tight_layout()\n",
    "plt.show()"
   ]
  },
  {
   "cell_type": "markdown",
   "id": "raising-example",
   "metadata": {},
   "source": [
    "# Run the model without the two outliers"
   ]
  },
  {
   "cell_type": "code",
   "execution_count": 20,
   "id": "partial-float",
   "metadata": {},
   "outputs": [],
   "source": [
    "covidanalysisminusoutliers = covidanalysis.loc[influence['cooks_d'] < 0.5]"
   ]
  },
  {
   "cell_type": "code",
   "execution_count": 21,
   "id": "hindu-measurement",
   "metadata": {},
   "outputs": [],
   "source": [
    "lm = getlm(covidanalysisminusoutliers)"
   ]
  },
  {
   "cell_type": "code",
   "execution_count": 22,
   "id": "powered-welcome",
   "metadata": {},
   "outputs": [
    {
     "data": {
      "text/html": [
       "<table class=\"simpletable\">\n",
       "<caption>OLS Regression Results</caption>\n",
       "<tr>\n",
       "  <th>Dep. Variable:</th>     <td>total_cases_pm</td>  <th>  R-squared:         </th> <td>   0.453</td>\n",
       "</tr>\n",
       "<tr>\n",
       "  <th>Model:</th>                   <td>OLS</td>       <th>  Adj. R-squared:    </th> <td>   0.443</td>\n",
       "</tr>\n",
       "<tr>\n",
       "  <th>Method:</th>             <td>Least Squares</td>  <th>  F-statistic:       </th> <td>   46.56</td>\n",
       "</tr>\n",
       "<tr>\n",
       "  <th>Date:</th>             <td>Fri, 12 Feb 2021</td> <th>  Prob (F-statistic):</th> <td>5.52e-22</td>\n",
       "</tr>\n",
       "<tr>\n",
       "  <th>Time:</th>                 <td>10:30:22</td>     <th>  Log-Likelihood:    </th> <td> -1464.8</td>\n",
       "</tr>\n",
       "<tr>\n",
       "  <th>No. Observations:</th>      <td>   173</td>      <th>  AIC:               </th> <td>   2938.</td>\n",
       "</tr>\n",
       "<tr>\n",
       "  <th>Df Residuals:</th>          <td>   169</td>      <th>  BIC:               </th> <td>   2950.</td>\n",
       "</tr>\n",
       "<tr>\n",
       "  <th>Df Model:</th>              <td>     3</td>      <th>                     </th>     <td> </td>   \n",
       "</tr>\n",
       "<tr>\n",
       "  <th>Covariance Type:</th>      <td>nonrobust</td>    <th>                     </th>     <td> </td>   \n",
       "</tr>\n",
       "</table>\n",
       "<table class=\"simpletable\">\n",
       "<tr>\n",
       "         <td></td>           <th>coef</th>     <th>std err</th>      <th>t</th>      <th>P>|t|</th>  <th>[0.025</th>    <th>0.975]</th>  \n",
       "</tr>\n",
       "<tr>\n",
       "  <th>const</th>          <td>   44.0854</td> <td>  349.924</td> <td>    0.126</td> <td> 0.900</td> <td> -646.700</td> <td>  734.870</td>\n",
       "</tr>\n",
       "<tr>\n",
       "  <th>pop_density</th>    <td>    0.2423</td> <td>    0.145</td> <td>    1.666</td> <td> 0.098</td> <td>   -0.045</td> <td>    0.529</td>\n",
       "</tr>\n",
       "<tr>\n",
       "  <th>median_age</th>     <td>   -2.5165</td> <td>   13.526</td> <td>   -0.186</td> <td> 0.853</td> <td>  -29.217</td> <td>   24.184</td>\n",
       "</tr>\n",
       "<tr>\n",
       "  <th>gdp_per_capita</th> <td>    0.0557</td> <td>    0.007</td> <td>    7.875</td> <td> 0.000</td> <td>    0.042</td> <td>    0.070</td>\n",
       "</tr>\n",
       "</table>\n",
       "<table class=\"simpletable\">\n",
       "<tr>\n",
       "  <th>Omnibus:</th>       <td>53.262</td> <th>  Durbin-Watson:     </th> <td>   2.166</td>\n",
       "</tr>\n",
       "<tr>\n",
       "  <th>Prob(Omnibus):</th> <td> 0.000</td> <th>  Jarque-Bera (JB):  </th> <td> 123.935</td>\n",
       "</tr>\n",
       "<tr>\n",
       "  <th>Skew:</th>          <td> 1.347</td> <th>  Prob(JB):          </th> <td>1.22e-27</td>\n",
       "</tr>\n",
       "<tr>\n",
       "  <th>Kurtosis:</th>      <td> 6.152</td> <th>  Cond. No.          </th> <td>1.01e+05</td>\n",
       "</tr>\n",
       "</table><br/><br/>Notes:<br/>[1] Standard Errors assume that the covariance matrix of the errors is correctly specified.<br/>[2] The condition number is large, 1.01e+05. This might indicate that there are<br/>strong multicollinearity or other numerical problems."
      ],
      "text/plain": [
       "<class 'statsmodels.iolib.summary.Summary'>\n",
       "\"\"\"\n",
       "                            OLS Regression Results                            \n",
       "==============================================================================\n",
       "Dep. Variable:         total_cases_pm   R-squared:                       0.453\n",
       "Model:                            OLS   Adj. R-squared:                  0.443\n",
       "Method:                 Least Squares   F-statistic:                     46.56\n",
       "Date:                Fri, 12 Feb 2021   Prob (F-statistic):           5.52e-22\n",
       "Time:                        10:30:22   Log-Likelihood:                -1464.8\n",
       "No. Observations:                 173   AIC:                             2938.\n",
       "Df Residuals:                     169   BIC:                             2950.\n",
       "Df Model:                           3                                         \n",
       "Covariance Type:            nonrobust                                         \n",
       "==================================================================================\n",
       "                     coef    std err          t      P>|t|      [0.025      0.975]\n",
       "----------------------------------------------------------------------------------\n",
       "const             44.0854    349.924      0.126      0.900    -646.700     734.870\n",
       "pop_density        0.2423      0.145      1.666      0.098      -0.045       0.529\n",
       "median_age        -2.5165     13.526     -0.186      0.853     -29.217      24.184\n",
       "gdp_per_capita     0.0557      0.007      7.875      0.000       0.042       0.070\n",
       "==============================================================================\n",
       "Omnibus:                       53.262   Durbin-Watson:                   2.166\n",
       "Prob(Omnibus):                  0.000   Jarque-Bera (JB):              123.935\n",
       "Skew:                           1.347   Prob(JB):                     1.22e-27\n",
       "Kurtosis:                       6.152   Cond. No.                     1.01e+05\n",
       "==============================================================================\n",
       "\n",
       "Notes:\n",
       "[1] Standard Errors assume that the covariance matrix of the errors is correctly specified.\n",
       "[2] The condition number is large, 1.01e+05. This might indicate that there are\n",
       "strong multicollinearity or other numerical problems.\n",
       "\"\"\""
      ]
     },
     "execution_count": 22,
     "metadata": {},
     "output_type": "execute_result"
    }
   ],
   "source": [
    "lm.summary()"
   ]
  },
  {
   "cell_type": "code",
   "execution_count": null,
   "id": "judicial-salvation",
   "metadata": {},
   "outputs": [],
   "source": []
  }
 ],
 "metadata": {
  "kernelspec": {
   "display_name": "Python 3",
   "language": "python",
   "name": "python3"
  },
  "language_info": {
   "codemirror_mode": {
    "name": "ipython",
    "version": 3
   },
   "file_extension": ".py",
   "mimetype": "text/x-python",
   "name": "python",
   "nbconvert_exporter": "python",
   "pygments_lexer": "ipython3",
   "version": "3.7.9"
  },
  "toc": {
   "base_numbering": 1,
   "nav_menu": {},
   "number_sections": true,
   "sideBar": true,
   "skip_h1_title": false,
   "title_cell": "Table of Contents",
   "title_sidebar": "Contents",
   "toc_cell": true,
   "toc_position": {},
   "toc_section_display": true,
   "toc_window_display": false
  }
 },
 "nbformat": 4,
 "nbformat_minor": 5
}
