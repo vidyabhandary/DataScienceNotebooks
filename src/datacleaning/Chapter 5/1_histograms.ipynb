{
 "cells": [
  {
   "cell_type": "markdown",
   "id": "registered-fleet",
   "metadata": {
    "toc": true
   },
   "source": [
    "<h1>Table of Contents<span class=\"tocSkip\"></span></h1>\n",
    "<div class=\"toc\"><ul class=\"toc-item\"><li><span><a href=\"#Import-the-pandas,-matplotlib,-and-statsmodels-libraries\" data-toc-modified-id=\"Import-the-pandas,-matplotlib,-and-statsmodels-libraries-1\"><span class=\"toc-item-num\">1&nbsp;&nbsp;</span>Import the pandas, matplotlib, and statsmodels libraries</a></span></li><li><span><a href=\"#Show-some-of-the-station-temperature-rows\" data-toc-modified-id=\"Show-some-of-the-station-temperature-rows-2\"><span class=\"toc-item-num\">2&nbsp;&nbsp;</span>Show some of the station temperature rows</a></span></li><li><span><a href=\"#Show-some-descriptive-statistics\" data-toc-modified-id=\"Show-some-descriptive-statistics-3\"><span class=\"toc-item-num\">3&nbsp;&nbsp;</span>Show some descriptive statistics</a></span></li><li><span><a href=\"#Do-a-histogram-of-average-temperatures\" data-toc-modified-id=\"Do-a-histogram-of-average-temperatures-4\"><span class=\"toc-item-num\">4&nbsp;&nbsp;</span>Do a histogram of average temperatures</a></span></li><li><span><a href=\"#Run-a-QQ-plot-to-examine-where-the-distribution-deviates-from-a-normal-distribution\" data-toc-modified-id=\"Run-a-QQ-plot-to-examine-where-the-distribution-deviates-from-a-normal-distribution-5\"><span class=\"toc-item-num\">5&nbsp;&nbsp;</span>Run a QQ plot to examine where the distribution deviates from a normal distribution</a></span></li><li><span><a href=\"#Show-the-skewness-and-kurtosis-for-total-Covid-cases-per-million\" data-toc-modified-id=\"Show-the-skewness-and-kurtosis-for-total-Covid-cases-per-million-6\"><span class=\"toc-item-num\">6&nbsp;&nbsp;</span>Show the skewness and kurtosis for total Covid cases per million</a></span></li><li><span><a href=\"#Do-a-stacked-histogram-of-the-Covid-case-data\" data-toc-modified-id=\"Do-a-stacked-histogram-of-the-Covid-case-data-7\"><span class=\"toc-item-num\">7&nbsp;&nbsp;</span>Do a stacked histogram of the Covid case data</a></span></li><li><span><a href=\"#Show-multiple-histograms-on-one-figure\" data-toc-modified-id=\"Show-multiple-histograms-on-one-figure-8\"><span class=\"toc-item-num\">8&nbsp;&nbsp;</span>Show multiple histograms on one figure</a></span></li></ul></div>"
   ]
  },
  {
   "cell_type": "markdown",
   "id": "blocked-lotus",
   "metadata": {},
   "source": [
    "# Import the pandas, matplotlib, and statsmodels libraries"
   ]
  },
  {
   "cell_type": "code",
   "execution_count": 28,
   "id": "presidential-script",
   "metadata": {},
   "outputs": [],
   "source": [
    "import pandas as pd\n",
    "import numpy as np\n",
    "import matplotlib.pyplot as plt\n",
    "import statsmodels.api as sm"
   ]
  },
  {
   "cell_type": "code",
   "execution_count": 32,
   "id": "characteristic-obligation",
   "metadata": {},
   "outputs": [],
   "source": [
    "# pd.set_option('display.width', 80)\n",
    "# pd.set_option('display.max_columns', 12)\n",
    "# pd.set_option('display.max_rows', 200)\n",
    "# pd.options.display.float_format = '{:,.0f}'.format"
   ]
  },
  {
   "cell_type": "code",
   "execution_count": 3,
   "id": "subjective-advance",
   "metadata": {},
   "outputs": [
    {
     "name": "stdout",
     "output_type": "stream",
     "text": [
      "The watermark extension is already loaded. To reload it, use:\n",
      "  %reload_ext watermark\n",
      "Python implementation: CPython\n",
      "Python version       : 3.7.9\n",
      "IPython version      : 7.20.0\n",
      "\n",
      "json       : 2.0.9\n",
      "pandas     : 1.2.1\n",
      "watermark  : 2.1.0\n",
      "statsmodels: 0.12.1\n",
      "matplotlib : 3.3.2\n",
      "\n"
     ]
    }
   ],
   "source": [
    "import watermark\n",
    "%load_ext watermark\n",
    "\n",
    "%watermark -n -v -iv"
   ]
  },
  {
   "cell_type": "code",
   "execution_count": 6,
   "id": "contrary-spank",
   "metadata": {},
   "outputs": [],
   "source": [
    "landtemps = pd.read_csv('data/landtemps2019avgs.csv')"
   ]
  },
  {
   "cell_type": "code",
   "execution_count": 4,
   "id": "proprietary-principle",
   "metadata": {},
   "outputs": [],
   "source": [
    "covidtotals = pd.read_csv('data/covidtotals.csv', parse_dates=['lastdate'])"
   ]
  },
  {
   "cell_type": "code",
   "execution_count": 5,
   "id": "phantom-table",
   "metadata": {},
   "outputs": [],
   "source": [
    "covidtotals.set_index('iso_code', inplace=True)"
   ]
  },
  {
   "cell_type": "markdown",
   "id": "configured-antenna",
   "metadata": {},
   "source": [
    "# Show some of the station temperature rows"
   ]
  },
  {
   "cell_type": "code",
   "execution_count": 8,
   "id": "handy-quilt",
   "metadata": {},
   "outputs": [
    {
     "data": {
      "text/html": [
       "<div>\n",
       "<style scoped>\n",
       "    .dataframe tbody tr th:only-of-type {\n",
       "        vertical-align: middle;\n",
       "    }\n",
       "\n",
       "    .dataframe tbody tr th {\n",
       "        vertical-align: top;\n",
       "    }\n",
       "\n",
       "    .dataframe thead th {\n",
       "        text-align: right;\n",
       "    }\n",
       "</style>\n",
       "<table border=\"1\" class=\"dataframe\">\n",
       "  <thead>\n",
       "    <tr style=\"text-align: right;\">\n",
       "      <th></th>\n",
       "      <th>station</th>\n",
       "      <th>country</th>\n",
       "      <th>latabs</th>\n",
       "      <th>elevation</th>\n",
       "      <th>avgtemp</th>\n",
       "    </tr>\n",
       "  </thead>\n",
       "  <tbody>\n",
       "    <tr>\n",
       "      <th>10526</th>\n",
       "      <td>NEW_FORK_LAKE</td>\n",
       "      <td>United States</td>\n",
       "      <td>43.1167</td>\n",
       "      <td>2542.0</td>\n",
       "      <td>1.864167</td>\n",
       "    </tr>\n",
       "    <tr>\n",
       "      <th>1416</th>\n",
       "      <td>NEIR_AGDM</td>\n",
       "      <td>Canada</td>\n",
       "      <td>51.3667</td>\n",
       "      <td>1145.0</td>\n",
       "      <td>2.185000</td>\n",
       "    </tr>\n",
       "    <tr>\n",
       "      <th>2230</th>\n",
       "      <td>CURICO</td>\n",
       "      <td>Chile</td>\n",
       "      <td>34.9670</td>\n",
       "      <td>225.0</td>\n",
       "      <td>15.504167</td>\n",
       "    </tr>\n",
       "    <tr>\n",
       "      <th>6002</th>\n",
       "      <td>LIFTON_PUMPING_STN</td>\n",
       "      <td>United States</td>\n",
       "      <td>42.1231</td>\n",
       "      <td>1809.0</td>\n",
       "      <td>4.385833</td>\n",
       "    </tr>\n",
       "    <tr>\n",
       "      <th>2106</th>\n",
       "      <td>HUAILAI</td>\n",
       "      <td>China</td>\n",
       "      <td>40.4170</td>\n",
       "      <td>538.0</td>\n",
       "      <td>11.020833</td>\n",
       "    </tr>\n",
       "    <tr>\n",
       "      <th>2090</th>\n",
       "      <td>MUDANJIANG</td>\n",
       "      <td>China</td>\n",
       "      <td>44.5670</td>\n",
       "      <td>242.0</td>\n",
       "      <td>5.816667</td>\n",
       "    </tr>\n",
       "    <tr>\n",
       "      <th>7781</th>\n",
       "      <td>CHEYENNE_6SW_MESONET</td>\n",
       "      <td>United States</td>\n",
       "      <td>35.5461</td>\n",
       "      <td>694.0</td>\n",
       "      <td>14.875833</td>\n",
       "    </tr>\n",
       "    <tr>\n",
       "      <th>10502</th>\n",
       "      <td>SHARKSTOOTH</td>\n",
       "      <td>United States</td>\n",
       "      <td>37.5000</td>\n",
       "      <td>3267.5</td>\n",
       "      <td>4.105833</td>\n",
       "    </tr>\n",
       "    <tr>\n",
       "      <th>11049</th>\n",
       "      <td>CHALLIS_AP</td>\n",
       "      <td>United States</td>\n",
       "      <td>44.5228</td>\n",
       "      <td>1534.1</td>\n",
       "      <td>6.510000</td>\n",
       "    </tr>\n",
       "    <tr>\n",
       "      <th>2820</th>\n",
       "      <td>METHONI</td>\n",
       "      <td>Greece</td>\n",
       "      <td>36.8331</td>\n",
       "      <td>52.0</td>\n",
       "      <td>18.200000</td>\n",
       "    </tr>\n",
       "  </tbody>\n",
       "</table>\n",
       "</div>"
      ],
      "text/plain": [
       "                    station        country   latabs  elevation    avgtemp\n",
       "10526         NEW_FORK_LAKE  United States  43.1167     2542.0   1.864167\n",
       "1416              NEIR_AGDM         Canada  51.3667     1145.0   2.185000\n",
       "2230                 CURICO          Chile  34.9670      225.0  15.504167\n",
       "6002     LIFTON_PUMPING_STN  United States  42.1231     1809.0   4.385833\n",
       "2106                HUAILAI          China  40.4170      538.0  11.020833\n",
       "2090             MUDANJIANG          China  44.5670      242.0   5.816667\n",
       "7781   CHEYENNE_6SW_MESONET  United States  35.5461      694.0  14.875833\n",
       "10502           SHARKSTOOTH  United States  37.5000     3267.5   4.105833\n",
       "11049            CHALLIS_AP  United States  44.5228     1534.1   6.510000\n",
       "2820                METHONI         Greece  36.8331       52.0  18.200000"
      ]
     },
     "execution_count": 8,
     "metadata": {},
     "output_type": "execute_result"
    }
   ],
   "source": [
    "landtemps[['station', 'country', 'latabs', 'elevation',\n",
    "           'avgtemp']].sample(10, random_state=1)"
   ]
  },
  {
   "cell_type": "markdown",
   "id": "maritime-station",
   "metadata": {},
   "source": [
    "# Show some descriptive statistics"
   ]
  },
  {
   "cell_type": "code",
   "execution_count": 9,
   "id": "united-watson",
   "metadata": {},
   "outputs": [
    {
     "data": {
      "text/html": [
       "<div>\n",
       "<style scoped>\n",
       "    .dataframe tbody tr th:only-of-type {\n",
       "        vertical-align: middle;\n",
       "    }\n",
       "\n",
       "    .dataframe tbody tr th {\n",
       "        vertical-align: top;\n",
       "    }\n",
       "\n",
       "    .dataframe thead th {\n",
       "        text-align: right;\n",
       "    }\n",
       "</style>\n",
       "<table border=\"1\" class=\"dataframe\">\n",
       "  <thead>\n",
       "    <tr style=\"text-align: right;\">\n",
       "      <th></th>\n",
       "      <th>latabs</th>\n",
       "      <th>elevation</th>\n",
       "      <th>avgtemp</th>\n",
       "    </tr>\n",
       "  </thead>\n",
       "  <tbody>\n",
       "    <tr>\n",
       "      <th>count</th>\n",
       "      <td>12095.000000</td>\n",
       "      <td>12095.000000</td>\n",
       "      <td>12095.000000</td>\n",
       "    </tr>\n",
       "    <tr>\n",
       "      <th>mean</th>\n",
       "      <td>40.466791</td>\n",
       "      <td>589.330211</td>\n",
       "      <td>11.193542</td>\n",
       "    </tr>\n",
       "    <tr>\n",
       "      <th>std</th>\n",
       "      <td>12.611377</td>\n",
       "      <td>761.973468</td>\n",
       "      <td>8.563443</td>\n",
       "    </tr>\n",
       "    <tr>\n",
       "      <th>min</th>\n",
       "      <td>0.017000</td>\n",
       "      <td>-350.000000</td>\n",
       "      <td>-60.821000</td>\n",
       "    </tr>\n",
       "    <tr>\n",
       "      <th>25%</th>\n",
       "      <td>34.510300</td>\n",
       "      <td>78.000000</td>\n",
       "      <td>5.417917</td>\n",
       "    </tr>\n",
       "    <tr>\n",
       "      <th>50%</th>\n",
       "      <td>40.670300</td>\n",
       "      <td>271.300000</td>\n",
       "      <td>10.450000</td>\n",
       "    </tr>\n",
       "    <tr>\n",
       "      <th>75%</th>\n",
       "      <td>46.750550</td>\n",
       "      <td>817.500000</td>\n",
       "      <td>16.919583</td>\n",
       "    </tr>\n",
       "    <tr>\n",
       "      <th>max</th>\n",
       "      <td>90.000000</td>\n",
       "      <td>9999.000000</td>\n",
       "      <td>33.930000</td>\n",
       "    </tr>\n",
       "  </tbody>\n",
       "</table>\n",
       "</div>"
      ],
      "text/plain": [
       "             latabs     elevation       avgtemp\n",
       "count  12095.000000  12095.000000  12095.000000\n",
       "mean      40.466791    589.330211     11.193542\n",
       "std       12.611377    761.973468      8.563443\n",
       "min        0.017000   -350.000000    -60.821000\n",
       "25%       34.510300     78.000000      5.417917\n",
       "50%       40.670300    271.300000     10.450000\n",
       "75%       46.750550    817.500000     16.919583\n",
       "max       90.000000   9999.000000     33.930000"
      ]
     },
     "execution_count": 9,
     "metadata": {},
     "output_type": "execute_result"
    }
   ],
   "source": [
    "landtemps.describe()"
   ]
  },
  {
   "cell_type": "code",
   "execution_count": 12,
   "id": "czech-queensland",
   "metadata": {},
   "outputs": [
    {
     "data": {
      "text/plain": [
       "-0.26783825834817704"
      ]
     },
     "execution_count": 12,
     "metadata": {},
     "output_type": "execute_result"
    }
   ],
   "source": [
    "landtemps['avgtemp'].skew()"
   ]
  },
  {
   "cell_type": "code",
   "execution_count": 13,
   "id": "based-content",
   "metadata": {},
   "outputs": [
    {
     "data": {
      "text/plain": [
       "2.1698313707061074"
      ]
     },
     "execution_count": 13,
     "metadata": {},
     "output_type": "execute_result"
    }
   ],
   "source": [
    "landtemps['avgtemp'].kurtosis()"
   ]
  },
  {
   "cell_type": "markdown",
   "id": "pleasant-liability",
   "metadata": {},
   "source": [
    "# Do a histogram of average temperatures"
   ]
  },
  {
   "cell_type": "code",
   "execution_count": 20,
   "id": "informative-cornell",
   "metadata": {},
   "outputs": [
    {
     "data": {
      "image/png": "[encoded data removed]",
      "text/plain": [
       "<Figure size 432x288 with 1 Axes>"
      ]
     },
     "metadata": {
      "needs_background": "light"
     },
     "output_type": "display_data"
    }
   ],
   "source": [
    "# plt.figure(figsize=(7, 5))\n",
    "plt.hist(landtemps['avgtemp'])\n",
    "plt.axvline(landtemps['avgtemp'].mean(),\n",
    "            color='red',\n",
    "            linestyle='dashed',\n",
    "            linewidth=1)\n",
    "plt.title('Histogram of Average Temperatures (Celsius)')\n",
    "plt.xlabel('Average Temperature')\n",
    "plt.ylabel('Frequency')\n",
    "plt.show()"
   ]
  },
  {
   "cell_type": "markdown",
   "id": "effective-california",
   "metadata": {},
   "source": [
    "# Run a QQ plot to examine where the distribution deviates from a normal distribution"
   ]
  },
  {
   "cell_type": "code",
   "execution_count": 21,
   "id": "quick-literature",
   "metadata": {},
   "outputs": [
    {
     "data": {
      "image/png": "[encoded data removed]",
      "text/plain": [
       "<Figure size 432x288 with 1 Axes>"
      ]
     },
     "metadata": {
      "needs_background": "light"
     },
     "output_type": "display_data"
    }
   ],
   "source": [
    "sm.qqplot(landtemps[['avgtemp']].sort_values(['avgtemp']), line='s')\n",
    "plt.title('QQ Plot of Average Temperatures')\n",
    "plt.show()"
   ]
  },
  {
   "cell_type": "markdown",
   "id": "broadband-office",
   "metadata": {},
   "source": [
    "# Show the skewness and kurtosis for total Covid cases per million"
   ]
  },
  {
   "cell_type": "code",
   "execution_count": 22,
   "id": "legal-incidence",
   "metadata": {},
   "outputs": [
    {
     "data": {
      "text/plain": [
       "4.284484653881833"
      ]
     },
     "execution_count": 22,
     "metadata": {},
     "output_type": "execute_result"
    }
   ],
   "source": [
    "covidtotals['total_cases_pm'].skew()"
   ]
  },
  {
   "cell_type": "code",
   "execution_count": 23,
   "id": "dressed-copying",
   "metadata": {},
   "outputs": [
    {
     "data": {
      "text/plain": [
       "26.137524276840452"
      ]
     },
     "execution_count": 23,
     "metadata": {},
     "output_type": "execute_result"
    }
   ],
   "source": [
    "covidtotals['total_cases_pm'].kurtosis()"
   ]
  },
  {
   "cell_type": "markdown",
   "id": "sound-target",
   "metadata": {},
   "source": [
    "# Do a stacked histogram of the Covid case data"
   ]
  },
  {
   "cell_type": "code",
   "execution_count": 24,
   "id": "animal-pipeline",
   "metadata": {},
   "outputs": [],
   "source": [
    "showregions = [\n",
    "    'Oceania / Aus', 'East Asia', 'Southern Africa', 'Western Europe'\n",
    "]"
   ]
  },
  {
   "cell_type": "code",
   "execution_count": 25,
   "id": "norman-evening",
   "metadata": {},
   "outputs": [],
   "source": [
    "def getcases(regiondesc):\n",
    "    return covidtotals.loc[covidtotals['region'] == regiondesc,\n",
    "                           'total_cases_pm']"
   ]
  },
  {
   "cell_type": "code",
   "execution_count": 31,
   "id": "national-cache",
   "metadata": {},
   "outputs": [
    {
     "data": {
      "image/png": "[encoded data removed]",
      "text/plain": [
       "<Figure size 648x432 with 1 Axes>"
      ]
     },
     "metadata": {
      "needs_background": "light"
     },
     "output_type": "display_data"
    }
   ],
   "source": [
    "plt.figure(figsize=(9, 6))\n",
    "plt.hist([getcases(k) for k in showregions],\n",
    "         color=['blue', 'mediumslateblue', 'plum', 'mediumvioletred'],\n",
    "         label=showregions,\n",
    "         stacked=True)\n",
    "plt.title('Stacked Histogram of Cases Per Million for Selected Regions')\n",
    "plt.xlabel('Cases Per Million')\n",
    "plt.ylabel('Frequency')\n",
    "plt.xticks(np.arange(0, 22500, step=2500))\n",
    "plt.legend()\n",
    "plt.show()"
   ]
  },
  {
   "cell_type": "markdown",
   "id": "collect-closing",
   "metadata": {},
   "source": [
    "# Show multiple histograms on one figure"
   ]
  },
  {
   "cell_type": "code",
   "execution_count": 40,
   "id": "general-studio",
   "metadata": {},
   "outputs": [
    {
     "data": {
      "image/png": "[encoded data removed]",
      "text/plain": [
       "<Figure size 432x288 with 4 Axes>"
      ]
     },
     "metadata": {
      "needs_background": "light"
     },
     "output_type": "display_data"
    }
   ],
   "source": [
    "fig, axes = plt.subplots(2, 2)\n",
    "fig.suptitle('Histograms of Covid Cases Per Million by Selected Regions')\n",
    "axes = axes.ravel()\n",
    "\n",
    "for j, ax in enumerate(axes):\n",
    "    ax.hist(covidtotals.loc[covidtotals['region'] == showregions[j]]\n",
    "            ['total_cases_pm'],\n",
    "            bins=5)\n",
    "    ax.set_title(showregions[j], fontsize=10)\n",
    "    for tick in ax.get_xticklabels():\n",
    "        tick.set_rotation(45)\n",
    "plt.tight_layout()\n",
    "fig.subplots_adjust(top=0.88)\n",
    "plt.show()"
   ]
  },
  {
   "cell_type": "code",
   "execution_count": 41,
   "id": "motivated-alexander",
   "metadata": {},
   "outputs": [
    {
     "data": {
      "image/png": "[encoded data removed]",
      "text/plain": [
       "<Figure size 648x432 with 1 Axes>"
      ]
     },
     "metadata": {
      "needs_background": "light"
     },
     "output_type": "display_data"
    }
   ],
   "source": [
    "plt.figure(figsize=(9, 6))\n",
    "plt.hist([getcases(k) for k in showregions],\n",
    "         color=['blue', 'mediumslateblue', 'plum', 'mediumvioletred'],\n",
    "         label=showregions,\n",
    "         stacked=False)\n",
    "plt.title('Stacked Histogram of Cases Per Million for Selected Regions')\n",
    "plt.xlabel('Cases Per Million')\n",
    "plt.ylabel('Frequency')\n",
    "plt.xticks(np.arange(0, 22500, step=2500))\n",
    "plt.legend()\n",
    "plt.show()"
   ]
  },
  {
   "cell_type": "code",
   "execution_count": null,
   "id": "returning-strike",
   "metadata": {},
   "outputs": [],
   "source": []
  }
 ],
 "metadata": {
  "kernelspec": {
   "display_name": "Python 3",
   "language": "python",
   "name": "python3"
  },
  "language_info": {
   "codemirror_mode": {
    "name": "ipython",
    "version": 3
   },
   "file_extension": ".py",
   "mimetype": "text/x-python",
   "name": "python",
   "nbconvert_exporter": "python",
   "pygments_lexer": "ipython3",
   "version": "3.7.9"
  },
  "toc": {
   "base_numbering": 1,
   "nav_menu": {},
   "number_sections": true,
   "sideBar": true,
   "skip_h1_title": false,
   "title_cell": "Table of Contents",
   "title_sidebar": "Contents",
   "toc_cell": true,
   "toc_position": {},
   "toc_section_display": true,
   "toc_window_display": false
  }
 },
 "nbformat": 4,
 "nbformat_minor": 5
}
