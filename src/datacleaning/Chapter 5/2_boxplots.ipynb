{
 "cells": [
  {
   "cell_type": "markdown",
   "id": "documentary-november",
   "metadata": {
    "toc": true
   },
   "source": [
    "<h1>Table of Contents<span class=\"tocSkip\"></span></h1>\n",
    "<div class=\"toc\"><ul class=\"toc-item\"><li><span><a href=\"#Load-the-pandas-and-matplotlib-libraries\" data-toc-modified-id=\"Load-the-pandas-and-matplotlib-libraries-1\"><span class=\"toc-item-num\">1&nbsp;&nbsp;</span>Load the pandas and matplotlib libraries</a></span></li><li><span><a href=\"#Do-a-boxplot-of-SAT-verbal-scores\" data-toc-modified-id=\"Do-a-boxplot-of-SAT-verbal-scores-2\"><span class=\"toc-item-num\">2&nbsp;&nbsp;</span>Do a boxplot of SAT verbal scores</a></span></li><li><span><a href=\"#Show-some-descriptives-on-weeks-worked\" data-toc-modified-id=\"Show-some-descriptives-on-weeks-worked-3\"><span class=\"toc-item-num\">3&nbsp;&nbsp;</span>Show some descriptives on weeks worked</a></span></li><li><span><a href=\"#Do-boxplots-of-weeks-worked\" data-toc-modified-id=\"Do-boxplots-of-weeks-worked-4\"><span class=\"toc-item-num\">4&nbsp;&nbsp;</span>Do boxplots of weeks worked</a></span></li><li><span><a href=\"#Show-some-descriptives-for-the-Covid-data\" data-toc-modified-id=\"Show-some-descriptives-for-the-Covid-data-5\"><span class=\"toc-item-num\">5&nbsp;&nbsp;</span>Show some descriptives for the Covid data</a></span></li><li><span><a href=\"#Do-boxplots-of-cases-and-deaths-per-million\" data-toc-modified-id=\"Do-boxplots-of-cases-and-deaths-per-million-6\"><span class=\"toc-item-num\">6&nbsp;&nbsp;</span>Do boxplots of cases and deaths per million</a></span></li><li><span><a href=\"#Show-the-boxplots-as-separate-subplots-on-one-figure\" data-toc-modified-id=\"Show-the-boxplots-as-separate-subplots-on-one-figure-7\"><span class=\"toc-item-num\">7&nbsp;&nbsp;</span>Show the boxplots as separate subplots on one figure</a></span></li></ul></div>"
   ]
  },
  {
   "cell_type": "markdown",
   "id": "immune-newfoundland",
   "metadata": {},
   "source": [
    "# Load the pandas and matplotlib libraries"
   ]
  },
  {
   "cell_type": "code",
   "execution_count": 1,
   "id": "canadian-immunology",
   "metadata": {},
   "outputs": [],
   "source": [
    "import pandas as pd\n",
    "import matplotlib.pyplot as plt"
   ]
  },
  {
   "cell_type": "code",
   "execution_count": 4,
   "id": "guilty-ghost",
   "metadata": {},
   "outputs": [],
   "source": [
    "# pd.set_option('display.width', 80)\n",
    "# pd.set_option('display.max_columns', 7)\n",
    "# pd.set_option('display.max_rows', 200)\n",
    "# pd.options.display.float_format = '{:,.0f}'.format"
   ]
  },
  {
   "cell_type": "code",
   "execution_count": 2,
   "id": "egyptian-lunch",
   "metadata": {},
   "outputs": [
    {
     "name": "stdout",
     "output_type": "stream",
     "text": [
      "watermark : 2.1.0\n",
      "json      : 2.0.9\n",
      "pandas    : 1.2.1\n",
      "matplotlib: 3.3.2\n",
      "\n"
     ]
    }
   ],
   "source": [
    "import watermark\n",
    "%load_ext watermark\n",
    "\n",
    "%watermark -n -i -iv"
   ]
  },
  {
   "cell_type": "code",
   "execution_count": 3,
   "id": "ecological-reaction",
   "metadata": {},
   "outputs": [],
   "source": [
    "nls97 = pd.read_csv('data/nls97.csv')\n",
    "nls97.set_index('personid', inplace=True)"
   ]
  },
  {
   "cell_type": "code",
   "execution_count": 5,
   "id": "dress-honor",
   "metadata": {},
   "outputs": [],
   "source": [
    "covidtotals = pd.read_csv('data/covidtotals.csv', parse_dates=['lastdate'])\n",
    "covidtotals.set_index('iso_code', inplace=True)"
   ]
  },
  {
   "cell_type": "markdown",
   "id": "welcome-respondent",
   "metadata": {},
   "source": [
    "# Do a boxplot of SAT verbal scores"
   ]
  },
  {
   "cell_type": "code",
   "execution_count": 7,
   "id": "cognitive-second",
   "metadata": {},
   "outputs": [
    {
     "data": {
      "text/plain": [
       "count    1406.000000\n",
       "mean      499.724040\n",
       "std       112.166256\n",
       "min        14.000000\n",
       "25%       430.000000\n",
       "50%       500.000000\n",
       "75%       570.000000\n",
       "max       800.000000\n",
       "Name: satverbal, dtype: float64"
      ]
     },
     "execution_count": 7,
     "metadata": {},
     "output_type": "execute_result"
    }
   ],
   "source": [
    "nls97['satverbal'].describe()"
   ]
  },
  {
   "cell_type": "code",
   "execution_count": 13,
   "id": "indian-notice",
   "metadata": {},
   "outputs": [
    {
     "data": {
      "image/png": "[encoded data removed]",
      "text/plain": [
       "<Figure size 504x504 with 1 Axes>"
      ]
     },
     "metadata": {
      "needs_background": "light"
     },
     "output_type": "display_data"
    }
   ],
   "source": [
    "plt.figure(figsize=(7, 7))\n",
    "plt.boxplot(nls97['satverbal'].dropna(), labels=['SAT Verbal'])\n",
    "plt.annotate('outlier threshold',\n",
    "             xy=(1.05, 780),\n",
    "             xytext=(1.15, 780),\n",
    "             size=7,\n",
    "             arrowprops=dict(facecolor='black',\n",
    "                             headwidth=2,\n",
    "                             width=0.5,\n",
    "                             shrink=0.02))\n",
    "plt.annotate('3rd quartile',\n",
    "             xy=(1.08, 570),\n",
    "             xytext=(1.15, 570),\n",
    "             size=7,\n",
    "             arrowprops=dict(facecolor='black',\n",
    "                             headwidth=2,\n",
    "                             width=0.5,\n",
    "                             shrink=0.02))\n",
    "plt.annotate('median',\n",
    "             xy=(1.08, 500),\n",
    "             xytext=(1.15, 500),\n",
    "             size=7,\n",
    "             arrowprops=dict(facecolor='black',\n",
    "                             headwidth=2,\n",
    "                             width=0.5,\n",
    "                             shrink=0.02))\n",
    "plt.annotate('1st quartile',\n",
    "             xy=(1.08, 430),\n",
    "             xytext=(1.15, 430),\n",
    "             size=7,\n",
    "             arrowprops=dict(facecolor='black',\n",
    "                             headwidth=2,\n",
    "                             width=0.5,\n",
    "                             shrink=0.02))\n",
    "plt.annotate('outlier threshold',\n",
    "             xy=(1.05, 220),\n",
    "             xytext=(1.15, 220),\n",
    "             size=7,\n",
    "             arrowprops=dict(facecolor='black',\n",
    "                             headwidth=2,\n",
    "                             width=0.5,\n",
    "                             shrink=0.02))\n",
    "plt.title('Boxplot of SAT Verbal Score')\n",
    "plt.show()"
   ]
  },
  {
   "cell_type": "markdown",
   "id": "stone-holly",
   "metadata": {},
   "source": [
    "# Show some descriptives on weeks worked"
   ]
  },
  {
   "cell_type": "code",
   "execution_count": 14,
   "id": "clean-cartridge",
   "metadata": {},
   "outputs": [
    {
     "data": {
      "text/html": [
       "<div>\n",
       "<style scoped>\n",
       "    .dataframe tbody tr th:only-of-type {\n",
       "        vertical-align: middle;\n",
       "    }\n",
       "\n",
       "    .dataframe tbody tr th {\n",
       "        vertical-align: top;\n",
       "    }\n",
       "\n",
       "    .dataframe thead th {\n",
       "        text-align: right;\n",
       "    }\n",
       "</style>\n",
       "<table border=\"1\" class=\"dataframe\">\n",
       "  <thead>\n",
       "    <tr style=\"text-align: right;\">\n",
       "      <th></th>\n",
       "      <th>weeksworked16</th>\n",
       "      <th>weeksworked17</th>\n",
       "    </tr>\n",
       "  </thead>\n",
       "  <tbody>\n",
       "    <tr>\n",
       "      <th>count</th>\n",
       "      <td>7068.000000</td>\n",
       "      <td>6670.000000</td>\n",
       "    </tr>\n",
       "    <tr>\n",
       "      <th>mean</th>\n",
       "      <td>39.127476</td>\n",
       "      <td>39.016642</td>\n",
       "    </tr>\n",
       "    <tr>\n",
       "      <th>std</th>\n",
       "      <td>21.336629</td>\n",
       "      <td>19.465974</td>\n",
       "    </tr>\n",
       "    <tr>\n",
       "      <th>min</th>\n",
       "      <td>0.000000</td>\n",
       "      <td>0.000000</td>\n",
       "    </tr>\n",
       "    <tr>\n",
       "      <th>25%</th>\n",
       "      <td>23.000000</td>\n",
       "      <td>37.000000</td>\n",
       "    </tr>\n",
       "    <tr>\n",
       "      <th>50%</th>\n",
       "      <td>53.000000</td>\n",
       "      <td>49.000000</td>\n",
       "    </tr>\n",
       "    <tr>\n",
       "      <th>75%</th>\n",
       "      <td>53.000000</td>\n",
       "      <td>52.000000</td>\n",
       "    </tr>\n",
       "    <tr>\n",
       "      <th>max</th>\n",
       "      <td>53.000000</td>\n",
       "      <td>52.000000</td>\n",
       "    </tr>\n",
       "  </tbody>\n",
       "</table>\n",
       "</div>"
      ],
      "text/plain": [
       "       weeksworked16  weeksworked17\n",
       "count    7068.000000    6670.000000\n",
       "mean       39.127476      39.016642\n",
       "std        21.336629      19.465974\n",
       "min         0.000000       0.000000\n",
       "25%        23.000000      37.000000\n",
       "50%        53.000000      49.000000\n",
       "75%        53.000000      52.000000\n",
       "max        53.000000      52.000000"
      ]
     },
     "execution_count": 14,
     "metadata": {},
     "output_type": "execute_result"
    }
   ],
   "source": [
    "weeksworked = nls97.loc[:, ['highestdegree', 'weeksworked16', 'weeksworked17']]\n",
    "weeksworked.describe()"
   ]
  },
  {
   "cell_type": "markdown",
   "id": "controversial-chance",
   "metadata": {},
   "source": [
    "# Do boxplots of weeks worked"
   ]
  },
  {
   "cell_type": "code",
   "execution_count": 16,
   "id": "related-burning",
   "metadata": {},
   "outputs": [
    {
     "data": {
      "image/png": "[encoded data removed]",
      "text/plain": [
       "<Figure size 648x648 with 1 Axes>"
      ]
     },
     "metadata": {
      "needs_background": "light"
     },
     "output_type": "display_data"
    }
   ],
   "source": [
    "plt.figure(figsize=(9, 9))\n",
    "plt.boxplot([\n",
    "    weeksworked['weeksworked16'].dropna(),\n",
    "    weeksworked['weeksworked17'].dropna()\n",
    "])\n",
    "plt.show()"
   ]
  },
  {
   "cell_type": "markdown",
   "id": "thermal-morris",
   "metadata": {},
   "source": [
    "# Show some descriptives for the Covid data"
   ]
  },
  {
   "cell_type": "code",
   "execution_count": 17,
   "id": "spare-franklin",
   "metadata": {},
   "outputs": [],
   "source": [
    "totvars = ['total_cases', 'total_deaths', 'total_cases_pm', 'total_deaths_pm']"
   ]
  },
  {
   "cell_type": "code",
   "execution_count": 18,
   "id": "skilled-jamaica",
   "metadata": {},
   "outputs": [],
   "source": [
    "totvarslabels = ['cases', 'deaths', 'cases per million', 'deaths per million']"
   ]
  },
  {
   "cell_type": "code",
   "execution_count": 19,
   "id": "reported-detail",
   "metadata": {},
   "outputs": [
    {
     "data": {
      "text/html": [
       "<div>\n",
       "<style scoped>\n",
       "    .dataframe tbody tr th:only-of-type {\n",
       "        vertical-align: middle;\n",
       "    }\n",
       "\n",
       "    .dataframe tbody tr th {\n",
       "        vertical-align: top;\n",
       "    }\n",
       "\n",
       "    .dataframe thead th {\n",
       "        text-align: right;\n",
       "    }\n",
       "</style>\n",
       "<table border=\"1\" class=\"dataframe\">\n",
       "  <thead>\n",
       "    <tr style=\"text-align: right;\">\n",
       "      <th></th>\n",
       "      <th>total_cases</th>\n",
       "      <th>total_deaths</th>\n",
       "      <th>total_cases_pm</th>\n",
       "      <th>total_deaths_pm</th>\n",
       "    </tr>\n",
       "  </thead>\n",
       "  <tbody>\n",
       "    <tr>\n",
       "      <th>count</th>\n",
       "      <td>2.090000e+02</td>\n",
       "      <td>209.000000</td>\n",
       "      <td>209.000000</td>\n",
       "      <td>209.000000</td>\n",
       "    </tr>\n",
       "    <tr>\n",
       "      <th>mean</th>\n",
       "      <td>6.075741e+04</td>\n",
       "      <td>2702.952153</td>\n",
       "      <td>2297.022144</td>\n",
       "      <td>73.636522</td>\n",
       "    </tr>\n",
       "    <tr>\n",
       "      <th>std</th>\n",
       "      <td>2.724401e+05</td>\n",
       "      <td>11894.963052</td>\n",
       "      <td>4039.840203</td>\n",
       "      <td>156.341672</td>\n",
       "    </tr>\n",
       "    <tr>\n",
       "      <th>min</th>\n",
       "      <td>3.000000e+00</td>\n",
       "      <td>0.000000</td>\n",
       "      <td>1.229000</td>\n",
       "      <td>0.000000</td>\n",
       "    </tr>\n",
       "    <tr>\n",
       "      <th>25%</th>\n",
       "      <td>3.420000e+02</td>\n",
       "      <td>9.000000</td>\n",
       "      <td>202.834000</td>\n",
       "      <td>2.809000</td>\n",
       "    </tr>\n",
       "    <tr>\n",
       "      <th>50%</th>\n",
       "      <td>2.820000e+03</td>\n",
       "      <td>53.000000</td>\n",
       "      <td>868.866000</td>\n",
       "      <td>15.216000</td>\n",
       "    </tr>\n",
       "    <tr>\n",
       "      <th>75%</th>\n",
       "      <td>2.561100e+04</td>\n",
       "      <td>386.000000</td>\n",
       "      <td>2784.865000</td>\n",
       "      <td>58.374000</td>\n",
       "    </tr>\n",
       "    <tr>\n",
       "      <th>max</th>\n",
       "      <td>3.247684e+06</td>\n",
       "      <td>134814.000000</td>\n",
       "      <td>35795.159000</td>\n",
       "      <td>1237.551000</td>\n",
       "    </tr>\n",
       "  </tbody>\n",
       "</table>\n",
       "</div>"
      ],
      "text/plain": [
       "        total_cases   total_deaths  total_cases_pm  total_deaths_pm\n",
       "count  2.090000e+02     209.000000      209.000000       209.000000\n",
       "mean   6.075741e+04    2702.952153     2297.022144        73.636522\n",
       "std    2.724401e+05   11894.963052     4039.840203       156.341672\n",
       "min    3.000000e+00       0.000000        1.229000         0.000000\n",
       "25%    3.420000e+02       9.000000      202.834000         2.809000\n",
       "50%    2.820000e+03      53.000000      868.866000        15.216000\n",
       "75%    2.561100e+04     386.000000     2784.865000        58.374000\n",
       "max    3.247684e+06  134814.000000    35795.159000      1237.551000"
      ]
     },
     "execution_count": 19,
     "metadata": {},
     "output_type": "execute_result"
    }
   ],
   "source": [
    "covidtotalsonly = covidtotals[totvars]\n",
    "covidtotalsonly.describe()"
   ]
  },
  {
   "cell_type": "markdown",
   "id": "looking-wisdom",
   "metadata": {},
   "source": [
    "# Do boxplots of cases and deaths per million"
   ]
  },
  {
   "cell_type": "code",
   "execution_count": 29,
   "id": "common-covering",
   "metadata": {},
   "outputs": [
    {
     "data": {
      "image/png": "[encoded data removed]",
      "text/plain": [
       "<Figure size 576x720 with 1 Axes>"
      ]
     },
     "metadata": {
      "needs_background": "light"
     },
     "output_type": "display_data"
    }
   ],
   "source": [
    "fig, ax = plt.subplots(figsize=(8, 10))\n",
    "plt.title('Boxplots of Covid Cases and Deaths Per Million')\n",
    "ax.boxplot(\n",
    "    [covidtotalsonly['total_cases_pm'], covidtotalsonly['total_deaths_pm']],\n",
    "    labels=['cases per million', 'deaths per million'])\n",
    "plt.tight_layout()\n",
    "plt.show()"
   ]
  },
  {
   "cell_type": "markdown",
   "id": "greek-terror",
   "metadata": {},
   "source": [
    "# Show the boxplots as separate subplots on one figure"
   ]
  },
  {
   "cell_type": "code",
   "execution_count": 32,
   "id": "former-sociology",
   "metadata": {},
   "outputs": [
    {
     "data": {
      "image/png": "[encoded data removed]",
      "text/plain": [
       "<Figure size 432x288 with 4 Axes>"
      ]
     },
     "metadata": {
      "needs_background": "light"
     },
     "output_type": "display_data"
    }
   ],
   "source": [
    "# fig, axes = plt.subplots(2, 2, figsize=(8, 10))\n",
    "fig, axes = plt.subplots(2, 2)\n",
    "plt.suptitle('Boxplots of Covid Cases and Deaths')\n",
    "axes = axes.ravel()\n",
    "\n",
    "for j, ax in enumerate(axes):\n",
    "    ax.boxplot(covidtotalsonly.iloc[:, j], labels=[totvarslabels[j]])\n",
    "plt.tight_layout()\n",
    "fig.subplots_adjust(top=0.94)\n",
    "plt.show()"
   ]
  },
  {
   "cell_type": "code",
   "execution_count": null,
   "id": "convertible-identifier",
   "metadata": {},
   "outputs": [],
   "source": []
  }
 ],
 "metadata": {
  "kernelspec": {
   "display_name": "Python 3",
   "language": "python",
   "name": "python3"
  },
  "language_info": {
   "codemirror_mode": {
    "name": "ipython",
    "version": 3
   },
   "file_extension": ".py",
   "mimetype": "text/x-python",
   "name": "python",
   "nbconvert_exporter": "python",
   "pygments_lexer": "ipython3",
   "version": "3.7.9"
  },
  "toc": {
   "base_numbering": 1,
   "nav_menu": {},
   "number_sections": true,
   "sideBar": true,
   "skip_h1_title": false,
   "title_cell": "Table of Contents",
   "title_sidebar": "Contents",
   "toc_cell": true,
   "toc_position": {},
   "toc_section_display": true,
   "toc_window_display": false
  }
 },
 "nbformat": 4,
 "nbformat_minor": 5
}
