{
 "cells": [
  {
   "cell_type": "markdown",
   "id": "cosmetic-dance",
   "metadata": {
    "toc": true
   },
   "source": [
    "<h1>Table of Contents<span class=\"tocSkip\"></span></h1>\n",
    "<div class=\"toc\"><ul class=\"toc-item\"><li><span><a href=\"#Import-pandas-and-load-the-two-NLS-DataFrames\" data-toc-modified-id=\"Import-pandas-and-load-the-two-NLS-DataFrames-1\"><span class=\"toc-item-num\">1&nbsp;&nbsp;</span>Import pandas and load the two NLS DataFrames</a></span></li><li><span><a href=\"#Check-that-the-number-of-unique-values-for-originalid-is-equal-to-the-number-of-rows\" data-toc-modified-id=\"Check-that-the-number-of-unique-values-for-originalid-is-equal-to-the-number-of-rows-2\"><span class=\"toc-item-num\">2&nbsp;&nbsp;</span>Check that the number of unique values for originalid is equal to the number of rows</a></span></li><li><span><a href=\"#Create-some-mismatched-IDs\" data-toc-modified-id=\"Create-some-mismatched-IDs-3\"><span class=\"toc-item-num\">3&nbsp;&nbsp;</span>Create some mismatched IDs</a></span></li><li><span><a href=\"#Use-join-to-perform-a-left-join\" data-toc-modified-id=\"Use-join-to-perform-a-left-join-4\"><span class=\"toc-item-num\">4&nbsp;&nbsp;</span>Use join to perform a left join</a></span></li><li><span><a href=\"#Perform-a-left-join-with-merge\" data-toc-modified-id=\"Perform-a-left-join-with-merge-5\"><span class=\"toc-item-num\">5&nbsp;&nbsp;</span>Perform a left join with merge</a></span></li><li><span><a href=\"#Perform-a-right-join\" data-toc-modified-id=\"Perform-a-right-join-6\"><span class=\"toc-item-num\">6&nbsp;&nbsp;</span>Perform a right join</a></span></li><li><span><a href=\"#Perform-an-inner-join\" data-toc-modified-id=\"Perform-an-inner-join-7\"><span class=\"toc-item-num\">7&nbsp;&nbsp;</span>Perform an inner join</a></span></li><li><span><a href=\"#Perform-an-outer-join\" data-toc-modified-id=\"Perform-an-outer-join-8\"><span class=\"toc-item-num\">8&nbsp;&nbsp;</span>Perform an outer join</a></span></li><li><span><a href=\"#Create-a-function-to-check-for-ID-mismatches\" data-toc-modified-id=\"Create-a-function-to-check-for-ID-mismatches-9\"><span class=\"toc-item-num\">9&nbsp;&nbsp;</span>Create a function to check for ID mismatches</a></span></li></ul></div>"
   ]
  },
  {
   "cell_type": "markdown",
   "id": "hourly-coordinate",
   "metadata": {},
   "source": [
    "# Import pandas and load the two NLS DataFrames"
   ]
  },
  {
   "cell_type": "code",
   "execution_count": 1,
   "id": "electronic-little",
   "metadata": {},
   "outputs": [],
   "source": [
    "import pandas as pd"
   ]
  },
  {
   "cell_type": "code",
   "execution_count": 2,
   "id": "polish-gothic",
   "metadata": {},
   "outputs": [],
   "source": [
    "# pd.set_option('display.width', 80)\n",
    "# pd.set_option('display.max_columns', 7)\n",
    "# pd.set_option('display.max_rows', 100)\n",
    "# pd.options.display.float_format = '{:,.0f}'.format"
   ]
  },
  {
   "cell_type": "code",
   "execution_count": 3,
   "id": "civic-marketing",
   "metadata": {},
   "outputs": [
    {
     "name": "stdout",
     "output_type": "stream",
     "text": [
      "json     : 2.0.9\n",
      "watermark: 2.1.0\n",
      "pandas   : 1.2.1\n",
      "\n"
     ]
    }
   ],
   "source": [
    "import watermark\n",
    "%load_ext watermark\n",
    "\n",
    "%watermark -n -i -iv"
   ]
  },
  {
   "cell_type": "code",
   "execution_count": 4,
   "id": "hybrid-shark",
   "metadata": {},
   "outputs": [],
   "source": [
    "nls97 = pd.read_csv('data/nls97f.csv')\n",
    "nls97.set_index('personid', inplace=True)"
   ]
  },
  {
   "cell_type": "code",
   "execution_count": 5,
   "id": "built-circuit",
   "metadata": {},
   "outputs": [],
   "source": [
    "nls97add = pd.read_csv('data/nls97add.csv')"
   ]
  },
  {
   "cell_type": "code",
   "execution_count": 6,
   "id": "hungarian-charlotte",
   "metadata": {},
   "outputs": [
    {
     "data": {
      "text/html": [
       "<div>\n",
       "<style scoped>\n",
       "    .dataframe tbody tr th:only-of-type {\n",
       "        vertical-align: middle;\n",
       "    }\n",
       "\n",
       "    .dataframe tbody tr th {\n",
       "        vertical-align: top;\n",
       "    }\n",
       "\n",
       "    .dataframe thead th {\n",
       "        text-align: right;\n",
       "    }\n",
       "</style>\n",
       "<table border=\"1\" class=\"dataframe\">\n",
       "  <thead>\n",
       "    <tr style=\"text-align: right;\">\n",
       "      <th></th>\n",
       "      <th>gender</th>\n",
       "      <th>birthmonth</th>\n",
       "      <th>birthyear</th>\n",
       "      <th>highestgradecompleted</th>\n",
       "      <th>maritalstatus</th>\n",
       "      <th>childathome</th>\n",
       "      <th>childnotathome</th>\n",
       "      <th>wageincome</th>\n",
       "      <th>weeklyhrscomputer</th>\n",
       "      <th>weeklyhrstv</th>\n",
       "      <th>...</th>\n",
       "      <th>colenroct13</th>\n",
       "      <th>colenrfeb14</th>\n",
       "      <th>colenroct14</th>\n",
       "      <th>colenrfeb15</th>\n",
       "      <th>colenroct15</th>\n",
       "      <th>colenrfeb16</th>\n",
       "      <th>colenroct16</th>\n",
       "      <th>colenrfeb17</th>\n",
       "      <th>colenroct17</th>\n",
       "      <th>originalid</th>\n",
       "    </tr>\n",
       "    <tr>\n",
       "      <th>personid</th>\n",
       "      <th></th>\n",
       "      <th></th>\n",
       "      <th></th>\n",
       "      <th></th>\n",
       "      <th></th>\n",
       "      <th></th>\n",
       "      <th></th>\n",
       "      <th></th>\n",
       "      <th></th>\n",
       "      <th></th>\n",
       "      <th></th>\n",
       "      <th></th>\n",
       "      <th></th>\n",
       "      <th></th>\n",
       "      <th></th>\n",
       "      <th></th>\n",
       "      <th></th>\n",
       "      <th></th>\n",
       "      <th></th>\n",
       "      <th></th>\n",
       "      <th></th>\n",
       "    </tr>\n",
       "  </thead>\n",
       "  <tbody>\n",
       "    <tr>\n",
       "      <th>100061</th>\n",
       "      <td>Female</td>\n",
       "      <td>5</td>\n",
       "      <td>1980</td>\n",
       "      <td>13.0</td>\n",
       "      <td>Married</td>\n",
       "      <td>4.0</td>\n",
       "      <td>0.0</td>\n",
       "      <td>12500.0</td>\n",
       "      <td>10 hours or more a week</td>\n",
       "      <td>11 to 20 hours a week</td>\n",
       "      <td>...</td>\n",
       "      <td>1. Not enrolled</td>\n",
       "      <td>1. Not enrolled</td>\n",
       "      <td>1. Not enrolled</td>\n",
       "      <td>1. Not enrolled</td>\n",
       "      <td>1. Not enrolled</td>\n",
       "      <td>1. Not enrolled</td>\n",
       "      <td>1. Not enrolled</td>\n",
       "      <td>1. Not enrolled</td>\n",
       "      <td>1. Not enrolled</td>\n",
       "      <td>8245</td>\n",
       "    </tr>\n",
       "    <tr>\n",
       "      <th>100139</th>\n",
       "      <td>Male</td>\n",
       "      <td>9</td>\n",
       "      <td>1983</td>\n",
       "      <td>12.0</td>\n",
       "      <td>Married</td>\n",
       "      <td>2.0</td>\n",
       "      <td>0.0</td>\n",
       "      <td>120000.0</td>\n",
       "      <td>1 to 3 hours a week</td>\n",
       "      <td>3 to 10 hours a week</td>\n",
       "      <td>...</td>\n",
       "      <td>1. Not enrolled</td>\n",
       "      <td>1. Not enrolled</td>\n",
       "      <td>1. Not enrolled</td>\n",
       "      <td>1. Not enrolled</td>\n",
       "      <td>1. Not enrolled</td>\n",
       "      <td>1. Not enrolled</td>\n",
       "      <td>1. Not enrolled</td>\n",
       "      <td>1. Not enrolled</td>\n",
       "      <td>1. Not enrolled</td>\n",
       "      <td>3962</td>\n",
       "    </tr>\n",
       "    <tr>\n",
       "      <th>100284</th>\n",
       "      <td>Male</td>\n",
       "      <td>11</td>\n",
       "      <td>1984</td>\n",
       "      <td>7.0</td>\n",
       "      <td>Never-married</td>\n",
       "      <td>1.0</td>\n",
       "      <td>0.0</td>\n",
       "      <td>58000.0</td>\n",
       "      <td>None</td>\n",
       "      <td>11 to 20 hours a week</td>\n",
       "      <td>...</td>\n",
       "      <td>1. Not enrolled</td>\n",
       "      <td>1. Not enrolled</td>\n",
       "      <td>1. Not enrolled</td>\n",
       "      <td>1. Not enrolled</td>\n",
       "      <td>1. Not enrolled</td>\n",
       "      <td>1. Not enrolled</td>\n",
       "      <td>1. Not enrolled</td>\n",
       "      <td>1. Not enrolled</td>\n",
       "      <td>1. Not enrolled</td>\n",
       "      <td>3571</td>\n",
       "    </tr>\n",
       "    <tr>\n",
       "      <th>100292</th>\n",
       "      <td>Male</td>\n",
       "      <td>4</td>\n",
       "      <td>1982</td>\n",
       "      <td>NaN</td>\n",
       "      <td>NaN</td>\n",
       "      <td>NaN</td>\n",
       "      <td>NaN</td>\n",
       "      <td>NaN</td>\n",
       "      <td>NaN</td>\n",
       "      <td>NaN</td>\n",
       "      <td>...</td>\n",
       "      <td>1. Not enrolled</td>\n",
       "      <td>1. Not enrolled</td>\n",
       "      <td>1. Not enrolled</td>\n",
       "      <td>1. Not enrolled</td>\n",
       "      <td>1. Not enrolled</td>\n",
       "      <td>NaN</td>\n",
       "      <td>NaN</td>\n",
       "      <td>NaN</td>\n",
       "      <td>NaN</td>\n",
       "      <td>2979</td>\n",
       "    </tr>\n",
       "    <tr>\n",
       "      <th>100583</th>\n",
       "      <td>Male</td>\n",
       "      <td>1</td>\n",
       "      <td>1980</td>\n",
       "      <td>13.0</td>\n",
       "      <td>Married</td>\n",
       "      <td>4.0</td>\n",
       "      <td>0.0</td>\n",
       "      <td>30000.0</td>\n",
       "      <td>Less than 1 hour a week</td>\n",
       "      <td>3 to 10 hours a week</td>\n",
       "      <td>...</td>\n",
       "      <td>1. Not enrolled</td>\n",
       "      <td>1. Not enrolled</td>\n",
       "      <td>1. Not enrolled</td>\n",
       "      <td>1. Not enrolled</td>\n",
       "      <td>1. Not enrolled</td>\n",
       "      <td>1. Not enrolled</td>\n",
       "      <td>1. Not enrolled</td>\n",
       "      <td>1. Not enrolled</td>\n",
       "      <td>1. Not enrolled</td>\n",
       "      <td>8511</td>\n",
       "    </tr>\n",
       "  </tbody>\n",
       "</table>\n",
       "<p>5 rows × 89 columns</p>\n",
       "</div>"
      ],
      "text/plain": [
       "          gender  birthmonth  birthyear  highestgradecompleted  maritalstatus  \\\n",
       "personid                                                                        \n",
       "100061    Female           5       1980                   13.0        Married   \n",
       "100139      Male           9       1983                   12.0        Married   \n",
       "100284      Male          11       1984                    7.0  Never-married   \n",
       "100292      Male           4       1982                    NaN            NaN   \n",
       "100583      Male           1       1980                   13.0        Married   \n",
       "\n",
       "          childathome  childnotathome  wageincome        weeklyhrscomputer  \\\n",
       "personid                                                                     \n",
       "100061            4.0             0.0     12500.0  10 hours or more a week   \n",
       "100139            2.0             0.0    120000.0      1 to 3 hours a week   \n",
       "100284            1.0             0.0     58000.0                     None   \n",
       "100292            NaN             NaN         NaN                      NaN   \n",
       "100583            4.0             0.0     30000.0  Less than 1 hour a week   \n",
       "\n",
       "                    weeklyhrstv  ...      colenroct13      colenrfeb14  \\\n",
       "personid                         ...                                     \n",
       "100061    11 to 20 hours a week  ...  1. Not enrolled  1. Not enrolled   \n",
       "100139     3 to 10 hours a week  ...  1. Not enrolled  1. Not enrolled   \n",
       "100284    11 to 20 hours a week  ...  1. Not enrolled  1. Not enrolled   \n",
       "100292                      NaN  ...  1. Not enrolled  1. Not enrolled   \n",
       "100583     3 to 10 hours a week  ...  1. Not enrolled  1. Not enrolled   \n",
       "\n",
       "              colenroct14      colenrfeb15      colenroct15      colenrfeb16  \\\n",
       "personid                                                                       \n",
       "100061    1. Not enrolled  1. Not enrolled  1. Not enrolled  1. Not enrolled   \n",
       "100139    1. Not enrolled  1. Not enrolled  1. Not enrolled  1. Not enrolled   \n",
       "100284    1. Not enrolled  1. Not enrolled  1. Not enrolled  1. Not enrolled   \n",
       "100292    1. Not enrolled  1. Not enrolled  1. Not enrolled              NaN   \n",
       "100583    1. Not enrolled  1. Not enrolled  1. Not enrolled  1. Not enrolled   \n",
       "\n",
       "              colenroct16      colenrfeb17      colenroct17 originalid  \n",
       "personid                                                                \n",
       "100061    1. Not enrolled  1. Not enrolled  1. Not enrolled       8245  \n",
       "100139    1. Not enrolled  1. Not enrolled  1. Not enrolled       3962  \n",
       "100284    1. Not enrolled  1. Not enrolled  1. Not enrolled       3571  \n",
       "100292                NaN              NaN              NaN       2979  \n",
       "100583    1. Not enrolled  1. Not enrolled  1. Not enrolled       8511  \n",
       "\n",
       "[5 rows x 89 columns]"
      ]
     },
     "execution_count": 6,
     "metadata": {},
     "output_type": "execute_result"
    }
   ],
   "source": [
    "nls97.head()"
   ]
  },
  {
   "cell_type": "code",
   "execution_count": 7,
   "id": "phantom-supplier",
   "metadata": {},
   "outputs": [
    {
     "data": {
      "text/plain": [
       "(8984, 89)"
      ]
     },
     "execution_count": 7,
     "metadata": {},
     "output_type": "execute_result"
    }
   ],
   "source": [
    "nls97.shape"
   ]
  },
  {
   "cell_type": "code",
   "execution_count": 8,
   "id": "distributed-relationship",
   "metadata": {},
   "outputs": [
    {
     "data": {
      "text/html": [
       "<div>\n",
       "<style scoped>\n",
       "    .dataframe tbody tr th:only-of-type {\n",
       "        vertical-align: middle;\n",
       "    }\n",
       "\n",
       "    .dataframe tbody tr th {\n",
       "        vertical-align: top;\n",
       "    }\n",
       "\n",
       "    .dataframe thead th {\n",
       "        text-align: right;\n",
       "    }\n",
       "</style>\n",
       "<table border=\"1\" class=\"dataframe\">\n",
       "  <thead>\n",
       "    <tr style=\"text-align: right;\">\n",
       "      <th></th>\n",
       "      <th>originalid</th>\n",
       "      <th>motherage</th>\n",
       "      <th>parentincome</th>\n",
       "      <th>fatherhighgrade</th>\n",
       "      <th>motherhighgrade</th>\n",
       "    </tr>\n",
       "  </thead>\n",
       "  <tbody>\n",
       "    <tr>\n",
       "      <th>0</th>\n",
       "      <td>1</td>\n",
       "      <td>26</td>\n",
       "      <td>-3</td>\n",
       "      <td>16</td>\n",
       "      <td>8</td>\n",
       "    </tr>\n",
       "    <tr>\n",
       "      <th>1</th>\n",
       "      <td>2</td>\n",
       "      <td>19</td>\n",
       "      <td>-4</td>\n",
       "      <td>17</td>\n",
       "      <td>15</td>\n",
       "    </tr>\n",
       "    <tr>\n",
       "      <th>2</th>\n",
       "      <td>3</td>\n",
       "      <td>26</td>\n",
       "      <td>63000</td>\n",
       "      <td>-3</td>\n",
       "      <td>12</td>\n",
       "    </tr>\n",
       "    <tr>\n",
       "      <th>3</th>\n",
       "      <td>4</td>\n",
       "      <td>33</td>\n",
       "      <td>11700</td>\n",
       "      <td>12</td>\n",
       "      <td>12</td>\n",
       "    </tr>\n",
       "    <tr>\n",
       "      <th>4</th>\n",
       "      <td>5</td>\n",
       "      <td>34</td>\n",
       "      <td>-3</td>\n",
       "      <td>12</td>\n",
       "      <td>12</td>\n",
       "    </tr>\n",
       "  </tbody>\n",
       "</table>\n",
       "</div>"
      ],
      "text/plain": [
       "   originalid  motherage  parentincome  fatherhighgrade  motherhighgrade\n",
       "0           1         26            -3               16                8\n",
       "1           2         19            -4               17               15\n",
       "2           3         26         63000               -3               12\n",
       "3           4         33         11700               12               12\n",
       "4           5         34            -3               12               12"
      ]
     },
     "execution_count": 8,
     "metadata": {},
     "output_type": "execute_result"
    }
   ],
   "source": [
    "nls97add.head()"
   ]
  },
  {
   "cell_type": "code",
   "execution_count": 9,
   "id": "miniature-classic",
   "metadata": {},
   "outputs": [
    {
     "data": {
      "text/plain": [
       "(8984, 5)"
      ]
     },
     "execution_count": 9,
     "metadata": {},
     "output_type": "execute_result"
    }
   ],
   "source": [
    "nls97add.shape"
   ]
  },
  {
   "cell_type": "markdown",
   "id": "entire-macintosh",
   "metadata": {},
   "source": [
    "# Check that the number of unique values for originalid is equal to the number of rows\n",
    "\n",
    "We will use originalid for our merge-by column later"
   ]
  },
  {
   "cell_type": "code",
   "execution_count": 10,
   "id": "deluxe-journey",
   "metadata": {},
   "outputs": [
    {
     "data": {
      "text/plain": [
       "True"
      ]
     },
     "execution_count": 10,
     "metadata": {},
     "output_type": "execute_result"
    }
   ],
   "source": [
    "nls97['originalid'].nunique() == nls97.shape[0]"
   ]
  },
  {
   "cell_type": "code",
   "execution_count": 11,
   "id": "psychological-hollow",
   "metadata": {},
   "outputs": [
    {
     "data": {
      "text/plain": [
       "True"
      ]
     },
     "execution_count": 11,
     "metadata": {},
     "output_type": "execute_result"
    }
   ],
   "source": [
    "nls97add['originalid'].nunique() == nls97add.shape[0]"
   ]
  },
  {
   "cell_type": "markdown",
   "id": "illegal-birth",
   "metadata": {},
   "source": [
    "# Create some mismatched IDs"
   ]
  },
  {
   "cell_type": "code",
   "execution_count": 12,
   "id": "pediatric-blanket",
   "metadata": {},
   "outputs": [],
   "source": [
    "nls97 = nls97.sort_values('originalid')\n",
    "nls97add = nls97add.sort_values('originalid')"
   ]
  },
  {
   "cell_type": "code",
   "execution_count": 13,
   "id": "amateur-enemy",
   "metadata": {},
   "outputs": [
    {
     "data": {
      "text/plain": [
       "personid\n",
       "135335    1\n",
       "999406    2\n",
       "Name: originalid, dtype: int64"
      ]
     },
     "execution_count": 13,
     "metadata": {},
     "output_type": "execute_result"
    }
   ],
   "source": [
    "nls97.iloc[0:2, -1]"
   ]
  },
  {
   "cell_type": "code",
   "execution_count": 14,
   "id": "moral-spirituality",
   "metadata": {},
   "outputs": [],
   "source": [
    "nls97.iloc[0:2, -1] = nls97.iloc[0:2, -1] + 10000"
   ]
  },
  {
   "cell_type": "code",
   "execution_count": 15,
   "id": "fallen-mason",
   "metadata": {},
   "outputs": [
    {
     "data": {
      "text/plain": [
       "personid\n",
       "135335    10001\n",
       "999406    10002\n",
       "Name: originalid, dtype: int64"
      ]
     },
     "execution_count": 15,
     "metadata": {},
     "output_type": "execute_result"
    }
   ],
   "source": [
    "nls97.iloc[0:2, -1]"
   ]
  },
  {
   "cell_type": "code",
   "execution_count": 16,
   "id": "streaming-proxy",
   "metadata": {},
   "outputs": [
    {
     "data": {
      "text/plain": [
       "personid\n",
       "135335    10001\n",
       "999406    10002\n",
       "Name: originalid, dtype: int64"
      ]
     },
     "execution_count": 16,
     "metadata": {},
     "output_type": "execute_result"
    }
   ],
   "source": [
    "nls97['originalid'].head(2)"
   ]
  },
  {
   "cell_type": "code",
   "execution_count": 17,
   "id": "guilty-coordination",
   "metadata": {},
   "outputs": [],
   "source": [
    "nls97add.iloc[0:2, 0] = nls97add.iloc[0:2, 0] + 20000"
   ]
  },
  {
   "cell_type": "code",
   "execution_count": 18,
   "id": "placed-trout",
   "metadata": {},
   "outputs": [
    {
     "data": {
      "text/plain": [
       "0    20001\n",
       "1    20002\n",
       "Name: originalid, dtype: int64"
      ]
     },
     "execution_count": 18,
     "metadata": {},
     "output_type": "execute_result"
    }
   ],
   "source": [
    "nls97add['originalid'].head(2)"
   ]
  },
  {
   "cell_type": "markdown",
   "id": "adjacent-algebra",
   "metadata": {},
   "source": [
    "# Use join to perform a left join"
   ]
  },
  {
   "cell_type": "code",
   "execution_count": 19,
   "id": "important-argentina",
   "metadata": {},
   "outputs": [],
   "source": [
    "nlsnew = nls97.join(nls97add.set_index(['originalid']))"
   ]
  },
  {
   "cell_type": "code",
   "execution_count": 20,
   "id": "comic-village",
   "metadata": {},
   "outputs": [
    {
     "data": {
      "text/html": [
       "<div>\n",
       "<style scoped>\n",
       "    .dataframe tbody tr th:only-of-type {\n",
       "        vertical-align: middle;\n",
       "    }\n",
       "\n",
       "    .dataframe tbody tr th {\n",
       "        vertical-align: top;\n",
       "    }\n",
       "\n",
       "    .dataframe thead th {\n",
       "        text-align: right;\n",
       "    }\n",
       "</style>\n",
       "<table border=\"1\" class=\"dataframe\">\n",
       "  <thead>\n",
       "    <tr style=\"text-align: right;\">\n",
       "      <th></th>\n",
       "      <th>originalid</th>\n",
       "      <th>gender</th>\n",
       "      <th>birthyear</th>\n",
       "      <th>motherage</th>\n",
       "      <th>parentincome</th>\n",
       "    </tr>\n",
       "    <tr>\n",
       "      <th>personid</th>\n",
       "      <th></th>\n",
       "      <th></th>\n",
       "      <th></th>\n",
       "      <th></th>\n",
       "      <th></th>\n",
       "    </tr>\n",
       "  </thead>\n",
       "  <tbody>\n",
       "    <tr>\n",
       "      <th>135335</th>\n",
       "      <td>10001</td>\n",
       "      <td>Female</td>\n",
       "      <td>1981</td>\n",
       "      <td>NaN</td>\n",
       "      <td>NaN</td>\n",
       "    </tr>\n",
       "    <tr>\n",
       "      <th>999406</th>\n",
       "      <td>10002</td>\n",
       "      <td>Male</td>\n",
       "      <td>1982</td>\n",
       "      <td>NaN</td>\n",
       "      <td>NaN</td>\n",
       "    </tr>\n",
       "  </tbody>\n",
       "</table>\n",
       "</div>"
      ],
      "text/plain": [
       "          originalid  gender  birthyear  motherage  parentincome\n",
       "personid                                                        \n",
       "135335         10001  Female       1981        NaN           NaN\n",
       "999406         10002    Male       1982        NaN           NaN"
      ]
     },
     "execution_count": 20,
     "metadata": {},
     "output_type": "execute_result"
    }
   ],
   "source": [
    "nlsnew.loc[nlsnew['originalid'] > 9999,\n",
    "           ['originalid', 'gender', 'birthyear', 'motherage', 'parentincome']]"
   ]
  },
  {
   "cell_type": "markdown",
   "id": "sonic-pittsburgh",
   "metadata": {},
   "source": [
    "# Perform a left join with merge"
   ]
  },
  {
   "cell_type": "code",
   "execution_count": 21,
   "id": "satisfied-earthquake",
   "metadata": {},
   "outputs": [],
   "source": [
    "nlsnew1 = pd.merge(nls97, nls97add, on=['originalid'], how='left')"
   ]
  },
  {
   "cell_type": "code",
   "execution_count": 22,
   "id": "opposite-animal",
   "metadata": {},
   "outputs": [
    {
     "data": {
      "text/html": [
       "<div>\n",
       "<style scoped>\n",
       "    .dataframe tbody tr th:only-of-type {\n",
       "        vertical-align: middle;\n",
       "    }\n",
       "\n",
       "    .dataframe tbody tr th {\n",
       "        vertical-align: top;\n",
       "    }\n",
       "\n",
       "    .dataframe thead th {\n",
       "        text-align: right;\n",
       "    }\n",
       "</style>\n",
       "<table border=\"1\" class=\"dataframe\">\n",
       "  <thead>\n",
       "    <tr style=\"text-align: right;\">\n",
       "      <th></th>\n",
       "      <th>originalid</th>\n",
       "      <th>gender</th>\n",
       "      <th>birthyear</th>\n",
       "      <th>motherage</th>\n",
       "      <th>parentincome</th>\n",
       "    </tr>\n",
       "  </thead>\n",
       "  <tbody>\n",
       "    <tr>\n",
       "      <th>0</th>\n",
       "      <td>10001</td>\n",
       "      <td>Female</td>\n",
       "      <td>1981</td>\n",
       "      <td>NaN</td>\n",
       "      <td>NaN</td>\n",
       "    </tr>\n",
       "    <tr>\n",
       "      <th>1</th>\n",
       "      <td>10002</td>\n",
       "      <td>Male</td>\n",
       "      <td>1982</td>\n",
       "      <td>NaN</td>\n",
       "      <td>NaN</td>\n",
       "    </tr>\n",
       "  </tbody>\n",
       "</table>\n",
       "</div>"
      ],
      "text/plain": [
       "   originalid  gender  birthyear  motherage  parentincome\n",
       "0       10001  Female       1981        NaN           NaN\n",
       "1       10002    Male       1982        NaN           NaN"
      ]
     },
     "execution_count": 22,
     "metadata": {},
     "output_type": "execute_result"
    }
   ],
   "source": [
    "nlsnew1.loc[nlsnew1['originalid'] > 9999,\n",
    "            ['originalid', 'gender', 'birthyear', 'motherage', 'parentincome']]"
   ]
  },
  {
   "cell_type": "markdown",
   "id": "sudden-attachment",
   "metadata": {},
   "source": [
    "# Perform a right join"
   ]
  },
  {
   "cell_type": "code",
   "execution_count": 23,
   "id": "fifth-danish",
   "metadata": {},
   "outputs": [],
   "source": [
    "nlsnew2 = pd.merge(nls97, nls97add, on=['originalid'], how='right')"
   ]
  },
  {
   "cell_type": "code",
   "execution_count": 24,
   "id": "australian-chicago",
   "metadata": {},
   "outputs": [
    {
     "data": {
      "text/html": [
       "<div>\n",
       "<style scoped>\n",
       "    .dataframe tbody tr th:only-of-type {\n",
       "        vertical-align: middle;\n",
       "    }\n",
       "\n",
       "    .dataframe tbody tr th {\n",
       "        vertical-align: top;\n",
       "    }\n",
       "\n",
       "    .dataframe thead th {\n",
       "        text-align: right;\n",
       "    }\n",
       "</style>\n",
       "<table border=\"1\" class=\"dataframe\">\n",
       "  <thead>\n",
       "    <tr style=\"text-align: right;\">\n",
       "      <th></th>\n",
       "      <th>originalid</th>\n",
       "      <th>gender</th>\n",
       "      <th>birthyear</th>\n",
       "      <th>motherage</th>\n",
       "      <th>parentincome</th>\n",
       "    </tr>\n",
       "  </thead>\n",
       "  <tbody>\n",
       "    <tr>\n",
       "      <th>0</th>\n",
       "      <td>20001</td>\n",
       "      <td>NaN</td>\n",
       "      <td>NaN</td>\n",
       "      <td>26</td>\n",
       "      <td>-3</td>\n",
       "    </tr>\n",
       "    <tr>\n",
       "      <th>1</th>\n",
       "      <td>20002</td>\n",
       "      <td>NaN</td>\n",
       "      <td>NaN</td>\n",
       "      <td>19</td>\n",
       "      <td>-4</td>\n",
       "    </tr>\n",
       "  </tbody>\n",
       "</table>\n",
       "</div>"
      ],
      "text/plain": [
       "   originalid gender  birthyear  motherage  parentincome\n",
       "0       20001    NaN        NaN         26            -3\n",
       "1       20002    NaN        NaN         19            -4"
      ]
     },
     "execution_count": 24,
     "metadata": {},
     "output_type": "execute_result"
    }
   ],
   "source": [
    "nlsnew2.loc[nlsnew2['originalid'] > 9999,\n",
    "            ['originalid', 'gender', 'birthyear', 'motherage', 'parentincome']]"
   ]
  },
  {
   "cell_type": "markdown",
   "id": "defined-finance",
   "metadata": {},
   "source": [
    "# Perform an inner join"
   ]
  },
  {
   "cell_type": "code",
   "execution_count": 25,
   "id": "stainless-crossing",
   "metadata": {},
   "outputs": [],
   "source": [
    "nlsnew3 = pd.merge(nls97, nls97add, on=['originalid'], how='inner')"
   ]
  },
  {
   "cell_type": "code",
   "execution_count": 26,
   "id": "accessory-switch",
   "metadata": {},
   "outputs": [
    {
     "data": {
      "text/html": [
       "<div>\n",
       "<style scoped>\n",
       "    .dataframe tbody tr th:only-of-type {\n",
       "        vertical-align: middle;\n",
       "    }\n",
       "\n",
       "    .dataframe tbody tr th {\n",
       "        vertical-align: top;\n",
       "    }\n",
       "\n",
       "    .dataframe thead th {\n",
       "        text-align: right;\n",
       "    }\n",
       "</style>\n",
       "<table border=\"1\" class=\"dataframe\">\n",
       "  <thead>\n",
       "    <tr style=\"text-align: right;\">\n",
       "      <th></th>\n",
       "      <th>originalid</th>\n",
       "      <th>gender</th>\n",
       "      <th>birthyear</th>\n",
       "      <th>motherage</th>\n",
       "      <th>parentincome</th>\n",
       "    </tr>\n",
       "  </thead>\n",
       "  <tbody>\n",
       "  </tbody>\n",
       "</table>\n",
       "</div>"
      ],
      "text/plain": [
       "Empty DataFrame\n",
       "Columns: [originalid, gender, birthyear, motherage, parentincome]\n",
       "Index: []"
      ]
     },
     "execution_count": 26,
     "metadata": {},
     "output_type": "execute_result"
    }
   ],
   "source": [
    "nlsnew3.loc[nlsnew3['originalid'] > 9999,\n",
    "            ['originalid', 'gender', 'birthyear', 'motherage', 'parentincome']]"
   ]
  },
  {
   "cell_type": "markdown",
   "id": "brief-adapter",
   "metadata": {},
   "source": [
    "# Perform an outer join"
   ]
  },
  {
   "cell_type": "code",
   "execution_count": 27,
   "id": "chemical-thailand",
   "metadata": {},
   "outputs": [],
   "source": [
    "nlsnew4 = pd.merge(nls97, nls97add, on=['originalid'], how='outer')"
   ]
  },
  {
   "cell_type": "code",
   "execution_count": 28,
   "id": "patient-voltage",
   "metadata": {},
   "outputs": [
    {
     "data": {
      "text/html": [
       "<div>\n",
       "<style scoped>\n",
       "    .dataframe tbody tr th:only-of-type {\n",
       "        vertical-align: middle;\n",
       "    }\n",
       "\n",
       "    .dataframe tbody tr th {\n",
       "        vertical-align: top;\n",
       "    }\n",
       "\n",
       "    .dataframe thead th {\n",
       "        text-align: right;\n",
       "    }\n",
       "</style>\n",
       "<table border=\"1\" class=\"dataframe\">\n",
       "  <thead>\n",
       "    <tr style=\"text-align: right;\">\n",
       "      <th></th>\n",
       "      <th>originalid</th>\n",
       "      <th>gender</th>\n",
       "      <th>birthyear</th>\n",
       "      <th>motherage</th>\n",
       "      <th>parentincome</th>\n",
       "    </tr>\n",
       "  </thead>\n",
       "  <tbody>\n",
       "    <tr>\n",
       "      <th>0</th>\n",
       "      <td>10001</td>\n",
       "      <td>Female</td>\n",
       "      <td>1981.0</td>\n",
       "      <td>NaN</td>\n",
       "      <td>NaN</td>\n",
       "    </tr>\n",
       "    <tr>\n",
       "      <th>1</th>\n",
       "      <td>10002</td>\n",
       "      <td>Male</td>\n",
       "      <td>1982.0</td>\n",
       "      <td>NaN</td>\n",
       "      <td>NaN</td>\n",
       "    </tr>\n",
       "    <tr>\n",
       "      <th>8984</th>\n",
       "      <td>20001</td>\n",
       "      <td>NaN</td>\n",
       "      <td>NaN</td>\n",
       "      <td>26.0</td>\n",
       "      <td>-3.0</td>\n",
       "    </tr>\n",
       "    <tr>\n",
       "      <th>8985</th>\n",
       "      <td>20002</td>\n",
       "      <td>NaN</td>\n",
       "      <td>NaN</td>\n",
       "      <td>19.0</td>\n",
       "      <td>-4.0</td>\n",
       "    </tr>\n",
       "  </tbody>\n",
       "</table>\n",
       "</div>"
      ],
      "text/plain": [
       "      originalid  gender  birthyear  motherage  parentincome\n",
       "0          10001  Female     1981.0        NaN           NaN\n",
       "1          10002    Male     1982.0        NaN           NaN\n",
       "8984       20001     NaN        NaN       26.0          -3.0\n",
       "8985       20002     NaN        NaN       19.0          -4.0"
      ]
     },
     "execution_count": 28,
     "metadata": {},
     "output_type": "execute_result"
    }
   ],
   "source": [
    "nlsnew4.loc[nlsnew4['originalid'] > 9999,\n",
    "            ['originalid', 'gender', 'birthyear', 'motherage', 'parentincome']]"
   ]
  },
  {
   "cell_type": "markdown",
   "id": "suited-registration",
   "metadata": {},
   "source": [
    "# Create a function to check for ID mismatches"
   ]
  },
  {
   "cell_type": "code",
   "execution_count": 29,
   "id": "limited-advice",
   "metadata": {},
   "outputs": [],
   "source": [
    "def checkmerge(dfleft, dfright, idvar):\n",
    "    dfleft['inleft'] = 'Y'\n",
    "    dfright['inright'] = 'Y'\n",
    "    dfboth = pd.merge(dfleft[[idvar, 'inleft']],\n",
    "                      dfright[[idvar, 'inright']],\n",
    "                      on=[idvar],\n",
    "                      how='outer')\n",
    "    dfboth.fillna('N', inplace=True)\n",
    "    print(pd.crosstab(dfboth['inleft'], dfboth['inright']))"
   ]
  },
  {
   "cell_type": "code",
   "execution_count": 30,
   "id": "durable-edinburgh",
   "metadata": {},
   "outputs": [
    {
     "name": "stdout",
     "output_type": "stream",
     "text": [
      "inright  N     Y\n",
      "inleft          \n",
      "N        0     2\n",
      "Y        2  8982\n"
     ]
    }
   ],
   "source": [
    "checkmerge(nls97, nls97add, 'originalid')"
   ]
  },
  {
   "cell_type": "code",
   "execution_count": null,
   "id": "level-stevens",
   "metadata": {},
   "outputs": [],
   "source": []
  }
 ],
 "metadata": {
  "kernelspec": {
   "display_name": "Python 3",
   "language": "python",
   "name": "python3"
  },
  "language_info": {
   "codemirror_mode": {
    "name": "ipython",
    "version": 3
   },
   "file_extension": ".py",
   "mimetype": "text/x-python",
   "name": "python",
   "nbconvert_exporter": "python",
   "pygments_lexer": "ipython3",
   "version": "3.7.9"
  },
  "toc": {
   "base_numbering": 1,
   "nav_menu": {},
   "number_sections": true,
   "sideBar": true,
   "skip_h1_title": false,
   "title_cell": "Table of Contents",
   "title_sidebar": "Contents",
   "toc_cell": true,
   "toc_position": {},
   "toc_section_display": true,
   "toc_window_display": false
  }
 },
 "nbformat": 4,
 "nbformat_minor": 5
}
