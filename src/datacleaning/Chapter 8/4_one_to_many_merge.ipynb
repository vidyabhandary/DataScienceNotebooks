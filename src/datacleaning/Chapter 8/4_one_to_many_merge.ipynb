{
 "cells": [
  {
   "cell_type": "markdown",
   "id": "dental-officer",
   "metadata": {
    "toc": true
   },
   "source": [
    "<h1>Table of Contents<span class=\"tocSkip\"></span></h1>\n",
    "<div class=\"toc\"><ul class=\"toc-item\"><li><span><a href=\"#Import-pandas-and-load-the-weather-station-and-country-data\" data-toc-modified-id=\"Import-pandas-and-load-the-weather-station-and-country-data-1\"><span class=\"toc-item-num\">1&nbsp;&nbsp;</span>Import pandas and load the weather station and country data</a></span></li><li><span><a href=\"#Set-the-index-for-the-weather-station-(locations)-and-country-data\" data-toc-modified-id=\"Set-the-index-for-the-weather-station-(locations)-and-country-data-2\"><span class=\"toc-item-num\">2&nbsp;&nbsp;</span>Set the index for the weather station (locations) and country data</a></span></li><li><span><a href=\"#Perform-a-left-join-of-countries-and-locations-using-join\" data-toc-modified-id=\"Perform-a-left-join-of-countries-and-locations-using-join-3\"><span class=\"toc-item-num\">3&nbsp;&nbsp;</span>Perform a left join of countries and locations using join</a></span></li><li><span><a href=\"#Check-that-the-merge-by-column-matches\" data-toc-modified-id=\"Check-that-the-merge-by-column-matches-4\"><span class=\"toc-item-num\">4&nbsp;&nbsp;</span>Check that the merge-by column matches</a></span></li><li><span><a href=\"#Show-the-rows-in-one-file-but-not-the-other\" data-toc-modified-id=\"Show-the-rows-in-one-file-but-not-the-other-5\"><span class=\"toc-item-num\">5&nbsp;&nbsp;</span>Show the rows in one file but not the other</a></span></li><li><span><a href=\"#Merge-the-locations-and-countries-DataFrames\" data-toc-modified-id=\"Merge-the-locations-and-countries-DataFrames-6\"><span class=\"toc-item-num\">6&nbsp;&nbsp;</span>Merge the locations and countries DataFrames</a></span></li></ul></div>"
   ]
  },
  {
   "cell_type": "markdown",
   "id": "middle-works",
   "metadata": {},
   "source": [
    "# Import pandas and load the weather station and country data "
   ]
  },
  {
   "cell_type": "code",
   "execution_count": 1,
   "id": "annoying-functionality",
   "metadata": {},
   "outputs": [],
   "source": [
    "import pandas as pd"
   ]
  },
  {
   "cell_type": "code",
   "execution_count": 2,
   "id": "available-prisoner",
   "metadata": {},
   "outputs": [
    {
     "name": "stdout",
     "output_type": "stream",
     "text": [
      "watermark: 2.1.0\n",
      "pandas   : 1.2.1\n",
      "json     : 2.0.9\n",
      "\n"
     ]
    }
   ],
   "source": [
    "import watermark\n",
    "%load_ext watermark\n",
    "\n",
    "%watermark -n -i -iv"
   ]
  },
  {
   "cell_type": "code",
   "execution_count": 3,
   "id": "reserved-breathing",
   "metadata": {},
   "outputs": [],
   "source": [
    "countries = pd.read_csv('data/ltcountries.csv')\n",
    "locations = pd.read_csv('data/ltlocations.csv')"
   ]
  },
  {
   "cell_type": "markdown",
   "id": "fluid-payroll",
   "metadata": {},
   "source": [
    "# Set the index for the weather station (locations) and country data"
   ]
  },
  {
   "cell_type": "code",
   "execution_count": 4,
   "id": "hindu-inventory",
   "metadata": {},
   "outputs": [],
   "source": [
    "countries.set_index(['countryid'], inplace=True)\n",
    "locations.set_index(['countryid'], inplace=True)"
   ]
  },
  {
   "cell_type": "code",
   "execution_count": 5,
   "id": "focused-burning",
   "metadata": {},
   "outputs": [
    {
     "data": {
      "text/html": [
       "<div>\n",
       "<style scoped>\n",
       "    .dataframe tbody tr th:only-of-type {\n",
       "        vertical-align: middle;\n",
       "    }\n",
       "\n",
       "    .dataframe tbody tr th {\n",
       "        vertical-align: top;\n",
       "    }\n",
       "\n",
       "    .dataframe thead th {\n",
       "        text-align: right;\n",
       "    }\n",
       "</style>\n",
       "<table border=\"1\" class=\"dataframe\">\n",
       "  <thead>\n",
       "    <tr style=\"text-align: right;\">\n",
       "      <th></th>\n",
       "      <th>country</th>\n",
       "    </tr>\n",
       "    <tr>\n",
       "      <th>countryid</th>\n",
       "      <th></th>\n",
       "    </tr>\n",
       "  </thead>\n",
       "  <tbody>\n",
       "    <tr>\n",
       "      <th>AC</th>\n",
       "      <td>Antigua and Barbuda</td>\n",
       "    </tr>\n",
       "    <tr>\n",
       "      <th>AE</th>\n",
       "      <td>United Arab Emirates</td>\n",
       "    </tr>\n",
       "    <tr>\n",
       "      <th>AF</th>\n",
       "      <td>Afghanistan</td>\n",
       "    </tr>\n",
       "    <tr>\n",
       "      <th>AG</th>\n",
       "      <td>Algeria</td>\n",
       "    </tr>\n",
       "    <tr>\n",
       "      <th>AJ</th>\n",
       "      <td>Azerbaijan</td>\n",
       "    </tr>\n",
       "  </tbody>\n",
       "</table>\n",
       "</div>"
      ],
      "text/plain": [
       "                        country\n",
       "countryid                      \n",
       "AC          Antigua and Barbuda\n",
       "AE         United Arab Emirates\n",
       "AF                  Afghanistan\n",
       "AG                      Algeria\n",
       "AJ                   Azerbaijan"
      ]
     },
     "execution_count": 5,
     "metadata": {},
     "output_type": "execute_result"
    }
   ],
   "source": [
    "countries.head()"
   ]
  },
  {
   "cell_type": "code",
   "execution_count": 6,
   "id": "otherwise-technology",
   "metadata": {},
   "outputs": [
    {
     "data": {
      "text/plain": [
       "True"
      ]
     },
     "execution_count": 6,
     "metadata": {},
     "output_type": "execute_result"
    }
   ],
   "source": [
    "countries.index.nunique() == countries.shape[0]"
   ]
  },
  {
   "cell_type": "code",
   "execution_count": 7,
   "id": "phantom-accountability",
   "metadata": {},
   "outputs": [
    {
     "data": {
      "text/html": [
       "<div>\n",
       "<style scoped>\n",
       "    .dataframe tbody tr th:only-of-type {\n",
       "        vertical-align: middle;\n",
       "    }\n",
       "\n",
       "    .dataframe tbody tr th {\n",
       "        vertical-align: top;\n",
       "    }\n",
       "\n",
       "    .dataframe thead th {\n",
       "        text-align: right;\n",
       "    }\n",
       "</style>\n",
       "<table border=\"1\" class=\"dataframe\">\n",
       "  <thead>\n",
       "    <tr style=\"text-align: right;\">\n",
       "      <th></th>\n",
       "      <th>locationid</th>\n",
       "      <th>latitude</th>\n",
       "      <th>stnelev</th>\n",
       "    </tr>\n",
       "    <tr>\n",
       "      <th>countryid</th>\n",
       "      <th></th>\n",
       "      <th></th>\n",
       "      <th></th>\n",
       "    </tr>\n",
       "  </thead>\n",
       "  <tbody>\n",
       "    <tr>\n",
       "      <th>AC</th>\n",
       "      <td>ACW00011604</td>\n",
       "      <td>57.7667</td>\n",
       "      <td>18.0</td>\n",
       "    </tr>\n",
       "    <tr>\n",
       "      <th>AE</th>\n",
       "      <td>AE000041196</td>\n",
       "      <td>25.3330</td>\n",
       "      <td>34.0</td>\n",
       "    </tr>\n",
       "    <tr>\n",
       "      <th>AE</th>\n",
       "      <td>AEM00041184</td>\n",
       "      <td>25.6170</td>\n",
       "      <td>31.0</td>\n",
       "    </tr>\n",
       "    <tr>\n",
       "      <th>AE</th>\n",
       "      <td>AEM00041194</td>\n",
       "      <td>25.2550</td>\n",
       "      <td>10.4</td>\n",
       "    </tr>\n",
       "    <tr>\n",
       "      <th>AE</th>\n",
       "      <td>AEM00041216</td>\n",
       "      <td>24.4300</td>\n",
       "      <td>3.0</td>\n",
       "    </tr>\n",
       "    <tr>\n",
       "      <th>AE</th>\n",
       "      <td>AEM00041217</td>\n",
       "      <td>24.4330</td>\n",
       "      <td>26.8</td>\n",
       "    </tr>\n",
       "    <tr>\n",
       "      <th>AE</th>\n",
       "      <td>AEM00041218</td>\n",
       "      <td>24.2620</td>\n",
       "      <td>264.9</td>\n",
       "    </tr>\n",
       "    <tr>\n",
       "      <th>AF</th>\n",
       "      <td>AF000040930</td>\n",
       "      <td>35.3170</td>\n",
       "      <td>3366.0</td>\n",
       "    </tr>\n",
       "    <tr>\n",
       "      <th>AF</th>\n",
       "      <td>AFM00040911</td>\n",
       "      <td>36.7000</td>\n",
       "      <td>378.0</td>\n",
       "    </tr>\n",
       "    <tr>\n",
       "      <th>AF</th>\n",
       "      <td>AFM00040938</td>\n",
       "      <td>34.2100</td>\n",
       "      <td>977.2</td>\n",
       "    </tr>\n",
       "  </tbody>\n",
       "</table>\n",
       "</div>"
      ],
      "text/plain": [
       "            locationid  latitude  stnelev\n",
       "countryid                                \n",
       "AC         ACW00011604   57.7667     18.0\n",
       "AE         AE000041196   25.3330     34.0\n",
       "AE         AEM00041184   25.6170     31.0\n",
       "AE         AEM00041194   25.2550     10.4\n",
       "AE         AEM00041216   24.4300      3.0\n",
       "AE         AEM00041217   24.4330     26.8\n",
       "AE         AEM00041218   24.2620    264.9\n",
       "AF         AF000040930   35.3170   3366.0\n",
       "AF         AFM00040911   36.7000    378.0\n",
       "AF         AFM00040938   34.2100    977.2"
      ]
     },
     "execution_count": 7,
     "metadata": {},
     "output_type": "execute_result"
    }
   ],
   "source": [
    "locations[['locationid', 'latitude', 'stnelev']].head(10)"
   ]
  },
  {
   "cell_type": "markdown",
   "id": "awful-september",
   "metadata": {},
   "source": [
    "# Perform a left join of countries and locations using join"
   ]
  },
  {
   "cell_type": "code",
   "execution_count": 8,
   "id": "placed-pension",
   "metadata": {},
   "outputs": [],
   "source": [
    "stations = countries.join(locations)"
   ]
  },
  {
   "cell_type": "code",
   "execution_count": 9,
   "id": "short-therapy",
   "metadata": {},
   "outputs": [
    {
     "data": {
      "text/html": [
       "<div>\n",
       "<style scoped>\n",
       "    .dataframe tbody tr th:only-of-type {\n",
       "        vertical-align: middle;\n",
       "    }\n",
       "\n",
       "    .dataframe tbody tr th {\n",
       "        vertical-align: top;\n",
       "    }\n",
       "\n",
       "    .dataframe thead th {\n",
       "        text-align: right;\n",
       "    }\n",
       "</style>\n",
       "<table border=\"1\" class=\"dataframe\">\n",
       "  <thead>\n",
       "    <tr style=\"text-align: right;\">\n",
       "      <th></th>\n",
       "      <th>locationid</th>\n",
       "      <th>latitude</th>\n",
       "      <th>stnelev</th>\n",
       "      <th>country</th>\n",
       "    </tr>\n",
       "    <tr>\n",
       "      <th>countryid</th>\n",
       "      <th></th>\n",
       "      <th></th>\n",
       "      <th></th>\n",
       "      <th></th>\n",
       "    </tr>\n",
       "  </thead>\n",
       "  <tbody>\n",
       "    <tr>\n",
       "      <th>AC</th>\n",
       "      <td>ACW00011604</td>\n",
       "      <td>57.7667</td>\n",
       "      <td>18.0</td>\n",
       "      <td>Antigua and Barbuda</td>\n",
       "    </tr>\n",
       "    <tr>\n",
       "      <th>AE</th>\n",
       "      <td>AE000041196</td>\n",
       "      <td>25.3330</td>\n",
       "      <td>34.0</td>\n",
       "      <td>United Arab Emirates</td>\n",
       "    </tr>\n",
       "    <tr>\n",
       "      <th>AE</th>\n",
       "      <td>AEM00041184</td>\n",
       "      <td>25.6170</td>\n",
       "      <td>31.0</td>\n",
       "      <td>United Arab Emirates</td>\n",
       "    </tr>\n",
       "    <tr>\n",
       "      <th>AE</th>\n",
       "      <td>AEM00041194</td>\n",
       "      <td>25.2550</td>\n",
       "      <td>10.4</td>\n",
       "      <td>United Arab Emirates</td>\n",
       "    </tr>\n",
       "    <tr>\n",
       "      <th>AE</th>\n",
       "      <td>AEM00041216</td>\n",
       "      <td>24.4300</td>\n",
       "      <td>3.0</td>\n",
       "      <td>United Arab Emirates</td>\n",
       "    </tr>\n",
       "    <tr>\n",
       "      <th>AE</th>\n",
       "      <td>AEM00041217</td>\n",
       "      <td>24.4330</td>\n",
       "      <td>26.8</td>\n",
       "      <td>United Arab Emirates</td>\n",
       "    </tr>\n",
       "    <tr>\n",
       "      <th>AE</th>\n",
       "      <td>AEM00041218</td>\n",
       "      <td>24.2620</td>\n",
       "      <td>264.9</td>\n",
       "      <td>United Arab Emirates</td>\n",
       "    </tr>\n",
       "    <tr>\n",
       "      <th>AF</th>\n",
       "      <td>AF000040930</td>\n",
       "      <td>35.3170</td>\n",
       "      <td>3366.0</td>\n",
       "      <td>Afghanistan</td>\n",
       "    </tr>\n",
       "    <tr>\n",
       "      <th>AF</th>\n",
       "      <td>AFM00040911</td>\n",
       "      <td>36.7000</td>\n",
       "      <td>378.0</td>\n",
       "      <td>Afghanistan</td>\n",
       "    </tr>\n",
       "    <tr>\n",
       "      <th>AF</th>\n",
       "      <td>AFM00040938</td>\n",
       "      <td>34.2100</td>\n",
       "      <td>977.2</td>\n",
       "      <td>Afghanistan</td>\n",
       "    </tr>\n",
       "  </tbody>\n",
       "</table>\n",
       "</div>"
      ],
      "text/plain": [
       "            locationid  latitude  stnelev               country\n",
       "countryid                                                      \n",
       "AC         ACW00011604   57.7667     18.0   Antigua and Barbuda\n",
       "AE         AE000041196   25.3330     34.0  United Arab Emirates\n",
       "AE         AEM00041184   25.6170     31.0  United Arab Emirates\n",
       "AE         AEM00041194   25.2550     10.4  United Arab Emirates\n",
       "AE         AEM00041216   24.4300      3.0  United Arab Emirates\n",
       "AE         AEM00041217   24.4330     26.8  United Arab Emirates\n",
       "AE         AEM00041218   24.2620    264.9  United Arab Emirates\n",
       "AF         AF000040930   35.3170   3366.0           Afghanistan\n",
       "AF         AFM00040911   36.7000    378.0           Afghanistan\n",
       "AF         AFM00040938   34.2100    977.2           Afghanistan"
      ]
     },
     "execution_count": 9,
     "metadata": {},
     "output_type": "execute_result"
    }
   ],
   "source": [
    "stations[['locationid', 'latitude', 'stnelev', 'country']].head(10)"
   ]
  },
  {
   "cell_type": "markdown",
   "id": "finnish-military",
   "metadata": {},
   "source": [
    "# Check that the merge-by column matches"
   ]
  },
  {
   "cell_type": "code",
   "execution_count": 10,
   "id": "binding-cleaner",
   "metadata": {},
   "outputs": [],
   "source": [
    "countries = pd.read_csv('data/ltcountries.csv')\n",
    "locations = pd.read_csv('data/ltlocations.csv')"
   ]
  },
  {
   "cell_type": "code",
   "execution_count": 15,
   "id": "educational-truth",
   "metadata": {},
   "outputs": [],
   "source": [
    "def checkmerge(dfleft, dfright, idvar):\n",
    "    dfleft['inleft'] = 'Y'\n",
    "    dfright['inright'] = 'Y'\n",
    "    dfboth = pd.merge(dfleft[[idvar, 'inleft']],\n",
    "                      dfright[[idvar, 'inright']],\n",
    "                      on=[idvar],\n",
    "                      how='outer')\n",
    "    dfboth.fillna('N', inplace=True)\n",
    "    print(pd.crosstab(dfboth['inleft'], dfboth['inright']))\n",
    "    print(dfboth.loc[(dfboth['inleft'] == 'N') | (dfboth['inright'] == 'N')])"
   ]
  },
  {
   "cell_type": "code",
   "execution_count": 16,
   "id": "horizontal-helmet",
   "metadata": {},
   "outputs": [
    {
     "name": "stdout",
     "output_type": "stream",
     "text": [
      "inright  N      Y\n",
      "inleft           \n",
      "N        0      1\n",
      "Y        2  27472\n",
      "      countryid inleft inright\n",
      "9715         LQ      Y       N\n",
      "13103        ST      Y       N\n",
      "27474        FO      N       Y\n"
     ]
    }
   ],
   "source": [
    "checkmerge(countries.copy(), locations.copy(), 'countryid')"
   ]
  },
  {
   "cell_type": "markdown",
   "id": "coated-audio",
   "metadata": {},
   "source": [
    "# Show the rows in one file but not the other"
   ]
  },
  {
   "cell_type": "code",
   "execution_count": 17,
   "id": "characteristic-vegetable",
   "metadata": {},
   "outputs": [
    {
     "data": {
      "text/html": [
       "<div>\n",
       "<style scoped>\n",
       "    .dataframe tbody tr th:only-of-type {\n",
       "        vertical-align: middle;\n",
       "    }\n",
       "\n",
       "    .dataframe tbody tr th {\n",
       "        vertical-align: top;\n",
       "    }\n",
       "\n",
       "    .dataframe thead th {\n",
       "        text-align: right;\n",
       "    }\n",
       "</style>\n",
       "<table border=\"1\" class=\"dataframe\">\n",
       "  <thead>\n",
       "    <tr style=\"text-align: right;\">\n",
       "      <th></th>\n",
       "      <th>countryid</th>\n",
       "      <th>country</th>\n",
       "    </tr>\n",
       "  </thead>\n",
       "  <tbody>\n",
       "    <tr>\n",
       "      <th>124</th>\n",
       "      <td>LQ</td>\n",
       "      <td>Palmyra Atoll [United States]</td>\n",
       "    </tr>\n",
       "    <tr>\n",
       "      <th>195</th>\n",
       "      <td>ST</td>\n",
       "      <td>Saint Lucia</td>\n",
       "    </tr>\n",
       "  </tbody>\n",
       "</table>\n",
       "</div>"
      ],
      "text/plain": [
       "    countryid                        country\n",
       "124        LQ  Palmyra Atoll [United States]\n",
       "195        ST                    Saint Lucia"
      ]
     },
     "execution_count": 17,
     "metadata": {},
     "output_type": "execute_result"
    }
   ],
   "source": [
    "countries.loc[countries['countryid'].isin(['LQ', 'ST'])]"
   ]
  },
  {
   "cell_type": "code",
   "execution_count": 18,
   "id": "derived-missile",
   "metadata": {},
   "outputs": [
    {
     "data": {
      "text/html": [
       "<div>\n",
       "<style scoped>\n",
       "    .dataframe tbody tr th:only-of-type {\n",
       "        vertical-align: middle;\n",
       "    }\n",
       "\n",
       "    .dataframe tbody tr th {\n",
       "        vertical-align: top;\n",
       "    }\n",
       "\n",
       "    .dataframe thead th {\n",
       "        text-align: right;\n",
       "    }\n",
       "</style>\n",
       "<table border=\"1\" class=\"dataframe\">\n",
       "  <thead>\n",
       "    <tr style=\"text-align: right;\">\n",
       "      <th></th>\n",
       "      <th>locationid</th>\n",
       "      <th>latitude</th>\n",
       "      <th>longitude</th>\n",
       "      <th>stnelev</th>\n",
       "      <th>station</th>\n",
       "      <th>countryid</th>\n",
       "    </tr>\n",
       "  </thead>\n",
       "  <tbody>\n",
       "    <tr>\n",
       "      <th>7363</th>\n",
       "      <td>FOM00006009</td>\n",
       "      <td>61.4</td>\n",
       "      <td>-6.667</td>\n",
       "      <td>102.0</td>\n",
       "      <td>AKRABERG</td>\n",
       "      <td>FO</td>\n",
       "    </tr>\n",
       "  </tbody>\n",
       "</table>\n",
       "</div>"
      ],
      "text/plain": [
       "       locationid  latitude  longitude  stnelev   station countryid\n",
       "7363  FOM00006009      61.4     -6.667    102.0  AKRABERG        FO"
      ]
     },
     "execution_count": 18,
     "metadata": {},
     "output_type": "execute_result"
    }
   ],
   "source": [
    "locations.loc[locations['countryid'] == 'FO']"
   ]
  },
  {
   "cell_type": "markdown",
   "id": "recent-arthur",
   "metadata": {},
   "source": [
    "# Merge the locations and countries DataFrames"
   ]
  },
  {
   "cell_type": "code",
   "execution_count": 19,
   "id": "smart-belfast",
   "metadata": {},
   "outputs": [],
   "source": [
    "stations = pd.merge(countries, locations, on=['countryid'], how='left')"
   ]
  },
  {
   "cell_type": "code",
   "execution_count": 20,
   "id": "integral-attitude",
   "metadata": {},
   "outputs": [
    {
     "data": {
      "text/html": [
       "<div>\n",
       "<style scoped>\n",
       "    .dataframe tbody tr th:only-of-type {\n",
       "        vertical-align: middle;\n",
       "    }\n",
       "\n",
       "    .dataframe tbody tr th {\n",
       "        vertical-align: top;\n",
       "    }\n",
       "\n",
       "    .dataframe thead th {\n",
       "        text-align: right;\n",
       "    }\n",
       "</style>\n",
       "<table border=\"1\" class=\"dataframe\">\n",
       "  <thead>\n",
       "    <tr style=\"text-align: right;\">\n",
       "      <th></th>\n",
       "      <th>locationid</th>\n",
       "      <th>latitude</th>\n",
       "      <th>stnelev</th>\n",
       "      <th>country</th>\n",
       "    </tr>\n",
       "  </thead>\n",
       "  <tbody>\n",
       "    <tr>\n",
       "      <th>0</th>\n",
       "      <td>ACW00011604</td>\n",
       "      <td>57.7667</td>\n",
       "      <td>18.0</td>\n",
       "      <td>Antigua and Barbuda</td>\n",
       "    </tr>\n",
       "    <tr>\n",
       "      <th>1</th>\n",
       "      <td>AE000041196</td>\n",
       "      <td>25.3330</td>\n",
       "      <td>34.0</td>\n",
       "      <td>United Arab Emirates</td>\n",
       "    </tr>\n",
       "    <tr>\n",
       "      <th>2</th>\n",
       "      <td>AEM00041184</td>\n",
       "      <td>25.6170</td>\n",
       "      <td>31.0</td>\n",
       "      <td>United Arab Emirates</td>\n",
       "    </tr>\n",
       "    <tr>\n",
       "      <th>3</th>\n",
       "      <td>AEM00041194</td>\n",
       "      <td>25.2550</td>\n",
       "      <td>10.4</td>\n",
       "      <td>United Arab Emirates</td>\n",
       "    </tr>\n",
       "    <tr>\n",
       "      <th>4</th>\n",
       "      <td>AEM00041216</td>\n",
       "      <td>24.4300</td>\n",
       "      <td>3.0</td>\n",
       "      <td>United Arab Emirates</td>\n",
       "    </tr>\n",
       "    <tr>\n",
       "      <th>5</th>\n",
       "      <td>AEM00041217</td>\n",
       "      <td>24.4330</td>\n",
       "      <td>26.8</td>\n",
       "      <td>United Arab Emirates</td>\n",
       "    </tr>\n",
       "    <tr>\n",
       "      <th>6</th>\n",
       "      <td>AEM00041218</td>\n",
       "      <td>24.2620</td>\n",
       "      <td>264.9</td>\n",
       "      <td>United Arab Emirates</td>\n",
       "    </tr>\n",
       "    <tr>\n",
       "      <th>7</th>\n",
       "      <td>AF000040930</td>\n",
       "      <td>35.3170</td>\n",
       "      <td>3366.0</td>\n",
       "      <td>Afghanistan</td>\n",
       "    </tr>\n",
       "    <tr>\n",
       "      <th>8</th>\n",
       "      <td>AFM00040911</td>\n",
       "      <td>36.7000</td>\n",
       "      <td>378.0</td>\n",
       "      <td>Afghanistan</td>\n",
       "    </tr>\n",
       "    <tr>\n",
       "      <th>9</th>\n",
       "      <td>AFM00040938</td>\n",
       "      <td>34.2100</td>\n",
       "      <td>977.2</td>\n",
       "      <td>Afghanistan</td>\n",
       "    </tr>\n",
       "  </tbody>\n",
       "</table>\n",
       "</div>"
      ],
      "text/plain": [
       "    locationid  latitude  stnelev               country\n",
       "0  ACW00011604   57.7667     18.0   Antigua and Barbuda\n",
       "1  AE000041196   25.3330     34.0  United Arab Emirates\n",
       "2  AEM00041184   25.6170     31.0  United Arab Emirates\n",
       "3  AEM00041194   25.2550     10.4  United Arab Emirates\n",
       "4  AEM00041216   24.4300      3.0  United Arab Emirates\n",
       "5  AEM00041217   24.4330     26.8  United Arab Emirates\n",
       "6  AEM00041218   24.2620    264.9  United Arab Emirates\n",
       "7  AF000040930   35.3170   3366.0           Afghanistan\n",
       "8  AFM00040911   36.7000    378.0           Afghanistan\n",
       "9  AFM00040938   34.2100    977.2           Afghanistan"
      ]
     },
     "execution_count": 20,
     "metadata": {},
     "output_type": "execute_result"
    }
   ],
   "source": [
    "stations[['locationid', 'latitude', 'stnelev', 'country']].head(10)"
   ]
  },
  {
   "cell_type": "code",
   "execution_count": 21,
   "id": "active-potter",
   "metadata": {},
   "outputs": [
    {
     "data": {
      "text/plain": [
       "(27474, 7)"
      ]
     },
     "execution_count": 21,
     "metadata": {},
     "output_type": "execute_result"
    }
   ],
   "source": [
    "stations.shape"
   ]
  },
  {
   "cell_type": "code",
   "execution_count": 22,
   "id": "naughty-bones",
   "metadata": {},
   "outputs": [
    {
     "data": {
      "text/plain": [
       "countryid     0\n",
       "country       0\n",
       "locationid    2\n",
       "latitude      2\n",
       "longitude     2\n",
       "stnelev       2\n",
       "station       2\n",
       "dtype: int64"
      ]
     },
     "execution_count": 22,
     "metadata": {},
     "output_type": "execute_result"
    }
   ],
   "source": [
    "stations.loc[stations['countryid'].isin(['LQ', 'ST'])].isnull().sum()"
   ]
  },
  {
   "cell_type": "code",
   "execution_count": null,
   "id": "later-double",
   "metadata": {},
   "outputs": [],
   "source": []
  }
 ],
 "metadata": {
  "kernelspec": {
   "display_name": "Python 3",
   "language": "python",
   "name": "python3"
  },
  "language_info": {
   "codemirror_mode": {
    "name": "ipython",
    "version": 3
   },
   "file_extension": ".py",
   "mimetype": "text/x-python",
   "name": "python",
   "nbconvert_exporter": "python",
   "pygments_lexer": "ipython3",
   "version": "3.7.9"
  },
  "toc": {
   "base_numbering": 1,
   "nav_menu": {},
   "number_sections": true,
   "sideBar": true,
   "skip_h1_title": false,
   "title_cell": "Table of Contents",
   "title_sidebar": "Contents",
   "toc_cell": true,
   "toc_position": {},
   "toc_section_display": true,
   "toc_window_display": false
  }
 },
 "nbformat": 4,
 "nbformat_minor": 5
}
