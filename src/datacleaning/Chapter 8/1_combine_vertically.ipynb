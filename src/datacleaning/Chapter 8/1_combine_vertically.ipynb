{
 "cells": [
  {
   "cell_type": "markdown",
   "id": "experienced-martin",
   "metadata": {
    "toc": true
   },
   "source": [
    "<h1>Table of Contents<span class=\"tocSkip\"></span></h1>\n",
    "<div class=\"toc\"><ul class=\"toc-item\"><li><span><a href=\"#Import-pandas-and-NumPy,-as-well-as-the-os-module\" data-toc-modified-id=\"Import-pandas-and-NumPy,-as-well-as-the-os-module-1\"><span class=\"toc-item-num\">1&nbsp;&nbsp;</span>Import pandas and NumPy, as well as the os module</a></span></li><li><span><a href=\"#Load-the-data-from-Cameroon-and-Poland\" data-toc-modified-id=\"Load-the-data-from-Cameroon-and-Poland-2\"><span class=\"toc-item-num\">2&nbsp;&nbsp;</span>Load the data from Cameroon and Poland</a></span></li><li><span><a href=\"#Concatenate-the-Cameroon-and-Poland-data\" data-toc-modified-id=\"Concatenate-the-Cameroon-and-Poland-data-3\"><span class=\"toc-item-num\">3&nbsp;&nbsp;</span>Concatenate the Cameroon and Poland data</a></span></li><li><span><a href=\"#Concatenate-all-the-country-data-files\" data-toc-modified-id=\"Concatenate-all-the-country-data-files-4\"><span class=\"toc-item-num\">4&nbsp;&nbsp;</span>Concatenate all the country data files</a></span></li><li><span><a href=\"#Show-some-of-the-combined-data\" data-toc-modified-id=\"Show-some-of-the-combined-data-5\"><span class=\"toc-item-num\">5&nbsp;&nbsp;</span>Show some of the combined data</a></span></li><li><span><a href=\"#Check-the-values-in-the-concatenated-data\" data-toc-modified-id=\"Check-the-values-in-the-concatenated-data-6\"><span class=\"toc-item-num\">6&nbsp;&nbsp;</span>Check the values in the concatenated data</a></span></li><li><span><a href=\"#Fix-the-missing-values\" data-toc-modified-id=\"Fix-the-missing-values-7\"><span class=\"toc-item-num\">7&nbsp;&nbsp;</span>Fix the missing values</a></span></li></ul></div>"
   ]
  },
  {
   "cell_type": "markdown",
   "id": "brown-rwanda",
   "metadata": {},
   "source": [
    "# Import pandas and NumPy, as well as the os module"
   ]
  },
  {
   "cell_type": "code",
   "execution_count": 1,
   "id": "administrative-replacement",
   "metadata": {},
   "outputs": [],
   "source": [
    "import pandas as pd\n",
    "import numpy as np\n",
    "import os"
   ]
  },
  {
   "cell_type": "code",
   "execution_count": 2,
   "id": "greatest-twelve",
   "metadata": {},
   "outputs": [],
   "source": [
    "# pd.set_option('display.width', 200)\n",
    "# pd.set_option('display.max_columns', 35)\n",
    "# pd.set_option('display.max_rows', 50)\n",
    "# pd.options.display.float_format = '{:,.0f}'.format"
   ]
  },
  {
   "cell_type": "code",
   "execution_count": 3,
   "id": "enclosed-hayes",
   "metadata": {},
   "outputs": [
    {
     "name": "stdout",
     "output_type": "stream",
     "text": [
      "pandas   : 1.2.1\n",
      "json     : 2.0.9\n",
      "numpy    : 1.19.2\n",
      "watermark: 2.1.0\n",
      "\n"
     ]
    }
   ],
   "source": [
    "import watermark\n",
    "%load_ext watermark\n",
    "\n",
    "%watermark -n -i -iv"
   ]
  },
  {
   "cell_type": "markdown",
   "id": "violent-estate",
   "metadata": {},
   "source": [
    "# Load the data from Cameroon and Poland"
   ]
  },
  {
   "cell_type": "code",
   "execution_count": 4,
   "id": "mature-extraction",
   "metadata": {},
   "outputs": [],
   "source": [
    "ltcameroon = pd.read_csv('data/ltcountry/ltcameroon.csv')\n",
    "ltpoland = pd.read_csv('data/ltcountry/ltpoland.csv')"
   ]
  },
  {
   "cell_type": "markdown",
   "id": "silent-weekend",
   "metadata": {},
   "source": [
    "# Concatenate the Cameroon and Poland data"
   ]
  },
  {
   "cell_type": "code",
   "execution_count": 5,
   "id": "rubber-laundry",
   "metadata": {},
   "outputs": [
    {
     "data": {
      "text/plain": [
       "(48, 11)"
      ]
     },
     "execution_count": 5,
     "metadata": {},
     "output_type": "execute_result"
    }
   ],
   "source": [
    "ltcameroon.shape"
   ]
  },
  {
   "cell_type": "code",
   "execution_count": 6,
   "id": "specialized-alignment",
   "metadata": {},
   "outputs": [
    {
     "data": {
      "text/plain": [
       "(120, 11)"
      ]
     },
     "execution_count": 6,
     "metadata": {},
     "output_type": "execute_result"
    }
   ],
   "source": [
    "ltpoland.shape"
   ]
  },
  {
   "cell_type": "code",
   "execution_count": 7,
   "id": "important-faculty",
   "metadata": {},
   "outputs": [
    {
     "data": {
      "text/plain": [
       "Index(['locationid', 'year', 'month', 'temperature', 'latitude', 'longitude',\n",
       "       'elevation', 'station', 'countryid', 'country', 'latabs'],\n",
       "      dtype='object')"
      ]
     },
     "execution_count": 7,
     "metadata": {},
     "output_type": "execute_result"
    }
   ],
   "source": [
    "ltpoland.columns"
   ]
  },
  {
   "cell_type": "code",
   "execution_count": 8,
   "id": "loose-function",
   "metadata": {},
   "outputs": [
    {
     "data": {
      "text/plain": [
       "Index(['locationid', 'year', 'month', 'temperature', 'latitude', 'longitude',\n",
       "       'elevation', 'station', 'countryid', 'country', 'latabs'],\n",
       "      dtype='object')"
      ]
     },
     "execution_count": 8,
     "metadata": {},
     "output_type": "execute_result"
    }
   ],
   "source": [
    "ltcameroon.columns"
   ]
  },
  {
   "cell_type": "code",
   "execution_count": 9,
   "id": "affected-desert",
   "metadata": {},
   "outputs": [],
   "source": [
    "ltall = pd.concat([ltcameroon, ltpoland])"
   ]
  },
  {
   "cell_type": "code",
   "execution_count": 10,
   "id": "indie-penny",
   "metadata": {},
   "outputs": [
    {
     "data": {
      "text/plain": [
       "Poland      120\n",
       "Cameroon     48\n",
       "Name: country, dtype: int64"
      ]
     },
     "execution_count": 10,
     "metadata": {},
     "output_type": "execute_result"
    }
   ],
   "source": [
    "ltall['country'].value_counts()"
   ]
  },
  {
   "cell_type": "markdown",
   "id": "timely-cyprus",
   "metadata": {},
   "source": [
    "# Concatenate all the country data files"
   ]
  },
  {
   "cell_type": "code",
   "execution_count": 11,
   "id": "mexican-following",
   "metadata": {},
   "outputs": [],
   "source": [
    "directory = 'data/ltcountry'\n",
    "ltall = pd.DataFrame()"
   ]
  },
  {
   "cell_type": "code",
   "execution_count": 12,
   "id": "american-massage",
   "metadata": {},
   "outputs": [
    {
     "name": "stdout",
     "output_type": "stream",
     "text": [
      "ltbrazil.csv has 1104 rows.\n",
      "ltcameroon.csv has 48 rows.\n",
      "ltindia.csv has 1056 rows.\n",
      "ltjapan.csv has 1800 rows.\n",
      "ltmexico.csv has 852 rows.\n",
      "ltoman.csv has 288 rows.\n",
      "\n",
      "Different column names for: \n",
      "ltoman.csv\n",
      "Index(['latabs'], dtype='object')\n",
      "ltpoland.csv has 120 rows.\n"
     ]
    }
   ],
   "source": [
    "for filename in os.listdir(directory):\n",
    "    if filename.endswith('.csv'):\n",
    "        fileloc = os.path.join(directory, filename)\n",
    "        # open the next file\n",
    "        with open(fileloc) as file:\n",
    "            ltnew = pd.read_csv(fileloc)\n",
    "            print(filename + ' has ' + str(ltnew.shape[0]) + ' rows.')\n",
    "            ltall = pd.concat([ltall, ltnew])\n",
    "            # check for differences in columns\n",
    "            columndiff = ltall.columns.symmetric_difference(ltnew.columns)\n",
    "            if (not columndiff.empty):\n",
    "                print('',\n",
    "                      'Different column names for: ',\n",
    "                      filename,\n",
    "                      columndiff,\n",
    "                      sep='\\n')"
   ]
  },
  {
   "cell_type": "markdown",
   "id": "considered-proportion",
   "metadata": {},
   "source": [
    "# Show some of the combined data"
   ]
  },
  {
   "cell_type": "code",
   "execution_count": 13,
   "id": "adolescent-header",
   "metadata": {},
   "outputs": [
    {
     "data": {
      "text/html": [
       "<div>\n",
       "<style scoped>\n",
       "    .dataframe tbody tr th:only-of-type {\n",
       "        vertical-align: middle;\n",
       "    }\n",
       "\n",
       "    .dataframe tbody tr th {\n",
       "        vertical-align: top;\n",
       "    }\n",
       "\n",
       "    .dataframe thead th {\n",
       "        text-align: right;\n",
       "    }\n",
       "</style>\n",
       "<table border=\"1\" class=\"dataframe\">\n",
       "  <thead>\n",
       "    <tr style=\"text-align: right;\">\n",
       "      <th></th>\n",
       "      <th>country</th>\n",
       "      <th>station</th>\n",
       "      <th>month</th>\n",
       "      <th>temperature</th>\n",
       "      <th>latitude</th>\n",
       "    </tr>\n",
       "  </thead>\n",
       "  <tbody>\n",
       "    <tr>\n",
       "      <th>717</th>\n",
       "      <td>Brazil</td>\n",
       "      <td>TAGUATINGA</td>\n",
       "      <td>8</td>\n",
       "      <td>27.75</td>\n",
       "      <td>-12.400</td>\n",
       "    </tr>\n",
       "    <tr>\n",
       "      <th>649</th>\n",
       "      <td>Japan</td>\n",
       "      <td>MATSUMOTO</td>\n",
       "      <td>5</td>\n",
       "      <td>17.25</td>\n",
       "      <td>36.250</td>\n",
       "    </tr>\n",
       "    <tr>\n",
       "      <th>172</th>\n",
       "      <td>Oman</td>\n",
       "      <td>BURAIMI_AUT</td>\n",
       "      <td>8</td>\n",
       "      <td>37.40</td>\n",
       "      <td>24.233</td>\n",
       "    </tr>\n",
       "    <tr>\n",
       "      <th>1029</th>\n",
       "      <td>India</td>\n",
       "      <td>JAIPUR_SANGANER</td>\n",
       "      <td>12</td>\n",
       "      <td>14.92</td>\n",
       "      <td>26.817</td>\n",
       "    </tr>\n",
       "    <tr>\n",
       "      <th>351</th>\n",
       "      <td>Mexico</td>\n",
       "      <td>SN_CRISTOBAL_LAS_CASASCHIS</td>\n",
       "      <td>5</td>\n",
       "      <td>19.30</td>\n",
       "      <td>16.750</td>\n",
       "    </tr>\n",
       "  </tbody>\n",
       "</table>\n",
       "</div>"
      ],
      "text/plain": [
       "     country                     station  month  temperature  latitude\n",
       "717   Brazil                  TAGUATINGA      8        27.75   -12.400\n",
       "649    Japan                   MATSUMOTO      5        17.25    36.250\n",
       "172     Oman                 BURAIMI_AUT      8        37.40    24.233\n",
       "1029   India             JAIPUR_SANGANER     12        14.92    26.817\n",
       "351   Mexico  SN_CRISTOBAL_LAS_CASASCHIS      5        19.30    16.750"
      ]
     },
     "execution_count": 13,
     "metadata": {},
     "output_type": "execute_result"
    }
   ],
   "source": [
    "ltall[['country', 'station', 'month', 'temperature',\n",
    "       'latitude']].sample(5, random_state=1)"
   ]
  },
  {
   "cell_type": "markdown",
   "id": "musical-candidate",
   "metadata": {},
   "source": [
    "# Check the values in the concatenated data"
   ]
  },
  {
   "cell_type": "code",
   "execution_count": 14,
   "id": "french-survey",
   "metadata": {},
   "outputs": [
    {
     "data": {
      "text/plain": [
       "Brazil      1104\n",
       "Cameroon      48\n",
       "India       1056\n",
       "Japan       1800\n",
       "Mexico       852\n",
       "Oman         288\n",
       "Poland       120\n",
       "Name: country, dtype: int64"
      ]
     },
     "execution_count": 14,
     "metadata": {},
     "output_type": "execute_result"
    }
   ],
   "source": [
    "ltall['country'].value_counts().sort_index()"
   ]
  },
  {
   "cell_type": "code",
   "execution_count": 15,
   "id": "renewable-player",
   "metadata": {},
   "outputs": [
    {
     "data": {
      "text/html": [
       "<div>\n",
       "<style scoped>\n",
       "    .dataframe tbody tr th:only-of-type {\n",
       "        vertical-align: middle;\n",
       "    }\n",
       "\n",
       "    .dataframe tbody tr th {\n",
       "        vertical-align: top;\n",
       "    }\n",
       "\n",
       "    .dataframe thead tr th {\n",
       "        text-align: left;\n",
       "    }\n",
       "\n",
       "    .dataframe thead tr:last-of-type th {\n",
       "        text-align: right;\n",
       "    }\n",
       "</style>\n",
       "<table border=\"1\" class=\"dataframe\">\n",
       "  <thead>\n",
       "    <tr>\n",
       "      <th></th>\n",
       "      <th colspan=\"4\" halign=\"left\">temperature</th>\n",
       "      <th colspan=\"4\" halign=\"left\">latabs</th>\n",
       "    </tr>\n",
       "    <tr>\n",
       "      <th></th>\n",
       "      <th>min</th>\n",
       "      <th>mean</th>\n",
       "      <th>max</th>\n",
       "      <th>count</th>\n",
       "      <th>min</th>\n",
       "      <th>mean</th>\n",
       "      <th>max</th>\n",
       "      <th>count</th>\n",
       "    </tr>\n",
       "    <tr>\n",
       "      <th>country</th>\n",
       "      <th></th>\n",
       "      <th></th>\n",
       "      <th></th>\n",
       "      <th></th>\n",
       "      <th></th>\n",
       "      <th></th>\n",
       "      <th></th>\n",
       "      <th></th>\n",
       "    </tr>\n",
       "  </thead>\n",
       "  <tbody>\n",
       "    <tr>\n",
       "      <th>Brazil</th>\n",
       "      <td>12.20</td>\n",
       "      <td>25.470196</td>\n",
       "      <td>33.93</td>\n",
       "      <td>969</td>\n",
       "      <td>0.051</td>\n",
       "      <td>13.859272</td>\n",
       "      <td>33.517</td>\n",
       "      <td>1104</td>\n",
       "    </tr>\n",
       "    <tr>\n",
       "      <th>Cameroon</th>\n",
       "      <td>21.87</td>\n",
       "      <td>27.227941</td>\n",
       "      <td>36.00</td>\n",
       "      <td>34</td>\n",
       "      <td>4.020</td>\n",
       "      <td>7.789250</td>\n",
       "      <td>10.451</td>\n",
       "      <td>48</td>\n",
       "    </tr>\n",
       "    <tr>\n",
       "      <th>India</th>\n",
       "      <td>1.95</td>\n",
       "      <td>26.113477</td>\n",
       "      <td>37.40</td>\n",
       "      <td>1044</td>\n",
       "      <td>8.300</td>\n",
       "      <td>21.104516</td>\n",
       "      <td>34.083</td>\n",
       "      <td>1056</td>\n",
       "    </tr>\n",
       "    <tr>\n",
       "      <th>Japan</th>\n",
       "      <td>-7.15</td>\n",
       "      <td>15.495854</td>\n",
       "      <td>30.14</td>\n",
       "      <td>1797</td>\n",
       "      <td>24.300</td>\n",
       "      <td>35.664822</td>\n",
       "      <td>45.417</td>\n",
       "      <td>1800</td>\n",
       "    </tr>\n",
       "    <tr>\n",
       "      <th>Mexico</th>\n",
       "      <td>7.00</td>\n",
       "      <td>23.230397</td>\n",
       "      <td>34.45</td>\n",
       "      <td>806</td>\n",
       "      <td>14.917</td>\n",
       "      <td>22.114901</td>\n",
       "      <td>32.400</td>\n",
       "      <td>852</td>\n",
       "    </tr>\n",
       "    <tr>\n",
       "      <th>Oman</th>\n",
       "      <td>12.10</td>\n",
       "      <td>27.753463</td>\n",
       "      <td>38.39</td>\n",
       "      <td>205</td>\n",
       "      <td>NaN</td>\n",
       "      <td>NaN</td>\n",
       "      <td>NaN</td>\n",
       "      <td>0</td>\n",
       "    </tr>\n",
       "    <tr>\n",
       "      <th>Poland</th>\n",
       "      <td>-3.85</td>\n",
       "      <td>10.462750</td>\n",
       "      <td>23.25</td>\n",
       "      <td>120</td>\n",
       "      <td>50.078</td>\n",
       "      <td>52.498500</td>\n",
       "      <td>54.750</td>\n",
       "      <td>120</td>\n",
       "    </tr>\n",
       "  </tbody>\n",
       "</table>\n",
       "</div>"
      ],
      "text/plain": [
       "         temperature                          latabs                         \n",
       "                 min       mean    max count     min       mean     max count\n",
       "country                                                                      \n",
       "Brazil         12.20  25.470196  33.93   969   0.051  13.859272  33.517  1104\n",
       "Cameroon       21.87  27.227941  36.00    34   4.020   7.789250  10.451    48\n",
       "India           1.95  26.113477  37.40  1044   8.300  21.104516  34.083  1056\n",
       "Japan          -7.15  15.495854  30.14  1797  24.300  35.664822  45.417  1800\n",
       "Mexico          7.00  23.230397  34.45   806  14.917  22.114901  32.400   852\n",
       "Oman           12.10  27.753463  38.39   205     NaN        NaN     NaN     0\n",
       "Poland         -3.85  10.462750  23.25   120  50.078  52.498500  54.750   120"
      ]
     },
     "execution_count": 15,
     "metadata": {},
     "output_type": "execute_result"
    }
   ],
   "source": [
    "ltall.groupby(['country']).agg({\n",
    "    'temperature': ['min', 'mean', 'max', 'count'],\n",
    "    'latabs': ['min', 'mean', 'max', 'count']\n",
    "})"
   ]
  },
  {
   "cell_type": "markdown",
   "id": "unlike-metabolism",
   "metadata": {},
   "source": [
    "# Fix the missing values"
   ]
  },
  {
   "cell_type": "code",
   "execution_count": 16,
   "id": "numerous-nevada",
   "metadata": {},
   "outputs": [],
   "source": [
    "ltall['latabs'] = np.where(ltall['country'] == 'Oman', ltall['latitude'],\n",
    "                           ltall['latabs'])"
   ]
  },
  {
   "cell_type": "code",
   "execution_count": 17,
   "id": "binding-andrews",
   "metadata": {},
   "outputs": [
    {
     "data": {
      "text/html": [
       "<div>\n",
       "<style scoped>\n",
       "    .dataframe tbody tr th:only-of-type {\n",
       "        vertical-align: middle;\n",
       "    }\n",
       "\n",
       "    .dataframe tbody tr th {\n",
       "        vertical-align: top;\n",
       "    }\n",
       "\n",
       "    .dataframe thead tr th {\n",
       "        text-align: left;\n",
       "    }\n",
       "\n",
       "    .dataframe thead tr:last-of-type th {\n",
       "        text-align: right;\n",
       "    }\n",
       "</style>\n",
       "<table border=\"1\" class=\"dataframe\">\n",
       "  <thead>\n",
       "    <tr>\n",
       "      <th></th>\n",
       "      <th colspan=\"4\" halign=\"left\">temperature</th>\n",
       "      <th colspan=\"4\" halign=\"left\">latabs</th>\n",
       "    </tr>\n",
       "    <tr>\n",
       "      <th></th>\n",
       "      <th>min</th>\n",
       "      <th>mean</th>\n",
       "      <th>max</th>\n",
       "      <th>count</th>\n",
       "      <th>min</th>\n",
       "      <th>mean</th>\n",
       "      <th>max</th>\n",
       "      <th>count</th>\n",
       "    </tr>\n",
       "    <tr>\n",
       "      <th>country</th>\n",
       "      <th></th>\n",
       "      <th></th>\n",
       "      <th></th>\n",
       "      <th></th>\n",
       "      <th></th>\n",
       "      <th></th>\n",
       "      <th></th>\n",
       "      <th></th>\n",
       "    </tr>\n",
       "  </thead>\n",
       "  <tbody>\n",
       "    <tr>\n",
       "      <th>Brazil</th>\n",
       "      <td>12.20</td>\n",
       "      <td>25.470196</td>\n",
       "      <td>33.93</td>\n",
       "      <td>969</td>\n",
       "      <td>0.051</td>\n",
       "      <td>13.859272</td>\n",
       "      <td>33.517</td>\n",
       "      <td>1104</td>\n",
       "    </tr>\n",
       "    <tr>\n",
       "      <th>Cameroon</th>\n",
       "      <td>21.87</td>\n",
       "      <td>27.227941</td>\n",
       "      <td>36.00</td>\n",
       "      <td>34</td>\n",
       "      <td>4.020</td>\n",
       "      <td>7.789250</td>\n",
       "      <td>10.451</td>\n",
       "      <td>48</td>\n",
       "    </tr>\n",
       "    <tr>\n",
       "      <th>India</th>\n",
       "      <td>1.95</td>\n",
       "      <td>26.113477</td>\n",
       "      <td>37.40</td>\n",
       "      <td>1044</td>\n",
       "      <td>8.300</td>\n",
       "      <td>21.104516</td>\n",
       "      <td>34.083</td>\n",
       "      <td>1056</td>\n",
       "    </tr>\n",
       "    <tr>\n",
       "      <th>Japan</th>\n",
       "      <td>-7.15</td>\n",
       "      <td>15.495854</td>\n",
       "      <td>30.14</td>\n",
       "      <td>1797</td>\n",
       "      <td>24.300</td>\n",
       "      <td>35.664822</td>\n",
       "      <td>45.417</td>\n",
       "      <td>1800</td>\n",
       "    </tr>\n",
       "    <tr>\n",
       "      <th>Mexico</th>\n",
       "      <td>7.00</td>\n",
       "      <td>23.230397</td>\n",
       "      <td>34.45</td>\n",
       "      <td>806</td>\n",
       "      <td>14.917</td>\n",
       "      <td>22.114901</td>\n",
       "      <td>32.400</td>\n",
       "      <td>852</td>\n",
       "    </tr>\n",
       "    <tr>\n",
       "      <th>Oman</th>\n",
       "      <td>12.10</td>\n",
       "      <td>27.753463</td>\n",
       "      <td>38.39</td>\n",
       "      <td>205</td>\n",
       "      <td>16.933</td>\n",
       "      <td>21.997875</td>\n",
       "      <td>26.167</td>\n",
       "      <td>288</td>\n",
       "    </tr>\n",
       "    <tr>\n",
       "      <th>Poland</th>\n",
       "      <td>-3.85</td>\n",
       "      <td>10.462750</td>\n",
       "      <td>23.25</td>\n",
       "      <td>120</td>\n",
       "      <td>50.078</td>\n",
       "      <td>52.498500</td>\n",
       "      <td>54.750</td>\n",
       "      <td>120</td>\n",
       "    </tr>\n",
       "  </tbody>\n",
       "</table>\n",
       "</div>"
      ],
      "text/plain": [
       "         temperature                          latabs                         \n",
       "                 min       mean    max count     min       mean     max count\n",
       "country                                                                      \n",
       "Brazil         12.20  25.470196  33.93   969   0.051  13.859272  33.517  1104\n",
       "Cameroon       21.87  27.227941  36.00    34   4.020   7.789250  10.451    48\n",
       "India           1.95  26.113477  37.40  1044   8.300  21.104516  34.083  1056\n",
       "Japan          -7.15  15.495854  30.14  1797  24.300  35.664822  45.417  1800\n",
       "Mexico          7.00  23.230397  34.45   806  14.917  22.114901  32.400   852\n",
       "Oman           12.10  27.753463  38.39   205  16.933  21.997875  26.167   288\n",
       "Poland         -3.85  10.462750  23.25   120  50.078  52.498500  54.750   120"
      ]
     },
     "execution_count": 17,
     "metadata": {},
     "output_type": "execute_result"
    }
   ],
   "source": [
    "ltall.groupby(['country']).agg({\n",
    "    'temperature': ['min', 'mean', 'max', 'count'],\n",
    "    'latabs': ['min', 'mean', 'max', 'count']\n",
    "})"
   ]
  },
  {
   "cell_type": "code",
   "execution_count": null,
   "id": "sophisticated-palestine",
   "metadata": {},
   "outputs": [],
   "source": []
  }
 ],
 "metadata": {
  "kernelspec": {
   "display_name": "Python 3",
   "language": "python",
   "name": "python3"
  },
  "language_info": {
   "codemirror_mode": {
    "name": "ipython",
    "version": 3
   },
   "file_extension": ".py",
   "mimetype": "text/x-python",
   "name": "python",
   "nbconvert_exporter": "python",
   "pygments_lexer": "ipython3",
   "version": "3.7.9"
  },
  "toc": {
   "base_numbering": 1,
   "nav_menu": {},
   "number_sections": true,
   "sideBar": true,
   "skip_h1_title": false,
   "title_cell": "Table of Contents",
   "title_sidebar": "Contents",
   "toc_cell": true,
   "toc_position": {},
   "toc_section_display": true,
   "toc_window_display": false
  }
 },
 "nbformat": 4,
 "nbformat_minor": 5
}
