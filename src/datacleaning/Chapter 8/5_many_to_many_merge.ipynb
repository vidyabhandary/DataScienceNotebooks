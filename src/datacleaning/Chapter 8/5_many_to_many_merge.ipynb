{
 "cells": [
  {
   "cell_type": "markdown",
   "id": "african-jefferson",
   "metadata": {
    "toc": true
   },
   "source": [
    "<h1>Table of Contents<span class=\"tocSkip\"></span></h1>\n",
    "<div class=\"toc\"><ul class=\"toc-item\"><li><span><a href=\"#Load-pandas-and-the-Cleveland-Museum-of-Art-(CMA)-collections-data\" data-toc-modified-id=\"Load-pandas-and-the-Cleveland-Museum-of-Art-(CMA)-collections-data-1\"><span class=\"toc-item-num\">1&nbsp;&nbsp;</span>Load pandas and the Cleveland Museum of Art (CMA) collections data</a></span></li><li><span><a href=\"#Look-at-the-citations-data\" data-toc-modified-id=\"Look-at-the-citations-data-2\"><span class=\"toc-item-num\">2&nbsp;&nbsp;</span>Look at the citations data</a></span></li><li><span><a href=\"#Look-at-the-creators-data\" data-toc-modified-id=\"Look-at-the-creators-data-3\"><span class=\"toc-item-num\">3&nbsp;&nbsp;</span>Look at the creators data</a></span></li><li><span><a href=\"#Show-duplicates-of-merge-by-values-in-the-citations-data\" data-toc-modified-id=\"Show-duplicates-of-merge-by-values-in-the-citations-data-4\"><span class=\"toc-item-num\">4&nbsp;&nbsp;</span>Show duplicates of merge-by values in the citations data</a></span></li><li><span><a href=\"#Show-duplicates-of-the-merge-by-values-in-the-creators-data\" data-toc-modified-id=\"Show-duplicates-of-the-merge-by-values-in-the-creators-data-5\"><span class=\"toc-item-num\">5&nbsp;&nbsp;</span>Show duplicates of the merge-by values in the creators data</a></span></li><li><span><a href=\"#Check-the-merge\" data-toc-modified-id=\"Check-the-merge-6\"><span class=\"toc-item-num\">6&nbsp;&nbsp;</span>Check the merge</a></span></li><li><span><a href=\"#Show-a-merge-by-value-duplicated-in-both-DataFrames\" data-toc-modified-id=\"Show-a-merge-by-value-duplicated-in-both-DataFrames-7\"><span class=\"toc-item-num\">7&nbsp;&nbsp;</span>Show a merge-by value duplicated in both DataFrames</a></span></li><li><span><a href=\"#Do-a-many-to-many-merge\" data-toc-modified-id=\"Do-a-many-to-many-merge-8\"><span class=\"toc-item-num\">8&nbsp;&nbsp;</span>Do a many-to-many merge</a></span></li></ul></div>"
   ]
  },
  {
   "cell_type": "markdown",
   "id": "framed-compact",
   "metadata": {},
   "source": [
    "# Load pandas and the Cleveland Museum of Art (CMA) collections data"
   ]
  },
  {
   "cell_type": "code",
   "execution_count": 1,
   "id": "tender-serial",
   "metadata": {},
   "outputs": [],
   "source": [
    "import pandas as pd"
   ]
  },
  {
   "cell_type": "code",
   "execution_count": 2,
   "id": "first-subject",
   "metadata": {},
   "outputs": [
    {
     "name": "stdout",
     "output_type": "stream",
     "text": [
      "watermark: 2.1.0\n",
      "json     : 2.0.9\n",
      "pandas   : 1.2.1\n",
      "\n"
     ]
    }
   ],
   "source": [
    "import watermark\n",
    "%load_ext watermark\n",
    "\n",
    "%watermark -n -i -iv"
   ]
  },
  {
   "cell_type": "code",
   "execution_count": 3,
   "id": "successful-madison",
   "metadata": {},
   "outputs": [],
   "source": [
    "cmacitations = pd.read_csv('data/cmacitations.csv')\n",
    "cmacreators = pd.read_csv('data/cmacreators.csv')"
   ]
  },
  {
   "cell_type": "markdown",
   "id": "american-earthquake",
   "metadata": {},
   "source": [
    "# Look at the citations data"
   ]
  },
  {
   "cell_type": "code",
   "execution_count": 4,
   "id": "instructional-hollywood",
   "metadata": {},
   "outputs": [
    {
     "data": {
      "text/html": [
       "<div>\n",
       "<style scoped>\n",
       "    .dataframe tbody tr th:only-of-type {\n",
       "        vertical-align: middle;\n",
       "    }\n",
       "\n",
       "    .dataframe tbody tr th {\n",
       "        vertical-align: top;\n",
       "    }\n",
       "\n",
       "    .dataframe thead th {\n",
       "        text-align: right;\n",
       "    }\n",
       "</style>\n",
       "<table border=\"1\" class=\"dataframe\">\n",
       "  <thead>\n",
       "    <tr style=\"text-align: right;\">\n",
       "      <th></th>\n",
       "      <th>id</th>\n",
       "      <th>citation</th>\n",
       "    </tr>\n",
       "  </thead>\n",
       "  <tbody>\n",
       "    <tr>\n",
       "      <th>0</th>\n",
       "      <td>92937</td>\n",
       "      <td>Milliken, William M. \"The Second Exhibition of...</td>\n",
       "    </tr>\n",
       "    <tr>\n",
       "      <th>1</th>\n",
       "      <td>92937</td>\n",
       "      <td>Glasier, Jessie C. \"Museum Gets Prize-Winning ...</td>\n",
       "    </tr>\n",
       "    <tr>\n",
       "      <th>2</th>\n",
       "      <td>92937</td>\n",
       "      <td>\"Cleveland Museum Acquires Typical Pictures by...</td>\n",
       "    </tr>\n",
       "    <tr>\n",
       "      <th>3</th>\n",
       "      <td>92937</td>\n",
       "      <td>Milliken, William M. \"Two Examples of Modern P...</td>\n",
       "    </tr>\n",
       "    <tr>\n",
       "      <th>4</th>\n",
       "      <td>92937</td>\n",
       "      <td>&lt;em&gt;Memorial Exhibition of the Work of George ...</td>\n",
       "    </tr>\n",
       "    <tr>\n",
       "      <th>5</th>\n",
       "      <td>92937</td>\n",
       "      <td>The Cleveland Museum of Art. &lt;em&gt;Handbook of t...</td>\n",
       "    </tr>\n",
       "    <tr>\n",
       "      <th>6</th>\n",
       "      <td>92937</td>\n",
       "      <td>Cortissoz, Royal. \"Paintings and Prints by Geo...</td>\n",
       "    </tr>\n",
       "    <tr>\n",
       "      <th>7</th>\n",
       "      <td>92937</td>\n",
       "      <td>Isham, Samuel, and Royal Cortissoz. &lt;em&gt;The Hi...</td>\n",
       "    </tr>\n",
       "    <tr>\n",
       "      <th>8</th>\n",
       "      <td>92937</td>\n",
       "      <td>Mather, Frank Jewett, Charles Rufus Morey, and...</td>\n",
       "    </tr>\n",
       "    <tr>\n",
       "      <th>9</th>\n",
       "      <td>92937</td>\n",
       "      <td>\"Un Artiste Americain.\" &lt;em&gt;L'illustration.&lt;/e...</td>\n",
       "    </tr>\n",
       "  </tbody>\n",
       "</table>\n",
       "</div>"
      ],
      "text/plain": [
       "      id                                           citation\n",
       "0  92937  Milliken, William M. \"The Second Exhibition of...\n",
       "1  92937  Glasier, Jessie C. \"Museum Gets Prize-Winning ...\n",
       "2  92937  \"Cleveland Museum Acquires Typical Pictures by...\n",
       "3  92937  Milliken, William M. \"Two Examples of Modern P...\n",
       "4  92937  <em>Memorial Exhibition of the Work of George ...\n",
       "5  92937  The Cleveland Museum of Art. <em>Handbook of t...\n",
       "6  92937  Cortissoz, Royal. \"Paintings and Prints by Geo...\n",
       "7  92937  Isham, Samuel, and Royal Cortissoz. <em>The Hi...\n",
       "8  92937  Mather, Frank Jewett, Charles Rufus Morey, and...\n",
       "9  92937  \"Un Artiste Americain.\" <em>L'illustration.</e..."
      ]
     },
     "execution_count": 4,
     "metadata": {},
     "output_type": "execute_result"
    }
   ],
   "source": [
    "cmacitations.head(10)"
   ]
  },
  {
   "cell_type": "code",
   "execution_count": 5,
   "id": "crucial-hormone",
   "metadata": {},
   "outputs": [
    {
     "data": {
      "text/plain": [
       "(11642, 2)"
      ]
     },
     "execution_count": 5,
     "metadata": {},
     "output_type": "execute_result"
    }
   ],
   "source": [
    "cmacitations.shape"
   ]
  },
  {
   "cell_type": "code",
   "execution_count": 9,
   "id": "drawn-parallel",
   "metadata": {},
   "outputs": [
    {
     "data": {
      "text/plain": [
       "935"
      ]
     },
     "execution_count": 9,
     "metadata": {},
     "output_type": "execute_result"
    }
   ],
   "source": [
    "cmacitations['id'].nunique()"
   ]
  },
  {
   "cell_type": "markdown",
   "id": "spatial-freeware",
   "metadata": {},
   "source": [
    "# Look at the creators data"
   ]
  },
  {
   "cell_type": "code",
   "execution_count": 7,
   "id": "annual-innocent",
   "metadata": {},
   "outputs": [
    {
     "data": {
      "text/html": [
       "<div>\n",
       "<style scoped>\n",
       "    .dataframe tbody tr th:only-of-type {\n",
       "        vertical-align: middle;\n",
       "    }\n",
       "\n",
       "    .dataframe tbody tr th {\n",
       "        vertical-align: top;\n",
       "    }\n",
       "\n",
       "    .dataframe thead th {\n",
       "        text-align: right;\n",
       "    }\n",
       "</style>\n",
       "<table border=\"1\" class=\"dataframe\">\n",
       "  <thead>\n",
       "    <tr style=\"text-align: right;\">\n",
       "      <th></th>\n",
       "      <th>id</th>\n",
       "      <th>creator</th>\n",
       "      <th>birth_year</th>\n",
       "    </tr>\n",
       "  </thead>\n",
       "  <tbody>\n",
       "    <tr>\n",
       "      <th>0</th>\n",
       "      <td>92937</td>\n",
       "      <td>George Bellows (American, 1882-1925)</td>\n",
       "      <td>1882</td>\n",
       "    </tr>\n",
       "    <tr>\n",
       "      <th>1</th>\n",
       "      <td>94979</td>\n",
       "      <td>John Singleton Copley (American, 1738-1815)</td>\n",
       "      <td>1738</td>\n",
       "    </tr>\n",
       "    <tr>\n",
       "      <th>2</th>\n",
       "      <td>137259</td>\n",
       "      <td>Gustave Courbet (French, 1819-1877)</td>\n",
       "      <td>1819</td>\n",
       "    </tr>\n",
       "    <tr>\n",
       "      <th>3</th>\n",
       "      <td>141639</td>\n",
       "      <td>Frederic Edwin Church (American, 1826-1900)</td>\n",
       "      <td>1826</td>\n",
       "    </tr>\n",
       "    <tr>\n",
       "      <th>4</th>\n",
       "      <td>93014</td>\n",
       "      <td>Thomas Cole (American, 1801-1848)</td>\n",
       "      <td>1801</td>\n",
       "    </tr>\n",
       "    <tr>\n",
       "      <th>5</th>\n",
       "      <td>110180</td>\n",
       "      <td>Albert Pinkham Ryder (American, 1847-1917)</td>\n",
       "      <td>1847</td>\n",
       "    </tr>\n",
       "    <tr>\n",
       "      <th>6</th>\n",
       "      <td>135299</td>\n",
       "      <td>Vincent van Gogh (Dutch, 1853-1890)</td>\n",
       "      <td>1853</td>\n",
       "    </tr>\n",
       "    <tr>\n",
       "      <th>7</th>\n",
       "      <td>125249</td>\n",
       "      <td>Vincent van Gogh (Dutch, 1853-1890)</td>\n",
       "      <td>1853</td>\n",
       "    </tr>\n",
       "    <tr>\n",
       "      <th>8</th>\n",
       "      <td>126769</td>\n",
       "      <td>Henri Rousseau (French, 1844-1910)</td>\n",
       "      <td>1844</td>\n",
       "    </tr>\n",
       "    <tr>\n",
       "      <th>9</th>\n",
       "      <td>135382</td>\n",
       "      <td>Claude Monet (French, 1840-1926)</td>\n",
       "      <td>1840</td>\n",
       "    </tr>\n",
       "  </tbody>\n",
       "</table>\n",
       "</div>"
      ],
      "text/plain": [
       "       id                                      creator birth_year\n",
       "0   92937         George Bellows (American, 1882-1925)       1882\n",
       "1   94979  John Singleton Copley (American, 1738-1815)       1738\n",
       "2  137259          Gustave Courbet (French, 1819-1877)       1819\n",
       "3  141639  Frederic Edwin Church (American, 1826-1900)       1826\n",
       "4   93014            Thomas Cole (American, 1801-1848)       1801\n",
       "5  110180   Albert Pinkham Ryder (American, 1847-1917)       1847\n",
       "6  135299          Vincent van Gogh (Dutch, 1853-1890)       1853\n",
       "7  125249          Vincent van Gogh (Dutch, 1853-1890)       1853\n",
       "8  126769           Henri Rousseau (French, 1844-1910)       1844\n",
       "9  135382             Claude Monet (French, 1840-1926)       1840"
      ]
     },
     "execution_count": 7,
     "metadata": {},
     "output_type": "execute_result"
    }
   ],
   "source": [
    "cmacreators.loc[:, ['id', 'creator', 'birth_year']].head(10)"
   ]
  },
  {
   "cell_type": "code",
   "execution_count": 8,
   "id": "instant-junior",
   "metadata": {},
   "outputs": [
    {
     "data": {
      "text/plain": [
       "(737, 8)"
      ]
     },
     "execution_count": 8,
     "metadata": {},
     "output_type": "execute_result"
    }
   ],
   "source": [
    "cmacreators.shape"
   ]
  },
  {
   "cell_type": "code",
   "execution_count": 10,
   "id": "fewer-sunrise",
   "metadata": {},
   "outputs": [
    {
     "data": {
      "text/plain": [
       "654"
      ]
     },
     "execution_count": 10,
     "metadata": {},
     "output_type": "execute_result"
    }
   ],
   "source": [
    "cmacreators['id'].nunique()"
   ]
  },
  {
   "cell_type": "markdown",
   "id": "minus-conducting",
   "metadata": {},
   "source": [
    "# Show duplicates of merge-by values in the citations data"
   ]
  },
  {
   "cell_type": "code",
   "execution_count": 13,
   "id": "embedded-restaurant",
   "metadata": {},
   "outputs": [
    {
     "data": {
      "text/plain": [
       "148758    174\n",
       "122351    116\n",
       "92937      98\n",
       "123168     94\n",
       "149112     93\n",
       "94979      93\n",
       "124245     87\n",
       "128842     86\n",
       "102578     84\n",
       "93014      79\n",
       "Name: id, dtype: int64"
      ]
     },
     "execution_count": 13,
     "metadata": {},
     "output_type": "execute_result"
    }
   ],
   "source": [
    "cmacitations['id'].value_counts().head(10)"
   ]
  },
  {
   "cell_type": "markdown",
   "id": "sixth-mailing",
   "metadata": {},
   "source": [
    "# Show duplicates of the merge-by values in the creators data"
   ]
  },
  {
   "cell_type": "code",
   "execution_count": 14,
   "id": "affiliated-purchase",
   "metadata": {},
   "outputs": [
    {
     "data": {
      "text/plain": [
       "140001    4\n",
       "149386    4\n",
       "146797    3\n",
       "146795    3\n",
       "149041    3\n",
       "142753    3\n",
       "114538    3\n",
       "140427    3\n",
       "114537    3\n",
       "142752    3\n",
       "Name: id, dtype: int64"
      ]
     },
     "execution_count": 14,
     "metadata": {},
     "output_type": "execute_result"
    }
   ],
   "source": [
    "cmacreators['id'].value_counts().head(10)"
   ]
  },
  {
   "cell_type": "markdown",
   "id": "under-romania",
   "metadata": {},
   "source": [
    "# Check the merge"
   ]
  },
  {
   "cell_type": "code",
   "execution_count": 17,
   "id": "reflected-victor",
   "metadata": {},
   "outputs": [],
   "source": [
    "def checkmerge(dfleft, dfright, idvar):\n",
    "    dfleft['inleft'] = 'Y'\n",
    "    dfright['inright'] = 'Y'\n",
    "    dfboth = pd.merge(dfleft[[idvar, 'inleft']],\n",
    "                      dfright[[idvar, 'inright']],\n",
    "                      on=[idvar],\n",
    "                      how='outer')\n",
    "    dfboth.fillna('N', inplace=True)\n",
    "    print(pd.crosstab(dfboth['inleft'], dfboth['inright']))\n",
    "    # print(dfboth.loc[(dfboth['inleft'] == 'N') | (dfboth['inright'] == 'N')])"
   ]
  },
  {
   "cell_type": "code",
   "execution_count": 18,
   "id": "ultimate-ghost",
   "metadata": {},
   "outputs": [
    {
     "name": "stdout",
     "output_type": "stream",
     "text": [
      "inright     N     Y\n",
      "inleft             \n",
      "N           0    46\n",
      "Y        2579  9701\n"
     ]
    }
   ],
   "source": [
    "checkmerge(cmacitations.copy(), cmacreators.copy(), 'id')"
   ]
  },
  {
   "cell_type": "markdown",
   "id": "important-tulsa",
   "metadata": {},
   "source": [
    "# Show a merge-by value duplicated in both DataFrames"
   ]
  },
  {
   "cell_type": "code",
   "execution_count": 19,
   "id": "desperate-script",
   "metadata": {},
   "outputs": [
    {
     "data": {
      "text/html": [
       "<div>\n",
       "<style scoped>\n",
       "    .dataframe tbody tr th:only-of-type {\n",
       "        vertical-align: middle;\n",
       "    }\n",
       "\n",
       "    .dataframe tbody tr th {\n",
       "        vertical-align: top;\n",
       "    }\n",
       "\n",
       "    .dataframe thead th {\n",
       "        text-align: right;\n",
       "    }\n",
       "</style>\n",
       "<table border=\"1\" class=\"dataframe\">\n",
       "  <thead>\n",
       "    <tr style=\"text-align: right;\">\n",
       "      <th></th>\n",
       "      <th>id</th>\n",
       "      <th>citation</th>\n",
       "    </tr>\n",
       "  </thead>\n",
       "  <tbody>\n",
       "    <tr>\n",
       "      <th>8963</th>\n",
       "      <td>124733</td>\n",
       "      <td>Weigel, J. A. G. &lt;em&gt;Catalog einer Sammlung vo...</td>\n",
       "    </tr>\n",
       "    <tr>\n",
       "      <th>8964</th>\n",
       "      <td>124733</td>\n",
       "      <td>Winkler, Friedrich. &lt;em&gt;Die Zeichnungen Albrec...</td>\n",
       "    </tr>\n",
       "    <tr>\n",
       "      <th>8965</th>\n",
       "      <td>124733</td>\n",
       "      <td>Francis, Henry S. \"Drawing of a Dead Blue Jay ...</td>\n",
       "    </tr>\n",
       "    <tr>\n",
       "      <th>8966</th>\n",
       "      <td>124733</td>\n",
       "      <td>Kurz, Otto. &lt;em&gt;Fakes: A Handbook for Collecto...</td>\n",
       "    </tr>\n",
       "    <tr>\n",
       "      <th>8967</th>\n",
       "      <td>124733</td>\n",
       "      <td>Minneapolis Institute of Arts. &lt;em&gt;Watercolors...</td>\n",
       "    </tr>\n",
       "    <tr>\n",
       "      <th>8968</th>\n",
       "      <td>124733</td>\n",
       "      <td>Pilz, Kurt. \"Hans Hoffmann: Ein Nürnberger Dür...</td>\n",
       "    </tr>\n",
       "    <tr>\n",
       "      <th>8969</th>\n",
       "      <td>124733</td>\n",
       "      <td>Koschatzky, Walter and Alice Strobl. &lt;em&gt;Düre...</td>\n",
       "    </tr>\n",
       "    <tr>\n",
       "      <th>8970</th>\n",
       "      <td>124733</td>\n",
       "      <td>Johnson, Mark M&lt;em&gt;. Idea to Image: Preparator...</td>\n",
       "    </tr>\n",
       "    <tr>\n",
       "      <th>8971</th>\n",
       "      <td>124733</td>\n",
       "      <td>Kaufmann, Thomas DaCosta. &lt;em&gt;Drawings from th...</td>\n",
       "    </tr>\n",
       "    <tr>\n",
       "      <th>8972</th>\n",
       "      <td>124733</td>\n",
       "      <td>Koreny, Fritz. &lt;em&gt;Albrecht Dürer and the ani...</td>\n",
       "    </tr>\n",
       "    <tr>\n",
       "      <th>8973</th>\n",
       "      <td>124733</td>\n",
       "      <td>Achilles-Syndram, Katrin. &lt;em&gt;Die Kunstsammlun...</td>\n",
       "    </tr>\n",
       "    <tr>\n",
       "      <th>8974</th>\n",
       "      <td>124733</td>\n",
       "      <td>Schoch, Rainer, Katrin Achilles-Syndram, and B...</td>\n",
       "    </tr>\n",
       "    <tr>\n",
       "      <th>8975</th>\n",
       "      <td>124733</td>\n",
       "      <td>DeGrazia, Diane and Carter E. Foster. &lt;em&gt;Mast...</td>\n",
       "    </tr>\n",
       "    <tr>\n",
       "      <th>8976</th>\n",
       "      <td>124733</td>\n",
       "      <td>Dunbar, Burton L., et al. &lt;em&gt;A Corpus of Draw...</td>\n",
       "    </tr>\n",
       "  </tbody>\n",
       "</table>\n",
       "</div>"
      ],
      "text/plain": [
       "          id                                           citation\n",
       "8963  124733  Weigel, J. A. G. <em>Catalog einer Sammlung vo...\n",
       "8964  124733  Winkler, Friedrich. <em>Die Zeichnungen Albrec...\n",
       "8965  124733  Francis, Henry S. \"Drawing of a Dead Blue Jay ...\n",
       "8966  124733  Kurz, Otto. <em>Fakes: A Handbook for Collecto...\n",
       "8967  124733  Minneapolis Institute of Arts. <em>Watercolors...\n",
       "8968  124733  Pilz, Kurt. \"Hans Hoffmann: Ein Nürnberger Dür...\n",
       "8969  124733  Koschatzky, Walter and Alice Strobl. <em>Düre...\n",
       "8970  124733  Johnson, Mark M<em>. Idea to Image: Preparator...\n",
       "8971  124733  Kaufmann, Thomas DaCosta. <em>Drawings from th...\n",
       "8972  124733  Koreny, Fritz. <em>Albrecht Dürer and the ani...\n",
       "8973  124733  Achilles-Syndram, Katrin. <em>Die Kunstsammlun...\n",
       "8974  124733  Schoch, Rainer, Katrin Achilles-Syndram, and B...\n",
       "8975  124733  DeGrazia, Diane and Carter E. Foster. <em>Mast...\n",
       "8976  124733  Dunbar, Burton L., et al. <em>A Corpus of Draw..."
      ]
     },
     "execution_count": 19,
     "metadata": {},
     "output_type": "execute_result"
    }
   ],
   "source": [
    "cmacitations.loc[cmacitations['id'] == 124733]"
   ]
  },
  {
   "cell_type": "code",
   "execution_count": 21,
   "id": "blessed-korea",
   "metadata": {},
   "outputs": [
    {
     "data": {
      "text/html": [
       "<div>\n",
       "<style scoped>\n",
       "    .dataframe tbody tr th:only-of-type {\n",
       "        vertical-align: middle;\n",
       "    }\n",
       "\n",
       "    .dataframe tbody tr th {\n",
       "        vertical-align: top;\n",
       "    }\n",
       "\n",
       "    .dataframe thead th {\n",
       "        text-align: right;\n",
       "    }\n",
       "</style>\n",
       "<table border=\"1\" class=\"dataframe\">\n",
       "  <thead>\n",
       "    <tr style=\"text-align: right;\">\n",
       "      <th></th>\n",
       "      <th>id</th>\n",
       "      <th>creator</th>\n",
       "      <th>birth_year</th>\n",
       "      <th>title</th>\n",
       "    </tr>\n",
       "  </thead>\n",
       "  <tbody>\n",
       "    <tr>\n",
       "      <th>449</th>\n",
       "      <td>124733</td>\n",
       "      <td>Albrecht Dürer (German, 1471-1528)</td>\n",
       "      <td>1471</td>\n",
       "      <td>Dead Blue Roller</td>\n",
       "    </tr>\n",
       "    <tr>\n",
       "      <th>450</th>\n",
       "      <td>124733</td>\n",
       "      <td>Hans Hoffmann (German, 1545/50-1591/92)</td>\n",
       "      <td>1545/50</td>\n",
       "      <td>Dead Blue Roller</td>\n",
       "    </tr>\n",
       "  </tbody>\n",
       "</table>\n",
       "</div>"
      ],
      "text/plain": [
       "         id                                  creator birth_year  \\\n",
       "449  124733       Albrecht Dürer (German, 1471-1528)       1471   \n",
       "450  124733  Hans Hoffmann (German, 1545/50-1591/92)    1545/50   \n",
       "\n",
       "                title  \n",
       "449  Dead Blue Roller  \n",
       "450  Dead Blue Roller  "
      ]
     },
     "execution_count": 21,
     "metadata": {},
     "output_type": "execute_result"
    }
   ],
   "source": [
    "cmacreators.loc[cmacreators['id'] == 124733,\n",
    "                ['id', 'creator', 'birth_year', 'title']]"
   ]
  },
  {
   "cell_type": "markdown",
   "id": "least-house",
   "metadata": {},
   "source": [
    "# Do a many-to-many merge"
   ]
  },
  {
   "cell_type": "code",
   "execution_count": 22,
   "id": "premier-oakland",
   "metadata": {},
   "outputs": [],
   "source": [
    "cma = pd.merge(cmacitations, cmacreators, on=['id'], how='outer')"
   ]
  },
  {
   "cell_type": "code",
   "execution_count": 23,
   "id": "bottom-joseph",
   "metadata": {},
   "outputs": [],
   "source": [
    "cma['citation'] = cma['citation'].str[0:20]"
   ]
  },
  {
   "cell_type": "code",
   "execution_count": 24,
   "id": "favorite-chest",
   "metadata": {},
   "outputs": [],
   "source": [
    "cma['creator'] = cma['creator'].str[0:20]"
   ]
  },
  {
   "cell_type": "code",
   "execution_count": 25,
   "id": "wireless-adult",
   "metadata": {},
   "outputs": [
    {
     "data": {
      "text/html": [
       "<div>\n",
       "<style scoped>\n",
       "    .dataframe tbody tr th:only-of-type {\n",
       "        vertical-align: middle;\n",
       "    }\n",
       "\n",
       "    .dataframe tbody tr th {\n",
       "        vertical-align: top;\n",
       "    }\n",
       "\n",
       "    .dataframe thead th {\n",
       "        text-align: right;\n",
       "    }\n",
       "</style>\n",
       "<table border=\"1\" class=\"dataframe\">\n",
       "  <thead>\n",
       "    <tr style=\"text-align: right;\">\n",
       "      <th></th>\n",
       "      <th>id</th>\n",
       "      <th>creator</th>\n",
       "      <th>birth_year</th>\n",
       "      <th>title</th>\n",
       "    </tr>\n",
       "  </thead>\n",
       "  <tbody>\n",
       "    <tr>\n",
       "      <th>9457</th>\n",
       "      <td>124733</td>\n",
       "      <td>Albrecht Dürer (Germ</td>\n",
       "      <td>1471</td>\n",
       "      <td>Dead Blue Roller</td>\n",
       "    </tr>\n",
       "    <tr>\n",
       "      <th>9458</th>\n",
       "      <td>124733</td>\n",
       "      <td>Hans Hoffmann (Germa</td>\n",
       "      <td>1545/50</td>\n",
       "      <td>Dead Blue Roller</td>\n",
       "    </tr>\n",
       "    <tr>\n",
       "      <th>9459</th>\n",
       "      <td>124733</td>\n",
       "      <td>Albrecht Dürer (Germ</td>\n",
       "      <td>1471</td>\n",
       "      <td>Dead Blue Roller</td>\n",
       "    </tr>\n",
       "    <tr>\n",
       "      <th>9460</th>\n",
       "      <td>124733</td>\n",
       "      <td>Hans Hoffmann (Germa</td>\n",
       "      <td>1545/50</td>\n",
       "      <td>Dead Blue Roller</td>\n",
       "    </tr>\n",
       "    <tr>\n",
       "      <th>9461</th>\n",
       "      <td>124733</td>\n",
       "      <td>Albrecht Dürer (Germ</td>\n",
       "      <td>1471</td>\n",
       "      <td>Dead Blue Roller</td>\n",
       "    </tr>\n",
       "    <tr>\n",
       "      <th>9462</th>\n",
       "      <td>124733</td>\n",
       "      <td>Hans Hoffmann (Germa</td>\n",
       "      <td>1545/50</td>\n",
       "      <td>Dead Blue Roller</td>\n",
       "    </tr>\n",
       "    <tr>\n",
       "      <th>9463</th>\n",
       "      <td>124733</td>\n",
       "      <td>Albrecht Dürer (Germ</td>\n",
       "      <td>1471</td>\n",
       "      <td>Dead Blue Roller</td>\n",
       "    </tr>\n",
       "    <tr>\n",
       "      <th>9464</th>\n",
       "      <td>124733</td>\n",
       "      <td>Hans Hoffmann (Germa</td>\n",
       "      <td>1545/50</td>\n",
       "      <td>Dead Blue Roller</td>\n",
       "    </tr>\n",
       "    <tr>\n",
       "      <th>9465</th>\n",
       "      <td>124733</td>\n",
       "      <td>Albrecht Dürer (Germ</td>\n",
       "      <td>1471</td>\n",
       "      <td>Dead Blue Roller</td>\n",
       "    </tr>\n",
       "    <tr>\n",
       "      <th>9466</th>\n",
       "      <td>124733</td>\n",
       "      <td>Hans Hoffmann (Germa</td>\n",
       "      <td>1545/50</td>\n",
       "      <td>Dead Blue Roller</td>\n",
       "    </tr>\n",
       "    <tr>\n",
       "      <th>9467</th>\n",
       "      <td>124733</td>\n",
       "      <td>Albrecht Dürer (Germ</td>\n",
       "      <td>1471</td>\n",
       "      <td>Dead Blue Roller</td>\n",
       "    </tr>\n",
       "    <tr>\n",
       "      <th>9468</th>\n",
       "      <td>124733</td>\n",
       "      <td>Hans Hoffmann (Germa</td>\n",
       "      <td>1545/50</td>\n",
       "      <td>Dead Blue Roller</td>\n",
       "    </tr>\n",
       "    <tr>\n",
       "      <th>9469</th>\n",
       "      <td>124733</td>\n",
       "      <td>Albrecht Dürer (Germ</td>\n",
       "      <td>1471</td>\n",
       "      <td>Dead Blue Roller</td>\n",
       "    </tr>\n",
       "    <tr>\n",
       "      <th>9470</th>\n",
       "      <td>124733</td>\n",
       "      <td>Hans Hoffmann (Germa</td>\n",
       "      <td>1545/50</td>\n",
       "      <td>Dead Blue Roller</td>\n",
       "    </tr>\n",
       "    <tr>\n",
       "      <th>9471</th>\n",
       "      <td>124733</td>\n",
       "      <td>Albrecht Dürer (Germ</td>\n",
       "      <td>1471</td>\n",
       "      <td>Dead Blue Roller</td>\n",
       "    </tr>\n",
       "    <tr>\n",
       "      <th>9472</th>\n",
       "      <td>124733</td>\n",
       "      <td>Hans Hoffmann (Germa</td>\n",
       "      <td>1545/50</td>\n",
       "      <td>Dead Blue Roller</td>\n",
       "    </tr>\n",
       "    <tr>\n",
       "      <th>9473</th>\n",
       "      <td>124733</td>\n",
       "      <td>Albrecht Dürer (Germ</td>\n",
       "      <td>1471</td>\n",
       "      <td>Dead Blue Roller</td>\n",
       "    </tr>\n",
       "    <tr>\n",
       "      <th>9474</th>\n",
       "      <td>124733</td>\n",
       "      <td>Hans Hoffmann (Germa</td>\n",
       "      <td>1545/50</td>\n",
       "      <td>Dead Blue Roller</td>\n",
       "    </tr>\n",
       "    <tr>\n",
       "      <th>9475</th>\n",
       "      <td>124733</td>\n",
       "      <td>Albrecht Dürer (Germ</td>\n",
       "      <td>1471</td>\n",
       "      <td>Dead Blue Roller</td>\n",
       "    </tr>\n",
       "    <tr>\n",
       "      <th>9476</th>\n",
       "      <td>124733</td>\n",
       "      <td>Hans Hoffmann (Germa</td>\n",
       "      <td>1545/50</td>\n",
       "      <td>Dead Blue Roller</td>\n",
       "    </tr>\n",
       "    <tr>\n",
       "      <th>9477</th>\n",
       "      <td>124733</td>\n",
       "      <td>Albrecht Dürer (Germ</td>\n",
       "      <td>1471</td>\n",
       "      <td>Dead Blue Roller</td>\n",
       "    </tr>\n",
       "    <tr>\n",
       "      <th>9478</th>\n",
       "      <td>124733</td>\n",
       "      <td>Hans Hoffmann (Germa</td>\n",
       "      <td>1545/50</td>\n",
       "      <td>Dead Blue Roller</td>\n",
       "    </tr>\n",
       "    <tr>\n",
       "      <th>9479</th>\n",
       "      <td>124733</td>\n",
       "      <td>Albrecht Dürer (Germ</td>\n",
       "      <td>1471</td>\n",
       "      <td>Dead Blue Roller</td>\n",
       "    </tr>\n",
       "    <tr>\n",
       "      <th>9480</th>\n",
       "      <td>124733</td>\n",
       "      <td>Hans Hoffmann (Germa</td>\n",
       "      <td>1545/50</td>\n",
       "      <td>Dead Blue Roller</td>\n",
       "    </tr>\n",
       "    <tr>\n",
       "      <th>9481</th>\n",
       "      <td>124733</td>\n",
       "      <td>Albrecht Dürer (Germ</td>\n",
       "      <td>1471</td>\n",
       "      <td>Dead Blue Roller</td>\n",
       "    </tr>\n",
       "    <tr>\n",
       "      <th>9482</th>\n",
       "      <td>124733</td>\n",
       "      <td>Hans Hoffmann (Germa</td>\n",
       "      <td>1545/50</td>\n",
       "      <td>Dead Blue Roller</td>\n",
       "    </tr>\n",
       "    <tr>\n",
       "      <th>9483</th>\n",
       "      <td>124733</td>\n",
       "      <td>Albrecht Dürer (Germ</td>\n",
       "      <td>1471</td>\n",
       "      <td>Dead Blue Roller</td>\n",
       "    </tr>\n",
       "    <tr>\n",
       "      <th>9484</th>\n",
       "      <td>124733</td>\n",
       "      <td>Hans Hoffmann (Germa</td>\n",
       "      <td>1545/50</td>\n",
       "      <td>Dead Blue Roller</td>\n",
       "    </tr>\n",
       "  </tbody>\n",
       "</table>\n",
       "</div>"
      ],
      "text/plain": [
       "          id               creator birth_year             title\n",
       "9457  124733  Albrecht Dürer (Germ       1471  Dead Blue Roller\n",
       "9458  124733  Hans Hoffmann (Germa    1545/50  Dead Blue Roller\n",
       "9459  124733  Albrecht Dürer (Germ       1471  Dead Blue Roller\n",
       "9460  124733  Hans Hoffmann (Germa    1545/50  Dead Blue Roller\n",
       "9461  124733  Albrecht Dürer (Germ       1471  Dead Blue Roller\n",
       "9462  124733  Hans Hoffmann (Germa    1545/50  Dead Blue Roller\n",
       "9463  124733  Albrecht Dürer (Germ       1471  Dead Blue Roller\n",
       "9464  124733  Hans Hoffmann (Germa    1545/50  Dead Blue Roller\n",
       "9465  124733  Albrecht Dürer (Germ       1471  Dead Blue Roller\n",
       "9466  124733  Hans Hoffmann (Germa    1545/50  Dead Blue Roller\n",
       "9467  124733  Albrecht Dürer (Germ       1471  Dead Blue Roller\n",
       "9468  124733  Hans Hoffmann (Germa    1545/50  Dead Blue Roller\n",
       "9469  124733  Albrecht Dürer (Germ       1471  Dead Blue Roller\n",
       "9470  124733  Hans Hoffmann (Germa    1545/50  Dead Blue Roller\n",
       "9471  124733  Albrecht Dürer (Germ       1471  Dead Blue Roller\n",
       "9472  124733  Hans Hoffmann (Germa    1545/50  Dead Blue Roller\n",
       "9473  124733  Albrecht Dürer (Germ       1471  Dead Blue Roller\n",
       "9474  124733  Hans Hoffmann (Germa    1545/50  Dead Blue Roller\n",
       "9475  124733  Albrecht Dürer (Germ       1471  Dead Blue Roller\n",
       "9476  124733  Hans Hoffmann (Germa    1545/50  Dead Blue Roller\n",
       "9477  124733  Albrecht Dürer (Germ       1471  Dead Blue Roller\n",
       "9478  124733  Hans Hoffmann (Germa    1545/50  Dead Blue Roller\n",
       "9479  124733  Albrecht Dürer (Germ       1471  Dead Blue Roller\n",
       "9480  124733  Hans Hoffmann (Germa    1545/50  Dead Blue Roller\n",
       "9481  124733  Albrecht Dürer (Germ       1471  Dead Blue Roller\n",
       "9482  124733  Hans Hoffmann (Germa    1545/50  Dead Blue Roller\n",
       "9483  124733  Albrecht Dürer (Germ       1471  Dead Blue Roller\n",
       "9484  124733  Hans Hoffmann (Germa    1545/50  Dead Blue Roller"
      ]
     },
     "execution_count": 25,
     "metadata": {},
     "output_type": "execute_result"
    }
   ],
   "source": [
    "cma.loc[cma['id'] == 124733, ['id', 'creator', 'birth_year', 'title']]"
   ]
  },
  {
   "cell_type": "code",
   "execution_count": null,
   "id": "sensitive-observation",
   "metadata": {},
   "outputs": [],
   "source": []
  }
 ],
 "metadata": {
  "kernelspec": {
   "display_name": "Python 3",
   "language": "python",
   "name": "python3"
  },
  "language_info": {
   "codemirror_mode": {
    "name": "ipython",
    "version": 3
   },
   "file_extension": ".py",
   "mimetype": "text/x-python",
   "name": "python",
   "nbconvert_exporter": "python",
   "pygments_lexer": "ipython3",
   "version": "3.7.9"
  },
  "toc": {
   "base_numbering": 1,
   "nav_menu": {},
   "number_sections": true,
   "sideBar": true,
   "skip_h1_title": false,
   "title_cell": "Table of Contents",
   "title_sidebar": "Contents",
   "toc_cell": true,
   "toc_position": {},
   "toc_section_display": true,
   "toc_window_display": false
  }
 },
 "nbformat": 4,
 "nbformat_minor": 5
}
