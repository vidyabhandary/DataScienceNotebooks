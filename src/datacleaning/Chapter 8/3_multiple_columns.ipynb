{
 "cells": [
  {
   "cell_type": "markdown",
   "id": "twenty-congress",
   "metadata": {
    "toc": true
   },
   "source": [
    "<h1>Table of Contents<span class=\"tocSkip\"></span></h1>\n",
    "<div class=\"toc\"><ul class=\"toc-item\"><li><span><a href=\"#Import-pandas-and-load-the-NLS-weeks-worked-and-college-enrollment-data\" data-toc-modified-id=\"Import-pandas-and-load-the-NLS-weeks-worked-and-college-enrollment-data-1\"><span class=\"toc-item-num\">1&nbsp;&nbsp;</span>Import pandas and load the NLS weeks worked and college enrollment data</a></span></li><li><span><a href=\"#Look-at-some-of-the-NLS-weeks-worked-data\" data-toc-modified-id=\"Look-at-some-of-the-NLS-weeks-worked-data-2\"><span class=\"toc-item-num\">2&nbsp;&nbsp;</span>Look at some of the NLS weeks worked data</a></span></li><li><span><a href=\"#Look-at-some-of-the-NLS-college-enrollment-data\" data-toc-modified-id=\"Look-at-some-of-the-NLS-college-enrollment-data-3\"><span class=\"toc-item-num\">3&nbsp;&nbsp;</span>Look at some of the NLS college enrollment data</a></span></li><li><span><a href=\"#Check-for-unique-values-in-the-merge-by-columns\" data-toc-modified-id=\"Check-for-unique-values-in-the-merge-by-columns-4\"><span class=\"toc-item-num\">4&nbsp;&nbsp;</span>Check for unique values in the merge-by columns</a></span></li><li><span><a href=\"#Check-for-mismatches-in-the-merge-by-columns\" data-toc-modified-id=\"Check-for-mismatches-in-the-merge-by-columns-5\"><span class=\"toc-item-num\">5&nbsp;&nbsp;</span>Check for mismatches in the merge-by columns</a></span></li><li><span><a href=\"#Perform-a-merge-with-multiple-merge-by-columns\" data-toc-modified-id=\"Perform-a-merge-with-multiple-merge-by-columns-6\"><span class=\"toc-item-num\">6&nbsp;&nbsp;</span>Perform a merge with multiple merge-by columns</a></span></li></ul></div>"
   ]
  },
  {
   "cell_type": "markdown",
   "id": "going-certificate",
   "metadata": {},
   "source": [
    "# Import pandas and load the NLS weeks worked and college enrollment data"
   ]
  },
  {
   "cell_type": "code",
   "execution_count": 1,
   "id": "helpful-makeup",
   "metadata": {},
   "outputs": [],
   "source": [
    "import pandas as pd"
   ]
  },
  {
   "cell_type": "code",
   "execution_count": 2,
   "id": "emerging-chancellor",
   "metadata": {},
   "outputs": [],
   "source": [
    "# pd.set_option('display.width', 80)\n",
    "# pd.set_option('display.max_columns', 7)\n",
    "# pd.set_option('display.max_rows', 100)\n",
    "# pd.options.display.float_format = '{:,.0f}'.format"
   ]
  },
  {
   "cell_type": "code",
   "execution_count": 3,
   "id": "married-roberts",
   "metadata": {},
   "outputs": [
    {
     "name": "stdout",
     "output_type": "stream",
     "text": [
      "json     : 2.0.9\n",
      "watermark: 2.1.0\n",
      "pandas   : 1.2.1\n",
      "\n"
     ]
    }
   ],
   "source": [
    "import watermark\n",
    "%load_ext watermark\n",
    "\n",
    "%watermark -n -i -iv"
   ]
  },
  {
   "cell_type": "code",
   "execution_count": 5,
   "id": "southern-authority",
   "metadata": {},
   "outputs": [],
   "source": [
    "nls97weeksworked = pd.read_csv('data/nls97weeksworked.csv')\n",
    "nls97colenr = pd.read_csv('data/nls97colenr.csv')"
   ]
  },
  {
   "cell_type": "markdown",
   "id": "tracked-seller",
   "metadata": {},
   "source": [
    "# Look at some of the NLS weeks worked data"
   ]
  },
  {
   "cell_type": "code",
   "execution_count": 6,
   "id": "anticipated-model",
   "metadata": {},
   "outputs": [
    {
     "data": {
      "text/html": [
       "<div>\n",
       "<style scoped>\n",
       "    .dataframe tbody tr th:only-of-type {\n",
       "        vertical-align: middle;\n",
       "    }\n",
       "\n",
       "    .dataframe tbody tr th {\n",
       "        vertical-align: top;\n",
       "    }\n",
       "\n",
       "    .dataframe thead th {\n",
       "        text-align: right;\n",
       "    }\n",
       "</style>\n",
       "<table border=\"1\" class=\"dataframe\">\n",
       "  <thead>\n",
       "    <tr style=\"text-align: right;\">\n",
       "      <th></th>\n",
       "      <th>originalid</th>\n",
       "      <th>year</th>\n",
       "      <th>weeksworked</th>\n",
       "    </tr>\n",
       "  </thead>\n",
       "  <tbody>\n",
       "    <tr>\n",
       "      <th>32923</th>\n",
       "      <td>7199</td>\n",
       "      <td>2003</td>\n",
       "      <td>0.0</td>\n",
       "    </tr>\n",
       "    <tr>\n",
       "      <th>14214</th>\n",
       "      <td>4930</td>\n",
       "      <td>2001</td>\n",
       "      <td>52.0</td>\n",
       "    </tr>\n",
       "    <tr>\n",
       "      <th>2863</th>\n",
       "      <td>4727</td>\n",
       "      <td>2000</td>\n",
       "      <td>13.0</td>\n",
       "    </tr>\n",
       "    <tr>\n",
       "      <th>9746</th>\n",
       "      <td>6502</td>\n",
       "      <td>2001</td>\n",
       "      <td>0.0</td>\n",
       "    </tr>\n",
       "    <tr>\n",
       "      <th>2479</th>\n",
       "      <td>4036</td>\n",
       "      <td>2000</td>\n",
       "      <td>28.0</td>\n",
       "    </tr>\n",
       "    <tr>\n",
       "      <th>39435</th>\n",
       "      <td>1247</td>\n",
       "      <td>2004</td>\n",
       "      <td>52.0</td>\n",
       "    </tr>\n",
       "    <tr>\n",
       "      <th>36416</th>\n",
       "      <td>3481</td>\n",
       "      <td>2004</td>\n",
       "      <td>52.0</td>\n",
       "    </tr>\n",
       "    <tr>\n",
       "      <th>6145</th>\n",
       "      <td>8892</td>\n",
       "      <td>2000</td>\n",
       "      <td>19.0</td>\n",
       "    </tr>\n",
       "    <tr>\n",
       "      <th>5348</th>\n",
       "      <td>8411</td>\n",
       "      <td>2000</td>\n",
       "      <td>0.0</td>\n",
       "    </tr>\n",
       "    <tr>\n",
       "      <th>24193</th>\n",
       "      <td>4371</td>\n",
       "      <td>2002</td>\n",
       "      <td>34.0</td>\n",
       "    </tr>\n",
       "  </tbody>\n",
       "</table>\n",
       "</div>"
      ],
      "text/plain": [
       "       originalid  year  weeksworked\n",
       "32923        7199  2003          0.0\n",
       "14214        4930  2001         52.0\n",
       "2863         4727  2000         13.0\n",
       "9746         6502  2001          0.0\n",
       "2479         4036  2000         28.0\n",
       "39435        1247  2004         52.0\n",
       "36416        3481  2004         52.0\n",
       "6145         8892  2000         19.0\n",
       "5348         8411  2000          0.0\n",
       "24193        4371  2002         34.0"
      ]
     },
     "execution_count": 6,
     "metadata": {},
     "output_type": "execute_result"
    }
   ],
   "source": [
    "nls97weeksworked.sample(10, random_state=1)"
   ]
  },
  {
   "cell_type": "code",
   "execution_count": 7,
   "id": "spiritual-underwear",
   "metadata": {},
   "outputs": [
    {
     "data": {
      "text/plain": [
       "(44920, 3)"
      ]
     },
     "execution_count": 7,
     "metadata": {},
     "output_type": "execute_result"
    }
   ],
   "source": [
    "nls97weeksworked.shape"
   ]
  },
  {
   "cell_type": "code",
   "execution_count": 9,
   "id": "weird-assault",
   "metadata": {},
   "outputs": [
    {
     "data": {
      "text/plain": [
       "8984"
      ]
     },
     "execution_count": 9,
     "metadata": {},
     "output_type": "execute_result"
    }
   ],
   "source": [
    "nls97weeksworked['originalid'].nunique()"
   ]
  },
  {
   "cell_type": "markdown",
   "id": "buried-deployment",
   "metadata": {},
   "source": [
    "# Look at some of the NLS college enrollment data"
   ]
  },
  {
   "cell_type": "code",
   "execution_count": 10,
   "id": "virgin-summer",
   "metadata": {},
   "outputs": [
    {
     "data": {
      "text/html": [
       "<div>\n",
       "<style scoped>\n",
       "    .dataframe tbody tr th:only-of-type {\n",
       "        vertical-align: middle;\n",
       "    }\n",
       "\n",
       "    .dataframe tbody tr th {\n",
       "        vertical-align: top;\n",
       "    }\n",
       "\n",
       "    .dataframe thead th {\n",
       "        text-align: right;\n",
       "    }\n",
       "</style>\n",
       "<table border=\"1\" class=\"dataframe\">\n",
       "  <thead>\n",
       "    <tr style=\"text-align: right;\">\n",
       "      <th></th>\n",
       "      <th>originalid</th>\n",
       "      <th>year</th>\n",
       "      <th>colenr</th>\n",
       "    </tr>\n",
       "  </thead>\n",
       "  <tbody>\n",
       "    <tr>\n",
       "      <th>32923</th>\n",
       "      <td>7199</td>\n",
       "      <td>2003</td>\n",
       "      <td>1. Not enrolled</td>\n",
       "    </tr>\n",
       "    <tr>\n",
       "      <th>14214</th>\n",
       "      <td>4930</td>\n",
       "      <td>2001</td>\n",
       "      <td>1. Not enrolled</td>\n",
       "    </tr>\n",
       "    <tr>\n",
       "      <th>2863</th>\n",
       "      <td>4727</td>\n",
       "      <td>2000</td>\n",
       "      <td>NaN</td>\n",
       "    </tr>\n",
       "    <tr>\n",
       "      <th>9746</th>\n",
       "      <td>6502</td>\n",
       "      <td>2001</td>\n",
       "      <td>1. Not enrolled</td>\n",
       "    </tr>\n",
       "    <tr>\n",
       "      <th>2479</th>\n",
       "      <td>4036</td>\n",
       "      <td>2000</td>\n",
       "      <td>1. Not enrolled</td>\n",
       "    </tr>\n",
       "    <tr>\n",
       "      <th>39435</th>\n",
       "      <td>1247</td>\n",
       "      <td>2004</td>\n",
       "      <td>3. 4-year college</td>\n",
       "    </tr>\n",
       "    <tr>\n",
       "      <th>36416</th>\n",
       "      <td>3481</td>\n",
       "      <td>2004</td>\n",
       "      <td>1. Not enrolled</td>\n",
       "    </tr>\n",
       "    <tr>\n",
       "      <th>6145</th>\n",
       "      <td>8892</td>\n",
       "      <td>2000</td>\n",
       "      <td>1. Not enrolled</td>\n",
       "    </tr>\n",
       "    <tr>\n",
       "      <th>5348</th>\n",
       "      <td>8411</td>\n",
       "      <td>2000</td>\n",
       "      <td>1. Not enrolled</td>\n",
       "    </tr>\n",
       "    <tr>\n",
       "      <th>24193</th>\n",
       "      <td>4371</td>\n",
       "      <td>2002</td>\n",
       "      <td>2. 2-year college</td>\n",
       "    </tr>\n",
       "  </tbody>\n",
       "</table>\n",
       "</div>"
      ],
      "text/plain": [
       "       originalid  year              colenr\n",
       "32923        7199  2003     1. Not enrolled\n",
       "14214        4930  2001     1. Not enrolled\n",
       "2863         4727  2000                 NaN\n",
       "9746         6502  2001     1. Not enrolled\n",
       "2479         4036  2000     1. Not enrolled\n",
       "39435        1247  2004   3. 4-year college\n",
       "36416        3481  2004     1. Not enrolled\n",
       "6145         8892  2000     1. Not enrolled\n",
       "5348         8411  2000     1. Not enrolled\n",
       "24193        4371  2002  2. 2-year college "
      ]
     },
     "execution_count": 10,
     "metadata": {},
     "output_type": "execute_result"
    }
   ],
   "source": [
    "nls97colenr.sample(10, random_state=1)"
   ]
  },
  {
   "cell_type": "code",
   "execution_count": 11,
   "id": "protected-period",
   "metadata": {},
   "outputs": [
    {
     "data": {
      "text/plain": [
       "(44920, 3)"
      ]
     },
     "execution_count": 11,
     "metadata": {},
     "output_type": "execute_result"
    }
   ],
   "source": [
    "nls97colenr.shape"
   ]
  },
  {
   "cell_type": "code",
   "execution_count": 12,
   "id": "recent-waterproof",
   "metadata": {},
   "outputs": [
    {
     "data": {
      "text/plain": [
       "8984"
      ]
     },
     "execution_count": 12,
     "metadata": {},
     "output_type": "execute_result"
    }
   ],
   "source": [
    "nls97colenr['originalid'].nunique()"
   ]
  },
  {
   "cell_type": "markdown",
   "id": "split-field",
   "metadata": {},
   "source": [
    "# Check for unique values in the merge-by columns"
   ]
  },
  {
   "cell_type": "code",
   "execution_count": 13,
   "id": "norwegian-vertical",
   "metadata": {},
   "outputs": [
    {
     "data": {
      "text/plain": [
       "(44920,)"
      ]
     },
     "execution_count": 13,
     "metadata": {},
     "output_type": "execute_result"
    }
   ],
   "source": [
    "nls97weeksworked.groupby(['originalid', 'year'])['originalid'].count().shape"
   ]
  },
  {
   "cell_type": "code",
   "execution_count": 14,
   "id": "focal-factory",
   "metadata": {},
   "outputs": [
    {
     "data": {
      "text/plain": [
       "(44920,)"
      ]
     },
     "execution_count": 14,
     "metadata": {},
     "output_type": "execute_result"
    }
   ],
   "source": [
    "nls97colenr.groupby(['originalid', 'year'])['originalid'].count().shape"
   ]
  },
  {
   "cell_type": "markdown",
   "id": "opening-greeting",
   "metadata": {},
   "source": [
    "# Check for mismatches in the merge-by columns"
   ]
  },
  {
   "cell_type": "code",
   "execution_count": 19,
   "id": "based-closer",
   "metadata": {},
   "outputs": [],
   "source": [
    "def checkmerge(dfleft, dfright, idvar):\n",
    "    dfleft['inleft'] = 'Y'\n",
    "    dfright['inright'] = 'Y'\n",
    "    \n",
    "    dfboth = pd.merge(dfleft[idvar + ['inleft']], dfright[idvar + ['inright']], on=idvar, how='outer')\n",
    "    dfboth.fillna('N', inplace=True)\n",
    "    print(pd.crosstab(dfboth['inleft'], dfboth['inright']))"
   ]
  },
  {
   "cell_type": "code",
   "execution_count": 20,
   "id": "welsh-johnson",
   "metadata": {},
   "outputs": [
    {
     "name": "stdout",
     "output_type": "stream",
     "text": [
      "inright      Y\n",
      "inleft        \n",
      "Y        44920\n"
     ]
    }
   ],
   "source": [
    "checkmerge(nls97weeksworked.copy(),nls97colenr.copy(), ['originalid','year'])"
   ]
  },
  {
   "cell_type": "markdown",
   "id": "valued-legend",
   "metadata": {},
   "source": [
    "# Perform a merge with multiple merge-by columns"
   ]
  },
  {
   "cell_type": "code",
   "execution_count": 22,
   "id": "otherwise-berry",
   "metadata": {},
   "outputs": [],
   "source": [
    "nlsworkschool = pd.merge(nls97weeksworked, nls97colenr, on=['originalid', 'year'], how='inner')"
   ]
  },
  {
   "cell_type": "code",
   "execution_count": 23,
   "id": "experimental-butterfly",
   "metadata": {},
   "outputs": [
    {
     "data": {
      "text/plain": [
       "(44920, 4)"
      ]
     },
     "execution_count": 23,
     "metadata": {},
     "output_type": "execute_result"
    }
   ],
   "source": [
    "nlsworkschool.shape"
   ]
  },
  {
   "cell_type": "code",
   "execution_count": 24,
   "id": "identical-franklin",
   "metadata": {},
   "outputs": [
    {
     "data": {
      "text/html": [
       "<div>\n",
       "<style scoped>\n",
       "    .dataframe tbody tr th:only-of-type {\n",
       "        vertical-align: middle;\n",
       "    }\n",
       "\n",
       "    .dataframe tbody tr th {\n",
       "        vertical-align: top;\n",
       "    }\n",
       "\n",
       "    .dataframe thead th {\n",
       "        text-align: right;\n",
       "    }\n",
       "</style>\n",
       "<table border=\"1\" class=\"dataframe\">\n",
       "  <thead>\n",
       "    <tr style=\"text-align: right;\">\n",
       "      <th></th>\n",
       "      <th>originalid</th>\n",
       "      <th>year</th>\n",
       "      <th>weeksworked</th>\n",
       "      <th>colenr</th>\n",
       "    </tr>\n",
       "  </thead>\n",
       "  <tbody>\n",
       "    <tr>\n",
       "      <th>32923</th>\n",
       "      <td>7199</td>\n",
       "      <td>2003</td>\n",
       "      <td>0.0</td>\n",
       "      <td>1. Not enrolled</td>\n",
       "    </tr>\n",
       "    <tr>\n",
       "      <th>14214</th>\n",
       "      <td>4930</td>\n",
       "      <td>2001</td>\n",
       "      <td>52.0</td>\n",
       "      <td>1. Not enrolled</td>\n",
       "    </tr>\n",
       "    <tr>\n",
       "      <th>2863</th>\n",
       "      <td>4727</td>\n",
       "      <td>2000</td>\n",
       "      <td>13.0</td>\n",
       "      <td>NaN</td>\n",
       "    </tr>\n",
       "    <tr>\n",
       "      <th>9746</th>\n",
       "      <td>6502</td>\n",
       "      <td>2001</td>\n",
       "      <td>0.0</td>\n",
       "      <td>1. Not enrolled</td>\n",
       "    </tr>\n",
       "    <tr>\n",
       "      <th>2479</th>\n",
       "      <td>4036</td>\n",
       "      <td>2000</td>\n",
       "      <td>28.0</td>\n",
       "      <td>1. Not enrolled</td>\n",
       "    </tr>\n",
       "    <tr>\n",
       "      <th>39435</th>\n",
       "      <td>1247</td>\n",
       "      <td>2004</td>\n",
       "      <td>52.0</td>\n",
       "      <td>3. 4-year college</td>\n",
       "    </tr>\n",
       "    <tr>\n",
       "      <th>36416</th>\n",
       "      <td>3481</td>\n",
       "      <td>2004</td>\n",
       "      <td>52.0</td>\n",
       "      <td>1. Not enrolled</td>\n",
       "    </tr>\n",
       "    <tr>\n",
       "      <th>6145</th>\n",
       "      <td>8892</td>\n",
       "      <td>2000</td>\n",
       "      <td>19.0</td>\n",
       "      <td>1. Not enrolled</td>\n",
       "    </tr>\n",
       "    <tr>\n",
       "      <th>5348</th>\n",
       "      <td>8411</td>\n",
       "      <td>2000</td>\n",
       "      <td>0.0</td>\n",
       "      <td>1. Not enrolled</td>\n",
       "    </tr>\n",
       "    <tr>\n",
       "      <th>24193</th>\n",
       "      <td>4371</td>\n",
       "      <td>2002</td>\n",
       "      <td>34.0</td>\n",
       "      <td>2. 2-year college</td>\n",
       "    </tr>\n",
       "  </tbody>\n",
       "</table>\n",
       "</div>"
      ],
      "text/plain": [
       "       originalid  year  weeksworked              colenr\n",
       "32923        7199  2003          0.0     1. Not enrolled\n",
       "14214        4930  2001         52.0     1. Not enrolled\n",
       "2863         4727  2000         13.0                 NaN\n",
       "9746         6502  2001          0.0     1. Not enrolled\n",
       "2479         4036  2000         28.0     1. Not enrolled\n",
       "39435        1247  2004         52.0   3. 4-year college\n",
       "36416        3481  2004         52.0     1. Not enrolled\n",
       "6145         8892  2000         19.0     1. Not enrolled\n",
       "5348         8411  2000          0.0     1. Not enrolled\n",
       "24193        4371  2002         34.0  2. 2-year college "
      ]
     },
     "execution_count": 24,
     "metadata": {},
     "output_type": "execute_result"
    }
   ],
   "source": [
    "nlsworkschool.sample(10, random_state=1)"
   ]
  },
  {
   "cell_type": "code",
   "execution_count": null,
   "id": "divine-illinois",
   "metadata": {},
   "outputs": [],
   "source": []
  }
 ],
 "metadata": {
  "kernelspec": {
   "display_name": "Python 3",
   "language": "python",
   "name": "python3"
  },
  "language_info": {
   "codemirror_mode": {
    "name": "ipython",
    "version": 3
   },
   "file_extension": ".py",
   "mimetype": "text/x-python",
   "name": "python",
   "nbconvert_exporter": "python",
   "pygments_lexer": "ipython3",
   "version": "3.7.9"
  },
  "toc": {
   "base_numbering": 1,
   "nav_menu": {},
   "number_sections": true,
   "sideBar": true,
   "skip_h1_title": false,
   "title_cell": "Table of Contents",
   "title_sidebar": "Contents",
   "toc_cell": true,
   "toc_position": {
    "height": "calc(100% - 180px)",
    "left": "10px",
    "top": "150px",
    "width": "279.273px"
   },
   "toc_section_display": true,
   "toc_window_display": false
  }
 },
 "nbformat": 4,
 "nbformat_minor": 5
}
