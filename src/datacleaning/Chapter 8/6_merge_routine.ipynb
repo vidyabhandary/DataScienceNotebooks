{
 "cells": [
  {
   "cell_type": "markdown",
   "id": "unauthorized-reason",
   "metadata": {
    "toc": true
   },
   "source": [
    "<h1>Table of Contents<span class=\"tocSkip\"></span></h1>\n",
    "<div class=\"toc\"><ul class=\"toc-item\"><li><span><a href=\"#Import-pandas-and-load-the-weather-station-and-country-data\" data-toc-modified-id=\"Import-pandas-and-load-the-weather-station-and-country-data-1\"><span class=\"toc-item-num\">1&nbsp;&nbsp;</span>Import pandas and load the weather station and country data</a></span></li><li><span><a href=\"#Check-the-merge-by-column-matches\" data-toc-modified-id=\"Check-the-merge-by-column-matches-2\"><span class=\"toc-item-num\">2&nbsp;&nbsp;</span>Check the merge-by column matches</a></span></li><li><span><a href=\"#Merge-the-country-and-location-data\" data-toc-modified-id=\"Merge-the-country-and-location-data-3\"><span class=\"toc-item-num\">3&nbsp;&nbsp;</span>Merge the country and location data</a></span></li></ul></div>"
   ]
  },
  {
   "cell_type": "markdown",
   "id": "approximate-technical",
   "metadata": {},
   "source": [
    "# Import pandas and load the weather station and country data"
   ]
  },
  {
   "cell_type": "code",
   "execution_count": 1,
   "id": "quick-empire",
   "metadata": {},
   "outputs": [],
   "source": [
    "import pandas as pd"
   ]
  },
  {
   "cell_type": "code",
   "execution_count": 2,
   "id": "mediterranean-hello",
   "metadata": {},
   "outputs": [
    {
     "name": "stdout",
     "output_type": "stream",
     "text": [
      "pandas   : 1.2.1\n",
      "json     : 2.0.9\n",
      "watermark: 2.1.0\n",
      "\n"
     ]
    }
   ],
   "source": [
    "import watermark\n",
    "%load_ext watermark\n",
    "\n",
    "%watermark -n -i -iv"
   ]
  },
  {
   "cell_type": "code",
   "execution_count": 3,
   "id": "strong-strain",
   "metadata": {},
   "outputs": [],
   "source": [
    "countries = pd.read_csv('data/ltcountries.csv')\n",
    "locations = pd.read_csv('data/ltlocations.csv')"
   ]
  },
  {
   "cell_type": "markdown",
   "id": "athletic-participation",
   "metadata": {},
   "source": [
    "# Check the merge-by column matches"
   ]
  },
  {
   "cell_type": "code",
   "execution_count": 4,
   "id": "brown-harmony",
   "metadata": {},
   "outputs": [],
   "source": [
    "def checkmerge(dfleft, dfright, mergebyleft, mergebyright):\n",
    "    dfleft['inleft'] = 'Y'\n",
    "    dfright['inright'] = 'Y'\n",
    "    dfboth = pd.merge(dfleft[[mergebyleft, 'inleft']],\n",
    "                      dfright[[mergebyright, 'inright']],\n",
    "                      left_on=[mergebyleft],\n",
    "                      right_on=[mergebyright],\n",
    "                      how='outer')\n",
    "    dfboth.fillna('N', inplace=True)\n",
    "    print(pd.crosstab(dfboth['inleft'], dfboth['inright']))\n",
    "    print(dfboth.loc[(dfboth['inleft'] == 'N') |\n",
    "                     (dfboth['inright'] == 'N')].head(20))"
   ]
  },
  {
   "cell_type": "code",
   "execution_count": 5,
   "id": "accessory-career",
   "metadata": {},
   "outputs": [
    {
     "name": "stdout",
     "output_type": "stream",
     "text": [
      "inright  N      Y\n",
      "inleft           \n",
      "N        0      1\n",
      "Y        2  27472\n",
      "      countryid inleft inright\n",
      "9715         LQ      Y       N\n",
      "13103        ST      Y       N\n",
      "27474        FO      N       Y\n"
     ]
    }
   ],
   "source": [
    "checkmerge(countries.copy(), locations.copy(), 'countryid', 'countryid')"
   ]
  },
  {
   "cell_type": "markdown",
   "id": "happy-zoning",
   "metadata": {},
   "source": [
    "# Merge the country and location data"
   ]
  },
  {
   "cell_type": "code",
   "execution_count": 6,
   "id": "injured-lewis",
   "metadata": {},
   "outputs": [],
   "source": [
    "stations = pd.merge(countries,\n",
    "                    locations,\n",
    "                    left_on=['countryid'],\n",
    "                    right_on=['countryid'],\n",
    "                    how='left')"
   ]
  },
  {
   "cell_type": "code",
   "execution_count": 7,
   "id": "differential-honolulu",
   "metadata": {},
   "outputs": [
    {
     "data": {
      "text/html": [
       "<div>\n",
       "<style scoped>\n",
       "    .dataframe tbody tr th:only-of-type {\n",
       "        vertical-align: middle;\n",
       "    }\n",
       "\n",
       "    .dataframe tbody tr th {\n",
       "        vertical-align: top;\n",
       "    }\n",
       "\n",
       "    .dataframe thead th {\n",
       "        text-align: right;\n",
       "    }\n",
       "</style>\n",
       "<table border=\"1\" class=\"dataframe\">\n",
       "  <thead>\n",
       "    <tr style=\"text-align: right;\">\n",
       "      <th></th>\n",
       "      <th>locationid</th>\n",
       "      <th>latitude</th>\n",
       "      <th>stnelev</th>\n",
       "      <th>country</th>\n",
       "    </tr>\n",
       "  </thead>\n",
       "  <tbody>\n",
       "    <tr>\n",
       "      <th>0</th>\n",
       "      <td>ACW00011604</td>\n",
       "      <td>57.7667</td>\n",
       "      <td>18.0</td>\n",
       "      <td>Antigua and Barbuda</td>\n",
       "    </tr>\n",
       "    <tr>\n",
       "      <th>1</th>\n",
       "      <td>AE000041196</td>\n",
       "      <td>25.3330</td>\n",
       "      <td>34.0</td>\n",
       "      <td>United Arab Emirates</td>\n",
       "    </tr>\n",
       "    <tr>\n",
       "      <th>2</th>\n",
       "      <td>AEM00041184</td>\n",
       "      <td>25.6170</td>\n",
       "      <td>31.0</td>\n",
       "      <td>United Arab Emirates</td>\n",
       "    </tr>\n",
       "    <tr>\n",
       "      <th>3</th>\n",
       "      <td>AEM00041194</td>\n",
       "      <td>25.2550</td>\n",
       "      <td>10.4</td>\n",
       "      <td>United Arab Emirates</td>\n",
       "    </tr>\n",
       "    <tr>\n",
       "      <th>4</th>\n",
       "      <td>AEM00041216</td>\n",
       "      <td>24.4300</td>\n",
       "      <td>3.0</td>\n",
       "      <td>United Arab Emirates</td>\n",
       "    </tr>\n",
       "    <tr>\n",
       "      <th>5</th>\n",
       "      <td>AEM00041217</td>\n",
       "      <td>24.4330</td>\n",
       "      <td>26.8</td>\n",
       "      <td>United Arab Emirates</td>\n",
       "    </tr>\n",
       "    <tr>\n",
       "      <th>6</th>\n",
       "      <td>AEM00041218</td>\n",
       "      <td>24.2620</td>\n",
       "      <td>264.9</td>\n",
       "      <td>United Arab Emirates</td>\n",
       "    </tr>\n",
       "    <tr>\n",
       "      <th>7</th>\n",
       "      <td>AF000040930</td>\n",
       "      <td>35.3170</td>\n",
       "      <td>3366.0</td>\n",
       "      <td>Afghanistan</td>\n",
       "    </tr>\n",
       "    <tr>\n",
       "      <th>8</th>\n",
       "      <td>AFM00040911</td>\n",
       "      <td>36.7000</td>\n",
       "      <td>378.0</td>\n",
       "      <td>Afghanistan</td>\n",
       "    </tr>\n",
       "    <tr>\n",
       "      <th>9</th>\n",
       "      <td>AFM00040938</td>\n",
       "      <td>34.2100</td>\n",
       "      <td>977.2</td>\n",
       "      <td>Afghanistan</td>\n",
       "    </tr>\n",
       "  </tbody>\n",
       "</table>\n",
       "</div>"
      ],
      "text/plain": [
       "    locationid  latitude  stnelev               country\n",
       "0  ACW00011604   57.7667     18.0   Antigua and Barbuda\n",
       "1  AE000041196   25.3330     34.0  United Arab Emirates\n",
       "2  AEM00041184   25.6170     31.0  United Arab Emirates\n",
       "3  AEM00041194   25.2550     10.4  United Arab Emirates\n",
       "4  AEM00041216   24.4300      3.0  United Arab Emirates\n",
       "5  AEM00041217   24.4330     26.8  United Arab Emirates\n",
       "6  AEM00041218   24.2620    264.9  United Arab Emirates\n",
       "7  AF000040930   35.3170   3366.0           Afghanistan\n",
       "8  AFM00040911   36.7000    378.0           Afghanistan\n",
       "9  AFM00040938   34.2100    977.2           Afghanistan"
      ]
     },
     "execution_count": 7,
     "metadata": {},
     "output_type": "execute_result"
    }
   ],
   "source": [
    "stations[['locationid', 'latitude', 'stnelev', 'country']].head(10)"
   ]
  },
  {
   "cell_type": "code",
   "execution_count": 8,
   "id": "competitive-climate",
   "metadata": {},
   "outputs": [
    {
     "data": {
      "text/plain": [
       "(27474, 7)"
      ]
     },
     "execution_count": 8,
     "metadata": {},
     "output_type": "execute_result"
    }
   ],
   "source": [
    "stations.shape"
   ]
  },
  {
   "cell_type": "code",
   "execution_count": null,
   "id": "opposite-check",
   "metadata": {},
   "outputs": [],
   "source": []
  }
 ],
 "metadata": {
  "kernelspec": {
   "display_name": "Python 3",
   "language": "python",
   "name": "python3"
  },
  "language_info": {
   "codemirror_mode": {
    "name": "ipython",
    "version": 3
   },
   "file_extension": ".py",
   "mimetype": "text/x-python",
   "name": "python",
   "nbconvert_exporter": "python",
   "pygments_lexer": "ipython3",
   "version": "3.7.9"
  },
  "toc": {
   "base_numbering": 1,
   "nav_menu": {},
   "number_sections": true,
   "sideBar": true,
   "skip_h1_title": false,
   "title_cell": "Table of Contents",
   "title_sidebar": "Contents",
   "toc_cell": true,
   "toc_position": {},
   "toc_section_display": true,
   "toc_window_display": false
  }
 },
 "nbformat": 4,
 "nbformat_minor": 5
}
