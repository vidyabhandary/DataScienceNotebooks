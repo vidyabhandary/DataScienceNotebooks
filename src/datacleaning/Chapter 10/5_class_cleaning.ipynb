{
 "cells": [
  {
   "cell_type": "markdown",
   "id": "detailed-albany",
   "metadata": {
    "toc": true
   },
   "source": [
    "<h1>Table of Contents<span class=\"tocSkip\"></span></h1>\n",
    "<div class=\"toc\"><ul class=\"toc-item\"><li><span><a href=\"#Import-the-pandas,-os,-sys,-and-pprint-libraries\" data-toc-modified-id=\"Import-the-pandas,-os,-sys,-and-pprint-libraries-1\"><span class=\"toc-item-num\">1&nbsp;&nbsp;</span>Import the pandas, os, sys, and pprint libraries</a></span></li><li><span><a href=\"#Import-the-respondent-class\" data-toc-modified-id=\"Import-the-respondent-class-2\"><span class=\"toc-item-num\">2&nbsp;&nbsp;</span>Import the respondent class</a></span></li><li><span><a href=\"#Load-the-NLS-data-and-create-a-list-of-dictionaries\" data-toc-modified-id=\"Load-the-NLS-data-and-create-a-list-of-dictionaries-3\"><span class=\"toc-item-num\">3&nbsp;&nbsp;</span>Load the NLS data and create a list of dictionaries</a></span></li><li><span><a href=\"#Loop-through-the-list,-creating-a-respondent-instance-each-time\" data-toc-modified-id=\"Loop-through-the-list,-creating-a-respondent-instance-each-time-4\"><span class=\"toc-item-num\">4&nbsp;&nbsp;</span>Loop through the list, creating a respondent instance each time</a></span></li><li><span><a href=\"#Pass-the-dictionary-to-the-pandas-DataFrame-method\" data-toc-modified-id=\"Pass-the-dictionary-to-the-pandas-DataFrame-method-5\"><span class=\"toc-item-num\">5&nbsp;&nbsp;</span>Pass the dictionary to the pandas DataFrame method</a></span></li></ul></div>"
   ]
  },
  {
   "cell_type": "markdown",
   "id": "severe-franklin",
   "metadata": {},
   "source": [
    "# Import the pandas, os, sys, and pprint libraries"
   ]
  },
  {
   "cell_type": "code",
   "execution_count": 1,
   "id": "artificial-credits",
   "metadata": {},
   "outputs": [],
   "source": [
    "import pandas as pd\n",
    "import os\n",
    "import sys\n",
    "import pprint"
   ]
  },
  {
   "cell_type": "code",
   "execution_count": 2,
   "id": "unknown-pottery",
   "metadata": {},
   "outputs": [
    {
     "name": "stdout",
     "output_type": "stream",
     "text": [
      "watermark: 2.1.0\n",
      "pandas   : 1.2.1\n",
      "json     : 2.0.9\n",
      "sys      : 3.7.9 (default, Aug 31 2020, 17:10:11) [MSC v.1916 64 bit (AMD64)]\n",
      "\n"
     ]
    }
   ],
   "source": [
    "import watermark\n",
    "%load_ext watermark\n",
    "\n",
    "%watermark -n -i -iv"
   ]
  },
  {
   "cell_type": "markdown",
   "id": "swiss-laptop",
   "metadata": {},
   "source": [
    "# Import the respondent class"
   ]
  },
  {
   "cell_type": "code",
   "execution_count": 3,
   "id": "fourth-donna",
   "metadata": {},
   "outputs": [],
   "source": [
    "sys.path.append(os.getcwd() + '/helperfunctions')\n",
    "import respondent as rp"
   ]
  },
  {
   "cell_type": "code",
   "execution_count": 4,
   "id": "square-lebanon",
   "metadata": {},
   "outputs": [],
   "source": [
    "# import importlib\n",
    "# importlib.reload(rp)"
   ]
  },
  {
   "cell_type": "markdown",
   "id": "chemical-disposition",
   "metadata": {},
   "source": [
    "# Load the NLS data and create a list of dictionaries"
   ]
  },
  {
   "cell_type": "code",
   "execution_count": 5,
   "id": "therapeutic-heritage",
   "metadata": {},
   "outputs": [],
   "source": [
    "nls97 = pd.read_csv('data/nls97f.csv')\n",
    "nls97list = nls97.to_dict('records')"
   ]
  },
  {
   "cell_type": "code",
   "execution_count": 6,
   "id": "motivated-battlefield",
   "metadata": {},
   "outputs": [
    {
     "data": {
      "text/plain": [
       "(8984, 90)"
      ]
     },
     "execution_count": 6,
     "metadata": {},
     "output_type": "execute_result"
    }
   ],
   "source": [
    "nls97.shape"
   ]
  },
  {
   "cell_type": "code",
   "execution_count": 7,
   "id": "unsigned-italic",
   "metadata": {},
   "outputs": [
    {
     "data": {
      "text/plain": [
       "8984"
      ]
     },
     "execution_count": 7,
     "metadata": {},
     "output_type": "execute_result"
    }
   ],
   "source": [
    "len(nls97list)"
   ]
  },
  {
   "cell_type": "code",
   "execution_count": 8,
   "id": "level-husband",
   "metadata": {},
   "outputs": [
    {
     "name": "stdout",
     "output_type": "stream",
     "text": [
      "[{'birthmonth': 5,\n",
      "  'birthyear': 1980,\n",
      "  'childathome': 4.0,\n",
      "  'childnotathome': 0.0,\n",
      "  'colenrfeb00': '1. Not enrolled',\n",
      "  'colenrfeb01': '1. Not enrolled',\n",
      "  'colenrfeb02': '1. Not enrolled',\n",
      "  'colenrfeb03': '1. Not enrolled',\n",
      "  'colenrfeb04': '1. Not enrolled',\n",
      "  'colenrfeb05': '1. Not enrolled',\n",
      "  'colenrfeb06': '1. Not enrolled',\n",
      "  'colenrfeb07': '1. Not enrolled',\n",
      "  'colenrfeb08': '1. Not enrolled',\n",
      "  'colenrfeb09': '1. Not enrolled',\n",
      "  'colenrfeb10': '1. Not enrolled',\n",
      "  'colenrfeb11': '1. Not enrolled',\n",
      "  'colenrfeb12': '3. 4-year college',\n",
      "  'colenrfeb13': '1. Not enrolled',\n",
      "  'colenrfeb14': '1. Not enrolled',\n",
      "  'colenrfeb15': '1. Not enrolled',\n",
      "  'colenrfeb16': '1. Not enrolled',\n",
      "  'colenrfeb17': '1. Not enrolled',\n",
      "  'colenrfeb97': '1. Not enrolled',\n",
      "  'colenrfeb98': '1. Not enrolled',\n",
      "  'colenrfeb99': '1. Not enrolled',\n",
      "  'colenroct00': '1. Not enrolled',\n",
      "  'colenroct01': '1. Not enrolled',\n",
      "  'colenroct02': '1. Not enrolled',\n",
      "  'colenroct03': '1. Not enrolled',\n",
      "  'colenroct04': '1. Not enrolled',\n",
      "  'colenroct05': '1. Not enrolled',\n",
      "  'colenroct06': '1. Not enrolled',\n",
      "  'colenroct07': '1. Not enrolled',\n",
      "  'colenroct08': '1. Not enrolled',\n",
      "  'colenroct09': '1. Not enrolled',\n",
      "  'colenroct10': '1. Not enrolled',\n",
      "  'colenroct11': '3. 4-year college',\n",
      "  'colenroct12': '3. 4-year college',\n",
      "  'colenroct13': '1. Not enrolled',\n",
      "  'colenroct14': '1. Not enrolled',\n",
      "  'colenroct15': '1. Not enrolled',\n",
      "  'colenroct16': '1. Not enrolled',\n",
      "  'colenroct17': '1. Not enrolled',\n",
      "  'colenroct97': '1. Not enrolled',\n",
      "  'colenroct98': '1. Not enrolled',\n",
      "  'colenroct99': '1. Not enrolled',\n",
      "  'gender': 'Female',\n",
      "  'govcollegefinance': nan,\n",
      "  'govdecenthousing': nan,\n",
      "  'govelderliving': nan,\n",
      "  'govhealthcare': nan,\n",
      "  'govincomediff': nan,\n",
      "  'govindhelp': nan,\n",
      "  'govpricecontrols': nan,\n",
      "  'govprotectenvironment': nan,\n",
      "  'govprovidejobs': nan,\n",
      "  'govunemp': nan,\n",
      "  'gpaenglish': 350.0,\n",
      "  'gpamath': 280.0,\n",
      "  'gpaoverall': 306.0,\n",
      "  'gpascience': 315.0,\n",
      "  'highestdegree': '2. High School',\n",
      "  'highestgradecompleted': 13.0,\n",
      "  'maritalstatus': 'Married',\n",
      "  'nightlyhrssleep': 6.0,\n",
      "  'originalid': 8245,\n",
      "  'personid': 100061,\n",
      "  'satmath': nan,\n",
      "  'satverbal': nan,\n",
      "  'wageincome': 12500.0,\n",
      "  'weeklyhrscomputer': '10 hours or more a week',\n",
      "  'weeklyhrstv': '11 to 20 hours a week',\n",
      "  'weeksworked00': 46.0,\n",
      "  'weeksworked01': 52.0,\n",
      "  'weeksworked02': 52.0,\n",
      "  'weeksworked03': 48.0,\n",
      "  'weeksworked04': 52.0,\n",
      "  'weeksworked05': 53.0,\n",
      "  'weeksworked06': 52.0,\n",
      "  'weeksworked07': 52.0,\n",
      "  'weeksworked08': 39.0,\n",
      "  'weeksworked09': 40.0,\n",
      "  'weeksworked10': 52.0,\n",
      "  'weeksworked11': 53.0,\n",
      "  'weeksworked12': 40.0,\n",
      "  'weeksworked13': 52.0,\n",
      "  'weeksworked14': 52.0,\n",
      "  'weeksworked15': 52.0,\n",
      "  'weeksworked16': 48.0,\n",
      "  'weeksworked17': 48.0}]\n"
     ]
    }
   ],
   "source": [
    "pprint.pprint(nls97list[0:1])"
   ]
  },
  {
   "cell_type": "markdown",
   "id": "upper-vaccine",
   "metadata": {},
   "source": [
    "# Loop through the list, creating a respondent instance each time"
   ]
  },
  {
   "cell_type": "code",
   "execution_count": 9,
   "id": "excited-carpet",
   "metadata": {},
   "outputs": [],
   "source": [
    "analysislist = []"
   ]
  },
  {
   "cell_type": "code",
   "execution_count": 10,
   "id": "remarkable-pressing",
   "metadata": {},
   "outputs": [],
   "source": [
    "for respdict in nls97list:\n",
    "    resp = rp.Respondent(respdict)\n",
    "    newdict = dict(originalid=respdict['originalid'],\n",
    "                   childnum=resp.childnum(),\n",
    "                   avgweeksworked=resp.avgweeksworked(),\n",
    "                   age=resp.ageby('20201015'),\n",
    "                   baenrollment=resp.baenrollment())\n",
    "    analysislist.append(newdict)"
   ]
  },
  {
   "cell_type": "markdown",
   "id": "roman-consultancy",
   "metadata": {},
   "source": [
    "# Pass the dictionary to the pandas DataFrame method"
   ]
  },
  {
   "cell_type": "code",
   "execution_count": 11,
   "id": "unknown-prerequisite",
   "metadata": {},
   "outputs": [
    {
     "data": {
      "text/plain": [
       "8984"
      ]
     },
     "execution_count": 11,
     "metadata": {},
     "output_type": "execute_result"
    }
   ],
   "source": [
    "len(analysislist)"
   ]
  },
  {
   "cell_type": "code",
   "execution_count": 12,
   "id": "proud-number",
   "metadata": {},
   "outputs": [
    {
     "data": {
      "text/plain": [
       "8984"
      ]
     },
     "execution_count": 12,
     "metadata": {},
     "output_type": "execute_result"
    }
   ],
   "source": [
    "resp.respondent_count"
   ]
  },
  {
   "cell_type": "code",
   "execution_count": 13,
   "id": "ongoing-range",
   "metadata": {},
   "outputs": [
    {
     "name": "stdout",
     "output_type": "stream",
     "text": [
      "[{'age': 40,\n",
      "  'avgweeksworked': 49.05555555555556,\n",
      "  'baenrollment': 'Y',\n",
      "  'childnum': 4.0,\n",
      "  'originalid': 8245},\n",
      " {'age': 37,\n",
      "  'avgweeksworked': 49.388888888888886,\n",
      "  'baenrollment': 'N',\n",
      "  'childnum': 2.0,\n",
      "  'originalid': 3962}]\n"
     ]
    }
   ],
   "source": [
    "pprint.pprint(analysislist[0:2])"
   ]
  },
  {
   "cell_type": "code",
   "execution_count": 14,
   "id": "other-algebra",
   "metadata": {},
   "outputs": [],
   "source": [
    "analysis = pd.DataFrame(analysislist)"
   ]
  },
  {
   "cell_type": "code",
   "execution_count": 15,
   "id": "intermediate-wells",
   "metadata": {},
   "outputs": [
    {
     "data": {
      "text/html": [
       "<div>\n",
       "<style scoped>\n",
       "    .dataframe tbody tr th:only-of-type {\n",
       "        vertical-align: middle;\n",
       "    }\n",
       "\n",
       "    .dataframe tbody tr th {\n",
       "        vertical-align: top;\n",
       "    }\n",
       "\n",
       "    .dataframe thead th {\n",
       "        text-align: right;\n",
       "    }\n",
       "</style>\n",
       "<table border=\"1\" class=\"dataframe\">\n",
       "  <thead>\n",
       "    <tr style=\"text-align: right;\">\n",
       "      <th></th>\n",
       "      <th>originalid</th>\n",
       "      <th>childnum</th>\n",
       "      <th>avgweeksworked</th>\n",
       "      <th>age</th>\n",
       "      <th>baenrollment</th>\n",
       "    </tr>\n",
       "  </thead>\n",
       "  <tbody>\n",
       "    <tr>\n",
       "      <th>0</th>\n",
       "      <td>8245</td>\n",
       "      <td>4.0</td>\n",
       "      <td>49.055556</td>\n",
       "      <td>40</td>\n",
       "      <td>Y</td>\n",
       "    </tr>\n",
       "    <tr>\n",
       "      <th>1</th>\n",
       "      <td>3962</td>\n",
       "      <td>2.0</td>\n",
       "      <td>49.388889</td>\n",
       "      <td>37</td>\n",
       "      <td>N</td>\n",
       "    </tr>\n",
       "  </tbody>\n",
       "</table>\n",
       "</div>"
      ],
      "text/plain": [
       "   originalid  childnum  avgweeksworked  age baenrollment\n",
       "0        8245       4.0       49.055556   40            Y\n",
       "1        3962       2.0       49.388889   37            N"
      ]
     },
     "execution_count": 15,
     "metadata": {},
     "output_type": "execute_result"
    }
   ],
   "source": [
    "analysis.head(2)"
   ]
  },
  {
   "cell_type": "code",
   "execution_count": null,
   "id": "outstanding-oasis",
   "metadata": {},
   "outputs": [],
   "source": []
  }
 ],
 "metadata": {
  "kernelspec": {
   "display_name": "Python 3",
   "language": "python",
   "name": "python3"
  },
  "language_info": {
   "codemirror_mode": {
    "name": "ipython",
    "version": 3
   },
   "file_extension": ".py",
   "mimetype": "text/x-python",
   "name": "python",
   "nbconvert_exporter": "python",
   "pygments_lexer": "ipython3",
   "version": "3.7.9"
  },
  "toc": {
   "base_numbering": 1,
   "nav_menu": {},
   "number_sections": true,
   "sideBar": true,
   "skip_h1_title": false,
   "title_cell": "Table of Contents",
   "title_sidebar": "Contents",
   "toc_cell": true,
   "toc_position": {},
   "toc_section_display": true,
   "toc_window_display": false
  }
 },
 "nbformat": 4,
 "nbformat_minor": 5
}
