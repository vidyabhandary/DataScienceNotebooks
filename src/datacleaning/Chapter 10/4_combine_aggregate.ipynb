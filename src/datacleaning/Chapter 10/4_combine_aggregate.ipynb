{
 "cells": [
  {
   "cell_type": "markdown",
   "id": "normal-shannon",
   "metadata": {
    "toc": true
   },
   "source": [
    "<h1>Table of Contents<span class=\"tocSkip\"></span></h1>\n",
    "<div class=\"toc\"><ul class=\"toc-item\"><li><span><a href=\"#Import-the-pandas,-os,-and-sys-libraries\" data-toc-modified-id=\"Import-the-pandas,-os,-and-sys-libraries-1\"><span class=\"toc-item-num\">1&nbsp;&nbsp;</span>Import the pandas, os, and sys libraries</a></span></li><li><span><a href=\"#Import-the-combineagg-module\" data-toc-modified-id=\"Import-the-combineagg-module-2\"><span class=\"toc-item-num\">2&nbsp;&nbsp;</span>Import the combineagg module</a></span></li><li><span><a href=\"#Load-the-DataFrames\" data-toc-modified-id=\"Load-the-DataFrames-3\"><span class=\"toc-item-num\">3&nbsp;&nbsp;</span>Load the DataFrames</a></span></li><li><span><a href=\"#Call-the-adjmeans-function-to-summarize-panel-data-by-group-and-time-period\" data-toc-modified-id=\"Call-the-adjmeans-function-to-summarize-panel-data-by-group-and-time-period-4\"><span class=\"toc-item-num\">4&nbsp;&nbsp;</span>Call the adjmeans function to summarize panel data by group and time period</a></span></li><li><span><a href=\"#Call-the-checkmerge-function\" data-toc-modified-id=\"Call-the-checkmerge-function-5\"><span class=\"toc-item-num\">5&nbsp;&nbsp;</span>Call the checkmerge function</a></span></li><li><span><a href=\"#Use-the-addfiles-function-to-concatenate-all-of-the-countries-land-temperatures-files\" data-toc-modified-id=\"Use-the-addfiles-function-to-concatenate-all-of-the-countries-land-temperatures-files-6\"><span class=\"toc-item-num\">6&nbsp;&nbsp;</span>Use the addfiles function to concatenate all of the countries land temperatures files</a></span></li></ul></div>"
   ]
  },
  {
   "cell_type": "markdown",
   "id": "liable-rouge",
   "metadata": {},
   "source": [
    "# Import the pandas, os, and sys libraries"
   ]
  },
  {
   "cell_type": "code",
   "execution_count": 1,
   "id": "educated-preliminary",
   "metadata": {},
   "outputs": [],
   "source": [
    "import pandas as pd\n",
    "import os\n",
    "import sys"
   ]
  },
  {
   "cell_type": "code",
   "execution_count": 2,
   "id": "framed-maryland",
   "metadata": {},
   "outputs": [
    {
     "name": "stdout",
     "output_type": "stream",
     "text": [
      "sys      : 3.7.9 (default, Aug 31 2020, 17:10:11) [MSC v.1916 64 bit (AMD64)]\n",
      "pandas   : 1.2.1\n",
      "watermark: 2.1.0\n",
      "json     : 2.0.9\n",
      "\n"
     ]
    }
   ],
   "source": [
    "import watermark\n",
    "%load_ext watermark\n",
    "\n",
    "%watermark -n -i -iv"
   ]
  },
  {
   "cell_type": "markdown",
   "id": "political-cement",
   "metadata": {},
   "source": [
    "# Import the combineagg module"
   ]
  },
  {
   "cell_type": "code",
   "execution_count": 3,
   "id": "supposed-completion",
   "metadata": {},
   "outputs": [],
   "source": [
    "sys.path.append(os.getcwd() + \"/helperfunctions\")\n",
    "import combineagg as ca"
   ]
  },
  {
   "cell_type": "code",
   "execution_count": 4,
   "id": "handled-petite",
   "metadata": {},
   "outputs": [],
   "source": [
    "# pd.set_option('display.width', 150)\n",
    "# pd.set_option('display.max_columns', 15)\n",
    "# pd.set_option('display.max_rows', 20)"
   ]
  },
  {
   "cell_type": "code",
   "execution_count": 12,
   "id": "rational-approval",
   "metadata": {},
   "outputs": [
    {
     "data": {
      "text/plain": [
       "<module 'combineagg' from 'D:\\\\Data\\\\0 - Study\\\\9.9 - Git Folders\\\\1 - Public\\\\DataScienceNotebooks\\\\src\\\\datacleaning\\\\Chapter 10/helperfunctions\\\\combineagg.py'>"
      ]
     },
     "execution_count": 12,
     "metadata": {},
     "output_type": "execute_result"
    }
   ],
   "source": [
    "import importlib\n",
    "importlib.reload(ca)"
   ]
  },
  {
   "cell_type": "markdown",
   "id": "labeled-lending",
   "metadata": {},
   "source": [
    "# Load the DataFrames"
   ]
  },
  {
   "cell_type": "code",
   "execution_count": 6,
   "id": "structured-pioneer",
   "metadata": {},
   "outputs": [],
   "source": [
    "coviddaily = pd.read_csv('data/coviddaily720.csv')\n",
    "ltbrazil = pd.read_csv('data/ltbrazil.csv')\n",
    "countries = pd.read_csv('data/ltcountries.csv')\n",
    "locations = pd.read_csv('data/ltlocations.csv')"
   ]
  },
  {
   "cell_type": "markdown",
   "id": "resistant-hearts",
   "metadata": {},
   "source": [
    "# Call the adjmeans function to summarize panel data by group and time period"
   ]
  },
  {
   "cell_type": "code",
   "execution_count": 7,
   "id": "developing-picture",
   "metadata": {},
   "outputs": [
    {
     "data": {
      "text/html": [
       "<div>\n",
       "<style scoped>\n",
       "    .dataframe tbody tr th:only-of-type {\n",
       "        vertical-align: middle;\n",
       "    }\n",
       "\n",
       "    .dataframe tbody tr th {\n",
       "        vertical-align: top;\n",
       "    }\n",
       "\n",
       "    .dataframe thead th {\n",
       "        text-align: right;\n",
       "    }\n",
       "</style>\n",
       "<table border=\"1\" class=\"dataframe\">\n",
       "  <thead>\n",
       "    <tr style=\"text-align: right;\">\n",
       "      <th></th>\n",
       "      <th>byvar</th>\n",
       "      <th>avgvar</th>\n",
       "      <th>sumvar</th>\n",
       "      <th>byvarcount</th>\n",
       "    </tr>\n",
       "  </thead>\n",
       "  <tbody>\n",
       "    <tr>\n",
       "      <th>0</th>\n",
       "      <td>Afghanistan</td>\n",
       "      <td>186.221622</td>\n",
       "      <td>34451.0</td>\n",
       "      <td>185</td>\n",
       "    </tr>\n",
       "    <tr>\n",
       "      <th>1</th>\n",
       "      <td>Albania</td>\n",
       "      <td>26.753968</td>\n",
       "      <td>3371.0</td>\n",
       "      <td>126</td>\n",
       "    </tr>\n",
       "    <tr>\n",
       "      <th>2</th>\n",
       "      <td>Algeria</td>\n",
       "      <td>98.484211</td>\n",
       "      <td>18712.0</td>\n",
       "      <td>190</td>\n",
       "    </tr>\n",
       "    <tr>\n",
       "      <th>3</th>\n",
       "      <td>Andorra</td>\n",
       "      <td>7.066116</td>\n",
       "      <td>855.0</td>\n",
       "      <td>121</td>\n",
       "    </tr>\n",
       "    <tr>\n",
       "      <th>4</th>\n",
       "      <td>Angola</td>\n",
       "      <td>4.274336</td>\n",
       "      <td>483.0</td>\n",
       "      <td>113</td>\n",
       "    </tr>\n",
       "    <tr>\n",
       "      <th>...</th>\n",
       "      <td>...</td>\n",
       "      <td>...</td>\n",
       "      <td>...</td>\n",
       "      <td>...</td>\n",
       "    </tr>\n",
       "    <tr>\n",
       "      <th>204</th>\n",
       "      <td>Vietnam</td>\n",
       "      <td>1.937173</td>\n",
       "      <td>370.0</td>\n",
       "      <td>191</td>\n",
       "    </tr>\n",
       "    <tr>\n",
       "      <th>205</th>\n",
       "      <td>Western Sahara</td>\n",
       "      <td>6.653846</td>\n",
       "      <td>519.0</td>\n",
       "      <td>78</td>\n",
       "    </tr>\n",
       "    <tr>\n",
       "      <th>206</th>\n",
       "      <td>Yemen</td>\n",
       "      <td>14.776596</td>\n",
       "      <td>1389.0</td>\n",
       "      <td>94</td>\n",
       "    </tr>\n",
       "    <tr>\n",
       "      <th>207</th>\n",
       "      <td>Zambia</td>\n",
       "      <td>16.336207</td>\n",
       "      <td>1895.0</td>\n",
       "      <td>116</td>\n",
       "    </tr>\n",
       "    <tr>\n",
       "      <th>208</th>\n",
       "      <td>Zimbabwe</td>\n",
       "      <td>8.614035</td>\n",
       "      <td>982.0</td>\n",
       "      <td>114</td>\n",
       "    </tr>\n",
       "  </tbody>\n",
       "</table>\n",
       "<p>209 rows × 4 columns</p>\n",
       "</div>"
      ],
      "text/plain": [
       "              byvar      avgvar   sumvar  byvarcount\n",
       "0       Afghanistan  186.221622  34451.0         185\n",
       "1           Albania   26.753968   3371.0         126\n",
       "2           Algeria   98.484211  18712.0         190\n",
       "3           Andorra    7.066116    855.0         121\n",
       "4            Angola    4.274336    483.0         113\n",
       "..              ...         ...      ...         ...\n",
       "204         Vietnam    1.937173    370.0         191\n",
       "205  Western Sahara    6.653846    519.0          78\n",
       "206           Yemen   14.776596   1389.0          94\n",
       "207          Zambia   16.336207   1895.0         116\n",
       "208        Zimbabwe    8.614035    982.0         114\n",
       "\n",
       "[209 rows x 4 columns]"
      ]
     },
     "execution_count": 7,
     "metadata": {},
     "output_type": "execute_result"
    }
   ],
   "source": [
    "# summarize panel data by group and time period, with exclusions\n",
    "\n",
    "ca.adjmeans(coviddaily, 'location', 'new_cases', 'casedate')"
   ]
  },
  {
   "cell_type": "code",
   "execution_count": 8,
   "id": "hollow-warrant",
   "metadata": {},
   "outputs": [
    {
     "data": {
      "text/html": [
       "<div>\n",
       "<style scoped>\n",
       "    .dataframe tbody tr th:only-of-type {\n",
       "        vertical-align: middle;\n",
       "    }\n",
       "\n",
       "    .dataframe tbody tr th {\n",
       "        vertical-align: top;\n",
       "    }\n",
       "\n",
       "    .dataframe thead th {\n",
       "        text-align: right;\n",
       "    }\n",
       "</style>\n",
       "<table border=\"1\" class=\"dataframe\">\n",
       "  <thead>\n",
       "    <tr style=\"text-align: right;\">\n",
       "      <th></th>\n",
       "      <th>byvar</th>\n",
       "      <th>avgvar</th>\n",
       "      <th>sumvar</th>\n",
       "      <th>byvarcount</th>\n",
       "    </tr>\n",
       "  </thead>\n",
       "  <tbody>\n",
       "    <tr>\n",
       "      <th>0</th>\n",
       "      <td>Afghanistan</td>\n",
       "      <td>141.968750</td>\n",
       "      <td>22715.0</td>\n",
       "      <td>160</td>\n",
       "    </tr>\n",
       "    <tr>\n",
       "      <th>1</th>\n",
       "      <td>Albania</td>\n",
       "      <td>26.753968</td>\n",
       "      <td>3371.0</td>\n",
       "      <td>126</td>\n",
       "    </tr>\n",
       "    <tr>\n",
       "      <th>2</th>\n",
       "      <td>Algeria</td>\n",
       "      <td>94.133690</td>\n",
       "      <td>17603.0</td>\n",
       "      <td>187</td>\n",
       "    </tr>\n",
       "    <tr>\n",
       "      <th>3</th>\n",
       "      <td>Andorra</td>\n",
       "      <td>7.066116</td>\n",
       "      <td>855.0</td>\n",
       "      <td>121</td>\n",
       "    </tr>\n",
       "    <tr>\n",
       "      <th>4</th>\n",
       "      <td>Angola</td>\n",
       "      <td>4.274336</td>\n",
       "      <td>483.0</td>\n",
       "      <td>113</td>\n",
       "    </tr>\n",
       "    <tr>\n",
       "      <th>...</th>\n",
       "      <td>...</td>\n",
       "      <td>...</td>\n",
       "      <td>...</td>\n",
       "      <td>...</td>\n",
       "    </tr>\n",
       "    <tr>\n",
       "      <th>204</th>\n",
       "      <td>Vietnam</td>\n",
       "      <td>1.937173</td>\n",
       "      <td>370.0</td>\n",
       "      <td>191</td>\n",
       "    </tr>\n",
       "    <tr>\n",
       "      <th>205</th>\n",
       "      <td>Western Sahara</td>\n",
       "      <td>2.186667</td>\n",
       "      <td>164.0</td>\n",
       "      <td>75</td>\n",
       "    </tr>\n",
       "    <tr>\n",
       "      <th>206</th>\n",
       "      <td>Yemen</td>\n",
       "      <td>14.776596</td>\n",
       "      <td>1389.0</td>\n",
       "      <td>94</td>\n",
       "    </tr>\n",
       "    <tr>\n",
       "      <th>207</th>\n",
       "      <td>Zambia</td>\n",
       "      <td>11.190909</td>\n",
       "      <td>1231.0</td>\n",
       "      <td>110</td>\n",
       "    </tr>\n",
       "    <tr>\n",
       "      <th>208</th>\n",
       "      <td>Zimbabwe</td>\n",
       "      <td>8.614035</td>\n",
       "      <td>982.0</td>\n",
       "      <td>114</td>\n",
       "    </tr>\n",
       "  </tbody>\n",
       "</table>\n",
       "<p>209 rows × 4 columns</p>\n",
       "</div>"
      ],
      "text/plain": [
       "              byvar      avgvar   sumvar  byvarcount\n",
       "0       Afghanistan  141.968750  22715.0         160\n",
       "1           Albania   26.753968   3371.0         126\n",
       "2           Algeria   94.133690  17603.0         187\n",
       "3           Andorra    7.066116    855.0         121\n",
       "4            Angola    4.274336    483.0         113\n",
       "..              ...         ...      ...         ...\n",
       "204         Vietnam    1.937173    370.0         191\n",
       "205  Western Sahara    2.186667    164.0          75\n",
       "206           Yemen   14.776596   1389.0          94\n",
       "207          Zambia   11.190909   1231.0         110\n",
       "208        Zimbabwe    8.614035    982.0         114\n",
       "\n",
       "[209 rows x 4 columns]"
      ]
     },
     "execution_count": 8,
     "metadata": {},
     "output_type": "execute_result"
    }
   ],
   "source": [
    "ca.adjmeans(coviddaily, 'location', 'new_cases', 'casedate', 150)"
   ]
  },
  {
   "cell_type": "markdown",
   "id": "parental-freight",
   "metadata": {},
   "source": [
    "# Call the checkmerge function"
   ]
  },
  {
   "cell_type": "code",
   "execution_count": 10,
   "id": "declared-greece",
   "metadata": {},
   "outputs": [
    {
     "name": "stdout",
     "output_type": "stream",
     "text": [
      "inright  N      Y\n",
      "inleft           \n",
      "N        0      1\n",
      "Y        2  27472\n",
      "      countryid inleft inright\n",
      "9715         LQ      Y       N\n",
      "13103        ST      Y       N\n",
      "27474        FO      N       Y\n"
     ]
    }
   ],
   "source": [
    "# check matches of merge-by values across data frames\n",
    "\n",
    "ca.checkmerge(countries.copy(), locations.copy(), 'countryid', 'countryid')"
   ]
  },
  {
   "cell_type": "markdown",
   "id": "binding-glenn",
   "metadata": {},
   "source": [
    "# Use the addfiles function to concatenate all of the countries land temperatures files"
   ]
  },
  {
   "cell_type": "code",
   "execution_count": 13,
   "id": "lightweight-mapping",
   "metadata": {},
   "outputs": [
    {
     "name": "stdout",
     "output_type": "stream",
     "text": [
      "ltbrazil.csv has 1104 rows.\n",
      "ltcameroon.csv has 48 rows.\n",
      "ltindia.csv has 1056 rows.\n",
      "ltjapan.csv has 1800 rows.\n",
      "ltmexico.csv has 852 rows.\n",
      "ltoman.csv has 288 rows.\n",
      "\n",
      "Different column names for:\n",
      "ltoman.csv\n",
      "Index(['latabs'], dtype='object')\n",
      "\n",
      "ltpoland.csv has 120 rows.\n",
      "Columns Matched: False\n"
     ]
    },
    {
     "data": {
      "text/plain": [
       "Japan       1800\n",
       "Brazil      1104\n",
       "India       1056\n",
       "Mexico       852\n",
       "Oman         288\n",
       "Poland       120\n",
       "Cameroon      48\n",
       "Name: country, dtype: int64"
      ]
     },
     "execution_count": 13,
     "metadata": {},
     "output_type": "execute_result"
    }
   ],
   "source": [
    "# concatenate all pickle files in a folder, assuming they have the same structure\n",
    "landtemps = ca.addfiles('data/ltcountry')\n",
    "landtemps.country.value_counts()"
   ]
  },
  {
   "cell_type": "code",
   "execution_count": null,
   "id": "demographic-costume",
   "metadata": {},
   "outputs": [],
   "source": []
  }
 ],
 "metadata": {
  "kernelspec": {
   "display_name": "Python 3",
   "language": "python",
   "name": "python3"
  },
  "language_info": {
   "codemirror_mode": {
    "name": "ipython",
    "version": 3
   },
   "file_extension": ".py",
   "mimetype": "text/x-python",
   "name": "python",
   "nbconvert_exporter": "python",
   "pygments_lexer": "ipython3",
   "version": "3.7.9"
  },
  "toc": {
   "base_numbering": 1,
   "nav_menu": {},
   "number_sections": true,
   "sideBar": true,
   "skip_h1_title": false,
   "title_cell": "Table of Contents",
   "title_sidebar": "Contents",
   "toc_cell": true,
   "toc_position": {
    "height": "calc(100% - 180px)",
    "left": "10px",
    "top": "150px",
    "width": "279.273px"
   },
   "toc_section_display": true,
   "toc_window_display": false
  }
 },
 "nbformat": 4,
 "nbformat_minor": 5
}
