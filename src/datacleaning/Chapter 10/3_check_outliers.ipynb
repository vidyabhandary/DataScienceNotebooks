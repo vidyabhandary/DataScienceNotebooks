{
 "cells": [
  {
   "cell_type": "markdown",
   "id": "velvet-chambers",
   "metadata": {
    "toc": true
   },
   "source": [
    "<h1>Table of Contents<span class=\"tocSkip\"></span></h1>\n",
    "<div class=\"toc\"><ul class=\"toc-item\"><li><span><a href=\"#Import-the-pandas,-os,-sys,-and-pprint-libraries\" data-toc-modified-id=\"Import-the-pandas,-os,-sys,-and-pprint-libraries-1\"><span class=\"toc-item-num\">1&nbsp;&nbsp;</span>Import the pandas, os, sys, and pprint libraries</a></span></li><li><span><a href=\"#Pass-the-total-cases-per-million-in-population-series-to-the-getdistprops-function\" data-toc-modified-id=\"Pass-the-total-cases-per-million-in-population-series-to-the-getdistprops-function-2\"><span class=\"toc-item-num\">2&nbsp;&nbsp;</span>Pass the total cases per million in population series to the getdistprops function</a></span></li><li><span><a href=\"#Call-the-getoutlier-function\" data-toc-modified-id=\"Call-the-getoutlier-function-3\"><span class=\"toc-item-num\">3&nbsp;&nbsp;</span>Call the getoutlier function</a></span></li><li><span><a href=\"#Call-the-makeplot-function-to-create-a-histogram\" data-toc-modified-id=\"Call-the-makeplot-function-to-create-a-histogram-4\"><span class=\"toc-item-num\">4&nbsp;&nbsp;</span>Call the makeplot function to create a histogram</a></span></li></ul></div>"
   ]
  },
  {
   "cell_type": "markdown",
   "id": "gentle-coverage",
   "metadata": {},
   "source": [
    "# Import the pandas, os, sys, and pprint libraries"
   ]
  },
  {
   "cell_type": "code",
   "execution_count": 1,
   "id": "willing-organ",
   "metadata": {},
   "outputs": [],
   "source": [
    "import pandas as pd\n",
    "import os\n",
    "import sys\n",
    "import pprint"
   ]
  },
  {
   "cell_type": "code",
   "execution_count": 2,
   "id": "welsh-invitation",
   "metadata": {},
   "outputs": [
    {
     "name": "stdout",
     "output_type": "stream",
     "text": [
      "watermark: 2.1.0\n",
      "sys      : 3.7.9 (default, Aug 31 2020, 17:10:11) [MSC v.1916 64 bit (AMD64)]\n",
      "pandas   : 1.2.1\n",
      "json     : 2.0.9\n",
      "\n"
     ]
    }
   ],
   "source": [
    "import watermark\n",
    "%load_ext watermark\n",
    "\n",
    "%watermark -n -i -iv"
   ]
  },
  {
   "cell_type": "code",
   "execution_count": 3,
   "id": "combined-belize",
   "metadata": {},
   "outputs": [],
   "source": [
    "nls97 = pd.read_csv('data/nls97f.csv')\n",
    "nls97.set_index('personid', inplace=True)\n",
    "covidtotals = pd.read_csv('data/covidtotals720.csv')"
   ]
  },
  {
   "cell_type": "code",
   "execution_count": 4,
   "id": "flying-cocktail",
   "metadata": {},
   "outputs": [],
   "source": [
    "# Create a function to show some important properties of a distribution\n",
    "\n",
    "sys.path.append(os.getcwd() + \"/helperfunctions\")\n",
    "import outliers as ol\n",
    "\n",
    "pd.set_option('display.width', 72)\n",
    "pd.set_option('display.max_columns', 5)\n",
    "pd.set_option('display.max_rows', 100)"
   ]
  },
  {
   "cell_type": "code",
   "execution_count": 5,
   "id": "assured-theta",
   "metadata": {},
   "outputs": [],
   "source": [
    "# import importlib\n",
    "# importlib.reload(ol)"
   ]
  },
  {
   "cell_type": "markdown",
   "id": "invisible-province",
   "metadata": {},
   "source": [
    "# Pass the total cases per million in population series to the getdistprops function"
   ]
  },
  {
   "cell_type": "code",
   "execution_count": 6,
   "id": "composite-option",
   "metadata": {},
   "outputs": [],
   "source": [
    "dist = ol.getdistprops(covidtotals['total_cases_pm'])"
   ]
  },
  {
   "cell_type": "code",
   "execution_count": 7,
   "id": "olive-merchant",
   "metadata": {},
   "outputs": [
    {
     "name": "stdout",
     "output_type": "stream",
     "text": [
      "{'count': 209,\n",
      " 'kurtosis': 26.137524276840452,\n",
      " 'mean': 2297.02214354067,\n",
      " 'median': 868.866,\n",
      " 'normpvalue': '0.0: Reject Normal',\n",
      " 'normstat': 0.5617035627365112,\n",
      " 'skew': 4.284484653881833,\n",
      " 'std': 4039.8402026537815}\n"
     ]
    }
   ],
   "source": [
    "pprint.pprint(dist)"
   ]
  },
  {
   "cell_type": "markdown",
   "id": "qualified-investigation",
   "metadata": {},
   "source": [
    "# Call the getoutlier function"
   ]
  },
  {
   "cell_type": "code",
   "execution_count": 8,
   "id": "trained-angel",
   "metadata": {},
   "outputs": [],
   "source": [
    "# Create a function to list the outliers in a DataFrame\n",
    "\n",
    "sumvars = ['satmath', 'wageincome']\n",
    "othervars = ['originalid', 'highestdegree', 'gender', 'maritalstatus']"
   ]
  },
  {
   "cell_type": "code",
   "execution_count": 9,
   "id": "sought-liabilities",
   "metadata": {},
   "outputs": [],
   "source": [
    "outliers = ol.getoutliers(nls97, sumvars, othervars)"
   ]
  },
  {
   "cell_type": "code",
   "execution_count": 10,
   "id": "covered-server",
   "metadata": {},
   "outputs": [
    {
     "data": {
      "text/plain": [
       "wageincome    260\n",
       "satmath        10\n",
       "Name: varname, dtype: int64"
      ]
     },
     "execution_count": 10,
     "metadata": {},
     "output_type": "execute_result"
    }
   ],
   "source": [
    "outliers['varname'].value_counts(sort=False)"
   ]
  },
  {
   "cell_type": "code",
   "execution_count": 11,
   "id": "advanced-horse",
   "metadata": {},
   "outputs": [
    {
     "data": {
      "text/html": [
       "<div>\n",
       "<style scoped>\n",
       "    .dataframe tbody tr th:only-of-type {\n",
       "        vertical-align: middle;\n",
       "    }\n",
       "\n",
       "    .dataframe tbody tr th {\n",
       "        vertical-align: top;\n",
       "    }\n",
       "\n",
       "    .dataframe thead th {\n",
       "        text-align: right;\n",
       "    }\n",
       "</style>\n",
       "<table border=\"1\" class=\"dataframe\">\n",
       "  <thead>\n",
       "    <tr style=\"text-align: right;\">\n",
       "      <th></th>\n",
       "      <th>originalid</th>\n",
       "      <th>highestdegree</th>\n",
       "      <th>...</th>\n",
       "      <th>satmath</th>\n",
       "      <th>wageincome</th>\n",
       "    </tr>\n",
       "  </thead>\n",
       "  <tbody>\n",
       "    <tr>\n",
       "      <th>223058</th>\n",
       "      <td>6696</td>\n",
       "      <td>0. None</td>\n",
       "      <td>...</td>\n",
       "      <td>46.0</td>\n",
       "      <td>30000.0</td>\n",
       "    </tr>\n",
       "    <tr>\n",
       "      <th>267254</th>\n",
       "      <td>1622</td>\n",
       "      <td>2. High School</td>\n",
       "      <td>...</td>\n",
       "      <td>48.0</td>\n",
       "      <td>100000.0</td>\n",
       "    </tr>\n",
       "    <tr>\n",
       "      <th>291029</th>\n",
       "      <td>7088</td>\n",
       "      <td>2. High School</td>\n",
       "      <td>...</td>\n",
       "      <td>51.0</td>\n",
       "      <td>NaN</td>\n",
       "    </tr>\n",
       "    <tr>\n",
       "      <th>337438</th>\n",
       "      <td>159</td>\n",
       "      <td>2. High School</td>\n",
       "      <td>...</td>\n",
       "      <td>200.0</td>\n",
       "      <td>NaN</td>\n",
       "    </tr>\n",
       "    <tr>\n",
       "      <th>399109</th>\n",
       "      <td>3883</td>\n",
       "      <td>2. High School</td>\n",
       "      <td>...</td>\n",
       "      <td>36.0</td>\n",
       "      <td>NaN</td>\n",
       "    </tr>\n",
       "    <tr>\n",
       "      <th>448463</th>\n",
       "      <td>326</td>\n",
       "      <td>4. Bachelors</td>\n",
       "      <td>...</td>\n",
       "      <td>47.0</td>\n",
       "      <td>NaN</td>\n",
       "    </tr>\n",
       "    <tr>\n",
       "      <th>738290</th>\n",
       "      <td>7705</td>\n",
       "      <td>0. None</td>\n",
       "      <td>...</td>\n",
       "      <td>7.0</td>\n",
       "      <td>NaN</td>\n",
       "    </tr>\n",
       "    <tr>\n",
       "      <th>748274</th>\n",
       "      <td>3394</td>\n",
       "      <td>4. Bachelors</td>\n",
       "      <td>...</td>\n",
       "      <td>42.0</td>\n",
       "      <td>NaN</td>\n",
       "    </tr>\n",
       "    <tr>\n",
       "      <th>799095</th>\n",
       "      <td>535</td>\n",
       "      <td>5. Masters</td>\n",
       "      <td>...</td>\n",
       "      <td>59.0</td>\n",
       "      <td>120000.0</td>\n",
       "    </tr>\n",
       "    <tr>\n",
       "      <th>955430</th>\n",
       "      <td>2547</td>\n",
       "      <td>2. High School</td>\n",
       "      <td>...</td>\n",
       "      <td>200.0</td>\n",
       "      <td>NaN</td>\n",
       "    </tr>\n",
       "  </tbody>\n",
       "</table>\n",
       "<p>10 rows × 6 columns</p>\n",
       "</div>"
      ],
      "text/plain": [
       "       originalid   highestdegree  ... satmath wageincome\n",
       "223058       6696         0. None  ...    46.0    30000.0\n",
       "267254       1622  2. High School  ...    48.0   100000.0\n",
       "291029       7088  2. High School  ...    51.0        NaN\n",
       "337438        159  2. High School  ...   200.0        NaN\n",
       "399109       3883  2. High School  ...    36.0        NaN\n",
       "448463        326    4. Bachelors  ...    47.0        NaN\n",
       "738290       7705         0. None  ...     7.0        NaN\n",
       "748274       3394    4. Bachelors  ...    42.0        NaN\n",
       "799095        535      5. Masters  ...    59.0   120000.0\n",
       "955430       2547  2. High School  ...   200.0        NaN\n",
       "\n",
       "[10 rows x 6 columns]"
      ]
     },
     "execution_count": 11,
     "metadata": {},
     "output_type": "execute_result"
    }
   ],
   "source": [
    "outliers.loc[outliers['varname'] == 'satmath', othervars + sumvars]"
   ]
  },
  {
   "cell_type": "code",
   "execution_count": 12,
   "id": "mobile-boston",
   "metadata": {},
   "outputs": [],
   "source": [
    "outliers.to_excel('views/nlsoutliers.xlsx')"
   ]
  },
  {
   "cell_type": "markdown",
   "id": "premium-undergraduate",
   "metadata": {},
   "source": [
    "# Call the makeplot function to create a histogram"
   ]
  },
  {
   "cell_type": "code",
   "execution_count": 13,
   "id": "powerful-debate",
   "metadata": {},
   "outputs": [
    {
     "data": {
      "image/png": "[encoded data removed]",
      "text/plain": [
       "<Figure size 432x288 with 1 Axes>"
      ]
     },
     "metadata": {
      "needs_background": "light"
     },
     "output_type": "display_data"
    }
   ],
   "source": [
    "# Create a function to generate histograms and boxplots\n",
    "\n",
    "ol.makeplot(nls97['satmath'], 'Histogram of SAT Math', 'SAT Math')"
   ]
  },
  {
   "cell_type": "code",
   "execution_count": 14,
   "id": "supposed-fossil",
   "metadata": {},
   "outputs": [
    {
     "data": {
      "image/png": "[encoded data removed]",
      "text/plain": [
       "<Figure size 432x288 with 1 Axes>"
      ]
     },
     "metadata": {
      "needs_background": "light"
     },
     "output_type": "display_data"
    }
   ],
   "source": [
    "ol.makeplot(nls97['satmath'], 'Boxplot of SAT Math', 'SAT Math', 'box')"
   ]
  },
  {
   "cell_type": "code",
   "execution_count": null,
   "id": "expensive-nursing",
   "metadata": {},
   "outputs": [],
   "source": []
  }
 ],
 "metadata": {
  "kernelspec": {
   "display_name": "Python 3",
   "language": "python",
   "name": "python3"
  },
  "language_info": {
   "codemirror_mode": {
    "name": "ipython",
    "version": 3
   },
   "file_extension": ".py",
   "mimetype": "text/x-python",
   "name": "python",
   "nbconvert_exporter": "python",
   "pygments_lexer": "ipython3",
   "version": "3.7.9"
  },
  "toc": {
   "base_numbering": 1,
   "nav_menu": {},
   "number_sections": true,
   "sideBar": true,
   "skip_h1_title": false,
   "title_cell": "Table of Contents",
   "title_sidebar": "Contents",
   "toc_cell": true,
   "toc_position": {
    "height": "calc(100% - 180px)",
    "left": "10px",
    "top": "150px",
    "width": "279.273px"
   },
   "toc_section_display": true,
   "toc_window_display": false
  }
 },
 "nbformat": 4,
 "nbformat_minor": 5
}
