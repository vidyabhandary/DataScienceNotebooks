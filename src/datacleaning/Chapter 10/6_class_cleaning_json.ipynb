{
 "cells": [
  {
   "cell_type": "markdown",
   "id": "coated-contrary",
   "metadata": {
    "toc": true
   },
   "source": [
    "<h1>Table of Contents<span class=\"tocSkip\"></span></h1>\n",
    "<div class=\"toc\"><ul class=\"toc-item\"><li><span><a href=\"#Import-the-pandas,-json,-pprint,-and-requests-libraries\" data-toc-modified-id=\"Import-the-pandas,-json,-pprint,-and-requests-libraries-1\"><span class=\"toc-item-num\">1&nbsp;&nbsp;</span>Import the pandas, json, pprint, and requests libraries</a></span></li><li><span><a href=\"#Import-the-collectionitem-module\" data-toc-modified-id=\"Import-the-collectionitem-module-2\"><span class=\"toc-item-num\">2&nbsp;&nbsp;</span>Import the collectionitem module</a></span></li><li><span><a href=\"#Load-the-art-museum's-collections-data\" data-toc-modified-id=\"Load-the-art-museum's-collections-data-3\"><span class=\"toc-item-num\">3&nbsp;&nbsp;</span>Load the art museum's collections data</a></span></li><li><span><a href=\"#Loop-through-the-camcollections-list\" data-toc-modified-id=\"Loop-through-the-camcollections-list-4\"><span class=\"toc-item-num\">4&nbsp;&nbsp;</span>Loop through the camcollections list</a></span></li><li><span><a href=\"#Create-an-analysis-DataFrame-with-the-new-list-of-dictionaries\" data-toc-modified-id=\"Create-an-analysis-DataFrame-with-the-new-list-of-dictionaries-5\"><span class=\"toc-item-num\">5&nbsp;&nbsp;</span>Create an analysis DataFrame with the new list of dictionaries</a></span></li></ul></div>"
   ]
  },
  {
   "cell_type": "markdown",
   "id": "sharp-competition",
   "metadata": {},
   "source": [
    "# Import the pandas, json, pprint, and requests libraries"
   ]
  },
  {
   "cell_type": "code",
   "execution_count": 1,
   "id": "spanish-location",
   "metadata": {},
   "outputs": [],
   "source": [
    "import pandas as pd\n",
    "import json\n",
    "import os\n",
    "import sys\n",
    "import pprint\n",
    "import requests"
   ]
  },
  {
   "cell_type": "code",
   "execution_count": 2,
   "id": "signed-athens",
   "metadata": {},
   "outputs": [
    {
     "name": "stdout",
     "output_type": "stream",
     "text": [
      "watermark: 2.1.0\n",
      "json     : 2.0.9\n",
      "pandas   : 1.2.1\n",
      "requests : 2.25.1\n",
      "sys      : 3.7.9 (default, Aug 31 2020, 17:10:11) [MSC v.1916 64 bit (AMD64)]\n",
      "\n"
     ]
    }
   ],
   "source": [
    "import watermark\n",
    "%load_ext watermark\n",
    "\n",
    "%watermark -n -i -iv"
   ]
  },
  {
   "cell_type": "markdown",
   "id": "affecting-console",
   "metadata": {},
   "source": [
    "# Import the collectionitem module"
   ]
  },
  {
   "cell_type": "code",
   "execution_count": 3,
   "id": "appointed-privacy",
   "metadata": {},
   "outputs": [],
   "source": [
    "sys.path.append(os.getcwd() + '/helperfunctions')\n",
    "import collectionitem as ci"
   ]
  },
  {
   "cell_type": "code",
   "execution_count": 10,
   "id": "academic-ceiling",
   "metadata": {},
   "outputs": [],
   "source": [
    "# import importlib\n",
    "# importlib.reload(ci)"
   ]
  },
  {
   "cell_type": "markdown",
   "id": "ancient-champagne",
   "metadata": {},
   "source": [
    "# Load the art museum's collections data"
   ]
  },
  {
   "cell_type": "code",
   "execution_count": 4,
   "id": "three-paragraph",
   "metadata": {},
   "outputs": [],
   "source": [
    "response = requests.get(\n",
    "    'https://openaccess-api.clevelandart.org/api/artworks/?african_american_artists'\n",
    ")\n",
    "camcollections = json.loads(response.text)\n",
    "camcollections = camcollections['data']"
   ]
  },
  {
   "cell_type": "markdown",
   "id": "hourly-clearing",
   "metadata": {},
   "source": [
    "# Loop through the camcollections list"
   ]
  },
  {
   "cell_type": "code",
   "execution_count": 11,
   "id": "fitting-wings",
   "metadata": {},
   "outputs": [],
   "source": [
    "analysislist = []"
   ]
  },
  {
   "cell_type": "code",
   "execution_count": 12,
   "id": "formed-nancy",
   "metadata": {},
   "outputs": [],
   "source": [
    "for colldict in camcollections:\n",
    "    coll = ci.Collectionitem(colldict)\n",
    "    newdict = dict(id=colldict['id'],\n",
    "                   title=colldict['title'],\n",
    "                   type=colldict['type'],\n",
    "                   creationdate=colldict['creation_date'],\n",
    "                   ncreators=coll.ncreators(),\n",
    "                   ncitations=coll.ncitations(),\n",
    "                   birthyearsall=coll.birthyearsall(),\n",
    "                   birthyear=coll.birthyearcreator1())\n",
    "    analysislist.append(newdict)"
   ]
  },
  {
   "cell_type": "markdown",
   "id": "sporting-prescription",
   "metadata": {},
   "source": [
    "# Create an analysis DataFrame with the new list of dictionaries"
   ]
  },
  {
   "cell_type": "code",
   "execution_count": 6,
   "id": "fantastic-drove",
   "metadata": {},
   "outputs": [
    {
     "data": {
      "text/plain": [
       "797"
      ]
     },
     "execution_count": 6,
     "metadata": {},
     "output_type": "execute_result"
    }
   ],
   "source": [
    "len(camcollections)"
   ]
  },
  {
   "cell_type": "code",
   "execution_count": 13,
   "id": "imposed-suffering",
   "metadata": {},
   "outputs": [
    {
     "data": {
      "text/plain": [
       "797"
      ]
     },
     "execution_count": 13,
     "metadata": {},
     "output_type": "execute_result"
    }
   ],
   "source": [
    "len(analysislist)"
   ]
  },
  {
   "cell_type": "code",
   "execution_count": 14,
   "id": "velvet-cleanup",
   "metadata": {},
   "outputs": [
    {
     "name": "stdout",
     "output_type": "stream",
     "text": [
      "[{'birthyear': '1917',\n",
      "  'birthyearsall': ['1917'],\n",
      "  'creationdate': '1958',\n",
      "  'id': 165157,\n",
      "  'ncitations': 24,\n",
      "  'ncreators': 1,\n",
      "  'title': 'Fulton and Nostrand',\n",
      "  'type': 'Painting'}]\n"
     ]
    }
   ],
   "source": [
    "pprint.pprint(analysislist[0:1])"
   ]
  },
  {
   "cell_type": "code",
   "execution_count": 15,
   "id": "interstate-perception",
   "metadata": {},
   "outputs": [],
   "source": [
    "analysis = pd.DataFrame(analysislist)"
   ]
  },
  {
   "cell_type": "code",
   "execution_count": 18,
   "id": "human-national",
   "metadata": {},
   "outputs": [
    {
     "ename": "TypeError",
     "evalue": "unhashable type: 'list'",
     "output_type": "error",
     "traceback": [
      "\u001b[1;31m---------------------------------------------------------------------------\u001b[0m",
      "\u001b[1;31mTypeError\u001b[0m                                 Traceback (most recent call last)",
      "\u001b[1;32mpandas\\_libs\\hashtable_class_helper.pxi\u001b[0m in \u001b[0;36mpandas._libs.hashtable.PyObjectHashTable.map_locations\u001b[1;34m()\u001b[0m\n",
      "\u001b[1;31mTypeError\u001b[0m: unhashable type: 'list'"
     ]
    },
    {
     "name": "stderr",
     "output_type": "stream",
     "text": [
      "Exception ignored in: 'pandas._libs.index.IndexEngine._call_map_locations'\n",
      "Traceback (most recent call last):\n",
      "  File \"pandas\\_libs\\hashtable_class_helper.pxi\", line 4588, in pandas._libs.hashtable.PyObjectHashTable.map_locations\n",
      "TypeError: unhashable type: 'list'\n"
     ]
    },
    {
     "data": {
      "text/plain": [
       "[1951]          262\n",
       "[1953]          118\n",
       "[1961, None]    105\n",
       "[1886]           34\n",
       "[1935]           17\n",
       "Name: birthyearsall, dtype: int64"
      ]
     },
     "execution_count": 18,
     "metadata": {},
     "output_type": "execute_result"
    }
   ],
   "source": [
    "analysis['birthyearsall'].value_counts().head()"
   ]
  },
  {
   "cell_type": "code",
   "execution_count": 17,
   "id": "constant-decision",
   "metadata": {},
   "outputs": [
    {
     "data": {
      "text/html": [
       "<div>\n",
       "<style scoped>\n",
       "    .dataframe tbody tr th:only-of-type {\n",
       "        vertical-align: middle;\n",
       "    }\n",
       "\n",
       "    .dataframe tbody tr th {\n",
       "        vertical-align: top;\n",
       "    }\n",
       "\n",
       "    .dataframe thead th {\n",
       "        text-align: right;\n",
       "    }\n",
       "</style>\n",
       "<table border=\"1\" class=\"dataframe\">\n",
       "  <thead>\n",
       "    <tr style=\"text-align: right;\">\n",
       "      <th></th>\n",
       "      <th>id</th>\n",
       "      <th>title</th>\n",
       "      <th>type</th>\n",
       "      <th>creationdate</th>\n",
       "      <th>ncreators</th>\n",
       "      <th>ncitations</th>\n",
       "      <th>birthyearsall</th>\n",
       "      <th>birthyear</th>\n",
       "    </tr>\n",
       "  </thead>\n",
       "  <tbody>\n",
       "    <tr>\n",
       "      <th>0</th>\n",
       "      <td>165157</td>\n",
       "      <td>Fulton and Nostrand</td>\n",
       "      <td>Painting</td>\n",
       "      <td>1958</td>\n",
       "      <td>1</td>\n",
       "      <td>24</td>\n",
       "      <td>[1917]</td>\n",
       "      <td>1917</td>\n",
       "    </tr>\n",
       "    <tr>\n",
       "      <th>1</th>\n",
       "      <td>163769</td>\n",
       "      <td>Go Down Death</td>\n",
       "      <td>Painting</td>\n",
       "      <td>1934</td>\n",
       "      <td>1</td>\n",
       "      <td>17</td>\n",
       "      <td>[1899]</td>\n",
       "      <td>1899</td>\n",
       "    </tr>\n",
       "  </tbody>\n",
       "</table>\n",
       "</div>"
      ],
      "text/plain": [
       "       id                title      type creationdate  ncreators  ncitations  \\\n",
       "0  165157  Fulton and Nostrand  Painting         1958          1          24   \n",
       "1  163769        Go Down Death  Painting         1934          1          17   \n",
       "\n",
       "  birthyearsall birthyear  \n",
       "0        [1917]      1917  \n",
       "1        [1899]      1899  "
      ]
     },
     "execution_count": 17,
     "metadata": {},
     "output_type": "execute_result"
    }
   ],
   "source": [
    "analysis.head(2)"
   ]
  },
  {
   "cell_type": "code",
   "execution_count": null,
   "id": "described-capital",
   "metadata": {},
   "outputs": [],
   "source": []
  }
 ],
 "metadata": {
  "kernelspec": {
   "display_name": "Python 3",
   "language": "python",
   "name": "python3"
  },
  "language_info": {
   "codemirror_mode": {
    "name": "ipython",
    "version": 3
   },
   "file_extension": ".py",
   "mimetype": "text/x-python",
   "name": "python",
   "nbconvert_exporter": "python",
   "pygments_lexer": "ipython3",
   "version": "3.7.9"
  },
  "toc": {
   "base_numbering": 1,
   "nav_menu": {},
   "number_sections": true,
   "sideBar": true,
   "skip_h1_title": false,
   "title_cell": "Table of Contents",
   "title_sidebar": "Contents",
   "toc_cell": true,
   "toc_position": {},
   "toc_section_display": true,
   "toc_window_display": false
  }
 },
 "nbformat": 4,
 "nbformat_minor": 5
}
