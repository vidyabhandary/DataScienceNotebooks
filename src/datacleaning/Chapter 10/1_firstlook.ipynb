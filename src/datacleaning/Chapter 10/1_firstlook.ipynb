{
 "cells": [
  {
   "cell_type": "markdown",
   "id": "fancy-details",
   "metadata": {
    "toc": true
   },
   "source": [
    "<h1>Table of Contents<span class=\"tocSkip\"></span></h1>\n",
    "<div class=\"toc\"><ul class=\"toc-item\"><li><span><a href=\"#Create-a-separate-file,-firstlook.py,-to-call-the-getfirstlook-function\" data-toc-modified-id=\"Create-a-separate-file,-firstlook.py,-to-call-the-getfirstlook-function-1\"><span class=\"toc-item-num\">1&nbsp;&nbsp;</span>Create a separate file, firstlook.py, to call the getfirstlook function</a></span></li><li><span><a href=\"#Import-the-basicdescriptives-module\" data-toc-modified-id=\"Import-the-basicdescriptives-module-2\"><span class=\"toc-item-num\">2&nbsp;&nbsp;</span>Import the basicdescriptives module</a></span></li><li><span><a href=\"#Take-a-first-look-at-the-NLS-data\" data-toc-modified-id=\"Take-a-first-look-at-the-NLS-data-3\"><span class=\"toc-item-num\">3&nbsp;&nbsp;</span>Take a first look at the NLS data</a></span></li><li><span><a href=\"#Pass-values-to-the-nrows-and-uniqueids-parameters-of-getfirstlook\" data-toc-modified-id=\"Pass-values-to-the-nrows-and-uniqueids-parameters-of-getfirstlook-4\"><span class=\"toc-item-num\">4&nbsp;&nbsp;</span>Pass values to the nrows and uniqueids parameters of getfirstlook</a></span></li><li><span><a href=\"#Work-with-some-of-the-returned-dictionary-keys-and-values\" data-toc-modified-id=\"Work-with-some-of-the-returned-dictionary-keys-and-values-5\"><span class=\"toc-item-num\">5&nbsp;&nbsp;</span>Work with some of the returned dictionary keys and values</a></span></li></ul></div>"
   ]
  },
  {
   "cell_type": "markdown",
   "id": "sustained-cattle",
   "metadata": {},
   "source": [
    "# Create a separate file, firstlook.py, to call the getfirstlook function"
   ]
  },
  {
   "cell_type": "code",
   "execution_count": 1,
   "id": "offensive-newfoundland",
   "metadata": {},
   "outputs": [],
   "source": [
    "import pandas as pd\n",
    "import os\n",
    "import sys"
   ]
  },
  {
   "cell_type": "code",
   "execution_count": 2,
   "id": "finnish-lincoln",
   "metadata": {},
   "outputs": [
    {
     "name": "stdout",
     "output_type": "stream",
     "text": [
      "sys      : 3.7.9 (default, Aug 31 2020, 17:10:11) [MSC v.1916 64 bit (AMD64)]\n",
      "watermark: 2.1.0\n",
      "pandas   : 1.2.1\n",
      "json     : 2.0.9\n",
      "\n"
     ]
    }
   ],
   "source": [
    "import watermark\n",
    "%load_ext watermark\n",
    "\n",
    "%watermark -n -i -iv"
   ]
  },
  {
   "cell_type": "code",
   "execution_count": 3,
   "id": "fuzzy-animal",
   "metadata": {},
   "outputs": [],
   "source": [
    "nls97 = pd.read_csv('data/nls97f.csv')\n",
    "nls97.set_index('personid', inplace=True)"
   ]
  },
  {
   "cell_type": "markdown",
   "id": "palestinian-vienna",
   "metadata": {},
   "source": [
    "# Import the basicdescriptives module"
   ]
  },
  {
   "cell_type": "code",
   "execution_count": 4,
   "id": "animated-thanks",
   "metadata": {},
   "outputs": [],
   "source": [
    "sys.path.append(os.getcwd() + '\\helperfunctions')\n",
    "# print(sys.path)"
   ]
  },
  {
   "cell_type": "code",
   "execution_count": 5,
   "id": "silent-egypt",
   "metadata": {},
   "outputs": [],
   "source": [
    "import basicdescriptives as bd"
   ]
  },
  {
   "cell_type": "code",
   "execution_count": 6,
   "id": "macro-amino",
   "metadata": {},
   "outputs": [],
   "source": [
    "# import importlib\n",
    "# importlib.reload(bd)"
   ]
  },
  {
   "cell_type": "markdown",
   "id": "affecting-seller",
   "metadata": {},
   "source": [
    "# Take a first look at the NLS data"
   ]
  },
  {
   "cell_type": "code",
   "execution_count": 7,
   "id": "addressed-simulation",
   "metadata": {},
   "outputs": [],
   "source": [
    "dfinfo = bd.getfirstlook(nls97)"
   ]
  },
  {
   "cell_type": "code",
   "execution_count": 8,
   "id": "governmental-stocks",
   "metadata": {},
   "outputs": [
    {
     "name": "stdout",
     "output_type": "stream",
     "text": [
      "head:           gender  birthmonth  birthyear  highestgradecompleted  maritalstatus  \\\n",
      "personid                                                                        \n",
      "100061    Female           5       1980                   13.0        Married   \n",
      "100139      Male           9       1983                   12.0        Married   \n",
      "100284      Male          11       1984                    7.0  Never-married   \n",
      "100292      Male           4       1982                    NaN            NaN   \n",
      "100583      Male           1       1980                   13.0        Married   \n",
      "\n",
      "          childathome  childnotathome  wageincome        weeklyhrscomputer  \\\n",
      "personid                                                                     \n",
      "100061            4.0             0.0     12500.0  10 hours or more a week   \n",
      "100139            2.0             0.0    120000.0      1 to 3 hours a week   \n",
      "100284            1.0             0.0     58000.0                     None   \n",
      "100292            NaN             NaN         NaN                      NaN   \n",
      "100583            4.0             0.0     30000.0  Less than 1 hour a week   \n",
      "\n",
      "                    weeklyhrstv  ...      colenroct13      colenrfeb14  \\\n",
      "personid                         ...                                     \n",
      "100061    11 to 20 hours a week  ...  1. Not enrolled  1. Not enrolled   \n",
      "100139     3 to 10 hours a week  ...  1. Not enrolled  1. Not enrolled   \n",
      "100284    11 to 20 hours a week  ...  1. Not enrolled  1. Not enrolled   \n",
      "100292                      NaN  ...  1. Not enrolled  1. Not enrolled   \n",
      "100583     3 to 10 hours a week  ...  1. Not enrolled  1. Not enrolled   \n",
      "\n",
      "              colenroct14      colenrfeb15      colenroct15      colenrfeb16  \\\n",
      "personid                                                                       \n",
      "100061    1. Not enrolled  1. Not enrolled  1. Not enrolled  1. Not enrolled   \n",
      "100139    1. Not enrolled  1. Not enrolled  1. Not enrolled  1. Not enrolled   \n",
      "100284    1. Not enrolled  1. Not enrolled  1. Not enrolled  1. Not enrolled   \n",
      "100292    1. Not enrolled  1. Not enrolled  1. Not enrolled              NaN   \n",
      "100583    1. Not enrolled  1. Not enrolled  1. Not enrolled  1. Not enrolled   \n",
      "\n",
      "              colenroct16      colenrfeb17      colenroct17 originalid  \n",
      "personid                                                                \n",
      "100061    1. Not enrolled  1. Not enrolled  1. Not enrolled       8245  \n",
      "100139    1. Not enrolled  1. Not enrolled  1. Not enrolled       3962  \n",
      "100284    1. Not enrolled  1. Not enrolled  1. Not enrolled       3571  \n",
      "100292                NaN              NaN              NaN       2979  \n",
      "100583    1. Not enrolled  1. Not enrolled  1. Not enrolled       8511  \n",
      "\n",
      "[5 rows x 89 columns]\n",
      "\n",
      "dtypes: gender                    object\n",
      "birthmonth                 int64\n",
      "birthyear                  int64\n",
      "highestgradecompleted    float64\n",
      "maritalstatus             object\n",
      "                          ...   \n",
      "colenrfeb16               object\n",
      "colenroct16               object\n",
      "colenrfeb17               object\n",
      "colenroct17               object\n",
      "originalid                 int64\n",
      "Length: 89, dtype: object\n",
      "\n",
      "nrows: 8984\n",
      "\n",
      "ncols: 89\n",
      "\n",
      "index: Int64Index([100061, 100139, 100284, 100292, 100583, 100833, 100931, 101089,\n",
      "            101122, 101132,\n",
      "            ...\n",
      "            998997, 999031, 999053, 999087, 999103, 999291, 999406, 999543,\n",
      "            999698, 999963],\n",
      "           dtype='int64', name='personid', length=8984)\n"
     ]
    }
   ],
   "source": [
    "bd.displaydict(dfinfo)"
   ]
  },
  {
   "cell_type": "markdown",
   "id": "crucial-species",
   "metadata": {},
   "source": [
    "# Pass values to the nrows and uniqueids parameters of getfirstlook"
   ]
  },
  {
   "cell_type": "code",
   "execution_count": 9,
   "id": "wrong-weekly",
   "metadata": {},
   "outputs": [],
   "source": [
    "dfinfo = bd.getfirstlook(nls97, 2, 'originalid')"
   ]
  },
  {
   "cell_type": "code",
   "execution_count": 10,
   "id": "velvet-opinion",
   "metadata": {},
   "outputs": [
    {
     "name": "stdout",
     "output_type": "stream",
     "text": [
      "head:           gender  birthmonth  birthyear  highestgradecompleted maritalstatus  \\\n",
      "personid                                                                       \n",
      "100061    Female           5       1980                   13.0       Married   \n",
      "100139      Male           9       1983                   12.0       Married   \n",
      "\n",
      "          childathome  childnotathome  wageincome        weeklyhrscomputer  \\\n",
      "personid                                                                     \n",
      "100061            4.0             0.0     12500.0  10 hours or more a week   \n",
      "100139            2.0             0.0    120000.0      1 to 3 hours a week   \n",
      "\n",
      "                    weeklyhrstv  ...      colenroct13      colenrfeb14  \\\n",
      "personid                         ...                                     \n",
      "100061    11 to 20 hours a week  ...  1. Not enrolled  1. Not enrolled   \n",
      "100139     3 to 10 hours a week  ...  1. Not enrolled  1. Not enrolled   \n",
      "\n",
      "              colenroct14      colenrfeb15      colenroct15      colenrfeb16  \\\n",
      "personid                                                                       \n",
      "100061    1. Not enrolled  1. Not enrolled  1. Not enrolled  1. Not enrolled   \n",
      "100139    1. Not enrolled  1. Not enrolled  1. Not enrolled  1. Not enrolled   \n",
      "\n",
      "              colenroct16      colenrfeb17      colenroct17 originalid  \n",
      "personid                                                                \n",
      "100061    1. Not enrolled  1. Not enrolled  1. Not enrolled       8245  \n",
      "100139    1. Not enrolled  1. Not enrolled  1. Not enrolled       3962  \n",
      "\n",
      "[2 rows x 89 columns]\n",
      "\n",
      "dtypes: gender                    object\n",
      "birthmonth                 int64\n",
      "birthyear                  int64\n",
      "highestgradecompleted    float64\n",
      "maritalstatus             object\n",
      "                          ...   \n",
      "colenrfeb16               object\n",
      "colenroct16               object\n",
      "colenrfeb17               object\n",
      "colenroct17               object\n",
      "originalid                 int64\n",
      "Length: 89, dtype: object\n",
      "\n",
      "nrows: 8984\n",
      "\n",
      "ncols: 89\n",
      "\n",
      "index: Int64Index([100061, 100139, 100284, 100292, 100583, 100833, 100931, 101089,\n",
      "            101122, 101132,\n",
      "            ...\n",
      "            998997, 999031, 999053, 999087, 999103, 999291, 999406, 999543,\n",
      "            999698, 999963],\n",
      "           dtype='int64', name='personid', length=8984)\n",
      "\n",
      "uniqueids: 8984\n"
     ]
    }
   ],
   "source": [
    "bd.displaydict(dfinfo)"
   ]
  },
  {
   "cell_type": "markdown",
   "id": "unlike-nurse",
   "metadata": {},
   "source": [
    "# Work with some of the returned dictionary keys and values"
   ]
  },
  {
   "cell_type": "code",
   "execution_count": 11,
   "id": "average-profit",
   "metadata": {},
   "outputs": [
    {
     "data": {
      "text/plain": [
       "8984"
      ]
     },
     "execution_count": 11,
     "metadata": {},
     "output_type": "execute_result"
    }
   ],
   "source": [
    "dfinfo['nrows']"
   ]
  },
  {
   "cell_type": "code",
   "execution_count": 12,
   "id": "oriented-dancing",
   "metadata": {},
   "outputs": [
    {
     "data": {
      "text/plain": [
       "gender                    object\n",
       "birthmonth                 int64\n",
       "birthyear                  int64\n",
       "highestgradecompleted    float64\n",
       "maritalstatus             object\n",
       "                          ...   \n",
       "colenrfeb16               object\n",
       "colenroct16               object\n",
       "colenrfeb17               object\n",
       "colenroct17               object\n",
       "originalid                 int64\n",
       "Length: 89, dtype: object"
      ]
     },
     "execution_count": 12,
     "metadata": {},
     "output_type": "execute_result"
    }
   ],
   "source": [
    "dfinfo['dtypes']"
   ]
  },
  {
   "cell_type": "code",
   "execution_count": 13,
   "id": "disabled-enlargement",
   "metadata": {},
   "outputs": [
    {
     "data": {
      "text/plain": [
       "True"
      ]
     },
     "execution_count": 13,
     "metadata": {},
     "output_type": "execute_result"
    }
   ],
   "source": [
    "dfinfo['nrows'] == dfinfo['uniqueids']"
   ]
  },
  {
   "cell_type": "code",
   "execution_count": null,
   "id": "iraqi-sperm",
   "metadata": {},
   "outputs": [],
   "source": []
  }
 ],
 "metadata": {
  "kernelspec": {
   "display_name": "Python 3",
   "language": "python",
   "name": "python3"
  },
  "language_info": {
   "codemirror_mode": {
    "name": "ipython",
    "version": 3
   },
   "file_extension": ".py",
   "mimetype": "text/x-python",
   "name": "python",
   "nbconvert_exporter": "python",
   "pygments_lexer": "ipython3",
   "version": "3.7.9"
  },
  "toc": {
   "base_numbering": 1,
   "nav_menu": {},
   "number_sections": true,
   "sideBar": true,
   "skip_h1_title": false,
   "title_cell": "Table of Contents",
   "title_sidebar": "Contents",
   "toc_cell": true,
   "toc_position": {},
   "toc_section_display": true,
   "toc_window_display": false
  }
 },
 "nbformat": 4,
 "nbformat_minor": 5
}
