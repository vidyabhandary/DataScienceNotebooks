{
 "cells": [
  {
   "cell_type": "markdown",
   "id": "dominican-given",
   "metadata": {
    "toc": true
   },
   "source": [
    "<h1>Table of Contents<span class=\"tocSkip\"></span></h1>\n",
    "<div class=\"toc\"><ul class=\"toc-item\"><li><span><a href=\"#Import-pandas-and-numpy,-and-then-load-the-NLS-data\" data-toc-modified-id=\"Import-pandas-and-numpy,-and-then-load-the-NLS-data-1\"><span class=\"toc-item-num\">1&nbsp;&nbsp;</span>Import pandas and numpy, and then load the NLS data</a></span></li><li><span><a href=\"#Test-whether-a-pattern-exists-in-a-string\" data-toc-modified-id=\"Test-whether-a-pattern-exists-in-a-string-2\"><span class=\"toc-item-num\">2&nbsp;&nbsp;</span>Test whether a pattern exists in a string</a></span></li><li><span><a href=\"#Handle-leading-or-trailing-spaces-in-a-string\" data-toc-modified-id=\"Handle-leading-or-trailing-spaces-in-a-string-3\"><span class=\"toc-item-num\">3&nbsp;&nbsp;</span>Handle leading or trailing spaces in a string</a></span></li><li><span><a href=\"#Use-isin-to-compare-a-string-value-to-a-list-of-values\" data-toc-modified-id=\"Use-isin-to-compare-a-string-value-to-a-list-of-values-4\"><span class=\"toc-item-num\">4&nbsp;&nbsp;</span>Use isin to compare a string value to a list of values</a></span></li><li><span><a href=\"#Use-findall-to-extract-numeric-values-from-a-text-string\" data-toc-modified-id=\"Use-findall-to-extract-numeric-values-from-a-text-string-5\"><span class=\"toc-item-num\">5&nbsp;&nbsp;</span>Use findall to extract numeric values from a text string</a></span></li><li><span><a href=\"#Use-the-list-created-by-findall-to-create-a-numeric-series-from-the-weeklyhrstv-text\" data-toc-modified-id=\"Use-the-list-created-by-findall-to-create-a-numeric-series-from-the-weeklyhrstv-text-6\"><span class=\"toc-item-num\">6&nbsp;&nbsp;</span>Use the list created by findall to create a numeric series from the weeklyhrstv text</a></span></li><li><span><a href=\"#Replace-the-values-in-a-series-with-alternative-values\" data-toc-modified-id=\"Replace-the-values-in-a-series-with-alternative-values-7\"><span class=\"toc-item-num\">7&nbsp;&nbsp;</span>Replace the values in a series with alternative values</a></span></li></ul></div>"
   ]
  },
  {
   "cell_type": "markdown",
   "id": "native-mills",
   "metadata": {},
   "source": [
    "# Import pandas and numpy, and then load the NLS data"
   ]
  },
  {
   "cell_type": "code",
   "execution_count": 1,
   "id": "dress-waste",
   "metadata": {},
   "outputs": [],
   "source": [
    "import pandas as pd\n",
    "import numpy as np"
   ]
  },
  {
   "cell_type": "code",
   "execution_count": 2,
   "id": "weighted-blame",
   "metadata": {},
   "outputs": [],
   "source": [
    "# pd.set_option('display.width', 200)\n",
    "# pd.set_option('display.max_columns', 35)\n",
    "# pd.set_option('display.max_rows', 200)\n",
    "pd.options.display.float_format = '{:,.2f}'.format"
   ]
  },
  {
   "cell_type": "code",
   "execution_count": 3,
   "id": "realistic-politics",
   "metadata": {},
   "outputs": [
    {
     "name": "stdout",
     "output_type": "stream",
     "text": [
      "json     : 2.0.9\n",
      "watermark: 2.1.0\n",
      "numpy    : 1.19.2\n",
      "pandas   : 1.2.1\n",
      "\n"
     ]
    }
   ],
   "source": [
    "import watermark\n",
    "%load_ext watermark\n",
    "\n",
    "%watermark -n -i -iv"
   ]
  },
  {
   "cell_type": "code",
   "execution_count": 4,
   "id": "defensive-recorder",
   "metadata": {},
   "outputs": [],
   "source": [
    "nls97 = pd.read_csv('data/nls97c.csv')\n",
    "nls97.set_index('personid', inplace=True)"
   ]
  },
  {
   "cell_type": "markdown",
   "id": "equal-vegetable",
   "metadata": {},
   "source": [
    "# Test whether a pattern exists in a string"
   ]
  },
  {
   "cell_type": "code",
   "execution_count": 5,
   "id": "transsexual-richards",
   "metadata": {},
   "outputs": [
    {
     "data": {
      "text/plain": [
       "2. Probably          617\n",
       "3. Probably not      462\n",
       "1. Definitely        454\n",
       "4. Definitely not    300\n",
       "Name: govprovidejobs, dtype: int64"
      ]
     },
     "execution_count": 5,
     "metadata": {},
     "output_type": "execute_result"
    }
   ],
   "source": [
    "nls97['govprovidejobs'].value_counts()"
   ]
  },
  {
   "cell_type": "code",
   "execution_count": 8,
   "id": "first-kennedy",
   "metadata": {},
   "outputs": [],
   "source": [
    "nls97['govprovidejobsdefprob'] = np.where(\n",
    "    nls97['govprovidejobs'].isnull(), np.nan,\n",
    "    np.where(nls97['govprovidejobs'].str.contains('not'), 'No', 'Yes'))"
   ]
  },
  {
   "cell_type": "code",
   "execution_count": 9,
   "id": "israeli-spelling",
   "metadata": {},
   "outputs": [
    {
     "data": {
      "text/html": [
       "<div>\n",
       "<style scoped>\n",
       "    .dataframe tbody tr th:only-of-type {\n",
       "        vertical-align: middle;\n",
       "    }\n",
       "\n",
       "    .dataframe tbody tr th {\n",
       "        vertical-align: top;\n",
       "    }\n",
       "\n",
       "    .dataframe thead th {\n",
       "        text-align: right;\n",
       "    }\n",
       "</style>\n",
       "<table border=\"1\" class=\"dataframe\">\n",
       "  <thead>\n",
       "    <tr style=\"text-align: right;\">\n",
       "      <th>govprovidejobsdefprob</th>\n",
       "      <th>No</th>\n",
       "      <th>Yes</th>\n",
       "    </tr>\n",
       "    <tr>\n",
       "      <th>govprovidejobs</th>\n",
       "      <th></th>\n",
       "      <th></th>\n",
       "    </tr>\n",
       "  </thead>\n",
       "  <tbody>\n",
       "    <tr>\n",
       "      <th>1. Definitely</th>\n",
       "      <td>0</td>\n",
       "      <td>454</td>\n",
       "    </tr>\n",
       "    <tr>\n",
       "      <th>2. Probably</th>\n",
       "      <td>0</td>\n",
       "      <td>617</td>\n",
       "    </tr>\n",
       "    <tr>\n",
       "      <th>3. Probably not</th>\n",
       "      <td>462</td>\n",
       "      <td>0</td>\n",
       "    </tr>\n",
       "    <tr>\n",
       "      <th>4. Definitely not</th>\n",
       "      <td>300</td>\n",
       "      <td>0</td>\n",
       "    </tr>\n",
       "  </tbody>\n",
       "</table>\n",
       "</div>"
      ],
      "text/plain": [
       "govprovidejobsdefprob   No  Yes\n",
       "govprovidejobs                 \n",
       "1. Definitely            0  454\n",
       "2. Probably              0  617\n",
       "3. Probably not        462    0\n",
       "4. Definitely not      300    0"
      ]
     },
     "execution_count": 9,
     "metadata": {},
     "output_type": "execute_result"
    }
   ],
   "source": [
    "pd.crosstab(nls97['govprovidejobs'], nls97['govprovidejobsdefprob'])"
   ]
  },
  {
   "cell_type": "markdown",
   "id": "federal-mayor",
   "metadata": {},
   "source": [
    "# Handle leading or trailing spaces in a string"
   ]
  },
  {
   "cell_type": "code",
   "execution_count": 10,
   "id": "varied-compiler",
   "metadata": {},
   "outputs": [
    {
     "data": {
      "text/plain": [
       "Married          3064\n",
       "Never-married    2766\n",
       "Divorced          663\n",
       "Separated         154\n",
       "Widowed            23\n",
       "Married             2\n",
       "Name: maritalstatus, dtype: int64"
      ]
     },
     "execution_count": 10,
     "metadata": {},
     "output_type": "execute_result"
    }
   ],
   "source": [
    "nls97['maritalstatus'].value_counts()"
   ]
  },
  {
   "cell_type": "code",
   "execution_count": 11,
   "id": "nearby-default",
   "metadata": {},
   "outputs": [
    {
     "data": {
      "text/plain": [
       "False"
      ]
     },
     "execution_count": 11,
     "metadata": {},
     "output_type": "execute_result"
    }
   ],
   "source": [
    "nls97['maritalstatus'].str.startswith(' ').any()"
   ]
  },
  {
   "cell_type": "code",
   "execution_count": 12,
   "id": "nearby-keyboard",
   "metadata": {},
   "outputs": [
    {
     "data": {
      "text/plain": [
       "True"
      ]
     },
     "execution_count": 12,
     "metadata": {},
     "output_type": "execute_result"
    }
   ],
   "source": [
    "nls97['maritalstatus'].str.endswith(' ').any()"
   ]
  },
  {
   "cell_type": "code",
   "execution_count": 13,
   "id": "mathematical-vermont",
   "metadata": {},
   "outputs": [],
   "source": [
    "nls97['evermarried'] = np.where(\n",
    "    nls97['maritalstatus'].isnull(), np.nan,\n",
    "    np.where(nls97['maritalstatus'].str.strip() == 'Never-married', 'No',\n",
    "             'Yes'))"
   ]
  },
  {
   "cell_type": "code",
   "execution_count": 14,
   "id": "reasonable-indonesia",
   "metadata": {},
   "outputs": [
    {
     "data": {
      "text/html": [
       "<div>\n",
       "<style scoped>\n",
       "    .dataframe tbody tr th:only-of-type {\n",
       "        vertical-align: middle;\n",
       "    }\n",
       "\n",
       "    .dataframe tbody tr th {\n",
       "        vertical-align: top;\n",
       "    }\n",
       "\n",
       "    .dataframe thead th {\n",
       "        text-align: right;\n",
       "    }\n",
       "</style>\n",
       "<table border=\"1\" class=\"dataframe\">\n",
       "  <thead>\n",
       "    <tr style=\"text-align: right;\">\n",
       "      <th>evermarried</th>\n",
       "      <th>No</th>\n",
       "      <th>Yes</th>\n",
       "    </tr>\n",
       "    <tr>\n",
       "      <th>maritalstatus</th>\n",
       "      <th></th>\n",
       "      <th></th>\n",
       "    </tr>\n",
       "  </thead>\n",
       "  <tbody>\n",
       "    <tr>\n",
       "      <th>Divorced</th>\n",
       "      <td>0</td>\n",
       "      <td>663</td>\n",
       "    </tr>\n",
       "    <tr>\n",
       "      <th>Married</th>\n",
       "      <td>0</td>\n",
       "      <td>3064</td>\n",
       "    </tr>\n",
       "    <tr>\n",
       "      <th>Married</th>\n",
       "      <td>0</td>\n",
       "      <td>2</td>\n",
       "    </tr>\n",
       "    <tr>\n",
       "      <th>Never-married</th>\n",
       "      <td>2766</td>\n",
       "      <td>0</td>\n",
       "    </tr>\n",
       "    <tr>\n",
       "      <th>Separated</th>\n",
       "      <td>0</td>\n",
       "      <td>154</td>\n",
       "    </tr>\n",
       "    <tr>\n",
       "      <th>Widowed</th>\n",
       "      <td>0</td>\n",
       "      <td>23</td>\n",
       "    </tr>\n",
       "  </tbody>\n",
       "</table>\n",
       "</div>"
      ],
      "text/plain": [
       "evermarried      No   Yes\n",
       "maritalstatus            \n",
       "Divorced          0   663\n",
       "Married           0  3064\n",
       "Married           0     2\n",
       "Never-married  2766     0\n",
       "Separated         0   154\n",
       "Widowed           0    23"
      ]
     },
     "execution_count": 14,
     "metadata": {},
     "output_type": "execute_result"
    }
   ],
   "source": [
    "pd.crosstab(nls97['maritalstatus'], nls97['evermarried'])"
   ]
  },
  {
   "cell_type": "markdown",
   "id": "unlimited-nancy",
   "metadata": {},
   "source": [
    "# Use isin to compare a string value to a list of values"
   ]
  },
  {
   "cell_type": "code",
   "execution_count": 15,
   "id": "surface-cabin",
   "metadata": {},
   "outputs": [],
   "source": [
    "nls97['receivedba'] = np.where(\n",
    "    nls97['highestdegree'].isnull(), np.nan,\n",
    "    np.where(nls97['highestdegree'].str[0:1].isin(['4', '5', '6', '7']), 'Yes',\n",
    "             'No'))"
   ]
  },
  {
   "cell_type": "code",
   "execution_count": 16,
   "id": "swedish-writing",
   "metadata": {},
   "outputs": [
    {
     "data": {
      "text/html": [
       "<div>\n",
       "<style scoped>\n",
       "    .dataframe tbody tr th:only-of-type {\n",
       "        vertical-align: middle;\n",
       "    }\n",
       "\n",
       "    .dataframe tbody tr th {\n",
       "        vertical-align: top;\n",
       "    }\n",
       "\n",
       "    .dataframe thead th {\n",
       "        text-align: right;\n",
       "    }\n",
       "</style>\n",
       "<table border=\"1\" class=\"dataframe\">\n",
       "  <thead>\n",
       "    <tr style=\"text-align: right;\">\n",
       "      <th>receivedba</th>\n",
       "      <th>No</th>\n",
       "      <th>Yes</th>\n",
       "    </tr>\n",
       "    <tr>\n",
       "      <th>highestdegree</th>\n",
       "      <th></th>\n",
       "      <th></th>\n",
       "    </tr>\n",
       "  </thead>\n",
       "  <tbody>\n",
       "    <tr>\n",
       "      <th>0. None</th>\n",
       "      <td>953</td>\n",
       "      <td>0</td>\n",
       "    </tr>\n",
       "    <tr>\n",
       "      <th>1. GED</th>\n",
       "      <td>1146</td>\n",
       "      <td>0</td>\n",
       "    </tr>\n",
       "    <tr>\n",
       "      <th>2. High School</th>\n",
       "      <td>3667</td>\n",
       "      <td>0</td>\n",
       "    </tr>\n",
       "    <tr>\n",
       "      <th>3. Associates</th>\n",
       "      <td>737</td>\n",
       "      <td>0</td>\n",
       "    </tr>\n",
       "    <tr>\n",
       "      <th>4. Bachelors</th>\n",
       "      <td>0</td>\n",
       "      <td>1673</td>\n",
       "    </tr>\n",
       "    <tr>\n",
       "      <th>5. Masters</th>\n",
       "      <td>0</td>\n",
       "      <td>603</td>\n",
       "    </tr>\n",
       "    <tr>\n",
       "      <th>6. PhD</th>\n",
       "      <td>0</td>\n",
       "      <td>54</td>\n",
       "    </tr>\n",
       "    <tr>\n",
       "      <th>7. Professional</th>\n",
       "      <td>0</td>\n",
       "      <td>120</td>\n",
       "    </tr>\n",
       "  </tbody>\n",
       "</table>\n",
       "</div>"
      ],
      "text/plain": [
       "receivedba         No   Yes\n",
       "highestdegree              \n",
       "0. None           953     0\n",
       "1. GED           1146     0\n",
       "2. High School   3667     0\n",
       "3. Associates     737     0\n",
       "4. Bachelors        0  1673\n",
       "5. Masters          0   603\n",
       "6. PhD              0    54\n",
       "7. Professional     0   120"
      ]
     },
     "execution_count": 16,
     "metadata": {},
     "output_type": "execute_result"
    }
   ],
   "source": [
    "pd.crosstab(nls97['highestdegree'], nls97['receivedba'])"
   ]
  },
  {
   "cell_type": "markdown",
   "id": "blocked-sunglasses",
   "metadata": {},
   "source": [
    "# Use findall to extract numeric values from a text string"
   ]
  },
  {
   "cell_type": "code",
   "execution_count": 17,
   "id": "educated-motion",
   "metadata": {},
   "outputs": [
    {
     "data": {
      "text/html": [
       "<div>\n",
       "<style scoped>\n",
       "    .dataframe tbody tr th:only-of-type {\n",
       "        vertical-align: middle;\n",
       "    }\n",
       "\n",
       "    .dataframe tbody tr th {\n",
       "        vertical-align: top;\n",
       "    }\n",
       "\n",
       "    .dataframe thead th {\n",
       "        text-align: right;\n",
       "    }\n",
       "</style>\n",
       "<table border=\"1\" class=\"dataframe\">\n",
       "  <thead>\n",
       "    <tr style=\"text-align: right;\">\n",
       "      <th></th>\n",
       "      <th>weeklyhrstv</th>\n",
       "      <th>weeklyhrstv</th>\n",
       "    </tr>\n",
       "    <tr>\n",
       "      <th>personid</th>\n",
       "      <th></th>\n",
       "      <th></th>\n",
       "    </tr>\n",
       "  </thead>\n",
       "  <tbody>\n",
       "    <tr>\n",
       "      <th>100061</th>\n",
       "      <td>11 to 20 hours a week</td>\n",
       "      <td>[11, 20]</td>\n",
       "    </tr>\n",
       "    <tr>\n",
       "      <th>100139</th>\n",
       "      <td>3 to 10 hours a week</td>\n",
       "      <td>[3, 10]</td>\n",
       "    </tr>\n",
       "    <tr>\n",
       "      <th>100284</th>\n",
       "      <td>11 to 20 hours a week</td>\n",
       "      <td>[11, 20]</td>\n",
       "    </tr>\n",
       "    <tr>\n",
       "      <th>100292</th>\n",
       "      <td>NaN</td>\n",
       "      <td>NaN</td>\n",
       "    </tr>\n",
       "    <tr>\n",
       "      <th>100583</th>\n",
       "      <td>3 to 10 hours a week</td>\n",
       "      <td>[3, 10]</td>\n",
       "    </tr>\n",
       "  </tbody>\n",
       "</table>\n",
       "</div>"
      ],
      "text/plain": [
       "                    weeklyhrstv weeklyhrstv\n",
       "personid                                   \n",
       "100061    11 to 20 hours a week    [11, 20]\n",
       "100139     3 to 10 hours a week     [3, 10]\n",
       "100284    11 to 20 hours a week    [11, 20]\n",
       "100292                      NaN         NaN\n",
       "100583     3 to 10 hours a week     [3, 10]"
      ]
     },
     "execution_count": 17,
     "metadata": {},
     "output_type": "execute_result"
    }
   ],
   "source": [
    "pd.concat([\n",
    "    nls97['weeklyhrstv'].head(),\n",
    "    nls97['weeklyhrstv'].str.findall('\\d+').head()\n",
    "],\n",
    "          axis=1)"
   ]
  },
  {
   "cell_type": "markdown",
   "id": "medium-marks",
   "metadata": {},
   "source": [
    "# Use the list created by findall to create a numeric series from the weeklyhrstv text"
   ]
  },
  {
   "cell_type": "code",
   "execution_count": 18,
   "id": "given-mailman",
   "metadata": {},
   "outputs": [],
   "source": [
    "def getnum(numlist):\n",
    "    highval = 0\n",
    "    if (type(numlist) is list):\n",
    "        lastval = int(numlist[-1])\n",
    "        if (numlist[0] == '40'):\n",
    "            highval = 45\n",
    "        elif (lastval == 2):\n",
    "            highval = 1\n",
    "        else:\n",
    "            highval = lastval - 5\n",
    "    else:\n",
    "        highval = np.nan\n",
    "    return highval"
   ]
  },
  {
   "cell_type": "code",
   "execution_count": 19,
   "id": "initial-brooks",
   "metadata": {},
   "outputs": [],
   "source": [
    "nls97['weeklyhrstvnum'] = nls97['weeklyhrstv'].str.findall('\\d+').apply(getnum)"
   ]
  },
  {
   "cell_type": "code",
   "execution_count": 20,
   "id": "bronze-canberra",
   "metadata": {},
   "outputs": [
    {
     "data": {
      "text/html": [
       "<div>\n",
       "<style scoped>\n",
       "    .dataframe tbody tr th:only-of-type {\n",
       "        vertical-align: middle;\n",
       "    }\n",
       "\n",
       "    .dataframe tbody tr th {\n",
       "        vertical-align: top;\n",
       "    }\n",
       "\n",
       "    .dataframe thead th {\n",
       "        text-align: right;\n",
       "    }\n",
       "</style>\n",
       "<table border=\"1\" class=\"dataframe\">\n",
       "  <thead>\n",
       "    <tr style=\"text-align: right;\">\n",
       "      <th>weeklyhrstvnum</th>\n",
       "      <th>1.00</th>\n",
       "      <th>5.00</th>\n",
       "      <th>15.00</th>\n",
       "      <th>25.00</th>\n",
       "      <th>35.00</th>\n",
       "      <th>45.00</th>\n",
       "    </tr>\n",
       "    <tr>\n",
       "      <th>weeklyhrstv</th>\n",
       "      <th></th>\n",
       "      <th></th>\n",
       "      <th></th>\n",
       "      <th></th>\n",
       "      <th></th>\n",
       "      <th></th>\n",
       "    </tr>\n",
       "  </thead>\n",
       "  <tbody>\n",
       "    <tr>\n",
       "      <th>11 to 20 hours a week</th>\n",
       "      <td>0</td>\n",
       "      <td>0</td>\n",
       "      <td>1145</td>\n",
       "      <td>0</td>\n",
       "      <td>0</td>\n",
       "      <td>0</td>\n",
       "    </tr>\n",
       "    <tr>\n",
       "      <th>21 to 30 hours a week</th>\n",
       "      <td>0</td>\n",
       "      <td>0</td>\n",
       "      <td>0</td>\n",
       "      <td>299</td>\n",
       "      <td>0</td>\n",
       "      <td>0</td>\n",
       "    </tr>\n",
       "    <tr>\n",
       "      <th>3 to 10 hours a week</th>\n",
       "      <td>0</td>\n",
       "      <td>3625</td>\n",
       "      <td>0</td>\n",
       "      <td>0</td>\n",
       "      <td>0</td>\n",
       "      <td>0</td>\n",
       "    </tr>\n",
       "    <tr>\n",
       "      <th>31 to 40 hours a week</th>\n",
       "      <td>0</td>\n",
       "      <td>0</td>\n",
       "      <td>0</td>\n",
       "      <td>0</td>\n",
       "      <td>116</td>\n",
       "      <td>0</td>\n",
       "    </tr>\n",
       "    <tr>\n",
       "      <th>Less than 2 hours per week</th>\n",
       "      <td>1350</td>\n",
       "      <td>0</td>\n",
       "      <td>0</td>\n",
       "      <td>0</td>\n",
       "      <td>0</td>\n",
       "      <td>0</td>\n",
       "    </tr>\n",
       "    <tr>\n",
       "      <th>More than 40 hours a week</th>\n",
       "      <td>0</td>\n",
       "      <td>0</td>\n",
       "      <td>0</td>\n",
       "      <td>0</td>\n",
       "      <td>0</td>\n",
       "      <td>176</td>\n",
       "    </tr>\n",
       "  </tbody>\n",
       "</table>\n",
       "</div>"
      ],
      "text/plain": [
       "weeklyhrstvnum              1.00   5.00   15.00  25.00  35.00  45.00\n",
       "weeklyhrstv                                                         \n",
       "11 to 20 hours a week           0      0   1145      0      0      0\n",
       "21 to 30 hours a week           0      0      0    299      0      0\n",
       "3 to 10 hours a week            0   3625      0      0      0      0\n",
       "31 to 40 hours a week           0      0      0      0    116      0\n",
       "Less than 2 hours per week   1350      0      0      0      0      0\n",
       "More than 40 hours a week       0      0      0      0      0    176"
      ]
     },
     "execution_count": 20,
     "metadata": {},
     "output_type": "execute_result"
    }
   ],
   "source": [
    "pd.crosstab(nls97['weeklyhrstv'], nls97['weeklyhrstvnum'])"
   ]
  },
  {
   "cell_type": "markdown",
   "id": "immediate-source",
   "metadata": {},
   "source": [
    "# Replace the values in a series with alternative values"
   ]
  },
  {
   "cell_type": "code",
   "execution_count": 21,
   "id": "figured-grammar",
   "metadata": {},
   "outputs": [],
   "source": [
    "comphrsold = [\n",
    "    'None', 'Less than 1 hour a week', '1 to 3 hours a week',\n",
    "    '4 to 6 hours a week', '7 to 9 hours a week', '10 hours or more a week'\n",
    "]\n",
    "\n",
    "comphrsnew = [\n",
    "    'A. None', 'B. Less than 1 hour a week', 'C. 1 to 3 hours a week',\n",
    "    'D. 4 to 6 hours a week', 'E. 7 to 9 hours a week',\n",
    "    'F. 10 hours or more a week'\n",
    "]"
   ]
  },
  {
   "cell_type": "code",
   "execution_count": 23,
   "id": "molecular-journalism",
   "metadata": {},
   "outputs": [
    {
     "data": {
      "text/plain": [
       "1 to 3 hours a week         733\n",
       "10 hours or more a week    3669\n",
       "4 to 6 hours a week         726\n",
       "7 to 9 hours a week         368\n",
       "Less than 1 hour a week     296\n",
       "None                        918\n",
       "Name: weeklyhrscomputer, dtype: int64"
      ]
     },
     "execution_count": 23,
     "metadata": {},
     "output_type": "execute_result"
    }
   ],
   "source": [
    "nls97['weeklyhrscomputer'].value_counts().sort_index()"
   ]
  },
  {
   "cell_type": "code",
   "execution_count": 24,
   "id": "working-compact",
   "metadata": {},
   "outputs": [],
   "source": [
    "nls97['weeklyhrscomputer'].replace(comphrsold, comphrsnew, inplace=True)"
   ]
  },
  {
   "cell_type": "code",
   "execution_count": 25,
   "id": "occupied-brave",
   "metadata": {},
   "outputs": [
    {
     "data": {
      "text/plain": [
       "A. None                        918\n",
       "B. Less than 1 hour a week     296\n",
       "C. 1 to 3 hours a week         733\n",
       "D. 4 to 6 hours a week         726\n",
       "E. 7 to 9 hours a week         368\n",
       "F. 10 hours or more a week    3669\n",
       "Name: weeklyhrscomputer, dtype: int64"
      ]
     },
     "execution_count": 25,
     "metadata": {},
     "output_type": "execute_result"
    }
   ],
   "source": [
    "nls97['weeklyhrscomputer'].value_counts().sort_index()"
   ]
  },
  {
   "cell_type": "code",
   "execution_count": null,
   "id": "subject-canvas",
   "metadata": {},
   "outputs": [],
   "source": []
  }
 ],
 "metadata": {
  "kernelspec": {
   "display_name": "Python 3",
   "language": "python",
   "name": "python3"
  },
  "language_info": {
   "codemirror_mode": {
    "name": "ipython",
    "version": 3
   },
   "file_extension": ".py",
   "mimetype": "text/x-python",
   "name": "python",
   "nbconvert_exporter": "python",
   "pygments_lexer": "ipython3",
   "version": "3.7.9"
  },
  "toc": {
   "base_numbering": 1,
   "nav_menu": {},
   "number_sections": true,
   "sideBar": true,
   "skip_h1_title": false,
   "title_cell": "Table of Contents",
   "title_sidebar": "Contents",
   "toc_cell": true,
   "toc_position": {},
   "toc_section_display": true,
   "toc_window_display": false
  }
 },
 "nbformat": 4,
 "nbformat_minor": 5
}
