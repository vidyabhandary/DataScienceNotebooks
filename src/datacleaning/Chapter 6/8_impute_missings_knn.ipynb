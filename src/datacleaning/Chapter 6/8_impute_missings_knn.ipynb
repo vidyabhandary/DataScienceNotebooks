{
 "cells": [
  {
   "cell_type": "markdown",
   "id": "peaceful-juice",
   "metadata": {
    "toc": true
   },
   "source": [
    "<h1>Table of Contents<span class=\"tocSkip\"></span></h1>\n",
    "<div class=\"toc\"><ul class=\"toc-item\"><li><span><a href=\"#Import-pandas-and-scikit-learn's-KNNImputer-module,-and-then-load-the-NLS-data:\" data-toc-modified-id=\"Import-pandas-and-scikit-learn's-KNNImputer-module,-and-then-load-the-NLS-data:-1\"><span class=\"toc-item-num\">1&nbsp;&nbsp;</span>Import pandas and scikit-learn's KNNImputer module, and then load the NLS data:</a></span></li><li><span><a href=\"#Select-the-NLS-school-record-data\" data-toc-modified-id=\"Select-the-NLS-school-record-data-2\"><span class=\"toc-item-num\">2&nbsp;&nbsp;</span>Select the NLS school record data</a></span></li><li><span><a href=\"#Initialize-a-KNN-imputation-model-and-fill-in-the-values\" data-toc-modified-id=\"Initialize-a-KNN-imputation-model-and-fill-in-the-values-3\"><span class=\"toc-item-num\">3&nbsp;&nbsp;</span>Initialize a KNN imputation model and fill in the values</a></span></li><li><span><a href=\"#View-the-imputed-values\" data-toc-modified-id=\"View-the-imputed-values-4\"><span class=\"toc-item-num\">4&nbsp;&nbsp;</span>View the imputed values</a></span></li><li><span><a href=\"#Compare-the-summary-statistics\" data-toc-modified-id=\"Compare-the-summary-statistics-5\"><span class=\"toc-item-num\">5&nbsp;&nbsp;</span>Compare the summary statistics</a></span></li></ul></div>"
   ]
  },
  {
   "cell_type": "markdown",
   "id": "complete-tradition",
   "metadata": {},
   "source": [
    "# Import pandas and scikit-learn's KNNImputer module, and then load the NLS data:"
   ]
  },
  {
   "cell_type": "code",
   "execution_count": 1,
   "id": "compatible-series",
   "metadata": {},
   "outputs": [],
   "source": [
    "import pandas as pd\n",
    "from sklearn.impute import KNNImputer"
   ]
  },
  {
   "cell_type": "code",
   "execution_count": 2,
   "id": "loaded-typing",
   "metadata": {},
   "outputs": [],
   "source": [
    "# pd.options.display.float_format = '{:,.1f}'.format"
   ]
  },
  {
   "cell_type": "code",
   "execution_count": 3,
   "id": "injured-blanket",
   "metadata": {},
   "outputs": [
    {
     "name": "stdout",
     "output_type": "stream",
     "text": [
      "pandas   : 1.2.1\n",
      "json     : 2.0.9\n",
      "watermark: 2.1.0\n",
      "\n"
     ]
    }
   ],
   "source": [
    "import watermark\n",
    "%load_ext watermark\n",
    "\n",
    "%watermark -n -i -iv"
   ]
  },
  {
   "cell_type": "code",
   "execution_count": 4,
   "id": "progressive-birth",
   "metadata": {},
   "outputs": [],
   "source": [
    "nls97 = pd.read_csv('data/nls97c.csv')\n",
    "nls97.set_index('personid', inplace=True)"
   ]
  },
  {
   "cell_type": "markdown",
   "id": "involved-documentation",
   "metadata": {},
   "source": [
    "# Select the NLS school record data"
   ]
  },
  {
   "cell_type": "code",
   "execution_count": 8,
   "id": "freelance-variable",
   "metadata": {},
   "outputs": [],
   "source": [
    "schoolrecordlist = [\n",
    "    'satverbal', 'satmath', 'gpaoverall', 'gpaenglish', 'gpamath',\n",
    "    'gpascience', 'highestgradecompleted'\n",
    "]"
   ]
  },
  {
   "cell_type": "code",
   "execution_count": 9,
   "id": "foster-today",
   "metadata": {},
   "outputs": [],
   "source": [
    "schoolrecord = nls97[schoolrecordlist]"
   ]
  },
  {
   "cell_type": "markdown",
   "id": "located-contents",
   "metadata": {},
   "source": [
    "# Initialize a KNN imputation model and fill in the values"
   ]
  },
  {
   "cell_type": "code",
   "execution_count": 10,
   "id": "august-corner",
   "metadata": {},
   "outputs": [],
   "source": [
    "impKNN = KNNImputer(n_neighbors=5)\n",
    "newvalues = impKNN.fit_transform(schoolrecord)"
   ]
  },
  {
   "cell_type": "code",
   "execution_count": 11,
   "id": "employed-cambridge",
   "metadata": {},
   "outputs": [],
   "source": [
    "schoolrecordimp = pd.DataFrame(newvalues,\n",
    "                               columns=schoolrecordlist,\n",
    "                               index=schoolrecord.index)"
   ]
  },
  {
   "cell_type": "markdown",
   "id": "failing-nylon",
   "metadata": {},
   "source": [
    "# View the imputed values"
   ]
  },
  {
   "cell_type": "code",
   "execution_count": 12,
   "id": "circular-soviet",
   "metadata": {},
   "outputs": [
    {
     "data": {
      "text/html": [
       "<div>\n",
       "<style scoped>\n",
       "    .dataframe tbody tr th:only-of-type {\n",
       "        vertical-align: middle;\n",
       "    }\n",
       "\n",
       "    .dataframe tbody tr th {\n",
       "        vertical-align: top;\n",
       "    }\n",
       "\n",
       "    .dataframe thead th {\n",
       "        text-align: right;\n",
       "    }\n",
       "</style>\n",
       "<table border=\"1\" class=\"dataframe\">\n",
       "  <thead>\n",
       "    <tr style=\"text-align: right;\">\n",
       "      <th>personid</th>\n",
       "      <th>100061</th>\n",
       "      <th>100139</th>\n",
       "      <th>100284</th>\n",
       "      <th>100292</th>\n",
       "      <th>100583</th>\n",
       "    </tr>\n",
       "  </thead>\n",
       "  <tbody>\n",
       "    <tr>\n",
       "      <th>satverbal</th>\n",
       "      <td>NaN</td>\n",
       "      <td>NaN</td>\n",
       "      <td>NaN</td>\n",
       "      <td>NaN</td>\n",
       "      <td>NaN</td>\n",
       "    </tr>\n",
       "    <tr>\n",
       "      <th>satmath</th>\n",
       "      <td>NaN</td>\n",
       "      <td>NaN</td>\n",
       "      <td>NaN</td>\n",
       "      <td>NaN</td>\n",
       "      <td>NaN</td>\n",
       "    </tr>\n",
       "    <tr>\n",
       "      <th>gpaoverall</th>\n",
       "      <td>3.06</td>\n",
       "      <td>NaN</td>\n",
       "      <td>NaN</td>\n",
       "      <td>3.45</td>\n",
       "      <td>2.91</td>\n",
       "    </tr>\n",
       "    <tr>\n",
       "      <th>gpaenglish</th>\n",
       "      <td>350.00</td>\n",
       "      <td>NaN</td>\n",
       "      <td>NaN</td>\n",
       "      <td>345.00</td>\n",
       "      <td>283.00</td>\n",
       "    </tr>\n",
       "    <tr>\n",
       "      <th>gpamath</th>\n",
       "      <td>280.00</td>\n",
       "      <td>NaN</td>\n",
       "      <td>NaN</td>\n",
       "      <td>370.00</td>\n",
       "      <td>285.00</td>\n",
       "    </tr>\n",
       "    <tr>\n",
       "      <th>gpascience</th>\n",
       "      <td>315.00</td>\n",
       "      <td>NaN</td>\n",
       "      <td>NaN</td>\n",
       "      <td>300.00</td>\n",
       "      <td>240.00</td>\n",
       "    </tr>\n",
       "    <tr>\n",
       "      <th>highestgradecompleted</th>\n",
       "      <td>13.00</td>\n",
       "      <td>12.0</td>\n",
       "      <td>7.0</td>\n",
       "      <td>NaN</td>\n",
       "      <td>13.00</td>\n",
       "    </tr>\n",
       "  </tbody>\n",
       "</table>\n",
       "</div>"
      ],
      "text/plain": [
       "personid               100061  100139  100284  100292  100583\n",
       "satverbal                 NaN     NaN     NaN     NaN     NaN\n",
       "satmath                   NaN     NaN     NaN     NaN     NaN\n",
       "gpaoverall               3.06     NaN     NaN    3.45    2.91\n",
       "gpaenglish             350.00     NaN     NaN  345.00  283.00\n",
       "gpamath                280.00     NaN     NaN  370.00  285.00\n",
       "gpascience             315.00     NaN     NaN  300.00  240.00\n",
       "highestgradecompleted   13.00    12.0     7.0     NaN   13.00"
      ]
     },
     "execution_count": 12,
     "metadata": {},
     "output_type": "execute_result"
    }
   ],
   "source": [
    "schoolrecord.head().T"
   ]
  },
  {
   "cell_type": "code",
   "execution_count": 13,
   "id": "gorgeous-witch",
   "metadata": {},
   "outputs": [
    {
     "data": {
      "text/html": [
       "<div>\n",
       "<style scoped>\n",
       "    .dataframe tbody tr th:only-of-type {\n",
       "        vertical-align: middle;\n",
       "    }\n",
       "\n",
       "    .dataframe tbody tr th {\n",
       "        vertical-align: top;\n",
       "    }\n",
       "\n",
       "    .dataframe thead th {\n",
       "        text-align: right;\n",
       "    }\n",
       "</style>\n",
       "<table border=\"1\" class=\"dataframe\">\n",
       "  <thead>\n",
       "    <tr style=\"text-align: right;\">\n",
       "      <th>personid</th>\n",
       "      <th>100061</th>\n",
       "      <th>100139</th>\n",
       "      <th>100284</th>\n",
       "      <th>100292</th>\n",
       "      <th>100583</th>\n",
       "    </tr>\n",
       "  </thead>\n",
       "  <tbody>\n",
       "    <tr>\n",
       "      <th>satverbal</th>\n",
       "      <td>446.00</td>\n",
       "      <td>412.000</td>\n",
       "      <td>290.800</td>\n",
       "      <td>534.00</td>\n",
       "      <td>414.00</td>\n",
       "    </tr>\n",
       "    <tr>\n",
       "      <th>satmath</th>\n",
       "      <td>460.00</td>\n",
       "      <td>470.000</td>\n",
       "      <td>285.200</td>\n",
       "      <td>560.00</td>\n",
       "      <td>454.00</td>\n",
       "    </tr>\n",
       "    <tr>\n",
       "      <th>gpaoverall</th>\n",
       "      <td>3.06</td>\n",
       "      <td>2.346</td>\n",
       "      <td>2.548</td>\n",
       "      <td>3.45</td>\n",
       "      <td>2.91</td>\n",
       "    </tr>\n",
       "    <tr>\n",
       "      <th>gpaenglish</th>\n",
       "      <td>350.00</td>\n",
       "      <td>232.400</td>\n",
       "      <td>136.000</td>\n",
       "      <td>345.00</td>\n",
       "      <td>283.00</td>\n",
       "    </tr>\n",
       "    <tr>\n",
       "      <th>gpamath</th>\n",
       "      <td>280.00</td>\n",
       "      <td>218.000</td>\n",
       "      <td>244.600</td>\n",
       "      <td>370.00</td>\n",
       "      <td>285.00</td>\n",
       "    </tr>\n",
       "    <tr>\n",
       "      <th>gpascience</th>\n",
       "      <td>315.00</td>\n",
       "      <td>247.800</td>\n",
       "      <td>258.000</td>\n",
       "      <td>300.00</td>\n",
       "      <td>240.00</td>\n",
       "    </tr>\n",
       "    <tr>\n",
       "      <th>highestgradecompleted</th>\n",
       "      <td>13.00</td>\n",
       "      <td>12.000</td>\n",
       "      <td>7.000</td>\n",
       "      <td>9.80</td>\n",
       "      <td>13.00</td>\n",
       "    </tr>\n",
       "  </tbody>\n",
       "</table>\n",
       "</div>"
      ],
      "text/plain": [
       "personid               100061   100139   100284  100292  100583\n",
       "satverbal              446.00  412.000  290.800  534.00  414.00\n",
       "satmath                460.00  470.000  285.200  560.00  454.00\n",
       "gpaoverall               3.06    2.346    2.548    3.45    2.91\n",
       "gpaenglish             350.00  232.400  136.000  345.00  283.00\n",
       "gpamath                280.00  218.000  244.600  370.00  285.00\n",
       "gpascience             315.00  247.800  258.000  300.00  240.00\n",
       "highestgradecompleted   13.00   12.000    7.000    9.80   13.00"
      ]
     },
     "execution_count": 13,
     "metadata": {},
     "output_type": "execute_result"
    }
   ],
   "source": [
    "schoolrecordimp.head().T"
   ]
  },
  {
   "cell_type": "markdown",
   "id": "defensive-credits",
   "metadata": {},
   "source": [
    "# Compare the summary statistics"
   ]
  },
  {
   "cell_type": "code",
   "execution_count": 14,
   "id": "fixed-prince",
   "metadata": {},
   "outputs": [
    {
     "data": {
      "text/html": [
       "<div>\n",
       "<style scoped>\n",
       "    .dataframe tbody tr th:only-of-type {\n",
       "        vertical-align: middle;\n",
       "    }\n",
       "\n",
       "    .dataframe tbody tr th {\n",
       "        vertical-align: top;\n",
       "    }\n",
       "\n",
       "    .dataframe thead th {\n",
       "        text-align: right;\n",
       "    }\n",
       "</style>\n",
       "<table border=\"1\" class=\"dataframe\">\n",
       "  <thead>\n",
       "    <tr style=\"text-align: right;\">\n",
       "      <th></th>\n",
       "      <th>gpaoverall</th>\n",
       "      <th>highestgradecompleted</th>\n",
       "    </tr>\n",
       "  </thead>\n",
       "  <tbody>\n",
       "    <tr>\n",
       "      <th>mean</th>\n",
       "      <td>2.818408</td>\n",
       "      <td>14.059883</td>\n",
       "    </tr>\n",
       "    <tr>\n",
       "      <th>count</th>\n",
       "      <td>6004.000000</td>\n",
       "      <td>6663.000000</td>\n",
       "    </tr>\n",
       "  </tbody>\n",
       "</table>\n",
       "</div>"
      ],
      "text/plain": [
       "        gpaoverall  highestgradecompleted\n",
       "mean      2.818408              14.059883\n",
       "count  6004.000000            6663.000000"
      ]
     },
     "execution_count": 14,
     "metadata": {},
     "output_type": "execute_result"
    }
   ],
   "source": [
    "schoolrecord[['gpaoverall', 'highestgradecompleted']].agg(['mean', 'count'])"
   ]
  },
  {
   "cell_type": "code",
   "execution_count": 15,
   "id": "supreme-watson",
   "metadata": {},
   "outputs": [
    {
     "data": {
      "text/html": [
       "<div>\n",
       "<style scoped>\n",
       "    .dataframe tbody tr th:only-of-type {\n",
       "        vertical-align: middle;\n",
       "    }\n",
       "\n",
       "    .dataframe tbody tr th {\n",
       "        vertical-align: top;\n",
       "    }\n",
       "\n",
       "    .dataframe thead th {\n",
       "        text-align: right;\n",
       "    }\n",
       "</style>\n",
       "<table border=\"1\" class=\"dataframe\">\n",
       "  <thead>\n",
       "    <tr style=\"text-align: right;\">\n",
       "      <th></th>\n",
       "      <th>gpaoverall</th>\n",
       "      <th>highestgradecompleted</th>\n",
       "    </tr>\n",
       "  </thead>\n",
       "  <tbody>\n",
       "    <tr>\n",
       "      <th>mean</th>\n",
       "      <td>2.77526</td>\n",
       "      <td>13.505609</td>\n",
       "    </tr>\n",
       "    <tr>\n",
       "      <th>count</th>\n",
       "      <td>8984.00000</td>\n",
       "      <td>8984.000000</td>\n",
       "    </tr>\n",
       "  </tbody>\n",
       "</table>\n",
       "</div>"
      ],
      "text/plain": [
       "       gpaoverall  highestgradecompleted\n",
       "mean      2.77526              13.505609\n",
       "count  8984.00000            8984.000000"
      ]
     },
     "execution_count": 15,
     "metadata": {},
     "output_type": "execute_result"
    }
   ],
   "source": [
    "schoolrecordimp[['gpaoverall', 'highestgradecompleted']].agg(['mean', 'count'])"
   ]
  },
  {
   "cell_type": "code",
   "execution_count": null,
   "id": "regional-macro",
   "metadata": {},
   "outputs": [],
   "source": []
  }
 ],
 "metadata": {
  "kernelspec": {
   "display_name": "Python 3",
   "language": "python",
   "name": "python3"
  },
  "language_info": {
   "codemirror_mode": {
    "name": "ipython",
    "version": 3
   },
   "file_extension": ".py",
   "mimetype": "text/x-python",
   "name": "python",
   "nbconvert_exporter": "python",
   "pygments_lexer": "ipython3",
   "version": "3.7.9"
  },
  "toc": {
   "base_numbering": 1,
   "nav_menu": {},
   "number_sections": true,
   "sideBar": true,
   "skip_h1_title": false,
   "title_cell": "Table of Contents",
   "title_sidebar": "Contents",
   "toc_cell": true,
   "toc_position": {},
   "toc_section_display": true,
   "toc_window_display": false
  }
 },
 "nbformat": 4,
 "nbformat_minor": 5
}
