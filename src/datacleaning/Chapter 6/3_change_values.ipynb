{
 "cells": [
  {
   "cell_type": "markdown",
   "id": "indonesian-utilization",
   "metadata": {
    "toc": true
   },
   "source": [
    "<h1>Table of Contents<span class=\"tocSkip\"></span></h1>\n",
    "<div class=\"toc\"><ul class=\"toc-item\"><li><span><a href=\"#Import-pandas-and-load-the-NLS-data\" data-toc-modified-id=\"Import-pandas-and-load-the-NLS-data-1\"><span class=\"toc-item-num\">1&nbsp;&nbsp;</span>Import pandas and load the NLS data</a></span></li><li><span><a href=\"#Edit-all-the-values-based-on-a-scalar\" data-toc-modified-id=\"Edit-all-the-values-based-on-a-scalar-2\"><span class=\"toc-item-num\">2&nbsp;&nbsp;</span>Edit all the values based on a scalar</a></span></li><li><span><a href=\"#Set-values-using-index-labels\" data-toc-modified-id=\"Set-values-using-index-labels-3\"><span class=\"toc-item-num\">3&nbsp;&nbsp;</span>Set values using index labels</a></span></li><li><span><a href=\"#Set-values-using-an-operator-on-more-than-one-series\" data-toc-modified-id=\"Set-values-using-an-operator-on-more-than-one-series-4\"><span class=\"toc-item-num\">4&nbsp;&nbsp;</span>Set values using an operator on more than one series</a></span></li><li><span><a href=\"#Set-the-values-for-a-summary-statistic-using-index-labels\" data-toc-modified-id=\"Set-the-values-for-a-summary-statistic-using-index-labels-5\"><span class=\"toc-item-num\">5&nbsp;&nbsp;</span>Set the values for a summary statistic using index labels</a></span></li><li><span><a href=\"#Set-the-values-using-position\" data-toc-modified-id=\"Set-the-values-using-position-6\"><span class=\"toc-item-num\">6&nbsp;&nbsp;</span>Set the values using position</a></span></li><li><span><a href=\"#Set-the-GPA-values-after-filtering\" data-toc-modified-id=\"Set-the-GPA-values-after-filtering-7\"><span class=\"toc-item-num\">7&nbsp;&nbsp;</span>Set the GPA values after filtering</a></span></li></ul></div>"
   ]
  },
  {
   "cell_type": "markdown",
   "id": "remarkable-stretch",
   "metadata": {},
   "source": [
    "# Import pandas and load the NLS data"
   ]
  },
  {
   "cell_type": "code",
   "execution_count": 1,
   "id": "meaningful-phenomenon",
   "metadata": {},
   "outputs": [],
   "source": [
    "import pandas as pd"
   ]
  },
  {
   "cell_type": "code",
   "execution_count": 3,
   "id": "rapid-mixer",
   "metadata": {},
   "outputs": [],
   "source": [
    "# pd.set_option('display.width', 200)\n",
    "# pd.set_option('display.max_columns', 35)\n",
    "# pd.set_option('display.max_rows', 200)\n",
    "pd.options.display.float_format = '{:,.2f}'.format"
   ]
  },
  {
   "cell_type": "code",
   "execution_count": 4,
   "id": "satellite-saskatchewan",
   "metadata": {},
   "outputs": [
    {
     "name": "stdout",
     "output_type": "stream",
     "text": [
      "watermark: 2.1.0\n",
      "json     : 2.0.9\n",
      "pandas   : 1.2.1\n",
      "\n"
     ]
    }
   ],
   "source": [
    "import watermark\n",
    "%load_ext watermark\n",
    "\n",
    "%watermark -n -i -iv"
   ]
  },
  {
   "cell_type": "code",
   "execution_count": 5,
   "id": "pediatric-harbor",
   "metadata": {},
   "outputs": [],
   "source": [
    "nls97 = pd.read_csv('data/nls97b.csv')\n",
    "nls97.set_index('personid', inplace=True)"
   ]
  },
  {
   "cell_type": "markdown",
   "id": "swiss-reason",
   "metadata": {},
   "source": [
    "# Edit all the values based on a scalar"
   ]
  },
  {
   "cell_type": "code",
   "execution_count": 7,
   "id": "sudden-popularity",
   "metadata": {},
   "outputs": [
    {
     "data": {
      "text/plain": [
       "personid\n",
       "100061   3.06\n",
       "100139    NaN\n",
       "100284    NaN\n",
       "100292   3.45\n",
       "100583   2.91\n",
       "Name: gpaoverall, dtype: float64"
      ]
     },
     "execution_count": 7,
     "metadata": {},
     "output_type": "execute_result"
    }
   ],
   "source": [
    "nls97['gpaoverall'].head()"
   ]
  },
  {
   "cell_type": "code",
   "execution_count": 9,
   "id": "thorough-maximum",
   "metadata": {},
   "outputs": [
    {
     "data": {
      "text/plain": [
       "personid\n",
       "100061   306.00\n",
       "100139      NaN\n",
       "100284      NaN\n",
       "100292   345.00\n",
       "100583   291.00\n",
       "Name: gpaoverall, dtype: float64"
      ]
     },
     "execution_count": 9,
     "metadata": {},
     "output_type": "execute_result"
    }
   ],
   "source": [
    "gpaoverall100 = nls97['gpaoverall'] * 100\n",
    "gpaoverall100.head()"
   ]
  },
  {
   "cell_type": "markdown",
   "id": "promotional-coordinator",
   "metadata": {},
   "source": [
    "# Set values using index labels"
   ]
  },
  {
   "cell_type": "code",
   "execution_count": 11,
   "id": "balanced-summer",
   "metadata": {},
   "outputs": [
    {
     "data": {
      "text/plain": [
       "personid\n",
       "100061   3.00\n",
       "100139   0.00\n",
       "100284   0.00\n",
       "100292   0.00\n",
       "100583   2.91\n",
       "Name: gpaoverall, dtype: float64"
      ]
     },
     "execution_count": 11,
     "metadata": {},
     "output_type": "execute_result"
    }
   ],
   "source": [
    "# Warning us about setting values on a copy of a DataFrame. nls97.gpaoverall.loc[[100061]] = 3\n",
    "# triggers that warning, while - nls97.loc[[100061], 'gpaoverall'] = 3 does not\n",
    "\n",
    "nls97.loc[[100061], 'gpaoverall'] = 3\n",
    "nls97.loc[[100139, 100284, 100292], 'gpaoverall'] = 0\n",
    "nls97['gpaoverall'].head()"
   ]
  },
  {
   "cell_type": "markdown",
   "id": "weekly-palestine",
   "metadata": {},
   "source": [
    "# Set values using an operator on more than one series"
   ]
  },
  {
   "cell_type": "code",
   "execution_count": 14,
   "id": "electric-personal",
   "metadata": {},
   "outputs": [
    {
     "data": {
      "text/plain": [
       "0.00       23\n",
       "1.00     1364\n",
       "2.00     1729\n",
       "3.00     1020\n",
       "4.00      420\n",
       "5.00      149\n",
       "6.00       55\n",
       "7.00       21\n",
       "8.00        7\n",
       "9.00        1\n",
       "12.00       2\n",
       "Name: childnum, dtype: int64"
      ]
     },
     "execution_count": 14,
     "metadata": {},
     "output_type": "execute_result"
    }
   ],
   "source": [
    "nls97['childnum'] = nls97['childathome'] + nls97['childnotathome']\n",
    "nls97['childnum'].value_counts().sort_index()"
   ]
  },
  {
   "cell_type": "markdown",
   "id": "armed-night",
   "metadata": {},
   "source": [
    "# Set the values for a summary statistic using index labels"
   ]
  },
  {
   "cell_type": "code",
   "execution_count": 16,
   "id": "naked-scout",
   "metadata": {},
   "outputs": [
    {
     "data": {
      "text/plain": [
       "personid\n",
       "100061   2.82\n",
       "100139   2.82\n",
       "100284   2.82\n",
       "100292   2.82\n",
       "100583   2.91\n",
       "Name: gpaoverall, dtype: float64"
      ]
     },
     "execution_count": 16,
     "metadata": {},
     "output_type": "execute_result"
    }
   ],
   "source": [
    "nls97.loc[100061:100292, 'gpaoverall'] = nls97['gpaoverall'].mean()\n",
    "nls97['gpaoverall'].head()"
   ]
  },
  {
   "cell_type": "markdown",
   "id": "whole-level",
   "metadata": {},
   "source": [
    "# Set the values using position"
   ]
  },
  {
   "cell_type": "code",
   "execution_count": 21,
   "id": "simple-particle",
   "metadata": {
    "scrolled": true
   },
   "outputs": [
    {
     "name": "stdout",
     "output_type": "stream",
     "text": [
      "<class 'pandas.core.frame.DataFrame'>\n",
      "Int64Index: 8984 entries, 100061 to 999963\n",
      "Data columns (total 89 columns):\n",
      " #   Column                 Non-Null Count  Dtype  \n",
      "---  ------                 --------------  -----  \n",
      " 0   gender                 8984 non-null   object \n",
      " 1   birthmonth             8984 non-null   int64  \n",
      " 2   birthyear              8984 non-null   int64  \n",
      " 3   highestgradecompleted  6663 non-null   float64\n",
      " 4   maritalstatus          6672 non-null   object \n",
      " 5   childathome            4791 non-null   float64\n",
      " 6   childnotathome         4791 non-null   float64\n",
      " 7   wageincome             5091 non-null   float64\n",
      " 8   weeklyhrscomputer      6710 non-null   object \n",
      " 9   weeklyhrstv            6711 non-null   object \n",
      " 10  nightlyhrssleep        6706 non-null   float64\n",
      " 11  satverbal              1406 non-null   float64\n",
      " 12  satmath                1407 non-null   float64\n",
      " 13  gpaoverall             6006 non-null   float64\n",
      " 14  gpaenglish             5798 non-null   float64\n",
      " 15  gpamath                5766 non-null   float64\n",
      " 16  gpascience             5684 non-null   float64\n",
      " 17  highestdegree          8953 non-null   object \n",
      " 18  govprovidejobs         1833 non-null   object \n",
      " 19  govpricecontrols       1859 non-null   object \n",
      " 20  govhealthcare          1874 non-null   object \n",
      " 21  govelderliving         1872 non-null   object \n",
      " 22  govindhelp             1815 non-null   object \n",
      " 23  govunemp               1811 non-null   object \n",
      " 24  govincomediff          1775 non-null   object \n",
      " 25  govcollegefinance      1875 non-null   object \n",
      " 26  govdecenthousing       1847 non-null   object \n",
      " 27  govprotectenvironment  1860 non-null   object \n",
      " 28  weeksworked00          8603 non-null   float64\n",
      " 29  weeksworked01          8564 non-null   float64\n",
      " 30  weeksworked02          8556 non-null   float64\n",
      " 31  weeksworked03          8490 non-null   float64\n",
      " 32  weeksworked04          8458 non-null   float64\n",
      " 33  weeksworked05          8403 non-null   float64\n",
      " 34  weeksworked06          8340 non-null   float64\n",
      " 35  weeksworked07          8272 non-null   float64\n",
      " 36  weeksworked08          8186 non-null   float64\n",
      " 37  weeksworked09          8146 non-null   float64\n",
      " 38  weeksworked10          8054 non-null   float64\n",
      " 39  weeksworked11          7968 non-null   float64\n",
      " 40  weeksworked12          7747 non-null   float64\n",
      " 41  weeksworked13          7680 non-null   float64\n",
      " 42  weeksworked14          7612 non-null   float64\n",
      " 43  weeksworked15          7389 non-null   float64\n",
      " 44  weeksworked16          7068 non-null   float64\n",
      " 45  weeksworked17          6670 non-null   float64\n",
      " 46  colenrfeb97            1250 non-null   object \n",
      " 47  colenroct97            8501 non-null   object \n",
      " 48  colenrfeb98            8501 non-null   object \n",
      " 49  colenroct98            8888 non-null   object \n",
      " 50  colenrfeb99            8865 non-null   object \n",
      " 51  colenroct99            8851 non-null   object \n",
      " 52  colenrfeb00            8820 non-null   object \n",
      " 53  colenroct00            8805 non-null   object \n",
      " 54  colenrfeb01            8786 non-null   object \n",
      " 55  colenroct01            8758 non-null   object \n",
      " 56  colenrfeb02            8732 non-null   object \n",
      " 57  colenroct02            8698 non-null   object \n",
      " 58  colenrfeb03            8658 non-null   object \n",
      " 59  colenroct03            8622 non-null   object \n",
      " 60  colenrfeb04            8578 non-null   object \n",
      " 61  colenroct04            8546 non-null   object \n",
      " 62  colenrfeb05            8508 non-null   object \n",
      " 63  colenroct05            8471 non-null   object \n",
      " 64  colenrfeb06            8426 non-null   object \n",
      " 65  colenroct06            8407 non-null   object \n",
      " 66  colenrfeb07            8352 non-null   object \n",
      " 67  colenroct07            8331 non-null   object \n",
      " 68  colenrfeb08            8289 non-null   object \n",
      " 69  colenroct08            8280 non-null   object \n",
      " 70  colenrfeb09            8236 non-null   object \n",
      " 71  colenroct09            8193 non-null   object \n",
      " 72  colenrfeb10            8116 non-null   object \n",
      " 73  colenroct10            8091 non-null   object \n",
      " 74  colenrfeb11            8037 non-null   object \n",
      " 75  colenroct11            7972 non-null   object \n",
      " 76  colenrfeb12            7794 non-null   object \n",
      " 77  colenroct12            7754 non-null   object \n",
      " 78  colenrfeb13            7754 non-null   object \n",
      " 79  colenroct13            7754 non-null   object \n",
      " 80  colenrfeb14            7624 non-null   object \n",
      " 81  colenroct14            7469 non-null   object \n",
      " 82  colenrfeb15            7469 non-null   object \n",
      " 83  colenroct15            7469 non-null   object \n",
      " 84  colenrfeb16            7036 non-null   object \n",
      " 85  colenroct16            6733 non-null   object \n",
      " 86  colenrfeb17            6733 non-null   object \n",
      " 87  colenroct17            6734 non-null   object \n",
      " 88  childnum               4791 non-null   float64\n",
      "dtypes: float64(30), int64(2), object(57)\n",
      "memory usage: 6.4+ MB\n"
     ]
    }
   ],
   "source": [
    "nls97.info()"
   ]
  },
  {
   "cell_type": "code",
   "execution_count": 17,
   "id": "exotic-fishing",
   "metadata": {},
   "outputs": [
    {
     "data": {
      "text/plain": [
       "personid\n",
       "100061   2.00\n",
       "100139   1.00\n",
       "100284   1.00\n",
       "100292   1.00\n",
       "100583   2.91\n",
       "Name: gpaoverall, dtype: float64"
      ]
     },
     "execution_count": 17,
     "metadata": {},
     "output_type": "execute_result"
    }
   ],
   "source": [
    "nls97.iloc[0, 13] = 2\n",
    "nls97.iloc[1:4, 13] = 1\n",
    "nls97['gpaoverall'].head()"
   ]
  },
  {
   "cell_type": "markdown",
   "id": "republican-sponsorship",
   "metadata": {},
   "source": [
    "# Set the GPA values after filtering"
   ]
  },
  {
   "cell_type": "code",
   "execution_count": 23,
   "id": "juvenile-christmas",
   "metadata": {
    "collapsed": true
   },
   "outputs": [
    {
     "data": {
      "text/plain": [
       "personid\n",
       "312410   4.17\n",
       "639701   4.11\n",
       "850001   4.10\n",
       "279096   4.08\n",
       "620216   4.07\n",
       "Name: gpaoverall, dtype: float64"
      ]
     },
     "execution_count": 23,
     "metadata": {},
     "output_type": "execute_result"
    }
   ],
   "source": [
    "nls97['gpaoverall'].nlargest()"
   ]
  },
  {
   "cell_type": "code",
   "execution_count": 24,
   "id": "russian-feature",
   "metadata": {},
   "outputs": [
    {
     "data": {
      "text/plain": [
       "personid\n",
       "112756   4.00\n",
       "119784   4.00\n",
       "160193   4.00\n",
       "250666   4.00\n",
       "271961   4.00\n",
       "Name: gpaoverall, dtype: float64"
      ]
     },
     "execution_count": 24,
     "metadata": {},
     "output_type": "execute_result"
    }
   ],
   "source": [
    "nls97.loc[nls97['gpaoverall'] > 4, 'gpaoverall'] = 4\n",
    "nls97['gpaoverall'].nlargest()"
   ]
  },
  {
   "cell_type": "code",
   "execution_count": 26,
   "id": "placed-flesh",
   "metadata": {},
   "outputs": [
    {
     "data": {
      "text/plain": [
       "pandas.core.series.Series"
      ]
     },
     "execution_count": 26,
     "metadata": {},
     "output_type": "execute_result"
    }
   ],
   "source": [
    "# nls97.loc[[100061], 'gpaoverall'] returns a series,\n",
    "# while nls97.loc[[100061], ['gpaoverall']] returns a DataFrame:\n",
    "\n",
    "type(nls97.loc[[100061], 'gpaoverall'])"
   ]
  },
  {
   "cell_type": "code",
   "execution_count": 27,
   "id": "chinese-madagascar",
   "metadata": {},
   "outputs": [
    {
     "data": {
      "text/plain": [
       "pandas.core.frame.DataFrame"
      ]
     },
     "execution_count": 27,
     "metadata": {},
     "output_type": "execute_result"
    }
   ],
   "source": [
    "# If the second argument of the loc accessor is a string, it will return a series. If it is a list,\n",
    "# even if the list contains only one item, it will return a DataFrame.\n",
    "\n",
    "type(nls97.loc[[100061], ['gpaoverall']])"
   ]
  },
  {
   "cell_type": "code",
   "execution_count": null,
   "id": "voluntary-basketball",
   "metadata": {},
   "outputs": [],
   "source": []
  }
 ],
 "metadata": {
  "kernelspec": {
   "display_name": "Python 3",
   "language": "python",
   "name": "python3"
  },
  "language_info": {
   "codemirror_mode": {
    "name": "ipython",
    "version": 3
   },
   "file_extension": ".py",
   "mimetype": "text/x-python",
   "name": "python",
   "nbconvert_exporter": "python",
   "pygments_lexer": "ipython3",
   "version": "3.7.9"
  },
  "toc": {
   "base_numbering": 1,
   "nav_menu": {},
   "number_sections": true,
   "sideBar": true,
   "skip_h1_title": false,
   "title_cell": "Table of Contents",
   "title_sidebar": "Contents",
   "toc_cell": true,
   "toc_position": {},
   "toc_section_display": true,
   "toc_window_display": false
  }
 },
 "nbformat": 4,
 "nbformat_minor": 5
}
