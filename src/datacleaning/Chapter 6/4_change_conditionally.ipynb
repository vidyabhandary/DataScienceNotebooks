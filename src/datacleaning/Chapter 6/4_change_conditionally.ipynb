{
 "cells": [
  {
   "cell_type": "markdown",
   "id": "indie-irish",
   "metadata": {
    "toc": true
   },
   "source": [
    "<h1>Table of Contents<span class=\"tocSkip\"></span></h1>\n",
    "<div class=\"toc\"><ul class=\"toc-item\"><li><span><a href=\"#Import-pandas-and-numpy,-and-then-load-the-NLS-and-land-temperatures-data\" data-toc-modified-id=\"Import-pandas-and-numpy,-and-then-load-the-NLS-and-land-temperatures-data-1\"><span class=\"toc-item-num\">1&nbsp;&nbsp;</span>Import pandas and numpy, and then load the NLS and land temperatures data</a></span></li><li><span><a href=\"#Use-NumPy's-where-function-to-create-a-categorical-series-containing-two-values\" data-toc-modified-id=\"Use-NumPy's-where-function-to-create-a-categorical-series-containing-two-values-2\"><span class=\"toc-item-num\">2&nbsp;&nbsp;</span>Use NumPy's where function to create a categorical series containing two values</a></span></li><li><span><a href=\"#Use-NumPy's-where-method-to-create-a-categorical-series-containing-three-values\" data-toc-modified-id=\"Use-NumPy's-where-method-to-create-a-categorical-series-containing-three-values-3\"><span class=\"toc-item-num\">3&nbsp;&nbsp;</span>Use NumPy's where method to create a categorical series containing three values</a></span></li><li><span><a href=\"#Use-NumPy's-select-method-to-evaluate-a-list-of-conditions\" data-toc-modified-id=\"Use-NumPy's-select-method-to-evaluate-a-list-of-conditions-4\"><span class=\"toc-item-num\">4&nbsp;&nbsp;</span>Use NumPy's select method to evaluate a list of conditions</a></span></li><li><span><a href=\"#Use-lambda-to-test-several-columns-in-one-statement\" data-toc-modified-id=\"Use-lambda-to-test-several-columns-in-one-statement-5\"><span class=\"toc-item-num\">5&nbsp;&nbsp;</span>Use lambda to test several columns in one statement</a></span></li><li><span><a href=\"#Create-a-function-that-assigns-a-value-based-on-the-value-of-several-series\" data-toc-modified-id=\"Create-a-function-that-assigns-a-value-based-on-the-value-of-several-series-6\"><span class=\"toc-item-num\">6&nbsp;&nbsp;</span>Create a function that assigns a value based on the value of several series</a></span></li><li><span><a href=\"#Another-way-to-perform-steps-6-and-7-is-to-add-a-lambda-function-to-apply.-This-produces-the-same-results\" data-toc-modified-id=\"Another-way-to-perform-steps-6-and-7-is-to-add-a-lambda-function-to-apply.-This-produces-the-same-results-7\"><span class=\"toc-item-num\">7&nbsp;&nbsp;</span>Another way to perform steps 6 and 7 is to add a lambda function to apply. This produces the same results</a></span></li></ul></div>"
   ]
  },
  {
   "cell_type": "markdown",
   "id": "supported-papua",
   "metadata": {},
   "source": [
    "# Import pandas and numpy, and then load the NLS and land temperatures data"
   ]
  },
  {
   "cell_type": "code",
   "execution_count": 1,
   "id": "equipped-taiwan",
   "metadata": {},
   "outputs": [],
   "source": [
    "import pandas as pd\n",
    "import numpy as np"
   ]
  },
  {
   "cell_type": "code",
   "execution_count": 2,
   "id": "beautiful-virtue",
   "metadata": {},
   "outputs": [],
   "source": [
    "# pd.set_option('display.width', 200)\n",
    "# pd.set_option('display.max_columns', 35)\n",
    "# pd.set_option('display.max_rows', 200)\n",
    "pd.options.display.float_format = '{:,.2f}'.format"
   ]
  },
  {
   "cell_type": "code",
   "execution_count": 3,
   "id": "consolidated-baseball",
   "metadata": {},
   "outputs": [
    {
     "name": "stdout",
     "output_type": "stream",
     "text": [
      "json     : 2.0.9\n",
      "numpy    : 1.19.2\n",
      "pandas   : 1.2.1\n",
      "watermark: 2.1.0\n",
      "\n"
     ]
    }
   ],
   "source": [
    "import watermark\n",
    "%load_ext watermark\n",
    "\n",
    "%watermark -n -i -iv"
   ]
  },
  {
   "cell_type": "code",
   "execution_count": 4,
   "id": "treated-picking",
   "metadata": {},
   "outputs": [],
   "source": [
    "nls97 = pd.read_csv('data/nls97b.csv')\n",
    "nls97.set_index('personid', inplace=True)"
   ]
  },
  {
   "cell_type": "code",
   "execution_count": 5,
   "id": "freelance-mongolia",
   "metadata": {},
   "outputs": [],
   "source": [
    "landtemps = pd.read_csv('data/landtemps2019avgs.csv')"
   ]
  },
  {
   "cell_type": "markdown",
   "id": "breathing-citizen",
   "metadata": {},
   "source": [
    "# Use NumPy's where function to create a categorical series containing two values"
   ]
  },
  {
   "cell_type": "code",
   "execution_count": 6,
   "id": "elect-objective",
   "metadata": {},
   "outputs": [
    {
     "data": {
      "text/plain": [
       "0.20      48.00\n",
       "0.40     190.50\n",
       "0.60     393.20\n",
       "0.80   1,066.80\n",
       "1.00   9,999.00\n",
       "Name: elevation, dtype: float64"
      ]
     },
     "execution_count": 6,
     "metadata": {},
     "output_type": "execute_result"
    }
   ],
   "source": [
    "landtemps['elevation'].quantile(np.arange(0.2, 1.1, 0.2))"
   ]
  },
  {
   "cell_type": "code",
   "execution_count": 7,
   "id": "essential-screening",
   "metadata": {},
   "outputs": [],
   "source": [
    "landtemps['elevationgroup'] = np.where(\n",
    "    landtemps['elevation'] > landtemps['elevation'].quantile(0.8), 'Low',\n",
    "    'High')"
   ]
  },
  {
   "cell_type": "code",
   "execution_count": 9,
   "id": "residential-oasis",
   "metadata": {},
   "outputs": [],
   "source": [
    "landtemps['elevationgroup'] = landtemps['elevationgroup'].astype('category')"
   ]
  },
  {
   "cell_type": "code",
   "execution_count": 10,
   "id": "touched-cooking",
   "metadata": {},
   "outputs": [
    {
     "data": {
      "text/html": [
       "<div>\n",
       "<style scoped>\n",
       "    .dataframe tbody tr th:only-of-type {\n",
       "        vertical-align: middle;\n",
       "    }\n",
       "\n",
       "    .dataframe tbody tr th {\n",
       "        vertical-align: top;\n",
       "    }\n",
       "\n",
       "    .dataframe thead th {\n",
       "        text-align: right;\n",
       "    }\n",
       "</style>\n",
       "<table border=\"1\" class=\"dataframe\">\n",
       "  <thead>\n",
       "    <tr style=\"text-align: right;\">\n",
       "      <th></th>\n",
       "      <th>count</th>\n",
       "      <th>min</th>\n",
       "      <th>max</th>\n",
       "    </tr>\n",
       "    <tr>\n",
       "      <th>elevationgroup</th>\n",
       "      <th></th>\n",
       "      <th></th>\n",
       "      <th></th>\n",
       "    </tr>\n",
       "  </thead>\n",
       "  <tbody>\n",
       "    <tr>\n",
       "      <th>High</th>\n",
       "      <td>9686</td>\n",
       "      <td>-350.00</td>\n",
       "      <td>1,066.80</td>\n",
       "    </tr>\n",
       "    <tr>\n",
       "      <th>Low</th>\n",
       "      <td>2409</td>\n",
       "      <td>1,067.00</td>\n",
       "      <td>9,999.00</td>\n",
       "    </tr>\n",
       "  </tbody>\n",
       "</table>\n",
       "</div>"
      ],
      "text/plain": [
       "                count      min      max\n",
       "elevationgroup                         \n",
       "High             9686  -350.00 1,066.80\n",
       "Low              2409 1,067.00 9,999.00"
      ]
     },
     "execution_count": 10,
     "metadata": {},
     "output_type": "execute_result"
    }
   ],
   "source": [
    "landtemps.groupby(['elevationgroup'])['elevation'].agg(['count', 'min', 'max'])"
   ]
  },
  {
   "cell_type": "markdown",
   "id": "curious-spell",
   "metadata": {},
   "source": [
    "# Use NumPy's where method to create a categorical series containing three values"
   ]
  },
  {
   "cell_type": "code",
   "execution_count": 11,
   "id": "soviet-sympathy",
   "metadata": {},
   "outputs": [
    {
     "data": {
      "text/plain": [
       "271.3"
      ]
     },
     "execution_count": 11,
     "metadata": {},
     "output_type": "execute_result"
    }
   ],
   "source": [
    "landtemps['elevation'].median()"
   ]
  },
  {
   "cell_type": "code",
   "execution_count": 13,
   "id": "geographic-consistency",
   "metadata": {},
   "outputs": [
    {
     "data": {
      "text/html": [
       "<div>\n",
       "<style scoped>\n",
       "    .dataframe tbody tr th:only-of-type {\n",
       "        vertical-align: middle;\n",
       "    }\n",
       "\n",
       "    .dataframe tbody tr th {\n",
       "        vertical-align: top;\n",
       "    }\n",
       "\n",
       "    .dataframe thead th {\n",
       "        text-align: right;\n",
       "    }\n",
       "</style>\n",
       "<table border=\"1\" class=\"dataframe\">\n",
       "  <thead>\n",
       "    <tr style=\"text-align: right;\">\n",
       "      <th></th>\n",
       "      <th>count</th>\n",
       "      <th>min</th>\n",
       "      <th>max</th>\n",
       "    </tr>\n",
       "    <tr>\n",
       "      <th>elevationgroup</th>\n",
       "      <th></th>\n",
       "      <th></th>\n",
       "      <th></th>\n",
       "    </tr>\n",
       "  </thead>\n",
       "  <tbody>\n",
       "    <tr>\n",
       "      <th>High</th>\n",
       "      <td>2409</td>\n",
       "      <td>1,067.00</td>\n",
       "      <td>9,999.00</td>\n",
       "    </tr>\n",
       "    <tr>\n",
       "      <th>Low</th>\n",
       "      <td>6056</td>\n",
       "      <td>-350.00</td>\n",
       "      <td>271.30</td>\n",
       "    </tr>\n",
       "    <tr>\n",
       "      <th>Median</th>\n",
       "      <td>3630</td>\n",
       "      <td>271.40</td>\n",
       "      <td>1,066.80</td>\n",
       "    </tr>\n",
       "  </tbody>\n",
       "</table>\n",
       "</div>"
      ],
      "text/plain": [
       "                count      min      max\n",
       "elevationgroup                         \n",
       "High             2409 1,067.00 9,999.00\n",
       "Low              6056  -350.00   271.30\n",
       "Median           3630   271.40 1,066.80"
      ]
     },
     "execution_count": 13,
     "metadata": {},
     "output_type": "execute_result"
    }
   ],
   "source": [
    "landtemps['elevationgroup'] = np.where(\n",
    "    landtemps['elevation'] > landtemps['elevation'].quantile(0.8), 'High',\n",
    "    np.where(landtemps['elevation'] > landtemps['elevation'].median(),\n",
    "             'Median', 'Low'))\n",
    "landtemps['elevationgroup'] = landtemps['elevationgroup'].astype('category')\n",
    "landtemps.groupby(['elevationgroup'])['elevation'].agg(['count', 'min', 'max'])"
   ]
  },
  {
   "cell_type": "markdown",
   "id": "effective-illness",
   "metadata": {},
   "source": [
    "# Use NumPy's select method to evaluate a list of conditions"
   ]
  },
  {
   "cell_type": "code",
   "execution_count": 14,
   "id": "previous-culture",
   "metadata": {},
   "outputs": [],
   "source": [
    "test = [(nls97['gpaoverall'] < 2) & (nls97['highestdegree'] == '0. None'),\n",
    "        nls97['highestdegree'] == '0. None', nls97['gpaoverall'] < 2]"
   ]
  },
  {
   "cell_type": "code",
   "execution_count": 15,
   "id": "silent-builder",
   "metadata": {},
   "outputs": [],
   "source": [
    "result = ['1. Low GPA and No Diploma', '2. No Diploma', '3. Low GPA']"
   ]
  },
  {
   "cell_type": "code",
   "execution_count": 18,
   "id": "expected-mobile",
   "metadata": {},
   "outputs": [],
   "source": [
    "nls97['hsachieve'] = np.select(test, result, '4. Did Okay')"
   ]
  },
  {
   "cell_type": "code",
   "execution_count": 22,
   "id": "young-passage",
   "metadata": {},
   "outputs": [
    {
     "data": {
      "text/plain": [
       "personid\n",
       "100061      4. Did Okay\n",
       "100139      4. Did Okay\n",
       "100284    2. No Diploma\n",
       "100292      4. Did Okay\n",
       "100583      4. Did Okay\n",
       "Name: hsachieve, dtype: object"
      ]
     },
     "execution_count": 22,
     "metadata": {},
     "output_type": "execute_result"
    }
   ],
   "source": [
    "nls97['hsachieve'].head()"
   ]
  },
  {
   "cell_type": "code",
   "execution_count": 25,
   "id": "handy-guest",
   "metadata": {},
   "outputs": [
    {
     "data": {
      "text/html": [
       "<div>\n",
       "<style scoped>\n",
       "    .dataframe tbody tr th:only-of-type {\n",
       "        vertical-align: middle;\n",
       "    }\n",
       "\n",
       "    .dataframe tbody tr th {\n",
       "        vertical-align: top;\n",
       "    }\n",
       "\n",
       "    .dataframe thead th {\n",
       "        text-align: right;\n",
       "    }\n",
       "</style>\n",
       "<table border=\"1\" class=\"dataframe\">\n",
       "  <thead>\n",
       "    <tr style=\"text-align: right;\">\n",
       "      <th></th>\n",
       "      <th>hsachieve</th>\n",
       "      <th>gpaoverall</th>\n",
       "      <th>highestdegree</th>\n",
       "    </tr>\n",
       "    <tr>\n",
       "      <th>personid</th>\n",
       "      <th></th>\n",
       "      <th></th>\n",
       "      <th></th>\n",
       "    </tr>\n",
       "  </thead>\n",
       "  <tbody>\n",
       "    <tr>\n",
       "      <th>100061</th>\n",
       "      <td>4. Did Okay</td>\n",
       "      <td>3.06</td>\n",
       "      <td>2. High School</td>\n",
       "    </tr>\n",
       "    <tr>\n",
       "      <th>100139</th>\n",
       "      <td>4. Did Okay</td>\n",
       "      <td>NaN</td>\n",
       "      <td>2. High School</td>\n",
       "    </tr>\n",
       "    <tr>\n",
       "      <th>100284</th>\n",
       "      <td>2. No Diploma</td>\n",
       "      <td>NaN</td>\n",
       "      <td>0. None</td>\n",
       "    </tr>\n",
       "    <tr>\n",
       "      <th>100292</th>\n",
       "      <td>4. Did Okay</td>\n",
       "      <td>3.45</td>\n",
       "      <td>4. Bachelors</td>\n",
       "    </tr>\n",
       "    <tr>\n",
       "      <th>100583</th>\n",
       "      <td>4. Did Okay</td>\n",
       "      <td>2.91</td>\n",
       "      <td>2. High School</td>\n",
       "    </tr>\n",
       "  </tbody>\n",
       "</table>\n",
       "</div>"
      ],
      "text/plain": [
       "              hsachieve  gpaoverall   highestdegree\n",
       "personid                                           \n",
       "100061      4. Did Okay        3.06  2. High School\n",
       "100139      4. Did Okay         NaN  2. High School\n",
       "100284    2. No Diploma         NaN         0. None\n",
       "100292      4. Did Okay        3.45    4. Bachelors\n",
       "100583      4. Did Okay        2.91  2. High School"
      ]
     },
     "execution_count": 25,
     "metadata": {},
     "output_type": "execute_result"
    }
   ],
   "source": [
    "nls97[['hsachieve', 'gpaoverall', 'highestdegree']].head()"
   ]
  },
  {
   "cell_type": "code",
   "execution_count": 26,
   "id": "cheap-setting",
   "metadata": {},
   "outputs": [
    {
     "data": {
      "text/plain": [
       "1. Low GPA and No Diploma      95\n",
       "2. No Diploma                 858\n",
       "3. Low GPA                    459\n",
       "4. Did Okay                  7572\n",
       "Name: hsachieve, dtype: int64"
      ]
     },
     "execution_count": 26,
     "metadata": {},
     "output_type": "execute_result"
    }
   ],
   "source": [
    "nls97['hsachieve'].value_counts().sort_index()"
   ]
  },
  {
   "cell_type": "markdown",
   "id": "decreased-honor",
   "metadata": {},
   "source": [
    "# Use lambda to test several columns in one statement"
   ]
  },
  {
   "cell_type": "code",
   "execution_count": 28,
   "id": "abstract-representation",
   "metadata": {},
   "outputs": [
    {
     "data": {
      "text/html": [
       "<div>\n",
       "<style scoped>\n",
       "    .dataframe tbody tr th:only-of-type {\n",
       "        vertical-align: middle;\n",
       "    }\n",
       "\n",
       "    .dataframe tbody tr th {\n",
       "        vertical-align: top;\n",
       "    }\n",
       "\n",
       "    .dataframe thead th {\n",
       "        text-align: right;\n",
       "    }\n",
       "</style>\n",
       "<table border=\"1\" class=\"dataframe\">\n",
       "  <thead>\n",
       "    <tr style=\"text-align: right;\">\n",
       "      <th>personid</th>\n",
       "      <th>100292</th>\n",
       "      <th>100583</th>\n",
       "      <th>100139</th>\n",
       "    </tr>\n",
       "  </thead>\n",
       "  <tbody>\n",
       "    <tr>\n",
       "      <th>colenrfeb00</th>\n",
       "      <td>1. Not enrolled</td>\n",
       "      <td>1. Not enrolled</td>\n",
       "      <td>1. Not enrolled</td>\n",
       "    </tr>\n",
       "    <tr>\n",
       "      <th>colenroct00</th>\n",
       "      <td>3. 4-year college</td>\n",
       "      <td>1. Not enrolled</td>\n",
       "      <td>1. Not enrolled</td>\n",
       "    </tr>\n",
       "    <tr>\n",
       "      <th>colenrfeb01</th>\n",
       "      <td>3. 4-year college</td>\n",
       "      <td>1. Not enrolled</td>\n",
       "      <td>1. Not enrolled</td>\n",
       "    </tr>\n",
       "    <tr>\n",
       "      <th>colenroct01</th>\n",
       "      <td>3. 4-year college</td>\n",
       "      <td>3. 4-year college</td>\n",
       "      <td>1. Not enrolled</td>\n",
       "    </tr>\n",
       "    <tr>\n",
       "      <th>colenrfeb02</th>\n",
       "      <td>3. 4-year college</td>\n",
       "      <td>3. 4-year college</td>\n",
       "      <td>1. Not enrolled</td>\n",
       "    </tr>\n",
       "    <tr>\n",
       "      <th>colenroct02</th>\n",
       "      <td>3. 4-year college</td>\n",
       "      <td>1. Not enrolled</td>\n",
       "      <td>1. Not enrolled</td>\n",
       "    </tr>\n",
       "    <tr>\n",
       "      <th>colenrfeb03</th>\n",
       "      <td>3. 4-year college</td>\n",
       "      <td>1. Not enrolled</td>\n",
       "      <td>1. Not enrolled</td>\n",
       "    </tr>\n",
       "    <tr>\n",
       "      <th>colenroct03</th>\n",
       "      <td>3. 4-year college</td>\n",
       "      <td>1. Not enrolled</td>\n",
       "      <td>1. Not enrolled</td>\n",
       "    </tr>\n",
       "    <tr>\n",
       "      <th>colenrfeb04</th>\n",
       "      <td>3. 4-year college</td>\n",
       "      <td>1. Not enrolled</td>\n",
       "      <td>1. Not enrolled</td>\n",
       "    </tr>\n",
       "    <tr>\n",
       "      <th>colenroct04</th>\n",
       "      <td>1. Not enrolled</td>\n",
       "      <td>1. Not enrolled</td>\n",
       "      <td>1. Not enrolled</td>\n",
       "    </tr>\n",
       "  </tbody>\n",
       "</table>\n",
       "</div>"
      ],
      "text/plain": [
       "personid                100292             100583           100139\n",
       "colenrfeb00    1. Not enrolled    1. Not enrolled  1. Not enrolled\n",
       "colenroct00  3. 4-year college    1. Not enrolled  1. Not enrolled\n",
       "colenrfeb01  3. 4-year college    1. Not enrolled  1. Not enrolled\n",
       "colenroct01  3. 4-year college  3. 4-year college  1. Not enrolled\n",
       "colenrfeb02  3. 4-year college  3. 4-year college  1. Not enrolled\n",
       "colenroct02  3. 4-year college    1. Not enrolled  1. Not enrolled\n",
       "colenrfeb03  3. 4-year college    1. Not enrolled  1. Not enrolled\n",
       "colenroct03  3. 4-year college    1. Not enrolled  1. Not enrolled\n",
       "colenrfeb04  3. 4-year college    1. Not enrolled  1. Not enrolled\n",
       "colenroct04    1. Not enrolled    1. Not enrolled  1. Not enrolled"
      ]
     },
     "execution_count": 28,
     "metadata": {},
     "output_type": "execute_result"
    }
   ],
   "source": [
    "nls97.loc[[100292, 100583, 100139], 'colenrfeb00':'colenroct04'].T"
   ]
  },
  {
   "cell_type": "code",
   "execution_count": 29,
   "id": "bizarre-spyware",
   "metadata": {},
   "outputs": [],
   "source": [
    "# The DataFrame apply method can be used to send each row of a DataFrame to a function by specifying axis=1.\n",
    "\n",
    "nls97['baenrollment'] = nls97.filter(\n",
    "    like='colenr').apply(lambda x: x.str[0:1] == '3').any(axis=1)"
   ]
  },
  {
   "cell_type": "code",
   "execution_count": 30,
   "id": "detected-flexibility",
   "metadata": {},
   "outputs": [
    {
     "data": {
      "text/html": [
       "<div>\n",
       "<style scoped>\n",
       "    .dataframe tbody tr th:only-of-type {\n",
       "        vertical-align: middle;\n",
       "    }\n",
       "\n",
       "    .dataframe tbody tr th {\n",
       "        vertical-align: top;\n",
       "    }\n",
       "\n",
       "    .dataframe thead th {\n",
       "        text-align: right;\n",
       "    }\n",
       "</style>\n",
       "<table border=\"1\" class=\"dataframe\">\n",
       "  <thead>\n",
       "    <tr style=\"text-align: right;\">\n",
       "      <th>personid</th>\n",
       "      <th>100292</th>\n",
       "      <th>100583</th>\n",
       "      <th>100139</th>\n",
       "    </tr>\n",
       "  </thead>\n",
       "  <tbody>\n",
       "    <tr>\n",
       "      <th>baenrollment</th>\n",
       "      <td>True</td>\n",
       "      <td>True</td>\n",
       "      <td>False</td>\n",
       "    </tr>\n",
       "  </tbody>\n",
       "</table>\n",
       "</div>"
      ],
      "text/plain": [
       "personid      100292  100583  100139\n",
       "baenrollment    True    True   False"
      ]
     },
     "execution_count": 30,
     "metadata": {},
     "output_type": "execute_result"
    }
   ],
   "source": [
    "nls97.loc[[100292, 100583, 100139], ['baenrollment']].T"
   ]
  },
  {
   "cell_type": "markdown",
   "id": "maritime-smith",
   "metadata": {},
   "source": [
    "# Create a function that assigns a value based on the value of several series"
   ]
  },
  {
   "cell_type": "code",
   "execution_count": 31,
   "id": "progressive-public",
   "metadata": {},
   "outputs": [],
   "source": [
    "def get_sleep_deprived_reason(row):\n",
    "    sleep_deprived_reason = 'Unknown'\n",
    "    if row['nightlyhrssleep'] >= 6:\n",
    "        sleep_deprived_reason = 'Not sleep deprived'\n",
    "    elif row['nightlyhrssleep'] > 0:\n",
    "        if (row['weeksworked16'] + row['weeksworked17'] < 80):\n",
    "            if (row['childathome'] > 2):\n",
    "                sleep_deprived_reason = 'Child rearing'\n",
    "            else:\n",
    "                sleep_deprived_reason = 'Other reasons'\n",
    "        if (row['wageincome'] >= 62000 or row['highestgradecompleted'] >= 16):\n",
    "            sleep_deprived_reason = 'Work Pressure'\n",
    "        else:\n",
    "            sleep_deprived_reason = 'Income Pressure'\n",
    "    else:\n",
    "        sleep_deprived_reason = 'Unknown'\n",
    "    return sleep_deprived_reason"
   ]
  },
  {
   "cell_type": "code",
   "execution_count": 32,
   "id": "coated-harris",
   "metadata": {},
   "outputs": [
    {
     "data": {
      "text/plain": [
       "Not sleep deprived    5595\n",
       "Unknown               2286\n",
       "Income Pressure        760\n",
       "Work Pressure          343\n",
       "Name: sleep_deprived_reason, dtype: int64"
      ]
     },
     "execution_count": 32,
     "metadata": {},
     "output_type": "execute_result"
    }
   ],
   "source": [
    "nls97['sleep_deprived_reason'] = nls97.apply(get_sleep_deprived_reason, axis=1)\n",
    "nls97['sleep_deprived_reason'].astype('category')\n",
    "nls97['sleep_deprived_reason'].value_counts()"
   ]
  },
  {
   "cell_type": "markdown",
   "id": "extraordinary-zoning",
   "metadata": {},
   "source": [
    "# Another way to perform steps 6 and 7 is to add a lambda function to apply. This produces the same results"
   ]
  },
  {
   "cell_type": "code",
   "execution_count": 33,
   "id": "rental-fortune",
   "metadata": {},
   "outputs": [],
   "source": [
    "def getsleepdeprivedreason(childathome, nightlyhrssleep, wageincome,\n",
    "                           weeksworked16, weeksworked17,\n",
    "                           highestgradecompleted):\n",
    "    sleep_deprived_reason = 'Unknown'\n",
    "    if nightlyhrssleep >= 6:\n",
    "        sleep_deprived_reason = 'Not sleep deprived'\n",
    "    elif nightlyhrssleep > 0:\n",
    "        if (weeksworked16 + weeksworked17 < 80):\n",
    "            if (childathome > 2):\n",
    "                sleep_deprived_reason = 'Child rearing'\n",
    "            else:\n",
    "                sleep_deprived_reason = 'Other reasons'\n",
    "        if (wageincome >= 62000 or highestgradecompleted >= 16):\n",
    "            sleep_deprived_reason = 'Work Pressure'\n",
    "        else:\n",
    "            sleep_deprived_reason = 'Income Pressure'\n",
    "    else:\n",
    "        sleep_deprived_reason = 'Unknown'\n",
    "    return sleep_deprived_reason"
   ]
  },
  {
   "cell_type": "code",
   "execution_count": 35,
   "id": "stainless-testament",
   "metadata": {},
   "outputs": [
    {
     "data": {
      "text/plain": [
       "Not sleep deprived    5595\n",
       "Unknown               2286\n",
       "Income Pressure        760\n",
       "Work Pressure          343\n",
       "Name: sleep_deprived_reason, dtype: int64"
      ]
     },
     "execution_count": 35,
     "metadata": {},
     "output_type": "execute_result"
    }
   ],
   "source": [
    "nls97['sleep_deprived_reason'] = nls97.apply(lambda x: getsleepdeprivedreason(\n",
    "    x.childathome, x.nightlyhrssleep, x.wageincome, x.weeksworked16, x.\n",
    "    weeksworked17, x.highestgradecompleted),\n",
    "                                             axis=1)\n",
    "nls97['sleep_deprived_reason'].astype('category')\n",
    "nls97['sleep_deprived_reason'].value_counts()"
   ]
  },
  {
   "cell_type": "code",
   "execution_count": null,
   "id": "handy-blocking",
   "metadata": {},
   "outputs": [],
   "source": []
  }
 ],
 "metadata": {
  "kernelspec": {
   "display_name": "Python 3",
   "language": "python",
   "name": "python3"
  },
  "language_info": {
   "codemirror_mode": {
    "name": "ipython",
    "version": 3
   },
   "file_extension": ".py",
   "mimetype": "text/x-python",
   "name": "python",
   "nbconvert_exporter": "python",
   "pygments_lexer": "ipython3",
   "version": "3.7.9"
  },
  "toc": {
   "base_numbering": 1,
   "nav_menu": {},
   "number_sections": true,
   "sideBar": true,
   "skip_h1_title": false,
   "title_cell": "Table of Contents",
   "title_sidebar": "Contents",
   "toc_cell": true,
   "toc_position": {
    "height": "calc(100% - 180px)",
    "left": "10px",
    "top": "150px",
    "width": "279.273px"
   },
   "toc_section_display": true,
   "toc_window_display": false
  }
 },
 "nbformat": 4,
 "nbformat_minor": 5
}
