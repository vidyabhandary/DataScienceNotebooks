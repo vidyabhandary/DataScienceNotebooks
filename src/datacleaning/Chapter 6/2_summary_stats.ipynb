{
 "cells": [
  {
   "cell_type": "markdown",
   "id": "extra-infrastructure",
   "metadata": {
    "toc": true
   },
   "source": [
    "<h1>Table of Contents<span class=\"tocSkip\"></span></h1>\n",
    "<div class=\"toc\"><ul class=\"toc-item\"><li><span><a href=\"#Import-pandas-and-numpy-and-load-the-NLS-data\" data-toc-modified-id=\"Import-pandas-and-numpy-and-load-the-NLS-data-1\"><span class=\"toc-item-num\">1&nbsp;&nbsp;</span>Import pandas and numpy and load the NLS data</a></span></li><li><span><a href=\"#Gather-some-descriptive-statistics\" data-toc-modified-id=\"Gather-some-descriptive-statistics-2\"><span class=\"toc-item-num\">2&nbsp;&nbsp;</span>Gather some descriptive statistics</a></span></li><li><span><a href=\"#Show-descriptives-for-a-subset-of-the-series\" data-toc-modified-id=\"Show-descriptives-for-a-subset-of-the-series-3\"><span class=\"toc-item-num\">3&nbsp;&nbsp;</span>Show descriptives for a subset of the series</a></span></li><li><span><a href=\"#Test-for-a-condition-across-all-values\" data-toc-modified-id=\"Test-for-a-condition-across-all-values-4\"><span class=\"toc-item-num\">4&nbsp;&nbsp;</span>Test for a condition across all values</a></span></li><li><span><a href=\"#Show-descriptives-for-a-subset-of-the-series-based-on-values-in-a-different-column\" data-toc-modified-id=\"Show-descriptives-for-a-subset-of-the-series-based-on-values-in-a-different-column-5\"><span class=\"toc-item-num\">5&nbsp;&nbsp;</span>Show descriptives for a subset of the series based on values in a different column</a></span></li><li><span><a href=\"#Show-descriptives-and-frequencies-for-a-series-containing-categorical-data\" data-toc-modified-id=\"Show-descriptives-and-frequencies-for-a-series-containing-categorical-data-6\"><span class=\"toc-item-num\">6&nbsp;&nbsp;</span>Show descriptives and frequencies for a series containing categorical data</a></span></li></ul></div>"
   ]
  },
  {
   "cell_type": "markdown",
   "id": "linear-thanks",
   "metadata": {},
   "source": [
    "# Import pandas and numpy and load the NLS data"
   ]
  },
  {
   "cell_type": "code",
   "execution_count": 1,
   "id": "reduced-effectiveness",
   "metadata": {},
   "outputs": [],
   "source": [
    "import pandas as pd\n",
    "import numpy as np"
   ]
  },
  {
   "cell_type": "code",
   "execution_count": 2,
   "id": "isolated-continuity",
   "metadata": {},
   "outputs": [],
   "source": [
    "# pd.set_option('display.width', 200)\n",
    "# pd.set_option('display.max_columns', 35)\n",
    "# pd.set_option('display.max_rows', 200)\n",
    "pd.options.display.float_format = '{:,.2f}'.format"
   ]
  },
  {
   "cell_type": "code",
   "execution_count": 3,
   "id": "victorian-exclusive",
   "metadata": {},
   "outputs": [
    {
     "name": "stdout",
     "output_type": "stream",
     "text": [
      "pandas   : 1.2.1\n",
      "json     : 2.0.9\n",
      "watermark: 2.1.0\n",
      "numpy    : 1.19.2\n",
      "\n"
     ]
    }
   ],
   "source": [
    "import watermark\n",
    "%load_ext watermark\n",
    "\n",
    "%watermark -n -i -iv"
   ]
  },
  {
   "cell_type": "code",
   "execution_count": 5,
   "id": "concrete-dodge",
   "metadata": {},
   "outputs": [],
   "source": [
    "nls97 = pd.read_csv('data/nls97b.csv')\n",
    "nls97.set_index('personid', inplace=True)"
   ]
  },
  {
   "cell_type": "markdown",
   "id": "printable-seeking",
   "metadata": {},
   "source": [
    "# Gather some descriptive statistics"
   ]
  },
  {
   "cell_type": "code",
   "execution_count": 6,
   "id": "polar-signature",
   "metadata": {},
   "outputs": [
    {
     "data": {
      "text/plain": [
       "2.8184077281812128"
      ]
     },
     "execution_count": 6,
     "metadata": {},
     "output_type": "execute_result"
    }
   ],
   "source": [
    "gpaoverall = nls97['gpaoverall']\n",
    "gpaoverall.mean()"
   ]
  },
  {
   "cell_type": "code",
   "execution_count": 7,
   "id": "departmental-obligation",
   "metadata": {},
   "outputs": [
    {
     "data": {
      "text/plain": [
       "count   6,004.00\n",
       "mean        2.82\n",
       "std         0.62\n",
       "min         0.10\n",
       "25%         2.43\n",
       "50%         2.86\n",
       "75%         3.26\n",
       "max         4.17\n",
       "Name: gpaoverall, dtype: float64"
      ]
     },
     "execution_count": 7,
     "metadata": {},
     "output_type": "execute_result"
    }
   ],
   "source": [
    "gpaoverall.describe()"
   ]
  },
  {
   "cell_type": "code",
   "execution_count": 8,
   "id": "developed-steal",
   "metadata": {},
   "outputs": [
    {
     "data": {
      "text/plain": [
       "0.10   2.02\n",
       "0.20   2.31\n",
       "0.30   2.52\n",
       "0.40   2.70\n",
       "0.50   2.86\n",
       "0.60   3.01\n",
       "0.70   3.17\n",
       "0.80   3.36\n",
       "0.90   3.60\n",
       "1.00   4.17\n",
       "Name: gpaoverall, dtype: float64"
      ]
     },
     "execution_count": 8,
     "metadata": {},
     "output_type": "execute_result"
    }
   ],
   "source": [
    "gpaoverall.quantile(np.arange(0.1, 1.1, 0.1))"
   ]
  },
  {
   "cell_type": "markdown",
   "id": "premium-bankruptcy",
   "metadata": {},
   "source": [
    "# Show descriptives for a subset of the series"
   ]
  },
  {
   "cell_type": "code",
   "execution_count": 10,
   "id": "naval-matter",
   "metadata": {},
   "outputs": [
    {
     "data": {
      "text/plain": [
       "personid\n",
       "100061   3.06\n",
       "100292   3.45\n",
       "101526   3.37\n",
       "101527   3.26\n",
       "102125   3.14\n",
       "Name: gpaoverall, dtype: float64"
      ]
     },
     "execution_count": 10,
     "metadata": {},
     "output_type": "execute_result"
    }
   ],
   "source": [
    "gpaoverall.loc[gpaoverall.between(3, 3.5)].head(5)"
   ]
  },
  {
   "cell_type": "code",
   "execution_count": 11,
   "id": "adjusted-sense",
   "metadata": {},
   "outputs": [
    {
     "data": {
      "text/plain": [
       "5416.26"
      ]
     },
     "execution_count": 11,
     "metadata": {},
     "output_type": "execute_result"
    }
   ],
   "source": [
    "gpaoverall.loc[gpaoverall.between(3, 3.5)].sum()"
   ]
  },
  {
   "cell_type": "code",
   "execution_count": 13,
   "id": "prime-continent",
   "metadata": {},
   "outputs": [
    {
     "data": {
      "text/plain": [
       "personid\n",
       "932782   1.90\n",
       "561335   1.82\n",
       "850001   4.10\n",
       "292455   1.97\n",
       "644271   1.97\n",
       "Name: gpaoverall, dtype: float64"
      ]
     },
     "execution_count": 13,
     "metadata": {},
     "output_type": "execute_result"
    }
   ],
   "source": [
    "gpaoverall.loc[(gpaoverall < 2) | (gpaoverall > 4)].sample(5, random_state=2)"
   ]
  },
  {
   "cell_type": "code",
   "execution_count": 14,
   "id": "stretch-cooking",
   "metadata": {},
   "outputs": [
    {
     "data": {
      "text/plain": [
       "count   60.00\n",
       "min      3.98\n",
       "max      4.17\n",
       "Name: gpaoverall, dtype: float64"
      ]
     },
     "execution_count": 14,
     "metadata": {},
     "output_type": "execute_result"
    }
   ],
   "source": [
    "gpaoverall.loc[gpaoverall > gpaoverall.quantile(0.99)].agg(\n",
    "    ['count', 'min', 'max'])"
   ]
  },
  {
   "cell_type": "markdown",
   "id": "structured-printing",
   "metadata": {},
   "source": [
    "# Test for a condition across all values"
   ]
  },
  {
   "cell_type": "code",
   "execution_count": 15,
   "id": "empirical-denial",
   "metadata": {},
   "outputs": [
    {
     "data": {
      "text/plain": [
       "True"
      ]
     },
     "execution_count": 15,
     "metadata": {},
     "output_type": "execute_result"
    }
   ],
   "source": [
    "(gpaoverall > 4).any()  # any person has GPA greater than 4"
   ]
  },
  {
   "cell_type": "code",
   "execution_count": 16,
   "id": "shaped-freeware",
   "metadata": {},
   "outputs": [
    {
     "data": {
      "text/plain": [
       "False"
      ]
     },
     "execution_count": 16,
     "metadata": {},
     "output_type": "execute_result"
    }
   ],
   "source": [
    "(gpaoverall >= 0).all()  # all people have GPA greater than or equal 0"
   ]
  },
  {
   "cell_type": "code",
   "execution_count": 18,
   "id": "supposed-trash",
   "metadata": {},
   "outputs": [
    {
     "data": {
      "text/plain": [
       "0"
      ]
     },
     "execution_count": 18,
     "metadata": {},
     "output_type": "execute_result"
    }
   ],
   "source": [
    "(gpaoverall == 0).sum()  # of people with GPA equal to 0"
   ]
  },
  {
   "cell_type": "code",
   "execution_count": 19,
   "id": "systematic-reserve",
   "metadata": {},
   "outputs": [
    {
     "data": {
      "text/plain": [
       "2980"
      ]
     },
     "execution_count": 19,
     "metadata": {},
     "output_type": "execute_result"
    }
   ],
   "source": [
    "gpaoverall.isnull().sum()  # of people with missing value for GPA"
   ]
  },
  {
   "cell_type": "markdown",
   "id": "other-census",
   "metadata": {},
   "source": [
    "# Show descriptives for a subset of the series based on values in a different column"
   ]
  },
  {
   "cell_type": "code",
   "execution_count": 20,
   "id": "drawn-refrigerator",
   "metadata": {},
   "outputs": [
    {
     "data": {
      "text/plain": [
       "3.080417101147028"
      ]
     },
     "execution_count": 20,
     "metadata": {},
     "output_type": "execute_result"
    }
   ],
   "source": [
    "# mean high school GPA for individuals with a wage income in 2016 that's above the 75th percentile\n",
    "nls97.loc[nls97['wageincome'] > nls97['wageincome'].quantile(0.75),\n",
    "          'gpaoverall'].mean()"
   ]
  },
  {
   "cell_type": "code",
   "execution_count": 21,
   "id": "flush-slovenia",
   "metadata": {},
   "outputs": [
    {
     "data": {
      "text/plain": [
       "2.7201434159061284"
      ]
     },
     "execution_count": 21,
     "metadata": {},
     "output_type": "execute_result"
    }
   ],
   "source": [
    "# mean high school GPA for individuals with a wage income in 2016 that's below the 25th percentile\n",
    "nls97.loc[nls97['wageincome'] < nls97['wageincome'].quantile(0.25),\n",
    "          'gpaoverall'].mean()"
   ]
  },
  {
   "cell_type": "markdown",
   "id": "classical-journalism",
   "metadata": {},
   "source": [
    "# Show descriptives and frequencies for a series containing categorical data"
   ]
  },
  {
   "cell_type": "code",
   "execution_count": 22,
   "id": "atlantic-search",
   "metadata": {},
   "outputs": [
    {
     "data": {
      "text/plain": [
       "count        6672\n",
       "unique          5\n",
       "top       Married\n",
       "freq         3066\n",
       "Name: maritalstatus, dtype: object"
      ]
     },
     "execution_count": 22,
     "metadata": {},
     "output_type": "execute_result"
    }
   ],
   "source": [
    "nls97['maritalstatus'].describe()"
   ]
  },
  {
   "cell_type": "code",
   "execution_count": 23,
   "id": "dynamic-layout",
   "metadata": {},
   "outputs": [
    {
     "data": {
      "text/plain": [
       "Married          3066\n",
       "Never-married    2766\n",
       "Divorced          663\n",
       "Separated         154\n",
       "Widowed            23\n",
       "Name: maritalstatus, dtype: int64"
      ]
     },
     "execution_count": 23,
     "metadata": {},
     "output_type": "execute_result"
    }
   ],
   "source": [
    "nls97['maritalstatus'].value_counts()"
   ]
  },
  {
   "cell_type": "code",
   "execution_count": null,
   "id": "pleasant-placement",
   "metadata": {},
   "outputs": [],
   "source": []
  }
 ],
 "metadata": {
  "kernelspec": {
   "display_name": "Python 3",
   "language": "python",
   "name": "python3"
  },
  "language_info": {
   "codemirror_mode": {
    "name": "ipython",
    "version": 3
   },
   "file_extension": ".py",
   "mimetype": "text/x-python",
   "name": "python",
   "nbconvert_exporter": "python",
   "pygments_lexer": "ipython3",
   "version": "3.7.9"
  },
  "toc": {
   "base_numbering": 1,
   "nav_menu": {},
   "number_sections": true,
   "sideBar": true,
   "skip_h1_title": false,
   "title_cell": "Table of Contents",
   "title_sidebar": "Contents",
   "toc_cell": true,
   "toc_position": {},
   "toc_section_display": true,
   "toc_window_display": false
  }
 },
 "nbformat": 4,
 "nbformat_minor": 5
}
