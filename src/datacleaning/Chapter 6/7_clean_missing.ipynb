{
 "cells": [
  {
   "cell_type": "markdown",
   "id": "possible-rebate",
   "metadata": {
    "toc": true
   },
   "source": [
    "<h1>Table of Contents<span class=\"tocSkip\"></span></h1>\n",
    "<div class=\"toc\"><ul class=\"toc-item\"><li><span><a href=\"#Import-pandas-and-load-the-NLS-data\" data-toc-modified-id=\"Import-pandas-and-load-the-NLS-data-1\"><span class=\"toc-item-num\">1&nbsp;&nbsp;</span>Import pandas and load the NLS data</a></span></li><li><span><a href=\"#Check-data-for-missing-values\" data-toc-modified-id=\"Check-data-for-missing-values-2\"><span class=\"toc-item-num\">2&nbsp;&nbsp;</span>Check data for missing values</a></span></li><li><span><a href=\"#Remove-rows-where-nearly-all-the-data-is-missing\" data-toc-modified-id=\"Remove-rows-where-nearly-all-the-data-is-missing-3\"><span class=\"toc-item-num\">3&nbsp;&nbsp;</span>Remove rows where nearly all the data is missing</a></span></li><li><span><a href=\"#Assign-the-mean-of-the-GPA-values-where-it's-missing\" data-toc-modified-id=\"Assign-the-mean-of-the-GPA-values-where-it's-missing-4\"><span class=\"toc-item-num\">4&nbsp;&nbsp;</span>Assign the mean of the GPA values where it's missing</a></span></li><li><span><a href=\"#Use-forward-fill-to-replace-missing-values\" data-toc-modified-id=\"Use-forward-fill-to-replace-missing-values-5\"><span class=\"toc-item-num\">5&nbsp;&nbsp;</span>Use forward fill to replace missing values</a></span></li><li><span><a href=\"#Fill-missing-values-with-the-mean-by-group\" data-toc-modified-id=\"Fill-missing-values-with-the-mean-by-group-6\"><span class=\"toc-item-num\">6&nbsp;&nbsp;</span>Fill missing values with the mean by group</a></span></li></ul></div>"
   ]
  },
  {
   "cell_type": "markdown",
   "id": "bacterial-christopher",
   "metadata": {},
   "source": [
    "# Import pandas and load the NLS data"
   ]
  },
  {
   "cell_type": "code",
   "execution_count": 1,
   "id": "distinct-hammer",
   "metadata": {},
   "outputs": [],
   "source": [
    "import pandas as pd"
   ]
  },
  {
   "cell_type": "code",
   "execution_count": 2,
   "id": "involved-gallery",
   "metadata": {},
   "outputs": [],
   "source": [
    "# pd.set_option('display.width', 200)\n",
    "# pd.set_option('display.max_columns', 12)\n",
    "# pd.set_option('display.max_rows', 100)\n",
    "# pd.options.display.float_format = '{:,.0f}'.format"
   ]
  },
  {
   "cell_type": "code",
   "execution_count": 3,
   "id": "legitimate-purse",
   "metadata": {},
   "outputs": [
    {
     "name": "stdout",
     "output_type": "stream",
     "text": [
      "json     : 2.0.9\n",
      "pandas   : 1.2.1\n",
      "watermark: 2.1.0\n",
      "\n"
     ]
    }
   ],
   "source": [
    "import watermark\n",
    "%load_ext watermark\n",
    "\n",
    "%watermark -n -i -iv"
   ]
  },
  {
   "cell_type": "code",
   "execution_count": 4,
   "id": "metric-country",
   "metadata": {},
   "outputs": [],
   "source": [
    "nls97 = pd.read_csv('data/nls97c.csv')\n",
    "nls97.set_index('personid', inplace=True)"
   ]
  },
  {
   "cell_type": "code",
   "execution_count": 6,
   "id": "limiting-knowing",
   "metadata": {},
   "outputs": [],
   "source": [
    "schoolrecordlist = [\n",
    "    'satverbal', 'satmath', 'gpaoverall', 'gpaenglish', 'gpamath',\n",
    "    'gpascience', 'highestdegree', 'highestgradecompleted'\n",
    "]"
   ]
  },
  {
   "cell_type": "code",
   "execution_count": 7,
   "id": "acting-initial",
   "metadata": {},
   "outputs": [],
   "source": [
    "demolist = [\n",
    "    'maritalstatus', 'childathome', 'childnotathome', 'wageincome',\n",
    "    'weeklyhrscomputer', 'weeklyhrstv', 'nightlyhrssleep'\n",
    "]"
   ]
  },
  {
   "cell_type": "code",
   "execution_count": 8,
   "id": "federal-papua",
   "metadata": {},
   "outputs": [],
   "source": [
    "schoolrecord = nls97[schoolrecordlist]"
   ]
  },
  {
   "cell_type": "code",
   "execution_count": 9,
   "id": "oriented-diagram",
   "metadata": {},
   "outputs": [],
   "source": [
    "demo = nls97[demolist]"
   ]
  },
  {
   "cell_type": "code",
   "execution_count": 10,
   "id": "stainless-oriental",
   "metadata": {},
   "outputs": [
    {
     "data": {
      "text/plain": [
       "(8984, 8)"
      ]
     },
     "execution_count": 10,
     "metadata": {},
     "output_type": "execute_result"
    }
   ],
   "source": [
    "schoolrecord.shape"
   ]
  },
  {
   "cell_type": "code",
   "execution_count": 11,
   "id": "ideal-winning",
   "metadata": {},
   "outputs": [
    {
     "data": {
      "text/plain": [
       "(8984, 7)"
      ]
     },
     "execution_count": 11,
     "metadata": {},
     "output_type": "execute_result"
    }
   ],
   "source": [
    "demo.shape"
   ]
  },
  {
   "cell_type": "markdown",
   "id": "piano-music",
   "metadata": {},
   "source": [
    "# Check data for missing values"
   ]
  },
  {
   "cell_type": "code",
   "execution_count": 12,
   "id": "persistent-strength",
   "metadata": {},
   "outputs": [
    {
     "data": {
      "text/plain": [
       "satverbal                7578\n",
       "satmath                  7577\n",
       "gpaoverall               2980\n",
       "gpaenglish               3186\n",
       "gpamath                  3218\n",
       "gpascience               3300\n",
       "highestdegree              31\n",
       "highestgradecompleted    2321\n",
       "dtype: int64"
      ]
     },
     "execution_count": 12,
     "metadata": {},
     "output_type": "execute_result"
    }
   ],
   "source": [
    "# By setting axis=1, we can check the number of missing values for each row.\n",
    "\n",
    "schoolrecord.isnull().sum(axis=0)"
   ]
  },
  {
   "cell_type": "code",
   "execution_count": 13,
   "id": "featured-writer",
   "metadata": {},
   "outputs": [],
   "source": [
    "missing_count = schoolrecord.isnull().sum(axis=1)"
   ]
  },
  {
   "cell_type": "code",
   "execution_count": 14,
   "id": "prepared-extent",
   "metadata": {},
   "outputs": [
    {
     "data": {
      "text/plain": [
       "0    1087\n",
       "1     312\n",
       "2    3210\n",
       "3    1102\n",
       "4     176\n",
       "5     101\n",
       "6    2039\n",
       "7     946\n",
       "8      11\n",
       "dtype: int64"
      ]
     },
     "execution_count": 14,
     "metadata": {},
     "output_type": "execute_result"
    }
   ],
   "source": [
    "missing_count.value_counts().sort_index()"
   ]
  },
  {
   "cell_type": "code",
   "execution_count": 15,
   "id": "suspected-assembly",
   "metadata": {},
   "outputs": [
    {
     "data": {
      "text/html": [
       "<div>\n",
       "<style scoped>\n",
       "    .dataframe tbody tr th:only-of-type {\n",
       "        vertical-align: middle;\n",
       "    }\n",
       "\n",
       "    .dataframe tbody tr th {\n",
       "        vertical-align: top;\n",
       "    }\n",
       "\n",
       "    .dataframe thead th {\n",
       "        text-align: right;\n",
       "    }\n",
       "</style>\n",
       "<table border=\"1\" class=\"dataframe\">\n",
       "  <thead>\n",
       "    <tr style=\"text-align: right;\">\n",
       "      <th>personid</th>\n",
       "      <th>101705</th>\n",
       "      <th>102061</th>\n",
       "      <th>102648</th>\n",
       "      <th>104627</th>\n",
       "    </tr>\n",
       "  </thead>\n",
       "  <tbody>\n",
       "    <tr>\n",
       "      <th>satverbal</th>\n",
       "      <td>NaN</td>\n",
       "      <td>NaN</td>\n",
       "      <td>NaN</td>\n",
       "      <td>NaN</td>\n",
       "    </tr>\n",
       "    <tr>\n",
       "      <th>satmath</th>\n",
       "      <td>NaN</td>\n",
       "      <td>NaN</td>\n",
       "      <td>NaN</td>\n",
       "      <td>NaN</td>\n",
       "    </tr>\n",
       "    <tr>\n",
       "      <th>gpaoverall</th>\n",
       "      <td>NaN</td>\n",
       "      <td>NaN</td>\n",
       "      <td>NaN</td>\n",
       "      <td>NaN</td>\n",
       "    </tr>\n",
       "    <tr>\n",
       "      <th>gpaenglish</th>\n",
       "      <td>NaN</td>\n",
       "      <td>NaN</td>\n",
       "      <td>NaN</td>\n",
       "      <td>NaN</td>\n",
       "    </tr>\n",
       "    <tr>\n",
       "      <th>gpamath</th>\n",
       "      <td>NaN</td>\n",
       "      <td>NaN</td>\n",
       "      <td>NaN</td>\n",
       "      <td>NaN</td>\n",
       "    </tr>\n",
       "    <tr>\n",
       "      <th>gpascience</th>\n",
       "      <td>NaN</td>\n",
       "      <td>NaN</td>\n",
       "      <td>NaN</td>\n",
       "      <td>NaN</td>\n",
       "    </tr>\n",
       "    <tr>\n",
       "      <th>highestdegree</th>\n",
       "      <td>1. GED</td>\n",
       "      <td>0. None</td>\n",
       "      <td>1. GED</td>\n",
       "      <td>0. None</td>\n",
       "    </tr>\n",
       "    <tr>\n",
       "      <th>highestgradecompleted</th>\n",
       "      <td>NaN</td>\n",
       "      <td>NaN</td>\n",
       "      <td>NaN</td>\n",
       "      <td>NaN</td>\n",
       "    </tr>\n",
       "  </tbody>\n",
       "</table>\n",
       "</div>"
      ],
      "text/plain": [
       "personid               101705   102061  102648   104627\n",
       "satverbal                 NaN      NaN     NaN      NaN\n",
       "satmath                   NaN      NaN     NaN      NaN\n",
       "gpaoverall                NaN      NaN     NaN      NaN\n",
       "gpaenglish                NaN      NaN     NaN      NaN\n",
       "gpamath                   NaN      NaN     NaN      NaN\n",
       "gpascience                NaN      NaN     NaN      NaN\n",
       "highestdegree          1. GED  0. None  1. GED  0. None\n",
       "highestgradecompleted     NaN      NaN     NaN      NaN"
      ]
     },
     "execution_count": 15,
     "metadata": {},
     "output_type": "execute_result"
    }
   ],
   "source": [
    "schoolrecord.loc[missing_count >= 7].head(4).T"
   ]
  },
  {
   "cell_type": "markdown",
   "id": "compound-worth",
   "metadata": {},
   "source": [
    "# Remove rows where nearly all the data is missing"
   ]
  },
  {
   "cell_type": "code",
   "execution_count": 16,
   "id": "horizontal-theme",
   "metadata": {},
   "outputs": [],
   "source": [
    "schoolrecord = schoolrecord.dropna(thresh=2)"
   ]
  },
  {
   "cell_type": "code",
   "execution_count": 17,
   "id": "adjacent-economy",
   "metadata": {},
   "outputs": [
    {
     "data": {
      "text/plain": [
       "0    1087\n",
       "1     312\n",
       "2    3210\n",
       "3    1102\n",
       "4     176\n",
       "5     101\n",
       "6    2039\n",
       "dtype: int64"
      ]
     },
     "execution_count": 17,
     "metadata": {},
     "output_type": "execute_result"
    }
   ],
   "source": [
    "schoolrecord.isnull().sum(axis=1).value_counts().sort_index()"
   ]
  },
  {
   "cell_type": "markdown",
   "id": "proud-bowling",
   "metadata": {},
   "source": [
    "# Assign the mean of the GPA values where it's missing"
   ]
  },
  {
   "cell_type": "code",
   "execution_count": 18,
   "id": "ongoing-granny",
   "metadata": {},
   "outputs": [
    {
     "data": {
      "text/plain": [
       "2"
      ]
     },
     "execution_count": 18,
     "metadata": {},
     "output_type": "execute_result"
    }
   ],
   "source": [
    "int(schoolrecord['gpaoverall'].mean())"
   ]
  },
  {
   "cell_type": "code",
   "execution_count": 20,
   "id": "bizarre-apartment",
   "metadata": {},
   "outputs": [
    {
     "data": {
      "text/plain": [
       "2023"
      ]
     },
     "execution_count": 20,
     "metadata": {},
     "output_type": "execute_result"
    }
   ],
   "source": [
    "schoolrecord['gpaoverall'].isnull().sum()"
   ]
  },
  {
   "cell_type": "code",
   "execution_count": 21,
   "id": "rising-suite",
   "metadata": {},
   "outputs": [],
   "source": [
    "schoolrecord['gpaoverall'].fillna(int(schoolrecord['gpaoverall'].mean()),\n",
    "                                  inplace=True)"
   ]
  },
  {
   "cell_type": "code",
   "execution_count": 22,
   "id": "passive-tumor",
   "metadata": {},
   "outputs": [
    {
     "data": {
      "text/plain": [
       "0"
      ]
     },
     "execution_count": 22,
     "metadata": {},
     "output_type": "execute_result"
    }
   ],
   "source": [
    "schoolrecord['gpaoverall'].isnull().sum()"
   ]
  },
  {
   "cell_type": "markdown",
   "id": "cellular-notice",
   "metadata": {},
   "source": [
    "# Use forward fill to replace missing values"
   ]
  },
  {
   "cell_type": "code",
   "execution_count": 23,
   "id": "extended-climb",
   "metadata": {},
   "outputs": [
    {
     "data": {
      "text/plain": [
       "personid\n",
       "100061     12500.0\n",
       "100139    120000.0\n",
       "100284     58000.0\n",
       "100292         NaN\n",
       "100583     30000.0\n",
       "Name: wageincome, dtype: float64"
      ]
     },
     "execution_count": 23,
     "metadata": {},
     "output_type": "execute_result"
    }
   ],
   "source": [
    "demo['wageincome'].head().T"
   ]
  },
  {
   "cell_type": "code",
   "execution_count": 24,
   "id": "threatened-azerbaijan",
   "metadata": {},
   "outputs": [
    {
     "data": {
      "text/plain": [
       "3893"
      ]
     },
     "execution_count": 24,
     "metadata": {},
     "output_type": "execute_result"
    }
   ],
   "source": [
    "demo['wageincome'].isnull().sum()"
   ]
  },
  {
   "cell_type": "code",
   "execution_count": 27,
   "id": "adequate-rebate",
   "metadata": {},
   "outputs": [],
   "source": [
    "nls97['wageincome'].fillna(method='ffill', inplace=True)"
   ]
  },
  {
   "cell_type": "code",
   "execution_count": 28,
   "id": "chemical-bronze",
   "metadata": {},
   "outputs": [],
   "source": [
    "demo = nls97[demolist]"
   ]
  },
  {
   "cell_type": "code",
   "execution_count": 29,
   "id": "boring-count",
   "metadata": {},
   "outputs": [
    {
     "data": {
      "text/plain": [
       "personid\n",
       "100061     12500.0\n",
       "100139    120000.0\n",
       "100284     58000.0\n",
       "100292     58000.0\n",
       "100583     30000.0\n",
       "Name: wageincome, dtype: float64"
      ]
     },
     "execution_count": 29,
     "metadata": {},
     "output_type": "execute_result"
    }
   ],
   "source": [
    "demo['wageincome'].head().T"
   ]
  },
  {
   "cell_type": "code",
   "execution_count": 30,
   "id": "overall-cloud",
   "metadata": {},
   "outputs": [
    {
     "data": {
      "text/plain": [
       "0"
      ]
     },
     "execution_count": 30,
     "metadata": {},
     "output_type": "execute_result"
    }
   ],
   "source": [
    "demo['wageincome'].isnull().sum()"
   ]
  },
  {
   "cell_type": "markdown",
   "id": "alleged-mapping",
   "metadata": {},
   "source": [
    "# Fill missing values with the mean by group"
   ]
  },
  {
   "cell_type": "code",
   "execution_count": 31,
   "id": "twenty-turkey",
   "metadata": {},
   "outputs": [
    {
     "data": {
      "text/html": [
       "<div>\n",
       "<style scoped>\n",
       "    .dataframe tbody tr th:only-of-type {\n",
       "        vertical-align: middle;\n",
       "    }\n",
       "\n",
       "    .dataframe tbody tr th {\n",
       "        vertical-align: top;\n",
       "    }\n",
       "\n",
       "    .dataframe thead th {\n",
       "        text-align: right;\n",
       "    }\n",
       "</style>\n",
       "<table border=\"1\" class=\"dataframe\">\n",
       "  <thead>\n",
       "    <tr style=\"text-align: right;\">\n",
       "      <th></th>\n",
       "      <th>highestdegree</th>\n",
       "      <th>weeksworked17</th>\n",
       "    </tr>\n",
       "    <tr>\n",
       "      <th>personid</th>\n",
       "      <th></th>\n",
       "      <th></th>\n",
       "    </tr>\n",
       "  </thead>\n",
       "  <tbody>\n",
       "    <tr>\n",
       "      <th>100061</th>\n",
       "      <td>2. High School</td>\n",
       "      <td>48.0</td>\n",
       "    </tr>\n",
       "    <tr>\n",
       "      <th>100139</th>\n",
       "      <td>2. High School</td>\n",
       "      <td>52.0</td>\n",
       "    </tr>\n",
       "    <tr>\n",
       "      <th>100284</th>\n",
       "      <td>0. None</td>\n",
       "      <td>0.0</td>\n",
       "    </tr>\n",
       "    <tr>\n",
       "      <th>100292</th>\n",
       "      <td>4. Bachelors</td>\n",
       "      <td>NaN</td>\n",
       "    </tr>\n",
       "    <tr>\n",
       "      <th>100583</th>\n",
       "      <td>2. High School</td>\n",
       "      <td>52.0</td>\n",
       "    </tr>\n",
       "  </tbody>\n",
       "</table>\n",
       "</div>"
      ],
      "text/plain": [
       "           highestdegree  weeksworked17\n",
       "personid                               \n",
       "100061    2. High School           48.0\n",
       "100139    2. High School           52.0\n",
       "100284           0. None            0.0\n",
       "100292      4. Bachelors            NaN\n",
       "100583    2. High School           52.0"
      ]
     },
     "execution_count": 31,
     "metadata": {},
     "output_type": "execute_result"
    }
   ],
   "source": [
    "nls97[['highestdegree', 'weeksworked17']].head()"
   ]
  },
  {
   "cell_type": "code",
   "execution_count": 32,
   "id": "prerequisite-veteran",
   "metadata": {},
   "outputs": [],
   "source": [
    "workbydegree = nls97.groupby(\n",
    "    ['highestdegree'])['weeksworked17'].mean().reset_index().rename(\n",
    "        columns={'weeksworked17': 'meanweeksworked17'})"
   ]
  },
  {
   "cell_type": "code",
   "execution_count": 33,
   "id": "covered-treasure",
   "metadata": {},
   "outputs": [],
   "source": [
    "nls97 = nls97.reset_index().merge(workbydegree,\n",
    "                                  left_on=['highestdegree'],\n",
    "                                  right_on=['highestdegree'],\n",
    "                                  how='left').set_index('personid')"
   ]
  },
  {
   "cell_type": "code",
   "execution_count": 34,
   "id": "occasional-jamaica",
   "metadata": {},
   "outputs": [],
   "source": [
    "nls97['weeksworked17'].fillna(nls97['meanweeksworked17'], inplace=True)"
   ]
  },
  {
   "cell_type": "code",
   "execution_count": 35,
   "id": "lucky-internship",
   "metadata": {},
   "outputs": [
    {
     "data": {
      "text/html": [
       "<div>\n",
       "<style scoped>\n",
       "    .dataframe tbody tr th:only-of-type {\n",
       "        vertical-align: middle;\n",
       "    }\n",
       "\n",
       "    .dataframe tbody tr th {\n",
       "        vertical-align: top;\n",
       "    }\n",
       "\n",
       "    .dataframe thead th {\n",
       "        text-align: right;\n",
       "    }\n",
       "</style>\n",
       "<table border=\"1\" class=\"dataframe\">\n",
       "  <thead>\n",
       "    <tr style=\"text-align: right;\">\n",
       "      <th></th>\n",
       "      <th>highestdegree</th>\n",
       "      <th>weeksworked17</th>\n",
       "      <th>meanweeksworked17</th>\n",
       "    </tr>\n",
       "    <tr>\n",
       "      <th>personid</th>\n",
       "      <th></th>\n",
       "      <th></th>\n",
       "      <th></th>\n",
       "    </tr>\n",
       "  </thead>\n",
       "  <tbody>\n",
       "    <tr>\n",
       "      <th>100061</th>\n",
       "      <td>2. High School</td>\n",
       "      <td>48.000000</td>\n",
       "      <td>38.150469</td>\n",
       "    </tr>\n",
       "    <tr>\n",
       "      <th>100139</th>\n",
       "      <td>2. High School</td>\n",
       "      <td>52.000000</td>\n",
       "      <td>38.150469</td>\n",
       "    </tr>\n",
       "    <tr>\n",
       "      <th>100284</th>\n",
       "      <td>0. None</td>\n",
       "      <td>0.000000</td>\n",
       "      <td>28.719608</td>\n",
       "    </tr>\n",
       "    <tr>\n",
       "      <th>100292</th>\n",
       "      <td>4. Bachelors</td>\n",
       "      <td>43.565574</td>\n",
       "      <td>43.565574</td>\n",
       "    </tr>\n",
       "    <tr>\n",
       "      <th>100583</th>\n",
       "      <td>2. High School</td>\n",
       "      <td>52.000000</td>\n",
       "      <td>38.150469</td>\n",
       "    </tr>\n",
       "  </tbody>\n",
       "</table>\n",
       "</div>"
      ],
      "text/plain": [
       "           highestdegree  weeksworked17  meanweeksworked17\n",
       "personid                                                  \n",
       "100061    2. High School      48.000000          38.150469\n",
       "100139    2. High School      52.000000          38.150469\n",
       "100284           0. None       0.000000          28.719608\n",
       "100292      4. Bachelors      43.565574          43.565574\n",
       "100583    2. High School      52.000000          38.150469"
      ]
     },
     "execution_count": 35,
     "metadata": {},
     "output_type": "execute_result"
    }
   ],
   "source": [
    "nls97[['highestdegree', 'weeksworked17', 'meanweeksworked17']].head()"
   ]
  },
  {
   "cell_type": "code",
   "execution_count": null,
   "id": "directed-sunset",
   "metadata": {},
   "outputs": [],
   "source": []
  }
 ],
 "metadata": {
  "kernelspec": {
   "display_name": "Python 3",
   "language": "python",
   "name": "python3"
  },
  "language_info": {
   "codemirror_mode": {
    "name": "ipython",
    "version": 3
   },
   "file_extension": ".py",
   "mimetype": "text/x-python",
   "name": "python",
   "nbconvert_exporter": "python",
   "pygments_lexer": "ipython3",
   "version": "3.7.9"
  },
  "toc": {
   "base_numbering": 1,
   "nav_menu": {},
   "number_sections": true,
   "sideBar": true,
   "skip_h1_title": false,
   "title_cell": "Table of Contents",
   "title_sidebar": "Contents",
   "toc_cell": true,
   "toc_position": {},
   "toc_section_display": true,
   "toc_window_display": false
  }
 },
 "nbformat": 4,
 "nbformat_minor": 5
}
