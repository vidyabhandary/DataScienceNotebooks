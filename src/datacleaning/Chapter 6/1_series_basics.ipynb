{
 "cells": [
  {
   "cell_type": "markdown",
   "metadata": {
    "toc": true
   },
   "source": [
    "<h1>Table of Contents<span class=\"tocSkip\"></span></h1>\n",
    "<div class=\"toc\"><ul class=\"toc-item\"><li><span><a href=\"#Import-pandas-and-the-required-NLS-data\" data-toc-modified-id=\"Import-pandas-and-the-required-NLS-data-1\"><span class=\"toc-item-num\">1&nbsp;&nbsp;</span>Import pandas and the required NLS data</a></span></li><li><span><a href=\"#Create-a-series-from-the-GPA-overall-column\" data-toc-modified-id=\"Create-a-series-from-the-GPA-overall-column-2\"><span class=\"toc-item-num\">2&nbsp;&nbsp;</span>Create a series from the GPA overall column</a></span></li><li><span><a href=\"#Select-GPA-values-using-the-bracket-operator\" data-toc-modified-id=\"Select-GPA-values-using-the-bracket-operator-3\"><span class=\"toc-item-num\">3&nbsp;&nbsp;</span>Select GPA values using the bracket operator</a></span></li><li><span><a href=\"#Select-values-using-the-loc-accessor\" data-toc-modified-id=\"Select-values-using-the-loc-accessor-4\"><span class=\"toc-item-num\">4&nbsp;&nbsp;</span>Select values using the loc accessor</a></span></li><li><span><a href=\"#Select-values-using-the-iloc-accessor\" data-toc-modified-id=\"Select-values-using-the-iloc-accessor-5\"><span class=\"toc-item-num\">5&nbsp;&nbsp;</span>Select values using the iloc accessor</a></span></li></ul></div>"
   ]
  },
  {
   "cell_type": "markdown",
   "metadata": {},
   "source": [
    "# Import pandas and the required NLS data"
   ]
  },
  {
   "cell_type": "code",
   "execution_count": 1,
   "metadata": {},
   "outputs": [],
   "source": [
    "import pandas as pd"
   ]
  },
  {
   "cell_type": "code",
   "execution_count": 2,
   "metadata": {},
   "outputs": [],
   "source": [
    "# pd.set_option('display.width', 78)\n",
    "# pd.set_option('display.max_columns', 7)\n",
    "# pd.set_option('display.max_rows', 200)\n",
    "pd.options.display.float_format = '{:,.2f}'.format"
   ]
  },
  {
   "cell_type": "code",
   "execution_count": 3,
   "metadata": {},
   "outputs": [
    {
     "name": "stdout",
     "output_type": "stream",
     "text": [
      "json     : 2.0.9\n",
      "watermark: 2.1.0\n",
      "pandas   : 1.2.1\n",
      "\n"
     ]
    }
   ],
   "source": [
    "import watermark\n",
    "%load_ext watermark\n",
    "\n",
    "%watermark -n -i -iv"
   ]
  },
  {
   "cell_type": "code",
   "execution_count": 4,
   "metadata": {},
   "outputs": [],
   "source": [
    "nls97 = pd.read_csv('data/nls97b.csv')\n",
    "nls97.set_index('personid', inplace=True)"
   ]
  },
  {
   "cell_type": "markdown",
   "metadata": {},
   "source": [
    "# Create a series from the GPA overall column"
   ]
  },
  {
   "cell_type": "code",
   "execution_count": 5,
   "metadata": {},
   "outputs": [
    {
     "data": {
      "text/plain": [
       "pandas.core.series.Series"
      ]
     },
     "execution_count": 5,
     "metadata": {},
     "output_type": "execute_result"
    }
   ],
   "source": [
    "gpaoverall = nls97['gpaoverall']\n",
    "type(gpaoverall)"
   ]
  },
  {
   "cell_type": "code",
   "execution_count": 6,
   "metadata": {},
   "outputs": [
    {
     "data": {
      "text/plain": [
       "personid\n",
       "100061   3.06\n",
       "100139    NaN\n",
       "Name: gpaoverall, dtype: float64"
      ]
     },
     "execution_count": 6,
     "metadata": {},
     "output_type": "execute_result"
    }
   ],
   "source": [
    "gpaoverall.head(2)"
   ]
  },
  {
   "cell_type": "code",
   "execution_count": 7,
   "metadata": {},
   "outputs": [
    {
     "data": {
      "text/plain": [
       "Int64Index([100061, 100139, 100284, 100292, 100583, 100833, 100931, 101089,\n",
       "            101122, 101132,\n",
       "            ...\n",
       "            998997, 999031, 999053, 999087, 999103, 999291, 999406, 999543,\n",
       "            999698, 999963],\n",
       "           dtype='int64', name='personid', length=8984)"
      ]
     },
     "execution_count": 7,
     "metadata": {},
     "output_type": "execute_result"
    }
   ],
   "source": [
    "gpaoverall.index"
   ]
  },
  {
   "cell_type": "markdown",
   "metadata": {},
   "source": [
    "# Select GPA values using the bracket operator"
   ]
  },
  {
   "cell_type": "code",
   "execution_count": 8,
   "metadata": {},
   "outputs": [
    {
     "data": {
      "text/plain": [
       "personid\n",
       "100061   3.06\n",
       "100139    NaN\n",
       "100284    NaN\n",
       "100292   3.45\n",
       "100583   2.91\n",
       "Name: gpaoverall, dtype: float64"
      ]
     },
     "execution_count": 8,
     "metadata": {},
     "output_type": "execute_result"
    }
   ],
   "source": [
    "gpaoverall[:5]"
   ]
  },
  {
   "cell_type": "code",
   "execution_count": 9,
   "metadata": {},
   "outputs": [
    {
     "data": {
      "text/plain": [
       "personid\n",
       "999291   3.11\n",
       "999406   2.17\n",
       "999543    NaN\n",
       "999698    NaN\n",
       "999963   3.78\n",
       "Name: gpaoverall, dtype: float64"
      ]
     },
     "execution_count": 9,
     "metadata": {},
     "output_type": "execute_result"
    }
   ],
   "source": [
    "gpaoverall.tail()"
   ]
  },
  {
   "cell_type": "code",
   "execution_count": 10,
   "metadata": {},
   "outputs": [
    {
     "data": {
      "text/plain": [
       "personid\n",
       "999291   3.11\n",
       "999406   2.17\n",
       "999543    NaN\n",
       "999698    NaN\n",
       "999963   3.78\n",
       "Name: gpaoverall, dtype: float64"
      ]
     },
     "execution_count": 10,
     "metadata": {},
     "output_type": "execute_result"
    }
   ],
   "source": [
    "gpaoverall[-5:]"
   ]
  },
  {
   "cell_type": "markdown",
   "metadata": {},
   "source": [
    "# Select values using the loc accessor"
   ]
  },
  {
   "cell_type": "code",
   "execution_count": 11,
   "metadata": {},
   "outputs": [
    {
     "data": {
      "text/plain": [
       "3.06"
      ]
     },
     "execution_count": 11,
     "metadata": {},
     "output_type": "execute_result"
    }
   ],
   "source": [
    "gpaoverall.loc[100061]"
   ]
  },
  {
   "cell_type": "code",
   "execution_count": 12,
   "metadata": {},
   "outputs": [
    {
     "data": {
      "text/plain": [
       "personid\n",
       "100061   3.06\n",
       "Name: gpaoverall, dtype: float64"
      ]
     },
     "execution_count": 12,
     "metadata": {},
     "output_type": "execute_result"
    }
   ],
   "source": [
    "gpaoverall.loc[[100061]]"
   ]
  },
  {
   "cell_type": "code",
   "execution_count": 13,
   "metadata": {},
   "outputs": [
    {
     "data": {
      "text/plain": [
       "personid\n",
       "100061   3.06\n",
       "100139    NaN\n",
       "100284    NaN\n",
       "Name: gpaoverall, dtype: float64"
      ]
     },
     "execution_count": 13,
     "metadata": {},
     "output_type": "execute_result"
    }
   ],
   "source": [
    "gpaoverall.loc[[100061,100139,100284]]"
   ]
  },
  {
   "cell_type": "code",
   "execution_count": 14,
   "metadata": {},
   "outputs": [
    {
     "data": {
      "text/plain": [
       "personid\n",
       "100061   3.06\n",
       "100139    NaN\n",
       "100284    NaN\n",
       "100292   3.45\n",
       "100583   2.91\n",
       "100833   2.46\n",
       "Name: gpaoverall, dtype: float64"
      ]
     },
     "execution_count": 14,
     "metadata": {},
     "output_type": "execute_result"
    }
   ],
   "source": [
    "gpaoverall.loc[100061:100833]"
   ]
  },
  {
   "cell_type": "markdown",
   "metadata": {},
   "source": [
    "# Select values using the iloc accessor"
   ]
  },
  {
   "cell_type": "code",
   "execution_count": 15,
   "metadata": {},
   "outputs": [
    {
     "data": {
      "text/plain": [
       "personid\n",
       "100061   3.06\n",
       "Name: gpaoverall, dtype: float64"
      ]
     },
     "execution_count": 15,
     "metadata": {},
     "output_type": "execute_result"
    }
   ],
   "source": [
    "gpaoverall.iloc[[0]]"
   ]
  },
  {
   "cell_type": "code",
   "execution_count": 16,
   "metadata": {},
   "outputs": [
    {
     "data": {
      "text/plain": [
       "personid\n",
       "100061   3.06\n",
       "100139    NaN\n",
       "100284    NaN\n",
       "100292   3.45\n",
       "100583   2.91\n",
       "Name: gpaoverall, dtype: float64"
      ]
     },
     "execution_count": 16,
     "metadata": {},
     "output_type": "execute_result"
    }
   ],
   "source": [
    "gpaoverall.iloc[[0,1,2,3,4]]"
   ]
  },
  {
   "cell_type": "code",
   "execution_count": 17,
   "metadata": {},
   "outputs": [
    {
     "data": {
      "text/plain": [
       "personid\n",
       "100061   3.06\n",
       "100139    NaN\n",
       "100284    NaN\n",
       "100292   3.45\n",
       "100583   2.91\n",
       "Name: gpaoverall, dtype: float64"
      ]
     },
     "execution_count": 17,
     "metadata": {},
     "output_type": "execute_result"
    }
   ],
   "source": [
    "gpaoverall.iloc[:5]"
   ]
  },
  {
   "cell_type": "code",
   "execution_count": 18,
   "metadata": {},
   "outputs": [
    {
     "data": {
      "text/plain": [
       "personid\n",
       "999291   3.11\n",
       "999406   2.17\n",
       "999543    NaN\n",
       "999698    NaN\n",
       "999963   3.78\n",
       "Name: gpaoverall, dtype: float64"
      ]
     },
     "execution_count": 18,
     "metadata": {},
     "output_type": "execute_result"
    }
   ],
   "source": [
    "gpaoverall.iloc[-5:]"
   ]
  },
  {
   "cell_type": "code",
   "execution_count": null,
   "metadata": {},
   "outputs": [],
   "source": []
  }
 ],
 "metadata": {
  "kernelspec": {
   "display_name": "Python 3",
   "language": "python",
   "name": "python3"
  },
  "language_info": {
   "codemirror_mode": {
    "name": "ipython",
    "version": 3
   },
   "file_extension": ".py",
   "mimetype": "text/x-python",
   "name": "python",
   "nbconvert_exporter": "python",
   "pygments_lexer": "ipython3",
   "version": "3.7.9"
  },
  "toc": {
   "base_numbering": 1,
   "nav_menu": {},
   "number_sections": true,
   "sideBar": true,
   "skip_h1_title": false,
   "title_cell": "Table of Contents",
   "title_sidebar": "Contents",
   "toc_cell": true,
   "toc_position": {},
   "toc_section_display": true,
   "toc_window_display": false
  }
 },
 "nbformat": 4,
 "nbformat_minor": 2
}
