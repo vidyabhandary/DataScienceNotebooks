{
 "cells": [
  {
   "cell_type": "markdown",
   "id": "breeding-jewel",
   "metadata": {
    "toc": true
   },
   "source": [
    "<h1>Table of Contents<span class=\"tocSkip\"></span></h1>\n",
    "<div class=\"toc\"><ul class=\"toc-item\"><li><span><a href=\"#Import-pandas,-numpy,-and-the-datetime-module,-and-then-load-the-NLS-and-COVID-case-daily-data:\" data-toc-modified-id=\"Import-pandas,-numpy,-and-the-datetime-module,-and-then-load-the-NLS-and-COVID-case-daily-data:-1\"><span class=\"toc-item-num\">1&nbsp;&nbsp;</span>Import pandas, numpy, and the datetime module, and then load the NLS and COVID case daily data:</a></span></li><li><span><a href=\"#Show-the-birth-month-and-year-values\" data-toc-modified-id=\"Show-the-birth-month-and-year-values-2\"><span class=\"toc-item-num\">2&nbsp;&nbsp;</span>Show the birth month and year values</a></span></li><li><span><a href=\"#Use-the-series-fillna-method-to-set-a-value-for-the-missing-birth-month\" data-toc-modified-id=\"Use-the-series-fillna-method-to-set-a-value-for-the-missing-birth-month-3\"><span class=\"toc-item-num\">3&nbsp;&nbsp;</span>Use the series fillna method to set a value for the missing birth month</a></span></li><li><span><a href=\"#Use-month-and-date-integers-to-create-a-datetime-column\" data-toc-modified-id=\"Use-month-and-date-integers-to-create-a-datetime-column-4\"><span class=\"toc-item-num\">4&nbsp;&nbsp;</span>Use month and date integers to create a datetime column</a></span></li><li><span><a href=\"#Calculate-age-values-using-a-datetime-column\" data-toc-modified-id=\"Calculate-age-values-using-a-datetime-column-5\"><span class=\"toc-item-num\">5&nbsp;&nbsp;</span>Calculate age values using a datetime column</a></span></li><li><span><a href=\"#Convert-a-string-column-into-a-datetime-column\" data-toc-modified-id=\"Convert-a-string-column-into-a-datetime-column-6\"><span class=\"toc-item-num\">6&nbsp;&nbsp;</span>Convert a string column into a datetime column</a></span></li><li><span><a href=\"#Show-descriptive-statistics-on-the-datetime-column\" data-toc-modified-id=\"Show-descriptive-statistics-on-the-datetime-column-7\"><span class=\"toc-item-num\">7&nbsp;&nbsp;</span>Show descriptive statistics on the datetime column</a></span></li><li><span><a href=\"#Create-a-timedelta-object-to-capture-a-date-interval\" data-toc-modified-id=\"Create-a-timedelta-object-to-capture-a-date-interval-8\"><span class=\"toc-item-num\">8&nbsp;&nbsp;</span>Create a timedelta object to capture a date interval</a></span></li></ul></div>"
   ]
  },
  {
   "cell_type": "markdown",
   "id": "several-earth",
   "metadata": {},
   "source": [
    "# Import pandas, numpy, and the datetime module, and then load the NLS and COVID case daily data:"
   ]
  },
  {
   "cell_type": "code",
   "execution_count": 1,
   "id": "spanish-reality",
   "metadata": {},
   "outputs": [],
   "source": [
    "import pandas as pd\n",
    "import numpy as np\n",
    "from datetime import datetime"
   ]
  },
  {
   "cell_type": "code",
   "execution_count": 2,
   "id": "concrete-prompt",
   "metadata": {},
   "outputs": [],
   "source": [
    "# pd.set_option('display.width', 200)\n",
    "# pd.set_option('display.max_columns', 35)\n",
    "# pd.set_option('display.max_rows', 220)\n",
    "# pd.options.display.float_format = '{:,.0f}'.format"
   ]
  },
  {
   "cell_type": "code",
   "execution_count": 3,
   "id": "structural-construction",
   "metadata": {},
   "outputs": [
    {
     "name": "stdout",
     "output_type": "stream",
     "text": [
      "numpy    : 1.19.2\n",
      "watermark: 2.1.0\n",
      "pandas   : 1.2.1\n",
      "json     : 2.0.9\n",
      "\n"
     ]
    }
   ],
   "source": [
    "import watermark\n",
    "%load_ext watermark\n",
    "\n",
    "%watermark -n -i -iv"
   ]
  },
  {
   "cell_type": "code",
   "execution_count": 4,
   "id": "outside-contract",
   "metadata": {},
   "outputs": [],
   "source": [
    "covidcases = pd.read_csv('data/covidcases720.csv')\n",
    "nls97 = pd.read_csv('data/nls97c.csv')\n",
    "nls97.set_index('personid', inplace=True)"
   ]
  },
  {
   "cell_type": "markdown",
   "id": "strong-explanation",
   "metadata": {},
   "source": [
    "# Show the birth month and year values"
   ]
  },
  {
   "cell_type": "code",
   "execution_count": 5,
   "id": "composed-diamond",
   "metadata": {},
   "outputs": [
    {
     "data": {
      "text/plain": [
       "birthmonth    1\n",
       "birthyear     0\n",
       "dtype: int64"
      ]
     },
     "execution_count": 5,
     "metadata": {},
     "output_type": "execute_result"
    }
   ],
   "source": [
    "nls97[['birthmonth', 'birthyear']].isnull().sum()"
   ]
  },
  {
   "cell_type": "code",
   "execution_count": 6,
   "id": "agreed-thompson",
   "metadata": {},
   "outputs": [
    {
     "data": {
      "text/plain": [
       "1.0     815\n",
       "2.0     693\n",
       "3.0     760\n",
       "4.0     659\n",
       "5.0     689\n",
       "6.0     720\n",
       "7.0     762\n",
       "8.0     782\n",
       "9.0     839\n",
       "10.0    765\n",
       "11.0    763\n",
       "12.0    736\n",
       "Name: birthmonth, dtype: int64"
      ]
     },
     "execution_count": 6,
     "metadata": {},
     "output_type": "execute_result"
    }
   ],
   "source": [
    "nls97['birthmonth'].value_counts().sort_index()"
   ]
  },
  {
   "cell_type": "code",
   "execution_count": 7,
   "id": "polish-alpha",
   "metadata": {},
   "outputs": [
    {
     "data": {
      "text/plain": [
       "1980    1691\n",
       "1981    1874\n",
       "1982    1841\n",
       "1983    1807\n",
       "1984    1771\n",
       "Name: birthyear, dtype: int64"
      ]
     },
     "execution_count": 7,
     "metadata": {},
     "output_type": "execute_result"
    }
   ],
   "source": [
    "nls97['birthyear'].value_counts().sort_index()"
   ]
  },
  {
   "cell_type": "markdown",
   "id": "bright-cornwall",
   "metadata": {},
   "source": [
    "# Use the series fillna method to set a value for the missing birth month"
   ]
  },
  {
   "cell_type": "code",
   "execution_count": 8,
   "id": "suited-haven",
   "metadata": {},
   "outputs": [],
   "source": [
    "nls97['birthmonth'].fillna(int(nls97['birthmonth'].mean()), inplace=True)"
   ]
  },
  {
   "cell_type": "code",
   "execution_count": 9,
   "id": "minus-receiver",
   "metadata": {},
   "outputs": [
    {
     "data": {
      "text/plain": [
       "1.0     815\n",
       "2.0     693\n",
       "3.0     760\n",
       "4.0     659\n",
       "5.0     689\n",
       "6.0     721\n",
       "7.0     762\n",
       "8.0     782\n",
       "9.0     839\n",
       "10.0    765\n",
       "11.0    763\n",
       "12.0    736\n",
       "Name: birthmonth, dtype: int64"
      ]
     },
     "execution_count": 9,
     "metadata": {},
     "output_type": "execute_result"
    }
   ],
   "source": [
    "nls97['birthmonth'].value_counts().sort_index()"
   ]
  },
  {
   "cell_type": "code",
   "execution_count": 10,
   "id": "saving-burlington",
   "metadata": {},
   "outputs": [
    {
     "name": "stdout",
     "output_type": "stream",
     "text": [
      "<class 'pandas.core.frame.DataFrame'>\n",
      "Int64Index: 8984 entries, 100061 to 999963\n",
      "Data columns (total 88 columns):\n",
      " #   Column                 Non-Null Count  Dtype  \n",
      "---  ------                 --------------  -----  \n",
      " 0   gender                 8984 non-null   object \n",
      " 1   birthmonth             8984 non-null   float64\n",
      " 2   birthyear              8984 non-null   int64  \n",
      " 3   highestgradecompleted  6663 non-null   float64\n",
      " 4   maritalstatus          6672 non-null   object \n",
      " 5   childathome            4791 non-null   float64\n",
      " 6   childnotathome         4791 non-null   float64\n",
      " 7   wageincome             5091 non-null   float64\n",
      " 8   weeklyhrscomputer      6710 non-null   object \n",
      " 9   weeklyhrstv            6711 non-null   object \n",
      " 10  nightlyhrssleep        6706 non-null   float64\n",
      " 11  satverbal              1406 non-null   float64\n",
      " 12  satmath                1407 non-null   float64\n",
      " 13  gpaoverall             6004 non-null   float64\n",
      " 14  gpaenglish             5798 non-null   float64\n",
      " 15  gpamath                5766 non-null   float64\n",
      " 16  gpascience             5684 non-null   float64\n",
      " 17  highestdegree          8953 non-null   object \n",
      " 18  govprovidejobs         1833 non-null   object \n",
      " 19  govpricecontrols       1859 non-null   object \n",
      " 20  govhealthcare          1874 non-null   object \n",
      " 21  govelderliving         1872 non-null   object \n",
      " 22  govindhelp             1815 non-null   object \n",
      " 23  govunemp               1811 non-null   object \n",
      " 24  govincomediff          1775 non-null   object \n",
      " 25  govcollegefinance      1875 non-null   object \n",
      " 26  govdecenthousing       1847 non-null   object \n",
      " 27  govprotectenvironment  1860 non-null   object \n",
      " 28  weeksworked00          8603 non-null   float64\n",
      " 29  weeksworked01          8564 non-null   float64\n",
      " 30  weeksworked02          8556 non-null   float64\n",
      " 31  weeksworked03          8490 non-null   float64\n",
      " 32  weeksworked04          8458 non-null   float64\n",
      " 33  weeksworked05          8403 non-null   float64\n",
      " 34  weeksworked06          8340 non-null   float64\n",
      " 35  weeksworked07          8272 non-null   float64\n",
      " 36  weeksworked08          8186 non-null   float64\n",
      " 37  weeksworked09          8146 non-null   float64\n",
      " 38  weeksworked10          8054 non-null   float64\n",
      " 39  weeksworked11          7968 non-null   float64\n",
      " 40  weeksworked12          7747 non-null   float64\n",
      " 41  weeksworked13          7680 non-null   float64\n",
      " 42  weeksworked14          7612 non-null   float64\n",
      " 43  weeksworked15          7389 non-null   float64\n",
      " 44  weeksworked16          7068 non-null   float64\n",
      " 45  weeksworked17          6670 non-null   float64\n",
      " 46  colenrfeb97            1250 non-null   object \n",
      " 47  colenroct97            8501 non-null   object \n",
      " 48  colenrfeb98            8501 non-null   object \n",
      " 49  colenroct98            8888 non-null   object \n",
      " 50  colenrfeb99            8865 non-null   object \n",
      " 51  colenroct99            8851 non-null   object \n",
      " 52  colenrfeb00            8820 non-null   object \n",
      " 53  colenroct00            8805 non-null   object \n",
      " 54  colenrfeb01            8786 non-null   object \n",
      " 55  colenroct01            8758 non-null   object \n",
      " 56  colenrfeb02            8732 non-null   object \n",
      " 57  colenroct02            8698 non-null   object \n",
      " 58  colenrfeb03            8658 non-null   object \n",
      " 59  colenroct03            8622 non-null   object \n",
      " 60  colenrfeb04            8578 non-null   object \n",
      " 61  colenroct04            8546 non-null   object \n",
      " 62  colenrfeb05            8508 non-null   object \n",
      " 63  colenroct05            8471 non-null   object \n",
      " 64  colenrfeb06            8426 non-null   object \n",
      " 65  colenroct06            8407 non-null   object \n",
      " 66  colenrfeb07            8352 non-null   object \n",
      " 67  colenroct07            8331 non-null   object \n",
      " 68  colenrfeb08            8289 non-null   object \n",
      " 69  colenroct08            8280 non-null   object \n",
      " 70  colenrfeb09            8236 non-null   object \n",
      " 71  colenroct09            8193 non-null   object \n",
      " 72  colenrfeb10            8116 non-null   object \n",
      " 73  colenroct10            8091 non-null   object \n",
      " 74  colenrfeb11            8037 non-null   object \n",
      " 75  colenroct11            7972 non-null   object \n",
      " 76  colenrfeb12            7794 non-null   object \n",
      " 77  colenroct12            7754 non-null   object \n",
      " 78  colenrfeb13            7754 non-null   object \n",
      " 79  colenroct13            7754 non-null   object \n",
      " 80  colenrfeb14            7624 non-null   object \n",
      " 81  colenroct14            7469 non-null   object \n",
      " 82  colenrfeb15            7469 non-null   object \n",
      " 83  colenroct15            7469 non-null   object \n",
      " 84  colenrfeb16            7036 non-null   object \n",
      " 85  colenroct16            6733 non-null   object \n",
      " 86  colenrfeb17            6733 non-null   object \n",
      " 87  colenroct17            6734 non-null   object \n",
      "dtypes: float64(30), int64(1), object(57)\n",
      "memory usage: 6.1+ MB\n"
     ]
    }
   ],
   "source": [
    "nls97.info()"
   ]
  },
  {
   "cell_type": "markdown",
   "id": "polished-cassette",
   "metadata": {},
   "source": [
    "# Use month and date integers to create a datetime column"
   ]
  },
  {
   "cell_type": "code",
   "execution_count": 11,
   "id": "fluid-mitchell",
   "metadata": {},
   "outputs": [],
   "source": [
    "nls97['birthdate'] = pd.to_datetime(\n",
    "    dict(year=nls97['birthyear'], month=nls97['birthmonth'], day=15))"
   ]
  },
  {
   "cell_type": "code",
   "execution_count": 12,
   "id": "helpful-tackle",
   "metadata": {},
   "outputs": [
    {
     "data": {
      "text/html": [
       "<div>\n",
       "<style scoped>\n",
       "    .dataframe tbody tr th:only-of-type {\n",
       "        vertical-align: middle;\n",
       "    }\n",
       "\n",
       "    .dataframe tbody tr th {\n",
       "        vertical-align: top;\n",
       "    }\n",
       "\n",
       "    .dataframe thead th {\n",
       "        text-align: right;\n",
       "    }\n",
       "</style>\n",
       "<table border=\"1\" class=\"dataframe\">\n",
       "  <thead>\n",
       "    <tr style=\"text-align: right;\">\n",
       "      <th></th>\n",
       "      <th>birthmonth</th>\n",
       "      <th>birthyear</th>\n",
       "      <th>birthdate</th>\n",
       "    </tr>\n",
       "    <tr>\n",
       "      <th>personid</th>\n",
       "      <th></th>\n",
       "      <th></th>\n",
       "      <th></th>\n",
       "    </tr>\n",
       "  </thead>\n",
       "  <tbody>\n",
       "    <tr>\n",
       "      <th>100061</th>\n",
       "      <td>5.0</td>\n",
       "      <td>1980</td>\n",
       "      <td>1980-05-15</td>\n",
       "    </tr>\n",
       "    <tr>\n",
       "      <th>100139</th>\n",
       "      <td>9.0</td>\n",
       "      <td>1983</td>\n",
       "      <td>1983-09-15</td>\n",
       "    </tr>\n",
       "    <tr>\n",
       "      <th>100284</th>\n",
       "      <td>11.0</td>\n",
       "      <td>1984</td>\n",
       "      <td>1984-11-15</td>\n",
       "    </tr>\n",
       "    <tr>\n",
       "      <th>100292</th>\n",
       "      <td>4.0</td>\n",
       "      <td>1982</td>\n",
       "      <td>1982-04-15</td>\n",
       "    </tr>\n",
       "    <tr>\n",
       "      <th>100583</th>\n",
       "      <td>6.0</td>\n",
       "      <td>1980</td>\n",
       "      <td>1980-06-15</td>\n",
       "    </tr>\n",
       "  </tbody>\n",
       "</table>\n",
       "</div>"
      ],
      "text/plain": [
       "          birthmonth  birthyear  birthdate\n",
       "personid                                  \n",
       "100061           5.0       1980 1980-05-15\n",
       "100139           9.0       1983 1983-09-15\n",
       "100284          11.0       1984 1984-11-15\n",
       "100292           4.0       1982 1982-04-15\n",
       "100583           6.0       1980 1980-06-15"
      ]
     },
     "execution_count": 12,
     "metadata": {},
     "output_type": "execute_result"
    }
   ],
   "source": [
    "nls97[['birthmonth', 'birthyear', 'birthdate']].head()"
   ]
  },
  {
   "cell_type": "code",
   "execution_count": 13,
   "id": "dynamic-template",
   "metadata": {},
   "outputs": [
    {
     "data": {
      "text/plain": [
       "birthmonth    0\n",
       "birthyear     0\n",
       "birthdate     0\n",
       "dtype: int64"
      ]
     },
     "execution_count": 13,
     "metadata": {},
     "output_type": "execute_result"
    }
   ],
   "source": [
    "nls97[['birthmonth', 'birthyear', 'birthdate']].isnull().sum()"
   ]
  },
  {
   "cell_type": "markdown",
   "id": "enabling-concert",
   "metadata": {},
   "source": [
    "# Calculate age values using a datetime column"
   ]
  },
  {
   "cell_type": "code",
   "execution_count": 24,
   "id": "horizontal-color",
   "metadata": {},
   "outputs": [],
   "source": [
    "def calc_age(startdate, enddate):\n",
    "    age = enddate.year - startdate.year\n",
    "    if (enddate.month < startdate.month or\n",
    "        (enddate.month == startdate.month and enddate.day < startdate.day)):\n",
    "        age = age - 1\n",
    "    return age"
   ]
  },
  {
   "cell_type": "code",
   "execution_count": 25,
   "id": "located-skiing",
   "metadata": {},
   "outputs": [],
   "source": [
    "rundate = pd.to_datetime('2020-07-20')"
   ]
  },
  {
   "cell_type": "code",
   "execution_count": 26,
   "id": "excessive-atmosphere",
   "metadata": {},
   "outputs": [],
   "source": [
    "nls97['age'] = nls97.apply(lambda x: calc_age(x['birthdate'], rundate), axis=1)"
   ]
  },
  {
   "cell_type": "code",
   "execution_count": 27,
   "id": "genetic-offering",
   "metadata": {},
   "outputs": [
    {
     "data": {
      "text/html": [
       "<div>\n",
       "<style scoped>\n",
       "    .dataframe tbody tr th:only-of-type {\n",
       "        vertical-align: middle;\n",
       "    }\n",
       "\n",
       "    .dataframe tbody tr th {\n",
       "        vertical-align: top;\n",
       "    }\n",
       "\n",
       "    .dataframe thead th {\n",
       "        text-align: right;\n",
       "    }\n",
       "</style>\n",
       "<table border=\"1\" class=\"dataframe\">\n",
       "  <thead>\n",
       "    <tr style=\"text-align: right;\">\n",
       "      <th></th>\n",
       "      <th>age</th>\n",
       "      <th>birthdate</th>\n",
       "    </tr>\n",
       "    <tr>\n",
       "      <th>personid</th>\n",
       "      <th></th>\n",
       "      <th></th>\n",
       "    </tr>\n",
       "  </thead>\n",
       "  <tbody>\n",
       "    <tr>\n",
       "      <th>100061</th>\n",
       "      <td>40</td>\n",
       "      <td>1980-05-15</td>\n",
       "    </tr>\n",
       "    <tr>\n",
       "      <th>100139</th>\n",
       "      <td>36</td>\n",
       "      <td>1983-09-15</td>\n",
       "    </tr>\n",
       "    <tr>\n",
       "      <th>100284</th>\n",
       "      <td>35</td>\n",
       "      <td>1984-11-15</td>\n",
       "    </tr>\n",
       "    <tr>\n",
       "      <th>100292</th>\n",
       "      <td>38</td>\n",
       "      <td>1982-04-15</td>\n",
       "    </tr>\n",
       "    <tr>\n",
       "      <th>100583</th>\n",
       "      <td>40</td>\n",
       "      <td>1980-06-15</td>\n",
       "    </tr>\n",
       "  </tbody>\n",
       "</table>\n",
       "</div>"
      ],
      "text/plain": [
       "          age  birthdate\n",
       "personid                \n",
       "100061     40 1980-05-15\n",
       "100139     36 1983-09-15\n",
       "100284     35 1984-11-15\n",
       "100292     38 1982-04-15\n",
       "100583     40 1980-06-15"
      ]
     },
     "execution_count": 27,
     "metadata": {},
     "output_type": "execute_result"
    }
   ],
   "source": [
    "nls97.loc[100061:100583, ['age', 'birthdate']]"
   ]
  },
  {
   "cell_type": "markdown",
   "id": "better-segment",
   "metadata": {},
   "source": [
    "# Convert a string column into a datetime column"
   ]
  },
  {
   "cell_type": "code",
   "execution_count": 28,
   "id": "general-withdrawal",
   "metadata": {},
   "outputs": [
    {
     "data": {
      "text/plain": [
       "iso_code        object\n",
       "continent       object\n",
       "location        object\n",
       "casedate        object\n",
       "total_cases    float64\n",
       "new_cases      float64\n",
       "dtype: object"
      ]
     },
     "execution_count": 28,
     "metadata": {},
     "output_type": "execute_result"
    }
   ],
   "source": [
    "covidcases.iloc[:, 0:6].dtypes"
   ]
  },
  {
   "cell_type": "code",
   "execution_count": 29,
   "id": "alien-mississippi",
   "metadata": {},
   "outputs": [
    {
     "data": {
      "text/html": [
       "<div>\n",
       "<style scoped>\n",
       "    .dataframe tbody tr th:only-of-type {\n",
       "        vertical-align: middle;\n",
       "    }\n",
       "\n",
       "    .dataframe tbody tr th {\n",
       "        vertical-align: top;\n",
       "    }\n",
       "\n",
       "    .dataframe thead th {\n",
       "        text-align: right;\n",
       "    }\n",
       "</style>\n",
       "<table border=\"1\" class=\"dataframe\">\n",
       "  <thead>\n",
       "    <tr style=\"text-align: right;\">\n",
       "      <th></th>\n",
       "      <th>13482</th>\n",
       "      <th>2445</th>\n",
       "    </tr>\n",
       "  </thead>\n",
       "  <tbody>\n",
       "    <tr>\n",
       "      <th>iso_code</th>\n",
       "      <td>IMN</td>\n",
       "      <td>BRB</td>\n",
       "    </tr>\n",
       "    <tr>\n",
       "      <th>continent</th>\n",
       "      <td>Europe</td>\n",
       "      <td>North America</td>\n",
       "    </tr>\n",
       "    <tr>\n",
       "      <th>location</th>\n",
       "      <td>Isle of Man</td>\n",
       "      <td>Barbados</td>\n",
       "    </tr>\n",
       "    <tr>\n",
       "      <th>casedate</th>\n",
       "      <td>2020-06-20</td>\n",
       "      <td>2020-04-28</td>\n",
       "    </tr>\n",
       "    <tr>\n",
       "      <th>total_cases</th>\n",
       "      <td>336.0</td>\n",
       "      <td>80.0</td>\n",
       "    </tr>\n",
       "    <tr>\n",
       "      <th>new_cases</th>\n",
       "      <td>0.0</td>\n",
       "      <td>1.0</td>\n",
       "    </tr>\n",
       "  </tbody>\n",
       "</table>\n",
       "</div>"
      ],
      "text/plain": [
       "                   13482          2445 \n",
       "iso_code             IMN            BRB\n",
       "continent         Europe  North America\n",
       "location     Isle of Man       Barbados\n",
       "casedate      2020-06-20     2020-04-28\n",
       "total_cases        336.0           80.0\n",
       "new_cases            0.0            1.0"
      ]
     },
     "execution_count": 29,
     "metadata": {},
     "output_type": "execute_result"
    }
   ],
   "source": [
    "covidcases.iloc[:, 0:6].sample(2, random_state=1).T"
   ]
  },
  {
   "cell_type": "code",
   "execution_count": 30,
   "id": "incorrect-accessory",
   "metadata": {},
   "outputs": [],
   "source": [
    "covidcases['casedate'] = pd.to_datetime(covidcases['casedate'],\n",
    "                                        format='%Y-%m-%d')"
   ]
  },
  {
   "cell_type": "code",
   "execution_count": 31,
   "id": "alpha-river",
   "metadata": {},
   "outputs": [
    {
     "data": {
      "text/plain": [
       "iso_code               object\n",
       "continent              object\n",
       "location               object\n",
       "casedate       datetime64[ns]\n",
       "total_cases           float64\n",
       "new_cases             float64\n",
       "dtype: object"
      ]
     },
     "execution_count": 31,
     "metadata": {},
     "output_type": "execute_result"
    }
   ],
   "source": [
    "covidcases.iloc[:, 0:6].dtypes"
   ]
  },
  {
   "cell_type": "code",
   "execution_count": 32,
   "id": "original-clinton",
   "metadata": {},
   "outputs": [
    {
     "data": {
      "text/plain": [
       "iso_code                                   object\n",
       "continent                                  object\n",
       "location                                   object\n",
       "casedate                           datetime64[ns]\n",
       "total_cases                               float64\n",
       "new_cases                                 float64\n",
       "total_deaths                              float64\n",
       "new_deaths                                float64\n",
       "total_cases_per_million                   float64\n",
       "new_cases_per_million                     float64\n",
       "total_deaths_per_million                  float64\n",
       "new_deaths_per_million                    float64\n",
       "total_tests                               float64\n",
       "new_tests                                 float64\n",
       "total_tests_per_thousand                  float64\n",
       "new_tests_per_thousand                    float64\n",
       "new_tests_smoothed                        float64\n",
       "new_tests_smoothed_per_thousand           float64\n",
       "tests_units                                object\n",
       "stringency_index                          float64\n",
       "population                                float64\n",
       "population_density                        float64\n",
       "median_age                                float64\n",
       "aged_65_older                             float64\n",
       "aged_70_older                             float64\n",
       "gdp_per_capita                            float64\n",
       "extreme_poverty                           float64\n",
       "cvd_death_rate                            float64\n",
       "diabetes_prevalence                       float64\n",
       "female_smokers                            float64\n",
       "male_smokers                              float64\n",
       "handwashing_facilities                    float64\n",
       "hospital_beds_per_thousand                float64\n",
       "life_expectancy                           float64\n",
       "region                                     object\n",
       "dtype: object"
      ]
     },
     "execution_count": 32,
     "metadata": {},
     "output_type": "execute_result"
    }
   ],
   "source": [
    "covidcases.dtypes"
   ]
  },
  {
   "cell_type": "markdown",
   "id": "seventh-athens",
   "metadata": {},
   "source": [
    "# Show descriptive statistics on the datetime column"
   ]
  },
  {
   "cell_type": "code",
   "execution_count": 33,
   "id": "material-appendix",
   "metadata": {},
   "outputs": [
    {
     "name": "stderr",
     "output_type": "stream",
     "text": [
      "D:\\ProgramData\\Anaconda3\\envs\\dsn\\lib\\site-packages\\ipykernel_launcher.py:1: FutureWarning: Treating datetime data as categorical rather than numeric in `.describe` is deprecated and will be removed in a future version of pandas. Specify `datetime_is_numeric=True` to silence this warning and adopt the future behavior now.\n",
      "  \"\"\"Entry point for launching an IPython kernel.\n"
     ]
    },
    {
     "data": {
      "text/plain": [
       "count                   29529\n",
       "unique                    195\n",
       "top       2020-05-23 00:00:00\n",
       "freq                      209\n",
       "first     2019-12-31 00:00:00\n",
       "last      2020-07-12 00:00:00\n",
       "Name: casedate, dtype: object"
      ]
     },
     "execution_count": 33,
     "metadata": {},
     "output_type": "execute_result"
    }
   ],
   "source": [
    "covidcases['casedate'].describe()"
   ]
  },
  {
   "cell_type": "markdown",
   "id": "durable-defensive",
   "metadata": {},
   "source": [
    "# Create a timedelta object to capture a date interval"
   ]
  },
  {
   "cell_type": "code",
   "execution_count": 34,
   "id": "experimental-verification",
   "metadata": {},
   "outputs": [],
   "source": [
    "firstcase = covidcases.loc[covidcases['new_cases'] > 0,\n",
    "                           ['location', 'casedate']].sort_values(\n",
    "                               ['location', 'casedate']).drop_duplicates(\n",
    "                                   ['location'], keep='first').rename(\n",
    "                                       columns={'casedate': 'firstcasedate'})"
   ]
  },
  {
   "cell_type": "code",
   "execution_count": 36,
   "id": "relative-channels",
   "metadata": {},
   "outputs": [],
   "source": [
    "covidcases = pd.merge(covidcases,\n",
    "                      firstcase,\n",
    "                      left_on=['location'],\n",
    "                      right_on=['location'],\n",
    "                      how='left')"
   ]
  },
  {
   "cell_type": "code",
   "execution_count": 37,
   "id": "hawaiian-monkey",
   "metadata": {},
   "outputs": [],
   "source": [
    "covidcases['dayssincefirstcase'] = covidcases['casedate'] - covidcases[\n",
    "    'firstcasedate']"
   ]
  },
  {
   "cell_type": "code",
   "execution_count": 39,
   "id": "original-equation",
   "metadata": {},
   "outputs": [
    {
     "data": {
      "text/plain": [
       "count                         29529\n",
       "mean     56 days 00:15:12.892410850\n",
       "std      47 days 00:35:41.813685246\n",
       "min              -62 days +00:00:00\n",
       "25%                21 days 00:00:00\n",
       "50%                57 days 00:00:00\n",
       "75%                92 days 00:00:00\n",
       "max               194 days 00:00:00\n",
       "Name: dayssincefirstcase, dtype: object"
      ]
     },
     "execution_count": 39,
     "metadata": {},
     "output_type": "execute_result"
    }
   ],
   "source": [
    "covidcases['dayssincefirstcase'].describe()"
   ]
  },
  {
   "cell_type": "code",
   "execution_count": null,
   "id": "sharing-netherlands",
   "metadata": {},
   "outputs": [],
   "source": []
  }
 ],
 "metadata": {
  "kernelspec": {
   "display_name": "Python 3",
   "language": "python",
   "name": "python3"
  },
  "language_info": {
   "codemirror_mode": {
    "name": "ipython",
    "version": 3
   },
   "file_extension": ".py",
   "mimetype": "text/x-python",
   "name": "python",
   "nbconvert_exporter": "python",
   "pygments_lexer": "ipython3",
   "version": "3.7.9"
  },
  "toc": {
   "base_numbering": 1,
   "nav_menu": {},
   "number_sections": true,
   "sideBar": true,
   "skip_h1_title": false,
   "title_cell": "Table of Contents",
   "title_sidebar": "Contents",
   "toc_cell": true,
   "toc_position": {
    "height": "calc(100% - 180px)",
    "left": "10px",
    "top": "150px",
    "width": "279.273px"
   },
   "toc_section_display": true,
   "toc_window_display": false
  }
 },
 "nbformat": 4,
 "nbformat_minor": 5
}
