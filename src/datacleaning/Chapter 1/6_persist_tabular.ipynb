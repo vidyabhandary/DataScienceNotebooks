{
 "cells": [
  {
   "cell_type": "markdown",
   "id": "incorrect-fancy",
   "metadata": {
    "toc": true
   },
   "source": [
    "<h1>Table of Contents<span class=\"tocSkip\"></span></h1>\n",
    "<div class=\"toc\"><ul class=\"toc-item\"><li><span><a href=\"#Import-pandas-and-pyarrow-and-adjust-the-display\" data-toc-modified-id=\"Import-pandas-and-pyarrow-and-adjust-the-display-1\"><span class=\"toc-item-num\">1&nbsp;&nbsp;</span>Import pandas and pyarrow and adjust the display</a></span></li><li><span><a href=\"#Load-the-land-temperatures-CSV-file-into-pandas,-drop-rows-with-missing-data,-and-set-an-index\" data-toc-modified-id=\"Load-the-land-temperatures-CSV-file-into-pandas,-drop-rows-with-missing-data,-and-set-an-index-2\"><span class=\"toc-item-num\">2&nbsp;&nbsp;</span>Load the land temperatures CSV file into pandas, drop rows with missing data, and set an index</a></span></li><li><span><a href=\"#Write-extreme-values-for-temperature-to-CSV-and-Excel-files\" data-toc-modified-id=\"Write-extreme-values-for-temperature-to-CSV-and-Excel-files-3\"><span class=\"toc-item-num\">3&nbsp;&nbsp;</span>Write extreme values for temperature to CSV and Excel files</a></span></li><li><span><a href=\"#Save-to-pickle-and-feather-files\" data-toc-modified-id=\"Save-to-pickle-and-feather-files-4\"><span class=\"toc-item-num\">4&nbsp;&nbsp;</span>Save to pickle and feather files</a></span></li><li><span><a href=\"#Load-the-pickle-and-feather-files-we-just-saved\" data-toc-modified-id=\"Load-the-pickle-and-feather-files-we-just-saved-5\"><span class=\"toc-item-num\">5&nbsp;&nbsp;</span>Load the pickle and feather files we just saved</a></span></li></ul></div>"
   ]
  },
  {
   "cell_type": "markdown",
   "id": "faced-passport",
   "metadata": {},
   "source": [
    "# Import pandas and pyarrow and adjust the display"
   ]
  },
  {
   "cell_type": "code",
   "execution_count": 1,
   "id": "alpine-subsection",
   "metadata": {},
   "outputs": [],
   "source": [
    "# import pandas and pyarrow\n",
    "import pandas as pd\n",
    "import pyarrow"
   ]
  },
  {
   "cell_type": "code",
   "execution_count": 2,
   "id": "designed-evening",
   "metadata": {},
   "outputs": [],
   "source": [
    "# pd.options.display.float_format = '{:,.2f}'.format\n",
    "# pd.set_option('display.width', 68)\n",
    "# pd.set_option('display.max_columns', 3)"
   ]
  },
  {
   "cell_type": "code",
   "execution_count": 3,
   "id": "unsigned-investing",
   "metadata": {},
   "outputs": [
    {
     "name": "stdout",
     "output_type": "stream",
     "text": [
      "Python implementation: CPython\n",
      "Python version       : 3.7.9\n",
      "IPython version      : 7.20.0\n",
      "\n",
      "Git hash: 8a3e97ca83bad4351eec3ea3d9f803908bc0100f\n",
      "\n",
      "pandas   : 1.2.1\n",
      "json     : 2.0.9\n",
      "watermark: 2.1.0\n",
      "pyarrow  : 0.13.0\n",
      "\n"
     ]
    }
   ],
   "source": [
    "import watermark\n",
    "%load_ext watermark\n",
    "\n",
    "%watermark -n -v -g -iv"
   ]
  },
  {
   "cell_type": "markdown",
   "id": "center-success",
   "metadata": {},
   "source": [
    "# Load the land temperatures CSV file into pandas, drop rows with missing data, and set an index"
   ]
  },
  {
   "cell_type": "code",
   "execution_count": 4,
   "id": "seven-protocol",
   "metadata": {},
   "outputs": [],
   "source": [
    "landtemps = pd.read_csv('data/landtempssample.csv',\n",
    "                        names=[\n",
    "                            'stationid', 'year', 'month', 'avgtemp',\n",
    "                            'latitude', 'longitude', 'elevation', 'station',\n",
    "                            'countryid', 'country'\n",
    "                        ],\n",
    "                        skiprows=1,\n",
    "                        parse_dates=[['month', 'year']],\n",
    "                        low_memory=False)"
   ]
  },
  {
   "cell_type": "code",
   "execution_count": 5,
   "id": "periodic-firmware",
   "metadata": {},
   "outputs": [],
   "source": [
    "landtemps.rename(columns={'month_year':'measuredate'}, inplace=True)"
   ]
  },
  {
   "cell_type": "code",
   "execution_count": 6,
   "id": "therapeutic-thunder",
   "metadata": {},
   "outputs": [],
   "source": [
    "landtemps.dropna(subset=['avgtemp'], inplace=True)"
   ]
  },
  {
   "cell_type": "code",
   "execution_count": 7,
   "id": "duplicate-simple",
   "metadata": {},
   "outputs": [
    {
     "data": {
      "text/plain": [
       "measuredate    datetime64[ns]\n",
       "stationid              object\n",
       "avgtemp               float64\n",
       "latitude              float64\n",
       "longitude             float64\n",
       "elevation             float64\n",
       "station                object\n",
       "countryid              object\n",
       "country                object\n",
       "dtype: object"
      ]
     },
     "execution_count": 7,
     "metadata": {},
     "output_type": "execute_result"
    }
   ],
   "source": [
    "landtemps.dtypes"
   ]
  },
  {
   "cell_type": "code",
   "execution_count": 8,
   "id": "champion-satisfaction",
   "metadata": {},
   "outputs": [],
   "source": [
    "landtemps.set_index(['measuredate','stationid'], inplace=True)"
   ]
  },
  {
   "cell_type": "code",
   "execution_count": 9,
   "id": "middle-professor",
   "metadata": {},
   "outputs": [
    {
     "data": {
      "text/html": [
       "<div>\n",
       "<style scoped>\n",
       "    .dataframe tbody tr th:only-of-type {\n",
       "        vertical-align: middle;\n",
       "    }\n",
       "\n",
       "    .dataframe tbody tr th {\n",
       "        vertical-align: top;\n",
       "    }\n",
       "\n",
       "    .dataframe thead th {\n",
       "        text-align: right;\n",
       "    }\n",
       "</style>\n",
       "<table border=\"1\" class=\"dataframe\">\n",
       "  <thead>\n",
       "    <tr style=\"text-align: right;\">\n",
       "      <th></th>\n",
       "      <th></th>\n",
       "      <th>avgtemp</th>\n",
       "      <th>latitude</th>\n",
       "      <th>longitude</th>\n",
       "      <th>elevation</th>\n",
       "      <th>station</th>\n",
       "      <th>countryid</th>\n",
       "      <th>country</th>\n",
       "    </tr>\n",
       "    <tr>\n",
       "      <th>measuredate</th>\n",
       "      <th>stationid</th>\n",
       "      <th></th>\n",
       "      <th></th>\n",
       "      <th></th>\n",
       "      <th></th>\n",
       "      <th></th>\n",
       "      <th></th>\n",
       "      <th></th>\n",
       "    </tr>\n",
       "  </thead>\n",
       "  <tbody>\n",
       "    <tr>\n",
       "      <th>2000-04-01</th>\n",
       "      <th>USS0010K01S</th>\n",
       "      <td>5.27</td>\n",
       "      <td>39.9000</td>\n",
       "      <td>-110.7500</td>\n",
       "      <td>2773.7</td>\n",
       "      <td>INDIAN_CANYON</td>\n",
       "      <td>US</td>\n",
       "      <td>United States</td>\n",
       "    </tr>\n",
       "    <tr>\n",
       "      <th>1940-05-01</th>\n",
       "      <th>CI000085406</th>\n",
       "      <td>18.04</td>\n",
       "      <td>-18.3500</td>\n",
       "      <td>-70.3330</td>\n",
       "      <td>58.0</td>\n",
       "      <td>ARICA</td>\n",
       "      <td>CI</td>\n",
       "      <td>Chile</td>\n",
       "    </tr>\n",
       "    <tr>\n",
       "      <th>2013-12-01</th>\n",
       "      <th>USC00036376</th>\n",
       "      <td>6.22</td>\n",
       "      <td>34.3703</td>\n",
       "      <td>-91.1242</td>\n",
       "      <td>61.0</td>\n",
       "      <td>SAINT_CHARLES</td>\n",
       "      <td>US</td>\n",
       "      <td>United States</td>\n",
       "    </tr>\n",
       "    <tr>\n",
       "      <th>1963-02-01</th>\n",
       "      <th>ASN00024002</th>\n",
       "      <td>22.93</td>\n",
       "      <td>-34.2833</td>\n",
       "      <td>140.6000</td>\n",
       "      <td>65.5</td>\n",
       "      <td>BERRI_IRRIGATION</td>\n",
       "      <td>AS</td>\n",
       "      <td>Australia</td>\n",
       "    </tr>\n",
       "    <tr>\n",
       "      <th>1991-04-01</th>\n",
       "      <th>USW00024151</th>\n",
       "      <td>5.59</td>\n",
       "      <td>42.1492</td>\n",
       "      <td>-112.2872</td>\n",
       "      <td>1362.5</td>\n",
       "      <td>MALAD_CITY</td>\n",
       "      <td>US</td>\n",
       "      <td>United States</td>\n",
       "    </tr>\n",
       "  </tbody>\n",
       "</table>\n",
       "</div>"
      ],
      "text/plain": [
       "                         avgtemp  latitude  longitude  elevation  \\\n",
       "measuredate stationid                                              \n",
       "2000-04-01  USS0010K01S     5.27   39.9000  -110.7500     2773.7   \n",
       "1940-05-01  CI000085406    18.04  -18.3500   -70.3330       58.0   \n",
       "2013-12-01  USC00036376     6.22   34.3703   -91.1242       61.0   \n",
       "1963-02-01  ASN00024002    22.93  -34.2833   140.6000       65.5   \n",
       "1991-04-01  USW00024151     5.59   42.1492  -112.2872     1362.5   \n",
       "\n",
       "                                  station countryid        country  \n",
       "measuredate stationid                                               \n",
       "2000-04-01  USS0010K01S     INDIAN_CANYON        US  United States  \n",
       "1940-05-01  CI000085406             ARICA        CI          Chile  \n",
       "2013-12-01  USC00036376     SAINT_CHARLES        US  United States  \n",
       "1963-02-01  ASN00024002  BERRI_IRRIGATION        AS      Australia  \n",
       "1991-04-01  USW00024151        MALAD_CITY        US  United States  "
      ]
     },
     "execution_count": 9,
     "metadata": {},
     "output_type": "execute_result"
    }
   ],
   "source": [
    "landtemps.head()"
   ]
  },
  {
   "cell_type": "markdown",
   "id": "square-mexico",
   "metadata": {},
   "source": [
    "# Write extreme values for temperature to CSV and Excel files"
   ]
  },
  {
   "cell_type": "code",
   "execution_count": 10,
   "id": "possible-branch",
   "metadata": {},
   "outputs": [],
   "source": [
    "# Use the quantile method to select outlier rows, those at the 1-in-1,000 level at each end of the distribution\n",
    "\n",
    "extremevals = landtemps[\n",
    "    (landtemps['avgtemp'] < landtemps['avgtemp'].quantile(.001)) |\n",
    "    (landtemps['avgtemp'] > landtemps['avgtemp'].quantile(.999))]"
   ]
  },
  {
   "cell_type": "code",
   "execution_count": 11,
   "id": "integrated-collapse",
   "metadata": {},
   "outputs": [
    {
     "data": {
      "text/plain": [
       "(171, 7)"
      ]
     },
     "execution_count": 11,
     "metadata": {},
     "output_type": "execute_result"
    }
   ],
   "source": [
    "extremevals.shape"
   ]
  },
  {
   "cell_type": "code",
   "execution_count": 12,
   "id": "northern-criminal",
   "metadata": {},
   "outputs": [
    {
     "data": {
      "text/html": [
       "<div>\n",
       "<style scoped>\n",
       "    .dataframe tbody tr th:only-of-type {\n",
       "        vertical-align: middle;\n",
       "    }\n",
       "\n",
       "    .dataframe tbody tr th {\n",
       "        vertical-align: top;\n",
       "    }\n",
       "\n",
       "    .dataframe thead th {\n",
       "        text-align: right;\n",
       "    }\n",
       "</style>\n",
       "<table border=\"1\" class=\"dataframe\">\n",
       "  <thead>\n",
       "    <tr style=\"text-align: right;\">\n",
       "      <th></th>\n",
       "      <th></th>\n",
       "      <th>avgtemp</th>\n",
       "      <th>latitude</th>\n",
       "      <th>longitude</th>\n",
       "      <th>elevation</th>\n",
       "      <th>station</th>\n",
       "      <th>countryid</th>\n",
       "      <th>country</th>\n",
       "    </tr>\n",
       "    <tr>\n",
       "      <th>measuredate</th>\n",
       "      <th>stationid</th>\n",
       "      <th></th>\n",
       "      <th></th>\n",
       "      <th></th>\n",
       "      <th></th>\n",
       "      <th></th>\n",
       "      <th></th>\n",
       "      <th></th>\n",
       "    </tr>\n",
       "  </thead>\n",
       "  <tbody>\n",
       "    <tr>\n",
       "      <th>2004-06-01</th>\n",
       "      <th>MUM00041304</th>\n",
       "      <td>34.99</td>\n",
       "      <td>18.133</td>\n",
       "      <td>55.183</td>\n",
       "      <td>273.0</td>\n",
       "      <td>MARMUL</td>\n",
       "      <td>MU</td>\n",
       "      <td>Oman</td>\n",
       "    </tr>\n",
       "    <tr>\n",
       "      <th>2001-12-01</th>\n",
       "      <th>RSM00024871</th>\n",
       "      <td>-35.82</td>\n",
       "      <td>61.867</td>\n",
       "      <td>135.500</td>\n",
       "      <td>141.0</td>\n",
       "      <td>OHOTSKIJPEREVOZ</td>\n",
       "      <td>RS</td>\n",
       "      <td>Russia</td>\n",
       "    </tr>\n",
       "    <tr>\n",
       "      <th>1984-01-01</th>\n",
       "      <th>RSM00031054</th>\n",
       "      <td>-35.05</td>\n",
       "      <td>59.183</td>\n",
       "      <td>135.150</td>\n",
       "      <td>212.0</td>\n",
       "      <td>UST_JUDOMA</td>\n",
       "      <td>RS</td>\n",
       "      <td>Russia</td>\n",
       "    </tr>\n",
       "    <tr>\n",
       "      <th>1938-12-01</th>\n",
       "      <th>RSM00025138</th>\n",
       "      <td>-35.35</td>\n",
       "      <td>68.120</td>\n",
       "      <td>164.170</td>\n",
       "      <td>98.0</td>\n",
       "      <td>OSTROVNOE</td>\n",
       "      <td>RS</td>\n",
       "      <td>Russia</td>\n",
       "    </tr>\n",
       "    <tr>\n",
       "      <th>2001-05-01</th>\n",
       "      <th>MUM00041262</th>\n",
       "      <td>35.48</td>\n",
       "      <td>22.350</td>\n",
       "      <td>56.483</td>\n",
       "      <td>170.0</td>\n",
       "      <td>FAHUD_AUT</td>\n",
       "      <td>MU</td>\n",
       "      <td>Oman</td>\n",
       "    </tr>\n",
       "    <tr>\n",
       "      <th rowspan=\"2\" valign=\"top\">2018-09-01</th>\n",
       "      <th>AYM00089606</th>\n",
       "      <td>-63.35</td>\n",
       "      <td>-78.450</td>\n",
       "      <td>106.867</td>\n",
       "      <td>3488.0</td>\n",
       "      <td>VOSTOK</td>\n",
       "      <td>AY</td>\n",
       "      <td>Antarctica</td>\n",
       "    </tr>\n",
       "    <tr>\n",
       "      <th>AYW00090001</th>\n",
       "      <td>-62.40</td>\n",
       "      <td>-90.000</td>\n",
       "      <td>0.000</td>\n",
       "      <td>9999.0</td>\n",
       "      <td>AMUNDSEN_SCOTT</td>\n",
       "      <td>AY</td>\n",
       "      <td>Antarctica</td>\n",
       "    </tr>\n",
       "  </tbody>\n",
       "</table>\n",
       "</div>"
      ],
      "text/plain": [
       "                         avgtemp  latitude  longitude  elevation  \\\n",
       "measuredate stationid                                              \n",
       "2004-06-01  MUM00041304    34.99    18.133     55.183      273.0   \n",
       "2001-12-01  RSM00024871   -35.82    61.867    135.500      141.0   \n",
       "1984-01-01  RSM00031054   -35.05    59.183    135.150      212.0   \n",
       "1938-12-01  RSM00025138   -35.35    68.120    164.170       98.0   \n",
       "2001-05-01  MUM00041262    35.48    22.350     56.483      170.0   \n",
       "2018-09-01  AYM00089606   -63.35   -78.450    106.867     3488.0   \n",
       "            AYW00090001   -62.40   -90.000      0.000     9999.0   \n",
       "\n",
       "                                 station countryid     country  \n",
       "measuredate stationid                                           \n",
       "2004-06-01  MUM00041304           MARMUL        MU        Oman  \n",
       "2001-12-01  RSM00024871  OHOTSKIJPEREVOZ        RS      Russia  \n",
       "1984-01-01  RSM00031054       UST_JUDOMA        RS      Russia  \n",
       "1938-12-01  RSM00025138        OSTROVNOE        RS      Russia  \n",
       "2001-05-01  MUM00041262        FAHUD_AUT        MU        Oman  \n",
       "2018-09-01  AYM00089606           VOSTOK        AY  Antarctica  \n",
       "            AYW00090001   AMUNDSEN_SCOTT        AY  Antarctica  "
      ]
     },
     "execution_count": 12,
     "metadata": {},
     "output_type": "execute_result"
    }
   ],
   "source": [
    "extremevals.sample(7)"
   ]
  },
  {
   "cell_type": "code",
   "execution_count": 13,
   "id": "senior-devon",
   "metadata": {},
   "outputs": [],
   "source": [
    "extremevals.to_excel('views/tempext.xlsx')"
   ]
  },
  {
   "cell_type": "code",
   "execution_count": 14,
   "id": "applicable-trace",
   "metadata": {},
   "outputs": [],
   "source": [
    "extremevals.to_csv('views/tempext.csv')"
   ]
  },
  {
   "cell_type": "markdown",
   "id": "ruled-basics",
   "metadata": {},
   "source": [
    "# Save to pickle and feather files"
   ]
  },
  {
   "cell_type": "code",
   "execution_count": 15,
   "id": "fixed-disclaimer",
   "metadata": {},
   "outputs": [],
   "source": [
    "landtemps.to_pickle('data/landtemps.pkl')"
   ]
  },
  {
   "cell_type": "code",
   "execution_count": 16,
   "id": "superb-anime",
   "metadata": {},
   "outputs": [],
   "source": [
    "landtemps.reset_index(inplace=True)"
   ]
  },
  {
   "cell_type": "code",
   "execution_count": 17,
   "id": "little-chest",
   "metadata": {},
   "outputs": [],
   "source": [
    "# Pandas requires version '0.15.0' or newer of 'pyarrow' (version '0.13.0' currently installed).\n",
    "# landtemps.to_feather('data/landtemps.ftr')"
   ]
  },
  {
   "cell_type": "markdown",
   "id": "quick-delta",
   "metadata": {},
   "source": [
    "# Load the pickle and feather files we just saved"
   ]
  },
  {
   "cell_type": "code",
   "execution_count": 18,
   "id": "natural-cycling",
   "metadata": {},
   "outputs": [],
   "source": [
    "landtemps = pd.read_pickle('data/landtemps.pkl')"
   ]
  },
  {
   "cell_type": "code",
   "execution_count": 19,
   "id": "french-dressing",
   "metadata": {},
   "outputs": [
    {
     "data": {
      "text/html": [
       "<div>\n",
       "<style scoped>\n",
       "    .dataframe tbody tr th:only-of-type {\n",
       "        vertical-align: middle;\n",
       "    }\n",
       "\n",
       "    .dataframe tbody tr th {\n",
       "        vertical-align: top;\n",
       "    }\n",
       "\n",
       "    .dataframe thead tr th {\n",
       "        text-align: left;\n",
       "    }\n",
       "</style>\n",
       "<table border=\"1\" class=\"dataframe\">\n",
       "  <thead>\n",
       "    <tr>\n",
       "      <th>measuredate</th>\n",
       "      <th>2000-04-01</th>\n",
       "      <th>1940-05-01</th>\n",
       "    </tr>\n",
       "    <tr>\n",
       "      <th>stationid</th>\n",
       "      <th>USS0010K01S</th>\n",
       "      <th>CI000085406</th>\n",
       "    </tr>\n",
       "  </thead>\n",
       "  <tbody>\n",
       "    <tr>\n",
       "      <th>avgtemp</th>\n",
       "      <td>5.27</td>\n",
       "      <td>18.04</td>\n",
       "    </tr>\n",
       "    <tr>\n",
       "      <th>latitude</th>\n",
       "      <td>39.9</td>\n",
       "      <td>-18.35</td>\n",
       "    </tr>\n",
       "    <tr>\n",
       "      <th>longitude</th>\n",
       "      <td>-110.75</td>\n",
       "      <td>-70.333</td>\n",
       "    </tr>\n",
       "    <tr>\n",
       "      <th>elevation</th>\n",
       "      <td>2773.7</td>\n",
       "      <td>58.0</td>\n",
       "    </tr>\n",
       "    <tr>\n",
       "      <th>station</th>\n",
       "      <td>INDIAN_CANYON</td>\n",
       "      <td>ARICA</td>\n",
       "    </tr>\n",
       "    <tr>\n",
       "      <th>countryid</th>\n",
       "      <td>US</td>\n",
       "      <td>CI</td>\n",
       "    </tr>\n",
       "    <tr>\n",
       "      <th>country</th>\n",
       "      <td>United States</td>\n",
       "      <td>Chile</td>\n",
       "    </tr>\n",
       "  </tbody>\n",
       "</table>\n",
       "</div>"
      ],
      "text/plain": [
       "measuredate     2000-04-01  1940-05-01\n",
       "stationid      USS0010K01S CI000085406\n",
       "avgtemp               5.27       18.04\n",
       "latitude              39.9      -18.35\n",
       "longitude          -110.75     -70.333\n",
       "elevation           2773.7        58.0\n",
       "station      INDIAN_CANYON       ARICA\n",
       "countryid               US          CI\n",
       "country      United States       Chile"
      ]
     },
     "execution_count": 19,
     "metadata": {},
     "output_type": "execute_result"
    }
   ],
   "source": [
    "landtemps.head(2).T"
   ]
  },
  {
   "cell_type": "code",
   "execution_count": 20,
   "id": "endless-giant",
   "metadata": {},
   "outputs": [],
   "source": [
    "# Pandas requires version '0.15.0' or newer of 'pyarrow' (version '0.13.0' currently installed).\n",
    "# landtemps = pd.read_feather('data/landtemps.ftr')\n",
    "# landtemps.head(2).T"
   ]
  },
  {
   "cell_type": "code",
   "execution_count": null,
   "id": "rational-twins",
   "metadata": {},
   "outputs": [],
   "source": []
  }
 ],
 "metadata": {
  "kernelspec": {
   "display_name": "Python 3",
   "language": "python",
   "name": "python3"
  },
  "language_info": {
   "codemirror_mode": {
    "name": "ipython",
    "version": 3
   },
   "file_extension": ".py",
   "mimetype": "text/x-python",
   "name": "python",
   "nbconvert_exporter": "python",
   "pygments_lexer": "ipython3",
   "version": "3.7.9"
  },
  "toc": {
   "base_numbering": 1,
   "nav_menu": {},
   "number_sections": true,
   "sideBar": true,
   "skip_h1_title": false,
   "title_cell": "Table of Contents",
   "title_sidebar": "Contents",
   "toc_cell": true,
   "toc_position": {},
   "toc_section_display": true,
   "toc_window_display": false
  }
 },
 "nbformat": 4,
 "nbformat_minor": 5
}
