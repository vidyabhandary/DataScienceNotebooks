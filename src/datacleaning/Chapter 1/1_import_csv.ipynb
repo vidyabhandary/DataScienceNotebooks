{
 "cells": [
  {
   "cell_type": "code",
   "execution_count": 2,
   "id": "possible-relaxation",
   "metadata": {},
   "outputs": [],
   "source": [
    "import pandas as pd"
   ]
  },
  {
   "cell_type": "code",
   "execution_count": 3,
   "id": "critical-assessment",
   "metadata": {},
   "outputs": [],
   "source": [
    "pd.options.display.float_format = '{:,.2f}'.format"
   ]
  },
  {
   "cell_type": "code",
   "execution_count": 4,
   "id": "accurate-terrace",
   "metadata": {},
   "outputs": [],
   "source": [
    "pd.set_option('display.width', 75)\n",
    "pd.set_option('display.max_columns', 5)"
   ]
  },
  {
   "cell_type": "code",
   "execution_count": 5,
   "id": "happy-sydney",
   "metadata": {},
   "outputs": [
    {
     "data": {
      "text/plain": [
       "pandas.core.frame.DataFrame"
      ]
     },
     "execution_count": 5,
     "metadata": {},
     "output_type": "execute_result"
    }
   ],
   "source": [
    "# import the land temperature data\n",
    "landtemps = pd.read_csv('data/landtempssample.csv',\n",
    "    names=['stationid','year','month','avgtemp','latitude',\n",
    "      'longitude','elevation','station','countryid','country'],\n",
    "    skiprows=1,\n",
    "    parse_dates=[['month','year']],\n",
    "    low_memory=False)\n",
    "\n",
    "type(landtemps)"
   ]
  },
  {
   "cell_type": "code",
   "execution_count": 6,
   "id": "single-interpretation",
   "metadata": {},
   "outputs": [
    {
     "data": {
      "text/html": [
       "<div>\n",
       "<style scoped>\n",
       "    .dataframe tbody tr th:only-of-type {\n",
       "        vertical-align: middle;\n",
       "    }\n",
       "\n",
       "    .dataframe tbody tr th {\n",
       "        vertical-align: top;\n",
       "    }\n",
       "\n",
       "    .dataframe thead th {\n",
       "        text-align: right;\n",
       "    }\n",
       "</style>\n",
       "<table border=\"1\" class=\"dataframe\">\n",
       "  <thead>\n",
       "    <tr style=\"text-align: right;\">\n",
       "      <th></th>\n",
       "      <th>month_year</th>\n",
       "      <th>stationid</th>\n",
       "      <th>...</th>\n",
       "      <th>countryid</th>\n",
       "      <th>country</th>\n",
       "    </tr>\n",
       "  </thead>\n",
       "  <tbody>\n",
       "    <tr>\n",
       "      <th>0</th>\n",
       "      <td>2000-04-01</td>\n",
       "      <td>USS0010K01S</td>\n",
       "      <td>...</td>\n",
       "      <td>US</td>\n",
       "      <td>United States</td>\n",
       "    </tr>\n",
       "    <tr>\n",
       "      <th>1</th>\n",
       "      <td>1940-05-01</td>\n",
       "      <td>CI000085406</td>\n",
       "      <td>...</td>\n",
       "      <td>CI</td>\n",
       "      <td>Chile</td>\n",
       "    </tr>\n",
       "    <tr>\n",
       "      <th>2</th>\n",
       "      <td>2013-12-01</td>\n",
       "      <td>USC00036376</td>\n",
       "      <td>...</td>\n",
       "      <td>US</td>\n",
       "      <td>United States</td>\n",
       "    </tr>\n",
       "    <tr>\n",
       "      <th>3</th>\n",
       "      <td>1963-02-01</td>\n",
       "      <td>ASN00024002</td>\n",
       "      <td>...</td>\n",
       "      <td>AS</td>\n",
       "      <td>Australia</td>\n",
       "    </tr>\n",
       "    <tr>\n",
       "      <th>4</th>\n",
       "      <td>2001-11-01</td>\n",
       "      <td>ASN00028007</td>\n",
       "      <td>...</td>\n",
       "      <td>AS</td>\n",
       "      <td>Australia</td>\n",
       "    </tr>\n",
       "    <tr>\n",
       "      <th>5</th>\n",
       "      <td>1991-04-01</td>\n",
       "      <td>USW00024151</td>\n",
       "      <td>...</td>\n",
       "      <td>US</td>\n",
       "      <td>United States</td>\n",
       "    </tr>\n",
       "    <tr>\n",
       "      <th>6</th>\n",
       "      <td>1993-12-01</td>\n",
       "      <td>RSM00022641</td>\n",
       "      <td>...</td>\n",
       "      <td>RS</td>\n",
       "      <td>Russia</td>\n",
       "    </tr>\n",
       "  </tbody>\n",
       "</table>\n",
       "<p>7 rows × 9 columns</p>\n",
       "</div>"
      ],
      "text/plain": [
       "  month_year    stationid  ...  countryid        country\n",
       "0 2000-04-01  USS0010K01S  ...         US  United States\n",
       "1 1940-05-01  CI000085406  ...         CI          Chile\n",
       "2 2013-12-01  USC00036376  ...         US  United States\n",
       "3 1963-02-01  ASN00024002  ...         AS      Australia\n",
       "4 2001-11-01  ASN00028007  ...         AS      Australia\n",
       "5 1991-04-01  USW00024151  ...         US  United States\n",
       "6 1993-12-01  RSM00022641  ...         RS         Russia\n",
       "\n",
       "[7 rows x 9 columns]"
      ]
     },
     "execution_count": 6,
     "metadata": {},
     "output_type": "execute_result"
    }
   ],
   "source": [
    "landtemps.head(7)"
   ]
  },
  {
   "cell_type": "code",
   "execution_count": 7,
   "id": "brief-stations",
   "metadata": {},
   "outputs": [
    {
     "data": {
      "text/plain": [
       "month_year    datetime64[ns]\n",
       "stationid             object\n",
       "avgtemp              float64\n",
       "latitude             float64\n",
       "longitude            float64\n",
       "elevation            float64\n",
       "station               object\n",
       "countryid             object\n",
       "country               object\n",
       "dtype: object"
      ]
     },
     "execution_count": 7,
     "metadata": {},
     "output_type": "execute_result"
    }
   ],
   "source": [
    "landtemps.dtypes"
   ]
  },
  {
   "cell_type": "code",
   "execution_count": 8,
   "id": "moving-halloween",
   "metadata": {},
   "outputs": [
    {
     "data": {
      "text/plain": [
       "(100000, 9)"
      ]
     },
     "execution_count": 8,
     "metadata": {},
     "output_type": "execute_result"
    }
   ],
   "source": [
    "landtemps.shape"
   ]
  },
  {
   "cell_type": "code",
   "execution_count": 9,
   "id": "substantial-exclusion",
   "metadata": {},
   "outputs": [],
   "source": [
    "# fix the column name for the date\n",
    "landtemps.rename(columns={'month_year':'meauredate'}, inplace=True)"
   ]
  },
  {
   "cell_type": "code",
   "execution_count": 10,
   "id": "caroline-vegetarian",
   "metadata": {},
   "outputs": [
    {
     "data": {
      "text/plain": [
       "meauredate    datetime64[ns]\n",
       "stationid             object\n",
       "avgtemp              float64\n",
       "latitude             float64\n",
       "longitude            float64\n",
       "elevation            float64\n",
       "station               object\n",
       "countryid             object\n",
       "country               object\n",
       "dtype: object"
      ]
     },
     "execution_count": 10,
     "metadata": {},
     "output_type": "execute_result"
    }
   ],
   "source": [
    "landtemps.dtypes"
   ]
  },
  {
   "cell_type": "code",
   "execution_count": 11,
   "id": "civic-sterling",
   "metadata": {},
   "outputs": [
    {
     "data": {
      "text/plain": [
       "count   85,554.00\n",
       "mean        10.92\n",
       "std         11.52\n",
       "min        -70.70\n",
       "25%          3.46\n",
       "50%         12.22\n",
       "75%         19.57\n",
       "max         39.95\n",
       "Name: avgtemp, dtype: float64"
      ]
     },
     "execution_count": 11,
     "metadata": {},
     "output_type": "execute_result"
    }
   ],
   "source": [
    "landtemps['avgtemp'].describe()"
   ]
  },
  {
   "cell_type": "code",
   "execution_count": 12,
   "id": "given-adventure",
   "metadata": {},
   "outputs": [
    {
     "data": {
      "text/plain": [
       "meauredate        0\n",
       "stationid         0\n",
       "avgtemp       14446\n",
       "latitude          0\n",
       "longitude         0\n",
       "elevation         0\n",
       "station           0\n",
       "countryid         0\n",
       "country           5\n",
       "dtype: int64"
      ]
     },
     "execution_count": 12,
     "metadata": {},
     "output_type": "execute_result"
    }
   ],
   "source": [
    "landtemps.isnull().sum()"
   ]
  },
  {
   "cell_type": "code",
   "execution_count": 13,
   "id": "advanced-amino",
   "metadata": {},
   "outputs": [
    {
     "data": {
      "text/plain": [
       "(85554, 9)"
      ]
     },
     "execution_count": 13,
     "metadata": {},
     "output_type": "execute_result"
    }
   ],
   "source": [
    "landtemps.dropna(subset=['avgtemp'], inplace=True)\n",
    "landtemps.shape"
   ]
  },
  {
   "cell_type": "markdown",
   "id": "willing-understanding",
   "metadata": {},
   "source": [
    "If your machine can handle ~17 million rows."
   ]
  },
  {
   "cell_type": "code",
   "execution_count": 14,
   "id": "august-woman",
   "metadata": {},
   "outputs": [],
   "source": [
    "# # import pandas\n",
    "# import pandas as pd\n",
    "# pd.options.display.float_format = '{:,.2f}'.format\n",
    "# pd.set_option('display.width', 200)\n",
    "\n",
    "# # import the land temperature data\n",
    "# landtemps = pd.read_csv('data/landtemps.zip', compression='zip',\n",
    "#     names=['stationid','year','month','avgtemp','latitude',\n",
    "#       'longitude','elevation','station','countryid','country'],\n",
    "#     skiprows=1,\n",
    "#     parse_dates=[['month','year']],\n",
    "#     low_memory=False)\n",
    "\n",
    "# type(landtemps)\n",
    "\n",
    "# # show enough data to get a sense of how the import went\n",
    "# landtemps.head(7)\n",
    "# landtemps.sample(7)\n",
    "# landtemps.dtypes\n",
    "# landtemps.shape\n",
    "# landtemps[['avgtemp']].describe()\n",
    "\n",
    "# # remove rows with missing values\n",
    "# landtemps.dropna(subset=['avgtemp'], inplace=True)\n",
    "# landtemps.head(7)\n",
    "# landtemps.shape"
   ]
  },
  {
   "cell_type": "code",
   "execution_count": null,
   "id": "damaged-interview",
   "metadata": {},
   "outputs": [],
   "source": []
  }
 ],
 "metadata": {
  "kernelspec": {
   "display_name": "Python 3",
   "language": "python",
   "name": "python3"
  },
  "language_info": {
   "codemirror_mode": {
    "name": "ipython",
    "version": 3
   },
   "file_extension": ".py",
   "mimetype": "text/x-python",
   "name": "python",
   "nbconvert_exporter": "python",
   "pygments_lexer": "ipython3",
   "version": "3.8.5"
  },
  "toc": {
   "base_numbering": 1,
   "nav_menu": {},
   "number_sections": true,
   "sideBar": true,
   "skip_h1_title": false,
   "title_cell": "Table of Contents",
   "title_sidebar": "Contents",
   "toc_cell": false,
   "toc_position": {},
   "toc_section_display": true,
   "toc_window_display": false
  }
 },
 "nbformat": 4,
 "nbformat_minor": 5
}
