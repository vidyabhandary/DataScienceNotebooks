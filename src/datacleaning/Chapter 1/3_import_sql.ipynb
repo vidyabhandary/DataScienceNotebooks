{
 "cells": [
  {
   "cell_type": "code",
   "execution_count": 11,
   "id": "bizarre-pastor",
   "metadata": {},
   "outputs": [],
   "source": [
    "# Created new env - since mysql connector did not work with Python 3.8.0. New env has python 3.7"
   ]
  },
  {
   "cell_type": "code",
   "execution_count": 1,
   "id": "sized-rachel",
   "metadata": {},
   "outputs": [],
   "source": [
    "import pandas as pd\n",
    "import numpy as np\n",
    "import pymssql\n",
    "import mysql.connector"
   ]
  },
  {
   "cell_type": "code",
   "execution_count": 9,
   "id": "backed-footage",
   "metadata": {},
   "outputs": [],
   "source": [
    "pd.set_option('display.width', 75)\n",
    "pd.set_option('display.max_columns', 5)\n",
    "pd.options.display.float_format = '{:,.2f}'.format"
   ]
  },
  {
   "cell_type": "code",
   "execution_count": 2,
   "id": "simplified-house",
   "metadata": {},
   "outputs": [],
   "source": [
    "import watermark\n",
    "%load_ext watermark"
   ]
  },
  {
   "cell_type": "code",
   "execution_count": 3,
   "id": "endangered-horizontal",
   "metadata": {},
   "outputs": [
    {
     "name": "stdout",
     "output_type": "stream",
     "text": [
      "Python implementation: CPython\n",
      "Python version       : 3.7.9\n",
      "IPython version      : 7.20.0\n",
      "\n",
      "Git hash: cc72f8009bccf918348e746b7bc9945d84bf36e0\n",
      "\n",
      "watermark: 2.1.0\n",
      "numpy    : 1.19.2\n",
      "pandas   : 1.2.1\n",
      "pymssql  : 2.1.5\n",
      "json     : 2.0.9\n",
      "\n"
     ]
    }
   ],
   "source": [
    "%watermark -n -v -g -iv"
   ]
  },
  {
   "cell_type": "code",
   "execution_count": 5,
   "id": "certain-residence",
   "metadata": {},
   "outputs": [],
   "source": [
    "query = 'SELECT studentid, school, sex, age, famsize, \\\n",
    "medu AS mothereducation, fedu AS fathereducation, traveltime, \\\n",
    "studytime, failures, famrel, freetime,  goout, g1 AS gradeperiod1, \\\n",
    "g2 AS gradeperiod2, g3 AS gradeperiod3 From studentmath'"
   ]
  },
  {
   "cell_type": "code",
   "execution_count": 6,
   "id": "personal-implementation",
   "metadata": {},
   "outputs": [],
   "source": [
    "server = 'pdcc.c9sqqzd5fulv.us-west-2.rds.amazonaws.com'\n",
    "\n",
    "user = 'pdccuser'\n",
    "password = 'pdccpass'\n",
    "database = 'pdcctest'\n",
    "\n",
    "conn = pymssql.connect(server=server, user=user, password=password, database=database)\n",
    "studentmath = pd.read_sql(query,conn)\n",
    "conn.close()"
   ]
  },
  {
   "cell_type": "code",
   "execution_count": 7,
   "id": "cognitive-spirituality",
   "metadata": {},
   "outputs": [
    {
     "data": {
      "text/plain": [
       "studentid          object\n",
       "school             object\n",
       "sex                object\n",
       "age                 int64\n",
       "famsize            object\n",
       "mothereducation     int64\n",
       "fathereducation     int64\n",
       "traveltime          int64\n",
       "studytime           int64\n",
       "failures            int64\n",
       "famrel              int64\n",
       "freetime            int64\n",
       "goout               int64\n",
       "gradeperiod1        int64\n",
       "gradeperiod2        int64\n",
       "gradeperiod3        int64\n",
       "dtype: object"
      ]
     },
     "execution_count": 7,
     "metadata": {},
     "output_type": "execute_result"
    }
   ],
   "source": [
    "studentmath.dtypes"
   ]
  },
  {
   "cell_type": "code",
   "execution_count": 10,
   "id": "municipal-mexico",
   "metadata": {},
   "outputs": [
    {
     "data": {
      "text/html": [
       "<div>\n",
       "<style scoped>\n",
       "    .dataframe tbody tr th:only-of-type {\n",
       "        vertical-align: middle;\n",
       "    }\n",
       "\n",
       "    .dataframe tbody tr th {\n",
       "        vertical-align: top;\n",
       "    }\n",
       "\n",
       "    .dataframe thead th {\n",
       "        text-align: right;\n",
       "    }\n",
       "</style>\n",
       "<table border=\"1\" class=\"dataframe\">\n",
       "  <thead>\n",
       "    <tr style=\"text-align: right;\">\n",
       "      <th></th>\n",
       "      <th>studentid</th>\n",
       "      <th>school</th>\n",
       "      <th>...</th>\n",
       "      <th>gradeperiod2</th>\n",
       "      <th>gradeperiod3</th>\n",
       "    </tr>\n",
       "  </thead>\n",
       "  <tbody>\n",
       "    <tr>\n",
       "      <th>0</th>\n",
       "      <td>001</td>\n",
       "      <td>GP</td>\n",
       "      <td>...</td>\n",
       "      <td>6</td>\n",
       "      <td>6</td>\n",
       "    </tr>\n",
       "    <tr>\n",
       "      <th>1</th>\n",
       "      <td>002</td>\n",
       "      <td>GP</td>\n",
       "      <td>...</td>\n",
       "      <td>5</td>\n",
       "      <td>6</td>\n",
       "    </tr>\n",
       "    <tr>\n",
       "      <th>2</th>\n",
       "      <td>003</td>\n",
       "      <td>GP</td>\n",
       "      <td>...</td>\n",
       "      <td>8</td>\n",
       "      <td>10</td>\n",
       "    </tr>\n",
       "    <tr>\n",
       "      <th>3</th>\n",
       "      <td>004</td>\n",
       "      <td>GP</td>\n",
       "      <td>...</td>\n",
       "      <td>14</td>\n",
       "      <td>15</td>\n",
       "    </tr>\n",
       "    <tr>\n",
       "      <th>4</th>\n",
       "      <td>005</td>\n",
       "      <td>GP</td>\n",
       "      <td>...</td>\n",
       "      <td>10</td>\n",
       "      <td>10</td>\n",
       "    </tr>\n",
       "  </tbody>\n",
       "</table>\n",
       "<p>5 rows × 16 columns</p>\n",
       "</div>"
      ],
      "text/plain": [
       "  studentid school  ... gradeperiod2  gradeperiod3\n",
       "0       001     GP  ...            6             6\n",
       "1       002     GP  ...            5             6\n",
       "2       003     GP  ...            8            10\n",
       "3       004     GP  ...           14            15\n",
       "4       005     GP  ...           10            10\n",
       "\n",
       "[5 rows x 16 columns]"
      ]
     },
     "execution_count": 10,
     "metadata": {},
     "output_type": "execute_result"
    }
   ],
   "source": [
    "studentmath.head()"
   ]
  },
  {
   "cell_type": "code",
   "execution_count": 12,
   "id": "municipal-small",
   "metadata": {},
   "outputs": [],
   "source": [
    "# Alternative - Use the mysql connector and read_sql to get data from MySQL"
   ]
  },
  {
   "cell_type": "code",
   "execution_count": 13,
   "id": "floral-satellite",
   "metadata": {},
   "outputs": [],
   "source": [
    "host = 'pdccmysql.c9sqqzd5fulv.us-west-2.rds.amazonaws.com'\n",
    "\n",
    "user = 'pdccuser'\n",
    "password = 'pdccpass'\n",
    "database = 'pdccschema'"
   ]
  },
  {
   "cell_type": "code",
   "execution_count": 15,
   "id": "dominant-mileage",
   "metadata": {},
   "outputs": [],
   "source": [
    "connmysql = mysql.connector.connect(host=host, database=database, user=user, password=password)\n",
    "studentmath = pd.read_sql(query,connmysql)\n",
    "connmysql.close()"
   ]
  },
  {
   "cell_type": "code",
   "execution_count": 16,
   "id": "blank-trick",
   "metadata": {},
   "outputs": [
    {
     "data": {
      "text/html": [
       "<div>\n",
       "<style scoped>\n",
       "    .dataframe tbody tr th:only-of-type {\n",
       "        vertical-align: middle;\n",
       "    }\n",
       "\n",
       "    .dataframe tbody tr th {\n",
       "        vertical-align: top;\n",
       "    }\n",
       "\n",
       "    .dataframe thead th {\n",
       "        text-align: right;\n",
       "    }\n",
       "</style>\n",
       "<table border=\"1\" class=\"dataframe\">\n",
       "  <thead>\n",
       "    <tr style=\"text-align: right;\">\n",
       "      <th></th>\n",
       "      <th>studentid</th>\n",
       "      <th>school</th>\n",
       "      <th>...</th>\n",
       "      <th>gradeperiod2</th>\n",
       "      <th>gradeperiod3</th>\n",
       "    </tr>\n",
       "  </thead>\n",
       "  <tbody>\n",
       "    <tr>\n",
       "      <th>0</th>\n",
       "      <td>1</td>\n",
       "      <td>GP</td>\n",
       "      <td>...</td>\n",
       "      <td>6</td>\n",
       "      <td>6</td>\n",
       "    </tr>\n",
       "    <tr>\n",
       "      <th>1</th>\n",
       "      <td>2</td>\n",
       "      <td>GP</td>\n",
       "      <td>...</td>\n",
       "      <td>5</td>\n",
       "      <td>6</td>\n",
       "    </tr>\n",
       "    <tr>\n",
       "      <th>2</th>\n",
       "      <td>3</td>\n",
       "      <td>GP</td>\n",
       "      <td>...</td>\n",
       "      <td>8</td>\n",
       "      <td>10</td>\n",
       "    </tr>\n",
       "    <tr>\n",
       "      <th>3</th>\n",
       "      <td>4</td>\n",
       "      <td>GP</td>\n",
       "      <td>...</td>\n",
       "      <td>14</td>\n",
       "      <td>15</td>\n",
       "    </tr>\n",
       "    <tr>\n",
       "      <th>4</th>\n",
       "      <td>5</td>\n",
       "      <td>GP</td>\n",
       "      <td>...</td>\n",
       "      <td>10</td>\n",
       "      <td>10</td>\n",
       "    </tr>\n",
       "  </tbody>\n",
       "</table>\n",
       "<p>5 rows × 16 columns</p>\n",
       "</div>"
      ],
      "text/plain": [
       "   studentid school  ... gradeperiod2  gradeperiod3\n",
       "0          1     GP  ...            6             6\n",
       "1          2     GP  ...            5             6\n",
       "2          3     GP  ...            8            10\n",
       "3          4     GP  ...           14            15\n",
       "4          5     GP  ...           10            10\n",
       "\n",
       "[5 rows x 16 columns]"
      ]
     },
     "execution_count": 16,
     "metadata": {},
     "output_type": "execute_result"
    }
   ],
   "source": [
    "studentmath.head()"
   ]
  },
  {
   "cell_type": "code",
   "execution_count": 17,
   "id": "third-billion",
   "metadata": {},
   "outputs": [
    {
     "name": "stdout",
     "output_type": "stream",
     "text": [
      "<class 'pandas.core.frame.DataFrame'>\n",
      "RangeIndex: 395 entries, 0 to 394\n",
      "Data columns (total 16 columns):\n",
      " #   Column           Non-Null Count  Dtype \n",
      "---  ------           --------------  ----- \n",
      " 0   studentid        395 non-null    int64 \n",
      " 1   school           395 non-null    object\n",
      " 2   sex              395 non-null    object\n",
      " 3   age              395 non-null    int64 \n",
      " 4   famsize          395 non-null    object\n",
      " 5   mothereducation  395 non-null    int64 \n",
      " 6   fathereducation  395 non-null    int64 \n",
      " 7   traveltime       395 non-null    int64 \n",
      " 8   studytime        395 non-null    int64 \n",
      " 9   failures         395 non-null    int64 \n",
      " 10  famrel           395 non-null    int64 \n",
      " 11  freetime         395 non-null    int64 \n",
      " 12  goout            395 non-null    int64 \n",
      " 13  gradeperiod1     395 non-null    int64 \n",
      " 14  gradeperiod2     395 non-null    int64 \n",
      " 15  gradeperiod3     395 non-null    int64 \n",
      "dtypes: int64(13), object(3)\n",
      "memory usage: 49.5+ KB\n"
     ]
    }
   ],
   "source": [
    "studentmath.info()"
   ]
  },
  {
   "cell_type": "code",
   "execution_count": 18,
   "id": "stylish-opinion",
   "metadata": {},
   "outputs": [],
   "source": [
    "# rearrange columns and set an index\n",
    "newcolorder = ['studentid', 'gradeperiod1', 'gradeperiod2',\n",
    "  'gradeperiod3', 'school', 'sex', 'age', 'famsize',\n",
    "  'mothereducation', 'fathereducation', 'traveltime',\n",
    "  'studytime', 'freetime', 'failures', 'famrel',\n",
    "  'goout']"
   ]
  },
  {
   "cell_type": "code",
   "execution_count": 19,
   "id": "threatened-complex",
   "metadata": {},
   "outputs": [],
   "source": [
    "studentmath = studentmath[newcolorder]"
   ]
  },
  {
   "cell_type": "code",
   "execution_count": 20,
   "id": "otherwise-sierra",
   "metadata": {},
   "outputs": [
    {
     "data": {
      "text/plain": [
       "395"
      ]
     },
     "execution_count": 20,
     "metadata": {},
     "output_type": "execute_result"
    }
   ],
   "source": [
    "studentmath.studentid.count()"
   ]
  },
  {
   "cell_type": "code",
   "execution_count": 21,
   "id": "stuffed-executive",
   "metadata": {},
   "outputs": [
    {
     "data": {
      "text/plain": [
       "395"
      ]
     },
     "execution_count": 21,
     "metadata": {},
     "output_type": "execute_result"
    }
   ],
   "source": [
    "studentmath.studentid.nunique()"
   ]
  },
  {
   "cell_type": "code",
   "execution_count": 22,
   "id": "coastal-dylan",
   "metadata": {},
   "outputs": [],
   "source": [
    "studentmath.set_index('studentid', inplace=True)"
   ]
  },
  {
   "cell_type": "code",
   "execution_count": 23,
   "id": "geographic-sweden",
   "metadata": {},
   "outputs": [
    {
     "data": {
      "text/plain": [
       "gradeperiod1       395\n",
       "gradeperiod2       395\n",
       "gradeperiod3       395\n",
       "school             395\n",
       "sex                395\n",
       "age                395\n",
       "famsize            395\n",
       "mothereducation    395\n",
       "fathereducation    395\n",
       "traveltime         395\n",
       "studytime          395\n",
       "freetime           395\n",
       "failures           395\n",
       "famrel             395\n",
       "goout              395\n",
       "dtype: int64"
      ]
     },
     "execution_count": 23,
     "metadata": {},
     "output_type": "execute_result"
    }
   ],
   "source": [
    "studentmath.count()"
   ]
  },
  {
   "cell_type": "code",
   "execution_count": 24,
   "id": "geographic-construction",
   "metadata": {},
   "outputs": [],
   "source": [
    "# add codes to data values\n",
    "setvalues={'famrel':{1:'1:very bad',2:'2:bad',3:'3:neutral',\n",
    "    4:'4:good',5:'5:excellent'},\n",
    "  'freetime':{1:'1:very low',2:'2:low',3:'3:neutral',\n",
    "    4:'4:high',5:'5:very high'},\n",
    "  'goout':{1:'1:very low',2:'2:low',3:'3:neutral',\n",
    "    4:'4:high',5:'5:very high'},\n",
    "  'mothereducation':{0:np.nan,1:'1:k-4',2:'2:5-9',\n",
    "    3:'3:secondary ed',4:'4:higher ed'},\n",
    "  'fathereducation':{0:np.nan,1:'1:k-4',2:'2:5-9',\n",
    "    3:'3:secondary ed',4:'4:higher ed'}}"
   ]
  },
  {
   "cell_type": "code",
   "execution_count": 25,
   "id": "german-karen",
   "metadata": {},
   "outputs": [],
   "source": [
    "studentmath.replace(setvalues, inplace=True)\n",
    "setvalueskeys = [k for k in setvalues]"
   ]
  },
  {
   "cell_type": "code",
   "execution_count": 28,
   "id": "gorgeous-albert",
   "metadata": {},
   "outputs": [
    {
     "data": {
      "text/html": [
       "<div>\n",
       "<style scoped>\n",
       "    .dataframe tbody tr th:only-of-type {\n",
       "        vertical-align: middle;\n",
       "    }\n",
       "\n",
       "    .dataframe tbody tr th {\n",
       "        vertical-align: top;\n",
       "    }\n",
       "\n",
       "    .dataframe thead th {\n",
       "        text-align: right;\n",
       "    }\n",
       "</style>\n",
       "<table border=\"1\" class=\"dataframe\">\n",
       "  <thead>\n",
       "    <tr style=\"text-align: right;\">\n",
       "      <th></th>\n",
       "      <th>gradeperiod1</th>\n",
       "      <th>gradeperiod2</th>\n",
       "      <th>...</th>\n",
       "      <th>famrel</th>\n",
       "      <th>goout</th>\n",
       "    </tr>\n",
       "    <tr>\n",
       "      <th>studentid</th>\n",
       "      <th></th>\n",
       "      <th></th>\n",
       "      <th></th>\n",
       "      <th></th>\n",
       "      <th></th>\n",
       "    </tr>\n",
       "  </thead>\n",
       "  <tbody>\n",
       "    <tr>\n",
       "      <th>391</th>\n",
       "      <td>9</td>\n",
       "      <td>9</td>\n",
       "      <td>...</td>\n",
       "      <td>5:excellent</td>\n",
       "      <td>4:high</td>\n",
       "    </tr>\n",
       "    <tr>\n",
       "      <th>392</th>\n",
       "      <td>14</td>\n",
       "      <td>16</td>\n",
       "      <td>...</td>\n",
       "      <td>2:bad</td>\n",
       "      <td>5:very high</td>\n",
       "    </tr>\n",
       "    <tr>\n",
       "      <th>393</th>\n",
       "      <td>10</td>\n",
       "      <td>8</td>\n",
       "      <td>...</td>\n",
       "      <td>5:excellent</td>\n",
       "      <td>3:neutral</td>\n",
       "    </tr>\n",
       "    <tr>\n",
       "      <th>394</th>\n",
       "      <td>11</td>\n",
       "      <td>12</td>\n",
       "      <td>...</td>\n",
       "      <td>4:good</td>\n",
       "      <td>1:very low</td>\n",
       "    </tr>\n",
       "    <tr>\n",
       "      <th>395</th>\n",
       "      <td>8</td>\n",
       "      <td>9</td>\n",
       "      <td>...</td>\n",
       "      <td>3:neutral</td>\n",
       "      <td>3:neutral</td>\n",
       "    </tr>\n",
       "  </tbody>\n",
       "</table>\n",
       "<p>5 rows × 15 columns</p>\n",
       "</div>"
      ],
      "text/plain": [
       "           gradeperiod1  gradeperiod2  ...       famrel        goout\n",
       "studentid                              ...                          \n",
       "391                   9             9  ...  5:excellent       4:high\n",
       "392                  14            16  ...        2:bad  5:very high\n",
       "393                  10             8  ...  5:excellent    3:neutral\n",
       "394                  11            12  ...       4:good   1:very low\n",
       "395                   8             9  ...    3:neutral    3:neutral\n",
       "\n",
       "[5 rows x 15 columns]"
      ]
     },
     "execution_count": 28,
     "metadata": {},
     "output_type": "execute_result"
    }
   ],
   "source": [
    "studentmath.tail()"
   ]
  },
  {
   "cell_type": "code",
   "execution_count": 26,
   "id": "absent-whale",
   "metadata": {},
   "outputs": [
    {
     "data": {
      "text/plain": [
       "['famrel', 'freetime', 'goout', 'mothereducation', 'fathereducation']"
      ]
     },
     "execution_count": 26,
     "metadata": {},
     "output_type": "execute_result"
    }
   ],
   "source": [
    "setvalueskeys"
   ]
  },
  {
   "cell_type": "code",
   "execution_count": 27,
   "id": "level-porcelain",
   "metadata": {},
   "outputs": [
    {
     "data": {
      "text/plain": [
       "famrel             3160\n",
       "freetime           3160\n",
       "goout              3160\n",
       "mothereducation    3160\n",
       "fathereducation    3160\n",
       "dtype: int64"
      ]
     },
     "execution_count": 27,
     "metadata": {},
     "output_type": "execute_result"
    }
   ],
   "source": [
    "studentmath[setvalueskeys].memory_usage(index=False)"
   ]
  },
  {
   "cell_type": "code",
   "execution_count": 29,
   "id": "minus-utilization",
   "metadata": {},
   "outputs": [],
   "source": [
    "for col in studentmath[setvalueskeys].columns:\n",
    "    studentmath[col] = studentmath[col].astype('category') "
   ]
  },
  {
   "cell_type": "code",
   "execution_count": 30,
   "id": "naked-ownership",
   "metadata": {},
   "outputs": [
    {
     "data": {
      "text/plain": [
       "famrel             607\n",
       "freetime           607\n",
       "goout              607\n",
       "mothereducation    599\n",
       "fathereducation    599\n",
       "dtype: int64"
      ]
     },
     "execution_count": 30,
     "metadata": {},
     "output_type": "execute_result"
    }
   ],
   "source": [
    "studentmath[setvalueskeys].memory_usage(index=False)"
   ]
  },
  {
   "cell_type": "code",
   "execution_count": 31,
   "id": "documentary-flush",
   "metadata": {},
   "outputs": [
    {
     "data": {
      "text/plain": [
       "1:very bad    0.02\n",
       "2:bad         0.05\n",
       "3:neutral     0.17\n",
       "4:good        0.49\n",
       "5:excellent   0.27\n",
       "Name: famrel, dtype: float64"
      ]
     },
     "execution_count": 31,
     "metadata": {},
     "output_type": "execute_result"
    }
   ],
   "source": [
    "# Calculate percentages for values in the famrel column.\n",
    "\n",
    "studentmath['famrel'].value_counts(sort=False,normalize=True)"
   ]
  },
  {
   "cell_type": "code",
   "execution_count": 32,
   "id": "arabic-order",
   "metadata": {},
   "outputs": [
    {
     "data": {
      "text/html": [
       "<div>\n",
       "<style scoped>\n",
       "    .dataframe tbody tr th:only-of-type {\n",
       "        vertical-align: middle;\n",
       "    }\n",
       "\n",
       "    .dataframe tbody tr th {\n",
       "        vertical-align: top;\n",
       "    }\n",
       "\n",
       "    .dataframe thead th {\n",
       "        text-align: right;\n",
       "    }\n",
       "</style>\n",
       "<table border=\"1\" class=\"dataframe\">\n",
       "  <thead>\n",
       "    <tr style=\"text-align: right;\">\n",
       "      <th></th>\n",
       "      <th>freetime</th>\n",
       "      <th>goout</th>\n",
       "    </tr>\n",
       "  </thead>\n",
       "  <tbody>\n",
       "    <tr>\n",
       "      <th>1:very low</th>\n",
       "      <td>0.05</td>\n",
       "      <td>0.06</td>\n",
       "    </tr>\n",
       "    <tr>\n",
       "      <th>2:low</th>\n",
       "      <td>0.16</td>\n",
       "      <td>0.26</td>\n",
       "    </tr>\n",
       "    <tr>\n",
       "      <th>3:neutral</th>\n",
       "      <td>0.40</td>\n",
       "      <td>0.33</td>\n",
       "    </tr>\n",
       "    <tr>\n",
       "      <th>4:high</th>\n",
       "      <td>0.29</td>\n",
       "      <td>0.22</td>\n",
       "    </tr>\n",
       "    <tr>\n",
       "      <th>5:very high</th>\n",
       "      <td>0.10</td>\n",
       "      <td>0.13</td>\n",
       "    </tr>\n",
       "  </tbody>\n",
       "</table>\n",
       "</div>"
      ],
      "text/plain": [
       "             freetime  goout\n",
       "1:very low       0.05   0.06\n",
       "2:low            0.16   0.26\n",
       "3:neutral        0.40   0.33\n",
       "4:high           0.29   0.22\n",
       "5:very high      0.10   0.13"
      ]
     },
     "execution_count": 32,
     "metadata": {},
     "output_type": "execute_result"
    }
   ],
   "source": [
    "# Use apply to calculate percentages for multiple columns:\n",
    "\n",
    "studentmath[['freetime', 'goout']].apply(pd.Series.value_counts, sort=False, normalize=True)"
   ]
  },
  {
   "cell_type": "code",
   "execution_count": 33,
   "id": "classified-madness",
   "metadata": {},
   "outputs": [
    {
     "data": {
      "text/html": [
       "<div>\n",
       "<style scoped>\n",
       "    .dataframe tbody tr th:only-of-type {\n",
       "        vertical-align: middle;\n",
       "    }\n",
       "\n",
       "    .dataframe tbody tr th {\n",
       "        vertical-align: top;\n",
       "    }\n",
       "\n",
       "    .dataframe thead th {\n",
       "        text-align: right;\n",
       "    }\n",
       "</style>\n",
       "<table border=\"1\" class=\"dataframe\">\n",
       "  <thead>\n",
       "    <tr style=\"text-align: right;\">\n",
       "      <th></th>\n",
       "      <th>mothereducation</th>\n",
       "      <th>fathereducation</th>\n",
       "    </tr>\n",
       "  </thead>\n",
       "  <tbody>\n",
       "    <tr>\n",
       "      <th>1:k-4</th>\n",
       "      <td>0.15</td>\n",
       "      <td>0.21</td>\n",
       "    </tr>\n",
       "    <tr>\n",
       "      <th>2:5-9</th>\n",
       "      <td>0.26</td>\n",
       "      <td>0.29</td>\n",
       "    </tr>\n",
       "    <tr>\n",
       "      <th>3:secondary ed</th>\n",
       "      <td>0.25</td>\n",
       "      <td>0.25</td>\n",
       "    </tr>\n",
       "    <tr>\n",
       "      <th>4:higher ed</th>\n",
       "      <td>0.33</td>\n",
       "      <td>0.24</td>\n",
       "    </tr>\n",
       "  </tbody>\n",
       "</table>\n",
       "</div>"
      ],
      "text/plain": [
       "                mothereducation  fathereducation\n",
       "1:k-4                      0.15             0.21\n",
       "2:5-9                      0.26             0.29\n",
       "3:secondary ed             0.25             0.25\n",
       "4:higher ed                0.33             0.24"
      ]
     },
     "execution_count": 33,
     "metadata": {},
     "output_type": "execute_result"
    }
   ],
   "source": [
    "studentmath[['mothereducation', 'fathereducation']].apply(pd.Series.value_counts, sort=False, normalize=True)"
   ]
  },
  {
   "cell_type": "code",
   "execution_count": null,
   "id": "threaded-facing",
   "metadata": {},
   "outputs": [],
   "source": []
  }
 ],
 "metadata": {
  "kernelspec": {
   "display_name": "Python 3",
   "language": "python",
   "name": "python3"
  },
  "language_info": {
   "codemirror_mode": {
    "name": "ipython",
    "version": 3
   },
   "file_extension": ".py",
   "mimetype": "text/x-python",
   "name": "python",
   "nbconvert_exporter": "python",
   "pygments_lexer": "ipython3",
   "version": "3.7.9"
  },
  "toc": {
   "base_numbering": 1,
   "nav_menu": {},
   "number_sections": true,
   "sideBar": true,
   "skip_h1_title": false,
   "title_cell": "Table of Contents",
   "title_sidebar": "Contents",
   "toc_cell": false,
   "toc_position": {},
   "toc_section_display": true,
   "toc_window_display": false
  }
 },
 "nbformat": 4,
 "nbformat_minor": 5
}
